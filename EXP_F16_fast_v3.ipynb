{
 "cells": [
  {
   "cell_type": "code",
   "execution_count": 1,
   "metadata": {
    "_cell_guid": "b1076dfc-b9ad-4769-8c92-a6c4dae69d19",
    "_uuid": "8f2839f25d086af736a60e9eeb907d3b93b6e0e5"
   },
   "outputs": [
    {
     "name": "stdout",
     "output_type": "stream",
     "text": [
      "Supported Device:  cuda\n"
     ]
    }
   ],
   "source": [
    "from tqdm import tqdm\n",
    "from pathlib import Path\n",
    "\n",
    "import numpy as np\n",
    "import pandas as pd\n",
    "import polars as pl\n",
    "\n",
    "import matplotlib.pyplot as plt\n",
    "from sklearn import metrics\n",
    "\n",
    "import torch\n",
    "from torch import nn\n",
    "from torch import optim\n",
    "from torch.optim import lr_scheduler\n",
    "from torch.utils.data import Dataset\n",
    "from torch.utils.data import DataLoader\n",
    "from torch.utils.data import random_split\n",
    "\n",
    "torch.manual_seed(667)\n",
    "\n",
    "DEVICE = torch.device(\"cuda\" if torch.cuda.is_available() else \"cpu\")\n",
    "print(\"Supported Device: \", DEVICE)"
   ]
  },
  {
   "cell_type": "code",
   "execution_count": 2,
   "metadata": {},
   "outputs": [],
   "source": [
    "#!pip install polars"
   ]
  },
  {
   "cell_type": "code",
   "execution_count": 3,
   "metadata": {},
   "outputs": [],
   "source": [
    "# EXT_SRC: It contains 1 million randomly selected and shuffled rows from the original dataset.\n",
    "\n",
    "\n",
    "TRAIN_PATH = \"train_data_sample_1kk.parquet\"\n",
    "TRAIN_PATH = \"train_sampled_1m.parquet\"\n",
    "TRAIN_PATH = \"train_data_sample_3kk_part_1.parquet\"\n",
    "TRAIN_PATH = \"train_data_sample_3kk_part_2.parquet\"\n",
    "\n",
    "#TRAIN_PATH = \"dataset_f16_5kk_part_1.parquet\"\n",
    "TRAIN_PATH = \"dataset_f16_5kk_part_2.parquet\"\n",
    "\n",
    "TRAIN_PATH = 'dataset_f16_3.6m_sample.parquet'\n",
    "\n",
    "#TRAIN_PATH = 'dataset_f16_300k_sample.parquet'\n",
    "\n",
    "NUM_EPOCHS = 50\n",
    "BATCH_SIZE = 256\n",
    "LEARNING_RATE = 1e-4\n",
    "ERR = 1e-16\n",
    "\n",
    "NUM_STEPS = 3000\n",
    "\n",
    "TRAIN_SIZE = 3_600_000 - 325_000\n",
    "VALID_SIZE = 325_000\n",
    "\n",
    "#TRAIN_SIZE = 250_000\n",
    "#VALID_SIZE = 50_000\n",
    "\n",
    "DIM_FEATURES = 556\n",
    "DIM_TARGETS = 368"
   ]
  },
  {
   "cell_type": "code",
   "execution_count": 4,
   "metadata": {},
   "outputs": [],
   "source": [
    "pd.set_option('display.max_columns', None)"
   ]
  },
  {
   "cell_type": "code",
   "execution_count": 5,
   "metadata": {},
   "outputs": [],
   "source": [
    "#df = pd.read_parquet('dataset_f16_300k_sample.parquet')"
   ]
  },
  {
   "cell_type": "code",
   "execution_count": 6,
   "metadata": {},
   "outputs": [],
   "source": [
    "#df"
   ]
  },
  {
   "cell_type": "code",
   "execution_count": 7,
   "metadata": {},
   "outputs": [],
   "source": [
    "#df[['pbuf_N2O_24', 'pbuf_N2O_25', 'pbuf_N2O_26', 'pbuf_N2O_27', 'pbuf_N2O_28', 'pbuf_N2O_29', 'pbuf_N2O_30',\n",
    "       # 'pbuf_N2O_31', 'pbuf_N2O_32', 'pbuf_N2O_33', 'pbuf_N2O_34',\n",
    "       # 'pbuf_N2O_35', 'pbuf_N2O_36', 'pbuf_N2O_37', 'pbuf_N2O_38',\n",
    "       # 'pbuf_N2O_39', 'pbuf_N2O_40', 'pbuf_N2O_41', 'pbuf_N2O_42',\n",
    "       # 'pbuf_N2O_43', 'pbuf_N2O_44', 'pbuf_N2O_45', 'pbuf_N2O_46',\n",
    "       # 'pbuf_N2O_47', 'pbuf_N2O_48', 'pbuf_N2O_49', 'pbuf_N2O_50',\n",
    "       # 'pbuf_N2O_51', 'pbuf_N2O_52', 'pbuf_N2O_53', 'pbuf_N2O_54',\n",
    "       # 'pbuf_N2O_55', 'pbuf_N2O_56', 'pbuf_N2O_57', 'pbuf_N2O_58',\n",
    "       # 'pbuf_N2O_59']]"
   ]
  },
  {
   "cell_type": "code",
   "execution_count": 8,
   "metadata": {},
   "outputs": [],
   "source": [
    "ID = \"sample_id\"\n",
    "\n",
    "# INPUT COLUMNS\n",
    "\n",
    "STATE_PS = \"state_ps\"\n",
    "\n",
    "PBUF_SOLIN = \"pbuf_SOLIN\"\n",
    "PBUF_LHFLX = \"pbuf_LHFLX\"\n",
    "PBUF_SHFLX = \"pbuf_SHFLX\"\n",
    "PBUF_TAUX = \"pbuf_TAUX\"\n",
    "PBUF_TAUY = \"pbuf_TAUY\"\n",
    "PBUF_COSZRS = \"pbuf_COSZRS\"\n",
    "\n",
    "CAM_IN_ALDIF = \"cam_in_ALDIF\"\n",
    "CAM_IN_ALDIR = \"cam_in_ALDIR\"\n",
    "CAM_IN_ASDIF = \"cam_in_ASDIF\"\n",
    "CAM_IN_ASDIR = \"cam_in_ASDIR\"\n",
    "CAM_IN_LWUP = \"cam_in_LWUP\"\n",
    "CAM_IN_ICEFRAC = \"cam_in_ICEFRAC\"\n",
    "CAM_IN_LANDFRAC = \"cam_in_LANDFRAC\"\n",
    "CAM_IN_OCNFRAC = \"cam_in_OCNFRAC\"\n",
    "CAM_IN_SNOWHLAND = \"cam_in_SNOWHLAND\"\n",
    "\n",
    "STATE_U = ['state_u_0', 'state_u_1', 'state_u_2', 'state_u_3', 'state_u_4', 'state_u_5', 'state_u_6', 'state_u_7', 'state_u_8', 'state_u_9', 'state_u_10', 'state_u_11', 'state_u_12', 'state_u_13', 'state_u_14', 'state_u_15', 'state_u_16', 'state_u_17', 'state_u_18', 'state_u_19', 'state_u_20', 'state_u_21', 'state_u_22', 'state_u_23', 'state_u_24', 'state_u_25', 'state_u_26', 'state_u_27', 'state_u_28', 'state_u_29', 'state_u_30', 'state_u_31', 'state_u_32', 'state_u_33', 'state_u_34', 'state_u_35', 'state_u_36', 'state_u_37', 'state_u_38', 'state_u_39', 'state_u_40', 'state_u_41', 'state_u_42', 'state_u_43', 'state_u_44', 'state_u_45', 'state_u_46', 'state_u_47', 'state_u_48', 'state_u_49', 'state_u_50', 'state_u_51', 'state_u_52', 'state_u_53', 'state_u_54', 'state_u_55', 'state_u_56', 'state_u_57', 'state_u_58', 'state_u_59']\n",
    "STATE_V = ['state_v_0', 'state_v_1', 'state_v_2', 'state_v_3', 'state_v_4', 'state_v_5', 'state_v_6', 'state_v_7', 'state_v_8', 'state_v_9', 'state_v_10', 'state_v_11', 'state_v_12', 'state_v_13', 'state_v_14', 'state_v_15', 'state_v_16', 'state_v_17', 'state_v_18', 'state_v_19', 'state_v_20', 'state_v_21', 'state_v_22', 'state_v_23', 'state_v_24', 'state_v_25', 'state_v_26', 'state_v_27', 'state_v_28', 'state_v_29', 'state_v_30', 'state_v_31', 'state_v_32', 'state_v_33', 'state_v_34', 'state_v_35', 'state_v_36', 'state_v_37', 'state_v_38', 'state_v_39', 'state_v_40', 'state_v_41', 'state_v_42', 'state_v_43', 'state_v_44', 'state_v_45', 'state_v_46', 'state_v_47', 'state_v_48', 'state_v_49', 'state_v_50', 'state_v_51', 'state_v_52', 'state_v_53', 'state_v_54', 'state_v_55', 'state_v_56', 'state_v_57', 'state_v_58', 'state_v_59']\n",
    "STATE_T = ['state_t_0', 'state_t_1', 'state_t_2', 'state_t_3', 'state_t_4', 'state_t_5', 'state_t_6', 'state_t_7', 'state_t_8', 'state_t_9', 'state_t_10', 'state_t_11', 'state_t_12', 'state_t_13', 'state_t_14', 'state_t_15', 'state_t_16', 'state_t_17', 'state_t_18', 'state_t_19', 'state_t_20', 'state_t_21', 'state_t_22', 'state_t_23', 'state_t_24', 'state_t_25', 'state_t_26', 'state_t_27', 'state_t_28', 'state_t_29', 'state_t_30', 'state_t_31', 'state_t_32', 'state_t_33', 'state_t_34', 'state_t_35', 'state_t_36', 'state_t_37', 'state_t_38', 'state_t_39', 'state_t_40', 'state_t_41', 'state_t_42', 'state_t_43', 'state_t_44', 'state_t_45', 'state_t_46', 'state_t_47', 'state_t_48', 'state_t_49', 'state_t_50', 'state_t_51', 'state_t_52', 'state_t_53', 'state_t_54', 'state_t_55', 'state_t_56', 'state_t_57', 'state_t_58', 'state_t_59']\n",
    "\n",
    "STATE_Q0001 = ['state_q0001_0', 'state_q0001_1', 'state_q0001_2', 'state_q0001_3', 'state_q0001_4', 'state_q0001_5', 'state_q0001_6', 'state_q0001_7', 'state_q0001_8', 'state_q0001_9', 'state_q0001_10', 'state_q0001_11', 'state_q0001_12', 'state_q0001_13', 'state_q0001_14', 'state_q0001_15', 'state_q0001_16', 'state_q0001_17', 'state_q0001_18', 'state_q0001_19', 'state_q0001_20', 'state_q0001_21', 'state_q0001_22', 'state_q0001_23', 'state_q0001_24', 'state_q0001_25', 'state_q0001_26', 'state_q0001_27', 'state_q0001_28', 'state_q0001_29', 'state_q0001_30', 'state_q0001_31', 'state_q0001_32', 'state_q0001_33', 'state_q0001_34', 'state_q0001_35', 'state_q0001_36', 'state_q0001_37', 'state_q0001_38', 'state_q0001_39', 'state_q0001_40', 'state_q0001_41', 'state_q0001_42', 'state_q0001_43', 'state_q0001_44', 'state_q0001_45', 'state_q0001_46', 'state_q0001_47', 'state_q0001_48', 'state_q0001_49', 'state_q0001_50', 'state_q0001_51', 'state_q0001_52', 'state_q0001_53', 'state_q0001_54', 'state_q0001_55', 'state_q0001_56', 'state_q0001_57', 'state_q0001_58', 'state_q0001_59']\n",
    "STATE_Q0002 = ['state_q0002_0', 'state_q0002_1', 'state_q0002_2', 'state_q0002_3', 'state_q0002_4', 'state_q0002_5', 'state_q0002_6', 'state_q0002_7', 'state_q0002_8', 'state_q0002_9', 'state_q0002_10', 'state_q0002_11', 'state_q0002_12', 'state_q0002_13', 'state_q0002_14', 'state_q0002_15', 'state_q0002_16', 'state_q0002_17', 'state_q0002_18', 'state_q0002_19', 'state_q0002_20', 'state_q0002_21', 'state_q0002_22', 'state_q0002_23', 'state_q0002_24', 'state_q0002_25', 'state_q0002_26', 'state_q0002_27', 'state_q0002_28', 'state_q0002_29', 'state_q0002_30', 'state_q0002_31', 'state_q0002_32', 'state_q0002_33', 'state_q0002_34', 'state_q0002_35', 'state_q0002_36', 'state_q0002_37', 'state_q0002_38', 'state_q0002_39', 'state_q0002_40', 'state_q0002_41', 'state_q0002_42', 'state_q0002_43', 'state_q0002_44', 'state_q0002_45', 'state_q0002_46', 'state_q0002_47', 'state_q0002_48', 'state_q0002_49', 'state_q0002_50', 'state_q0002_51', 'state_q0002_52', 'state_q0002_53', 'state_q0002_54', 'state_q0002_55', 'state_q0002_56', 'state_q0002_57', 'state_q0002_58', 'state_q0002_59']\n",
    "STATE_Q0003 = ['state_q0003_0', 'state_q0003_1', 'state_q0003_2', 'state_q0003_3', 'state_q0003_4', 'state_q0003_5', 'state_q0003_6', 'state_q0003_7', 'state_q0003_8', 'state_q0003_9', 'state_q0003_10', 'state_q0003_11', 'state_q0003_12', 'state_q0003_13', 'state_q0003_14', 'state_q0003_15', 'state_q0003_16', 'state_q0003_17', 'state_q0003_18', 'state_q0003_19', 'state_q0003_20', 'state_q0003_21', 'state_q0003_22', 'state_q0003_23', 'state_q0003_24', 'state_q0003_25', 'state_q0003_26', 'state_q0003_27', 'state_q0003_28', 'state_q0003_29', 'state_q0003_30', 'state_q0003_31', 'state_q0003_32', 'state_q0003_33', 'state_q0003_34', 'state_q0003_35', 'state_q0003_36', 'state_q0003_37', 'state_q0003_38', 'state_q0003_39', 'state_q0003_40', 'state_q0003_41', 'state_q0003_42', 'state_q0003_43', 'state_q0003_44', 'state_q0003_45', 'state_q0003_46', 'state_q0003_47', 'state_q0003_48', 'state_q0003_49', 'state_q0003_50', 'state_q0003_51', 'state_q0003_52', 'state_q0003_53', 'state_q0003_54', 'state_q0003_55', 'state_q0003_56', 'state_q0003_57', 'state_q0003_58', 'state_q0003_59']\n",
    "\n",
    "PBUF_OZONE = ['pbuf_ozone_0', 'pbuf_ozone_1', 'pbuf_ozone_2', 'pbuf_ozone_3', 'pbuf_ozone_4', 'pbuf_ozone_5', 'pbuf_ozone_6', 'pbuf_ozone_7', 'pbuf_ozone_8', 'pbuf_ozone_9', 'pbuf_ozone_10', 'pbuf_ozone_11', 'pbuf_ozone_12', 'pbuf_ozone_13', 'pbuf_ozone_14', 'pbuf_ozone_15', 'pbuf_ozone_16', 'pbuf_ozone_17', 'pbuf_ozone_18', 'pbuf_ozone_19', 'pbuf_ozone_20', 'pbuf_ozone_21', 'pbuf_ozone_22', 'pbuf_ozone_23', 'pbuf_ozone_24', 'pbuf_ozone_25', 'pbuf_ozone_26', 'pbuf_ozone_27', 'pbuf_ozone_28', 'pbuf_ozone_29', 'pbuf_ozone_30', 'pbuf_ozone_31', 'pbuf_ozone_32', 'pbuf_ozone_33', 'pbuf_ozone_34', 'pbuf_ozone_35', 'pbuf_ozone_36', 'pbuf_ozone_37', 'pbuf_ozone_38', 'pbuf_ozone_39', 'pbuf_ozone_40', 'pbuf_ozone_41', 'pbuf_ozone_42', 'pbuf_ozone_43', 'pbuf_ozone_44', 'pbuf_ozone_45', 'pbuf_ozone_46', 'pbuf_ozone_47', 'pbuf_ozone_48', 'pbuf_ozone_49', 'pbuf_ozone_50', 'pbuf_ozone_51', 'pbuf_ozone_52', 'pbuf_ozone_53', 'pbuf_ozone_54', 'pbuf_ozone_55', 'pbuf_ozone_56', 'pbuf_ozone_57', 'pbuf_ozone_58', 'pbuf_ozone_59']\n",
    "PBUF_CH4 = ['pbuf_CH4_0', 'pbuf_CH4_1', 'pbuf_CH4_2', 'pbuf_CH4_3', 'pbuf_CH4_4', 'pbuf_CH4_5', 'pbuf_CH4_6', 'pbuf_CH4_7', 'pbuf_CH4_8', 'pbuf_CH4_9', 'pbuf_CH4_10', 'pbuf_CH4_11', 'pbuf_CH4_12', 'pbuf_CH4_13', 'pbuf_CH4_14', 'pbuf_CH4_15', 'pbuf_CH4_16', 'pbuf_CH4_17', 'pbuf_CH4_18', 'pbuf_CH4_19', 'pbuf_CH4_20', 'pbuf_CH4_21', 'pbuf_CH4_22', 'pbuf_CH4_23', 'pbuf_CH4_24', 'pbuf_CH4_25', 'pbuf_CH4_26', 'pbuf_CH4_27', 'pbuf_CH4_28', 'pbuf_CH4_29', 'pbuf_CH4_30', 'pbuf_CH4_31', 'pbuf_CH4_32', 'pbuf_CH4_33', 'pbuf_CH4_34', 'pbuf_CH4_35', 'pbuf_CH4_36', 'pbuf_CH4_37', 'pbuf_CH4_38', 'pbuf_CH4_39', 'pbuf_CH4_40', 'pbuf_CH4_41', 'pbuf_CH4_42', 'pbuf_CH4_43', 'pbuf_CH4_44', 'pbuf_CH4_45', 'pbuf_CH4_46', 'pbuf_CH4_47', 'pbuf_CH4_48', 'pbuf_CH4_49', 'pbuf_CH4_50', 'pbuf_CH4_51', 'pbuf_CH4_52', 'pbuf_CH4_53', 'pbuf_CH4_54', 'pbuf_CH4_55', 'pbuf_CH4_56', 'pbuf_CH4_57', 'pbuf_CH4_58', 'pbuf_CH4_59']\n",
    "PBUF_N2O = ['pbuf_N2O_0', 'pbuf_N2O_1', 'pbuf_N2O_2', 'pbuf_N2O_3', 'pbuf_N2O_4', 'pbuf_N2O_5', 'pbuf_N2O_6', 'pbuf_N2O_7', 'pbuf_N2O_8', 'pbuf_N2O_9', 'pbuf_N2O_10', 'pbuf_N2O_11', 'pbuf_N2O_12', 'pbuf_N2O_13', 'pbuf_N2O_14', 'pbuf_N2O_15', 'pbuf_N2O_16', 'pbuf_N2O_17', 'pbuf_N2O_18', 'pbuf_N2O_19', 'pbuf_N2O_20', 'pbuf_N2O_21', 'pbuf_N2O_22', 'pbuf_N2O_23', 'pbuf_N2O_24', 'pbuf_N2O_25', 'pbuf_N2O_26', 'pbuf_N2O_27', 'pbuf_N2O_28', 'pbuf_N2O_29', 'pbuf_N2O_30', 'pbuf_N2O_31', 'pbuf_N2O_32', 'pbuf_N2O_33', 'pbuf_N2O_34', 'pbuf_N2O_35', 'pbuf_N2O_36', 'pbuf_N2O_37', 'pbuf_N2O_38', 'pbuf_N2O_39', 'pbuf_N2O_40', 'pbuf_N2O_41', 'pbuf_N2O_42', 'pbuf_N2O_43', 'pbuf_N2O_44', 'pbuf_N2O_45', 'pbuf_N2O_46', 'pbuf_N2O_47', 'pbuf_N2O_48', 'pbuf_N2O_49', 'pbuf_N2O_50', 'pbuf_N2O_51', 'pbuf_N2O_52', 'pbuf_N2O_53', 'pbuf_N2O_54', 'pbuf_N2O_55', 'pbuf_N2O_56', 'pbuf_N2O_57', 'pbuf_N2O_58', 'pbuf_N2O_59']\n",
    "\n",
    "# OUTPUT COLUMNS\n",
    "\n",
    "CAM_OUT_NETSW = \"cam_out_NETSW\"\n",
    "CAM_OUT_FLWDS = \"cam_out_FLWDS\"\n",
    "CAM_OUT_PRECSC = \"cam_out_PRECSC\"\n",
    "CAM_OUT_PRECC = \"cam_out_PRECC\"\n",
    "CAM_OUT_SOLS = \"cam_out_SOLS\"\n",
    "CAM_OUT_SOLL = \"cam_out_SOLL\"\n",
    "CAM_OUT_SOLSD = \"cam_out_SOLSD\"\n",
    "CAM_OUT_SOLLD = \"cam_out_SOLLD\"\n",
    "\n",
    "PTEND_Q0001 = ['ptend_q0001_0', 'ptend_q0001_1', 'ptend_q0001_2', 'ptend_q0001_3', 'ptend_q0001_4', 'ptend_q0001_5', 'ptend_q0001_6', 'ptend_q0001_7', 'ptend_q0001_8', 'ptend_q0001_9', 'ptend_q0001_10', 'ptend_q0001_11', 'ptend_q0001_12', 'ptend_q0001_13', 'ptend_q0001_14', 'ptend_q0001_15', 'ptend_q0001_16', 'ptend_q0001_17', 'ptend_q0001_18', 'ptend_q0001_19', 'ptend_q0001_20', 'ptend_q0001_21', 'ptend_q0001_22', 'ptend_q0001_23', 'ptend_q0001_24', 'ptend_q0001_25', 'ptend_q0001_26', 'ptend_q0001_27', 'ptend_q0001_28', 'ptend_q0001_29', 'ptend_q0001_30', 'ptend_q0001_31', 'ptend_q0001_32', 'ptend_q0001_33', 'ptend_q0001_34', 'ptend_q0001_35', 'ptend_q0001_36', 'ptend_q0001_37', 'ptend_q0001_38', 'ptend_q0001_39', 'ptend_q0001_40', 'ptend_q0001_41', 'ptend_q0001_42', 'ptend_q0001_43', 'ptend_q0001_44', 'ptend_q0001_45', 'ptend_q0001_46', 'ptend_q0001_47', 'ptend_q0001_48', 'ptend_q0001_49', 'ptend_q0001_50', 'ptend_q0001_51', 'ptend_q0001_52', 'ptend_q0001_53', 'ptend_q0001_54', 'ptend_q0001_55', 'ptend_q0001_56', 'ptend_q0001_57', 'ptend_q0001_58', 'ptend_q0001_59']\n",
    "PTEND_Q0002 = ['ptend_q0002_0', 'ptend_q0002_1', 'ptend_q0002_2', 'ptend_q0002_3', 'ptend_q0002_4', 'ptend_q0002_5', 'ptend_q0002_6', 'ptend_q0002_7', 'ptend_q0002_8', 'ptend_q0002_9', 'ptend_q0002_10', 'ptend_q0002_11', 'ptend_q0002_12', 'ptend_q0002_13', 'ptend_q0002_14', 'ptend_q0002_15', 'ptend_q0002_16', 'ptend_q0002_17', 'ptend_q0002_18', 'ptend_q0002_19', 'ptend_q0002_20', 'ptend_q0002_21', 'ptend_q0002_22', 'ptend_q0002_23', 'ptend_q0002_24', 'ptend_q0002_25', 'ptend_q0002_26', 'ptend_q0002_27', 'ptend_q0002_28', 'ptend_q0002_29', 'ptend_q0002_30', 'ptend_q0002_31', 'ptend_q0002_32', 'ptend_q0002_33', 'ptend_q0002_34', 'ptend_q0002_35', 'ptend_q0002_36', 'ptend_q0002_37', 'ptend_q0002_38', 'ptend_q0002_39', 'ptend_q0002_40', 'ptend_q0002_41', 'ptend_q0002_42', 'ptend_q0002_43', 'ptend_q0002_44', 'ptend_q0002_45', 'ptend_q0002_46', 'ptend_q0002_47', 'ptend_q0002_48', 'ptend_q0002_49', 'ptend_q0002_50', 'ptend_q0002_51', 'ptend_q0002_52', 'ptend_q0002_53', 'ptend_q0002_54', 'ptend_q0002_55', 'ptend_q0002_56', 'ptend_q0002_57', 'ptend_q0002_58', 'ptend_q0002_59']\n",
    "PTEND_Q0003 = ['ptend_q0003_0', 'ptend_q0003_1', 'ptend_q0003_2', 'ptend_q0003_3', 'ptend_q0003_4', 'ptend_q0003_5', 'ptend_q0003_6', 'ptend_q0003_7', 'ptend_q0003_8', 'ptend_q0003_9', 'ptend_q0003_10', 'ptend_q0003_11', 'ptend_q0003_12', 'ptend_q0003_13', 'ptend_q0003_14', 'ptend_q0003_15', 'ptend_q0003_16', 'ptend_q0003_17', 'ptend_q0003_18', 'ptend_q0003_19', 'ptend_q0003_20', 'ptend_q0003_21', 'ptend_q0003_22', 'ptend_q0003_23', 'ptend_q0003_24', 'ptend_q0003_25', 'ptend_q0003_26', 'ptend_q0003_27', 'ptend_q0003_28', 'ptend_q0003_29', 'ptend_q0003_30', 'ptend_q0003_31', 'ptend_q0003_32', 'ptend_q0003_33', 'ptend_q0003_34', 'ptend_q0003_35', 'ptend_q0003_36', 'ptend_q0003_37', 'ptend_q0003_38', 'ptend_q0003_39', 'ptend_q0003_40', 'ptend_q0003_41', 'ptend_q0003_42', 'ptend_q0003_43', 'ptend_q0003_44', 'ptend_q0003_45', 'ptend_q0003_46', 'ptend_q0003_47', 'ptend_q0003_48', 'ptend_q0003_49', 'ptend_q0003_50', 'ptend_q0003_51', 'ptend_q0003_52', 'ptend_q0003_53', 'ptend_q0003_54', 'ptend_q0003_55', 'ptend_q0003_56', 'ptend_q0003_57', 'ptend_q0003_58', 'ptend_q0003_59']\n",
    "\n",
    "PTEND_U = ['ptend_u_0', 'ptend_u_1', 'ptend_u_2', 'ptend_u_3', 'ptend_u_4', 'ptend_u_5', 'ptend_u_6', 'ptend_u_7', 'ptend_u_8', 'ptend_u_9', 'ptend_u_10', 'ptend_u_11', 'ptend_u_12', 'ptend_u_13', 'ptend_u_14', 'ptend_u_15', 'ptend_u_16', 'ptend_u_17', 'ptend_u_18', 'ptend_u_19', 'ptend_u_20', 'ptend_u_21', 'ptend_u_22', 'ptend_u_23', 'ptend_u_24', 'ptend_u_25', 'ptend_u_26', 'ptend_u_27', 'ptend_u_28', 'ptend_u_29', 'ptend_u_30', 'ptend_u_31', 'ptend_u_32', 'ptend_u_33', 'ptend_u_34', 'ptend_u_35', 'ptend_u_36', 'ptend_u_37', 'ptend_u_38', 'ptend_u_39', 'ptend_u_40', 'ptend_u_41', 'ptend_u_42', 'ptend_u_43', 'ptend_u_44', 'ptend_u_45', 'ptend_u_46', 'ptend_u_47', 'ptend_u_48', 'ptend_u_49', 'ptend_u_50', 'ptend_u_51', 'ptend_u_52', 'ptend_u_53', 'ptend_u_54', 'ptend_u_55', 'ptend_u_56', 'ptend_u_57', 'ptend_u_58', 'ptend_u_59']\n",
    "PTEND_V = ['ptend_v_0', 'ptend_v_1', 'ptend_v_2', 'ptend_v_3', 'ptend_v_4', 'ptend_v_5', 'ptend_v_6', 'ptend_v_7', 'ptend_v_8', 'ptend_v_9', 'ptend_v_10', 'ptend_v_11', 'ptend_v_12', 'ptend_v_13', 'ptend_v_14', 'ptend_v_15', 'ptend_v_16', 'ptend_v_17', 'ptend_v_18', 'ptend_v_19', 'ptend_v_20', 'ptend_v_21', 'ptend_v_22', 'ptend_v_23', 'ptend_v_24', 'ptend_v_25', 'ptend_v_26', 'ptend_v_27', 'ptend_v_28', 'ptend_v_29', 'ptend_v_30', 'ptend_v_31', 'ptend_v_32', 'ptend_v_33', 'ptend_v_34', 'ptend_v_35', 'ptend_v_36', 'ptend_v_37', 'ptend_v_38', 'ptend_v_39', 'ptend_v_40', 'ptend_v_41', 'ptend_v_42', 'ptend_v_43', 'ptend_v_44', 'ptend_v_45', 'ptend_v_46', 'ptend_v_47', 'ptend_v_48', 'ptend_v_49', 'ptend_v_50', 'ptend_v_51', 'ptend_v_52', 'ptend_v_53', 'ptend_v_54', 'ptend_v_55', 'ptend_v_56', 'ptend_v_57', 'ptend_v_58', 'ptend_v_59']\n",
    "PTEND_T = ['ptend_t_0', 'ptend_t_1', 'ptend_t_2', 'ptend_t_3', 'ptend_t_4', 'ptend_t_5', 'ptend_t_6', 'ptend_t_7', 'ptend_t_8', 'ptend_t_9', 'ptend_t_10', 'ptend_t_11', 'ptend_t_12', 'ptend_t_13', 'ptend_t_14', 'ptend_t_15', 'ptend_t_16', 'ptend_t_17', 'ptend_t_18', 'ptend_t_19', 'ptend_t_20', 'ptend_t_21', 'ptend_t_22', 'ptend_t_23', 'ptend_t_24', 'ptend_t_25', 'ptend_t_26', 'ptend_t_27', 'ptend_t_28', 'ptend_t_29', 'ptend_t_30', 'ptend_t_31', 'ptend_t_32', 'ptend_t_33', 'ptend_t_34', 'ptend_t_35', 'ptend_t_36', 'ptend_t_37', 'ptend_t_38', 'ptend_t_39', 'ptend_t_40', 'ptend_t_41', 'ptend_t_42', 'ptend_t_43', 'ptend_t_44', 'ptend_t_45', 'ptend_t_46', 'ptend_t_47', 'ptend_t_48', 'ptend_t_49', 'ptend_t_50', 'ptend_t_51', 'ptend_t_52', 'ptend_t_53', 'ptend_t_54', 'ptend_t_55', 'ptend_t_56', 'ptend_t_57', 'ptend_t_58', 'ptend_t_59']\n",
    "\n",
    "# REPLACEMENT COLUMNS\n",
    "\n",
    "REPLACE_FROM = ['ptend_q0002_0', 'ptend_q0002_1', 'ptend_q0002_2', 'ptend_q0002_3', 'ptend_q0002_4', 'ptend_q0002_5', 'ptend_q0002_6', 'ptend_q0002_7', 'ptend_q0002_8', 'ptend_q0002_9', 'ptend_q0002_10', 'ptend_q0002_11', 'ptend_q0002_12', 'ptend_q0002_13', 'ptend_q0002_14', 'ptend_q0002_15', 'ptend_q0002_16', 'ptend_q0002_17', 'ptend_q0002_18', 'ptend_q0002_19', 'ptend_q0002_20', 'ptend_q0002_21', 'ptend_q0002_22', 'ptend_q0002_23', 'ptend_q0002_24', 'ptend_q0002_25', 'ptend_q0002_26']\n",
    "REPLACE_TO = ['state_q0002_0', 'state_q0002_1', 'state_q0002_2', 'state_q0002_3', 'state_q0002_4', 'state_q0002_5', 'state_q0002_6', 'state_q0002_7', 'state_q0002_8', 'state_q0002_9', 'state_q0002_10', 'state_q0002_11', 'state_q0002_12', 'state_q0002_13', 'state_q0002_14', 'state_q0002_15', 'state_q0002_16', 'state_q0002_17', 'state_q0002_18', 'state_q0002_19', 'state_q0002_20', 'state_q0002_21', 'state_q0002_22', 'state_q0002_23', 'state_q0002_24', 'state_q0002_25', 'state_q0002_26']\n",
    "\n",
    "# TARGET WEIGHTS\n",
    "\n",
    "TARGET_WEIGHTS = [30981.265271661872, 22502.432413914863, 18894.14713004499, 14514.244730542465, 10944.348069459196, 9065.01072024503, 9663.669038687454, 12688.557362943708, 19890.17226527665, 25831.37317235381, 33890.367561807274, 44122.94111025334, 59811.25595068309, 79434.07500078829, 107358.80916894016, 135720.8418348218, 149399.8411114814, 128492.95185325432, 91746.23687305572, 72748.76911097553, 66531.53596840335, 62932.30598423903, 56610.26874314136, 49473.14369220607, 43029.18495420936, 36912.67491908133, 31486.93117928144, 26898.072997215502, 23316.638282978325, 20459.73133196152, 18385.68309639014, 17111.405107656312, 16337.80991958771, 15857.759882318944, 15580.902485189716, 15497.59045982052, 15612.2556996736, 15797.88455410361, 15974.218740897895, 16130.395527176632, 16261.310866446129, 16371.892401608216, 16397.019695140876, 16325.463899570548, 16228.641108112768, 16191.809643436269, 16341.207925934068, 16645.711351490587, 17005.493716683693, 17430.29874509864, 17907.24023203076, 18431.55334008694, 19032.471309392287, 19701.355113141435, 20408.236605392685, 20967.20795006453, 21194.427318009974, 21088.521528526755, 19437.91555757985, 13677.902713248171, 0, 0, 0, 0, 0, 0, 0, 0, 0, 0, 0, 0, 871528441401.8333, 1083221770553.0684, 147034752676.7702, 35556045575.13566, 35153369257.41337, 46086368691.51654, 24689305171.692936, 11343276593.440475, 5396624651.94418, 2449353007.641508, 1132225885.703891, 579547849.1340877, 330219246.7861086, 207613930.3131764, 144580292.27473342, 109933282.92266414, 88706603.092171, 73819777.54163922, 63615988.74519494, 57250262.292053565, 52976073.06761927, 49653169.17819005, 46544975.11484598, 43167606.9599748, 39724375.20499403, 36317177.25886468, 33057511.80930482, 29869089.497658804, 26982386.85583376, 24416235.17215712, 22273651.697369896, 20553426.04804544, 19216240.03357431, 18167694.44812838, 17501855.536957663, 17169938.630597908, 17005382.258644175, 16998475.26752617, 17082890.987979066, 17227982.77516062, 17445823.21630204, 17757404.421785507, 18346092.75160569, 19400573.66632694, 20506722.48296608, 22469648.380506545, 23432031.455169585, 26204163.40545158, 0, 0, 0, 0, 0, 0, 0, 0, 0, 0, 0, 0, 0, 0, 0, 1000000000000000.0, 1000000000000000.0, 1000000000000000.0, 1000000000000000.0, 1000000000000000.0, 1000000000000000.0, 1000000000000000.0, 1000000000000000.0, 1000000000000000.0, 1000000000000000.0, 1000000000000000.0, 3673829810926.31, 371405570725.2526, 14219163611.984406, 3001863018.1934915, 1432766589.9326108, 884599805.0283787, 560127980.1033351, 386052567.7087711, 287331851.051439, 222703657.59538063, 181069239.6264349, 154620864.3164144, 138093777.60284117, 126605828.89875436, 117967840.02553518, 111005814.39518328, 105186901.20678852, 100168133.0295481, 95568646.67416307, 91457433.39515457, 88871610.45308323, 88829796.26374224, 91398113.73291488, 96585131.67000748, 104507692.01463065, 115895119.998433, 131939701.08213414, 154492946.00677127, 183147918.17086875, 215151374.22324687, 247158314.6345976, 266792879.42215955, 279115128.29108113, 370541510.87006927, 0, 0, 0, 0, 0, 0, 0, 0, 0, 0, 0, 0, 877670509694.7871, 1174826943136.8308, 1270605570069.038, 21727315470.5208, 3159456646.5437946, 1090653401.282219, 727967089.8459107, 384399548.9506704, 290787296.9451616, 232703218.45048887, 197467462.7577736, 174310890.8025987, 160536437.73297343, 153567098.77048483, 152120124.9453068, 153115566.6756177, 153955545.42558223, 153734675.21565756, 154798666.36905554, 163346213.58113608, 180013139.3707387, 200324358.8534948, 220754613.1646765, 241290935.478592, 262868932.2066308, 284448910.01847774, 305681084.4142859, 327605088.8575117, 350473296.7263526, 373964594.1196182, 398396925.8173239, 423528355.65716046, 450447055.544388, 478857006.4973163, 508200335.7126168, 537309657.5789208, 566854568.2904652, 594618842.9455439, 619715928.2391286, 641395460.8414665, 663290039.7810476, 689274894.631561, 718208866.3397261, 743951200.8024124, 761776104.2945968, 772911224.3082078, 804001144.8046833, 772448774.7758856, 0, 0, 0, 0, 0, 0, 0, 0, 0, 0, 0, 0, 4613823.568205323, 1999308.9343799097, 904636.2296014762, 433823.6123842511, 207201.39055371704, 107836.09164720173, 57647.915219220784, 40606.52305039815, 47739.86647922776, 51669.35493930698, 56438.19768395407, 60447.45665200092, 65251.4153955275, 71920.88588011517, 78529.58115204438, 83422.30217897324, 87036.98552475807, 90389.72631774022, 93982.39165674087, 97578.0099352472, 101428.21366062944, 104630.69200130588, 105685.04322626138, 103962.58423268417, 99650.31670632094, 94290.49986206587, 89514.90144353417, 85905.45713126978, 82784.9857650212, 79152.28707014346, 74847.81017353121, 70378.81859610273, 65420.04643792357, 59953.75184604176, 54764.28281143022, 50362.51288353384, 46212.571031725325, 41997.52779088816, 37692.05148110484, 33834.73460995647, 31846.09764364542, 31934.145655397457, 31454.81247448105, 30105.4073072481, 26957.830283611693, 27760.04479210889, 29853.374336459365, 19133.428743715107, 0, 0, 0, 0, 0, 0, 0, 0, 0, 0, 0, 0, 7619940.584531054, 3148394.472742347, 1308415.0022178134, 540515.7720745018, 215237.1053603881, 102546.7276372816, 68453.67122640925, 50692.59053608593, 51487.52043139844, 52104.76838400132, 54019.39151917722, 55856.02168787862, 60347.30240270209, 68990.96019017675, 79096.88768563846, 87574.33453690328, 94158.56052476274, 101903.63670531697, 111746.9753834774, 122460.65399236557, 132086.69387474353, 141041.48571028374, 146354.09441287292, 145953.09590059065, 139496.8007888401, 128508.85108217449, 116665.51769667884, 107458.39706309135, 100259.97236694951, 94108.98505029618, 88439.89456238014, 82734.9027659809, 77061.08621371102, 71333.5319243128, 65999.72532130677, 61798.9972058361, 58237.356419617165, 54715.10266341248, 50825.84431702935, 46059.17688689915, 40740.26050401376, 36335.80228304863, 33981.57568605091, 33589.7143390849, 33988.88524112733, 36272.9364507092, 41183.34413717943, 29194.12369278645, 0.0040536134869726, 0.0138824238058072, 135129884.5084534, 12219717.5342461, 0.0090705273332672, 0.0085898851680217, 0.0215368188774867, 0.0336321308942602]\n",
    "\n",
    "SCALE_WEIGHTS = [1e10] * 360 + [1] * 8\n",
    "\n",
    "TARGET_WEIGHTS = [1, 1, 1, 1, 1, 1, 1, 1, 1, 1, 1, 1, 1, 1, 1, 1, 1, 1, 1, 1, 1, 1,\n",
    "        1, 1, 1, 1, 1, 1, 1, 1, 1, 1, 1, 1, 1, 1, 1, 1, 1, 1, 1, 1, 1, 1,\n",
    "        1, 1, 1, 1, 1, 1, 1, 1, 1, 1, 1, 1, 1, 1, 1, 1, 0, 0, 0, 0, 0, 0,\n",
    "        0, 0, 0, 0, 0, 0, 1, 1, 1, 1, 1, 1, 1, 1, 1, 1, 1, 1, 1, 1, 1, 1,\n",
    "        1, 1, 1, 1, 1, 1, 1, 1, 1, 1, 1, 1, 1, 1, 1, 1, 1, 1, 1, 1, 1, 1,\n",
    "        1, 1, 1, 1, 1, 1, 1, 1, 1, 1, 0, 0, 0, 0, 0, 0, 0, 0, 0, 0, 0, 0,\n",
    "        1, 1, 1, 1, 1, 1, 1, 1, 1, 1, 1, 1, 1, 1, 1, 1, 1, 1, 1, 1, 1, 1,\n",
    "        1, 1, 1, 1, 1, 1, 1, 1, 1, 1, 1, 1, 1, 1, 1, 1, 1, 1, 1, 1, 1, 1,\n",
    "        1, 1, 1, 1, 0, 0, 0, 0, 0, 0, 0, 0, 0, 0, 0, 0, 1, 1, 1, 1, 1, 1,\n",
    "        1, 1, 1, 1, 1, 1, 1, 1, 1, 1, 1, 1, 1, 1, 1, 1, 1, 1, 1, 1, 1, 1,\n",
    "        1, 1, 1, 1, 1, 1, 1, 1, 1, 1, 1, 1, 1, 1, 1, 1, 1, 1, 1, 1, 0, 0,\n",
    "        0, 0, 0, 0, 0, 0, 0, 0, 0, 0, 1, 1, 1, 1, 1, 1, 1, 1, 1, 1, 1, 1,\n",
    "        1, 1, 1, 1, 1, 1, 1, 1, 1, 1, 1, 1, 1, 1, 1, 1, 1, 1, 1, 1, 1, 1,\n",
    "        1, 1, 1, 1, 1, 1, 1, 1, 1, 1, 1, 1, 1, 1, 0, 0, 0, 0, 0, 0, 0, 0,\n",
    "        0, 0, 0, 0, 1, 1, 1, 1, 1, 1, 1, 1, 1, 1, 1, 1, 1, 1, 1, 1, 1, 1,\n",
    "        1, 1, 1, 1, 1, 1, 1, 1, 1, 1, 1, 1, 1, 1, 1, 1, 1, 1, 1, 1, 1, 1,\n",
    "        1, 1, 1, 1, 1, 1, 1, 1, 1, 1, 1, 1, 1, 1, 1, 1]\n",
    "\n",
    "\n",
    "TARGET_WEIGHTS = [1, 1, 1, 1, 1, 1, 1, 1, 1, 1, 1, 1, 1, 1, 1, 1, 1, 1, 1, 1, 1, 1,\n",
    "        1, 1, 1, 1, 1, 1, 1, 1, 1, 1, 1, 1, 1, 1, 1, 1, 1, 1, 1, 1, 1, 1,\n",
    "        1, 1, 1, 1, 1, 1, 1, 1, 1, 1, 1, 1, 1, 1, 1, 1, 0, 0, 0, 0, 0, 0,\n",
    "        0, 0, 0, 0, 0, 0, 1, 1, 1, 1, 1, 1, 1, 1, 1, 1, 1, 1, 1, 1, 1, 1,\n",
    "        1, 1, 1, 1, 1, 1, 1, 1, 1, 1, 1, 1, 1, 1, 1, 1, 1, 1, 1, 1, 1, 1,\n",
    "        1, 1, 1, 1, 1, 1, 1, 1, 1, 1, 0, 0, 0, 0, 0, 0, 0, 0, 0, 0, 0, 0,\n",
    "        0, 0, 0, 0, 0, 0, 0, 0, 0, 0, 0, 0, 0, 0, 0, 1, 1, 1, 1, 1, 1, 1,\n",
    "        1, 1, 1, 1, 1, 1, 1, 1, 1, 1, 1, 1, 1, 1, 1, 1, 1, 1, 1, 1, 1, 1,\n",
    "        1, 1, 1, 1, 0, 0, 0, 0, 0, 0, 0, 0, 0, 0, 0, 0, 1, 1, 1, 1, 1, 1,\n",
    "        1, 1, 1, 1, 1, 1, 1, 1, 1, 1, 1, 1, 1, 1, 1, 1, 1, 1, 1, 1, 1, 1,\n",
    "        1, 1, 1, 1, 1, 1, 1, 1, 1, 1, 1, 1, 1, 1, 1, 1, 1, 1, 1, 1, 0, 0,\n",
    "        0, 0, 0, 0, 0, 0, 0, 0, 0, 0, 1, 1, 1, 1, 1, 1, 1, 1, 1, 1, 1, 1,\n",
    "        1, 1, 1, 1, 1, 1, 1, 1, 1, 1, 1, 1, 1, 1, 1, 1, 1, 1, 1, 1, 1, 1,\n",
    "        1, 1, 1, 1, 1, 1, 1, 1, 1, 1, 1, 1, 1, 1, 0, 0, 0, 0, 0, 0, 0, 0,\n",
    "        0, 0, 0, 0, 1, 1, 1, 1, 1, 1, 1, 1, 1, 1, 1, 1, 1, 1, 1, 1, 1, 1,\n",
    "        1, 1, 1, 1, 1, 1, 1, 1, 1, 1, 1, 1, 1, 1, 1, 1, 1, 1, 1, 1, 1, 1,\n",
    "        1, 1, 1, 1, 1, 1, 1, 1, 1, 1, 1, 1, 1, 1, 1, 1]\n",
    "\n",
    "\n",
    "SCALE_WEIGHTS = [100000.0, 1000000.0, 1000000.0, 1000000.0, 1000000.0, 1000000.0, 10000000.0, 10000000.0, 10000000.0, 1000000000.0, 10000000.0, 10000000.0, 10000000.0, 10000000.0, 10000000.0, 10000000.0, 1000000.0, 1000000.0, 10000000.0, 10000000.0, 10000000.0, 1000000.0, 1000000.0, 1000000.0, 1000000.0, 1000000.0, 1000000.0, 1000000.0, 1000000.0, 1000000.0, 1000000.0, 10000000.0, 10000000.0, 10000000.0, 10000000.0, 10000000.0, 10000000.0, 10000000.0, 10000000.0, 10000000.0, 10000000.0, 10000000.0, 100000000.0, 10000000.0, 10000000.0, 10000000.0, 10000000.0, 10000000.0, 1000000.0, 1000000.0, 1000000.0, 1000000.0, 1000000.0, 1000000.0, 1000000.0, 1000000.0, 1000000.0, 1000000.0, 100000.0, 100000.0, 1e+17, 1e+17, 1e+17, 1e+18, 1.0, 1.0, 1.0, 1.0, 1.0, 1.0, 1.0, 1.0, 1000000000000000.0, 1000000000000000.0, 1000000000000000.0, 100000000000000.0, 100000000000000.0, 10000000000000.0, 10000000000000.0, 1000000000000.0, 1000000000000.0, 100000000000.0, 100000000000.0, 10000000000.0, 10000000000.0, 10000000000.0, 1000000000.0, 1000000000.0, 1000000000.0, 1000000000.0, 1000000000.0, 1000000000.0, 1000000000.0, 1000000000.0, 1000000000.0, 1000000000.0, 1000000000.0, 1000000000.0, 1000000000.0, 1000000000.0, 1000000000.0, 1000000000.0, 10000000000.0, 10000000000.0, 10000000000.0, 1000000000.0, 1000000000.0, 10000000000.0, 10000000000.0, 10000000000.0, 1000000000.0, 1000000000.0, 1000000000.0, 100000000.0, 100000000.0, 100000000.0, 100000000.0, 100000000.0, 100000000.0, 100000000.0, 1.0, 1.0, 1.0, 1.0, 1.0, 1.0, 1.0, 1.0, 1.0, 1.0, 1.0, 1.0, 1e+41, 1e+47, 1e+52, 1e+55, 1e+50, 1e+47, 1e+44, 1e+42, 1e+39, 1e+36, 1e+33, 1e+30, 1e+27, 1e+23, 1e+18, 1000000000000000.0, 1000000000000.0, 100000000000.0, 100000000000.0, 100000000000.0, 100000000000.0, 100000000000.0, 100000000000.0, 100000000000.0, 100000000000.0, 100000000000.0, 100000000000.0, 100000000000000.0, 100000000000.0, 100000000000.0, 100000000000.0, 100000000000.0, 100000000000.0, 10000000000.0, 10000000000.0, 10000000000.0, 100000000000.0, 10000000000.0, 10000000000.0, 10000000000.0, 10000000000.0, 10000000000.0, 100000000000.0, 100000000000.0, 100000000000.0, 1000000000000.0, 100000000000.0, 10000000000.0, 1.0, 1.0, 1.0, 1.0, 1.0, 1.0, 1.0, 1.0, 1.0, 1.0, 1.0, 1.0, 1000000000000000.0, 1e+16, 1000000000000000.0, 100000000000000.0, 10000000000000.0, 10000000000000.0, 1000000000000.0, 100000000000.0, 100000000000.0, 100000000000.0, 100000000000.0, 10000000000.0, 10000000000.0, 10000000000.0, 10000000000.0, 10000000000.0, 100000000000.0, 100000000000.0, 100000000000.0, 100000000000.0, 10000000000.0, 100000000000.0, 100000000000.0, 100000000000.0, 100000000000.0, 100000000000.0, 100000000000.0, 100000000000.0, 100000000000.0, 100000000000.0, 100000000000.0, 100000000000.0, 100000000000.0, 100000000000.0, 100000000000.0, 100000000000.0, 100000000000.0, 100000000000.0, 100000000000.0, 100000000000.0, 100000000000.0, 100000000000.0, 100000000000.0, 1000000000000.0, 100000000000.0, 100000000000.0, 100000000000.0, 10000000000.0, 1.0, 1.0, 1.0, 1.0, 1.0, 1.0, 1.0, 1.0, 1.0, 1.0, 1.0, 1.0, 1000000000.0, 1000000000.0, 100000000.0, 100000000.0, 100000000.0, 10000000.0, 1000000.0, 1000000.0, 10000000.0, 1000000000.0, 10000000.0, 10000000.0, 1000000.0, 1000000.0, 1000000.0, 1000000.0, 1000000.0, 1000000.0, 1000000.0, 10000000.0, 10000000.0, 10000000.0, 10000000.0, 10000000.0, 10000000.0, 10000000.0, 10000000.0, 10000000.0, 10000000.0, 1000000.0, 1000000.0, 1000000.0, 1000000.0, 1000000.0, 1000000.0, 1000000.0, 1000000.0, 10000000.0, 10000000.0, 1000000.0, 1000000.0, 1000000.0, 1000000.0, 1000000.0, 1000000.0, 1000000.0, 1000000.0, 1000000.0, 1.0, 1.0, 1.0, 1.0, 1.0, 1.0, 1.0, 1.0, 1.0, 1.0, 1.0, 1.0, 10000000000.0, 10000000000.0, 1000000000.0, 100000000.0, 1000000000.0, 10000000.0, 100000000.0, 10000000.0, 10000000.0, 10000000.0, 10000000.0, 100000000.0, 10000000.0, 10000000.0, 10000000.0, 10000000.0, 100000000.0, 100000000.0, 100000000.0, 1000000000.0, 100000000.0, 100000000.0, 100000000.0, 1000000000.0, 100000000.0, 10000000.0, 10000000.0, 10000000.0, 10000000.0, 10000000.0, 100000000.0, 10000000.0, 10000000.0, 10000000.0, 10000000.0, 10000000.0, 10000000.0, 10000000.0, 100000000.0, 10000000.0, 10000000.0, 1000000.0, 1000000.0, 1000000.0, 10000000.0, 10000000.0, 1000000.0, 10000000.0, 0.01, 0.001, 1000000000.0, 100000000.0, 0.01, 0.01, 0.01, 0.1]\n",
    "SCALE_WEIGHTS = [min(w, 1e64) for w in SCALE_WEIGHTS]\n",
    "\n",
    "#SCALE_WEIGHTS = [1e6] * 360 + [1] * 8\n",
    "\n",
    "\n",
    "# FEATURE & TARGET LIST\n",
    "\n",
    "FEATURE_NAMES = ['state_t_0', 'state_t_1', 'state_t_2', 'state_t_3', 'state_t_4', 'state_t_5', 'state_t_6', 'state_t_7', 'state_t_8', 'state_t_9', 'state_t_10', 'state_t_11', 'state_t_12', 'state_t_13', 'state_t_14', 'state_t_15', 'state_t_16', 'state_t_17', 'state_t_18', 'state_t_19', 'state_t_20', 'state_t_21', 'state_t_22', 'state_t_23', 'state_t_24', 'state_t_25', 'state_t_26', 'state_t_27', 'state_t_28', 'state_t_29', 'state_t_30', 'state_t_31', 'state_t_32', 'state_t_33', 'state_t_34', 'state_t_35', 'state_t_36', 'state_t_37', 'state_t_38', 'state_t_39', 'state_t_40', 'state_t_41', 'state_t_42', 'state_t_43', 'state_t_44', 'state_t_45', 'state_t_46', 'state_t_47', 'state_t_48', 'state_t_49', 'state_t_50', 'state_t_51', 'state_t_52', 'state_t_53', 'state_t_54', 'state_t_55', 'state_t_56', 'state_t_57', 'state_t_58', 'state_t_59', 'state_q0001_0', 'state_q0001_1', 'state_q0001_2', 'state_q0001_3', 'state_q0001_4', 'state_q0001_5', 'state_q0001_6', 'state_q0001_7', 'state_q0001_8', 'state_q0001_9', 'state_q0001_10', 'state_q0001_11', 'state_q0001_12', 'state_q0001_13', 'state_q0001_14', 'state_q0001_15', 'state_q0001_16', 'state_q0001_17', 'state_q0001_18', 'state_q0001_19', 'state_q0001_20', 'state_q0001_21', 'state_q0001_22', 'state_q0001_23', 'state_q0001_24', 'state_q0001_25', 'state_q0001_26', 'state_q0001_27', 'state_q0001_28', 'state_q0001_29', 'state_q0001_30', 'state_q0001_31', 'state_q0001_32', 'state_q0001_33', 'state_q0001_34', 'state_q0001_35', 'state_q0001_36', 'state_q0001_37', 'state_q0001_38', 'state_q0001_39', 'state_q0001_40', 'state_q0001_41', 'state_q0001_42', 'state_q0001_43', 'state_q0001_44', 'state_q0001_45', 'state_q0001_46', 'state_q0001_47', 'state_q0001_48', 'state_q0001_49', 'state_q0001_50', 'state_q0001_51', 'state_q0001_52', 'state_q0001_53', 'state_q0001_54', 'state_q0001_55', 'state_q0001_56', 'state_q0001_57', 'state_q0001_58', 'state_q0001_59', 'state_q0002_0', 'state_q0002_1', 'state_q0002_2', 'state_q0002_3', 'state_q0002_4', 'state_q0002_5', 'state_q0002_6', 'state_q0002_7', 'state_q0002_8', 'state_q0002_9', 'state_q0002_10', 'state_q0002_11', 'state_q0002_12', 'state_q0002_13', 'state_q0002_14', 'state_q0002_15', 'state_q0002_16', 'state_q0002_17', 'state_q0002_18', 'state_q0002_19', 'state_q0002_20', 'state_q0002_21', 'state_q0002_22', 'state_q0002_23', 'state_q0002_24', 'state_q0002_25', 'state_q0002_26', 'state_q0002_27', 'state_q0002_28', 'state_q0002_29', 'state_q0002_30', 'state_q0002_31', 'state_q0002_32', 'state_q0002_33', 'state_q0002_34', 'state_q0002_35', 'state_q0002_36', 'state_q0002_37', 'state_q0002_38', 'state_q0002_39', 'state_q0002_40', 'state_q0002_41', 'state_q0002_42', 'state_q0002_43', 'state_q0002_44', 'state_q0002_45', 'state_q0002_46', 'state_q0002_47', 'state_q0002_48', 'state_q0002_49', 'state_q0002_50', 'state_q0002_51', 'state_q0002_52', 'state_q0002_53', 'state_q0002_54', 'state_q0002_55', 'state_q0002_56', 'state_q0002_57', 'state_q0002_58', 'state_q0002_59', 'state_q0003_0', 'state_q0003_1', 'state_q0003_2', 'state_q0003_3', 'state_q0003_4', 'state_q0003_5', 'state_q0003_6', 'state_q0003_7', 'state_q0003_8', 'state_q0003_9', 'state_q0003_10', 'state_q0003_11', 'state_q0003_12', 'state_q0003_13', 'state_q0003_14', 'state_q0003_15', 'state_q0003_16', 'state_q0003_17', 'state_q0003_18', 'state_q0003_19', 'state_q0003_20', 'state_q0003_21', 'state_q0003_22', 'state_q0003_23', 'state_q0003_24', 'state_q0003_25', 'state_q0003_26', 'state_q0003_27', 'state_q0003_28', 'state_q0003_29', 'state_q0003_30', 'state_q0003_31', 'state_q0003_32', 'state_q0003_33', 'state_q0003_34', 'state_q0003_35', 'state_q0003_36', 'state_q0003_37', 'state_q0003_38', 'state_q0003_39', 'state_q0003_40', 'state_q0003_41', 'state_q0003_42', 'state_q0003_43', 'state_q0003_44', 'state_q0003_45', 'state_q0003_46', 'state_q0003_47', 'state_q0003_48', 'state_q0003_49', 'state_q0003_50', 'state_q0003_51', 'state_q0003_52', 'state_q0003_53', 'state_q0003_54', 'state_q0003_55', 'state_q0003_56', 'state_q0003_57', 'state_q0003_58', 'state_q0003_59', 'state_u_0', 'state_u_1', 'state_u_2', 'state_u_3', 'state_u_4', 'state_u_5', 'state_u_6', 'state_u_7', 'state_u_8', 'state_u_9', 'state_u_10', 'state_u_11', 'state_u_12', 'state_u_13', 'state_u_14', 'state_u_15', 'state_u_16', 'state_u_17', 'state_u_18', 'state_u_19', 'state_u_20', 'state_u_21', 'state_u_22', 'state_u_23', 'state_u_24', 'state_u_25', 'state_u_26', 'state_u_27', 'state_u_28', 'state_u_29', 'state_u_30', 'state_u_31', 'state_u_32', 'state_u_33', 'state_u_34', 'state_u_35', 'state_u_36', 'state_u_37', 'state_u_38', 'state_u_39', 'state_u_40', 'state_u_41', 'state_u_42', 'state_u_43', 'state_u_44', 'state_u_45', 'state_u_46', 'state_u_47', 'state_u_48', 'state_u_49', 'state_u_50', 'state_u_51', 'state_u_52', 'state_u_53', 'state_u_54', 'state_u_55', 'state_u_56', 'state_u_57', 'state_u_58', 'state_u_59', 'state_v_0', 'state_v_1', 'state_v_2', 'state_v_3', 'state_v_4', 'state_v_5', 'state_v_6', 'state_v_7', 'state_v_8', 'state_v_9', 'state_v_10', 'state_v_11', 'state_v_12', 'state_v_13', 'state_v_14', 'state_v_15', 'state_v_16', 'state_v_17', 'state_v_18', 'state_v_19', 'state_v_20', 'state_v_21', 'state_v_22', 'state_v_23', 'state_v_24', 'state_v_25', 'state_v_26', 'state_v_27', 'state_v_28', 'state_v_29', 'state_v_30', 'state_v_31', 'state_v_32', 'state_v_33', 'state_v_34', 'state_v_35', 'state_v_36', 'state_v_37', 'state_v_38', 'state_v_39', 'state_v_40', 'state_v_41', 'state_v_42', 'state_v_43', 'state_v_44', 'state_v_45', 'state_v_46', 'state_v_47', 'state_v_48', 'state_v_49', 'state_v_50', 'state_v_51', 'state_v_52', 'state_v_53', 'state_v_54', 'state_v_55', 'state_v_56', 'state_v_57', 'state_v_58', 'state_v_59', 'state_ps', 'pbuf_SOLIN', 'pbuf_LHFLX', 'pbuf_SHFLX', 'pbuf_TAUX', 'pbuf_TAUY', 'pbuf_COSZRS', 'cam_in_ALDIF', 'cam_in_ALDIR', 'cam_in_ASDIF', 'cam_in_ASDIR', 'cam_in_LWUP', 'cam_in_ICEFRAC', 'cam_in_LANDFRAC', 'cam_in_OCNFRAC', 'cam_in_SNOWHLAND', 'pbuf_ozone_0', 'pbuf_ozone_1', 'pbuf_ozone_2', 'pbuf_ozone_3', 'pbuf_ozone_4', 'pbuf_ozone_5', 'pbuf_ozone_6', 'pbuf_ozone_7', 'pbuf_ozone_8', 'pbuf_ozone_9', 'pbuf_ozone_10', 'pbuf_ozone_11', 'pbuf_ozone_12', 'pbuf_ozone_13', 'pbuf_ozone_14', 'pbuf_ozone_15', 'pbuf_ozone_16', 'pbuf_ozone_17', 'pbuf_ozone_18', 'pbuf_ozone_19', 'pbuf_ozone_20', 'pbuf_ozone_21', 'pbuf_ozone_22', 'pbuf_ozone_23', 'pbuf_ozone_24', 'pbuf_ozone_25', 'pbuf_ozone_26', 'pbuf_ozone_27', 'pbuf_ozone_28', 'pbuf_ozone_29', 'pbuf_ozone_30', 'pbuf_ozone_31', 'pbuf_ozone_32', 'pbuf_ozone_33', 'pbuf_ozone_34', 'pbuf_ozone_35', 'pbuf_ozone_36', 'pbuf_ozone_37', 'pbuf_ozone_38', 'pbuf_ozone_39', 'pbuf_ozone_40', 'pbuf_ozone_41', 'pbuf_ozone_42', 'pbuf_ozone_43', 'pbuf_ozone_44', 'pbuf_ozone_45', 'pbuf_ozone_46', 'pbuf_ozone_47', 'pbuf_ozone_48', 'pbuf_ozone_49', 'pbuf_ozone_50', 'pbuf_ozone_51', 'pbuf_ozone_52', 'pbuf_ozone_53', 'pbuf_ozone_54', 'pbuf_ozone_55', 'pbuf_ozone_56', 'pbuf_ozone_57', 'pbuf_ozone_58', 'pbuf_ozone_59', 'pbuf_CH4_0', 'pbuf_CH4_1', 'pbuf_CH4_2', 'pbuf_CH4_3', 'pbuf_CH4_4', 'pbuf_CH4_5', 'pbuf_CH4_6', 'pbuf_CH4_7', 'pbuf_CH4_8', 'pbuf_CH4_9', 'pbuf_CH4_10', 'pbuf_CH4_11', 'pbuf_CH4_12', 'pbuf_CH4_13', 'pbuf_CH4_14', 'pbuf_CH4_15', 'pbuf_CH4_16', 'pbuf_CH4_17', 'pbuf_CH4_18', 'pbuf_CH4_19', 'pbuf_CH4_20', 'pbuf_CH4_21', 'pbuf_CH4_22', 'pbuf_CH4_23', 'pbuf_CH4_24', 'pbuf_CH4_25', 'pbuf_CH4_26', 'pbuf_CH4_27', 'pbuf_CH4_28', 'pbuf_CH4_29', 'pbuf_CH4_30', 'pbuf_CH4_31', 'pbuf_CH4_32', 'pbuf_CH4_33', 'pbuf_CH4_34', 'pbuf_CH4_35', 'pbuf_CH4_36', 'pbuf_CH4_37', 'pbuf_CH4_38', 'pbuf_CH4_39', 'pbuf_CH4_40', 'pbuf_CH4_41', 'pbuf_CH4_42', 'pbuf_CH4_43', 'pbuf_CH4_44', 'pbuf_CH4_45', 'pbuf_CH4_46', 'pbuf_CH4_47', 'pbuf_CH4_48', 'pbuf_CH4_49', 'pbuf_CH4_50', 'pbuf_CH4_51', 'pbuf_CH4_52', 'pbuf_CH4_53', 'pbuf_CH4_54', 'pbuf_CH4_55', 'pbuf_CH4_56', 'pbuf_CH4_57', 'pbuf_CH4_58', 'pbuf_CH4_59', 'pbuf_N2O_0', 'pbuf_N2O_1', 'pbuf_N2O_2', 'pbuf_N2O_3', 'pbuf_N2O_4', 'pbuf_N2O_5', 'pbuf_N2O_6', 'pbuf_N2O_7', 'pbuf_N2O_8', 'pbuf_N2O_9', 'pbuf_N2O_10', 'pbuf_N2O_11', 'pbuf_N2O_12', 'pbuf_N2O_13', 'pbuf_N2O_14', 'pbuf_N2O_15', 'pbuf_N2O_16', 'pbuf_N2O_17', 'pbuf_N2O_18', 'pbuf_N2O_19', 'pbuf_N2O_20', 'pbuf_N2O_21', 'pbuf_N2O_22', 'pbuf_N2O_23', 'pbuf_N2O_24', 'pbuf_N2O_25', 'pbuf_N2O_26', 'pbuf_N2O_27', 'pbuf_N2O_28', 'pbuf_N2O_29', 'pbuf_N2O_30', 'pbuf_N2O_31', 'pbuf_N2O_32', 'pbuf_N2O_33', 'pbuf_N2O_34', 'pbuf_N2O_35', 'pbuf_N2O_36', 'pbuf_N2O_37', 'pbuf_N2O_38', 'pbuf_N2O_39', 'pbuf_N2O_40', 'pbuf_N2O_41', 'pbuf_N2O_42', 'pbuf_N2O_43', 'pbuf_N2O_44', 'pbuf_N2O_45', 'pbuf_N2O_46', 'pbuf_N2O_47', 'pbuf_N2O_48', 'pbuf_N2O_49', 'pbuf_N2O_50', 'pbuf_N2O_51', 'pbuf_N2O_52', 'pbuf_N2O_53', 'pbuf_N2O_54', 'pbuf_N2O_55', 'pbuf_N2O_56', 'pbuf_N2O_57', 'pbuf_N2O_58', 'pbuf_N2O_59']\n",
    "TARGET_NAMES = ['ptend_t_0', 'ptend_t_1', 'ptend_t_2', 'ptend_t_3', 'ptend_t_4', 'ptend_t_5', 'ptend_t_6', 'ptend_t_7', 'ptend_t_8', 'ptend_t_9', 'ptend_t_10', 'ptend_t_11', 'ptend_t_12', 'ptend_t_13', 'ptend_t_14', 'ptend_t_15', 'ptend_t_16', 'ptend_t_17', 'ptend_t_18', 'ptend_t_19', 'ptend_t_20', 'ptend_t_21', 'ptend_t_22', 'ptend_t_23', 'ptend_t_24', 'ptend_t_25', 'ptend_t_26', 'ptend_t_27', 'ptend_t_28', 'ptend_t_29', 'ptend_t_30', 'ptend_t_31', 'ptend_t_32', 'ptend_t_33', 'ptend_t_34', 'ptend_t_35', 'ptend_t_36', 'ptend_t_37', 'ptend_t_38', 'ptend_t_39', 'ptend_t_40', 'ptend_t_41', 'ptend_t_42', 'ptend_t_43', 'ptend_t_44', 'ptend_t_45', 'ptend_t_46', 'ptend_t_47', 'ptend_t_48', 'ptend_t_49', 'ptend_t_50', 'ptend_t_51', 'ptend_t_52', 'ptend_t_53', 'ptend_t_54', 'ptend_t_55', 'ptend_t_56', 'ptend_t_57', 'ptend_t_58', 'ptend_t_59', 'ptend_q0001_0', 'ptend_q0001_1', 'ptend_q0001_2', 'ptend_q0001_3', 'ptend_q0001_4', 'ptend_q0001_5', 'ptend_q0001_6', 'ptend_q0001_7', 'ptend_q0001_8', 'ptend_q0001_9', 'ptend_q0001_10', 'ptend_q0001_11', 'ptend_q0001_12', 'ptend_q0001_13', 'ptend_q0001_14', 'ptend_q0001_15', 'ptend_q0001_16', 'ptend_q0001_17', 'ptend_q0001_18', 'ptend_q0001_19', 'ptend_q0001_20', 'ptend_q0001_21', 'ptend_q0001_22', 'ptend_q0001_23', 'ptend_q0001_24', 'ptend_q0001_25', 'ptend_q0001_26', 'ptend_q0001_27', 'ptend_q0001_28', 'ptend_q0001_29', 'ptend_q0001_30', 'ptend_q0001_31', 'ptend_q0001_32', 'ptend_q0001_33', 'ptend_q0001_34', 'ptend_q0001_35', 'ptend_q0001_36', 'ptend_q0001_37', 'ptend_q0001_38', 'ptend_q0001_39', 'ptend_q0001_40', 'ptend_q0001_41', 'ptend_q0001_42', 'ptend_q0001_43', 'ptend_q0001_44', 'ptend_q0001_45', 'ptend_q0001_46', 'ptend_q0001_47', 'ptend_q0001_48', 'ptend_q0001_49', 'ptend_q0001_50', 'ptend_q0001_51', 'ptend_q0001_52', 'ptend_q0001_53', 'ptend_q0001_54', 'ptend_q0001_55', 'ptend_q0001_56', 'ptend_q0001_57', 'ptend_q0001_58', 'ptend_q0001_59', 'ptend_q0002_0', 'ptend_q0002_1', 'ptend_q0002_2', 'ptend_q0002_3', 'ptend_q0002_4', 'ptend_q0002_5', 'ptend_q0002_6', 'ptend_q0002_7', 'ptend_q0002_8', 'ptend_q0002_9', 'ptend_q0002_10', 'ptend_q0002_11', 'ptend_q0002_12', 'ptend_q0002_13', 'ptend_q0002_14', 'ptend_q0002_15', 'ptend_q0002_16', 'ptend_q0002_17', 'ptend_q0002_18', 'ptend_q0002_19', 'ptend_q0002_20', 'ptend_q0002_21', 'ptend_q0002_22', 'ptend_q0002_23', 'ptend_q0002_24', 'ptend_q0002_25', 'ptend_q0002_26', 'ptend_q0002_27', 'ptend_q0002_28', 'ptend_q0002_29', 'ptend_q0002_30', 'ptend_q0002_31', 'ptend_q0002_32', 'ptend_q0002_33', 'ptend_q0002_34', 'ptend_q0002_35', 'ptend_q0002_36', 'ptend_q0002_37', 'ptend_q0002_38', 'ptend_q0002_39', 'ptend_q0002_40', 'ptend_q0002_41', 'ptend_q0002_42', 'ptend_q0002_43', 'ptend_q0002_44', 'ptend_q0002_45', 'ptend_q0002_46', 'ptend_q0002_47', 'ptend_q0002_48', 'ptend_q0002_49', 'ptend_q0002_50', 'ptend_q0002_51', 'ptend_q0002_52', 'ptend_q0002_53', 'ptend_q0002_54', 'ptend_q0002_55', 'ptend_q0002_56', 'ptend_q0002_57', 'ptend_q0002_58', 'ptend_q0002_59', 'ptend_q0003_0', 'ptend_q0003_1', 'ptend_q0003_2', 'ptend_q0003_3', 'ptend_q0003_4', 'ptend_q0003_5', 'ptend_q0003_6', 'ptend_q0003_7', 'ptend_q0003_8', 'ptend_q0003_9', 'ptend_q0003_10', 'ptend_q0003_11', 'ptend_q0003_12', 'ptend_q0003_13', 'ptend_q0003_14', 'ptend_q0003_15', 'ptend_q0003_16', 'ptend_q0003_17', 'ptend_q0003_18', 'ptend_q0003_19', 'ptend_q0003_20', 'ptend_q0003_21', 'ptend_q0003_22', 'ptend_q0003_23', 'ptend_q0003_24', 'ptend_q0003_25', 'ptend_q0003_26', 'ptend_q0003_27', 'ptend_q0003_28', 'ptend_q0003_29', 'ptend_q0003_30', 'ptend_q0003_31', 'ptend_q0003_32', 'ptend_q0003_33', 'ptend_q0003_34', 'ptend_q0003_35', 'ptend_q0003_36', 'ptend_q0003_37', 'ptend_q0003_38', 'ptend_q0003_39', 'ptend_q0003_40', 'ptend_q0003_41', 'ptend_q0003_42', 'ptend_q0003_43', 'ptend_q0003_44', 'ptend_q0003_45', 'ptend_q0003_46', 'ptend_q0003_47', 'ptend_q0003_48', 'ptend_q0003_49', 'ptend_q0003_50', 'ptend_q0003_51', 'ptend_q0003_52', 'ptend_q0003_53', 'ptend_q0003_54', 'ptend_q0003_55', 'ptend_q0003_56', 'ptend_q0003_57', 'ptend_q0003_58', 'ptend_q0003_59', 'ptend_u_0', 'ptend_u_1', 'ptend_u_2', 'ptend_u_3', 'ptend_u_4', 'ptend_u_5', 'ptend_u_6', 'ptend_u_7', 'ptend_u_8', 'ptend_u_9', 'ptend_u_10', 'ptend_u_11', 'ptend_u_12', 'ptend_u_13', 'ptend_u_14', 'ptend_u_15', 'ptend_u_16', 'ptend_u_17', 'ptend_u_18', 'ptend_u_19', 'ptend_u_20', 'ptend_u_21', 'ptend_u_22', 'ptend_u_23', 'ptend_u_24', 'ptend_u_25', 'ptend_u_26', 'ptend_u_27', 'ptend_u_28', 'ptend_u_29', 'ptend_u_30', 'ptend_u_31', 'ptend_u_32', 'ptend_u_33', 'ptend_u_34', 'ptend_u_35', 'ptend_u_36', 'ptend_u_37', 'ptend_u_38', 'ptend_u_39', 'ptend_u_40', 'ptend_u_41', 'ptend_u_42', 'ptend_u_43', 'ptend_u_44', 'ptend_u_45', 'ptend_u_46', 'ptend_u_47', 'ptend_u_48', 'ptend_u_49', 'ptend_u_50', 'ptend_u_51', 'ptend_u_52', 'ptend_u_53', 'ptend_u_54', 'ptend_u_55', 'ptend_u_56', 'ptend_u_57', 'ptend_u_58', 'ptend_u_59', 'ptend_v_0', 'ptend_v_1', 'ptend_v_2', 'ptend_v_3', 'ptend_v_4', 'ptend_v_5', 'ptend_v_6', 'ptend_v_7', 'ptend_v_8', 'ptend_v_9', 'ptend_v_10', 'ptend_v_11', 'ptend_v_12', 'ptend_v_13', 'ptend_v_14', 'ptend_v_15', 'ptend_v_16', 'ptend_v_17', 'ptend_v_18', 'ptend_v_19', 'ptend_v_20', 'ptend_v_21', 'ptend_v_22', 'ptend_v_23', 'ptend_v_24', 'ptend_v_25', 'ptend_v_26', 'ptend_v_27', 'ptend_v_28', 'ptend_v_29', 'ptend_v_30', 'ptend_v_31', 'ptend_v_32', 'ptend_v_33', 'ptend_v_34', 'ptend_v_35', 'ptend_v_36', 'ptend_v_37', 'ptend_v_38', 'ptend_v_39', 'ptend_v_40', 'ptend_v_41', 'ptend_v_42', 'ptend_v_43', 'ptend_v_44', 'ptend_v_45', 'ptend_v_46', 'ptend_v_47', 'ptend_v_48', 'ptend_v_49', 'ptend_v_50', 'ptend_v_51', 'ptend_v_52', 'ptend_v_53', 'ptend_v_54', 'ptend_v_55', 'ptend_v_56', 'ptend_v_57', 'ptend_v_58', 'ptend_v_59', 'cam_out_NETSW', 'cam_out_FLWDS', 'cam_out_PRECSC', 'cam_out_PRECC', 'cam_out_SOLS', 'cam_out_SOLL', 'cam_out_SOLSD', 'cam_out_SOLLD']"
   ]
  },
  {
   "cell_type": "code",
   "execution_count": 9,
   "metadata": {},
   "outputs": [
    {
     "data": {
      "text/plain": [
       "array([1., 1., 1., 1., 1., 1., 1., 1., 1., 1., 1., 1., 1., 1., 1., 1., 1.,\n",
       "       1., 1., 1., 1., 1., 1., 1., 1., 1., 1., 1., 1., 1., 1., 1., 1., 1.,\n",
       "       1., 1., 1., 1., 1., 1., 1., 1., 1., 1., 1., 1., 1., 1., 1., 1., 1.,\n",
       "       1., 1., 1., 1., 1., 1., 1., 1., 1., 1., 1., 1., 1., 1., 1., 1., 1.,\n",
       "       1., 1., 1., 1., 1., 1., 1., 1., 1., 1., 1., 1., 1., 1., 1., 1., 1.,\n",
       "       1., 1., 1., 1., 1., 1., 1., 1., 1., 1., 1., 1., 1., 1., 1., 1., 1.,\n",
       "       1., 1., 1., 1., 1., 1., 1., 1., 1., 1., 1., 1., 1., 1., 1., 1., 1.,\n",
       "       1., 1., 1., 1., 1., 1., 1., 1., 1., 1., 1., 1., 1., 1., 1., 1., 1.,\n",
       "       1., 1., 1., 1., 1., 1., 1., 1., 1., 1., 1., 1., 1., 1., 1., 1., 1.,\n",
       "       1., 1., 1., 1., 1., 1., 1., 1., 1., 1., 1., 1., 1., 1., 1., 1., 1.,\n",
       "       1., 1., 1., 1., 1., 1., 1., 1., 1., 1., 1., 1., 1., 1., 1., 1., 1.,\n",
       "       1., 1., 1., 1., 1., 1., 1., 1., 1., 1., 1., 1., 1., 1., 1., 1., 1.,\n",
       "       1., 1., 1., 1., 1., 1., 1., 1., 1., 1., 1., 1., 1., 1., 1., 1., 1.,\n",
       "       1., 1., 1., 1., 1., 1., 1., 1., 1., 1., 1., 1., 1., 1., 1., 1., 1.,\n",
       "       1., 1., 1., 1., 1., 1., 1., 1., 1., 1., 1., 1., 1., 1., 1., 1., 1.,\n",
       "       1., 1., 1., 1., 1., 1., 1., 1., 1., 1., 1., 1., 1., 1., 1., 1., 1.,\n",
       "       1., 1., 1., 1., 1., 1., 1., 1., 1., 1., 1., 1., 1., 1., 1., 1., 1.,\n",
       "       1., 1., 1., 1.])"
      ]
     },
     "execution_count": 9,
     "metadata": {},
     "output_type": "execute_result"
    }
   ],
   "source": [
    "#SCALE_WEIGHTS_INIT = [100000.0, 1000000.0, 1000000.0, 1000000.0, 1000000.0, 1000000.0, 10000000.0, 10000000.0, 10000000.0, 1000000000.0, 10000000.0, 10000000.0, 10000000.0, 10000000.0, 10000000.0, 10000000.0, 1000000.0, 1000000.0, 10000000.0, 10000000.0, 10000000.0, 1000000.0, 1000000.0, 1000000.0, 1000000.0, 1000000.0, 1000000.0, 1000000.0, 1000000.0, 1000000.0, 1000000.0, 10000000.0, 10000000.0, 10000000.0, 10000000.0, 10000000.0, 10000000.0, 10000000.0, 10000000.0, 10000000.0, 10000000.0, 10000000.0, 100000000.0, 10000000.0, 10000000.0, 10000000.0, 10000000.0, 10000000.0, 1000000.0, 1000000.0, 1000000.0, 1000000.0, 1000000.0, 1000000.0, 1000000.0, 1000000.0, 1000000.0, 1000000.0, 100000.0, 100000.0, 1e+17, 1e+17, 1e+17, 1e+18, 1.0, 1.0, 1.0, 1.0, 1.0, 1.0, 1.0, 1.0, 1000000000000000.0, 1000000000000000.0, 1000000000000000.0, 100000000000000.0, 100000000000000.0, 10000000000000.0, 10000000000000.0, 1000000000000.0, 1000000000000.0, 100000000000.0, 100000000000.0, 10000000000.0, 10000000000.0, 10000000000.0, 1000000000.0, 1000000000.0, 1000000000.0, 1000000000.0, 1000000000.0, 1000000000.0, 1000000000.0, 1000000000.0, 1000000000.0, 1000000000.0, 1000000000.0, 1000000000.0, 1000000000.0, 1000000000.0, 1000000000.0, 1000000000.0, 10000000000.0, 10000000000.0, 10000000000.0, 1000000000.0, 1000000000.0, 10000000000.0, 10000000000.0, 10000000000.0, 1000000000.0, 1000000000.0, 1000000000.0, 100000000.0, 100000000.0, 100000000.0, 100000000.0, 100000000.0, 100000000.0, 100000000.0, 1.0, 1.0, 1.0, 1.0, 1.0, 1.0, 1.0, 1.0, 1.0, 1.0, 1.0, 1.0, 1e+41, 1e+47, 1e+52, 1e+55, 1e+50, 1e+47, 1e+44, 1e+42, 1e+39, 1e+36, 1e+33, 1e+30, 1e+27, 1e+23, 1e+18, 1000000000000000.0, 1000000000000.0, 100000000000.0, 100000000000.0, 100000000000.0, 100000000000.0, 100000000000.0, 100000000000.0, 100000000000.0, 100000000000.0, 100000000000.0, 100000000000.0, 100000000000000.0, 100000000000.0, 100000000000.0, 100000000000.0, 100000000000.0, 100000000000.0, 10000000000.0, 10000000000.0, 10000000000.0, 100000000000.0, 10000000000.0, 10000000000.0, 10000000000.0, 10000000000.0, 10000000000.0, 100000000000.0, 100000000000.0, 100000000000.0, 1000000000000.0, 100000000000.0, 10000000000.0, 1.0, 1.0, 1.0, 1.0, 1.0, 1.0, 1.0, 1.0, 1.0, 1.0, 1.0, 1.0, 1000000000000000.0, 1e+16, 1000000000000000.0, 100000000000000.0, 10000000000000.0, 10000000000000.0, 1000000000000.0, 100000000000.0, 100000000000.0, 100000000000.0, 100000000000.0, 10000000000.0, 10000000000.0, 10000000000.0, 10000000000.0, 10000000000.0, 100000000000.0, 100000000000.0, 100000000000.0, 100000000000.0, 10000000000.0, 100000000000.0, 100000000000.0, 100000000000.0, 100000000000.0, 100000000000.0, 100000000000.0, 100000000000.0, 100000000000.0, 100000000000.0, 100000000000.0, 100000000000.0, 100000000000.0, 100000000000.0, 100000000000.0, 100000000000.0, 100000000000.0, 100000000000.0, 100000000000.0, 100000000000.0, 100000000000.0, 100000000000.0, 100000000000.0, 1000000000000.0, 100000000000.0, 100000000000.0, 100000000000.0, 10000000000.0, 1.0, 1.0, 1.0, 1.0, 1.0, 1.0, 1.0, 1.0, 1.0, 1.0, 1.0, 1.0, 1000000000.0, 1000000000.0, 100000000.0, 100000000.0, 100000000.0, 10000000.0, 1000000.0, 1000000.0, 10000000.0, 1000000000.0, 10000000.0, 10000000.0, 1000000.0, 1000000.0, 1000000.0, 1000000.0, 1000000.0, 1000000.0, 1000000.0, 10000000.0, 10000000.0, 10000000.0, 10000000.0, 10000000.0, 10000000.0, 10000000.0, 10000000.0, 10000000.0, 10000000.0, 1000000.0, 1000000.0, 1000000.0, 1000000.0, 1000000.0, 1000000.0, 1000000.0, 1000000.0, 10000000.0, 10000000.0, 1000000.0, 1000000.0, 1000000.0, 1000000.0, 1000000.0, 1000000.0, 1000000.0, 1000000.0, 1000000.0, 1.0, 1.0, 1.0, 1.0, 1.0, 1.0, 1.0, 1.0, 1.0, 1.0, 1.0, 1.0, 10000000000.0, 10000000000.0, 1000000000.0, 100000000.0, 1000000000.0, 10000000.0, 100000000.0, 10000000.0, 10000000.0, 10000000.0, 10000000.0, 100000000.0, 10000000.0, 10000000.0, 10000000.0, 10000000.0, 100000000.0, 100000000.0, 100000000.0, 1000000000.0, 100000000.0, 100000000.0, 100000000.0, 1000000000.0, 100000000.0, 10000000.0, 10000000.0, 10000000.0, 10000000.0, 10000000.0, 100000000.0, 10000000.0, 10000000.0, 10000000.0, 10000000.0, 10000000.0, 10000000.0, 10000000.0, 100000000.0, 10000000.0, 10000000.0, 1000000.0, 1000000.0, 1000000.0, 10000000.0, 10000000.0, 1000000.0, 10000000.0, 0.01, 0.001, 1000000000.0, 100000000.0, 0.01, 0.01, 0.01, 0.1]\n",
    "SCALE_WEIGHTS_INIT = [10000.0, 10000.0, 10000.0, 10000.0, 10000.0, 10000.0, 10000.0, 10000.0, 10000.0, 10000.0, 100000.0, 100000.0, 100000.0, 100000.0, 100000.0, 100000.0, 100000.0, 10000.0, 10000.0, 10000.0, 10000.0, 10000.0, 10000.0, 10000.0, 10000.0, 10000.0, 10000.0, 10000.0, 10000.0, 10000.0, 10000.0, 10000.0, 10000.0, 10000.0, 10000.0, 10000.0, 10000.0, 10000.0, 10000.0, 10000.0, 10000.0, 10000.0, 10000.0, 10000.0, 10000.0, 10000.0, 10000.0, 10000.0, 10000.0, 10000.0, 10000.0, 10000.0, 10000.0, 10000.0, 10000.0, 10000.0, 10000.0, 10000.0, 10000.0, 10000.0, 10000000000000.0, 10000000000000.0, 10000000000000.0, 1.0, 1.0, 1.0, 1.0, 1.0, 1.0, 1.0, 1.0, 1.0, 100000000000.0, 100000000000.0, 100000000000.0, 10000000000.0, 10000000000.0, 10000000000.0, 10000000000.0, 1000000000.0, 1000000000.0, 100000000.0, 100000000.0, 100000000.0, 100000000.0, 100000000.0, 10000000.0, 10000000.0, 10000000.0, 10000000.0, 10000000.0, 10000000.0, 10000000.0, 10000000.0, 10000000.0, 10000000.0, 10000000.0, 10000000.0, 10000000.0, 10000000.0, 10000000.0, 10000000.0, 10000000.0, 10000000.0, 10000000.0, 10000000.0, 10000000.0, 10000000.0, 10000000.0, 10000000.0, 10000000.0, 10000000.0, 10000000.0, 10000000.0, 10000000.0, 10000000.0, 10000000.0, 10000000.0, 10000000.0, 10000000.0, 1.0, 1.0, 1.0, 1.0, 1.0, 1.0, 1.0, 1.0, 1.0, 1.0, 1.0, 1.0, 1e+38, 1e+44, 1e+49, 1e+53, 1e+54, 1e+49, 1e+46, 1e+42, 1e+39, 1e+36, 1e+33, 1e+29, 1e+25, 1e+20, 1e+16, 100000000000.0, 1000000000.0, 100000000.0, 100000000.0, 100000000.0, 100000000.0, 100000000.0, 100000000.0, 100000000.0, 100000000.0, 100000000.0, 100000000.0, 10000000.0, 10000000.0, 10000000.0, 10000000.0, 10000000.0, 10000000.0, 10000000.0, 10000000.0, 10000000.0, 100000000.0, 100000000.0, 100000000.0, 100000000.0, 100000000.0, 100000000.0, 100000000.0, 100000000.0, 100000000.0, 100000000.0, 100000000.0, 100000000.0, 1.0, 1.0, 1.0, 1.0, 1.0, 1.0, 1.0, 1.0, 1.0, 1.0, 1.0, 1.0, 100000000000.0, 100000000000.0, 100000000000.0, 10000000000.0, 1000000000.0, 100000000.0, 100000000.0, 10000000.0, 10000000.0, 10000000.0, 10000000.0, 10000000.0, 10000000.0, 10000000.0, 10000000.0, 10000000.0, 10000000.0, 10000000.0, 10000000.0, 10000000.0, 100000000.0, 100000000.0, 100000000.0, 100000000.0, 100000000.0, 100000000.0, 100000000.0, 100000000.0, 100000000.0, 100000000.0, 100000000.0, 100000000.0, 100000000.0, 100000000.0, 100000000.0, 100000000.0, 100000000.0, 100000000.0, 100000000.0, 100000000.0, 100000000.0, 100000000.0, 100000000.0, 100000000.0, 100000000.0, 100000000.0, 100000000.0, 100000000.0, 1.0, 1.0, 1.0, 1.0, 1.0, 1.0, 1.0, 1.0, 1.0, 1.0, 1.0, 1.0, 1000000.0, 1000000.0, 100000.0, 100000.0, 10000.0, 10000.0, 10000.0, 10000.0, 10000.0, 10000.0, 10000.0, 10000.0, 10000.0, 10000.0, 10000.0, 10000.0, 10000.0, 10000.0, 10000.0, 10000.0, 10000.0, 10000.0, 10000.0, 10000.0, 10000.0, 10000.0, 10000.0, 10000.0, 10000.0, 10000.0, 10000.0, 10000.0, 10000.0, 10000.0, 10000.0, 10000.0, 10000.0, 10000.0, 10000.0, 10000.0, 10000.0, 10000.0, 10000.0, 10000.0, 10000.0, 10000.0, 10000.0, 10000.0, 1.0, 1.0, 1.0, 1.0, 1.0, 1.0, 1.0, 1.0, 1.0, 1.0, 1.0, 1.0, 1000000.0, 1000000.0, 100000.0, 100000.0, 100000.0, 10000.0, 10000.0, 10000.0, 10000.0, 10000.0, 10000.0, 10000.0, 10000.0, 10000.0, 10000.0, 10000.0, 10000.0, 10000.0, 10000.0, 10000.0, 10000.0, 10000.0, 10000.0, 10000.0, 10000.0, 10000.0, 10000.0, 10000.0, 10000.0, 10000.0, 10000.0, 10000.0, 10000.0, 10000.0, 10000.0, 10000.0, 10000.0, 10000.0, 10000.0, 10000.0, 10000.0, 10000.0, 10000.0, 10000.0, 10000.0, 10000.0, 10000.0, 10000.0, 0.001, 0.001, 100000000.0, 1000000.0, 0.001, 0.001, 0.01, 0.01]\n",
    "SCALE_WEIGHTS = [min(w, 1e64) for w in SCALE_WEIGHTS_INIT]\n",
    "\n",
    "LOSS_SCALE = np.array(SCALE_WEIGHTS_INIT) / np.array(SCALE_WEIGHTS)\n",
    "\n",
    "np.array(SCALE_WEIGHTS_INIT)[np.array(TARGET_WEIGHTS)>0] / np.array(SCALE_WEIGHTS)[np.array(TARGET_WEIGHTS)>0]\n"
   ]
  },
  {
   "cell_type": "code",
   "execution_count": 10,
   "metadata": {},
   "outputs": [
    {
     "data": {
      "text/plain": [
       "finfo(resolution=1e-15, min=-1.79769e+308, max=1.79769e+308, eps=2.22045e-16, smallest_normal=2.22507e-308, tiny=2.22507e-308, dtype=float64)"
      ]
     },
     "execution_count": 10,
     "metadata": {},
     "output_type": "execute_result"
    }
   ],
   "source": [
    "\n",
    "torch.finfo(torch.float64)"
   ]
  },
  {
   "cell_type": "code",
   "execution_count": 11,
   "metadata": {},
   "outputs": [],
   "source": [
    "ID_IDX = 0\n",
    "\n",
    "STATE_PS_IDX = 360\n",
    "\n",
    "PBUF_SOLIN_IDX = 361\n",
    "PBUF_LHFLX_IDX = 362\n",
    "PBUF_SHFLX_IDX = 363\n",
    "PBUF_TAUX_IDX = 364\n",
    "PBUF_TAUY_IDX = 365\n",
    "PBUF_COSZRS_IDX = 366\n",
    "\n",
    "CAM_IN_ALDIF_IDX = 367\n",
    "CAM_IN_ALDIR_IDX = 368\n",
    "CAM_IN_ASDIF_IDX = 369\n",
    "CAM_IN_ASDIR_IDX = 370\n",
    "CAM_IN_LWUP_IDX = 371\n",
    "CAM_IN_ICEFRAC_IDX = 372\n",
    "CAM_IN_LANDFRAC_IDX = 373\n",
    "CAM_IN_OCNFRAC_IDX = 374\n",
    "CAM_IN_SNOWHLAND_IDX = 375\n",
    "\n",
    "CAM_OUT_NETSW_IDX = 360\n",
    "CAM_OUT_FLWDS_IDX = 361\n",
    "CAM_OUT_PRECSC_IDX = 362\n",
    "CAM_OUT_PRECC_IDX = 363\n",
    "CAM_OUT_SOLS_IDX = 364\n",
    "CAM_OUT_SOLL_IDX = 365\n",
    "CAM_OUT_SOLSD_IDX = 366\n",
    "CAM_OUT_SOLLD_IDX = 367\n",
    "\n",
    "STATE_U_IDX = [240, 241, 242, 243, 244, 245, 246, 247, 248, 249, 250, 251, 252, 253, 254, 255, 256, 257, 258, 259, 260, 261, 262, 263, 264, 265, 266, 267, 268, 269, 270, 271, 272, 273, 274, 275, 276, 277, 278, 279, 280, 281, 282, 283, 284, 285, 286, 287, 288, 289, 290, 291, 292, 293, 294, 295, 296, 297, 298, 299]\n",
    "STATE_V_IDX = [300, 301, 302, 303, 304, 305, 306, 307, 308, 309, 310, 311, 312, 313, 314, 315, 316, 317, 318, 319, 320, 321, 322, 323, 324, 325, 326, 327, 328, 329, 330, 331, 332, 333, 334, 335, 336, 337, 338, 339, 340, 341, 342, 343, 344, 345, 346, 347, 348, 349, 350, 351, 352, 353, 354, 355, 356, 357, 358, 359]\n",
    "STATE_T_IDX = [0, 1, 2, 3, 4, 5, 6, 7, 8, 9, 10, 11, 12, 13, 14, 15, 16, 17, 18, 19, 20, 21, 22, 23, 24, 25, 26, 27, 28, 29, 30, 31, 32, 33, 34, 35, 36, 37, 38, 39, 40, 41, 42, 43, 44, 45, 46, 47, 48, 49, 50, 51, 52, 53, 54, 55, 56, 57, 58, 59]\n",
    "\n",
    "STATE_Q0001_IDX = [60, 61, 62, 63, 64, 65, 66, 67, 68, 69, 70, 71, 72, 73, 74, 75, 76, 77, 78, 79, 80, 81, 82, 83, 84, 85, 86, 87, 88, 89, 90, 91, 92, 93, 94, 95, 96, 97, 98, 99, 100, 101, 102, 103, 104, 105, 106, 107, 108, 109, 110, 111, 112, 113, 114, 115, 116, 117, 118, 119]\n",
    "STATE_Q0002_IDX = [120, 121, 122, 123, 124, 125, 126, 127, 128, 129, 130, 131, 132, 133, 134, 135, 136, 137, 138, 139, 140, 141, 142, 143, 144, 145, 146, 147, 148, 149, 150, 151, 152, 153, 154, 155, 156, 157, 158, 159, 160, 161, 162, 163, 164, 165, 166, 167, 168, 169, 170, 171, 172, 173, 174, 175, 176, 177, 178, 179]\n",
    "STATE_Q0003_IDX = [180, 181, 182, 183, 184, 185, 186, 187, 188, 189, 190, 191, 192, 193, 194, 195, 196, 197, 198, 199, 200, 201, 202, 203, 204, 205, 206, 207, 208, 209, 210, 211, 212, 213, 214, 215, 216, 217, 218, 219, 220, 221, 222, 223, 224, 225, 226, 227, 228, 229, 230, 231, 232, 233, 234, 235, 236, 237, 238, 239]\n",
    "\n",
    "PBUF_OZONE_IDX = [376, 377, 378, 379, 380, 381, 382, 383, 384, 385, 386, 387, 388, 389, 390, 391, 392, 393, 394, 395, 396, 397, 398, 399, 400, 401, 402, 403, 404, 405, 406, 407, 408, 409, 410, 411, 412, 413, 414, 415, 416, 417, 418, 419, 420, 421, 422, 423, 424, 425, 426, 427, 428, 429, 430, 431, 432, 433, 434, 435]\n",
    "PBUF_CH4_IDX = [436, 437, 438, 439, 440, 441, 442, 443, 444, 445, 446, 447, 448, 449, 450, 451, 452, 453, 454, 455, 456, 457, 458, 459, 460, 461, 462, 463, 464, 465, 466, 467, 468, 469, 470, 471, 472, 473, 474, 475, 476, 477, 478, 479, 480, 481, 482, 483, 484, 485, 486, 487, 488, 489, 490, 491, 492, 493, 494, 495]\n",
    "PBUF_N2O_IDX = [496, 497, 498, 499, 500, 501, 502, 503, 504, 505, 506, 507, 508, 509, 510, 511, 512, 513, 514, 515, 516, 517, 518, 519, 520, 521, 522, 523, 524, 525, 526, 527, 528, 529, 530, 531, 532, 533, 534, 535, 536, 537, 538, 539, 540, 541, 542, 543, 544, 545, 546, 547, 548, 549, 550, 551, 552, 553, 554, 555]\n",
    "\n",
    "PTEND_Q0001_IDX = [60, 61, 62, 63, 64, 65, 66, 67, 68, 69, 70, 71, 72, 73, 74, 75, 76, 77, 78, 79, 80, 81, 82, 83, 84, 85, 86, 87, 88, 89, 90, 91, 92, 93, 94, 95, 96, 97, 98, 99, 100, 101, 102, 103, 104, 105, 106, 107, 108, 109, 110, 111, 112, 113, 114, 115, 116, 117, 118, 119]\n",
    "PTEND_Q0002_IDX = [120, 121, 122, 123, 124, 125, 126, 127, 128, 129, 130, 131, 132, 133, 134, 135, 136, 137, 138, 139, 140, 141, 142, 143, 144, 145, 146, 147, 148, 149, 150, 151, 152, 153, 154, 155, 156, 157, 158, 159, 160, 161, 162, 163, 164, 165, 166, 167, 168, 169, 170, 171, 172, 173, 174, 175, 176, 177, 178, 179]\n",
    "PTEND_Q0003_IDX = [180, 181, 182, 183, 184, 185, 186, 187, 188, 189, 190, 191, 192, 193, 194, 195, 196, 197, 198, 199, 200, 201, 202, 203, 204, 205, 206, 207, 208, 209, 210, 211, 212, 213, 214, 215, 216, 217, 218, 219, 220, 221, 222, 223, 224, 225, 226, 227, 228, 229, 230, 231, 232, 233, 234, 235, 236, 237, 238, 239]\n",
    "\n",
    "PTEND_U_IDX = [240, 241, 242, 243, 244, 245, 246, 247, 248, 249, 250, 251, 252, 253, 254, 255, 256, 257, 258, 259, 260, 261, 262, 263, 264, 265, 266, 267, 268, 269, 270, 271, 272, 273, 274, 275, 276, 277, 278, 279, 280, 281, 282, 283, 284, 285, 286, 287, 288, 289, 290, 291, 292, 293, 294, 295, 296, 297, 298, 299]\n",
    "PTEND_V_IDX = [300, 301, 302, 303, 304, 305, 306, 307, 308, 309, 310, 311, 312, 313, 314, 315, 316, 317, 318, 319, 320, 321, 322, 323, 324, 325, 326, 327, 328, 329, 330, 331, 332, 333, 334, 335, 336, 337, 338, 339, 340, 341, 342, 343, 344, 345, 346, 347, 348, 349, 350, 351, 352, 353, 354, 355, 356, 357, 358, 359]\n",
    "PTEND_T_IDX = [0, 1, 2, 3, 4, 5, 6, 7, 8, 9, 10, 11, 12, 13, 14, 15, 16, 17, 18, 19, 20, 21, 22, 23, 24, 25, 26, 27, 28, 29, 30, 31, 32, 33, 34, 35, 36, 37, 38, 39, 40, 41, 42, 43, 44, 45, 46, 47, 48, 49, 50, 51, 52, 53, 54, 55, 56, 57, 58, 59]"
   ]
  },
  {
   "cell_type": "code",
   "execution_count": 12,
   "metadata": {},
   "outputs": [],
   "source": [
    "def r2_score(y_pred:torch.Tensor, y_true:torch.Tensor) -> float:\n",
    "    \"\"\"\n",
    "    Calculate the R^2 (coefficient of determination) regression score.\n",
    "    \n",
    "    Parameters\n",
    "    ----------\n",
    "    y_pred : torch.Tensor\n",
    "        The predicted values.\n",
    "    y_true : torch.Tensor\n",
    "        The true values.\n",
    "\n",
    "    Returns\n",
    "    -------\n",
    "    float\n",
    "        The R^2 score, a float value.\n",
    "    \"\"\"\n",
    "    \n",
    "    ss_res = torch.sum((y_true - y_pred) ** 2) \n",
    "    ss_tot = torch.sum((y_true - torch.mean(y_true)) ** 2)\n",
    "    \n",
    "    r2 = 1 - ss_res / ss_tot\n",
    "    \n",
    "    return r2.item()"
   ]
  },
  {
   "cell_type": "code",
   "execution_count": 13,
   "metadata": {},
   "outputs": [],
   "source": [
    "def r2_score_clipped(y_pred:torch.Tensor, y_true:torch.Tensor, return_all = False) -> float:\n",
    "    \"\"\"\n",
    "    Calculate the R^2 (coefficient of determination) regression score.\n",
    "    \n",
    "    Parameters\n",
    "    ----------\n",
    "    y_pred : torch.Tensor\n",
    "        The predicted values.\n",
    "    y_true : torch.Tensor\n",
    "        The true values.\n",
    "\n",
    "    Returns\n",
    "    -------\n",
    "    float\n",
    "        The R^2 score, a float value.\n",
    "    \"\"\"\n",
    "\n",
    "    scores_valid = np.array([metrics.r2_score(y_true[:, i], y_pred[:, i]) if w >0 else 1 for i,w in enumerate(TARGET_WEIGHTS) ])\n",
    "    if not return_all:\n",
    "        return scores_valid.clip(-1, 1).mean()\n",
    "    else:\n",
    "        return scores_valid.clip(-1, 1).mean(), scores_valid.clip(-1, 1)\n",
    "        \n",
    "    #return (scores_valid.clip(-1, 1) * np.array(TARGET_WEIGHTS)).sum() / np.array(TARGET_WEIGHTS).sum() "
   ]
  },
  {
   "cell_type": "code",
   "execution_count": 14,
   "metadata": {},
   "outputs": [],
   "source": [
    "def calc_mean_std(ds_data:Dataset) -> None:\n",
    "    \"\"\"\n",
    "    Calculate and set the global mean and standard deviation for the dataset features and targets.\n",
    "    \n",
    "    Parameters\n",
    "    ----------\n",
    "    ds_data : torch.utils.data.Dataset\n",
    "        Dataset containing the data for which mean and standard deviation are to be calculated. \n",
    "        It should have attributes `x` and `y` representing features and targets, respectively.\n",
    "\n",
    "    Returns\n",
    "    -------\n",
    "    None\n",
    "    \"\"\"\n",
    "    \n",
    "    global X_MEAN, X_STD, Y_MEAN, Y_STD\n",
    "    \n",
    "    x = ds_data.x.double()\n",
    "    y = ds_data.y.double()\n",
    "    \n",
    "    X_MEAN = torch.mean(x, 0)\n",
    "    X_STD = torch.maximum(torch.std(x, 0), torch.tensor(ERR, dtype = torch.float64))\n",
    "    \n",
    "    Y_MEAN = y.mean(axis=0)\n",
    "    Y_STD = torch.maximum(torch.sqrt(torch.mean(torch.pow(y, 2), 0)), torch.tensor(ERR, dtype = torch.float64))\n",
    "    #Y_STD = torch.maximum(torch.mean(torch.abs(y), 0), torch.tensor(ERR))\n",
    "\n",
    "    #Y_MEAN = y.median(axis=0)[0]\n",
    "    #Y_STD = torch.maximum(torch.std(y, 0), torch.tensor(ERR, dtype = torch.float64))\n",
    "    #Y_STD = 0.1 * torch.maximum(torch.sqrt(torch.mean(torch.pow(y, 2), 0)), torch.tensor(ERR, dtype = torch.float64))\n",
    "    #Y_STD = torch.maximum(torch.sqrt(torch.mean(torch.pow(y - Y_MEAN, 2), 0)), torch.tensor(ERR, dtype = torch.float64))\n",
    "    #Y_STD = torch.sqrt(torch.mean(torch.pow(y.double(), 2), 0)).float()"
   ]
  },
  {
   "cell_type": "code",
   "execution_count": 15,
   "metadata": {},
   "outputs": [
    {
     "data": {
      "text/plain": [
       "<function torch._VariableFunctionsClass.abs>"
      ]
     },
     "execution_count": 15,
     "metadata": {},
     "output_type": "execute_result"
    }
   ],
   "source": [
    "torch.abs"
   ]
  },
  {
   "cell_type": "markdown",
   "metadata": {},
   "source": [
    "# TRAIN VAL FUNCTIONS"
   ]
  },
  {
   "cell_type": "code",
   "execution_count": 16,
   "metadata": {},
   "outputs": [],
   "source": [
    "def train_fn(\n",
    "    model: nn.Module, \n",
    "    loader: DataLoader, \n",
    "    optimizer: optim.Optimizer, \n",
    "    criterion: nn.Module,\n",
    ") -> float:\n",
    "    \"\"\"\n",
    "    Train the deep learning model for 1 epoch.\n",
    "    \n",
    "    Parameters\n",
    "    ----------\n",
    "    model : torch.nn.Module\n",
    "        The PyTorch model to be trained.\n",
    "    loader : torch.utils.data.DataLoader\n",
    "        DataLoader for the training data.\n",
    "    optimizer : torch.optim.Optimizer\n",
    "        Optimizer used for the backpropagation.\n",
    "    criterion : torch.nn.Module\n",
    "        Loss function used to compute the loss between the predicted and true values.\n",
    "\n",
    "    Returns\n",
    "    -------\n",
    "    float\n",
    "        The average training loss over the epoch.\n",
    "    \"\"\"\n",
    "    \n",
    "    #progress_bar = tqdm(enumerate(loader, start=1), total=len(loader), ncols=100)\n",
    "    progress_bar = tqdm(enumerate(loader, start=1), total=NUM_STEPS, ncols=100)\n",
    "    progress_bar.set_description(f'Epoch {epoch}')\n",
    "    model.train()\n",
    "    train_loss = 0\n",
    "\n",
    "    y_std = torch.tensor(Y_STD, dtype = torch.float64).to(DEVICE)\n",
    "    y_mean = torch.tensor(Y_MEAN, dtype = torch.float64).to(DEVICE)   \n",
    "\n",
    "    \n",
    "    for step, batch in progress_bar:\n",
    "\n",
    "        if step == NUM_STEPS:\n",
    "            break\n",
    "        \n",
    "        x, y, l = batch\n",
    "        x, y, l = x.to(DEVICE), y.to(DEVICE), l.to(DEVICE)\n",
    "\n",
    "        MIN_STAT = LOC_Y_MIN[l].to(DEVICE)\n",
    "        MAX_STAT = LOC_Y_MAX[l].to(DEVICE)\n",
    "        \n",
    "        optimizer.zero_grad()\n",
    "        y_pred = model(x)\n",
    "\n",
    "        constrain_max = (torch.maximum(y_pred - MAX_STAT, torch.tensor(0)) * LOSS_SCALE_TORCH).mean() \n",
    "        constrain_min = (torch.maximum(MIN_STAT - y_pred, torch.tensor(0)) * LOSS_SCALE_TORCH).mean()   \n",
    "\n",
    "        loss = criterion(y_pred, y).mean()\n",
    "\n",
    "        # loss = criterion(((y_pred * y_std) + y_mean)/torch.tensor(SCALE_WEIGHTS, dtype = torch.float64).to(DEVICE)\n",
    "        #                  , ((y * y_std) + y_mean)/torch.tensor(SCALE_WEIGHTS, dtype = torch.float64).to(DEVICE)\n",
    "        #                 ).mean()\n",
    "        \n",
    "        loss = loss + 0.5*constrain_max + constrain_min\n",
    "        \n",
    "        loss.backward()\n",
    "        # Clip gradients\n",
    "        nn.utils.clip_grad_norm_(model.parameters(), 5.0)\n",
    "        \n",
    "        optimizer.step()\n",
    "\n",
    "        train_loss += loss.item()\n",
    "\n",
    "        progress_bar.set_postfix({\n",
    "            'LR': f'{scheduler.get_last_lr()[0]:.6f}',\n",
    "            'train_loss': train_loss / step,\n",
    "        })\n",
    "        \n",
    "    return train_loss/step"
   ]
  },
  {
   "cell_type": "code",
   "execution_count": 17,
   "metadata": {},
   "outputs": [],
   "source": [
    "def valid_fn(model: nn.Module, loader: DataLoader) -> float:\n",
    "    \"\"\"\n",
    "    Validate the deep learning model for 1 epoch.\n",
    "    \n",
    "    Parameters\n",
    "    ----------\n",
    "    model : torch.nn.Module\n",
    "        The PyTorch model to be validated.\n",
    "    loader : torch.utils.data.DataLoader\n",
    "        DataLoader for the validation data.\n",
    "\n",
    "    Returns\n",
    "    -------\n",
    "    float\n",
    "        The average R2 score over the validation epoch.\n",
    "    \"\"\"\n",
    "    \n",
    "    progress_bar = tqdm(enumerate(loader, start=1), total=len(loader), ncols=100)\n",
    "    progress_bar.set_description(f'Epoch {epoch}')\n",
    "    model.eval()\n",
    "    val_score = 0\n",
    "\n",
    "    val_r2_full = 0\n",
    "    val_mse = 0\n",
    "    y_true = []\n",
    "    y_preds = []\n",
    "    with torch.no_grad():\n",
    "        for step, batch in progress_bar:\n",
    "            x, y, _ = batch\n",
    "            x, y = x.to(DEVICE), y.to(DEVICE)\n",
    "            \n",
    "            y_pred = model(x)\n",
    "            \n",
    "            y = y.cpu().to(torch.float64)\n",
    "            y_pred = y_pred.cpu().to(torch.float64)\n",
    "            \n",
    "            val_mse += metrics.mean_squared_error(y, y_pred)\n",
    "\n",
    "            y = (y * Y_STD) + Y_MEAN\n",
    "            #y = (y * Y_STD)\n",
    "            \n",
    "            \n",
    "            #y_pred[:, Y_STD == 0] = Y_MEAN[:, Y_STD == 0]\n",
    "            y_pred = (y_pred * Y_STD) + Y_MEAN\n",
    "            #y_pred = (y_pred * Y_STD)         \n",
    "                \n",
    "            y_pred /= torch.tensor(SCALE_WEIGHTS, dtype = torch.float64)\n",
    "            y /= torch.tensor(SCALE_WEIGHTS, dtype = torch.float64)\n",
    "            \n",
    "            val_score += r2_score(y_pred, y)\n",
    "\n",
    "            \n",
    "            \n",
    "            # progress_bar.set_postfix({\n",
    "            #     'valid_score': val_score / step,\n",
    "            # })\n",
    "    \n",
    "            y_true.append(y)\n",
    "            y_preds.append(y_pred)\n",
    "\n",
    "            if step == len(loader):\n",
    "                val_r2_full, val_r2_all = r2_score_clipped(torch.vstack(y_preds).to(torch.float64), torch.vstack(y_true).to(torch.float64), return_all = True)\n",
    "               \n",
    "            progress_bar.set_postfix({\n",
    "                    'val_sc': val_score / step,\n",
    "                    'val_mse': val_mse / step,\n",
    "                    'val_r2': val_r2_full,            \n",
    "                })\n",
    "            \n",
    "    return val_score/step, val_mse/step, val_r2_full, val_r2_all     "
   ]
  },
  {
   "cell_type": "code",
   "execution_count": 18,
   "metadata": {},
   "outputs": [],
   "source": [
    "def pred_fn(model: nn.Module, df_test: pl.DataFrame):\n",
    "    \"\"\"\n",
    "    Generate predictions using the trained model on the test data.\n",
    "    \n",
    "    Parameters\n",
    "    ----------\n",
    "    model : torch.nn.Module\n",
    "        The PyTorch model used for making predictions.\n",
    "    df_test : pl.DataFrame\n",
    "        DataFrame containing the test data.\n",
    "\n",
    "    Returns\n",
    "    -------\n",
    "    np.ndarray\n",
    "        The predicted values, denormalized.\n",
    "    \"\"\"\n",
    "    model.eval()\n",
    "\n",
    "    x_test = df_test[FEATURE_NAMES]\n",
    "    \n",
    "    \n",
    "    \n",
    "    \n",
    "    x_test = x_test.to_numpy()\n",
    "    x_test = torch.from_numpy(x_test)\n",
    "    \n",
    "    x_test = (x_test - X_MEAN) / X_STD\n",
    "    \n",
    "    x_test = x_test.to(torch.float32)\n",
    "    x_test = x_test.to(DEVICE)\n",
    "\n",
    "    with torch.no_grad():\n",
    "        y_pred = model(x_test)\n",
    "        \n",
    "    y_pred = y_pred.cpu()\n",
    "    y_pred = y_pred.to(torch.float64)\n",
    "    \n",
    "    y_pred[:, Y_STD == 0] = Y_MEAN[:, Y_STD == 0]\n",
    "    y_pred = (y_pred * Y_STD) + Y_MEAN\n",
    "    \n",
    "    y_pred = y_pred.detach()\n",
    "    y_pred = y_pred.cpu()\n",
    "    y_pred = y_pred.numpy()\n",
    "    \n",
    "    return y_pred"
   ]
  },
  {
   "cell_type": "markdown",
   "metadata": {},
   "source": [
    "### LeapDataset Class for Handling CSV Data in PyTorch"
   ]
  },
  {
   "cell_type": "code",
   "execution_count": 19,
   "metadata": {},
   "outputs": [],
   "source": [
    "class LeapDataset(Dataset):\n",
    "    def __init__(self, file_path, x_features, y_features, y_weights):\n",
    "        \"\"\"\n",
    "        Initializes the LeapDataset.\n",
    "\n",
    "        Parameters\n",
    "        ----------\n",
    "        file_path : str\n",
    "            Path to the parquet file containing the dataset.\n",
    "        x_features : list of str\n",
    "            List of feature names for the input data.\n",
    "        y_features : list of str\n",
    "            List of feature names for the target data.\n",
    "        y_weights : torch.Tensor\n",
    "            Weights to be applied to the target data.\n",
    "        \"\"\"\n",
    "        \n",
    "        super().__init__()\n",
    "        \n",
    "        #data = pd.read_parquet(file_path)\n",
    "        \n",
    "        self.x = pd.read_parquet(file_path, columns = x_features)\n",
    "        self.x = self.x.to_numpy()\n",
    "        self.x = torch.from_numpy(self.x)\n",
    "        \n",
    "        self.y = pd.read_parquet(file_path, columns = y_features)\n",
    "        self.y = self.y.to_numpy()\n",
    "        self.y = torch.from_numpy(self.y)#.to(torch.float64)\n",
    "\n",
    "        self.loc = pd.read_parquet(file_path, columns = ['sample_id'])\n",
    "        self.loc = self.loc.sample_id.map(lambda x: int(x.split('_')[-1])%384).to_numpy().astype(np.int16)\n",
    "        self.loc = torch.from_numpy(self.loc)\n",
    "        \n",
    "        #self.y = self.y * y_weights\n",
    "        \n",
    "    def __getitem__(self, idx):\n",
    "        x = self.x[idx]\n",
    "        y = self.y[idx]\n",
    "        l = self.loc[idx]\n",
    "        \n",
    "        #x = (x - X_MEAN) / X_STD\n",
    "        #y = (y - Y_MEAN) / Y_STD\n",
    "\n",
    "        #x = (x - X_MEAN) / X_STD\n",
    "        #y = y / Y_STD\n",
    "        \n",
    "        #y = torch.nan_to_num(y)\n",
    "        \n",
    "        x = x.to(torch.float32)\n",
    "        y = y.to(torch.float32)\n",
    "        l = l.to(torch.int32)\n",
    "        \n",
    "        return x, y, l\n",
    "    \n",
    "    def __len__(self):\n",
    "        return len(self.y)\n",
    "    \n",
    "    \n",
    "class LeapDatasetTest(Dataset):\n",
    "    def __init__(self, df_test, x_features):\n",
    "        \"\"\"\n",
    "        Initializes the LeapDataset.\n",
    "\n",
    "        Parameters\n",
    "        ----------\n",
    "        file_path : str\n",
    "            Path to the parquet file containing the dataset.\n",
    "        x_features : list of str\n",
    "            List of feature names for the input data.\n",
    "        y_features : list of str\n",
    "            List of feature names for the target data.\n",
    "        y_weights : torch.Tensor\n",
    "            Weights to be applied to the target data.\n",
    "        \"\"\"\n",
    "        \n",
    "        super().__init__()\n",
    "        \n",
    "        \n",
    "        self.x = df_test[x_features]\n",
    "        self.x = self.x.to_numpy()\n",
    "        self.x = torch.from_numpy(self.x)\n",
    "        \n",
    "\n",
    "    def __getitem__(self, idx):\n",
    "        x = self.x[idx]\n",
    "\n",
    "        \n",
    "        x = (x - X_MEAN) / X_STD\n",
    "        x = x.to(torch.float32)\n",
    "        return x\n",
    "    \n",
    "    def __len__(self):\n",
    "        return len(self.x)"
   ]
  },
  {
   "cell_type": "code",
   "execution_count": null,
   "metadata": {},
   "outputs": [],
   "source": []
  },
  {
   "cell_type": "code",
   "execution_count": 20,
   "metadata": {},
   "outputs": [],
   "source": [
    "def pred_fn(model: nn.Module, df_test: pl.DataFrame):\n",
    "    \"\"\"\n",
    "    Generate predictions using the trained model on the test data.\n",
    "    \n",
    "    Parameters\n",
    "    ----------\n",
    "    model : torch.nn.Module\n",
    "        The PyTorch model used for making predictions.\n",
    "    df_test : pl.DataFrame\n",
    "        DataFrame containing the test data.\n",
    "\n",
    "    Returns\n",
    "    -------\n",
    "    np.ndarray\n",
    "        The predicted values, denormalized.\n",
    "    \"\"\"\n",
    "    model.eval()\n",
    "  \n",
    "    ds_test = LeapDatasetTest(df_test, FEATURE_NAMES)\n",
    "    \n",
    "    test_loader = DataLoader(\n",
    "        ds_test, \n",
    "        batch_size=BATCH_SIZE, \n",
    "        shuffle=False, \n",
    "        drop_last=False,\n",
    "    )\n",
    "\n",
    "    \n",
    "    progress_bar = tqdm(enumerate(test_loader, start=1), total=len(test_loader), ncols=100)\n",
    "    \n",
    "    preds = []\n",
    "    \n",
    "    with torch.no_grad():\n",
    "        for step, batch in progress_bar:\n",
    "            x = batch\n",
    "            x = x.to(DEVICE)\n",
    "            \n",
    "            y_pred = model(x)\n",
    "            \n",
    "            y_pred = y_pred.cpu()\n",
    "            y_pred = y_pred.to(torch.float64)\n",
    "\n",
    "            #y_pred[:, Y_STD < (1.1 * ERR)] = 0\n",
    "            y_pred = (y_pred * Y_STD) + Y_MEAN\n",
    "\n",
    "            y_pred = y_pred.detach()\n",
    "            y_pred = y_pred.cpu()\n",
    "            y_pred = y_pred.numpy()\n",
    "            \n",
    "            preds.append(y_pred)\n",
    "            \n",
    "    return np.vstack(preds)"
   ]
  },
  {
   "cell_type": "markdown",
   "metadata": {},
   "source": [
    "### Custom Model"
   ]
  },
  {
   "cell_type": "code",
   "execution_count": 21,
   "metadata": {},
   "outputs": [],
   "source": [
    "class ECA(nn.Module):\n",
    "    def __init__(self, kernel_size=5):\n",
    "        super().__init__()\n",
    "        self.kernel_size = kernel_size\n",
    "        self.supports_masking = True\n",
    "        self.conv = nn.Conv1d(in_channels=1, out_channels=1, kernel_size=kernel_size, stride=1, padding=\"same\", bias=False)\n",
    "    def forward(self, inputs):\n",
    "        b, c, s = inputs.shape\n",
    "        \n",
    "        x = torch.mean(inputs, axis = -1)\n",
    "        x = x.view(b, 1, c)\n",
    "        x = self.conv(x)\n",
    "        x = x.squeeze(1)\n",
    "        x = nn.Sigmoid()(x)\n",
    "        x = x[:,:,None]\n",
    "        return inputs * x\n",
    "\n",
    "\n",
    "class CausalDWConv1D(nn.Module):\n",
    "    def __init__(self, \n",
    "        kernel_size=17,\n",
    "        dilation_rate=1,\n",
    "        use_bias=False,\n",
    "        in_channels = 64,\n",
    "        out_channels = 32,       \n",
    "        depthwise_initializer='glorot_uniform',\n",
    "        **kwargs):\n",
    "        super().__init__()\n",
    "        #self.causal_pad = tf.keras.layers.ZeroPadding1D((dilation_rate*(kernel_size-1),0),name=name + '_pad')\n",
    "        self.dw_conv = nn.Conv1d(\n",
    "            in_channels, \n",
    "            out_channels, \n",
    "            kernel_size, \n",
    "            stride=1, \n",
    "            padding='same', \n",
    "            dilation=dilation_rate, \n",
    "            groups=out_channels if kernel_size > 3 else 1,\n",
    "            bias=False, \n",
    "            padding_mode='zeros')\n",
    "\n",
    "        \n",
    "    def forward(self, inputs):\n",
    "        x = self.dw_conv(inputs)\n",
    "        return x\n",
    "\n",
    "\n",
    "class Conv1DBlock(nn.Module):\n",
    "    def __init__(self, \n",
    "                 kernel_size=17,\n",
    "                 channels = 32,\n",
    "                 expand_channels = 64,\n",
    "                 drop_rate=0.0,\n",
    "                ):\n",
    "        super().__init__()\n",
    "        self.kernel_size = kernel_size\n",
    "        self.conv = CausalDWConv1D(\n",
    "                        kernel_size=kernel_size,\n",
    "                        dilation_rate=1,\n",
    "                        use_bias=False,\n",
    "                        in_channels = expand_channels,\n",
    "                        out_channels = expand_channels\n",
    "                    )\n",
    "        self.dnn_expand = nn.Linear(in_features = channels, \n",
    "                                    out_features = expand_channels\n",
    "                                     )\n",
    "        self.dnn_project = nn.Linear(in_features = expand_channels, \n",
    "                             out_features = channels\n",
    "                                    )\n",
    "        self.bn = nn.BatchNorm1d(num_features = expand_channels, eps=0.95)\n",
    "        self.eca = ECA()\n",
    "        self.dropout = nn.Dropout(drop_rate)\n",
    "        self.act = nn.SiLU()\n",
    "\n",
    "    def forward(self, inputs):\n",
    "        skip = inputs\n",
    "\n",
    "        x = inputs.permute([0,2,1])\n",
    "        x = self.dnn_expand(x)\n",
    "        \n",
    "        x = x.permute([0,2,1])\n",
    "        x = self.act(x)\n",
    "        x = self.conv(x)\n",
    "        x = self.bn(x)\n",
    "        x = self.eca(x)\n",
    "        \n",
    "        x = x.permute([0,2,1])\n",
    "        x = self.dnn_project(x)\n",
    "        x = x.permute([0,2,1])\n",
    "\n",
    "        return x + skip\n",
    "\n",
    "\n",
    "        "
   ]
  },
  {
   "cell_type": "code",
   "execution_count": 22,
   "metadata": {},
   "outputs": [],
   "source": [
    "\n",
    "class FeedFoward(nn.Module):\n",
    "    \"\"\" a simple linear layer followed by a non-linearity \"\"\"\n",
    "\n",
    "    def __init__(self, n_embd, dropout):\n",
    "        super().__init__()\n",
    "        self.net = nn.Sequential(\n",
    "            nn.Linear(n_embd, 2 * n_embd),\n",
    "            nn.ReLU(),\n",
    "            nn.Linear(2 * n_embd, n_embd),\n",
    "            nn.Dropout(dropout),\n",
    "        )\n",
    "\n",
    "    def forward(self, x):\n",
    "        return self.net(x)\n",
    "        \n",
    "\n",
    "class Block(nn.Module):\n",
    "    \"\"\" Transformer block: communication followed by computation \"\"\"\n",
    "\n",
    "    def __init__(self, n_embd, n_head, dropout):\n",
    "        # n_embd: embedding dimension, n_head: the number of heads we'd like\n",
    "        super().__init__()\n",
    "        head_size = n_embd // n_head\n",
    "        self.sa = nn.MultiheadAttention(n_embd, n_head)\n",
    "        self.ffwd = FeedFoward(n_embd, dropout)\n",
    "        self.ln1 = nn.LayerNorm(n_embd)\n",
    "        self.ln2 = nn.LayerNorm(n_embd)\n",
    "\n",
    "    def forward(self, x, q = None):\n",
    "        if q is not None:\n",
    "            X = (q, x, x)\n",
    "        else:\n",
    "            X = (x, x, x)\n",
    "        y = self.sa(*X)\n",
    "        y = y[0]\n",
    "        \n",
    "        x = self.ln1(x + y)\n",
    "        y = self.ffwd(x)\n",
    "        x = self.ln2(x + y)\n",
    "        return x\n"
   ]
  },
  {
   "cell_type": "code",
   "execution_count": 23,
   "metadata": {},
   "outputs": [],
   "source": [
    "class Block(nn.Module):\n",
    "    \"\"\" Transformer block: communication followed by computation \"\"\"\n",
    "\n",
    "    def __init__(self, n_embd, n_head, dropout):\n",
    "        # n_embd: embedding dimension, n_head: the number of heads we'd like\n",
    "        super().__init__()\n",
    "        head_size = n_embd // n_head\n",
    "        self.sa = nn.MultiheadAttention(n_embd, n_head)\n",
    "        self.ffwd = FeedFoward(n_embd, dropout)\n",
    "        self.ln1 = nn.BatchNorm1d(60)\n",
    "        self.ln2 = nn.BatchNorm1d(60)\n",
    "\n",
    "    def forward(self, x, q = None):\n",
    "        if q is not None:\n",
    "            X = (q, x, x)\n",
    "        else:\n",
    "            X = (x, x, x)\n",
    "        y = self.sa(*X)\n",
    "        y = y[0]\n",
    "        \n",
    "        x = self.ln1(x + y)\n",
    "        y = self.ffwd(x)\n",
    "        x = self.ln2(x + y)\n",
    "        return x\n"
   ]
  },
  {
   "cell_type": "code",
   "execution_count": 24,
   "metadata": {},
   "outputs": [],
   "source": [
    "class Block(nn.Module):\n",
    "    \"\"\" Transformer block: communication followed by computation \"\"\"\n",
    "\n",
    "    def __init__(self, n_embd, n_head, dropout):\n",
    "        # n_embd: embedding dimension, n_head: the number of heads we'd like\n",
    "        super().__init__()\n",
    "        head_size = n_embd // n_head\n",
    "        self.sa = nn.MultiheadAttention(n_embd, n_head)\n",
    "        self.ffwd = FeedFoward(n_embd, dropout)\n",
    "        self.ln1 = nn.LayerNorm(n_embd)\n",
    "        self.ln2 = nn.LayerNorm(n_embd)\n",
    "\n",
    "    def forward(self, x, q = None):\n",
    "        if q is not None:\n",
    "            X = (q, x, x)\n",
    "        else:\n",
    "            X = (x, x, x)\n",
    "        y = self.sa(*X)\n",
    "        y = y[0]\n",
    "        \n",
    "        x = self.ln1(x + y)\n",
    "        y = self.ffwd(x)\n",
    "        x = self.ln2(x + y)\n",
    "        return x\n"
   ]
  },
  {
   "cell_type": "code",
   "execution_count": 25,
   "metadata": {},
   "outputs": [],
   "source": [
    "class Block(nn.Module):\n",
    "    \"\"\" Transformer block: communication followed by computation \"\"\"\n",
    "\n",
    "    def __init__(self, n_embd, n_head, dropout):\n",
    "        # n_embd: embedding dimension, n_head: the number of heads we'd like\n",
    "        super().__init__()\n",
    "        head_size = n_embd // n_head\n",
    "        self.sa = nn.MultiheadAttention(n_embd, n_head)\n",
    "        self.ffwd = FeedFoward(n_embd, dropout)\n",
    "        self.ln1 = nn.LayerNorm([60, n_embd])\n",
    "        self.ln2 = nn.LayerNorm([60, n_embd])\n",
    "\n",
    "    def forward(self, x, q = None):\n",
    "        if q is not None:\n",
    "            X = (q, x, x)\n",
    "        else:\n",
    "            X = (x, x, x)\n",
    "        y = self.sa(*X)\n",
    "        y = y[0]\n",
    "        \n",
    "        x = self.ln1(x + y)\n",
    "        y = self.ffwd(x)\n",
    "        x = self.ln2(x + y)\n",
    "        return x\n"
   ]
  },
  {
   "cell_type": "code",
   "execution_count": 26,
   "metadata": {},
   "outputs": [],
   "source": [
    "class Block(nn.Module):\n",
    "    \"\"\" Transformer block: communication followed by computation \"\"\"\n",
    "\n",
    "    def __init__(self, n_embd, n_head, dropout):\n",
    "        # n_embd: embedding dimension, n_head: the number of heads we'd like\n",
    "        super().__init__()\n",
    "        head_size = n_embd // n_head\n",
    "        self.sa = nn.MultiheadAttention(n_embd, n_head)\n",
    "        self.ffwd = FeedFoward(n_embd, dropout)\n",
    "        self.ln1 = nn.LayerNorm([60, n_embd])\n",
    "        self.ln2 = nn.LayerNorm([60, n_embd])\n",
    "\n",
    "    def forward(self, x, q = None):\n",
    "        if q is not None:\n",
    "            X = (q, x, x)\n",
    "        else:\n",
    "            X = (x, x, x)\n",
    "        y = self.sa(*X)\n",
    "        y = y[0]\n",
    "        \n",
    "        x = self.ln1(x + y)\n",
    "        y = self.ffwd(x)\n",
    "        x = self.ln2(x + y)\n",
    "        return x\n"
   ]
  },
  {
   "cell_type": "code",
   "execution_count": 27,
   "metadata": {},
   "outputs": [],
   "source": [
    "# class Block(nn.Module):\n",
    "#     \"\"\" Transformer block: communication followed by computation \"\"\"\n",
    "\n",
    "#     def __init__(self, n_embd, n_head, dropout):\n",
    "#         # n_embd: embedding dimension, n_head: the number of heads we'd like\n",
    "#         super().__init__()\n",
    "#         head_size = n_embd // n_head\n",
    "#         self.sa = nn.MultiheadAttention(n_embd, n_head)\n",
    "#         self.ffwd = FeedFoward(n_embd, dropout)\n",
    "#         self.ln1 = nn.Tanh()\n",
    "#         self.ln2 = nn.Tanh()\n",
    "\n",
    "#     def forward(self, x, q = None):\n",
    "#         if q is not None:\n",
    "#             X = (q, x, x)\n",
    "#         else:\n",
    "#             X = (x, x, x)\n",
    "#         y = self.sa(*X)\n",
    "#         y = y[0]\n",
    "        \n",
    "#         x = self.ln1(x + y)\n",
    "#         y = self.ffwd(x)\n",
    "#         x = self.ln2(x + y)\n",
    "#         return x\n"
   ]
  },
  {
   "cell_type": "code",
   "execution_count": 28,
   "metadata": {},
   "outputs": [],
   "source": [
    "class ConvTransBlock(nn.Module):\n",
    "    def __init__(self, block_kernels = [5, 3], n_head = 4, channels=16, expand_channels=32, drop_rate = 0.1, att_drop_rate = 0.25, n_features=25):\n",
    "        # n_embd: embedding dimension, n_head: the number of heads we'd like\n",
    "        super().__init__()\n",
    "        self.conv = nn.Sequential(*[\n",
    "            Conv1DBlock(kernel_size=k, channels = channels,expand_channels = expand_channels, drop_rate=drop_rate)\n",
    "            for k in block_kernels\n",
    "        ])\n",
    "\n",
    "        self.block = Block(n_embd = channels, n_head=n_head, dropout = att_drop_rate)\n",
    "\n",
    "    def forward(self, x):\n",
    "        x = self.conv(x)\n",
    "        x = x.permute([0,2,1])\n",
    "        x = self.block(x)\n",
    "        x = x.permute([0,2,1])\n",
    "        return x"
   ]
  },
  {
   "cell_type": "code",
   "execution_count": 29,
   "metadata": {},
   "outputs": [],
   "source": [
    "class SelfAttFeatureExctractor(nn.Module):\n",
    "    \"\"\" Transformer block: communication followed by computation \"\"\"\n",
    "\n",
    "    def __init__(self, kernel_size = 3, channels=16, drop_rate = 0.1, n_features=25):\n",
    "        # n_embd: embedding dimension, n_head: the number of heads we'd like\n",
    "        super().__init__()\n",
    "        self.channels = channels\n",
    "        self.inputConv = nn.ModuleList([nn.Conv1d(in_channels = 1,\n",
    "                                                out_channels = channels,\n",
    "                                                kernel_size = kernel_size,\n",
    "                                                stride=1, \n",
    "                                                padding='same') for _ in range(n_features)])\n",
    "        \n",
    "        self.projConv = nn.ModuleList([nn.Conv1d(in_channels = channels,\n",
    "                                                out_channels = channels,\n",
    "                                                kernel_size = 1,\n",
    "                                                stride=1, \n",
    "                                                padding='same') for _ in range(n_features)])\n",
    "\n",
    "        self.lns = nn.ModuleList([nn.LayerNorm(channels) for _ in range(n_features)])\n",
    "\n",
    "        \n",
    "        \n",
    "    def forward(self, x):\n",
    "        x = x.view(-1, 556)\n",
    "        \n",
    "        state_t = x[:, 0:60] # - 273\n",
    "        state_q0001 = x[:, 60:120] #*1_000\n",
    "        state_q0002 = x[:, 120:180] #*1_000\n",
    "        state_q0003 = x[:, 180:240] #*1_000\n",
    "        state_u = x[:, 240:300] #/ 100\n",
    "        state_v = x[:, 300:360] #/ 100\n",
    "    \n",
    "        state_ps = x[:, 360:361] #/ 100_000 - 1\n",
    "        pbuf_SOLIN = x[:, 361:362] #/ 1000\n",
    "        pbuf_LHFLX = x[:, 362:363] #/ 1000\n",
    "        pbuf_SHFLX = x[:, 363:364] #/ 1000\n",
    "        pbuf_TAUX = x[:, 364:365] #/ 1\n",
    "        pbuf_TAUY = x[:, 365:366] #/ 1\n",
    "        pbuf_COSZRS = x[:, 366:367] #/ 1\n",
    "        cam_in_ALDIF = x[:, 367:368] #/ 1\n",
    "        cam_in_ALDIR = x[:, 368:369] #/ 1\n",
    "        cam_in_ASDIF = x[:, 369:370] #/ 1\n",
    "        cam_in_ASDIR = x[:, 370:371] #/ 1\n",
    "        cam_in_LWUP = x[:, 371:372] # / 1000\n",
    "        cam_in_ICEFRAC = x[:, 372:373] #/ 1\n",
    "        cam_in_LANDFRAC = x[:, 373:374] #/1\n",
    "        cam_in_OCNFRAC = x[:, 374:375]  #/1\n",
    "        cam_in_SNOWHLAND = x[:, 375:376]# / 1\n",
    "    \n",
    "        pbuf_ozone = x[:, 376:436] #* 100_000\n",
    "        pbuf_CH4 = x[:, 436:496] #* 100_000\n",
    "        pbuf_N2O = x[:, 496:556] #* 100_000\n",
    "            \n",
    "        inputs_60 = [\n",
    "                state_t,\n",
    "                state_q0001,\n",
    "                state_q0002,\n",
    "                state_q0003, \n",
    "                state_u,\n",
    "                state_v,\n",
    "    \n",
    "                pbuf_ozone,\n",
    "                pbuf_CH4,\n",
    "                pbuf_N2O\n",
    "        ]\n",
    "\n",
    "        inputs_flat = [            \n",
    "                torch.repeat_interleave(state_ps, 60, dim=-1),\n",
    "                torch.repeat_interleave(pbuf_SOLIN, 60, dim=-1),\n",
    "                torch.repeat_interleave(pbuf_LHFLX, 60, dim=-1),\n",
    "                torch.repeat_interleave(pbuf_SHFLX, 60, dim=-1),\n",
    "                torch.repeat_interleave(pbuf_TAUX, 60, dim=-1),\n",
    "               torch.repeat_interleave(pbuf_TAUY, 60, dim=-1),\n",
    "                torch.repeat_interleave(pbuf_COSZRS, 60, dim=-1),\n",
    "                torch.repeat_interleave(cam_in_ALDIF, 60, dim=-1),\n",
    "                torch.repeat_interleave(cam_in_ALDIR, 60, dim=-1),\n",
    "               torch.repeat_interleave(cam_in_ASDIF, 60, dim=-1),\n",
    "                torch.repeat_interleave(cam_in_ASDIR, 60, dim=-1),\n",
    "                torch.repeat_interleave(cam_in_LWUP, 60, dim=-1),\n",
    "                torch.repeat_interleave(cam_in_ICEFRAC, 60, dim=-1),\n",
    "                torch.repeat_interleave(cam_in_LANDFRAC, 60, dim=-1),\n",
    "                torch.repeat_interleave(cam_in_OCNFRAC, 60, dim=-1),\n",
    "                torch.repeat_interleave(cam_in_SNOWHLAND, 60, dim=-1),\n",
    "        ]\n",
    "\n",
    "        inputs = inputs_60 + inputs_flat\n",
    "        \n",
    "        expanded = []\n",
    "        for i, conv in enumerate(self.inputConv):\n",
    "            t = inputs[i]\n",
    "            t = t.view(-1, 1, 60)\n",
    "            expanded.append(conv(t))\n",
    "\n",
    "        global_input = torch.cat([t.view(-1, self.channels, 60, 1) for t in expanded], axis = -1)\n",
    "        global_input = global_input.mean(axis=-1)\n",
    "        k = global_input#.permute([0,2,1])\n",
    "\n",
    "        var_attention = []\n",
    "        for i, feature in enumerate(expanded):\n",
    "            q = feature.permute([0,2,1]) #B, L, C\n",
    "            v = self.projConv[i](feature).permute([0,2,1]) #B, L, C\n",
    "            \n",
    "            att = nn.Softmax()(torch.matmul(q, k) / self.channels**0.5).permute([0,2,1]) #B, L, L\n",
    "            \n",
    "            y = torch.matmul(att, v) #B, L, L * #B, L, C --> #B, L, C\n",
    "            y = self.lns[i](y)\n",
    "        \n",
    "            var_attention.append((y + q).permute([0,2,1])) #B, C, L\n",
    "        return torch.cat(var_attention, 1)#.permute([0,2,1])\n"
   ]
  },
  {
   "cell_type": "code",
   "execution_count": 30,
   "metadata": {},
   "outputs": [
    {
     "name": "stderr",
     "output_type": "stream",
     "text": [
      "E:\\PycharmProjects\\birdclef24\\venv\\Lib\\site-packages\\torch\\nn\\modules\\module.py:1532: UserWarning: Implicit dimension choice for softmax has been deprecated. Change the call to include dim=X as an argument.\n",
      "  return self._call_impl(*args, **kwargs)\n"
     ]
    },
    {
     "data": {
      "text/plain": [
       "torch.Size([8, 400, 60])"
      ]
     },
     "execution_count": 30,
     "metadata": {},
     "output_type": "execute_result"
    }
   ],
   "source": [
    "SelfAttFeatureExctractor()(torch.ones([8,556])).shape"
   ]
  },
  {
   "cell_type": "code",
   "execution_count": 31,
   "metadata": {},
   "outputs": [],
   "source": [
    "class TFAFeatureExctractor(nn.Module):\n",
    "    \"\"\" Transformer block: communication followed by computation \"\"\"\n",
    "\n",
    "    def __init__(self, kernel_size = 3, scale_factor= 8, n_features=25):\n",
    "        # n_embd: embedding dimension, n_head: the number of heads we'd like\n",
    "        super().__init__()\n",
    "        self.n_features = n_features\n",
    "        self.scale_factor = scale_factor\n",
    "        self.dwQ= nn.Conv1d(\n",
    "            n_features, \n",
    "            int(n_features * scale_factor), \n",
    "            kernel_size, \n",
    "            stride=1, \n",
    "            padding='same', \n",
    "            groups=n_features,\n",
    "            bias=False, \n",
    "            padding_mode='zeros')\n",
    "\n",
    "        self.dwK= nn.Conv1d(\n",
    "            n_features, \n",
    "            int(n_features * scale_factor), \n",
    "            kernel_size, \n",
    "            stride=1, \n",
    "            padding='same', \n",
    "            groups=1,\n",
    "            bias=False, \n",
    "            padding_mode='zeros')\n",
    "\n",
    "        self.dwV= nn.Conv1d(\n",
    "            n_features, \n",
    "            int(n_features * scale_factor), \n",
    "            kernel_size, \n",
    "            stride=1, \n",
    "            padding='same', \n",
    "            groups=25,\n",
    "            bias=False, \n",
    "            padding_mode='zeros')\n",
    "\n",
    "        self.dwF= nn.Conv1d(\n",
    "            n_features, \n",
    "            int(n_features * scale_factor), \n",
    "            kernel_size = 1, \n",
    "            stride=1, \n",
    "            padding='same',  \n",
    "            groups=1,\n",
    "            bias=False, \n",
    "            padding_mode='zeros')\n",
    "        \n",
    "        self.ln = nn.LayerNorm(int(n_features * scale_factor))\n",
    "\n",
    "        \n",
    "        \n",
    "    def forward(self, x):\n",
    "        x = x.view(-1, 556)\n",
    "        \n",
    "        state_t = x[:, 0:60] # - 273\n",
    "        state_q0001 = x[:, 60:120] #*1_000\n",
    "        state_q0002 = x[:, 120:180] #*1_000\n",
    "        state_q0003 = x[:, 180:240] #*1_000\n",
    "        state_u = x[:, 240:300] #/ 100\n",
    "        state_v = x[:, 300:360] #/ 100\n",
    "    \n",
    "        state_ps = x[:, 360:361] #/ 100_000 - 1\n",
    "        pbuf_SOLIN = x[:, 361:362] #/ 1000\n",
    "        pbuf_LHFLX = x[:, 362:363] #/ 1000\n",
    "        pbuf_SHFLX = x[:, 363:364] #/ 1000\n",
    "        pbuf_TAUX = x[:, 364:365] #/ 1\n",
    "        pbuf_TAUY = x[:, 365:366] #/ 1\n",
    "        pbuf_COSZRS = x[:, 366:367] #/ 1\n",
    "        cam_in_ALDIF = x[:, 367:368] #/ 1\n",
    "        cam_in_ALDIR = x[:, 368:369] #/ 1\n",
    "        cam_in_ASDIF = x[:, 369:370] #/ 1\n",
    "        cam_in_ASDIR = x[:, 370:371] #/ 1\n",
    "        cam_in_LWUP = x[:, 371:372] # / 1000\n",
    "        cam_in_ICEFRAC = x[:, 372:373] #/ 1\n",
    "        cam_in_LANDFRAC = x[:, 373:374] #/1\n",
    "        cam_in_OCNFRAC = x[:, 374:375]  #/1\n",
    "        cam_in_SNOWHLAND = x[:, 375:376]# / 1\n",
    "    \n",
    "        pbuf_ozone = x[:, 376:436] #* 100_000\n",
    "        pbuf_CH4 = x[:, 436:496] #* 100_000\n",
    "        pbuf_N2O = x[:, 496:556] #* 100_000\n",
    "            \n",
    "        inputs_60 = [\n",
    "                state_t,\n",
    "                state_q0001,\n",
    "                state_q0002,\n",
    "                state_q0003, \n",
    "                state_u,\n",
    "                state_v,\n",
    "    \n",
    "                pbuf_ozone,\n",
    "                pbuf_CH4,\n",
    "                pbuf_N2O\n",
    "        ]\n",
    "\n",
    "        inputs_flat = [            \n",
    "                torch.repeat_interleave(state_ps, 60, dim=-1),\n",
    "                torch.repeat_interleave(pbuf_SOLIN, 60, dim=-1),\n",
    "                torch.repeat_interleave(pbuf_LHFLX, 60, dim=-1),\n",
    "                torch.repeat_interleave(pbuf_SHFLX, 60, dim=-1),\n",
    "                torch.repeat_interleave(pbuf_TAUX, 60, dim=-1),\n",
    "               torch.repeat_interleave(pbuf_TAUY, 60, dim=-1),\n",
    "                torch.repeat_interleave(pbuf_COSZRS, 60, dim=-1),\n",
    "                torch.repeat_interleave(cam_in_ALDIF, 60, dim=-1),\n",
    "                torch.repeat_interleave(cam_in_ALDIR, 60, dim=-1),\n",
    "               torch.repeat_interleave(cam_in_ASDIF, 60, dim=-1),\n",
    "                torch.repeat_interleave(cam_in_ASDIR, 60, dim=-1),\n",
    "                torch.repeat_interleave(cam_in_LWUP, 60, dim=-1),\n",
    "                torch.repeat_interleave(cam_in_ICEFRAC, 60, dim=-1),\n",
    "                torch.repeat_interleave(cam_in_LANDFRAC, 60, dim=-1),\n",
    "                torch.repeat_interleave(cam_in_OCNFRAC, 60, dim=-1),\n",
    "                torch.repeat_interleave(cam_in_SNOWHLAND, 60, dim=-1),\n",
    "        ]\n",
    "\n",
    "        inputs = inputs_60 + inputs_flat\n",
    "        inputs = torch.cat([t.view(-1, 1, 60) for t in inputs], 1)\n",
    "\n",
    "        #x = inputs\n",
    "\n",
    "        q = self.dwQ(inputs).permute([0,2,1]) #B, L, C\n",
    "        k = self.dwK(inputs)#.permute([0,2,1]) #B, C, L\n",
    "        v = self.dwV(inputs).permute([0,2,1]) #B, L, C\n",
    "        f = self.dwF(inputs).permute([0,2,1])  #B, L, C\n",
    "\n",
    "        \n",
    "        time_att = nn.Softmax(dim=2)(torch.matmul(q,k) / int(self.n_features * self.scale_factor)**0.5) #B, L, L'\n",
    "\n",
    "        qkv = torch.matmul(time_att, v) #B, L, C\n",
    "\n",
    "        kf = qkv.permute([0,2,1]) #B, C, L\n",
    "        f_att = nn.Softmax(dim=2)(torch.matmul(kf, f) / int(60)**0.5) #B, C, C'\n",
    "\n",
    "        xa = torch.matmul(qkv, f_att) #B, L, C\n",
    "\n",
    "        x = self.ln(xa)\n",
    "        \n",
    "        x = x + q\n",
    "\n",
    "        return x.permute([0,2,1]) #B, C, L\n",
    "        \n",
    "    \n"
   ]
  },
  {
   "cell_type": "code",
   "execution_count": 32,
   "metadata": {},
   "outputs": [],
   "source": [
    "class TFAFeatureExctractor(nn.Module):\n",
    "    \"\"\" Transformer block: communication followed by computation \"\"\"\n",
    "\n",
    "    def __init__(self, kernel_size = 3, scale_factor= 8, n_features=25):\n",
    "        # n_embd: embedding dimension, n_head: the number of heads we'd like\n",
    "        super().__init__()\n",
    "        self.n_features = n_features\n",
    "        self.scale_factor = scale_factor\n",
    "        self.dwQ= nn.Conv1d(\n",
    "            n_features, \n",
    "            int(n_features * scale_factor), \n",
    "            kernel_size, \n",
    "            stride=1, \n",
    "            padding='same', \n",
    "            groups=n_features,\n",
    "            bias=False, \n",
    "            padding_mode='zeros')\n",
    "\n",
    "        self.dwK= nn.Conv1d(\n",
    "            n_features, \n",
    "            int(n_features * scale_factor), \n",
    "            kernel_size, \n",
    "            stride=1, \n",
    "            padding='same', \n",
    "            groups=1,\n",
    "            bias=False, \n",
    "            padding_mode='zeros')\n",
    "\n",
    "        self.dwV= nn.Conv1d(\n",
    "            n_features, \n",
    "            int(n_features * scale_factor), \n",
    "            kernel_size, \n",
    "            stride=1, \n",
    "            padding='same', \n",
    "            groups=n_features,\n",
    "            bias=False, \n",
    "            padding_mode='zeros')\n",
    "\n",
    "        self.dwF= nn.Conv1d(\n",
    "            n_features, \n",
    "            int(n_features * scale_factor), \n",
    "            kernel_size = 1, \n",
    "            stride=1, \n",
    "            padding='same',  \n",
    "            groups=1,\n",
    "            bias=False, \n",
    "            padding_mode='zeros')\n",
    "        \n",
    "        self.ln = nn.LayerNorm(int(n_features * scale_factor))\n",
    "        \n",
    "        self.sa = nn.MultiheadAttention(int(n_features * scale_factor), scale_factor//2)\n",
    "        self.ffwd = FeedFoward(int(n_features * scale_factor), dropout=0.5)\n",
    "        self.ln1 = nn.LayerNorm(int(n_features * scale_factor))\n",
    "        self.ln2 = nn.LayerNorm(int(n_features * scale_factor))\n",
    "        \n",
    "        \n",
    "    def forward(self, x):\n",
    "        x = x.view(-1, 556)\n",
    "        \n",
    "        state_t = x[:, 0:60] # - 273\n",
    "        state_q0001 = x[:, 60:120] #*1_000\n",
    "        state_q0002 = x[:, 120:180] #*1_000\n",
    "        state_q0003 = x[:, 180:240] #*1_000\n",
    "        state_u = x[:, 240:300] #/ 100\n",
    "        state_v = x[:, 300:360] #/ 100\n",
    "    \n",
    "        state_ps = x[:, 360:361] #/ 100_000 - 1\n",
    "        pbuf_SOLIN = x[:, 361:362] #/ 1000\n",
    "        pbuf_LHFLX = x[:, 362:363] #/ 1000\n",
    "        pbuf_SHFLX = x[:, 363:364] #/ 1000\n",
    "        pbuf_TAUX = x[:, 364:365] #/ 1\n",
    "        pbuf_TAUY = x[:, 365:366] #/ 1\n",
    "        pbuf_COSZRS = x[:, 366:367] #/ 1\n",
    "        cam_in_ALDIF = x[:, 367:368] #/ 1\n",
    "        cam_in_ALDIR = x[:, 368:369] #/ 1\n",
    "        cam_in_ASDIF = x[:, 369:370] #/ 1\n",
    "        cam_in_ASDIR = x[:, 370:371] #/ 1\n",
    "        cam_in_LWUP = x[:, 371:372] # / 1000\n",
    "        cam_in_ICEFRAC = x[:, 372:373] #/ 1\n",
    "        cam_in_LANDFRAC = x[:, 373:374] #/1\n",
    "        cam_in_OCNFRAC = x[:, 374:375]  #/1\n",
    "        cam_in_SNOWHLAND = x[:, 375:376]# / 1\n",
    "    \n",
    "        pbuf_ozone = x[:, 376:436] #* 100_000\n",
    "        pbuf_CH4 = x[:, 436:496] #* 100_000\n",
    "        pbuf_N2O = x[:, 496:556] #* 100_000\n",
    "            \n",
    "        inputs_60 = [\n",
    "                state_t,\n",
    "                state_q0001,\n",
    "                state_q0002,\n",
    "                state_q0003, \n",
    "                state_u,\n",
    "                state_v,\n",
    "    \n",
    "                pbuf_ozone,\n",
    "                pbuf_CH4,\n",
    "                pbuf_N2O\n",
    "        ]\n",
    "\n",
    "        inputs_flat = [            \n",
    "                torch.repeat_interleave(state_ps, 60, dim=-1),\n",
    "                torch.repeat_interleave(pbuf_SOLIN, 60, dim=-1),\n",
    "                torch.repeat_interleave(pbuf_LHFLX, 60, dim=-1),\n",
    "                torch.repeat_interleave(pbuf_SHFLX, 60, dim=-1),\n",
    "                torch.repeat_interleave(pbuf_TAUX, 60, dim=-1),\n",
    "               torch.repeat_interleave(pbuf_TAUY, 60, dim=-1),\n",
    "                torch.repeat_interleave(pbuf_COSZRS, 60, dim=-1),\n",
    "                torch.repeat_interleave(cam_in_ALDIF, 60, dim=-1),\n",
    "                torch.repeat_interleave(cam_in_ALDIR, 60, dim=-1),\n",
    "               torch.repeat_interleave(cam_in_ASDIF, 60, dim=-1),\n",
    "                torch.repeat_interleave(cam_in_ASDIR, 60, dim=-1),\n",
    "                torch.repeat_interleave(cam_in_LWUP, 60, dim=-1),\n",
    "                torch.repeat_interleave(cam_in_ICEFRAC, 60, dim=-1),\n",
    "                torch.repeat_interleave(cam_in_LANDFRAC, 60, dim=-1),\n",
    "                torch.repeat_interleave(cam_in_OCNFRAC, 60, dim=-1),\n",
    "                torch.repeat_interleave(cam_in_SNOWHLAND, 60, dim=-1),\n",
    "        ]\n",
    "\n",
    "        inputs = inputs_60 + inputs_flat\n",
    "        inputs = torch.cat([t.view(-1, 1, 60) for t in inputs], 1)\n",
    "\n",
    "        #x = inputs\n",
    "        \n",
    "        q = self.dwQ(inputs).permute([0,2,1]) #B, L, C\n",
    "        k = self.dwK(inputs).permute([0,2,1]) #B, C, L\n",
    "        v = self.dwV(inputs).permute([0,2,1]) #B, L, C\n",
    "        #f = self.dwF(inputs).permute([0,2,1])  #B, L, C\n",
    "\n",
    "        \n",
    "        y = self.sa(q, k, v)[0]\n",
    "        x = self.ln1(q + y)\n",
    "        y = self.ffwd(x)\n",
    "        x = self.ln2(x + y)\n",
    "\n",
    "        return x.permute([0,2,1]) \n",
    "        \n",
    "        \n"
   ]
  },
  {
   "cell_type": "code",
   "execution_count": 33,
   "metadata": {},
   "outputs": [],
   "source": [
    "class TFAFeatureExctractor(nn.Module):\n",
    "    \"\"\" Transformer block: communication followed by computation \"\"\"\n",
    "\n",
    "    def __init__(self, kernel_size = 3, scale_factor= 8, n_features=25):\n",
    "        # n_embd: embedding dimension, n_head: the number of heads we'd like\n",
    "        super().__init__()\n",
    "        self.n_features = n_features\n",
    "        self.scale_factor = scale_factor\n",
    "        self.dwQ = nn.Sequential(\n",
    "            nn.Conv1d(\n",
    "                n_features, \n",
    "                int(n_features * scale_factor), \n",
    "                kernel_size, \n",
    "                stride=1, \n",
    "                padding='same', \n",
    "                groups=n_features,\n",
    "                bias=False, \n",
    "                padding_mode='zeros'),\n",
    "            Conv1DBlock(kernel_size=7, \n",
    "                        channels = int(n_features * scale_factor),\n",
    "                        expand_channels = int(n_features * scale_factor*2), \n",
    "                        drop_rate=0.2),\n",
    "            # Conv1DBlock(kernel_size=kernel_size, \n",
    "            #             channels = int(n_features * scale_factor),\n",
    "            #             expand_channels = int(n_features * scale_factor*2), \n",
    "            #             drop_rate=0.2)\n",
    "            )\n",
    "            \n",
    "\n",
    "\n",
    "        self.dwK = nn.Sequential(\n",
    "            nn.Conv1d(\n",
    "                n_features, \n",
    "                int(n_features * scale_factor), \n",
    "                kernel_size, \n",
    "                stride=1, \n",
    "                padding='same', \n",
    "                groups=1,\n",
    "                bias=False, \n",
    "                padding_mode='zeros'),\n",
    "            Conv1DBlock(kernel_size=3, \n",
    "                        channels = int(n_features * scale_factor),\n",
    "                        expand_channels = int(n_features * scale_factor*2), \n",
    "                        drop_rate=0.2),\n",
    "            # Conv1DBlock(kernel_size=kernel_size, \n",
    "            #             channels = int(n_features * scale_factor),\n",
    "            #             expand_channels = int(n_features * scale_factor*2), \n",
    "            #             drop_rate=0.2)\n",
    "            )\n",
    "\n",
    "        self.dwV = nn.Sequential(\n",
    "            nn.Conv1d(\n",
    "                n_features, \n",
    "                int(n_features * scale_factor), \n",
    "                kernel_size, \n",
    "                stride=1, \n",
    "                padding='same', \n",
    "                groups=1,\n",
    "                bias=False, \n",
    "                padding_mode='zeros'),\n",
    "            Conv1DBlock(kernel_size=kernel_size, \n",
    "                        channels = int(n_features * scale_factor),\n",
    "                        expand_channels = int(n_features * scale_factor*2), \n",
    "                        drop_rate=0.2),\n",
    "            # Conv1DBlock(kernel_size=kernel_size, \n",
    "            #             channels = int(n_features * scale_factor),\n",
    "            #             expand_channels = int(n_features * scale_factor*2), \n",
    "            #             drop_rate=0.2)\n",
    "            )\n",
    "        \n",
    "        \n",
    "        self.ln = nn.LayerNorm(int(n_features * scale_factor))\n",
    "        \n",
    "        self.sa = nn.MultiheadAttention(int(n_features * scale_factor), scale_factor//2)\n",
    "        self.ffwd = FeedFoward(int(n_features * scale_factor), dropout=0.2)\n",
    "        self.ln1 = nn.LayerNorm(int(n_features * scale_factor))\n",
    "        self.ln2 = nn.LayerNorm(int(n_features * scale_factor))\n",
    "        \n",
    "        \n",
    "    def forward(self, x):\n",
    "        x = x.view(-1, 556)\n",
    "        \n",
    "        state_t = x[:, 0:60] # - 273\n",
    "        state_q0001 = x[:, 60:120] #*1_000\n",
    "        state_q0002 = x[:, 120:180] #*1_000\n",
    "        state_q0003 = x[:, 180:240] #*1_000\n",
    "        state_u = x[:, 240:300] #/ 100\n",
    "        state_v = x[:, 300:360] #/ 100\n",
    "    \n",
    "        state_ps = x[:, 360:361] #/ 100_000 - 1\n",
    "        pbuf_SOLIN = x[:, 361:362] #/ 1000\n",
    "        pbuf_LHFLX = x[:, 362:363] #/ 1000\n",
    "        pbuf_SHFLX = x[:, 363:364] #/ 1000\n",
    "        pbuf_TAUX = x[:, 364:365] #/ 1\n",
    "        pbuf_TAUY = x[:, 365:366] #/ 1\n",
    "        pbuf_COSZRS = x[:, 366:367] #/ 1\n",
    "        cam_in_ALDIF = x[:, 367:368] #/ 1\n",
    "        cam_in_ALDIR = x[:, 368:369] #/ 1\n",
    "        cam_in_ASDIF = x[:, 369:370] #/ 1\n",
    "        cam_in_ASDIR = x[:, 370:371] #/ 1\n",
    "        cam_in_LWUP = x[:, 371:372] # / 1000\n",
    "        cam_in_ICEFRAC = x[:, 372:373] #/ 1\n",
    "        cam_in_LANDFRAC = x[:, 373:374] #/1\n",
    "        cam_in_OCNFRAC = x[:, 374:375]  #/1\n",
    "        cam_in_SNOWHLAND = x[:, 375:376]# / 1\n",
    "    \n",
    "        pbuf_ozone = x[:, 376:436] #* 100_000\n",
    "        pbuf_CH4 = x[:, 436:496] #* 100_000\n",
    "        pbuf_N2O = x[:, 496:556] #* 100_000\n",
    "            \n",
    "        inputs_60 = [\n",
    "                state_t,\n",
    "                state_q0001,\n",
    "                state_q0002,\n",
    "                state_q0003, \n",
    "                state_u,\n",
    "                state_v,\n",
    "    \n",
    "                pbuf_ozone,\n",
    "                pbuf_CH4,\n",
    "                pbuf_N2O\n",
    "        ]\n",
    "\n",
    "        inputs_flat = [            \n",
    "                torch.repeat_interleave(state_ps, 60, dim=-1),\n",
    "                torch.repeat_interleave(pbuf_SOLIN, 60, dim=-1),\n",
    "                torch.repeat_interleave(pbuf_LHFLX, 60, dim=-1),\n",
    "                torch.repeat_interleave(pbuf_SHFLX, 60, dim=-1),\n",
    "                torch.repeat_interleave(pbuf_TAUX, 60, dim=-1),\n",
    "               torch.repeat_interleave(pbuf_TAUY, 60, dim=-1),\n",
    "                torch.repeat_interleave(pbuf_COSZRS, 60, dim=-1),\n",
    "                torch.repeat_interleave(cam_in_ALDIF, 60, dim=-1),\n",
    "                torch.repeat_interleave(cam_in_ALDIR, 60, dim=-1),\n",
    "               torch.repeat_interleave(cam_in_ASDIF, 60, dim=-1),\n",
    "                torch.repeat_interleave(cam_in_ASDIR, 60, dim=-1),\n",
    "                torch.repeat_interleave(cam_in_LWUP, 60, dim=-1),\n",
    "                torch.repeat_interleave(cam_in_ICEFRAC, 60, dim=-1),\n",
    "                torch.repeat_interleave(cam_in_LANDFRAC, 60, dim=-1),\n",
    "                torch.repeat_interleave(cam_in_OCNFRAC, 60, dim=-1),\n",
    "                torch.repeat_interleave(cam_in_SNOWHLAND, 60, dim=-1),\n",
    "        ]\n",
    "\n",
    "        inputs = inputs_60 + inputs_flat\n",
    "        inputs = torch.cat([t.view(-1, 1, 60) for t in inputs], 1)\n",
    "\n",
    "        #x = inputs\n",
    "        \n",
    "        q = self.dwQ(inputs).permute([0,2,1]) #B, L, C\n",
    "        k = self.dwK(inputs).permute([0,2,1]) #B, C, L\n",
    "        v = self.dwV(inputs).permute([0,2,1]) #B, L, C\n",
    "        #f = self.dwF(inputs).permute([0,2,1])  #B, L, C\n",
    "\n",
    "        \n",
    "        y = self.sa(q, k, v)[0]\n",
    "        x = self.ln1(q + y)\n",
    "        y = self.ffwd(x)\n",
    "        x = self.ln2(x + y)\n",
    "\n",
    "        return x.permute([0,2,1]) \n",
    "        \n",
    "        \n"
   ]
  },
  {
   "cell_type": "code",
   "execution_count": 34,
   "metadata": {},
   "outputs": [
    {
     "data": {
      "text/plain": [
       "torch.Size([8, 200, 60])"
      ]
     },
     "execution_count": 34,
     "metadata": {},
     "output_type": "execute_result"
    }
   ],
   "source": [
    "TFAFeatureExctractor()(torch.rand([8,556])).shape"
   ]
  },
  {
   "cell_type": "code",
   "execution_count": 35,
   "metadata": {},
   "outputs": [],
   "source": [
    "class FeatureExctractor(nn.Module):\n",
    "    \"\"\" Transformer block: communication followed by computation \"\"\"\n",
    "\n",
    "    def __init__(self, kernel_size = 7, channels=16, expand_channels=32, drop_rate = 0.1, n_features=25):\n",
    "        # n_embd: embedding dimension, n_head: the number of heads we'd like\n",
    "        super().__init__()\n",
    "        self.Scales60 = nn.ModuleList([nn.Conv1d(in_channels = 1,\n",
    "                                                out_channels = channels,\n",
    "                                                kernel_size = 1,\n",
    "                                                stride=1, \n",
    "                                                padding='same') for _ in range(9)])\n",
    "        \n",
    "        self.ScalesFlat = nn.ModuleList([nn.Conv1d(in_channels = 1,\n",
    "                                                out_channels = channels//2,\n",
    "                                                kernel_size = 1,\n",
    "                                                stride=1, \n",
    "                                                padding='same') for _ in range(16)])\n",
    "        \n",
    "        self.ConvExt60 = nn.ModuleList([\n",
    "            Conv1DBlock(kernel_size=kernel_size, channels = channels,expand_channels = expand_channels, drop_rate=drop_rate)\n",
    "                                          for _ in range(9)])\n",
    "        self.ConvExtFlat = nn.ModuleList([\n",
    "            Conv1DBlock(kernel_size=kernel_size, channels = channels//2,expand_channels = expand_channels//2, drop_rate=drop_rate)\n",
    "                                          for _ in range(16)])\n",
    "\n",
    "    def forward(self, x):\n",
    "        x = x.view(-1, 556)\n",
    "        \n",
    "        state_t = x[:, 0:60] # - 273\n",
    "        state_q0001 = x[:, 60:120] #*1_000\n",
    "        state_q0002 = x[:, 120:180] #*1_000\n",
    "        state_q0003 = x[:, 180:240] #*1_000\n",
    "        state_u = x[:, 240:300] #/ 100\n",
    "        state_v = x[:, 300:360] #/ 100\n",
    "    \n",
    "        state_ps = x[:, 360:361] #/ 100_000 - 1\n",
    "        pbuf_SOLIN = x[:, 361:362] #/ 1000\n",
    "        pbuf_LHFLX = x[:, 362:363] #/ 1000\n",
    "        pbuf_SHFLX = x[:, 363:364] #/ 1000\n",
    "        pbuf_TAUX = x[:, 364:365] #/ 1\n",
    "        pbuf_TAUY = x[:, 365:366] #/ 1\n",
    "        pbuf_COSZRS = x[:, 366:367] #/ 1\n",
    "        cam_in_ALDIF = x[:, 367:368] #/ 1\n",
    "        cam_in_ALDIR = x[:, 368:369] #/ 1\n",
    "        cam_in_ASDIF = x[:, 369:370] #/ 1\n",
    "        cam_in_ASDIR = x[:, 370:371] #/ 1\n",
    "        cam_in_LWUP = x[:, 371:372] # / 1000\n",
    "        cam_in_ICEFRAC = x[:, 372:373] #/ 1\n",
    "        cam_in_LANDFRAC = x[:, 373:374] #/1\n",
    "        cam_in_OCNFRAC = x[:, 374:375]  #/1\n",
    "        cam_in_SNOWHLAND = x[:, 375:376]# / 1\n",
    "    \n",
    "        pbuf_ozone = x[:, 376:436] #* 100_000\n",
    "        pbuf_CH4 = x[:, 436:496] #* 100_000\n",
    "        pbuf_N2O = x[:, 496:556] #* 100_000\n",
    "            \n",
    "        inputs_60 = [\n",
    "                state_t,\n",
    "                state_q0001,\n",
    "                state_q0002,\n",
    "                state_q0003, \n",
    "                state_u,\n",
    "                state_v,\n",
    "    \n",
    "                pbuf_ozone,\n",
    "                pbuf_CH4,\n",
    "                pbuf_N2O\n",
    "        ]\n",
    "\n",
    "        inputs_flat = [            \n",
    "                torch.repeat_interleave(state_ps, 60, dim=-1),\n",
    "                torch.repeat_interleave(pbuf_SOLIN, 60, dim=-1),\n",
    "                torch.repeat_interleave(pbuf_LHFLX, 60, dim=-1),\n",
    "                torch.repeat_interleave(pbuf_SHFLX, 60, dim=-1),\n",
    "                torch.repeat_interleave(pbuf_TAUX, 60, dim=-1),\n",
    "               torch.repeat_interleave(pbuf_TAUY, 60, dim=-1),\n",
    "                torch.repeat_interleave(pbuf_COSZRS, 60, dim=-1),\n",
    "                torch.repeat_interleave(cam_in_ALDIF, 60, dim=-1),\n",
    "                torch.repeat_interleave(cam_in_ALDIR, 60, dim=-1),\n",
    "               torch.repeat_interleave(cam_in_ASDIF, 60, dim=-1),\n",
    "                torch.repeat_interleave(cam_in_ASDIR, 60, dim=-1),\n",
    "                torch.repeat_interleave(cam_in_LWUP, 60, dim=-1),\n",
    "                torch.repeat_interleave(cam_in_ICEFRAC, 60, dim=-1),\n",
    "                torch.repeat_interleave(cam_in_LANDFRAC, 60, dim=-1),\n",
    "                torch.repeat_interleave(cam_in_OCNFRAC, 60, dim=-1),\n",
    "                torch.repeat_interleave(cam_in_SNOWHLAND, 60, dim=-1),\n",
    "        ]\n",
    "        \n",
    "        output = []\n",
    "        for i, conv in enumerate(self.ConvExt60):\n",
    "            t = inputs_60[i]\n",
    "            t = t.view(-1, 1, 60)\n",
    "            t = self.Scales60[i](t)\n",
    "            output.append(conv(t))\n",
    "            \n",
    "        for i, conv in enumerate(self.ConvExtFlat):\n",
    "            t = inputs_flat[i]\n",
    "            t = t.view(-1, 1, 60)\n",
    "            t = self.ScalesFlat[i](t)\n",
    "            output.append(conv(t))\n",
    "\n",
    "\n",
    "        return torch.cat(output, 1)#.permute([0,2,1])\n"
   ]
  },
  {
   "cell_type": "code",
   "execution_count": 36,
   "metadata": {},
   "outputs": [],
   "source": [
    "class DWFeatureExctractor(nn.Module):\n",
    "    \"\"\" Transformer block: communication followed by computation \"\"\"\n",
    "\n",
    "    def __init__(self, kernel_size = 3, scale_factor= 8, n_features=25):\n",
    "        # n_embd: embedding dimension, n_head: the number of heads we'd like\n",
    "        super().__init__()\n",
    "        self.n_features = n_features\n",
    "        self.scale_factor = scale_factor\n",
    "\n",
    "        self.dw_conv = nn.Conv1d(\n",
    "            n_features, \n",
    "            n_features * scale_factor, \n",
    "            kernel_size, \n",
    "            stride=1, \n",
    "            padding='same', \n",
    "            dilation=1, \n",
    "            groups=n_features,\n",
    "            bias=False, \n",
    "            padding_mode='zeros')\n",
    "\n",
    "        self.stat_proj = nn.ModuleList([\n",
    "                    nn.Sequential(\n",
    "                            nn.Linear(1, 32),\n",
    "                            nn.ReLU(inplace = True),\n",
    "                            nn.Linear(32, 60)\n",
    "                        ) for _ in range(16)\n",
    "        ])\n",
    "        \n",
    "    def forward(self, x):\n",
    "        x = x.view(-1, 556)\n",
    "        \n",
    "        state_t = x[:, 0:60] # - 273\n",
    "        state_q0001 = x[:, 60:120] #*1_000\n",
    "        state_q0002 = x[:, 120:180] #*1_000\n",
    "        state_q0003 = x[:, 180:240] #*1_000\n",
    "        state_u = x[:, 240:300] #/ 100\n",
    "        state_v = x[:, 300:360] #/ 100\n",
    "    \n",
    "        state_ps = x[:, 360:361] #/ 100_000 - 1\n",
    "        pbuf_SOLIN = x[:, 361:362] #/ 1000\n",
    "        pbuf_LHFLX = x[:, 362:363] #/ 1000\n",
    "        pbuf_SHFLX = x[:, 363:364] #/ 1000\n",
    "        pbuf_TAUX = x[:, 364:365] #/ 1\n",
    "        pbuf_TAUY = x[:, 365:366] #/ 1\n",
    "        pbuf_COSZRS = x[:, 366:367] #/ 1\n",
    "        cam_in_ALDIF = x[:, 367:368] #/ 1\n",
    "        cam_in_ALDIR = x[:, 368:369] #/ 1\n",
    "        cam_in_ASDIF = x[:, 369:370] #/ 1\n",
    "        cam_in_ASDIR = x[:, 370:371] #/ 1\n",
    "        cam_in_LWUP = x[:, 371:372] # / 1000\n",
    "        cam_in_ICEFRAC = x[:, 372:373] #/ 1\n",
    "        cam_in_LANDFRAC = x[:, 373:374] #/1\n",
    "        cam_in_OCNFRAC = x[:, 374:375]  #/1\n",
    "        cam_in_SNOWHLAND = x[:, 375:376]# / 1\n",
    "    \n",
    "        pbuf_ozone = x[:, 376:436] #* 100_000\n",
    "        pbuf_CH4 = x[:, 436:496] #* 100_000\n",
    "        pbuf_N2O = x[:, 496:556] #* 100_000\n",
    "            \n",
    "        inputs_60 = [\n",
    "                state_t,\n",
    "                state_q0001,\n",
    "                state_q0002,\n",
    "                state_q0003, \n",
    "                state_u,\n",
    "                state_v,\n",
    "    \n",
    "                pbuf_ozone,\n",
    "                pbuf_CH4,\n",
    "                pbuf_N2O\n",
    "        ]\n",
    "\n",
    "\n",
    "\n",
    "        inputs_flat = [\n",
    "        self.stat_proj[i](x) for i, x in \n",
    "        enumerate([state_ps, pbuf_SOLIN, pbuf_LHFLX, pbuf_SHFLX, pbuf_TAUX, pbuf_TAUY, pbuf_COSZRS, \n",
    "        cam_in_ALDIF, cam_in_ALDIR, cam_in_ASDIF, cam_in_ASDIR,\n",
    "        cam_in_LWUP, cam_in_ICEFRAC, cam_in_LANDFRAC, cam_in_OCNFRAC, cam_in_SNOWHLAND])]\n",
    "\n",
    "        inputs = inputs_60 + inputs_flat\n",
    "        inputs = torch.cat([t.view(-1, 1, 60) for t in inputs], 1)\n",
    "\n",
    "        #x = inputs\n",
    "        \n",
    "        q = self.dw_conv(inputs)\n",
    "\n",
    "        return q\n",
    "        \n",
    "        \n"
   ]
  },
  {
   "cell_type": "code",
   "execution_count": 37,
   "metadata": {},
   "outputs": [
    {
     "data": {
      "text/plain": [
       "torch.Size([8, 200, 60])"
      ]
     },
     "execution_count": 37,
     "metadata": {},
     "output_type": "execute_result"
    }
   ],
   "source": [
    "DWFeatureExctractor()(torch.rand([8,556])).shape"
   ]
  },
  {
   "cell_type": "code",
   "execution_count": 38,
   "metadata": {},
   "outputs": [],
   "source": [
    "class LEADHead(nn.Module):\n",
    "    \"\"\" Transformer block: communication followed by computation \"\"\"\n",
    "\n",
    "    def __init__(self, n_embd):\n",
    "        # n_embd: embedding dimension, n_head: the number of heads we'd like\n",
    "        super().__init__()\n",
    "\n",
    "        self.act = nn.SELU()\n",
    "        self.conv_seq = nn.Conv1d(in_channels = n_embd, out_channels = 6,\n",
    "                                                kernel_size = 1,\n",
    "                                                stride=1, \n",
    "                                                padding='same')\n",
    "        \n",
    "        self.conv_flat = nn.Conv1d(in_channels = n_embd, out_channels = 8,\n",
    "                                                kernel_size = 1,\n",
    "                                                stride=1, \n",
    "                                                padding='same')\n",
    "\n",
    "        self.linear = nn.Sequential(\n",
    "                            nn.Linear(480, 128),\n",
    "                            nn.ReLU(inplace = True),\n",
    "                            nn.Dropout(0.1),\n",
    "                            nn.Linear(128, 32),\n",
    "                            nn.ReLU(inplace = True),\n",
    "                            nn.Dropout(0.1),\n",
    "                            nn.Linear(32, 8),     \n",
    "                            nn.ReLU(inplace = True)\n",
    "                        )\n",
    "                \n",
    "    def forward(self, x):\n",
    "\n",
    "        #x = x.permute([0,2,1])\n",
    "        \n",
    "        p_seq = self.conv_seq(x)\n",
    "        p_seq = nn.Flatten()(p_seq)\n",
    "    \n",
    "        p_flat = self.conv_flat(x)\n",
    "        p_flat = nn.Flatten()(p_flat)\n",
    "        p_flat = self.linear(p_flat)\n",
    "        \n",
    "        #return 3* nn.Tanh()(torch.cat([p_seq, p_flat], axis= -1))\n",
    "        return torch.cat([p_seq, p_flat], axis= -1)"
   ]
  },
  {
   "cell_type": "code",
   "execution_count": 39,
   "metadata": {},
   "outputs": [],
   "source": [
    "class LEADHead(nn.Module):\n",
    "    \"\"\" Transformer block: communication followed by computation \"\"\"\n",
    "\n",
    "    def __init__(self, n_embd):\n",
    "        # n_embd: embedding dimension, n_head: the number of heads we'd like\n",
    "        super().__init__()\n",
    "\n",
    "        self.act = nn.SELU()\n",
    "        self.conv_seq = nn.Conv1d(in_channels = n_embd, out_channels = 6,\n",
    "                                                kernel_size = 1,\n",
    "                                                stride=1, \n",
    "                                                padding='same')\n",
    "        \n",
    "        self.conv_flat = nn.Conv1d(in_channels = n_embd, out_channels = 8,\n",
    "                                                kernel_size = 1,\n",
    "                                                stride=1, \n",
    "                                                padding='same')\n",
    "\n",
    "        self.linear = nn.Sequential(\n",
    "                            nn.Linear(480, 128),\n",
    "                            nn.ReLU(inplace = True),\n",
    "                            nn.Dropout(0.1),\n",
    "                            nn.Linear(128, 32),\n",
    "                            nn.ReLU(inplace = True),\n",
    "                            nn.Dropout(0.1),\n",
    "                            nn.Linear(32, 8),     \n",
    "                            nn.ReLU(inplace = True)\n",
    "                        )\n",
    "                \n",
    "    def forward(self, x):\n",
    "\n",
    "        #x = x.permute([0,2,1])\n",
    "        \n",
    "        p_seq = self.conv_seq(x)\n",
    "        p_seq = nn.Flatten()(p_seq)\n",
    "    \n",
    "        p_flat = self.conv_flat(x)\n",
    "        p_flat = nn.Flatten()(p_flat)\n",
    "        p_flat = self.linear(p_flat)\n",
    "        \n",
    "        #return 3* nn.Tanh()(torch.cat([p_seq, p_flat], axis= -1))\n",
    "        return torch.cat([p_seq, p_flat], axis= -1)"
   ]
  },
  {
   "cell_type": "code",
   "execution_count": 40,
   "metadata": {},
   "outputs": [],
   "source": [
    "class LEADHead(nn.Module):\n",
    "    \"\"\" Transformer block: communication followed by computation \"\"\"\n",
    "\n",
    "    def __init__(self, n_embd):\n",
    "        # n_embd: embedding dimension, n_head: the number of heads we'd like\n",
    "        super().__init__()\n",
    "\n",
    "        self.act = nn.ReLU()\n",
    "        self.conv_seq = nn.Conv1d(in_channels = n_embd, out_channels = 32,\n",
    "                                                kernel_size = 3,\n",
    "                                                stride=1, \n",
    "                                                padding='same')\n",
    "\n",
    "        self.ptend_t = nn.Conv1d(in_channels = 32, out_channels = 1,\n",
    "                                        kernel_size = 1,\n",
    "                                        stride=1, \n",
    "                                        padding='same')\n",
    "\n",
    "        self.ptend_q0001 = nn.Conv1d(in_channels = 32, out_channels = 1,\n",
    "                                        kernel_size = 1,\n",
    "                                        stride=1, \n",
    "                                        padding='same')\n",
    "\n",
    "        self.ptend_q0002 = nn.Conv1d(in_channels = 32, out_channels = 1,\n",
    "                                        kernel_size = 1,\n",
    "                                        stride=1, \n",
    "                                        padding='same')\n",
    "\n",
    "        self.ptend_q0003 = nn.Conv1d(in_channels = 32, out_channels = 1,\n",
    "                                kernel_size = 1,\n",
    "                                stride=1, \n",
    "                                padding='same')\n",
    "\n",
    "        self.ptend_u = nn.Conv1d(in_channels = 32, out_channels = 1,\n",
    "                                kernel_size = 1,\n",
    "                                stride=1, \n",
    "                                padding='same')\n",
    "\n",
    "        self.ptend_v = nn.Conv1d(in_channels = 32, out_channels = 1,\n",
    "                                kernel_size = 1,\n",
    "                                stride=1, \n",
    "                                padding='same')\n",
    "\n",
    "        \n",
    "        \n",
    "        self.conv_flat = nn.Conv1d(in_channels = n_embd, out_channels = 8,\n",
    "                                                kernel_size = 1,\n",
    "                                                stride=1, \n",
    "                                                padding='same')\n",
    "\n",
    "        self.linear = nn.Sequential(\n",
    "                            nn.Linear(480, 128),\n",
    "                            nn.ReLU(inplace = True),\n",
    "                            nn.Dropout(0.1),\n",
    "                            nn.Linear(128, 32),\n",
    "                            nn.ReLU(inplace = True),\n",
    "                            nn.Dropout(0.1),\n",
    "                            nn.Linear(32, 8),     \n",
    "                            nn.ReLU(inplace = True)\n",
    "                        )\n",
    "                \n",
    "    def forward(self, x):\n",
    "\n",
    "        #x = x.permute([0,2,1])\n",
    "        \n",
    "        p_seq = self.conv_seq(x)\n",
    "        p_seq = self.act(p_seq)\n",
    "        \n",
    "        ptend_t = nn.Flatten()(self.ptend_t(p_seq))\n",
    "        ptend_q0001 = nn.Flatten()(self.ptend_q0001(p_seq))\n",
    "        ptend_q0002 = nn.Flatten()(self.ptend_q0002(p_seq))\n",
    "        ptend_q0003 = nn.Flatten()(self.ptend_q0003(p_seq))\n",
    "        ptend_u = nn.Flatten()(self.ptend_u(p_seq))\n",
    "        ptend_v = nn.Flatten()(self.ptend_v(p_seq))\n",
    "        \n",
    "    \n",
    "        p_flat = self.conv_flat(x)\n",
    "        p_flat = nn.Flatten()(p_flat)\n",
    "        p_flat = self.linear(p_flat)\n",
    "        \n",
    "        #return 3* nn.Tanh()(torch.cat([p_seq, p_flat], axis= -1))\n",
    "        #return torch.cat([p_seq, p_flat], axis= -1)\n",
    "\n",
    "        return torch.cat([ptend_t, ptend_q0001, ptend_q0002, ptend_q0003, ptend_u, ptend_v, p_flat], axis= -1)"
   ]
  },
  {
   "cell_type": "code",
   "execution_count": 41,
   "metadata": {},
   "outputs": [],
   "source": [
    "class PositionalEncoding(nn.Module):\n",
    "\n",
    "    def __init__(self, n_dims=64, dropout=0.1, max_len=60):\n",
    "        super(PositionalEncoding, self).__init__()\n",
    "        self.dropout = nn.Dropout(p=dropout)\n",
    "        self.max_len = max_len\n",
    "        self.pe = nn.Embedding(num_embeddings=max_len, embedding_dim=n_dims)\n",
    "        \n",
    "\n",
    "    def forward(self, x):\n",
    "        \n",
    "        b = x.size(0)\n",
    "        \n",
    "        pos_emb = self.pe(torch.arange(0,self.max_len).to(x.device))\n",
    "        pos_emb = torch.repeat_interleave(pos_emb.view(1,self.max_len,-1), b, dim = 0)\n",
    "        pos_emb = self.dropout(pos_emb)\n",
    "        \n",
    "        x = x + pos_emb\n",
    "        return x"
   ]
  },
  {
   "cell_type": "code",
   "execution_count": 42,
   "metadata": {},
   "outputs": [
    {
     "data": {
      "text/plain": [
       "'ptend_v'"
      ]
     },
     "execution_count": 42,
     "metadata": {},
     "output_type": "execute_result"
    }
   ],
   "source": [
    "'ptend_t' \t\n",
    "'ptend_q0001'\t\n",
    "'ptend_q0002' \t\n",
    "'ptend_q0003' \t\n",
    "'ptend_u'\n",
    "'ptend_v'"
   ]
  },
  {
   "cell_type": "code",
   "execution_count": 43,
   "metadata": {},
   "outputs": [],
   "source": [
    "# batch_size = 16\n",
    "# block_size = 256\n",
    "# max_iters = 5000\n",
    "# learning_rate = 3e-4\n",
    "# eval_iters = 100\n",
    "# n_embd = 384\n",
    "# n_head = 8\n",
    "# n_layer = 12\n",
    "# dropout = 0.2\n",
    "\n",
    "nn_config_tfa = dict(\n",
    "    n_embd = 256,\n",
    "     n_head = 4,\n",
    "    fe_channels = 32, \n",
    "    encoder_layers = 2, \n",
    "    fe_drop_rate = 0.05,\n",
    "    att_drop_rate = 0.05,\n",
    "    n_features = 25,\n",
    "    bottleneck_k_size = 3,\n",
    "    block_kernels = [7,3,3],\n",
    "    out_att_blocks = 1\n",
    ")\n",
    "\n",
    "    \n",
    "class TfaLeapModel(nn.Module):\n",
    "    def __init__(self, n_embd = 64, n_head = 4, encoder_layers = 3, fe_channels=16, fe_drop_rate=0.1, \n",
    "                 att_drop_rate=0.2, n_features = 25, bottleneck_k_size = 3, block_kernels = [5, 3], out_att_blocks=0):\n",
    "        super().__init__()\n",
    "        \n",
    "        self.fe = TFAFeatureExctractor(kernel_size = 3, scale_factor=n_head*4)\n",
    "        self.linearStem = nn.Linear(n_features * n_head * 4, n_embd)\n",
    "\n",
    "        self.blocks = nn.Sequential(*[ConvTransBlock(block_kernels = block_kernels, \n",
    "                                                     channels = n_embd, \n",
    "                                                     expand_channels = n_embd*2, \n",
    "                                                     n_head=n_head, \n",
    "                                                     drop_rate = fe_drop_rate, \n",
    "                                                     att_drop_rate = att_drop_rate) for _ in range(encoder_layers)])\n",
    "\n",
    "        self.out_att_blocks = nn.Sequential(*[\n",
    "             Block(n_embd = n_embd, n_head=n_head, dropout = att_drop_rate)\n",
    "            for _ in range(out_att_blocks)\n",
    "        ])\n",
    "\n",
    "        \n",
    "        self.head  = LEADHead(n_embd = n_embd)\n",
    "        self.apply(self._init_weights)\n",
    "\n",
    "    def _init_weights(self, module):\n",
    "        if isinstance(module, nn.Linear):\n",
    "            torch.nn.init.normal_(module.weight, mean=0.0, std=0.02)\n",
    "            if module.bias is not None:\n",
    "                torch.nn.init.zeros_(module.bias)\n",
    "        elif isinstance(module, nn.Embedding):\n",
    "            torch.nn.init.normal_(module.weight, mean=0.0, std=0.02)\n",
    "\n",
    "\n",
    "\n",
    "    def forward(self, inputs, targets=None):\n",
    "        #B, T = inputs.shape\n",
    "\n",
    "        xf = self.fe(inputs)\n",
    "        xf = xf.permute([0,2,1])\n",
    "        xf = self.linearStem(xf)\n",
    "        xf = xf.permute([0,2,1])\n",
    "        #xf = self.bottleneck(xf)\n",
    "        x = xf#.permute([0,2,1])\n",
    "        \n",
    "        x = self.blocks(x)\n",
    "\n",
    "        x = x.permute([0,2,1])\n",
    "        x = self.out_att_blocks(x)\n",
    "        x = x.permute([0,2,1])\n",
    "        \n",
    "        out = self.head(x)\n",
    "        return out"
   ]
  },
  {
   "cell_type": "code",
   "execution_count": 44,
   "metadata": {},
   "outputs": [],
   "source": [
    "\n",
    "\n",
    "# batch_size = 16\n",
    "# block_size = 256\n",
    "# max_iters = 5000\n",
    "# learning_rate = 3e-4\n",
    "# eval_iters = 100\n",
    "# n_embd = 384\n",
    "# n_head = 8\n",
    "# n_layer = 12\n",
    "# dropout = 0.2\n",
    "\n",
    "\n",
    "nn_config_squeeze = dict(\n",
    "    n_embd = 256,\n",
    "     n_head = 4,\n",
    "    fe_channels = 32, \n",
    "    encoder_layers = 10, \n",
    "    fe_drop_rate = 0.15,\n",
    "    att_drop_rate = 0.25,\n",
    "    n_features = 25,\n",
    "    bottleneck_k_size = 3,\n",
    "    block_kernels = [3,3,3,3,3,3,3],\n",
    "    out_att_blocks = 4\n",
    ")\n",
    "\n",
    "\n",
    "class SqueezeFormerModel(nn.Module):\n",
    "    def __init__(self, n_embd = 64, n_head = 4, encoder_layers = 3, fe_channels=16, fe_drop_rate=0.1, \n",
    "                 att_drop_rate=0.2, n_features = 25, bottleneck_k_size = 3, block_kernels = [5, 3], out_att_blocks=0):\n",
    "        super().__init__()\n",
    "        \n",
    "        #self.fe = TFAFeatureExctractor(kernel_size = 3, scale_factor=n_head*4)\n",
    "        self.fe = DWFeatureExctractor(kernel_size = 3, scale_factor=n_head*2)\n",
    "        \n",
    "        self.linearStem = nn.Linear(n_features * n_head * 2, n_embd)\n",
    "        #self.linearStem = ConvStem(kernel_size = 1, in_channels=n_features * n_head * 2, out_channels = n_embd)\n",
    "\n",
    "        self.block_1 = SqueezeFormerBlock(kernel_size = 3, channels=n_embd, n_heads = n_head)\n",
    "        self.block_last = SqueezeFormerBlock(kernel_size = 3, channels=n_embd, n_heads = n_head)\n",
    "\n",
    "        self.blocks = nn.Sequential(*[SqueezeFormerBlock(kernel_size = 3, channels=n_embd, n_heads = n_head)\n",
    "                                      for _ in range(encoder_layers-2)])\n",
    "    \n",
    "   \n",
    "        # self.loc_arcface = nn.Sequential(\n",
    "        #     nn.Linear(556, n_embd*2),\n",
    "        #     nn.ReLU(inplace=True),\n",
    "        #     nn.LayerNorm(n_embd*2),\n",
    "        #     nn.Dropout(fe_drop_rate),\n",
    "        #     nn.Linear(n_embd*2, n_embd),\n",
    "        #     nn.ReLU(inplace=True),\n",
    "        #     nn.Dropout(fe_drop_rate),\n",
    "        #     nn.Linear(n_embd, n_embd)\n",
    "        # )\n",
    "\n",
    "        self.loc_class = nn.Sequential(\n",
    "            nn.Linear(n_embd, 512),\n",
    "            nn.ReLU(inplace=True),\n",
    "            nn.Linear(512, 384)\n",
    "        )\n",
    "\n",
    "\n",
    "\n",
    "        self.out_att_blocks = nn.Sequential(*[\n",
    "             Block(n_embd = n_embd, n_head=n_head, dropout = att_drop_rate)\n",
    "            for _ in range(out_att_blocks)\n",
    "        ])\n",
    "        \n",
    "        self.head  = LEADHead(n_embd = n_embd)\n",
    "        self.apply(self._init_weights)\n",
    "\n",
    "    def _init_weights(self, module):\n",
    "        if isinstance(module, nn.Linear):\n",
    "            torch.nn.init.normal_(module.weight, mean=0.0, std=0.02)\n",
    "            if module.bias is not None:\n",
    "                torch.nn.init.zeros_(module.bias)\n",
    "        elif isinstance(module, nn.Embedding):\n",
    "            torch.nn.init.normal_(module.weight, mean=0.0, std=0.02)\n",
    "\n",
    "\n",
    "\n",
    "    def forward(self, inputs, targets=None):\n",
    "        #B, T = inputs.shape\n",
    "\n",
    "        #emb = self.loc_arcface(inputs)\n",
    "        \n",
    "        xf = self.fe(inputs)\n",
    "        \n",
    "        xf = xf.permute([0,2,1])\n",
    "        xf = self.linearStem(xf)\n",
    "        xf = xf.permute([0,2,1])\n",
    "        \n",
    "        x1 = self.block_1(xf)\n",
    "        x = self.blocks(x1)\n",
    "        x = self.block_last(x+x1)\n",
    "\n",
    "        emb = x.mean(axis=-1)\n",
    "        emb_class = self.loc_class(emb)\n",
    "        \n",
    "        x = x.permute([0,2,1])\n",
    "        x = self.out_att_blocks(x)\n",
    "        x = x.permute([0,2,1])\n",
    "        \n",
    "        out = self.head(x, emb)\n",
    "        return {'output': out, 'locations_emb': emb_class}"
   ]
  },
  {
   "cell_type": "code",
   "execution_count": 45,
   "metadata": {},
   "outputs": [],
   "source": [
    "# batch_size = 16\n",
    "# block_size = 256\n",
    "# max_iters = 5000\n",
    "# learning_rate = 3e-4\n",
    "# eval_iters = 100\n",
    "# n_embd = 384\n",
    "# n_head = 8\n",
    "# n_layer = 12\n",
    "# dropout = 0.2\n",
    "\n",
    "nn_config_tfa = dict(\n",
    "    n_embd = 256,\n",
    "     n_head = 8,\n",
    "    fe_channels = 32, \n",
    "    encoder_layers = 6, \n",
    "    fe_drop_rate = 0.05,\n",
    "    att_drop_rate = 0.15,\n",
    "    n_features = 25,\n",
    "    bottleneck_k_size = 3,\n",
    "    block_kernels = [4],\n",
    "    out_att_blocks = 2\n",
    ")\n",
    "\n",
    "    \n",
    "class TfaLeapModel(nn.Module):\n",
    "    def __init__(self, n_embd = 64, n_head = 4, encoder_layers = 3, fe_channels=16, fe_drop_rate=0.1, \n",
    "                 att_drop_rate=0.2, n_features = 25, bottleneck_k_size = 3, block_kernels = [5, 3], out_att_blocks=0):\n",
    "        super().__init__()\n",
    "\n",
    "        #self.input_ffwd = FeedFoward(556, fe_drop_rate)\n",
    "        \n",
    "        self.fe = DWFeatureExctractor(kernel_size = 3, scale_factor=n_head*4)\n",
    "        self.linearStem = nn.Linear(n_features * n_head * 4, n_embd)\n",
    "        \n",
    "        self.pe = PositionalEncoding(n_dims=n_embd, dropout=fe_drop_rate)\n",
    "        \n",
    "        self.block_1 = ConvTransBlock(block_kernels = block_kernels, \n",
    "                                                     channels = n_embd, \n",
    "                                                     expand_channels = n_embd*2, \n",
    "                                                     n_head=n_head, \n",
    "                                                     drop_rate = fe_drop_rate, \n",
    "                                                     att_drop_rate = att_drop_rate)\n",
    "        \n",
    "        self.blocks = nn.Sequential(*[ConvTransBlock(block_kernels = block_kernels, \n",
    "                                                     channels = n_embd, \n",
    "                                                     expand_channels = n_embd*2, \n",
    "                                                     n_head=n_head, \n",
    "                                                     drop_rate = fe_drop_rate, \n",
    "                                                     att_drop_rate = att_drop_rate) for _ in range(encoder_layers-2)])\n",
    "\n",
    "        self.block_last = ConvTransBlock(block_kernels = block_kernels, \n",
    "                                                     channels = n_embd, \n",
    "                                                     expand_channels = n_embd*2, \n",
    "                                                     n_head=n_head, \n",
    "                                                     drop_rate = fe_drop_rate, \n",
    "                                                     att_drop_rate = att_drop_rate)\n",
    "    \n",
    "        self.out_att_blocks = nn.Sequential(*[\n",
    "             Block(n_embd = n_embd, n_head=n_head, dropout = att_drop_rate)\n",
    "            for _ in range(out_att_blocks)\n",
    "        ])\n",
    "        \n",
    "        \n",
    "        self.head  = LEADHead(n_embd = n_embd)\n",
    "        self.apply(self._init_weights)\n",
    "\n",
    "    def _init_weights(self, module):\n",
    "        if isinstance(module, nn.Linear):\n",
    "            torch.nn.init.normal_(module.weight, mean=0.0, std=0.02)\n",
    "            if module.bias is not None:\n",
    "                torch.nn.init.zeros_(module.bias)\n",
    "        elif isinstance(module, nn.Embedding):\n",
    "            torch.nn.init.normal_(module.weight, mean=0.0, std=0.02)\n",
    "\n",
    "\n",
    "\n",
    "    def forward(self, inputs, targets=None):\n",
    "        #B, T = inputs.shape\n",
    "        \n",
    "        \n",
    "\n",
    "        #inputs = self.input_ffwd(inputs)\n",
    "        \n",
    "        xf = self.fe(inputs)\n",
    "        xf = xf.permute([0,2,1])\n",
    "        xf = self.linearStem(xf)\n",
    "        xf = self.pe(xf)\n",
    "        \n",
    "        xf = xf.permute([0,2,1])\n",
    "        #xf = self.bottleneck(xf)\n",
    "\n",
    "        x1 = self.block_1(xf)\n",
    "        x = self.blocks(x1)\n",
    "        x = self.block_last(x+x1)\n",
    "\n",
    "        x = x.permute([0,2,1])\n",
    "        x = self.out_att_blocks(x)\n",
    "        x = x.permute([0,2,1])\n",
    "        \n",
    "        out = self.head(x)\n",
    "        return out"
   ]
  },
  {
   "cell_type": "code",
   "execution_count": null,
   "metadata": {},
   "outputs": [],
   "source": []
  },
  {
   "cell_type": "code",
   "execution_count": 46,
   "metadata": {},
   "outputs": [
    {
     "name": "stderr",
     "output_type": "stream",
     "text": [
      "E:\\PycharmProjects\\birdclef24\\venv\\Lib\\site-packages\\torch\\nn\\modules\\conv.py:306: UserWarning: Using padding='same' with even kernel lengths and odd dilation may require a zero-padded copy of the input be created (Triggered internally at ..\\aten\\src\\ATen\\native\\Convolution.cpp:1032.)\n",
      "  return F.conv1d(input, weight, bias, self.stride,\n"
     ]
    },
    {
     "data": {
      "text/plain": [
       "torch.Size([8, 368])"
      ]
     },
     "execution_count": 46,
     "metadata": {},
     "output_type": "execute_result"
    }
   ],
   "source": [
    "TfaLeapModel(**nn_config_tfa)(torch.rand([8,556])).shape"
   ]
  },
  {
   "cell_type": "code",
   "execution_count": 47,
   "metadata": {},
   "outputs": [],
   "source": [
    "# class LeapModel(nn.Module):\n",
    "#     def __init__(self, dims:list):\n",
    "#         \"\"\"\n",
    "#         Initializes the LeapModel.\n",
    "\n",
    "#         Parameters\n",
    "#         ----------\n",
    "#         dims : list of int\n",
    "#             A list containing the dimensions of each layer in the network. \n",
    "#             The length of the list determines the number of layers.\n",
    "#         \"\"\"\n",
    "        \n",
    "#         super().__init__()\n",
    "        \n",
    "#         layers = []\n",
    "#         for i in range(len(dims) - 2):\n",
    "#             layers.append(nn.Linear(dims[i], dims[i + 1]))\n",
    "#             layers.append(nn.LayerNorm(dims[i + 1]))\n",
    "#             layers.append(nn.ReLU())\n",
    "            \n",
    "#         layers.append(nn.Linear(dims[-2], dims[-1]))\n",
    "#         self.network = nn.Sequential(*layers)\n",
    "        \n",
    "#     def forward(self, x):\n",
    "#         y = self.network(x)\n",
    "#         return y"
   ]
  },
  {
   "cell_type": "markdown",
   "metadata": {},
   "source": [
    "### Creating Data Loaders for Training and Validation"
   ]
  },
  {
   "cell_type": "code",
   "execution_count": 48,
   "metadata": {},
   "outputs": [],
   "source": [
    "ds_data = LeapDataset(\n",
    "    file_path=TRAIN_PATH,\n",
    "    x_features=FEATURE_NAMES, \n",
    "    y_features=TARGET_NAMES,\n",
    "    y_weights=torch.tensor(SCALE_WEIGHTS, dtype = torch.float64)\n",
    ")\n",
    "\n",
    "ds_train, ds_valid = random_split(ds_data, [TRAIN_SIZE, VALID_SIZE])\n",
    "\n",
    "train_loader = DataLoader(\n",
    "    ds_train, \n",
    "    batch_size=BATCH_SIZE, \n",
    "    shuffle=True, \n",
    "    drop_last=True,\n",
    ")\n",
    "\n",
    "valid_loader = DataLoader(\n",
    "    ds_valid, \n",
    "    batch_size=BATCH_SIZE, \n",
    "    shuffle=False, \n",
    "    drop_last=False,\n",
    ")"
   ]
  },
  {
   "cell_type": "markdown",
   "metadata": {},
   "source": [
    "### Mean and Standard Deviation Calculation"
   ]
  },
  {
   "cell_type": "code",
   "execution_count": 49,
   "metadata": {},
   "outputs": [
    {
     "name": "stdout",
     "output_type": "stream",
     "text": [
      "Mean(x) Shape:  (556,)\n",
      "Mean(y) Shape:  (368,)\n",
      "Std(x) Shape:  (556,)\n",
      "Std(y) Shape:  (368,)\n",
      "LOC_Y_MIN Shape:  (384, 368)\n",
      "LOC_Y_MAX Shape:  (384, 368)\n"
     ]
    }
   ],
   "source": [
    "#calc_mean_std(ds_train.dataset)\n",
    "\n",
    "import pickle \n",
    "  \n",
    "# Open the file in binary mode \n",
    "with open('dataset_global_all_stats.pkl', 'rb') as file: \n",
    "      \n",
    "    # Call load method to deserialze \n",
    "    stats = pickle.load(file) \n",
    "  \n",
    "X_MEAN = stats['X_MEAN']\n",
    "Y_MEAN = stats['Y_MEAN']\n",
    "X_STD = stats['X_STD']\n",
    "Y_STD = stats['Y_STD']\n",
    "LOC_Y_MAX = stats['LOC_Y_MAX']\n",
    "LOC_Y_MIN = stats['LOC_Y_MIN']\n",
    "Y_MIN = stats['Y_MIN'] \n",
    "Y_MAX = stats['Y_MAX'] \n",
    "  \n",
    "\n",
    "\n",
    "print(\"Mean(x) Shape: \", X_MEAN.shape)\n",
    "print(\"Mean(y) Shape: \", Y_MEAN.shape)\n",
    "print(\"Std(x) Shape: \", X_STD.shape)\n",
    "print(\"Std(y) Shape: \", Y_STD.shape)\n",
    "\n",
    "print(\"LOC_Y_MIN Shape: \", LOC_Y_MIN.shape)\n",
    "print(\"LOC_Y_MAX Shape: \", LOC_Y_MAX.shape)\n",
    "\n",
    "LOC_Y_MIN = torch.tensor(LOC_Y_MIN, dtype = torch.float32).to(DEVICE)\n",
    "LOC_Y_MAX = torch.tensor(LOC_Y_MAX, dtype = torch.float32).to(DEVICE)"
   ]
  },
  {
   "cell_type": "code",
   "execution_count": 50,
   "metadata": {},
   "outputs": [
    {
     "data": {
      "text/plain": [
       "tensor([[ 1.6699,  5.0000,  1.9951,  ...,  3.8184,  4.9336,  5.9492],\n",
       "        [73.5625, 71.0000, 67.8750,  ...,  3.1445,  3.8965,  5.3203],\n",
       "        [21.7031,  7.3281,  1.9941,  ...,  4.0664,  5.0586,  6.2070],\n",
       "        ...,\n",
       "        [26.9219,  2.3027,  2.0332,  ...,  3.3047,  4.1328,  5.5195],\n",
       "        [ 1.7363,  1.7646,  1.7715,  ...,  3.1133,  3.5996,  4.8750],\n",
       "        [ 1.4990,  2.1562,  1.9717,  ...,  3.5664,  4.8516,  5.6367]],\n",
       "       device='cuda:0')"
      ]
     },
     "execution_count": 50,
     "metadata": {},
     "output_type": "execute_result"
    }
   ],
   "source": [
    "LOC_Y_MAX[torch.randint(384, [200])]"
   ]
  },
  {
   "cell_type": "code",
   "execution_count": 51,
   "metadata": {},
   "outputs": [],
   "source": [
    "#Y_MEAN[[-1,-2,-3,-4,-7,-8]] = 0 "
   ]
  },
  {
   "cell_type": "code",
   "execution_count": 52,
   "metadata": {},
   "outputs": [
    {
     "data": {
      "text/plain": [
       "array([0.33904951, 0.44991617, 0.53023997, 0.68980353, 0.91454082,\n",
       "       1.10335843, 1.03457842, 0.78783475, 0.50254858, 0.38697311,\n",
       "       2.94961358, 2.26554557, 1.67123934, 1.25858581, 0.93235221,\n",
       "       0.7419309 , 0.69083685, 0.07965096, 0.1094122 , 0.13763185,\n",
       "       0.15043989, 0.16075318, 0.18151723, 0.21005089, 0.24184829,\n",
       "       0.27910623, 0.323123  , 0.37492876, 0.43054877, 0.48962206,\n",
       "       0.54427667, 0.58454766, 0.61222739, 0.63077924, 0.64200634,\n",
       "       0.64544652, 0.64074007, 0.63322789, 0.62622654, 0.62011605,\n",
       "       0.61514178, 0.61097262, 0.61000543, 0.61266751, 0.61629205,\n",
       "       0.61767403, 0.61208417, 0.60092445, 0.58837284, 0.57431648,\n",
       "       0.55935203, 0.54387452, 0.52725497, 0.50966103, 0.49168715,\n",
       "       0.47748374, 0.47209206, 0.48213407, 0.57320541, 0.95958514,\n",
       "       0.11525936, 0.09266462, 0.68318151, 0.28252762, 0.2856375 ,\n",
       "       0.21600703, 0.4055325 , 0.08839846, 0.18589452, 0.04102757,\n",
       "       0.08894284, 0.17413082, 0.30623371, 0.48810117, 0.0701889 ,\n",
       "       0.09237392, 0.11447827, 0.13750486, 0.15947504, 0.17708663,\n",
       "       0.19117275, 0.20360876, 0.21676918, 0.23331111, 0.25309587,\n",
       "       0.27646906, 0.30340923, 0.33555307, 0.37121557, 0.41001174,\n",
       "       0.44927388, 0.48671603, 0.52050582, 0.55060362, 0.57166817,\n",
       "       0.58266581, 0.58829488, 0.58856521, 0.58595998, 0.58217084,\n",
       "       0.578176  , 0.57503353, 0.56837453, 0.55125356, 0.53224607,\n",
       "       0.48687991, 0.46364349, 0.4080589 , 0.27047783, 0.07073304,\n",
       "       0.0335832 , 0.07035298, 0.11359511, 0.17889342, 0.25931214,\n",
       "       0.34832997, 0.44926094, 0.55246276, 0.64680695, 0.72416914,\n",
       "       0.07898424, 0.08477019, 0.09008478, 0.09506614, 0.09983066,\n",
       "       0.10463309, 0.10933585, 0.11251115, 0.11256085, 1.09405482,\n",
       "       1.03536778, 0.95690339, 0.86298676, 0.75804578, 0.6473964 ,\n",
       "       0.54590741, 0.46431432, 0.40401555, 0.37422182, 0.35790824,\n",
       "       0.27501278, 0.11445819, 0.08550756, 0.07906196, 0.46235017,\n",
       "       0.31793967, 0.09205412, 0.13753449, 0.02606334, 0.03443984,\n",
       "       0.04305562, 0.0507182 , 0.05744414, 0.06236398, 0.06518768,\n",
       "       0.06580305, 0.06536413, 0.06498911, 0.06507795, 0.06462104,\n",
       "       0.06123842, 0.5558083 , 0.49964   , 0.4534743 , 0.41487775,\n",
       "       0.38080161, 0.35186981, 0.32737061, 0.30542236, 0.28545287,\n",
       "       0.267416  , 0.25096222, 0.2359987 , 0.22179717, 0.20851084,\n",
       "       0.19637431, 0.18573797, 0.17609851, 0.16789118, 0.16100502,\n",
       "       0.15550776, 0.15038925, 0.14475429, 0.13892014, 0.13408724,\n",
       "       0.13091034, 0.12898646, 0.12411485, 0.13068459, 0.21724928,\n",
       "       0.5012353 , 0.11072311, 0.23089598, 0.04834108, 0.09294973,\n",
       "       0.1743914 , 0.24709428, 0.20935934, 0.19308892, 0.17704962,\n",
       "       0.16564992, 0.1537813 , 0.13994989, 0.12834966, 0.12084493,\n",
       "       0.11574357, 0.11138557, 0.10707683, 0.10303202, 0.09902905,\n",
       "       0.09589828, 0.09489473, 0.09645229, 0.10064368, 0.10636687,\n",
       "       0.11203912, 0.11678783, 0.12124184, 0.1269109 , 0.13442155,\n",
       "       0.14330568, 0.15467057, 0.16924952, 0.18532697, 0.20083518,\n",
       "       0.21771849, 0.2384705 , 0.26559127, 0.29733523, 0.31838901,\n",
       "       0.31971269, 0.32414808, 0.33684905, 0.37605467, 0.36629777,\n",
       "       0.34012326, 0.52890633, 0.13128384, 0.31768505, 0.07649092,\n",
       "       0.18531422, 0.46549212, 0.09761526, 0.14614429, 0.19723659,\n",
       "       0.19419386, 0.1915584 , 0.18445012, 0.17892712, 0.16549912,\n",
       "       0.14474873, 0.12625691, 0.11414241, 0.10625815, 0.0982197 ,\n",
       "       0.08954441, 0.08169279, 0.07576863, 0.07096645, 0.06836547,\n",
       "       0.06852496, 0.07172   , 0.07789031, 0.08579921, 0.09311726,\n",
       "       0.0997706 , 0.10624887, 0.11301814, 0.12082569, 0.1298092 ,\n",
       "       0.1402651 , 0.15159531, 0.16181801, 0.17162574, 0.18264881,\n",
       "       0.19662614, 0.21700034, 0.24551854, 0.27545568, 0.29462269,\n",
       "       0.2980171 , 0.29433878, 0.27589267, 0.24344256, 0.34284216,\n",
       "       0.29309173, 0.35857464, 0.78788505, 0.0869094 , 0.12639533,\n",
       "       0.134488  , 0.57197065, 0.345666  ])"
      ]
     },
     "execution_count": 52,
     "metadata": {},
     "output_type": "execute_result"
    }
   ],
   "source": [
    "Y_STD[np.array(TARGET_WEIGHTS)>0]"
   ]
  },
  {
   "cell_type": "code",
   "execution_count": 53,
   "metadata": {},
   "outputs": [
    {
     "data": {
      "text/plain": [
       "array([ 1.02929261e-01, -6.97155326e-02, -3.15299507e-02, -3.19619268e-02,\n",
       "       -3.63129338e-02, -2.22857484e-02, -3.13506470e-03,  3.97841919e-03,\n",
       "        1.83784833e-03, -1.60611399e-04,  1.38263980e-02,  1.86093024e-02,\n",
       "        2.95191264e-02,  3.75109372e-02,  5.67370059e-02,  9.31576893e-02,\n",
       "        1.72058030e-01,  1.65372095e-02,  7.61109410e-03, -3.89531922e-03,\n",
       "       -3.52564088e-03, -2.38466249e-02, -4.12396960e-02, -5.64972054e-02,\n",
       "       -6.61519066e-02, -6.61819628e-02, -5.81682309e-02, -4.68412721e-02,\n",
       "       -3.57749574e-02, -2.57151994e-02, -1.68952969e-02, -9.05130939e-03,\n",
       "       -2.76688278e-03,  1.91246591e-03,  4.85856089e-03,  6.51845951e-03,\n",
       "        6.98788417e-03,  7.02315626e-03,  6.87885541e-03,  6.06122679e-03,\n",
       "        4.62000010e-03,  2.56066947e-03, -3.63076626e-04, -3.85495130e-03,\n",
       "       -6.96830829e-03, -6.93094346e-03, -1.90584647e-03,  6.68160697e-03,\n",
       "        1.57043694e-02,  2.37879026e-02,  3.05528183e-02,  3.68716334e-02,\n",
       "        4.26353070e-02,  4.43929782e-02,  3.89734843e-02,  2.09623456e-02,\n",
       "       -1.35780078e-02, -8.66028825e-02, -2.52400860e-01, -6.21178473e-01,\n",
       "        2.93138003e-04,  7.53486490e-04,  1.07955043e-03,  4.88599492e-04,\n",
       "        3.47511863e-04, -2.56719775e-03, -5.87852772e-03, -2.55430011e-03,\n",
       "       -9.50334934e-03, -3.12250625e-03, -8.93223693e-03, -2.11171729e-02,\n",
       "       -4.29684877e-02, -7.60872662e-02, -1.16775820e-02, -1.58466734e-02,\n",
       "       -1.96570522e-02, -2.32609971e-02, -2.66316047e-02, -2.89094369e-02,\n",
       "       -2.98240271e-02, -2.94578005e-02, -2.82479467e-02, -2.67789906e-02,\n",
       "       -2.52018845e-02, -2.35792894e-02, -2.17780350e-02, -1.97160401e-02,\n",
       "       -1.69855381e-02, -1.34125837e-02, -8.72768781e-03, -2.31633623e-03,\n",
       "        4.67997955e-03,  1.04066002e-02,  1.22905557e-02,  9.19147361e-03,\n",
       "        2.91706496e-03, -6.56288576e-03, -2.04122308e-02, -4.19539594e-02,\n",
       "       -7.42636665e-02, -1.15347874e-01, -1.60327555e-01, -1.94850408e-01,\n",
       "       -2.12840605e-01, -1.97209858e-01, -1.80961474e-01, -1.44246017e-01,\n",
       "       -7.85270690e-04, -3.46895204e-03, -3.18060445e-03, -8.07433951e-03,\n",
       "       -9.61023759e-03, -7.83244410e-03, -6.62945686e-03, -6.10602653e-03,\n",
       "       -4.91875814e-03, -2.99687279e-03, -1.71788748e-03, -6.61172764e-04,\n",
       "        3.43835308e-05,  1.30659571e-04,  3.13885396e-04,  4.54403478e-04,\n",
       "        6.29126027e-04,  8.44441976e-04,  1.05867340e-03,  1.14236724e-03,\n",
       "        1.12873363e-03,  1.09854384e-02,  1.08853661e-02,  1.24626731e-02,\n",
       "        1.38639016e-02,  1.39607893e-02,  1.13779880e-02,  8.08256556e-03,\n",
       "        4.84200272e-03,  2.78725243e-03,  5.49153316e-04, -5.87343104e-03,\n",
       "       -5.65146096e-02, -8.62975656e-05, -7.43405925e-05, -8.27612049e-05,\n",
       "        3.79537973e-05, -1.52864055e-05, -6.96085212e-05, -5.75676205e-04,\n",
       "       -1.78851869e-04, -3.89275946e-04, -6.48758228e-04, -8.63378000e-04,\n",
       "       -9.97609280e-04, -1.12394017e-03, -1.25241730e-03, -1.30467542e-03,\n",
       "       -1.17971277e-03, -9.05642924e-04, -3.96108169e-04,  3.57071453e-04,\n",
       "        9.20553566e-04,  1.02596917e-02,  9.25509361e-03,  8.53811806e-03,\n",
       "        8.26855280e-03,  7.33630100e-03,  5.86945833e-03,  4.92315484e-03,\n",
       "        4.46867726e-03,  3.96903949e-03,  3.36528238e-03,  2.81636821e-03,\n",
       "        2.47659864e-03,  2.24392642e-03,  2.03250352e-03,  1.88083477e-03,\n",
       "        2.09376382e-03,  2.58118288e-03,  3.23325360e-03,  3.64621356e-03,\n",
       "        3.74709682e-03,  3.39938700e-03,  2.54525329e-03,  1.21669318e-03,\n",
       "       -2.59561048e-04, -1.50942667e-03, -2.17994110e-03, -4.49506097e-03,\n",
       "       -2.06262789e-02,  7.14921436e-03,  4.58236517e-03,  1.55363760e-03,\n",
       "        2.03699409e-03,  7.18284733e-04,  5.22970666e-03,  1.42323572e-02,\n",
       "        1.85995989e-02,  7.11906586e-03,  1.44085642e-04, -6.11069188e-03,\n",
       "       -9.70764133e-03, -1.37715126e-02, -1.64116078e-02, -1.60878185e-02,\n",
       "       -1.48384541e-02, -1.33372794e-02, -1.18852511e-02, -1.06202750e-02,\n",
       "       -9.28202834e-03, -7.84779433e-03, -6.14073579e-03, -4.77204636e-03,\n",
       "       -4.11583129e-03, -4.36937934e-03, -4.93978879e-03, -5.62006672e-03,\n",
       "       -6.46471857e-03, -7.92102955e-03, -1.02726508e-02, -1.36511710e-02,\n",
       "       -1.80551419e-02, -2.34374158e-02, -2.88773059e-02, -3.17122906e-02,\n",
       "       -2.96392434e-02, -2.24676229e-02, -9.44993236e-03,  8.93809166e-03,\n",
       "        3.09843192e-02,  5.13360424e-02,  6.33975752e-02,  6.24448841e-02,\n",
       "        5.52243261e-02,  5.92279413e-02,  6.42633395e-02,  5.68460879e-02,\n",
       "        7.79961397e-02,  1.69376386e-04,  2.53540613e-05,  1.17170839e-04,\n",
       "        1.12349697e-03,  7.44694743e-04, -1.00043212e-03, -9.16077846e-04,\n",
       "        1.73822557e-03,  3.37261972e-03,  3.35028426e-03,  2.66994995e-03,\n",
       "       -1.77065968e-04, -1.30394099e-03, -1.76855860e-03, -1.61913729e-03,\n",
       "       -1.20612837e-03, -7.34508478e-04, -4.79758106e-04, -2.83694764e-04,\n",
       "       -2.96454032e-05,  2.06969637e-04,  3.46191555e-04,  3.17654225e-04,\n",
       "        7.37641657e-05, -6.29619284e-04, -1.57223754e-03, -2.45330271e-03,\n",
       "       -3.00133854e-03, -3.00771979e-03, -2.21485139e-03, -7.58123814e-04,\n",
       "        1.18204668e-03,  3.23678207e-03,  4.95287266e-03,  6.18096711e-03,\n",
       "        6.35803009e-03,  5.37919479e-03,  3.40140185e-03,  8.33418507e-04,\n",
       "       -2.34293121e-03, -6.81981971e-03, -1.04775390e-02, -1.16517182e-02,\n",
       "       -1.04887307e-02, -5.34487767e-03,  6.27260477e-03,  1.41044980e-02,\n",
       "        6.59127963e-03,  0.00000000e+00,  0.00000000e+00,  0.00000000e+00,\n",
       "        0.00000000e+00,  0.00000000e+00,  0.00000000e+00,  0.00000000e+00,\n",
       "        0.00000000e+00])"
      ]
     },
     "execution_count": 53,
     "metadata": {},
     "output_type": "execute_result"
    }
   ],
   "source": [
    "Y_MEAN[np.array(TARGET_WEIGHTS)>0]"
   ]
  },
  {
   "cell_type": "code",
   "execution_count": 54,
   "metadata": {},
   "outputs": [
    {
     "data": {
      "text/plain": [
       "array([2.07382224e-01, 1.83500351e-01, 1.37633783e-01, 5.38878116e-15,\n",
       "       1.00000000e-16, 1.00000000e-16, 1.00000000e-16, 1.00000000e-16,\n",
       "       1.00000000e-16, 1.00000000e-16, 1.00000000e-16, 1.00000000e-16,\n",
       "       1.00000000e-16, 1.00000000e-16, 1.00000000e-16, 1.00000000e-16,\n",
       "       1.00000000e-16, 1.00000000e-16, 1.00000000e-16, 1.00000000e-16,\n",
       "       1.00000000e-16, 1.00000000e-16, 1.00000000e-16, 1.00000000e-16,\n",
       "       2.21907389e-02, 1.04031013e-01, 8.45788234e-02, 2.08657634e+02,\n",
       "       7.54277658e+06, 5.36914328e+06, 3.64145780e+06, 9.30261627e+04,\n",
       "       6.83161313e+04, 5.24156398e+04, 4.40808465e+04, 3.18970589e+03,\n",
       "       6.64291642e+02, 2.05481111e+02, 2.73438268e+03, 1.00000000e-16,\n",
       "       1.00000000e-16, 1.00000000e-16, 1.00000000e-16, 1.00000000e-16,\n",
       "       1.00000000e-16, 1.00000000e-16, 1.00000000e-16, 1.00000000e-16,\n",
       "       1.00000000e-16, 1.00000000e-16, 1.00000000e-16, 1.00000000e-16,\n",
       "       1.00000000e-16, 1.00000000e-16, 1.00000000e-16, 1.00000000e-16,\n",
       "       1.00000000e-16, 1.00000000e-16, 1.00000000e-16, 1.00000000e-16,\n",
       "       1.00000000e-16, 1.00000000e-16, 1.00000000e-16, 1.00000000e-16,\n",
       "       1.00000000e-16, 1.00000000e-16, 1.00000000e-16, 1.00000000e-16,\n",
       "       1.00000000e-16, 1.00000000e-16, 1.00000000e-16, 1.00000000e-16,\n",
       "       1.00000000e-16, 1.00000000e-16, 1.00000000e-16])"
      ]
     },
     "execution_count": 54,
     "metadata": {},
     "output_type": "execute_result"
    }
   ],
   "source": [
    "Y_STD[np.array(TARGET_WEIGHTS)<1]"
   ]
  },
  {
   "cell_type": "markdown",
   "metadata": {},
   "source": [
    "### Get Sample Batch From Train Dataset"
   ]
  },
  {
   "cell_type": "code",
   "execution_count": 55,
   "metadata": {},
   "outputs": [
    {
     "name": "stdout",
     "output_type": "stream",
     "text": [
      "Batch Shape:  (256, 556) (256, 368) (256,)\n"
     ]
    }
   ],
   "source": [
    "X, y, l = next(iter(train_loader))\n",
    "\n",
    "print(\"Batch Shape: \", tuple(X.shape), tuple(y.shape), tuple(l.shape))"
   ]
  },
  {
   "cell_type": "markdown",
   "metadata": {},
   "source": [
    "### Exploratory Data Analysis"
   ]
  },
  {
   "cell_type": "code",
   "execution_count": 56,
   "metadata": {},
   "outputs": [
    {
     "data": {
      "image/png": "[encoded data removed]",
      "text/plain": [
       "<Figure size 1600x1600 with 15 Axes>"
      ]
     },
     "metadata": {},
     "output_type": "display_data"
    }
   ],
   "source": [
    "X_point, y_point = X[8], y[8] # nth data point from batch\n",
    "\n",
    "fig, axes = plt.subplots(nrows=5, ncols=3, figsize=(16, 16))\n",
    "\n",
    "axes[0, 0].plot(X_point[STATE_U_IDX])\n",
    "axes[0, 1].plot(X_point[STATE_V_IDX])\n",
    "axes[0, 2].plot(X_point[STATE_T_IDX])\n",
    "\n",
    "axes[1, 0].plot(X_point[STATE_Q0001_IDX])\n",
    "axes[1, 1].plot(X_point[STATE_Q0002_IDX])\n",
    "axes[1, 2].plot(X_point[STATE_Q0003_IDX])\n",
    "\n",
    "axes[2, 0].plot(X_point[PBUF_OZONE_IDX])\n",
    "axes[2, 1].plot(X_point[PBUF_CH4_IDX])\n",
    "axes[2, 2].plot(X_point[PBUF_N2O_IDX])\n",
    "\n",
    "axes[3, 0].plot(y_point[PTEND_Q0001_IDX])\n",
    "axes[3, 1].plot(y_point[PTEND_Q0002_IDX])\n",
    "axes[3, 2].plot(y_point[PTEND_Q0003_IDX])\n",
    "\n",
    "axes[4, 0].plot(y_point[PTEND_U_IDX])\n",
    "axes[4, 1].plot(y_point[PTEND_V_IDX])\n",
    "axes[4, 2].plot(y_point[PTEND_T_IDX])\n",
    "\n",
    "plt.show()"
   ]
  },
  {
   "cell_type": "markdown",
   "metadata": {},
   "source": [
    "### Training"
   ]
  },
  {
   "cell_type": "code",
   "execution_count": 57,
   "metadata": {},
   "outputs": [],
   "source": [
    "LOSS_SCALE_TORCH = torch.tensor(LOSS_SCALE, dtype = torch.float64).to(DEVICE) * torch.tensor(TARGET_WEIGHTS, dtype = torch.float64).to(DEVICE)\n",
    "\n",
    "LOSS_SCALE_TORCH[[-1,-2,-3,-4,-7,-8]] = 0.99 # CAM Values HAS TOO big MSE"
   ]
  },
  {
   "cell_type": "code",
   "execution_count": 58,
   "metadata": {},
   "outputs": [],
   "source": [
    "def WeightedMSE(y_pred, y):\n",
    "    return (LOSS_SCALE_TORCH**2 * (y - y_pred) ** 2)"
   ]
  },
  {
   "cell_type": "code",
   "execution_count": 59,
   "metadata": {},
   "outputs": [],
   "source": [
    "def WeightedRMSE(y_pred, y):\n",
    "    return (LOSS_SCALE_TORCH * torch.sqrt((y - y_pred) ** 2 + 1e-25))"
   ]
  },
  {
   "cell_type": "code",
   "execution_count": 60,
   "metadata": {},
   "outputs": [],
   "source": [
    "def WeightedHUBER(y_pred, y):\n",
    "    return LOSS_SCALE_TORCH * torch.nn.HuberLoss(reduction='none', delta=1.5)(y_pred, y)"
   ]
  },
  {
   "cell_type": "code",
   "execution_count": 61,
   "metadata": {},
   "outputs": [
    {
     "name": "stdout",
     "output_type": "stream",
     "text": [
      "tensor(0.1326, device='cuda:0', dtype=torch.float64)\n",
      "tensor(0.1326, device='cuda:0', dtype=torch.float64)\n"
     ]
    }
   ],
   "source": [
    "a = torch.rand([2000, 368]).to(DEVICE)\n",
    "b = torch.rand([2000, 368]).to(DEVICE)\n",
    "print(WeightedMSE(a, b).mean())\n",
    "print(WeightedMSE(a, b).mean(0).sum()/a.shape[-1])"
   ]
  },
  {
   "cell_type": "code",
   "execution_count": 63,
   "metadata": {},
   "outputs": [],
   "source": [
    "#model = LeapModel(**nn_config)\n",
    "model = TfaLeapModel(**nn_config_tfa)\n",
    "model = model.to(DEVICE)\n",
    "#model.load_state_dict(torch.load(\"best_score_model.pth\", map_location=DEVICE), strict = True)\n",
    "#model.load_state_dict(torch.load(\"best_score_model_head_constrain_exp_0629_0.67.pth\", map_location=DEVICE), strict = True)\n",
    "\n",
    "\n",
    "criterion = nn.MSELoss()\n",
    "criterion = WeightedMSE\n",
    "criterion = WeightedRMSE\n",
    "criterion = WeightedHUBER\n",
    "#criterion = torch.nn.HuberLoss(reduction='mean', delta=3.0)\n",
    "\n",
    "optimizer = optim.Adam(model.parameters(), lr=LEARNING_RATE)\n",
    "scheduler = lr_scheduler.PolynomialLR(optimizer, power=1.4, total_iters=NUM_EPOCHS)"
   ]
  },
  {
   "cell_type": "code",
   "execution_count": 64,
   "metadata": {},
   "outputs": [],
   "source": [
    "scheduler = lr_scheduler.CosineAnnealingWarmRestarts(\n",
    "            optimizer,\n",
    "            T_0=NUM_EPOCHS,\n",
    "            T_mult=1,\n",
    "            eta_min=1e-7,\n",
    "            last_epoch=-1\n",
    "        )"
   ]
  },
  {
   "cell_type": "code",
   "execution_count": 65,
   "metadata": {},
   "outputs": [],
   "source": [
    "# lrs = []\n",
    "# for i in range(NUM_EPOCHS):\n",
    "#     scheduler.step(i)\n",
    "#     lrs.append(scheduler.get_lr())"
   ]
  },
  {
   "cell_type": "code",
   "execution_count": 66,
   "metadata": {},
   "outputs": [],
   "source": [
    "#plt.plot(list(range(NUM_EPOCHS)), lrs)"
   ]
  },
  {
   "cell_type": "code",
   "execution_count": 67,
   "metadata": {},
   "outputs": [],
   "source": [
    "def reload_train_set(epoch):\n",
    "    paths = [\n",
    "        'dataset_f16_10kk_part_1.parquet',\n",
    "        'dataset_f16_10kk_part_2.parquet',\n",
    "        'dataset_f16_10kk_part_3.parquet',\n",
    "        'dataset_f16_10kk_part_4.parquet',\n",
    "        'dataset_f16_year_8.parquet'\n",
    "    ]\n",
    "\n",
    "    path = paths[epoch%5]\n",
    "    \n",
    "    ds_train = LeapDataset(\n",
    "        file_path=path,\n",
    "        x_features=FEATURE_NAMES, \n",
    "        y_features=TARGET_NAMES,\n",
    "        y_weights=torch.tensor(SCALE_WEIGHTS, dtype = torch.float64)\n",
    "    )\n",
    "    \n",
    "    train_loader = DataLoader(\n",
    "        ds_train, \n",
    "        batch_size=BATCH_SIZE, \n",
    "        shuffle=True, \n",
    "        drop_last=True,\n",
    "    )\n",
    "\n",
    "    return train_loader"
   ]
  },
  {
   "cell_type": "code",
   "execution_count": 68,
   "metadata": {},
   "outputs": [],
   "source": [
    "scores = []\n",
    "mses = []\n",
    "r2s = []\n",
    "r2s_detailed = []\n",
    "train_mse = []"
   ]
  },
  {
   "cell_type": "code",
   "execution_count": 69,
   "metadata": {
    "scrolled": true
   },
   "outputs": [
    {
     "name": "stderr",
     "output_type": "stream",
     "text": [
      "Epoch 0: 100%|██████████████████▉| 2999/3000 [10:49<00:00,  4.62it/s, LR=0.000100, train_loss=0.133]\n",
      "Epoch 0: 100%|███████| 1270/1270 [01:57<00:00, 10.83it/s, val_sc=0.985, val_mse=0.431, val_r2=0.601]\n",
      "Epoch 1: 100%|██████████████████▉| 2999/3000 [10:40<00:00,  4.68it/s, LR=0.000100, train_loss=0.112]\n",
      "Epoch 1: 100%|███████| 1270/1270 [01:57<00:00, 10.79it/s, val_sc=0.986, val_mse=0.398, val_r2=0.634]\n",
      "Epoch 2: 100%|██████████████████▉| 2999/3000 [10:38<00:00,  4.70it/s, LR=0.000100, train_loss=0.105]\n",
      "Epoch 2: 100%|████████| 1270/1270 [01:57<00:00, 10.83it/s, val_sc=0.985, val_mse=0.377, val_r2=0.65]\n",
      "Epoch 3: 100%|█████████████████▉| 2999/3000 [10:39<00:00,  4.69it/s, LR=0.000099, train_loss=0.0997]\n",
      "Epoch 3: 100%|███████| 1270/1270 [01:57<00:00, 10.84it/s, val_sc=0.988, val_mse=0.369, val_r2=0.657]\n",
      "Epoch 4: 100%|██████████████████▉| 2999/3000 [10:39<00:00,  4.69it/s, LR=0.000098, train_loss=0.101]\n",
      "Epoch 4: 100%|███████| 1270/1270 [01:57<00:00, 10.82it/s, val_sc=0.989, val_mse=0.349, val_r2=0.676]\n",
      "Epoch 5: 100%|██████████████████▉| 2999/3000 [10:36<00:00,  4.72it/s, LR=0.000098, train_loss=0.099]\n",
      "Epoch 5: 100%|███████| 1270/1270 [01:56<00:00, 10.88it/s, val_sc=0.989, val_mse=0.348, val_r2=0.678]\n",
      "Epoch 6: 100%|█████████████████▉| 2999/3000 [10:40<00:00,  4.68it/s, LR=0.000096, train_loss=0.0968]\n",
      "Epoch 6: 100%|████████| 1270/1270 [01:57<00:00, 10.80it/s, val_sc=0.99, val_mse=0.336, val_r2=0.691]\n",
      "Epoch 7: 100%|█████████████████▉| 2999/3000 [10:40<00:00,  4.68it/s, LR=0.000095, train_loss=0.0944]\n",
      "Epoch 7: 100%|████████| 1270/1270 [01:57<00:00, 10.82it/s, val_sc=0.99, val_mse=0.334, val_r2=0.691]\n",
      "Epoch 8: 100%|█████████████████▉| 2999/3000 [10:40<00:00,  4.69it/s, LR=0.000094, train_loss=0.0916]\n",
      "Epoch 8: 100%|███████| 1270/1270 [01:57<00:00, 10.79it/s, val_sc=0.991, val_mse=0.329, val_r2=0.699]\n",
      "Epoch 9: 100%|█████████████████▉| 2999/3000 [10:36<00:00,  4.72it/s, LR=0.000092, train_loss=0.0942]\n",
      "Epoch 9: 100%|███████| 1270/1270 [01:56<00:00, 10.88it/s, val_sc=0.992, val_mse=0.325, val_r2=0.702]\n",
      "Epoch 10: 100%|████████████████▉| 2999/3000 [10:32<00:00,  4.74it/s, LR=0.000090, train_loss=0.0935]\n",
      "Epoch 10: 100%|██████| 1270/1270 [01:55<00:00, 10.95it/s, val_sc=0.992, val_mse=0.321, val_r2=0.706]\n",
      "Epoch 11: 100%|████████████████▉| 2999/3000 [10:36<00:00,  4.71it/s, LR=0.000089, train_loss=0.0921]\n",
      "Epoch 11: 100%|███████| 1270/1270 [01:56<00:00, 10.89it/s, val_sc=0.991, val_mse=0.32, val_r2=0.708]\n",
      "Epoch 12: 100%|████████████████▉| 2999/3000 [10:36<00:00,  4.71it/s, LR=0.000086, train_loss=0.0904]\n",
      "Epoch 12: 100%|██████| 1270/1270 [01:56<00:00, 10.88it/s, val_sc=0.992, val_mse=0.317, val_r2=0.709]\n",
      "Epoch 13: 100%|█████████████████▉| 2999/3000 [10:36<00:00,  4.71it/s, LR=0.000084, train_loss=0.088]\n",
      "Epoch 13: 100%|██████| 1270/1270 [01:56<00:00, 10.88it/s, val_sc=0.992, val_mse=0.314, val_r2=0.714]\n",
      "Epoch 14: 100%|████████████████▉| 2999/3000 [10:36<00:00,  4.71it/s, LR=0.000082, train_loss=0.0906]\n",
      "Epoch 14: 100%|██████| 1270/1270 [01:56<00:00, 10.89it/s, val_sc=0.992, val_mse=0.312, val_r2=0.717]\n",
      "Epoch 15: 100%|████████████████▉| 2999/3000 [10:32<00:00,  4.74it/s, LR=0.000079, train_loss=0.0905]\n",
      "Epoch 15: 100%|██████| 1270/1270 [01:56<00:00, 10.93it/s, val_sc=0.992, val_mse=0.309, val_r2=0.719]\n",
      "Epoch 16: 100%|████████████████▉| 2999/3000 [10:36<00:00,  4.71it/s, LR=0.000077, train_loss=0.0895]\n",
      "Epoch 16: 100%|██████| 1270/1270 [01:56<00:00, 10.86it/s, val_sc=0.993, val_mse=0.309, val_r2=0.719]\n",
      "Epoch 17: 100%|████████████████▉| 2999/3000 [10:36<00:00,  4.71it/s, LR=0.000074, train_loss=0.0883]\n",
      "Epoch 17: 100%|██████| 1270/1270 [01:56<00:00, 10.87it/s, val_sc=0.993, val_mse=0.305, val_r2=0.722]\n",
      "Epoch 18: 100%|████████████████▉| 2999/3000 [10:36<00:00,  4.71it/s, LR=0.000071, train_loss=0.0857]\n",
      "Epoch 18: 100%|██████| 1270/1270 [01:56<00:00, 10.88it/s, val_sc=0.993, val_mse=0.304, val_r2=0.725]\n",
      "Epoch 19: 100%|████████████████▉| 2999/3000 [10:36<00:00,  4.71it/s, LR=0.000068, train_loss=0.0885]\n",
      "Epoch 19: 100%|██████| 1270/1270 [01:56<00:00, 10.87it/s, val_sc=0.993, val_mse=0.303, val_r2=0.726]\n",
      "Epoch 20: 100%|████████████████▉| 2999/3000 [10:32<00:00,  4.74it/s, LR=0.000065, train_loss=0.0886]\n",
      "Epoch 20: 100%|██████| 1270/1270 [01:56<00:00, 10.92it/s, val_sc=0.993, val_mse=0.302, val_r2=0.726]\n",
      "Epoch 21: 100%|████████████████▉| 2999/3000 [10:36<00:00,  4.71it/s, LR=0.000062, train_loss=0.0877]\n",
      "Epoch 21: 100%|██████| 1270/1270 [01:56<00:00, 10.87it/s, val_sc=0.993, val_mse=0.301, val_r2=0.728]\n",
      "Epoch 22: 100%|████████████████▉| 2999/3000 [10:36<00:00,  4.71it/s, LR=0.000059, train_loss=0.0864]\n",
      "Epoch 22: 100%|██████| 1270/1270 [01:56<00:00, 10.88it/s, val_sc=0.993, val_mse=0.297, val_r2=0.732]\n",
      "Epoch 23: 100%|████████████████▉| 2999/3000 [10:35<00:00,  4.72it/s, LR=0.000056, train_loss=0.0845]\n",
      "Epoch 23: 100%|██████| 1270/1270 [01:56<00:00, 10.87it/s, val_sc=0.993, val_mse=0.303, val_r2=0.727]\n",
      "Epoch 24: 100%|████████████████▉| 2999/3000 [10:37<00:00,  4.71it/s, LR=0.000053, train_loss=0.0871]\n",
      "Epoch 24: 100%|███████| 1270/1270 [01:57<00:00, 10.85it/s, val_sc=0.993, val_mse=0.299, val_r2=0.73]\n",
      "Epoch 25: 100%|█████████████████▉| 2999/3000 [10:33<00:00,  4.73it/s, LR=0.000050, train_loss=0.087]\n",
      "Epoch 25: 100%|██████| 1270/1270 [01:56<00:00, 10.91it/s, val_sc=0.993, val_mse=0.295, val_r2=0.735]\n",
      "Epoch 26: 100%|████████████████▉| 2999/3000 [10:37<00:00,  4.71it/s, LR=0.000047, train_loss=0.0865]\n",
      "Epoch 26: 100%|██████| 1270/1270 [01:57<00:00, 10.84it/s, val_sc=0.993, val_mse=0.294, val_r2=0.736]\n",
      "Epoch 27: 100%|████████████████▉| 2999/3000 [10:41<00:00,  4.67it/s, LR=0.000044, train_loss=0.0851]\n",
      "Epoch 27: 100%|██████| 1270/1270 [01:57<00:00, 10.76it/s, val_sc=0.993, val_mse=0.292, val_r2=0.737]\n",
      "Epoch 28: 100%|████████████████▉| 2999/3000 [11:00<00:00,  4.54it/s, LR=0.000041, train_loss=0.0833]\n",
      "Epoch 28: 100%|██████| 1270/1270 [01:58<00:00, 10.76it/s, val_sc=0.993, val_mse=0.292, val_r2=0.737]\n",
      "Epoch 29: 100%|████████████████▉| 2999/3000 [10:46<00:00,  4.64it/s, LR=0.000038, train_loss=0.0855]\n",
      "Epoch 29: 100%|███████| 1270/1270 [01:58<00:00, 10.75it/s, val_sc=0.993, val_mse=0.289, val_r2=0.74]\n",
      "Epoch 30: 100%|████████████████▉| 2999/3000 [10:47<00:00,  4.63it/s, LR=0.000035, train_loss=0.0857]\n",
      "Epoch 30: 100%|██████| 1270/1270 [01:57<00:00, 10.78it/s, val_sc=0.993, val_mse=0.289, val_r2=0.742]\n",
      "Epoch 31: 100%|████████████████▉| 2999/3000 [10:44<00:00,  4.66it/s, LR=0.000032, train_loss=0.0851]\n",
      "Epoch 31: 100%|██████| 1270/1270 [01:58<00:00, 10.74it/s, val_sc=0.993, val_mse=0.289, val_r2=0.739]\n",
      "Epoch 32: 100%|████████████████▉| 2999/3000 [10:44<00:00,  4.65it/s, LR=0.000029, train_loss=0.0841]\n",
      "Epoch 32: 100%|██████| 1270/1270 [01:57<00:00, 10.79it/s, val_sc=0.994, val_mse=0.289, val_r2=0.742]\n",
      "Epoch 33: 100%|████████████████▉| 2999/3000 [10:44<00:00,  4.65it/s, LR=0.000026, train_loss=0.0821]\n",
      "Epoch 33: 100%|██████| 1270/1270 [01:57<00:00, 10.79it/s, val_sc=0.993, val_mse=0.289, val_r2=0.742]\n",
      "Epoch 34: 100%|████████████████▉| 2999/3000 [10:39<00:00,  4.69it/s, LR=0.000023, train_loss=0.0848]\n",
      "Epoch 34: 100%|██████| 1270/1270 [01:57<00:00, 10.83it/s, val_sc=0.993, val_mse=0.286, val_r2=0.744]\n",
      "Epoch 35: 100%|████████████████▉| 2999/3000 [10:38<00:00,  4.69it/s, LR=0.000021, train_loss=0.0847]\n",
      "Epoch 35: 100%|██████| 1270/1270 [01:57<00:00, 10.81it/s, val_sc=0.993, val_mse=0.286, val_r2=0.745]\n",
      "Epoch 36: 100%|████████████████▉| 2999/3000 [10:48<00:00,  4.62it/s, LR=0.000018, train_loss=0.0842]\n",
      "Epoch 36: 100%|██████| 1270/1270 [02:00<00:00, 10.50it/s, val_sc=0.993, val_mse=0.284, val_r2=0.745]\n",
      "Epoch 37: 100%|████████████████▉| 2999/3000 [10:54<00:00,  4.58it/s, LR=0.000016, train_loss=0.0833]\n",
      "Epoch 37: 100%|██████| 1270/1270 [01:57<00:00, 10.77it/s, val_sc=0.994, val_mse=0.284, val_r2=0.747]\n",
      "Epoch 38: 100%|████████████████▉| 2999/3000 [10:49<00:00,  4.62it/s, LR=0.000014, train_loss=0.0815]\n",
      "Epoch 38: 100%|██████| 1270/1270 [02:04<00:00, 10.18it/s, val_sc=0.993, val_mse=0.285, val_r2=0.747]\n",
      "Epoch 39: 100%|████████████████▉| 2999/3000 [10:51<00:00,  4.61it/s, LR=0.000012, train_loss=0.0837]\n",
      "Epoch 39: 100%|██████| 1270/1270 [01:59<00:00, 10.63it/s, val_sc=0.993, val_mse=0.284, val_r2=0.746]\n",
      "Epoch 40: 100%|████████████████▉| 2999/3000 [11:14<00:00,  4.45it/s, LR=0.000010, train_loss=0.0839]\n",
      "Epoch 40: 100%|██████| 1270/1270 [02:03<00:00, 10.32it/s, val_sc=0.993, val_mse=0.282, val_r2=0.748]\n",
      "Epoch 41: 100%|████████████████▉| 2999/3000 [10:49<00:00,  4.61it/s, LR=0.000008, train_loss=0.0837]\n",
      "Epoch 41: 100%|██████| 1270/1270 [02:00<00:00, 10.53it/s, val_sc=0.994, val_mse=0.282, val_r2=0.748]\n",
      "Epoch 42: 100%|████████████████▉| 2999/3000 [11:03<00:00,  4.52it/s, LR=0.000006, train_loss=0.0824]\n",
      "Epoch 42: 100%|██████| 1270/1270 [01:58<00:00, 10.75it/s, val_sc=0.994, val_mse=0.281, val_r2=0.749]\n",
      "Epoch 43: 100%|████████████████▉| 2999/3000 [10:49<00:00,  4.62it/s, LR=0.000005, train_loss=0.0806]\n",
      "Epoch 43: 100%|██████| 1270/1270 [01:58<00:00, 10.72it/s, val_sc=0.993, val_mse=0.281, val_r2=0.749]\n",
      "Epoch 44: 100%|████████████████▉| 2999/3000 [11:38<00:00,  4.30it/s, LR=0.000004, train_loss=0.0834]\n",
      "Epoch 44: 100%|███████| 1270/1270 [02:09<00:00,  9.84it/s, val_sc=0.993, val_mse=0.281, val_r2=0.75]\n",
      "Epoch 45: 100%|████████████████▉| 2999/3000 [10:58<00:00,  4.56it/s, LR=0.000003, train_loss=0.0834]\n",
      "Epoch 45: 100%|████████| 1270/1270 [01:57<00:00, 10.77it/s, val_sc=0.994, val_mse=0.28, val_r2=0.75]\n",
      "Epoch 46: 100%|█████████████████▉| 2999/3000 [10:51<00:00,  4.60it/s, LR=0.000002, train_loss=0.083]\n",
      "Epoch 46: 100%|████████| 1270/1270 [01:58<00:00, 10.72it/s, val_sc=0.994, val_mse=0.28, val_r2=0.75]\n",
      "Epoch 47: 100%|████████████████▉| 2999/3000 [10:52<00:00,  4.60it/s, LR=0.000001, train_loss=0.0822]\n",
      "Epoch 47: 100%|████████| 1270/1270 [01:58<00:00, 10.71it/s, val_sc=0.994, val_mse=0.28, val_r2=0.75]\n",
      "Epoch 48: 100%|████████████████▉| 2999/3000 [10:44<00:00,  4.66it/s, LR=0.000000, train_loss=0.0805]\n",
      "Epoch 48: 100%|████████| 1270/1270 [01:58<00:00, 10.71it/s, val_sc=0.994, val_mse=0.28, val_r2=0.75]\n",
      "Epoch 49: 100%|█████████████████▉| 2999/3000 [10:38<00:00,  4.69it/s, LR=0.000000, train_loss=0.083]\n",
      "Epoch 49: 100%|███████| 1270/1270 [01:57<00:00, 10.82it/s, val_sc=0.994, val_mse=0.28, val_r2=0.751]\n"
     ]
    }
   ],
   "source": [
    "best_score = -np.inf\n",
    "best_mse = np.inf\n",
    "\n",
    "\n",
    "for epoch in range(0, NUM_EPOCHS):\n",
    "    train_loss = train_fn(model, train_loader, optimizer, criterion)\n",
    "    val_score, val_mse, val_r2_full, val_r2_detailed = valid_fn(model, valid_loader)\n",
    "\n",
    "    train_mse.append(train_loss)\n",
    "    scores.append(val_score)\n",
    "    mses.append(val_mse)   \n",
    "    r2s.append(val_r2_full)   \n",
    "    r2s_detailed.append(val_r2_detailed)\n",
    "    \n",
    "    if val_r2_full > best_score:\n",
    "        best_score = val_r2_full\n",
    "        torch.save(model.state_dict(), \"best_score_model.pth\")\n",
    "\n",
    "    if val_mse < best_mse:\n",
    "        best_mse = val_mse\n",
    "        torch.save(model.state_dict(), \"best_mse_model.pth\")\n",
    "        \n",
    "    torch.save(model.state_dict(), \"last_model.pth\")\n",
    "\n",
    "    del train_loader\n",
    "    train_loader = reload_train_set(epoch)\n",
    "    \n",
    "    scheduler.step()"
   ]
  },
  {
   "cell_type": "code",
   "execution_count": 70,
   "metadata": {},
   "outputs": [],
   "source": [
    "history = pd.DataFrame({'train_loss': train_mse, 'mse': mses, 'r2': r2s})"
   ]
  },
  {
   "cell_type": "code",
   "execution_count": 71,
   "metadata": {},
   "outputs": [
    {
     "data": {
      "text/plain": [
       "<Axes: >"
      ]
     },
     "execution_count": 71,
     "metadata": {},
     "output_type": "execute_result"
    },
    {
     "data": {
      "image/png": "[encoded data removed]",
      "text/plain": [
       "<Figure size 640x480 with 1 Axes>"
      ]
     },
     "metadata": {},
     "output_type": "display_data"
    }
   ],
   "source": [
    "history.plot()"
   ]
  },
  {
   "cell_type": "code",
   "execution_count": 72,
   "metadata": {},
   "outputs": [],
   "source": [
    "#val_score, val_mse, val_r2_full = valid_fn(model, valid_loader)"
   ]
  },
  {
   "cell_type": "code",
   "execution_count": 73,
   "metadata": {},
   "outputs": [],
   "source": [
    "#torch.save(model.state_dict(), \"last_model.pth\")"
   ]
  },
  {
   "cell_type": "code",
   "execution_count": 74,
   "metadata": {},
   "outputs": [
    {
     "data": {
      "image/png": "[encoded data removed]",
      "text/plain": [
       "<Figure size 640x480 with 1 Axes>"
      ]
     },
     "metadata": {},
     "output_type": "display_data"
    },
    {
     "data": {
      "image/png": "[encoded data removed]",
      "text/plain": [
       "<Figure size 640x480 with 1 Axes>"
      ]
     },
     "metadata": {},
     "output_type": "display_data"
    },
    {
     "data": {
      "image/png": "[encoded data removed]",
      "text/plain": [
       "<Figure size 640x480 with 1 Axes>"
      ]
     },
     "metadata": {},
     "output_type": "display_data"
    },
    {
     "data": {
      "image/png": "[encoded data removed]",
      "text/plain": [
       "<Figure size 640x480 with 1 Axes>"
      ]
     },
     "metadata": {},
     "output_type": "display_data"
    },
    {
     "data": {
      "image/png": "[encoded data removed]",
      "text/plain": [
       "<Figure size 640x480 with 1 Axes>"
      ]
     },
     "metadata": {},
     "output_type": "display_data"
    },
    {
     "data": {
      "image/png": "[encoded data removed]",
      "text/plain": [
       "<Figure size 640x480 with 1 Axes>"
      ]
     },
     "metadata": {},
     "output_type": "display_data"
    },
    {
     "data": {
      "image/png": "[encoded data removed]",
      "text/plain": [
       "<Figure size 640x480 with 1 Axes>"
      ]
     },
     "metadata": {},
     "output_type": "display_data"
    }
   ],
   "source": [
    "for ids in [PTEND_T_IDX, PTEND_Q0001_IDX, PTEND_Q0002_IDX, PTEND_Q0003_IDX, PTEND_U_IDX, PTEND_V_IDX, list(range(360, 368))]:\n",
    "    pd.DataFrame(r2s_detailed).tail(5)[ids].T.plot()\n",
    "    plt.show()\n"
   ]
  },
  {
   "cell_type": "code",
   "execution_count": 75,
   "metadata": {},
   "outputs": [],
   "source": [
    "#torch.cuda.empty_cache()"
   ]
  },
  {
   "cell_type": "code",
   "execution_count": 76,
   "metadata": {},
   "outputs": [
    {
     "data": {
      "text/plain": [
       "'0.000100'"
      ]
     },
     "execution_count": 76,
     "metadata": {},
     "output_type": "execute_result"
    }
   ],
   "source": [
    "f'{scheduler.get_last_lr()[0]:.6f}'"
   ]
  },
  {
   "cell_type": "markdown",
   "metadata": {},
   "source": [
    "# Pred val set"
   ]
  },
  {
   "cell_type": "code",
   "execution_count": 77,
   "metadata": {},
   "outputs": [
    {
     "data": {
      "text/plain": [
       "<All keys matched successfully>"
      ]
     },
     "execution_count": 77,
     "metadata": {},
     "output_type": "execute_result"
    }
   ],
   "source": [
    "model = TfaLeapModel(**nn_config_tfa)\n",
    "model = model.to(DEVICE)\n",
    "model.load_state_dict(torch.load(\"best_score_model.pth\", map_location=DEVICE))"
   ]
  },
  {
   "cell_type": "code",
   "execution_count": 78,
   "metadata": {},
   "outputs": [],
   "source": [
    "def predict_valid(model: nn.Module, loader: DataLoader) -> float:\n",
    "    \"\"\"\n",
    "    Validate the deep learning model for 1 epoch.\n",
    "    \n",
    "    Parameters\n",
    "    ----------\n",
    "    model : torch.nn.Module\n",
    "        The PyTorch model to be validated.\n",
    "    loader : torch.utils.data.DataLoader\n",
    "        DataLoader for the validation data.\n",
    "\n",
    "    Returns\n",
    "    -------\n",
    "    float\n",
    "        The average R2 score over the validation epoch.\n",
    "    \"\"\"\n",
    "    \n",
    "    progress_bar = tqdm(enumerate(loader, start=1), total=len(loader), ncols=100)\n",
    "    #progress_bar.set_description(f'Epoch {epoch}')\n",
    "    model.eval()\n",
    "    val_score = 0\n",
    "    preds = []\n",
    "    \n",
    "    with torch.no_grad():\n",
    "        for step, batch in progress_bar:\n",
    "            x, y, l = batch\n",
    "            x, y = x.to(DEVICE), y.to(DEVICE)\n",
    "            \n",
    "            y_pred = model(x)\n",
    "            \n",
    "            y = y.cpu()\n",
    "            y = (y * Y_STD) + Y_MEAN\n",
    "            #y = (y * Y_STD)\n",
    "            y /= torch.tensor(SCALE_WEIGHTS)\n",
    "\n",
    "            \n",
    "            y_pred = y_pred.cpu()\n",
    "            #y_pred[:, Y_STD == 0] = Y_MEAN[:, Y_STD == 0]\n",
    "            #y_pred[:, Y_STD < (1.1 * ERR)] = Y_MEAN[Y_STD < (1.1 * ERR)]\n",
    "            \n",
    "            y_pred = (y_pred * Y_STD) + Y_MEAN\n",
    "            #y_pred = (y_pred * Y_STD) \n",
    "            y_pred /= torch.tensor(SCALE_WEIGHTS)\n",
    "\n",
    "            \n",
    "            val_score += r2_score(y_pred, y)\n",
    "            \n",
    "            progress_bar.set_postfix({\n",
    "                'valid_score': val_score / step,\n",
    "            })\n",
    "        \n",
    "            preds.append(y_pred.numpy())\n",
    "    return np.vstack(preds)"
   ]
  },
  {
   "cell_type": "code",
   "execution_count": 79,
   "metadata": {},
   "outputs": [
    {
     "name": "stderr",
     "output_type": "stream",
     "text": [
      "100%|████████████████████████████████████████| 1270/1270 [01:48<00:00, 11.73it/s, valid_score=0.994]\n"
     ]
    }
   ],
   "source": [
    "#y_valid = np.concatenate([((yb * Y_STD))/torch.tensor(SCALE_WEIGHTS) for _, yb in valid_loader])\n",
    "y_valid = np.concatenate([((yb * Y_STD) + Y_MEAN)/torch.tensor(SCALE_WEIGHTS) for _, yb, _ in valid_loader])\n",
    "#y_valid = np.concatenate([((yb * Y_STD) + Y_MEAN) for _, yb in valid_loader])\n",
    "#x_valid = np.concatenate([xb for xb, _ in valid_loader])\n",
    "p_valid = predict_valid(model, valid_loader)"
   ]
  },
  {
   "cell_type": "code",
   "execution_count": 80,
   "metadata": {},
   "outputs": [
    {
     "data": {
      "text/plain": [
       "0"
      ]
     },
     "execution_count": 80,
     "metadata": {},
     "output_type": "execute_result"
    }
   ],
   "source": [
    "(~np.isfinite(y_valid)).sum()"
   ]
  },
  {
   "cell_type": "code",
   "execution_count": 81,
   "metadata": {},
   "outputs": [],
   "source": [
    "#y_valid = np.concatenate([yb  for _, yb, _ in valid_loader])"
   ]
  },
  {
   "cell_type": "code",
   "execution_count": 82,
   "metadata": {},
   "outputs": [
    {
     "data": {
      "text/plain": [
       "[<matplotlib.lines.Line2D at 0x249e80c0d50>]"
      ]
     },
     "execution_count": 82,
     "metadata": {},
     "output_type": "execute_result"
    },
    {
     "data": {
      "image/png": "[encoded data removed]",
      "text/plain": [
       "<Figure size 640x480 with 1 Axes>"
      ]
     },
     "metadata": {},
     "output_type": "display_data"
    }
   ],
   "source": [
    "plt.plot(y_valid.max(0)[:368])"
   ]
  },
  {
   "cell_type": "code",
   "execution_count": 83,
   "metadata": {},
   "outputs": [
    {
     "data": {
      "text/plain": [
       "[<matplotlib.lines.Line2D at 0x249e812d790>]"
      ]
     },
     "execution_count": 83,
     "metadata": {},
     "output_type": "execute_result"
    },
    {
     "data": {
      "image/png": "[encoded data removed]",
      "text/plain": [
       "<Figure size 640x480 with 1 Axes>"
      ]
     },
     "metadata": {},
     "output_type": "display_data"
    }
   ],
   "source": [
    "plt.plot(np.quantile(y_valid, 0.9999, axis=0))"
   ]
  },
  {
   "cell_type": "code",
   "execution_count": 84,
   "metadata": {},
   "outputs": [
    {
     "data": {
      "text/plain": [
       "[<matplotlib.lines.Line2D at 0x2460f8e4ad0>]"
      ]
     },
     "execution_count": 84,
     "metadata": {},
     "output_type": "execute_result"
    },
    {
     "data": {
      "image/png": "[encoded data removed]",
      "text/plain": [
       "<Figure size 640x480 with 1 Axes>"
      ]
     },
     "metadata": {},
     "output_type": "display_data"
    }
   ],
   "source": [
    "plt.plot(p_valid.max(0)[:368])"
   ]
  },
  {
   "cell_type": "code",
   "execution_count": 85,
   "metadata": {},
   "outputs": [
    {
     "data": {
      "text/plain": [
       "array([ 3.48343132e-03,  5.70696387e-03,  8.43988208e-04,  1.49584511e-04,\n",
       "        1.79098249e-04,  2.36329586e-04,  2.68030270e-04,  2.17821769e-04,\n",
       "        1.51046513e-04,  1.20686294e-04,  9.50213416e-05,  7.51437920e-05,\n",
       "        5.67648018e-05,  3.85014099e-05,  2.67351459e-05,  2.35517749e-05,\n",
       "        1.12902136e-04,  1.82366948e-03,  4.59266607e-04,  5.71642847e-04,\n",
       "        9.28143626e-04,  1.11886878e-03,  8.76234609e-04,  9.34984422e-04,\n",
       "        9.84207024e-04,  1.15777809e-03,  9.44871636e-04,  8.70540200e-04,\n",
       "        1.13804948e-03,  1.28957169e-03,  1.31903182e-03,  1.33076751e-03,\n",
       "        1.34184055e-03,  1.23218194e-03,  1.21026655e-03,  1.19775344e-03,\n",
       "        1.07894419e-03,  9.62911882e-04,  9.44430851e-04,  1.02282867e-03,\n",
       "        9.81324788e-04,  1.09236963e-03,  9.39276738e-04,  1.03253363e-03,\n",
       "        8.12038316e-04,  8.09521509e-04,  8.90678802e-04,  9.69658841e-04,\n",
       "        9.14927345e-04,  8.07767910e-04,  8.35965411e-04,  9.80111890e-04,\n",
       "        1.01263866e-03,  1.05083711e-03,  1.10327909e-03,  1.08464140e-03,\n",
       "        9.90773159e-04,  7.17177491e-04,  5.88268830e-04,  7.02551560e-04,\n",
       "        2.71407845e-12,  2.77542007e-12,  4.51097035e-12,  9.39669433e-13,\n",
       "        0.00000000e+00,  0.00000000e+00,  0.00000000e+00,  0.00000000e+00,\n",
       "        0.00000000e+00,  0.00000000e+00,  0.00000000e+00,  0.00000000e+00,\n",
       "        4.90241776e-11,  3.05868587e-11,  7.05727594e-09,  1.51011501e-08,\n",
       "        4.31316098e-09,  5.70232879e-09,  5.33723374e-09,  6.36213464e-09,\n",
       "        1.13707267e-08,  2.09825831e-08,  3.44038217e-08,  6.79719280e-08,\n",
       "        1.02828495e-07,  1.21416951e-07,  1.80226679e-07,  1.88214863e-07,\n",
       "        2.04631796e-07,  2.24771777e-07,  1.97801944e-07,  2.34792517e-07,\n",
       "        5.01235736e-07,  5.76384772e-07,  3.45699395e-07,  4.86910889e-07,\n",
       "        4.33674731e-07,  4.74551207e-07,  6.50626120e-07,  5.87343479e-07,\n",
       "        9.50701387e-07,  8.27651229e-07,  9.87529760e-07,  6.73565865e-07,\n",
       "        7.48695114e-07,  9.58574777e-07,  7.47970606e-07,  6.56418187e-07,\n",
       "        6.49254497e-07,  6.53202878e-07,  6.80968381e-07,  5.80704366e-07,\n",
       "        5.33710230e-07,  5.49122909e-07,  4.64421338e-07,  4.19364475e-07,\n",
       "        4.95576774e-07,  3.03787892e-07,  3.90127457e-07,  5.13820397e-07,\n",
       "        0.00000000e+00,  0.00000000e+00,  0.00000000e+00,  0.00000000e+00,\n",
       "        0.00000000e+00,  0.00000000e+00,  0.00000000e+00,  0.00000000e+00,\n",
       "        0.00000000e+00,  0.00000000e+00,  0.00000000e+00,  0.00000000e+00,\n",
       "        3.16220037e-45, -0.00000000e+00, -0.00000000e+00,  0.00000000e+00,\n",
       "        0.00000000e+00, -0.00000000e+00,  0.00000000e+00,  0.00000000e+00,\n",
       "        0.00000000e+00, -1.38827437e-39,  5.91167997e-36,  4.41316586e-33,\n",
       "       -1.32136968e-30, -2.11273339e-25,  3.91632085e-20, -7.77137635e-19,\n",
       "        6.34924208e-09,  1.96458530e-08,  3.54255275e-08,  5.52460145e-08,\n",
       "        6.34288411e-08,  7.26626562e-08,  8.62050338e-08,  1.58174898e-07,\n",
       "        1.50429810e-07,  1.62594130e-07,  1.71757256e-07,  1.94131884e-07,\n",
       "        2.22667276e-07,  2.20457592e-07,  1.93891235e-07,  1.50432850e-07,\n",
       "        1.78941628e-07,  1.70430615e-07,  1.54817071e-07,  1.68866213e-07,\n",
       "        1.69859298e-07,  1.27588512e-07,  1.50986427e-07,  1.55206573e-07,\n",
       "        1.39667410e-07,  1.95748879e-07,  1.33316352e-07,  1.66040791e-07,\n",
       "        8.90375483e-08,  9.82971924e-08,  1.41426865e-07,  1.54043602e-07,\n",
       "        0.00000000e+00,  0.00000000e+00,  0.00000000e+00,  0.00000000e+00,\n",
       "        0.00000000e+00,  0.00000000e+00,  0.00000000e+00,  0.00000000e+00,\n",
       "        0.00000000e+00,  0.00000000e+00,  0.00000000e+00,  0.00000000e+00,\n",
       "        8.96342117e-11,  6.70158115e-11,  6.52655695e-10,  1.17321392e-08,\n",
       "        6.42635408e-08,  2.07811479e-07,  2.43086462e-07,  3.36199182e-07,\n",
       "        3.64592880e-07,  3.93086798e-07,  3.83153099e-07,  4.34680610e-07,\n",
       "        4.93342583e-07,  4.73300294e-07,  4.16073828e-07,  3.30787961e-07,\n",
       "        2.88298592e-07,  2.48883548e-07,  2.25401569e-07,  2.64182761e-07,\n",
       "        1.76137506e-07,  1.84803212e-07,  1.65461789e-07,  1.29407858e-07,\n",
       "        1.22048877e-07,  1.07433967e-07,  1.36624158e-07,  1.45883864e-07,\n",
       "        9.21874434e-08,  7.10242438e-08,  8.31593996e-08,  7.82730834e-08,\n",
       "        6.26454827e-08,  5.86639979e-08,  5.31319228e-08,  5.78318794e-08,\n",
       "        6.21555677e-08,  5.06882493e-08,  4.40612716e-08,  4.59851555e-08,\n",
       "        4.06390906e-08,  4.01269135e-08,  3.87795680e-08,  3.30792413e-08,\n",
       "        3.20783929e-08,  2.44856285e-08,  2.49525560e-08,  2.58081384e-08,\n",
       "        0.00000000e+00,  0.00000000e+00,  0.00000000e+00,  0.00000000e+00,\n",
       "        0.00000000e+00,  0.00000000e+00,  0.00000000e+00,  0.00000000e+00,\n",
       "        0.00000000e+00,  0.00000000e+00,  0.00000000e+00,  0.00000000e+00,\n",
       "        1.00006160e-05,  1.87382517e-05,  3.14678194e-05,  8.14833569e-05,\n",
       "        1.38146045e-04,  7.21464314e-04,  2.47560125e-03,  1.41184170e-03,\n",
       "        1.17443270e-03,  1.24664474e-03,  6.52812692e-04,  7.69301374e-04,\n",
       "        7.99727296e-04,  7.27847639e-04,  7.72098986e-04,  4.32047353e-04,\n",
       "        4.41385412e-04,  4.62801980e-04,  5.51387504e-04,  5.74441237e-04,\n",
       "        4.49487933e-04,  4.87568121e-04,  4.18542342e-04,  3.59777428e-04,\n",
       "        5.23853738e-04,  4.09683265e-04,  4.47244369e-04,  4.65044998e-04,\n",
       "        5.77379904e-04,  4.69732853e-04,  3.95808546e-04,  8.67433027e-04,\n",
       "        4.27108755e-04,  5.27868186e-04,  3.11305480e-04,  3.28414126e-04,\n",
       "        4.66188183e-04,  4.33891062e-04,  4.99707416e-04,  5.23435086e-04,\n",
       "        5.96640685e-04,  5.97308687e-04,  8.47003561e-04,  1.04764918e-03,\n",
       "        8.74961627e-04,  7.51613360e-04,  6.66267747e-04,  8.49504458e-04,\n",
       "        0.00000000e+00,  0.00000000e+00,  0.00000000e+00,  0.00000000e+00,\n",
       "        0.00000000e+00,  0.00000000e+00,  0.00000000e+00,  0.00000000e+00,\n",
       "        0.00000000e+00,  0.00000000e+00,  0.00000000e+00,  0.00000000e+00,\n",
       "        3.72739969e-06,  1.02652234e-05,  3.97525448e-05,  8.52557759e-05,\n",
       "        1.48455793e-04,  2.59495547e-04,  5.95446378e-04,  6.91734618e-04,\n",
       "        1.11513140e-03,  7.73153429e-04,  8.26834103e-04,  1.15406221e-03,\n",
       "        7.53924986e-04,  1.13971936e-03,  6.86360045e-04,  5.01392617e-04,\n",
       "        5.35201968e-04,  4.30277083e-04,  5.14292333e-04,  4.85047998e-04,\n",
       "        3.50924181e-04,  3.12730547e-04,  3.21776780e-04,  2.84171819e-04,\n",
       "        3.38141643e-04,  2.78787465e-04,  3.69227515e-04,  3.00003021e-04,\n",
       "        2.97296227e-04,  3.56044273e-04,  3.48514505e-04,  4.08282484e-04,\n",
       "        4.51410639e-04,  4.90108143e-04,  6.01314498e-04,  5.43231834e-04,\n",
       "        4.70363375e-04,  5.29736293e-04,  5.43877512e-04,  4.25289812e-04,\n",
       "        4.29359081e-04,  4.91759667e-04,  4.05091902e-04,  5.07908458e-04,\n",
       "        3.79806399e-04,  4.00456086e-04,  3.58586329e-04,  5.59920403e-04,\n",
       "        1.08764505e+03,  5.11949312e+02,  1.88476877e-07,  1.63090915e-06,\n",
       "        5.17430874e+02,  5.57389679e+02,  4.11997621e+02,  2.48987543e+02])"
      ]
     },
     "execution_count": 85,
     "metadata": {},
     "output_type": "execute_result"
    }
   ],
   "source": [
    "y_valid.max(0)"
   ]
  },
  {
   "cell_type": "code",
   "execution_count": 86,
   "metadata": {},
   "outputs": [
    {
     "data": {
      "text/plain": [
       "array([ 1.26210439e-03,  1.14541655e-03,  7.81666746e-04,  2.80876087e-04,\n",
       "        1.75719239e-04,  2.31433176e-04,  2.66218409e-04,  2.13114957e-04,\n",
       "        1.50414958e-04,  1.21061753e-04,  9.31730510e-05,  7.33280354e-05,\n",
       "        5.57072796e-05,  3.70890183e-05,  3.10445327e-05,  6.51765157e-05,\n",
       "        1.29144738e-04,  2.36115469e-04,  3.43449630e-04,  3.62607858e-04,\n",
       "        4.94996010e-04,  5.21252038e-04,  5.64302863e-04,  7.32288967e-04,\n",
       "        7.27657960e-04,  6.56214215e-04,  7.58316063e-04,  6.97990645e-04,\n",
       "        7.22508094e-04,  9.97991209e-04,  1.16812401e-03,  1.16387583e-03,\n",
       "        1.06186091e-03,  1.18462831e-03,  1.25645214e-03,  9.47250932e-04,\n",
       "        9.29936085e-04,  9.61875722e-04,  8.29802971e-04,  6.64135664e-04,\n",
       "        6.66085688e-04,  6.60087397e-04,  5.91939225e-04,  6.33775002e-04,\n",
       "        5.54357102e-04,  4.34947536e-04,  4.29633708e-04,  3.83826356e-04,\n",
       "        3.86104346e-04,  3.58912798e-04,  3.54453859e-04,  3.26952110e-04,\n",
       "        3.20342445e-04,  4.11257120e-04,  5.96066676e-04,  4.87140336e-04,\n",
       "        4.18412732e-04,  2.98500377e-04,  1.91865831e-04,  1.49192400e-04,\n",
       "        5.02561967e-14,  8.37308592e-14,  3.87427023e-14,  1.60404889e-14,\n",
       "        2.16678095e-16,  2.20908284e-16,  1.77885151e-16,  1.91926360e-16,\n",
       "        2.49790573e-16,  2.80008507e-16,  2.70287347e-16,  1.45821095e-15,\n",
       "        4.51451398e-11,  3.11560336e-11,  3.38845757e-10,  1.64693601e-09,\n",
       "        1.39439301e-09,  1.00582453e-09,  1.68397456e-09,  3.48593977e-09,\n",
       "        7.38217653e-09,  1.52994938e-08,  2.98976366e-08,  3.86891990e-08,\n",
       "        8.02051907e-08,  9.62810835e-08,  1.25133772e-07,  1.34058530e-07,\n",
       "        1.34517317e-07,  1.49938635e-07,  1.93348465e-07,  2.30045876e-07,\n",
       "        2.53690542e-07,  2.51205245e-07,  2.48850495e-07,  3.31734510e-07,\n",
       "        2.65831469e-07,  3.33367410e-07,  4.13893360e-07,  4.26627735e-07,\n",
       "        5.30764272e-07,  5.96529837e-07,  4.38135483e-07,  4.23673519e-07,\n",
       "        4.76847009e-07,  4.47248530e-07,  5.04035914e-07,  4.97812155e-07,\n",
       "        3.70056967e-07,  4.36852221e-07,  3.64920060e-07,  3.95996531e-07,\n",
       "        3.19021279e-07,  2.97649686e-07,  2.30904202e-07,  2.04042670e-07,\n",
       "        1.35407585e-07,  1.34837358e-07,  1.42340453e-07,  1.80096637e-07,\n",
       "        1.13500786e-15,  2.14808106e-16,  1.21694076e-16,  1.23287427e-16,\n",
       "        1.07490408e-16,  1.18252552e-16,  1.17957139e-16,  1.30390882e-16,\n",
       "        1.26118612e-16,  1.38355958e-16,  1.11533892e-16,  3.71622324e-16,\n",
       "        8.91593035e-40, -0.00000000e+00, -0.00000000e+00,  0.00000000e+00,\n",
       "        0.00000000e+00,  0.00000000e+00, -0.00000000e+00,  0.00000000e+00,\n",
       "        0.00000000e+00,  3.49564995e-31,  1.63209282e-28,  1.04862927e-25,\n",
       "        1.66994337e-22,  5.40195641e-18,  4.53361749e-13,  1.45128154e-12,\n",
       "        3.31780646e-11,  5.15506955e-09,  1.28420185e-08,  1.87495256e-08,\n",
       "        2.88199850e-08,  3.91305964e-08,  4.11960046e-08,  6.15708065e-08,\n",
       "        6.42815187e-08,  7.85321059e-08,  8.16353689e-08,  9.90863703e-08,\n",
       "        1.01247954e-07,  1.23840095e-07,  9.83730567e-08,  1.26187791e-07,\n",
       "        1.20828093e-07,  1.14152115e-07,  1.17565467e-07,  1.12960050e-07,\n",
       "        1.07745037e-07,  1.16374331e-07,  1.46468509e-07,  1.39435182e-07,\n",
       "        1.22964285e-07,  1.21837918e-07,  1.21458676e-07,  1.18130010e-07,\n",
       "        7.17543030e-08,  8.69132938e-08,  1.02551564e-07,  9.06325539e-08,\n",
       "        1.66571941e-15,  1.02268772e-15,  5.00037050e-16,  1.43965828e-16,\n",
       "        1.86622477e-16,  1.88240540e-16,  1.28174293e-16,  4.89602029e-17,\n",
       "        4.34130907e-16,  1.35915947e-15,  3.00235043e-15,  4.49262810e-15,\n",
       "        8.75720308e-11,  6.86017188e-11,  5.55561273e-11,  2.22962902e-09,\n",
       "        2.94448921e-08,  7.46627926e-08,  1.27339346e-07,  2.74028142e-07,\n",
       "        3.00160173e-07,  2.81801220e-07,  2.82300672e-07,  3.00196001e-07,\n",
       "        3.12487903e-07,  2.89214399e-07,  2.68804862e-07,  1.94780011e-07,\n",
       "        2.02530544e-07,  1.89957697e-07,  1.95143811e-07,  1.24972792e-07,\n",
       "        1.00915649e-07,  1.04092905e-07,  1.21724027e-07,  9.02174413e-08,\n",
       "        7.30798803e-08,  6.45710819e-08,  5.99181199e-08,  6.53017213e-08,\n",
       "        6.03131875e-08,  3.84612806e-08,  3.71233759e-08,  4.87117855e-08,\n",
       "        5.72899421e-08,  5.67141721e-08,  4.91829184e-08,  4.81612001e-08,\n",
       "        4.68301828e-08,  3.93546500e-08,  4.04020472e-08,  3.45676910e-08,\n",
       "        3.55078114e-08,  3.55387823e-08,  3.02054477e-08,  2.77768147e-08,\n",
       "        2.49701035e-08,  2.50347622e-08,  2.56022268e-08,  2.16288453e-08,\n",
       "        8.55681038e-16,  4.94268179e-16,  8.38167000e-16,  2.82043362e-16,\n",
       "        1.74628162e-16,  1.02744651e-16,  1.26817596e-16,  1.29934824e-16,\n",
       "        3.04276466e-16,  2.07626438e-16,  5.24688911e-16,  1.80922108e-15,\n",
       "        6.21221279e-06,  1.09096873e-05,  1.99239457e-05,  4.55467529e-05,\n",
       "        9.94996231e-05,  3.00710312e-04,  5.46307124e-04,  9.55835380e-04,\n",
       "        7.59264070e-04,  7.65990675e-04,  6.09268025e-04,  5.45436889e-04,\n",
       "        5.00335212e-04,  5.00845965e-04,  5.07493713e-04,  3.67926412e-04,\n",
       "        3.29942691e-04,  3.63105175e-04,  3.63375562e-04,  3.90930622e-04,\n",
       "        3.29001216e-04,  2.36031850e-04,  2.29311130e-04,  2.69210667e-04,\n",
       "        2.63796281e-04,  2.75568694e-04,  3.59999645e-04,  3.14893844e-04,\n",
       "        2.60383174e-04,  2.77473908e-04,  2.59040632e-04,  4.46985600e-04,\n",
       "        2.93746810e-04,  3.40635452e-04,  3.22678482e-04,  3.41728083e-04,\n",
       "        3.68366308e-04,  4.00397175e-04,  3.18402017e-04,  3.75740085e-04,\n",
       "        4.83766313e-04,  5.02265313e-04,  6.88951388e-04,  8.03663698e-04,\n",
       "        7.51687613e-04,  5.56946931e-04,  3.76930440e-04,  6.73110915e-04,\n",
       "        1.48027897e-15,  1.96280060e-15,  9.28890514e-16,  4.89688301e-16,\n",
       "        3.33496594e-16,  4.31306362e-16,  6.61432171e-16,  1.84623098e-16,\n",
       "        3.35452414e-16,  2.65530396e-16,  1.21381521e-15,  1.30345764e-15,\n",
       "        3.02353518e-06,  9.11317518e-06,  1.80014355e-05,  5.13084453e-05,\n",
       "        1.30684188e-04,  2.01228663e-04,  4.08200705e-04,  5.53872904e-04,\n",
       "        5.53512192e-04,  6.28847795e-04,  7.03734418e-04,  5.36374425e-04,\n",
       "        6.87634236e-04,  3.99158983e-04,  3.48455486e-04,  2.79998814e-04,\n",
       "        3.41645211e-04,  2.51640604e-04,  2.46508130e-04,  2.05715183e-04,\n",
       "        1.97909572e-04,  2.39838929e-04,  2.33962441e-04,  2.15090988e-04,\n",
       "        2.56263822e-04,  2.69348898e-04,  2.52230423e-04,  1.86708304e-04,\n",
       "        2.19519752e-04,  2.58744178e-04,  2.53521265e-04,  2.24729475e-04,\n",
       "        2.50779186e-04,  3.38118402e-04,  3.58194705e-04,  4.23328731e-04,\n",
       "        4.45565130e-04,  4.78464941e-04,  4.76108535e-04,  3.70473104e-04,\n",
       "        3.30786073e-04,  3.66791687e-04,  3.36950036e-04,  4.25422252e-04,\n",
       "        3.83897931e-04,  3.42169493e-04,  3.10870914e-04,  4.61387515e-04,\n",
       "        1.03370009e+03,  4.73658985e+02,  1.57700252e-07,  1.38802050e-06,\n",
       "        5.04586013e+02,  5.36216859e+02,  3.15976516e+02,  2.20239232e+02])"
      ]
     },
     "execution_count": 86,
     "metadata": {},
     "output_type": "execute_result"
    }
   ],
   "source": [
    "p_valid.max(0)"
   ]
  },
  {
   "cell_type": "code",
   "execution_count": 87,
   "metadata": {},
   "outputs": [
    {
     "data": {
      "text/plain": [
       "array([0.00659128, 0.        , 0.        , 0.        , 0.        ,\n",
       "       0.        , 0.        , 0.        , 0.        ])"
      ]
     },
     "execution_count": 87,
     "metadata": {},
     "output_type": "execute_result"
    }
   ],
   "source": [
    "Y_MEAN[359:]"
   ]
  },
  {
   "cell_type": "code",
   "execution_count": 88,
   "metadata": {},
   "outputs": [
    {
     "data": {
      "text/plain": [
       "tensor(1628.9447, dtype=torch.float64)"
      ]
     },
     "execution_count": 88,
     "metadata": {},
     "output_type": "execute_result"
    }
   ],
   "source": [
    "(nn.MSELoss(reduction='none')(torch.tensor(p_valid), torch.tensor(y_valid)) * torch.tensor(TARGET_WEIGHTS)).sum(1).mean()"
   ]
  },
  {
   "cell_type": "code",
   "execution_count": 89,
   "metadata": {},
   "outputs": [
    {
     "data": {
      "text/plain": [
       "0.7506414469200543"
      ]
     },
     "execution_count": 89,
     "metadata": {},
     "output_type": "execute_result"
    }
   ],
   "source": [
    "r2_score_clipped(torch.tensor(p_valid), torch.tensor(y_valid))"
   ]
  },
  {
   "cell_type": "code",
   "execution_count": 90,
   "metadata": {},
   "outputs": [
    {
     "data": {
      "text/plain": [
       "array([1.74363938e+00, 1.49145771e+00, 1.48804207e+00, ...,\n",
       "       1.40388102e-06, 1.01368584e-06, 5.19920658e-07])"
      ]
     },
     "execution_count": 90,
     "metadata": {},
     "output_type": "execute_result"
    }
   ],
   "source": [
    "errors = (((p_valid - y_valid)**2)**0.5/368).sum(1)\n",
    "top_mistakes = (-errors).argsort()\n",
    "\n",
    "errors[top_mistakes]"
   ]
  },
  {
   "cell_type": "code",
   "execution_count": 91,
   "metadata": {},
   "outputs": [
    {
     "data": {
      "text/plain": [
       "324"
      ]
     },
     "execution_count": 91,
     "metadata": {},
     "output_type": "execute_result"
    }
   ],
   "source": [
    "mask_errors = errors[top_mistakes] > 1.0\n",
    "mask_errors.sum()"
   ]
  },
  {
   "cell_type": "code",
   "execution_count": 92,
   "metadata": {},
   "outputs": [
    {
     "data": {
      "text/plain": [
       "[<matplotlib.lines.Line2D at 0x2460f86f310>]"
      ]
     },
     "execution_count": 92,
     "metadata": {},
     "output_type": "execute_result"
    },
    {
     "data": {
      "image/png": "[encoded data removed]",
      "text/plain": [
       "<Figure size 640x480 with 1 Axes>"
      ]
     },
     "metadata": {},
     "output_type": "display_data"
    }
   ],
   "source": [
    "plt.plot(errors[top_mistakes][mask_errors])"
   ]
  },
  {
   "cell_type": "code",
   "execution_count": 93,
   "metadata": {},
   "outputs": [
    {
     "data": {
      "text/plain": [
       "0.6868124657562455"
      ]
     },
     "execution_count": 93,
     "metadata": {},
     "output_type": "execute_result"
    },
    {
     "data": {
      "image/png": "[encoded data removed]",
      "text/plain": [
       "<Figure size 640x480 with 1 Axes>"
      ]
     },
     "metadata": {},
     "output_type": "display_data"
    }
   ],
   "source": [
    "\n",
    "\n",
    "scores_valid = np.array([metrics.r2_score(y_valid[:, i], p_valid[:, i]) for i in range(368)]) \n",
    "plt.plot(scores_valid.clip(-1, 1))\n",
    "plt.plot(TARGET_WEIGHTS, alpha = 0.5)\n",
    "(scores_valid.clip(-1, 1) * np.array(TARGET_WEIGHTS)).sum() / np.array(TARGET_WEIGHTS).sum()"
   ]
  },
  {
   "cell_type": "code",
   "execution_count": 94,
   "metadata": {},
   "outputs": [
    {
     "data": {
      "text/plain": [
       "array([ 9.40455793e-01,  9.30627128e-01,  9.93275955e-01,  9.96269033e-01,\n",
       "        9.99099437e-01,  9.99104402e-01,  9.98895785e-01,  9.98885484e-01,\n",
       "        9.98621651e-01,  9.98249838e-01,  9.98007584e-01,  9.97509912e-01,\n",
       "        9.96743354e-01,  9.96097618e-01,  9.95177408e-01,  9.88671529e-01,\n",
       "        9.37124251e-01,  6.34726658e-01,  5.23874118e-01,  4.77967090e-01,\n",
       "        5.39821840e-01,  5.61003000e-01,  6.25870857e-01,  6.86681212e-01,\n",
       "        7.39127388e-01,  7.82226012e-01,  8.19263328e-01,  8.55406304e-01,\n",
       "        8.76960444e-01,  8.93197859e-01,  9.01241083e-01,  8.99644337e-01,\n",
       "        8.95232198e-01,  8.86596302e-01,  8.74760263e-01,  8.55878251e-01,\n",
       "        8.30521798e-01,  8.02554257e-01,  7.67225987e-01,  7.34286859e-01,\n",
       "        6.99703412e-01,  6.68620869e-01,  6.35700282e-01,  6.08146812e-01,\n",
       "        5.85481111e-01,  5.65103179e-01,  5.39703046e-01,  5.20140644e-01,\n",
       "        4.98659939e-01,  4.82483327e-01,  4.74882469e-01,  4.71829942e-01,\n",
       "        4.75174963e-01,  4.84747590e-01,  4.97414807e-01,  5.10563308e-01,\n",
       "        5.28845978e-01,  5.41882110e-01,  5.91188770e-01,  7.69955432e-01,\n",
       "        2.26798083e-02, -6.62001127e-02, -5.83948055e-02, -1.91322577e-02,\n",
       "        0.00000000e+00,  0.00000000e+00,  0.00000000e+00,  0.00000000e+00,\n",
       "        0.00000000e+00,  0.00000000e+00,  0.00000000e+00,  0.00000000e+00,\n",
       "        9.64892284e-01,  9.13975081e-01,  9.83459653e-02,  2.81472701e-01,\n",
       "        6.33224923e-01,  4.76434719e-01,  5.67018784e-01,  6.25010033e-01,\n",
       "        6.27418079e-01,  7.06521443e-01,  7.68615460e-01,  8.07051668e-01,\n",
       "        8.32287388e-01,  8.56212600e-01,  8.69219336e-01,  8.73034657e-01,\n",
       "        8.68176478e-01,  8.63806801e-01,  8.52829205e-01,  8.29670433e-01,\n",
       "        7.90676606e-01,  7.41393564e-01,  6.84478188e-01,  6.26693305e-01,\n",
       "        5.68973114e-01,  5.26514150e-01,  4.79883566e-01,  4.41980694e-01,\n",
       "        4.24943131e-01,  4.10674161e-01,  3.95455774e-01,  3.89956129e-01,\n",
       "        3.87638835e-01,  3.92760340e-01,  3.74809460e-01,  3.68483451e-01,\n",
       "        3.61173959e-01,  3.51936186e-01,  3.52080581e-01,  3.57756955e-01,\n",
       "        3.73188702e-01,  3.97447692e-01,  4.27990616e-01,  4.55046841e-01,\n",
       "        5.02561175e-01,  5.31670721e-01,  5.92140555e-01,  6.05450833e-01,\n",
       "        0.00000000e+00,  0.00000000e+00,  0.00000000e+00,  0.00000000e+00,\n",
       "        0.00000000e+00,  0.00000000e+00,  0.00000000e+00,  0.00000000e+00,\n",
       "        0.00000000e+00,  0.00000000e+00,  0.00000000e+00,  0.00000000e+00,\n",
       "        1.77520840e-01,  1.00000000e+00,  1.00000000e+00,  1.00000000e+00,\n",
       "        1.00000000e+00,  1.00000000e+00,  1.00000000e+00,  1.00000000e+00,\n",
       "        1.00000000e+00, -1.11619575e+00, -5.40306344e-01,  2.50824195e-01,\n",
       "       -1.30977849e-01, -3.17758052e+01, -8.35086159e+01,  9.37205040e-01,\n",
       "        9.18488591e-01,  7.86698189e-01,  6.48929222e-01,  4.55062815e-01,\n",
       "        4.21245758e-01,  4.54256107e-01,  4.55838449e-01,  4.44093988e-01,\n",
       "        4.42652834e-01,  4.21378569e-01,  4.26290814e-01,  4.18222044e-01,\n",
       "        4.18015465e-01,  4.19113150e-01,  4.03899122e-01,  3.99757121e-01,\n",
       "        3.92518262e-01,  3.91205873e-01,  3.83307659e-01,  3.91644260e-01,\n",
       "        3.91482159e-01,  3.84631022e-01,  3.86646587e-01,  3.80189493e-01,\n",
       "        3.81472614e-01,  4.01739787e-01,  4.47151310e-01,  5.41678922e-01,\n",
       "        6.48378558e-01,  7.71396713e-01,  8.54282044e-01,  8.82283140e-01,\n",
       "        0.00000000e+00,  0.00000000e+00,  0.00000000e+00,  0.00000000e+00,\n",
       "        0.00000000e+00,  0.00000000e+00,  0.00000000e+00,  0.00000000e+00,\n",
       "        0.00000000e+00,  0.00000000e+00,  0.00000000e+00,  0.00000000e+00,\n",
       "        9.71951284e-01,  9.56699870e-01,  2.84533960e-01,  4.56317202e-01,\n",
       "        7.27369506e-01,  5.64575016e-01,  6.23535448e-01,  6.98015977e-01,\n",
       "        7.25728981e-01,  6.46378992e-01,  6.13827091e-01,  5.83599528e-01,\n",
       "        5.79261501e-01,  5.54541215e-01,  5.21733651e-01,  5.19296252e-01,\n",
       "        5.27074326e-01,  5.45861016e-01,  5.82443094e-01,  5.92064346e-01,\n",
       "        5.92281752e-01,  5.90696640e-01,  5.93793935e-01,  5.99927679e-01,\n",
       "        6.12665969e-01,  6.12542822e-01,  6.04571897e-01,  5.84884937e-01,\n",
       "        5.53789007e-01,  5.27970383e-01,  5.12153322e-01,  4.98374527e-01,\n",
       "        4.88864198e-01,  4.85945489e-01,  4.83458830e-01,  5.15353502e-01,\n",
       "        5.50177460e-01,  5.90444160e-01,  6.30890465e-01,  6.79663249e-01,\n",
       "        7.25766267e-01,  7.67598196e-01,  8.01179230e-01,  8.30985620e-01,\n",
       "        8.58654893e-01,  8.83648327e-01,  8.98723157e-01,  9.13383003e-01,\n",
       "        0.00000000e+00,  0.00000000e+00,  0.00000000e+00,  0.00000000e+00,\n",
       "        0.00000000e+00,  0.00000000e+00,  0.00000000e+00,  0.00000000e+00,\n",
       "        0.00000000e+00,  0.00000000e+00,  0.00000000e+00,  0.00000000e+00,\n",
       "        9.11915895e-01,  9.20394315e-01,  9.17025565e-01,  9.32172565e-01,\n",
       "        9.35558711e-01,  9.14219475e-01,  7.15932183e-01,  8.67515278e-01,\n",
       "        8.75510364e-01,  8.46737209e-01,  8.16573383e-01,  7.83594116e-01,\n",
       "        7.38077240e-01,  7.07392905e-01,  6.84513443e-01,  6.68661306e-01,\n",
       "        6.40791571e-01,  6.23878351e-01,  6.07556424e-01,  5.84572610e-01,\n",
       "        5.56781304e-01,  5.31985765e-01,  5.17469841e-01,  5.16246522e-01,\n",
       "        5.30380840e-01,  5.50740548e-01,  5.47938231e-01,  5.40679709e-01,\n",
       "        5.42036255e-01,  5.43711240e-01,  5.34522036e-01,  5.35240184e-01,\n",
       "        5.53361146e-01,  5.91701488e-01,  6.37451133e-01,  6.81273742e-01,\n",
       "        7.26853185e-01,  7.69815639e-01,  8.17070378e-01,  8.54420969e-01,\n",
       "        8.72976867e-01,  8.70199178e-01,  8.71190771e-01,  8.77909893e-01,\n",
       "        8.97992377e-01,  8.91500307e-01,  8.65455498e-01,  9.51731114e-01,\n",
       "        0.00000000e+00,  0.00000000e+00,  0.00000000e+00,  0.00000000e+00,\n",
       "        0.00000000e+00,  0.00000000e+00,  0.00000000e+00,  0.00000000e+00,\n",
       "        0.00000000e+00,  0.00000000e+00,  0.00000000e+00,  0.00000000e+00,\n",
       "        9.07771692e-01,  9.25404217e-01,  9.25415472e-01,  9.29334466e-01,\n",
       "        9.34425712e-01,  9.31266907e-01,  9.27159084e-01,  9.00853718e-01,\n",
       "        8.65386370e-01,  8.44696103e-01,  8.23214352e-01,  7.99514389e-01,\n",
       "        7.88990680e-01,  7.50598327e-01,  7.32343944e-01,  7.33844931e-01,\n",
       "        7.42134557e-01,  7.49068215e-01,  7.55456361e-01,  7.54019960e-01,\n",
       "        7.37948971e-01,  7.18147517e-01,  7.06736137e-01,  7.13919962e-01,\n",
       "        7.18951497e-01,  7.23838470e-01,  7.40307268e-01,  7.38855932e-01,\n",
       "        7.34259758e-01,  7.22771745e-01,  7.01568098e-01,  6.88910584e-01,\n",
       "        6.91153866e-01,  7.00282560e-01,  7.09611354e-01,  7.26284519e-01,\n",
       "        7.48435621e-01,  7.69244185e-01,  7.94958888e-01,  8.28181581e-01,\n",
       "        8.62096994e-01,  8.89455403e-01,  9.04060591e-01,  9.08731405e-01,\n",
       "        9.08890790e-01,  9.06902461e-01,  8.96138788e-01,  9.53239143e-01,\n",
       "        9.88766084e-01,  9.60774022e-01,  9.37309878e-01,  9.03200309e-01,\n",
       "        9.81864675e-01,  9.71661273e-01,  9.72572236e-01,  9.13449607e-01])"
      ]
     },
     "execution_count": 94,
     "metadata": {},
     "output_type": "execute_result"
    }
   ],
   "source": [
    "scores_valid"
   ]
  },
  {
   "cell_type": "code",
   "execution_count": null,
   "metadata": {},
   "outputs": [],
   "source": [
    "scores_valid = np.array([metrics.mean_absolute_percentage_error(y_valid[:, i], p_valid[:, i]) for i in range(368)]) \n",
    "plt.plot(scores_valid.clip(0, 300))\n",
    "plt.plot(np.array(TARGET_WEIGHTS)*100, alpha = 0.5)\n",
    "(scores_valid.clip(-1, 1) * np.array(TARGET_WEIGHTS)).sum() / np.array(TARGET_WEIGHTS).sum()"
   ]
  },
  {
   "cell_type": "code",
   "execution_count": null,
   "metadata": {},
   "outputs": [],
   "source": [
    "y_valid_scale = (y_valid - Y_MEAN) / Y_STD\n",
    "p_valid_scale = (p_valid - Y_MEAN) / Y_STD"
   ]
  },
  {
   "cell_type": "code",
   "execution_count": null,
   "metadata": {},
   "outputs": [],
   "source": [
    "y_valid_scale.min(0)"
   ]
  },
  {
   "cell_type": "code",
   "execution_count": null,
   "metadata": {},
   "outputs": [],
   "source": [
    "y_valid_scale[:,-8:].min(0)"
   ]
  },
  {
   "cell_type": "code",
   "execution_count": null,
   "metadata": {},
   "outputs": [],
   "source": [
    "(y_valid_scale[:,-1:] < -0.4992).sum()"
   ]
  },
  {
   "cell_type": "code",
   "execution_count": null,
   "metadata": {},
   "outputs": [],
   "source": [
    "y_valid_scale.shape"
   ]
  },
  {
   "cell_type": "code",
   "execution_count": null,
   "metadata": {},
   "outputs": [],
   "source": [
    "mse_valid = nn.MSELoss(reduction='none')(torch.tensor(y_valid_scale), torch.tensor(p_valid_scale)).mean(0).numpy()\n",
    "\n",
    "plt.plot(mse_valid.clip(0, 3))\n",
    "plt.plot(TARGET_WEIGHTS, alpha = 0.5)\n",
    "(scores_valid.clip(0, 3) * np.array(TARGET_WEIGHTS)).sum() / np.array(TARGET_WEIGHTS).sum()"
   ]
  },
  {
   "cell_type": "code",
   "execution_count": null,
   "metadata": {},
   "outputs": [],
   "source": [
    "mse_valid"
   ]
  },
  {
   "cell_type": "code",
   "execution_count": null,
   "metadata": {},
   "outputs": [],
   "source": [
    "y_valid"
   ]
  },
  {
   "cell_type": "code",
   "execution_count": null,
   "metadata": {},
   "outputs": [],
   "source": [
    "plt.plot(scores_valid.clip(-1, 1)[80:110])"
   ]
  },
  {
   "cell_type": "code",
   "execution_count": null,
   "metadata": {},
   "outputs": [],
   "source": [
    "Y_STD[70:110]"
   ]
  },
  {
   "cell_type": "code",
   "execution_count": null,
   "metadata": {},
   "outputs": [],
   "source": [
    "Y_MEAN[np.array(TARGET_WEIGHTS)>0][Y_STD[np.array(TARGET_WEIGHTS)>0] == 0]"
   ]
  },
  {
   "cell_type": "code",
   "execution_count": null,
   "metadata": {},
   "outputs": [],
   "source": [
    "scores_valid[Y_MEAN==0]"
   ]
  },
  {
   "cell_type": "code",
   "execution_count": null,
   "metadata": {},
   "outputs": [],
   "source": [
    "Y_STD[np.array(TARGET_WEIGHTS)>0]"
   ]
  },
  {
   "cell_type": "code",
   "execution_count": null,
   "metadata": {},
   "outputs": [],
   "source": [
    "Y_MEAN[np.array(TARGET_WEIGHTS)>0]"
   ]
  },
  {
   "cell_type": "code",
   "execution_count": null,
   "metadata": {
    "scrolled": true
   },
   "outputs": [],
   "source": [
    "Y_MEAN"
   ]
  },
  {
   "cell_type": "code",
   "execution_count": null,
   "metadata": {},
   "outputs": [],
   "source": [
    "import math\n",
    "\n",
    "S_WEIGHTS = []\n",
    "\n",
    "for val in Y_MEAN:\n",
    "    if val != 0:\n",
    "        logval = math.log10(abs(val))\n",
    "        S_WEIGHTS.append(-round(logval - (0.5 if logval<0 else 0)))\n",
    "    else:\n",
    "        S_WEIGHTS.append(0)\n",
    "\n",
    "\n",
    "S_WEIGHTS = [float(f'1e{f}') for f in S_WEIGHTS]"
   ]
  },
  {
   "cell_type": "code",
   "execution_count": null,
   "metadata": {},
   "outputs": [],
   "source": [
    "print(S_WEIGHTS)"
   ]
  },
  {
   "cell_type": "code",
   "execution_count": null,
   "metadata": {},
   "outputs": [],
   "source": [
    "round(logval - (0.5 if logval<0 else 0))"
   ]
  },
  {
   "cell_type": "code",
   "execution_count": null,
   "metadata": {
    "scrolled": true
   },
   "outputs": [],
   "source": [
    "S_WEIGHTS = []\n",
    "\n",
    "for yy in Y_MEAN:\n",
    "    T = 1\n",
    "    if abs(yy) > 1:\n",
    "        T = 1   \n",
    "    elif abs(yy) > 1e-6:\n",
    "        T = 1e6\n",
    "    elif abs(yy) > 1e-10:\n",
    "        T = 1e10    \n",
    "    elif abs(yy) > 1e-16:\n",
    "        T = 1e16            \n",
    "    elif abs(yy) > 1e-20:\n",
    "        T = 1e20        \n",
    "    elif abs(yy) > 1e-24:\n",
    "        T = 1e24        \n",
    "    elif abs(yy) > 1e-30:\n",
    "        T = 1e30\n",
    "    elif abs(yy) > 1e-36:\n",
    "        T = 1e36\n",
    "    elif abs(yy) <= 1e-36:\n",
    "        T = 1e36\n",
    "    S_WEIGHTS.append(T)\n",
    "                    "
   ]
  },
  {
   "cell_type": "code",
   "execution_count": null,
   "metadata": {},
   "outputs": [],
   "source": [
    "print(S_WEIGHTS)"
   ]
  },
  {
   "cell_type": "code",
   "execution_count": null,
   "metadata": {},
   "outputs": [],
   "source": [
    "Y_MEAN[np.array(TARGET_WEIGHTS)>0][Y_STD[np.array(TARGET_WEIGHTS)>0] == ERR]"
   ]
  },
  {
   "cell_type": "code",
   "execution_count": null,
   "metadata": {},
   "outputs": [],
   "source": [
    "Y_STD[np.array(TARGET_WEIGHTS)>0]"
   ]
  },
  {
   "cell_type": "code",
   "execution_count": null,
   "metadata": {},
   "outputs": [],
   "source": [
    "Y_MEAN[np.array(TARGET_WEIGHTS)>0]"
   ]
  },
  {
   "cell_type": "code",
   "execution_count": null,
   "metadata": {},
   "outputs": [],
   "source": [
    "[Y_STD[np.array(TARGET_WEIGHTS)>0] == ERR]"
   ]
  },
  {
   "cell_type": "code",
   "execution_count": null,
   "metadata": {},
   "outputs": [],
   "source": [
    "np.log(6.8322e-37)"
   ]
  },
  {
   "cell_type": "code",
   "execution_count": null,
   "metadata": {},
   "outputs": [],
   "source": [
    "Y_MEAN"
   ]
  },
  {
   "cell_type": "code",
   "execution_count": null,
   "metadata": {},
   "outputs": [],
   "source": [
    "np.finfo(np.float32)"
   ]
  },
  {
   "cell_type": "code",
   "execution_count": null,
   "metadata": {},
   "outputs": [],
   "source": [
    "Y_STD[np.array(TARGET_WEIGHTS)>0]"
   ]
  },
  {
   "cell_type": "code",
   "execution_count": null,
   "metadata": {},
   "outputs": [],
   "source": [
    "mask = scores_valid <= 1e-3\n",
    "\n",
    "p_test = np.array(p_valid)\n",
    "p_test[:, mask] = Y_MEAN[mask]"
   ]
  },
  {
   "cell_type": "code",
   "execution_count": null,
   "metadata": {},
   "outputs": [],
   "source": [
    "scores_valid = np.array([metrics.r2_score(y_valid[:, i], p_test[:, i]) for i in range(368)])\n",
    "plt.plot(scores_valid.clip(-1, 1))\n",
    "plt.plot(TARGET_WEIGHTS, alpha = 0.5)\n",
    "scores_valid.clip(-1, 1).mean()"
   ]
  },
  {
   "cell_type": "markdown",
   "metadata": {},
   "source": [
    "### Evaluation"
   ]
  },
  {
   "cell_type": "code",
   "execution_count": null,
   "metadata": {},
   "outputs": [],
   "source": [
    "model = LeapModel(**nn_config)\n",
    "model = model.to(DEVICE)\n",
    "model.load_state_dict(torch.load(\"best_model.pth\", map_location=DEVICE))\n",
    "#model.load_state_dict(torch.load(\"/kaggle/input/leap-models/first_leap_model.pth\", map_location=DEVICE))\n",
    "\n",
    "df_test = pl.read_csv(TEST_PATH)\n",
    "df_test = df_test.to_pandas()\n",
    "df_test = df_test.set_index(\"sample_id\")\n",
    "\n",
    "df_subm = pl.read_csv(SUBMISSION_PATH)\n",
    "df_subm = df_subm.to_pandas()\n",
    "df_subm = df_subm.set_index(\"sample_id\")\n",
    "\n",
    "static_pred = -df_test[REPLACE_TO].to_numpy() * df_subm[REPLACE_FROM].to_numpy() / 1200"
   ]
  },
  {
   "cell_type": "code",
   "execution_count": null,
   "metadata": {},
   "outputs": [],
   "source": [
    "df_subm.loc[df_test.index, TARGET_NAMES] = pred_fn(model, df_test)\n",
    "\n",
    "df_subm[REPLACE_FROM] = static_pred\n",
    "\n",
    "df_subm = df_subm.reset_index()\n",
    "df_subm = df_subm[[\"sample_id\"] + TARGET_NAMES]\n",
    "\n",
    "df_subm = pl.from_pandas(df_subm)\n",
    "df_subm.write_csv(\"submission.csv\")"
   ]
  },
  {
   "cell_type": "code",
   "execution_count": null,
   "metadata": {},
   "outputs": [],
   "source": []
  },
  {
   "cell_type": "code",
   "execution_count": null,
   "metadata": {},
   "outputs": [],
   "source": []
  },
  {
   "cell_type": "code",
   "execution_count": null,
   "metadata": {},
   "outputs": [],
   "source": [
    "import pandas as pd\n",
    "\n",
    "df = pd.concat([\n",
    "    pd.read_parquet('dataset_f16_10kk_part_1.parquet', columns = TARGET_NAMES + ['sample_id']),\n",
    "    pd.read_parquet('dataset_f16_10kk_part_2.parquet', columns = TARGET_NAMES + ['sample_id']),\n",
    "    pd.read_parquet('dataset_f16_10kk_part_3.parquet', columns = TARGET_NAMES + ['sample_id']),\n",
    "    pd.read_parquet('dataset_f16_10kk_part_4.parquet', columns = TARGET_NAMES + ['sample_id']),\n",
    "])\n",
    "\n"
   ]
  },
  {
   "cell_type": "code",
   "execution_count": null,
   "metadata": {},
   "outputs": [],
   "source": [
    "y_min = df.groupby(df.sample_id.map(lambda x: int(x.split('_')[-1])%384))[TARGET_NAMES].min(0)"
   ]
  },
  {
   "cell_type": "code",
   "execution_count": null,
   "metadata": {},
   "outputs": [],
   "source": [
    "y_max = df.groupby(df.sample_id.map(lambda x: int(x.split('_')[-1])%384))[TARGET_NAMES].max(0)"
   ]
  },
  {
   "cell_type": "code",
   "execution_count": null,
   "metadata": {},
   "outputs": [],
   "source": [
    "y_min"
   ]
  },
  {
   "cell_type": "code",
   "execution_count": null,
   "metadata": {},
   "outputs": [],
   "source": [
    "LOC_Y_MIN"
   ]
  },
  {
   "cell_type": "code",
   "execution_count": null,
   "metadata": {},
   "outputs": [],
   "source": [
    "import gc\n",
    "\n",
    "del df\n",
    "gc.collect()"
   ]
  },
  {
   "cell_type": "code",
   "execution_count": null,
   "metadata": {},
   "outputs": [],
   "source": [
    "df = pd.concat([\n",
    "    pd.read_parquet('dataset_f16_10kk_part_1.parquet').sample(900_000),\n",
    "    pd.read_parquet('dataset_f16_10kk_part_2.parquet').sample(900_000),\n",
    "    pd.read_parquet('dataset_f16_10kk_part_3.parquet').sample(900_000),\n",
    "    pd.read_parquet('dataset_f16_10kk_part_4.parquet').sample(900_000),\n",
    "])"
   ]
  },
  {
   "cell_type": "code",
   "execution_count": null,
   "metadata": {},
   "outputs": [],
   "source": [
    "df.to_parquet('dataset_f16_3.6m_sample.parquet', index=False)"
   ]
  },
  {
   "cell_type": "code",
   "execution_count": null,
   "metadata": {},
   "outputs": [],
   "source": []
  }
 ],
 "metadata": {
  "kaggle": {
   "accelerator": "gpu",
   "dataSources": [
    {
     "databundleVersionId": 8015876,
     "sourceId": 56537,
     "sourceType": "competition"
    },
    {
     "datasetId": 4998928,
     "sourceId": 8404301,
     "sourceType": "datasetVersion"
    },
    {
     "datasetId": 5213025,
     "sourceId": 8693172,
     "sourceType": "datasetVersion"
    }
   ],
   "dockerImageVersionId": 30699,
   "isGpuEnabled": true,
   "isInternetEnabled": true,
   "language": "python",
   "sourceType": "notebook"
  },
  "kernelspec": {
   "display_name": "Python 3 (ipykernel)",
   "language": "python",
   "name": "python3"
  },
  "language_info": {
   "codemirror_mode": {
    "name": "ipython",
    "version": 3
   },
   "file_extension": ".py",
   "mimetype": "text/x-python",
   "name": "python",
   "nbconvert_exporter": "python",
   "pygments_lexer": "ipython3",
   "version": "3.11.9"
  }
 },
 "nbformat": 4,
 "nbformat_minor": 4
}
