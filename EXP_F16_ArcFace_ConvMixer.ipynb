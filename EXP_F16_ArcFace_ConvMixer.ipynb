{
 "cells": [
  {
   "cell_type": "code",
   "execution_count": 1,
   "metadata": {
    "_cell_guid": "b1076dfc-b9ad-4769-8c92-a6c4dae69d19",
    "_uuid": "8f2839f25d086af736a60e9eeb907d3b93b6e0e5"
   },
   "outputs": [
    {
     "name": "stdout",
     "output_type": "stream",
     "text": [
      "Supported Device:  cuda\n"
     ]
    }
   ],
   "source": [
    "from tqdm import tqdm\n",
    "from pathlib import Path\n",
    "\n",
    "import numpy as np\n",
    "import pandas as pd\n",
    "import polars as pl\n",
    "\n",
    "import matplotlib.pyplot as plt\n",
    "from sklearn import metrics\n",
    "\n",
    "import torch\n",
    "from torch import nn\n",
    "from torch import optim\n",
    "from torch.optim import lr_scheduler\n",
    "from torch.utils.data import Dataset\n",
    "from torch.utils.data import DataLoader\n",
    "from torch.utils.data import random_split\n",
    "from pytorch_metric_learning.losses import ArcFaceLoss\n",
    "\n",
    "torch.manual_seed(150)\n",
    "\n",
    "DEVICE = torch.device(\"cuda\" if torch.cuda.is_available() else \"cpu\")\n",
    "print(\"Supported Device: \", DEVICE)"
   ]
  },
  {
   "cell_type": "code",
   "execution_count": 2,
   "metadata": {},
   "outputs": [],
   "source": [
    "#!pip install polars"
   ]
  },
  {
   "cell_type": "code",
   "execution_count": 3,
   "metadata": {},
   "outputs": [],
   "source": [
    "# EXT_SRC: It contains 1 million randomly selected and shuffled rows from the original dataset.\n",
    "\n",
    "\n",
    "TRAIN_PATH = \"train_data_sample_1kk.parquet\"\n",
    "TRAIN_PATH = \"train_sampled_1m.parquet\"\n",
    "TRAIN_PATH = \"train_data_sample_3kk_part_1.parquet\"\n",
    "TRAIN_PATH = \"train_data_sample_3kk_part_2.parquet\"\n",
    "\n",
    "#TRAIN_PATH = \"dataset_f16_5kk_part_1.parquet\"\n",
    "TRAIN_PATH = \"dataset_f16_5kk_part_2.parquet\"\n",
    "\n",
    "TRAIN_PATH = 'dataset_f16_3.6m_sample.parquet'\n",
    "\n",
    "TRAIN_PATH = 'dataset_f16_300k_sample.parquet'\n",
    "TRAIN_PATH = 'dataset_f16_1m_sample.parquet'\n",
    "\n",
    "NUM_EPOCHS = 20\n",
    "BATCH_SIZE = 256\n",
    "LEARNING_RATE = 5e-4\n",
    "ERR = 1e-16\n",
    "\n",
    "TRAIN_SIZE = 3_600_000 - 325_000\n",
    "VALID_SIZE = 325_000\n",
    "\n",
    "\n",
    "TRAIN_SIZE = 250_000\n",
    "VALID_SIZE = 50_000\n",
    "\n",
    "TRAIN_SIZE = 850_000\n",
    "VALID_SIZE = 150_000\n",
    "\n",
    "DIM_FEATURES = 556\n",
    "DIM_TARGETS = 368"
   ]
  },
  {
   "cell_type": "code",
   "execution_count": 4,
   "metadata": {},
   "outputs": [],
   "source": [
    "#pd.read_pqrquet(\"dataset_f16_5kk_part_1.parquet\"), pd.read_pqrquet(\"dataset_f16_5kk_part_2.parquet\"), "
   ]
  },
  {
   "cell_type": "code",
   "execution_count": 5,
   "metadata": {},
   "outputs": [],
   "source": [
    "ID = \"sample_id\"\n",
    "\n",
    "# INPUT COLUMNS\n",
    "\n",
    "STATE_PS = \"state_ps\"\n",
    "\n",
    "PBUF_SOLIN = \"pbuf_SOLIN\"\n",
    "PBUF_LHFLX = \"pbuf_LHFLX\"\n",
    "PBUF_SHFLX = \"pbuf_SHFLX\"\n",
    "PBUF_TAUX = \"pbuf_TAUX\"\n",
    "PBUF_TAUY = \"pbuf_TAUY\"\n",
    "PBUF_COSZRS = \"pbuf_COSZRS\"\n",
    "\n",
    "CAM_IN_ALDIF = \"cam_in_ALDIF\"\n",
    "CAM_IN_ALDIR = \"cam_in_ALDIR\"\n",
    "CAM_IN_ASDIF = \"cam_in_ASDIF\"\n",
    "CAM_IN_ASDIR = \"cam_in_ASDIR\"\n",
    "CAM_IN_LWUP = \"cam_in_LWUP\"\n",
    "CAM_IN_ICEFRAC = \"cam_in_ICEFRAC\"\n",
    "CAM_IN_LANDFRAC = \"cam_in_LANDFRAC\"\n",
    "CAM_IN_OCNFRAC = \"cam_in_OCNFRAC\"\n",
    "CAM_IN_SNOWHLAND = \"cam_in_SNOWHLAND\"\n",
    "\n",
    "STATE_U = ['state_u_0', 'state_u_1', 'state_u_2', 'state_u_3', 'state_u_4', 'state_u_5', 'state_u_6', 'state_u_7', 'state_u_8', 'state_u_9', 'state_u_10', 'state_u_11', 'state_u_12', 'state_u_13', 'state_u_14', 'state_u_15', 'state_u_16', 'state_u_17', 'state_u_18', 'state_u_19', 'state_u_20', 'state_u_21', 'state_u_22', 'state_u_23', 'state_u_24', 'state_u_25', 'state_u_26', 'state_u_27', 'state_u_28', 'state_u_29', 'state_u_30', 'state_u_31', 'state_u_32', 'state_u_33', 'state_u_34', 'state_u_35', 'state_u_36', 'state_u_37', 'state_u_38', 'state_u_39', 'state_u_40', 'state_u_41', 'state_u_42', 'state_u_43', 'state_u_44', 'state_u_45', 'state_u_46', 'state_u_47', 'state_u_48', 'state_u_49', 'state_u_50', 'state_u_51', 'state_u_52', 'state_u_53', 'state_u_54', 'state_u_55', 'state_u_56', 'state_u_57', 'state_u_58', 'state_u_59']\n",
    "STATE_V = ['state_v_0', 'state_v_1', 'state_v_2', 'state_v_3', 'state_v_4', 'state_v_5', 'state_v_6', 'state_v_7', 'state_v_8', 'state_v_9', 'state_v_10', 'state_v_11', 'state_v_12', 'state_v_13', 'state_v_14', 'state_v_15', 'state_v_16', 'state_v_17', 'state_v_18', 'state_v_19', 'state_v_20', 'state_v_21', 'state_v_22', 'state_v_23', 'state_v_24', 'state_v_25', 'state_v_26', 'state_v_27', 'state_v_28', 'state_v_29', 'state_v_30', 'state_v_31', 'state_v_32', 'state_v_33', 'state_v_34', 'state_v_35', 'state_v_36', 'state_v_37', 'state_v_38', 'state_v_39', 'state_v_40', 'state_v_41', 'state_v_42', 'state_v_43', 'state_v_44', 'state_v_45', 'state_v_46', 'state_v_47', 'state_v_48', 'state_v_49', 'state_v_50', 'state_v_51', 'state_v_52', 'state_v_53', 'state_v_54', 'state_v_55', 'state_v_56', 'state_v_57', 'state_v_58', 'state_v_59']\n",
    "STATE_T = ['state_t_0', 'state_t_1', 'state_t_2', 'state_t_3', 'state_t_4', 'state_t_5', 'state_t_6', 'state_t_7', 'state_t_8', 'state_t_9', 'state_t_10', 'state_t_11', 'state_t_12', 'state_t_13', 'state_t_14', 'state_t_15', 'state_t_16', 'state_t_17', 'state_t_18', 'state_t_19', 'state_t_20', 'state_t_21', 'state_t_22', 'state_t_23', 'state_t_24', 'state_t_25', 'state_t_26', 'state_t_27', 'state_t_28', 'state_t_29', 'state_t_30', 'state_t_31', 'state_t_32', 'state_t_33', 'state_t_34', 'state_t_35', 'state_t_36', 'state_t_37', 'state_t_38', 'state_t_39', 'state_t_40', 'state_t_41', 'state_t_42', 'state_t_43', 'state_t_44', 'state_t_45', 'state_t_46', 'state_t_47', 'state_t_48', 'state_t_49', 'state_t_50', 'state_t_51', 'state_t_52', 'state_t_53', 'state_t_54', 'state_t_55', 'state_t_56', 'state_t_57', 'state_t_58', 'state_t_59']\n",
    "\n",
    "STATE_Q0001 = ['state_q0001_0', 'state_q0001_1', 'state_q0001_2', 'state_q0001_3', 'state_q0001_4', 'state_q0001_5', 'state_q0001_6', 'state_q0001_7', 'state_q0001_8', 'state_q0001_9', 'state_q0001_10', 'state_q0001_11', 'state_q0001_12', 'state_q0001_13', 'state_q0001_14', 'state_q0001_15', 'state_q0001_16', 'state_q0001_17', 'state_q0001_18', 'state_q0001_19', 'state_q0001_20', 'state_q0001_21', 'state_q0001_22', 'state_q0001_23', 'state_q0001_24', 'state_q0001_25', 'state_q0001_26', 'state_q0001_27', 'state_q0001_28', 'state_q0001_29', 'state_q0001_30', 'state_q0001_31', 'state_q0001_32', 'state_q0001_33', 'state_q0001_34', 'state_q0001_35', 'state_q0001_36', 'state_q0001_37', 'state_q0001_38', 'state_q0001_39', 'state_q0001_40', 'state_q0001_41', 'state_q0001_42', 'state_q0001_43', 'state_q0001_44', 'state_q0001_45', 'state_q0001_46', 'state_q0001_47', 'state_q0001_48', 'state_q0001_49', 'state_q0001_50', 'state_q0001_51', 'state_q0001_52', 'state_q0001_53', 'state_q0001_54', 'state_q0001_55', 'state_q0001_56', 'state_q0001_57', 'state_q0001_58', 'state_q0001_59']\n",
    "STATE_Q0002 = ['state_q0002_0', 'state_q0002_1', 'state_q0002_2', 'state_q0002_3', 'state_q0002_4', 'state_q0002_5', 'state_q0002_6', 'state_q0002_7', 'state_q0002_8', 'state_q0002_9', 'state_q0002_10', 'state_q0002_11', 'state_q0002_12', 'state_q0002_13', 'state_q0002_14', 'state_q0002_15', 'state_q0002_16', 'state_q0002_17', 'state_q0002_18', 'state_q0002_19', 'state_q0002_20', 'state_q0002_21', 'state_q0002_22', 'state_q0002_23', 'state_q0002_24', 'state_q0002_25', 'state_q0002_26', 'state_q0002_27', 'state_q0002_28', 'state_q0002_29', 'state_q0002_30', 'state_q0002_31', 'state_q0002_32', 'state_q0002_33', 'state_q0002_34', 'state_q0002_35', 'state_q0002_36', 'state_q0002_37', 'state_q0002_38', 'state_q0002_39', 'state_q0002_40', 'state_q0002_41', 'state_q0002_42', 'state_q0002_43', 'state_q0002_44', 'state_q0002_45', 'state_q0002_46', 'state_q0002_47', 'state_q0002_48', 'state_q0002_49', 'state_q0002_50', 'state_q0002_51', 'state_q0002_52', 'state_q0002_53', 'state_q0002_54', 'state_q0002_55', 'state_q0002_56', 'state_q0002_57', 'state_q0002_58', 'state_q0002_59']\n",
    "STATE_Q0003 = ['state_q0003_0', 'state_q0003_1', 'state_q0003_2', 'state_q0003_3', 'state_q0003_4', 'state_q0003_5', 'state_q0003_6', 'state_q0003_7', 'state_q0003_8', 'state_q0003_9', 'state_q0003_10', 'state_q0003_11', 'state_q0003_12', 'state_q0003_13', 'state_q0003_14', 'state_q0003_15', 'state_q0003_16', 'state_q0003_17', 'state_q0003_18', 'state_q0003_19', 'state_q0003_20', 'state_q0003_21', 'state_q0003_22', 'state_q0003_23', 'state_q0003_24', 'state_q0003_25', 'state_q0003_26', 'state_q0003_27', 'state_q0003_28', 'state_q0003_29', 'state_q0003_30', 'state_q0003_31', 'state_q0003_32', 'state_q0003_33', 'state_q0003_34', 'state_q0003_35', 'state_q0003_36', 'state_q0003_37', 'state_q0003_38', 'state_q0003_39', 'state_q0003_40', 'state_q0003_41', 'state_q0003_42', 'state_q0003_43', 'state_q0003_44', 'state_q0003_45', 'state_q0003_46', 'state_q0003_47', 'state_q0003_48', 'state_q0003_49', 'state_q0003_50', 'state_q0003_51', 'state_q0003_52', 'state_q0003_53', 'state_q0003_54', 'state_q0003_55', 'state_q0003_56', 'state_q0003_57', 'state_q0003_58', 'state_q0003_59']\n",
    "\n",
    "PBUF_OZONE = ['pbuf_ozone_0', 'pbuf_ozone_1', 'pbuf_ozone_2', 'pbuf_ozone_3', 'pbuf_ozone_4', 'pbuf_ozone_5', 'pbuf_ozone_6', 'pbuf_ozone_7', 'pbuf_ozone_8', 'pbuf_ozone_9', 'pbuf_ozone_10', 'pbuf_ozone_11', 'pbuf_ozone_12', 'pbuf_ozone_13', 'pbuf_ozone_14', 'pbuf_ozone_15', 'pbuf_ozone_16', 'pbuf_ozone_17', 'pbuf_ozone_18', 'pbuf_ozone_19', 'pbuf_ozone_20', 'pbuf_ozone_21', 'pbuf_ozone_22', 'pbuf_ozone_23', 'pbuf_ozone_24', 'pbuf_ozone_25', 'pbuf_ozone_26', 'pbuf_ozone_27', 'pbuf_ozone_28', 'pbuf_ozone_29', 'pbuf_ozone_30', 'pbuf_ozone_31', 'pbuf_ozone_32', 'pbuf_ozone_33', 'pbuf_ozone_34', 'pbuf_ozone_35', 'pbuf_ozone_36', 'pbuf_ozone_37', 'pbuf_ozone_38', 'pbuf_ozone_39', 'pbuf_ozone_40', 'pbuf_ozone_41', 'pbuf_ozone_42', 'pbuf_ozone_43', 'pbuf_ozone_44', 'pbuf_ozone_45', 'pbuf_ozone_46', 'pbuf_ozone_47', 'pbuf_ozone_48', 'pbuf_ozone_49', 'pbuf_ozone_50', 'pbuf_ozone_51', 'pbuf_ozone_52', 'pbuf_ozone_53', 'pbuf_ozone_54', 'pbuf_ozone_55', 'pbuf_ozone_56', 'pbuf_ozone_57', 'pbuf_ozone_58', 'pbuf_ozone_59']\n",
    "PBUF_CH4 = ['pbuf_CH4_0', 'pbuf_CH4_1', 'pbuf_CH4_2', 'pbuf_CH4_3', 'pbuf_CH4_4', 'pbuf_CH4_5', 'pbuf_CH4_6', 'pbuf_CH4_7', 'pbuf_CH4_8', 'pbuf_CH4_9', 'pbuf_CH4_10', 'pbuf_CH4_11', 'pbuf_CH4_12', 'pbuf_CH4_13', 'pbuf_CH4_14', 'pbuf_CH4_15', 'pbuf_CH4_16', 'pbuf_CH4_17', 'pbuf_CH4_18', 'pbuf_CH4_19', 'pbuf_CH4_20', 'pbuf_CH4_21', 'pbuf_CH4_22', 'pbuf_CH4_23', 'pbuf_CH4_24', 'pbuf_CH4_25', 'pbuf_CH4_26', 'pbuf_CH4_27', 'pbuf_CH4_28', 'pbuf_CH4_29', 'pbuf_CH4_30', 'pbuf_CH4_31', 'pbuf_CH4_32', 'pbuf_CH4_33', 'pbuf_CH4_34', 'pbuf_CH4_35', 'pbuf_CH4_36', 'pbuf_CH4_37', 'pbuf_CH4_38', 'pbuf_CH4_39', 'pbuf_CH4_40', 'pbuf_CH4_41', 'pbuf_CH4_42', 'pbuf_CH4_43', 'pbuf_CH4_44', 'pbuf_CH4_45', 'pbuf_CH4_46', 'pbuf_CH4_47', 'pbuf_CH4_48', 'pbuf_CH4_49', 'pbuf_CH4_50', 'pbuf_CH4_51', 'pbuf_CH4_52', 'pbuf_CH4_53', 'pbuf_CH4_54', 'pbuf_CH4_55', 'pbuf_CH4_56', 'pbuf_CH4_57', 'pbuf_CH4_58', 'pbuf_CH4_59']\n",
    "PBUF_N2O = ['pbuf_N2O_0', 'pbuf_N2O_1', 'pbuf_N2O_2', 'pbuf_N2O_3', 'pbuf_N2O_4', 'pbuf_N2O_5', 'pbuf_N2O_6', 'pbuf_N2O_7', 'pbuf_N2O_8', 'pbuf_N2O_9', 'pbuf_N2O_10', 'pbuf_N2O_11', 'pbuf_N2O_12', 'pbuf_N2O_13', 'pbuf_N2O_14', 'pbuf_N2O_15', 'pbuf_N2O_16', 'pbuf_N2O_17', 'pbuf_N2O_18', 'pbuf_N2O_19', 'pbuf_N2O_20', 'pbuf_N2O_21', 'pbuf_N2O_22', 'pbuf_N2O_23', 'pbuf_N2O_24', 'pbuf_N2O_25', 'pbuf_N2O_26', 'pbuf_N2O_27', 'pbuf_N2O_28', 'pbuf_N2O_29', 'pbuf_N2O_30', 'pbuf_N2O_31', 'pbuf_N2O_32', 'pbuf_N2O_33', 'pbuf_N2O_34', 'pbuf_N2O_35', 'pbuf_N2O_36', 'pbuf_N2O_37', 'pbuf_N2O_38', 'pbuf_N2O_39', 'pbuf_N2O_40', 'pbuf_N2O_41', 'pbuf_N2O_42', 'pbuf_N2O_43', 'pbuf_N2O_44', 'pbuf_N2O_45', 'pbuf_N2O_46', 'pbuf_N2O_47', 'pbuf_N2O_48', 'pbuf_N2O_49', 'pbuf_N2O_50', 'pbuf_N2O_51', 'pbuf_N2O_52', 'pbuf_N2O_53', 'pbuf_N2O_54', 'pbuf_N2O_55', 'pbuf_N2O_56', 'pbuf_N2O_57', 'pbuf_N2O_58', 'pbuf_N2O_59']\n",
    "\n",
    "# OUTPUT COLUMNS\n",
    "\n",
    "CAM_OUT_NETSW = \"cam_out_NETSW\"\n",
    "CAM_OUT_FLWDS = \"cam_out_FLWDS\"\n",
    "CAM_OUT_PRECSC = \"cam_out_PRECSC\"\n",
    "CAM_OUT_PRECC = \"cam_out_PRECC\"\n",
    "CAM_OUT_SOLS = \"cam_out_SOLS\"\n",
    "CAM_OUT_SOLL = \"cam_out_SOLL\"\n",
    "CAM_OUT_SOLSD = \"cam_out_SOLSD\"\n",
    "CAM_OUT_SOLLD = \"cam_out_SOLLD\"\n",
    "\n",
    "PTEND_Q0001 = ['ptend_q0001_0', 'ptend_q0001_1', 'ptend_q0001_2', 'ptend_q0001_3', 'ptend_q0001_4', 'ptend_q0001_5', 'ptend_q0001_6', 'ptend_q0001_7', 'ptend_q0001_8', 'ptend_q0001_9', 'ptend_q0001_10', 'ptend_q0001_11', 'ptend_q0001_12', 'ptend_q0001_13', 'ptend_q0001_14', 'ptend_q0001_15', 'ptend_q0001_16', 'ptend_q0001_17', 'ptend_q0001_18', 'ptend_q0001_19', 'ptend_q0001_20', 'ptend_q0001_21', 'ptend_q0001_22', 'ptend_q0001_23', 'ptend_q0001_24', 'ptend_q0001_25', 'ptend_q0001_26', 'ptend_q0001_27', 'ptend_q0001_28', 'ptend_q0001_29', 'ptend_q0001_30', 'ptend_q0001_31', 'ptend_q0001_32', 'ptend_q0001_33', 'ptend_q0001_34', 'ptend_q0001_35', 'ptend_q0001_36', 'ptend_q0001_37', 'ptend_q0001_38', 'ptend_q0001_39', 'ptend_q0001_40', 'ptend_q0001_41', 'ptend_q0001_42', 'ptend_q0001_43', 'ptend_q0001_44', 'ptend_q0001_45', 'ptend_q0001_46', 'ptend_q0001_47', 'ptend_q0001_48', 'ptend_q0001_49', 'ptend_q0001_50', 'ptend_q0001_51', 'ptend_q0001_52', 'ptend_q0001_53', 'ptend_q0001_54', 'ptend_q0001_55', 'ptend_q0001_56', 'ptend_q0001_57', 'ptend_q0001_58', 'ptend_q0001_59']\n",
    "PTEND_Q0002 = ['ptend_q0002_0', 'ptend_q0002_1', 'ptend_q0002_2', 'ptend_q0002_3', 'ptend_q0002_4', 'ptend_q0002_5', 'ptend_q0002_6', 'ptend_q0002_7', 'ptend_q0002_8', 'ptend_q0002_9', 'ptend_q0002_10', 'ptend_q0002_11', 'ptend_q0002_12', 'ptend_q0002_13', 'ptend_q0002_14', 'ptend_q0002_15', 'ptend_q0002_16', 'ptend_q0002_17', 'ptend_q0002_18', 'ptend_q0002_19', 'ptend_q0002_20', 'ptend_q0002_21', 'ptend_q0002_22', 'ptend_q0002_23', 'ptend_q0002_24', 'ptend_q0002_25', 'ptend_q0002_26', 'ptend_q0002_27', 'ptend_q0002_28', 'ptend_q0002_29', 'ptend_q0002_30', 'ptend_q0002_31', 'ptend_q0002_32', 'ptend_q0002_33', 'ptend_q0002_34', 'ptend_q0002_35', 'ptend_q0002_36', 'ptend_q0002_37', 'ptend_q0002_38', 'ptend_q0002_39', 'ptend_q0002_40', 'ptend_q0002_41', 'ptend_q0002_42', 'ptend_q0002_43', 'ptend_q0002_44', 'ptend_q0002_45', 'ptend_q0002_46', 'ptend_q0002_47', 'ptend_q0002_48', 'ptend_q0002_49', 'ptend_q0002_50', 'ptend_q0002_51', 'ptend_q0002_52', 'ptend_q0002_53', 'ptend_q0002_54', 'ptend_q0002_55', 'ptend_q0002_56', 'ptend_q0002_57', 'ptend_q0002_58', 'ptend_q0002_59']\n",
    "PTEND_Q0003 = ['ptend_q0003_0', 'ptend_q0003_1', 'ptend_q0003_2', 'ptend_q0003_3', 'ptend_q0003_4', 'ptend_q0003_5', 'ptend_q0003_6', 'ptend_q0003_7', 'ptend_q0003_8', 'ptend_q0003_9', 'ptend_q0003_10', 'ptend_q0003_11', 'ptend_q0003_12', 'ptend_q0003_13', 'ptend_q0003_14', 'ptend_q0003_15', 'ptend_q0003_16', 'ptend_q0003_17', 'ptend_q0003_18', 'ptend_q0003_19', 'ptend_q0003_20', 'ptend_q0003_21', 'ptend_q0003_22', 'ptend_q0003_23', 'ptend_q0003_24', 'ptend_q0003_25', 'ptend_q0003_26', 'ptend_q0003_27', 'ptend_q0003_28', 'ptend_q0003_29', 'ptend_q0003_30', 'ptend_q0003_31', 'ptend_q0003_32', 'ptend_q0003_33', 'ptend_q0003_34', 'ptend_q0003_35', 'ptend_q0003_36', 'ptend_q0003_37', 'ptend_q0003_38', 'ptend_q0003_39', 'ptend_q0003_40', 'ptend_q0003_41', 'ptend_q0003_42', 'ptend_q0003_43', 'ptend_q0003_44', 'ptend_q0003_45', 'ptend_q0003_46', 'ptend_q0003_47', 'ptend_q0003_48', 'ptend_q0003_49', 'ptend_q0003_50', 'ptend_q0003_51', 'ptend_q0003_52', 'ptend_q0003_53', 'ptend_q0003_54', 'ptend_q0003_55', 'ptend_q0003_56', 'ptend_q0003_57', 'ptend_q0003_58', 'ptend_q0003_59']\n",
    "\n",
    "PTEND_U = ['ptend_u_0', 'ptend_u_1', 'ptend_u_2', 'ptend_u_3', 'ptend_u_4', 'ptend_u_5', 'ptend_u_6', 'ptend_u_7', 'ptend_u_8', 'ptend_u_9', 'ptend_u_10', 'ptend_u_11', 'ptend_u_12', 'ptend_u_13', 'ptend_u_14', 'ptend_u_15', 'ptend_u_16', 'ptend_u_17', 'ptend_u_18', 'ptend_u_19', 'ptend_u_20', 'ptend_u_21', 'ptend_u_22', 'ptend_u_23', 'ptend_u_24', 'ptend_u_25', 'ptend_u_26', 'ptend_u_27', 'ptend_u_28', 'ptend_u_29', 'ptend_u_30', 'ptend_u_31', 'ptend_u_32', 'ptend_u_33', 'ptend_u_34', 'ptend_u_35', 'ptend_u_36', 'ptend_u_37', 'ptend_u_38', 'ptend_u_39', 'ptend_u_40', 'ptend_u_41', 'ptend_u_42', 'ptend_u_43', 'ptend_u_44', 'ptend_u_45', 'ptend_u_46', 'ptend_u_47', 'ptend_u_48', 'ptend_u_49', 'ptend_u_50', 'ptend_u_51', 'ptend_u_52', 'ptend_u_53', 'ptend_u_54', 'ptend_u_55', 'ptend_u_56', 'ptend_u_57', 'ptend_u_58', 'ptend_u_59']\n",
    "PTEND_V = ['ptend_v_0', 'ptend_v_1', 'ptend_v_2', 'ptend_v_3', 'ptend_v_4', 'ptend_v_5', 'ptend_v_6', 'ptend_v_7', 'ptend_v_8', 'ptend_v_9', 'ptend_v_10', 'ptend_v_11', 'ptend_v_12', 'ptend_v_13', 'ptend_v_14', 'ptend_v_15', 'ptend_v_16', 'ptend_v_17', 'ptend_v_18', 'ptend_v_19', 'ptend_v_20', 'ptend_v_21', 'ptend_v_22', 'ptend_v_23', 'ptend_v_24', 'ptend_v_25', 'ptend_v_26', 'ptend_v_27', 'ptend_v_28', 'ptend_v_29', 'ptend_v_30', 'ptend_v_31', 'ptend_v_32', 'ptend_v_33', 'ptend_v_34', 'ptend_v_35', 'ptend_v_36', 'ptend_v_37', 'ptend_v_38', 'ptend_v_39', 'ptend_v_40', 'ptend_v_41', 'ptend_v_42', 'ptend_v_43', 'ptend_v_44', 'ptend_v_45', 'ptend_v_46', 'ptend_v_47', 'ptend_v_48', 'ptend_v_49', 'ptend_v_50', 'ptend_v_51', 'ptend_v_52', 'ptend_v_53', 'ptend_v_54', 'ptend_v_55', 'ptend_v_56', 'ptend_v_57', 'ptend_v_58', 'ptend_v_59']\n",
    "PTEND_T = ['ptend_t_0', 'ptend_t_1', 'ptend_t_2', 'ptend_t_3', 'ptend_t_4', 'ptend_t_5', 'ptend_t_6', 'ptend_t_7', 'ptend_t_8', 'ptend_t_9', 'ptend_t_10', 'ptend_t_11', 'ptend_t_12', 'ptend_t_13', 'ptend_t_14', 'ptend_t_15', 'ptend_t_16', 'ptend_t_17', 'ptend_t_18', 'ptend_t_19', 'ptend_t_20', 'ptend_t_21', 'ptend_t_22', 'ptend_t_23', 'ptend_t_24', 'ptend_t_25', 'ptend_t_26', 'ptend_t_27', 'ptend_t_28', 'ptend_t_29', 'ptend_t_30', 'ptend_t_31', 'ptend_t_32', 'ptend_t_33', 'ptend_t_34', 'ptend_t_35', 'ptend_t_36', 'ptend_t_37', 'ptend_t_38', 'ptend_t_39', 'ptend_t_40', 'ptend_t_41', 'ptend_t_42', 'ptend_t_43', 'ptend_t_44', 'ptend_t_45', 'ptend_t_46', 'ptend_t_47', 'ptend_t_48', 'ptend_t_49', 'ptend_t_50', 'ptend_t_51', 'ptend_t_52', 'ptend_t_53', 'ptend_t_54', 'ptend_t_55', 'ptend_t_56', 'ptend_t_57', 'ptend_t_58', 'ptend_t_59']\n",
    "\n",
    "# REPLACEMENT COLUMNS\n",
    "\n",
    "REPLACE_FROM = ['ptend_q0002_0', 'ptend_q0002_1', 'ptend_q0002_2', 'ptend_q0002_3', 'ptend_q0002_4', 'ptend_q0002_5', 'ptend_q0002_6', 'ptend_q0002_7', 'ptend_q0002_8', 'ptend_q0002_9', 'ptend_q0002_10', 'ptend_q0002_11', 'ptend_q0002_12', 'ptend_q0002_13', 'ptend_q0002_14', 'ptend_q0002_15', 'ptend_q0002_16', 'ptend_q0002_17', 'ptend_q0002_18', 'ptend_q0002_19', 'ptend_q0002_20', 'ptend_q0002_21', 'ptend_q0002_22', 'ptend_q0002_23', 'ptend_q0002_24', 'ptend_q0002_25', 'ptend_q0002_26']\n",
    "REPLACE_TO = ['state_q0002_0', 'state_q0002_1', 'state_q0002_2', 'state_q0002_3', 'state_q0002_4', 'state_q0002_5', 'state_q0002_6', 'state_q0002_7', 'state_q0002_8', 'state_q0002_9', 'state_q0002_10', 'state_q0002_11', 'state_q0002_12', 'state_q0002_13', 'state_q0002_14', 'state_q0002_15', 'state_q0002_16', 'state_q0002_17', 'state_q0002_18', 'state_q0002_19', 'state_q0002_20', 'state_q0002_21', 'state_q0002_22', 'state_q0002_23', 'state_q0002_24', 'state_q0002_25', 'state_q0002_26']\n",
    "\n",
    "# TARGET WEIGHTS\n",
    "\n",
    "TARGET_WEIGHTS = [30981.265271661872, 22502.432413914863, 18894.14713004499, 14514.244730542465, 10944.348069459196, 9065.01072024503, 9663.669038687454, 12688.557362943708, 19890.17226527665, 25831.37317235381, 33890.367561807274, 44122.94111025334, 59811.25595068309, 79434.07500078829, 107358.80916894016, 135720.8418348218, 149399.8411114814, 128492.95185325432, 91746.23687305572, 72748.76911097553, 66531.53596840335, 62932.30598423903, 56610.26874314136, 49473.14369220607, 43029.18495420936, 36912.67491908133, 31486.93117928144, 26898.072997215502, 23316.638282978325, 20459.73133196152, 18385.68309639014, 17111.405107656312, 16337.80991958771, 15857.759882318944, 15580.902485189716, 15497.59045982052, 15612.2556996736, 15797.88455410361, 15974.218740897895, 16130.395527176632, 16261.310866446129, 16371.892401608216, 16397.019695140876, 16325.463899570548, 16228.641108112768, 16191.809643436269, 16341.207925934068, 16645.711351490587, 17005.493716683693, 17430.29874509864, 17907.24023203076, 18431.55334008694, 19032.471309392287, 19701.355113141435, 20408.236605392685, 20967.20795006453, 21194.427318009974, 21088.521528526755, 19437.91555757985, 13677.902713248171, 0, 0, 0, 0, 0, 0, 0, 0, 0, 0, 0, 0, 871528441401.8333, 1083221770553.0684, 147034752676.7702, 35556045575.13566, 35153369257.41337, 46086368691.51654, 24689305171.692936, 11343276593.440475, 5396624651.94418, 2449353007.641508, 1132225885.703891, 579547849.1340877, 330219246.7861086, 207613930.3131764, 144580292.27473342, 109933282.92266414, 88706603.092171, 73819777.54163922, 63615988.74519494, 57250262.292053565, 52976073.06761927, 49653169.17819005, 46544975.11484598, 43167606.9599748, 39724375.20499403, 36317177.25886468, 33057511.80930482, 29869089.497658804, 26982386.85583376, 24416235.17215712, 22273651.697369896, 20553426.04804544, 19216240.03357431, 18167694.44812838, 17501855.536957663, 17169938.630597908, 17005382.258644175, 16998475.26752617, 17082890.987979066, 17227982.77516062, 17445823.21630204, 17757404.421785507, 18346092.75160569, 19400573.66632694, 20506722.48296608, 22469648.380506545, 23432031.455169585, 26204163.40545158, 0, 0, 0, 0, 0, 0, 0, 0, 0, 0, 0, 0, 0, 0, 0, 1000000000000000.0, 1000000000000000.0, 1000000000000000.0, 1000000000000000.0, 1000000000000000.0, 1000000000000000.0, 1000000000000000.0, 1000000000000000.0, 1000000000000000.0, 1000000000000000.0, 1000000000000000.0, 3673829810926.31, 371405570725.2526, 14219163611.984406, 3001863018.1934915, 1432766589.9326108, 884599805.0283787, 560127980.1033351, 386052567.7087711, 287331851.051439, 222703657.59538063, 181069239.6264349, 154620864.3164144, 138093777.60284117, 126605828.89875436, 117967840.02553518, 111005814.39518328, 105186901.20678852, 100168133.0295481, 95568646.67416307, 91457433.39515457, 88871610.45308323, 88829796.26374224, 91398113.73291488, 96585131.67000748, 104507692.01463065, 115895119.998433, 131939701.08213414, 154492946.00677127, 183147918.17086875, 215151374.22324687, 247158314.6345976, 266792879.42215955, 279115128.29108113, 370541510.87006927, 0, 0, 0, 0, 0, 0, 0, 0, 0, 0, 0, 0, 877670509694.7871, 1174826943136.8308, 1270605570069.038, 21727315470.5208, 3159456646.5437946, 1090653401.282219, 727967089.8459107, 384399548.9506704, 290787296.9451616, 232703218.45048887, 197467462.7577736, 174310890.8025987, 160536437.73297343, 153567098.77048483, 152120124.9453068, 153115566.6756177, 153955545.42558223, 153734675.21565756, 154798666.36905554, 163346213.58113608, 180013139.3707387, 200324358.8534948, 220754613.1646765, 241290935.478592, 262868932.2066308, 284448910.01847774, 305681084.4142859, 327605088.8575117, 350473296.7263526, 373964594.1196182, 398396925.8173239, 423528355.65716046, 450447055.544388, 478857006.4973163, 508200335.7126168, 537309657.5789208, 566854568.2904652, 594618842.9455439, 619715928.2391286, 641395460.8414665, 663290039.7810476, 689274894.631561, 718208866.3397261, 743951200.8024124, 761776104.2945968, 772911224.3082078, 804001144.8046833, 772448774.7758856, 0, 0, 0, 0, 0, 0, 0, 0, 0, 0, 0, 0, 4613823.568205323, 1999308.9343799097, 904636.2296014762, 433823.6123842511, 207201.39055371704, 107836.09164720173, 57647.915219220784, 40606.52305039815, 47739.86647922776, 51669.35493930698, 56438.19768395407, 60447.45665200092, 65251.4153955275, 71920.88588011517, 78529.58115204438, 83422.30217897324, 87036.98552475807, 90389.72631774022, 93982.39165674087, 97578.0099352472, 101428.21366062944, 104630.69200130588, 105685.04322626138, 103962.58423268417, 99650.31670632094, 94290.49986206587, 89514.90144353417, 85905.45713126978, 82784.9857650212, 79152.28707014346, 74847.81017353121, 70378.81859610273, 65420.04643792357, 59953.75184604176, 54764.28281143022, 50362.51288353384, 46212.571031725325, 41997.52779088816, 37692.05148110484, 33834.73460995647, 31846.09764364542, 31934.145655397457, 31454.81247448105, 30105.4073072481, 26957.830283611693, 27760.04479210889, 29853.374336459365, 19133.428743715107, 0, 0, 0, 0, 0, 0, 0, 0, 0, 0, 0, 0, 7619940.584531054, 3148394.472742347, 1308415.0022178134, 540515.7720745018, 215237.1053603881, 102546.7276372816, 68453.67122640925, 50692.59053608593, 51487.52043139844, 52104.76838400132, 54019.39151917722, 55856.02168787862, 60347.30240270209, 68990.96019017675, 79096.88768563846, 87574.33453690328, 94158.56052476274, 101903.63670531697, 111746.9753834774, 122460.65399236557, 132086.69387474353, 141041.48571028374, 146354.09441287292, 145953.09590059065, 139496.8007888401, 128508.85108217449, 116665.51769667884, 107458.39706309135, 100259.97236694951, 94108.98505029618, 88439.89456238014, 82734.9027659809, 77061.08621371102, 71333.5319243128, 65999.72532130677, 61798.9972058361, 58237.356419617165, 54715.10266341248, 50825.84431702935, 46059.17688689915, 40740.26050401376, 36335.80228304863, 33981.57568605091, 33589.7143390849, 33988.88524112733, 36272.9364507092, 41183.34413717943, 29194.12369278645, 0.0040536134869726, 0.0138824238058072, 135129884.5084534, 12219717.5342461, 0.0090705273332672, 0.0085898851680217, 0.0215368188774867, 0.0336321308942602]\n",
    "\n",
    "SCALE_WEIGHTS = [1e10] * 360 + [1] * 8\n",
    "\n",
    "TARGET_WEIGHTS = [1, 1, 1, 1, 1, 1, 1, 1, 1, 1, 1, 1, 1, 1, 1, 1, 1, 1, 1, 1, 1, 1,\n",
    "        1, 1, 1, 1, 1, 1, 1, 1, 1, 1, 1, 1, 1, 1, 1, 1, 1, 1, 1, 1, 1, 1,\n",
    "        1, 1, 1, 1, 1, 1, 1, 1, 1, 1, 1, 1, 1, 1, 1, 1, 0, 0, 0, 0, 0, 0,\n",
    "        0, 0, 0, 0, 0, 0, 1, 1, 1, 1, 1, 1, 1, 1, 1, 1, 1, 1, 1, 1, 1, 1,\n",
    "        1, 1, 1, 1, 1, 1, 1, 1, 1, 1, 1, 1, 1, 1, 1, 1, 1, 1, 1, 1, 1, 1,\n",
    "        1, 1, 1, 1, 1, 1, 1, 1, 1, 1, 0, 0, 0, 0, 0, 0, 0, 0, 0, 0, 0, 0,\n",
    "        1, 1, 1, 1, 1, 1, 1, 1, 1, 1, 1, 1, 1, 1, 1, 1, 1, 1, 1, 1, 1, 1,\n",
    "        1, 1, 1, 1, 1, 1, 1, 1, 1, 1, 1, 1, 1, 1, 1, 1, 1, 1, 1, 1, 1, 1,\n",
    "        1, 1, 1, 1, 0, 0, 0, 0, 0, 0, 0, 0, 0, 0, 0, 0, 1, 1, 1, 1, 1, 1,\n",
    "        1, 1, 1, 1, 1, 1, 1, 1, 1, 1, 1, 1, 1, 1, 1, 1, 1, 1, 1, 1, 1, 1,\n",
    "        1, 1, 1, 1, 1, 1, 1, 1, 1, 1, 1, 1, 1, 1, 1, 1, 1, 1, 1, 1, 0, 0,\n",
    "        0, 0, 0, 0, 0, 0, 0, 0, 0, 0, 1, 1, 1, 1, 1, 1, 1, 1, 1, 1, 1, 1,\n",
    "        1, 1, 1, 1, 1, 1, 1, 1, 1, 1, 1, 1, 1, 1, 1, 1, 1, 1, 1, 1, 1, 1,\n",
    "        1, 1, 1, 1, 1, 1, 1, 1, 1, 1, 1, 1, 1, 1, 0, 0, 0, 0, 0, 0, 0, 0,\n",
    "        0, 0, 0, 0, 1, 1, 1, 1, 1, 1, 1, 1, 1, 1, 1, 1, 1, 1, 1, 1, 1, 1,\n",
    "        1, 1, 1, 1, 1, 1, 1, 1, 1, 1, 1, 1, 1, 1, 1, 1, 1, 1, 1, 1, 1, 1,\n",
    "        1, 1, 1, 1, 1, 1, 1, 1, 1, 1, 1, 1, 1, 1, 1, 1]\n",
    "\n",
    "\n",
    "TARGET_WEIGHTS = [1, 1, 1, 1, 1, 1, 1, 1, 1, 1, 1, 1, 1, 1, 1, 1, 1, 1, 1, 1, 1, 1,\n",
    "        1, 1, 1, 1, 1, 1, 1, 1, 1, 1, 1, 1, 1, 1, 1, 1, 1, 1, 1, 1, 1, 1,\n",
    "        1, 1, 1, 1, 1, 1, 1, 1, 1, 1, 1, 1, 1, 1, 1, 1, 0, 0, 0, 0, 0, 0,\n",
    "        0, 0, 0, 0, 0, 0, 1, 1, 1, 1, 1, 1, 1, 1, 1, 1, 1, 1, 1, 1, 1, 1,\n",
    "        1, 1, 1, 1, 1, 1, 1, 1, 1, 1, 1, 1, 1, 1, 1, 1, 1, 1, 1, 1, 1, 1,\n",
    "        1, 1, 1, 1, 1, 1, 1, 1, 1, 1, 0, 0, 0, 0, 0, 0, 0, 0, 0, 0, 0, 0,\n",
    "        0, 0, 0, 0, 0, 0, 0, 0, 0, 0, 0, 0, 0, 0, 0, 1, 1, 1, 1, 1, 1, 1,\n",
    "        1, 1, 1, 1, 1, 1, 1, 1, 1, 1, 1, 1, 1, 1, 1, 1, 1, 1, 1, 1, 1, 1,\n",
    "        1, 1, 1, 1, 0, 0, 0, 0, 0, 0, 0, 0, 0, 0, 0, 0, 1, 1, 1, 1, 1, 1,\n",
    "        1, 1, 1, 1, 1, 1, 1, 1, 1, 1, 1, 1, 1, 1, 1, 1, 1, 1, 1, 1, 1, 1,\n",
    "        1, 1, 1, 1, 1, 1, 1, 1, 1, 1, 1, 1, 1, 1, 1, 1, 1, 1, 1, 1, 0, 0,\n",
    "        0, 0, 0, 0, 0, 0, 0, 0, 0, 0, 1, 1, 1, 1, 1, 1, 1, 1, 1, 1, 1, 1,\n",
    "        1, 1, 1, 1, 1, 1, 1, 1, 1, 1, 1, 1, 1, 1, 1, 1, 1, 1, 1, 1, 1, 1,\n",
    "        1, 1, 1, 1, 1, 1, 1, 1, 1, 1, 1, 1, 1, 1, 0, 0, 0, 0, 0, 0, 0, 0,\n",
    "        0, 0, 0, 0, 1, 1, 1, 1, 1, 1, 1, 1, 1, 1, 1, 1, 1, 1, 1, 1, 1, 1,\n",
    "        1, 1, 1, 1, 1, 1, 1, 1, 1, 1, 1, 1, 1, 1, 1, 1, 1, 1, 1, 1, 1, 1,\n",
    "        1, 1, 1, 1, 1, 1, 1, 1, 1, 1, 1, 1, 1, 1, 1, 1]\n",
    "\n",
    "\n",
    "SCALE_WEIGHTS = [100000.0, 1000000.0, 1000000.0, 1000000.0, 1000000.0, 1000000.0, 10000000.0, 10000000.0, 10000000.0, 1000000000.0, 10000000.0, 10000000.0, 10000000.0, 10000000.0, 10000000.0, 10000000.0, 1000000.0, 1000000.0, 10000000.0, 10000000.0, 10000000.0, 1000000.0, 1000000.0, 1000000.0, 1000000.0, 1000000.0, 1000000.0, 1000000.0, 1000000.0, 1000000.0, 1000000.0, 10000000.0, 10000000.0, 10000000.0, 10000000.0, 10000000.0, 10000000.0, 10000000.0, 10000000.0, 10000000.0, 10000000.0, 10000000.0, 100000000.0, 10000000.0, 10000000.0, 10000000.0, 10000000.0, 10000000.0, 1000000.0, 1000000.0, 1000000.0, 1000000.0, 1000000.0, 1000000.0, 1000000.0, 1000000.0, 1000000.0, 1000000.0, 100000.0, 100000.0, 1e+17, 1e+17, 1e+17, 1e+18, 1.0, 1.0, 1.0, 1.0, 1.0, 1.0, 1.0, 1.0, 1000000000000000.0, 1000000000000000.0, 1000000000000000.0, 100000000000000.0, 100000000000000.0, 10000000000000.0, 10000000000000.0, 1000000000000.0, 1000000000000.0, 100000000000.0, 100000000000.0, 10000000000.0, 10000000000.0, 10000000000.0, 1000000000.0, 1000000000.0, 1000000000.0, 1000000000.0, 1000000000.0, 1000000000.0, 1000000000.0, 1000000000.0, 1000000000.0, 1000000000.0, 1000000000.0, 1000000000.0, 1000000000.0, 1000000000.0, 1000000000.0, 1000000000.0, 10000000000.0, 10000000000.0, 10000000000.0, 1000000000.0, 1000000000.0, 10000000000.0, 10000000000.0, 10000000000.0, 1000000000.0, 1000000000.0, 1000000000.0, 100000000.0, 100000000.0, 100000000.0, 100000000.0, 100000000.0, 100000000.0, 100000000.0, 1.0, 1.0, 1.0, 1.0, 1.0, 1.0, 1.0, 1.0, 1.0, 1.0, 1.0, 1.0, 1e+41, 1e+47, 1e+52, 1e+55, 1e+50, 1e+47, 1e+44, 1e+42, 1e+39, 1e+36, 1e+33, 1e+30, 1e+27, 1e+23, 1e+18, 1000000000000000.0, 1000000000000.0, 100000000000.0, 100000000000.0, 100000000000.0, 100000000000.0, 100000000000.0, 100000000000.0, 100000000000.0, 100000000000.0, 100000000000.0, 100000000000.0, 100000000000000.0, 100000000000.0, 100000000000.0, 100000000000.0, 100000000000.0, 100000000000.0, 10000000000.0, 10000000000.0, 10000000000.0, 100000000000.0, 10000000000.0, 10000000000.0, 10000000000.0, 10000000000.0, 10000000000.0, 100000000000.0, 100000000000.0, 100000000000.0, 1000000000000.0, 100000000000.0, 10000000000.0, 1.0, 1.0, 1.0, 1.0, 1.0, 1.0, 1.0, 1.0, 1.0, 1.0, 1.0, 1.0, 1000000000000000.0, 1e+16, 1000000000000000.0, 100000000000000.0, 10000000000000.0, 10000000000000.0, 1000000000000.0, 100000000000.0, 100000000000.0, 100000000000.0, 100000000000.0, 10000000000.0, 10000000000.0, 10000000000.0, 10000000000.0, 10000000000.0, 100000000000.0, 100000000000.0, 100000000000.0, 100000000000.0, 10000000000.0, 100000000000.0, 100000000000.0, 100000000000.0, 100000000000.0, 100000000000.0, 100000000000.0, 100000000000.0, 100000000000.0, 100000000000.0, 100000000000.0, 100000000000.0, 100000000000.0, 100000000000.0, 100000000000.0, 100000000000.0, 100000000000.0, 100000000000.0, 100000000000.0, 100000000000.0, 100000000000.0, 100000000000.0, 100000000000.0, 1000000000000.0, 100000000000.0, 100000000000.0, 100000000000.0, 10000000000.0, 1.0, 1.0, 1.0, 1.0, 1.0, 1.0, 1.0, 1.0, 1.0, 1.0, 1.0, 1.0, 1000000000.0, 1000000000.0, 100000000.0, 100000000.0, 100000000.0, 10000000.0, 1000000.0, 1000000.0, 10000000.0, 1000000000.0, 10000000.0, 10000000.0, 1000000.0, 1000000.0, 1000000.0, 1000000.0, 1000000.0, 1000000.0, 1000000.0, 10000000.0, 10000000.0, 10000000.0, 10000000.0, 10000000.0, 10000000.0, 10000000.0, 10000000.0, 10000000.0, 10000000.0, 1000000.0, 1000000.0, 1000000.0, 1000000.0, 1000000.0, 1000000.0, 1000000.0, 1000000.0, 10000000.0, 10000000.0, 1000000.0, 1000000.0, 1000000.0, 1000000.0, 1000000.0, 1000000.0, 1000000.0, 1000000.0, 1000000.0, 1.0, 1.0, 1.0, 1.0, 1.0, 1.0, 1.0, 1.0, 1.0, 1.0, 1.0, 1.0, 10000000000.0, 10000000000.0, 1000000000.0, 100000000.0, 1000000000.0, 10000000.0, 100000000.0, 10000000.0, 10000000.0, 10000000.0, 10000000.0, 100000000.0, 10000000.0, 10000000.0, 10000000.0, 10000000.0, 100000000.0, 100000000.0, 100000000.0, 1000000000.0, 100000000.0, 100000000.0, 100000000.0, 1000000000.0, 100000000.0, 10000000.0, 10000000.0, 10000000.0, 10000000.0, 10000000.0, 100000000.0, 10000000.0, 10000000.0, 10000000.0, 10000000.0, 10000000.0, 10000000.0, 10000000.0, 100000000.0, 10000000.0, 10000000.0, 1000000.0, 1000000.0, 1000000.0, 10000000.0, 10000000.0, 1000000.0, 10000000.0, 0.01, 0.001, 1000000000.0, 100000000.0, 0.01, 0.01, 0.01, 0.1]\n",
    "SCALE_WEIGHTS = [min(w, 1e64) for w in SCALE_WEIGHTS]\n",
    "\n",
    "#SCALE_WEIGHTS = [1e6] * 360 + [1] * 8\n",
    "\n",
    "\n",
    "# FEATURE & TARGET LIST\n",
    "\n",
    "FEATURE_NAMES = ['state_t_0', 'state_t_1', 'state_t_2', 'state_t_3', 'state_t_4', 'state_t_5', 'state_t_6', 'state_t_7', 'state_t_8', 'state_t_9', 'state_t_10', 'state_t_11', 'state_t_12', 'state_t_13', 'state_t_14', 'state_t_15', 'state_t_16', 'state_t_17', 'state_t_18', 'state_t_19', 'state_t_20', 'state_t_21', 'state_t_22', 'state_t_23', 'state_t_24', 'state_t_25', 'state_t_26', 'state_t_27', 'state_t_28', 'state_t_29', 'state_t_30', 'state_t_31', 'state_t_32', 'state_t_33', 'state_t_34', 'state_t_35', 'state_t_36', 'state_t_37', 'state_t_38', 'state_t_39', 'state_t_40', 'state_t_41', 'state_t_42', 'state_t_43', 'state_t_44', 'state_t_45', 'state_t_46', 'state_t_47', 'state_t_48', 'state_t_49', 'state_t_50', 'state_t_51', 'state_t_52', 'state_t_53', 'state_t_54', 'state_t_55', 'state_t_56', 'state_t_57', 'state_t_58', 'state_t_59', 'state_q0001_0', 'state_q0001_1', 'state_q0001_2', 'state_q0001_3', 'state_q0001_4', 'state_q0001_5', 'state_q0001_6', 'state_q0001_7', 'state_q0001_8', 'state_q0001_9', 'state_q0001_10', 'state_q0001_11', 'state_q0001_12', 'state_q0001_13', 'state_q0001_14', 'state_q0001_15', 'state_q0001_16', 'state_q0001_17', 'state_q0001_18', 'state_q0001_19', 'state_q0001_20', 'state_q0001_21', 'state_q0001_22', 'state_q0001_23', 'state_q0001_24', 'state_q0001_25', 'state_q0001_26', 'state_q0001_27', 'state_q0001_28', 'state_q0001_29', 'state_q0001_30', 'state_q0001_31', 'state_q0001_32', 'state_q0001_33', 'state_q0001_34', 'state_q0001_35', 'state_q0001_36', 'state_q0001_37', 'state_q0001_38', 'state_q0001_39', 'state_q0001_40', 'state_q0001_41', 'state_q0001_42', 'state_q0001_43', 'state_q0001_44', 'state_q0001_45', 'state_q0001_46', 'state_q0001_47', 'state_q0001_48', 'state_q0001_49', 'state_q0001_50', 'state_q0001_51', 'state_q0001_52', 'state_q0001_53', 'state_q0001_54', 'state_q0001_55', 'state_q0001_56', 'state_q0001_57', 'state_q0001_58', 'state_q0001_59', 'state_q0002_0', 'state_q0002_1', 'state_q0002_2', 'state_q0002_3', 'state_q0002_4', 'state_q0002_5', 'state_q0002_6', 'state_q0002_7', 'state_q0002_8', 'state_q0002_9', 'state_q0002_10', 'state_q0002_11', 'state_q0002_12', 'state_q0002_13', 'state_q0002_14', 'state_q0002_15', 'state_q0002_16', 'state_q0002_17', 'state_q0002_18', 'state_q0002_19', 'state_q0002_20', 'state_q0002_21', 'state_q0002_22', 'state_q0002_23', 'state_q0002_24', 'state_q0002_25', 'state_q0002_26', 'state_q0002_27', 'state_q0002_28', 'state_q0002_29', 'state_q0002_30', 'state_q0002_31', 'state_q0002_32', 'state_q0002_33', 'state_q0002_34', 'state_q0002_35', 'state_q0002_36', 'state_q0002_37', 'state_q0002_38', 'state_q0002_39', 'state_q0002_40', 'state_q0002_41', 'state_q0002_42', 'state_q0002_43', 'state_q0002_44', 'state_q0002_45', 'state_q0002_46', 'state_q0002_47', 'state_q0002_48', 'state_q0002_49', 'state_q0002_50', 'state_q0002_51', 'state_q0002_52', 'state_q0002_53', 'state_q0002_54', 'state_q0002_55', 'state_q0002_56', 'state_q0002_57', 'state_q0002_58', 'state_q0002_59', 'state_q0003_0', 'state_q0003_1', 'state_q0003_2', 'state_q0003_3', 'state_q0003_4', 'state_q0003_5', 'state_q0003_6', 'state_q0003_7', 'state_q0003_8', 'state_q0003_9', 'state_q0003_10', 'state_q0003_11', 'state_q0003_12', 'state_q0003_13', 'state_q0003_14', 'state_q0003_15', 'state_q0003_16', 'state_q0003_17', 'state_q0003_18', 'state_q0003_19', 'state_q0003_20', 'state_q0003_21', 'state_q0003_22', 'state_q0003_23', 'state_q0003_24', 'state_q0003_25', 'state_q0003_26', 'state_q0003_27', 'state_q0003_28', 'state_q0003_29', 'state_q0003_30', 'state_q0003_31', 'state_q0003_32', 'state_q0003_33', 'state_q0003_34', 'state_q0003_35', 'state_q0003_36', 'state_q0003_37', 'state_q0003_38', 'state_q0003_39', 'state_q0003_40', 'state_q0003_41', 'state_q0003_42', 'state_q0003_43', 'state_q0003_44', 'state_q0003_45', 'state_q0003_46', 'state_q0003_47', 'state_q0003_48', 'state_q0003_49', 'state_q0003_50', 'state_q0003_51', 'state_q0003_52', 'state_q0003_53', 'state_q0003_54', 'state_q0003_55', 'state_q0003_56', 'state_q0003_57', 'state_q0003_58', 'state_q0003_59', 'state_u_0', 'state_u_1', 'state_u_2', 'state_u_3', 'state_u_4', 'state_u_5', 'state_u_6', 'state_u_7', 'state_u_8', 'state_u_9', 'state_u_10', 'state_u_11', 'state_u_12', 'state_u_13', 'state_u_14', 'state_u_15', 'state_u_16', 'state_u_17', 'state_u_18', 'state_u_19', 'state_u_20', 'state_u_21', 'state_u_22', 'state_u_23', 'state_u_24', 'state_u_25', 'state_u_26', 'state_u_27', 'state_u_28', 'state_u_29', 'state_u_30', 'state_u_31', 'state_u_32', 'state_u_33', 'state_u_34', 'state_u_35', 'state_u_36', 'state_u_37', 'state_u_38', 'state_u_39', 'state_u_40', 'state_u_41', 'state_u_42', 'state_u_43', 'state_u_44', 'state_u_45', 'state_u_46', 'state_u_47', 'state_u_48', 'state_u_49', 'state_u_50', 'state_u_51', 'state_u_52', 'state_u_53', 'state_u_54', 'state_u_55', 'state_u_56', 'state_u_57', 'state_u_58', 'state_u_59', 'state_v_0', 'state_v_1', 'state_v_2', 'state_v_3', 'state_v_4', 'state_v_5', 'state_v_6', 'state_v_7', 'state_v_8', 'state_v_9', 'state_v_10', 'state_v_11', 'state_v_12', 'state_v_13', 'state_v_14', 'state_v_15', 'state_v_16', 'state_v_17', 'state_v_18', 'state_v_19', 'state_v_20', 'state_v_21', 'state_v_22', 'state_v_23', 'state_v_24', 'state_v_25', 'state_v_26', 'state_v_27', 'state_v_28', 'state_v_29', 'state_v_30', 'state_v_31', 'state_v_32', 'state_v_33', 'state_v_34', 'state_v_35', 'state_v_36', 'state_v_37', 'state_v_38', 'state_v_39', 'state_v_40', 'state_v_41', 'state_v_42', 'state_v_43', 'state_v_44', 'state_v_45', 'state_v_46', 'state_v_47', 'state_v_48', 'state_v_49', 'state_v_50', 'state_v_51', 'state_v_52', 'state_v_53', 'state_v_54', 'state_v_55', 'state_v_56', 'state_v_57', 'state_v_58', 'state_v_59', 'state_ps', 'pbuf_SOLIN', 'pbuf_LHFLX', 'pbuf_SHFLX', 'pbuf_TAUX', 'pbuf_TAUY', 'pbuf_COSZRS', 'cam_in_ALDIF', 'cam_in_ALDIR', 'cam_in_ASDIF', 'cam_in_ASDIR', 'cam_in_LWUP', 'cam_in_ICEFRAC', 'cam_in_LANDFRAC', 'cam_in_OCNFRAC', 'cam_in_SNOWHLAND', 'pbuf_ozone_0', 'pbuf_ozone_1', 'pbuf_ozone_2', 'pbuf_ozone_3', 'pbuf_ozone_4', 'pbuf_ozone_5', 'pbuf_ozone_6', 'pbuf_ozone_7', 'pbuf_ozone_8', 'pbuf_ozone_9', 'pbuf_ozone_10', 'pbuf_ozone_11', 'pbuf_ozone_12', 'pbuf_ozone_13', 'pbuf_ozone_14', 'pbuf_ozone_15', 'pbuf_ozone_16', 'pbuf_ozone_17', 'pbuf_ozone_18', 'pbuf_ozone_19', 'pbuf_ozone_20', 'pbuf_ozone_21', 'pbuf_ozone_22', 'pbuf_ozone_23', 'pbuf_ozone_24', 'pbuf_ozone_25', 'pbuf_ozone_26', 'pbuf_ozone_27', 'pbuf_ozone_28', 'pbuf_ozone_29', 'pbuf_ozone_30', 'pbuf_ozone_31', 'pbuf_ozone_32', 'pbuf_ozone_33', 'pbuf_ozone_34', 'pbuf_ozone_35', 'pbuf_ozone_36', 'pbuf_ozone_37', 'pbuf_ozone_38', 'pbuf_ozone_39', 'pbuf_ozone_40', 'pbuf_ozone_41', 'pbuf_ozone_42', 'pbuf_ozone_43', 'pbuf_ozone_44', 'pbuf_ozone_45', 'pbuf_ozone_46', 'pbuf_ozone_47', 'pbuf_ozone_48', 'pbuf_ozone_49', 'pbuf_ozone_50', 'pbuf_ozone_51', 'pbuf_ozone_52', 'pbuf_ozone_53', 'pbuf_ozone_54', 'pbuf_ozone_55', 'pbuf_ozone_56', 'pbuf_ozone_57', 'pbuf_ozone_58', 'pbuf_ozone_59', 'pbuf_CH4_0', 'pbuf_CH4_1', 'pbuf_CH4_2', 'pbuf_CH4_3', 'pbuf_CH4_4', 'pbuf_CH4_5', 'pbuf_CH4_6', 'pbuf_CH4_7', 'pbuf_CH4_8', 'pbuf_CH4_9', 'pbuf_CH4_10', 'pbuf_CH4_11', 'pbuf_CH4_12', 'pbuf_CH4_13', 'pbuf_CH4_14', 'pbuf_CH4_15', 'pbuf_CH4_16', 'pbuf_CH4_17', 'pbuf_CH4_18', 'pbuf_CH4_19', 'pbuf_CH4_20', 'pbuf_CH4_21', 'pbuf_CH4_22', 'pbuf_CH4_23', 'pbuf_CH4_24', 'pbuf_CH4_25', 'pbuf_CH4_26', 'pbuf_CH4_27', 'pbuf_CH4_28', 'pbuf_CH4_29', 'pbuf_CH4_30', 'pbuf_CH4_31', 'pbuf_CH4_32', 'pbuf_CH4_33', 'pbuf_CH4_34', 'pbuf_CH4_35', 'pbuf_CH4_36', 'pbuf_CH4_37', 'pbuf_CH4_38', 'pbuf_CH4_39', 'pbuf_CH4_40', 'pbuf_CH4_41', 'pbuf_CH4_42', 'pbuf_CH4_43', 'pbuf_CH4_44', 'pbuf_CH4_45', 'pbuf_CH4_46', 'pbuf_CH4_47', 'pbuf_CH4_48', 'pbuf_CH4_49', 'pbuf_CH4_50', 'pbuf_CH4_51', 'pbuf_CH4_52', 'pbuf_CH4_53', 'pbuf_CH4_54', 'pbuf_CH4_55', 'pbuf_CH4_56', 'pbuf_CH4_57', 'pbuf_CH4_58', 'pbuf_CH4_59', 'pbuf_N2O_0', 'pbuf_N2O_1', 'pbuf_N2O_2', 'pbuf_N2O_3', 'pbuf_N2O_4', 'pbuf_N2O_5', 'pbuf_N2O_6', 'pbuf_N2O_7', 'pbuf_N2O_8', 'pbuf_N2O_9', 'pbuf_N2O_10', 'pbuf_N2O_11', 'pbuf_N2O_12', 'pbuf_N2O_13', 'pbuf_N2O_14', 'pbuf_N2O_15', 'pbuf_N2O_16', 'pbuf_N2O_17', 'pbuf_N2O_18', 'pbuf_N2O_19', 'pbuf_N2O_20', 'pbuf_N2O_21', 'pbuf_N2O_22', 'pbuf_N2O_23', 'pbuf_N2O_24', 'pbuf_N2O_25', 'pbuf_N2O_26', 'pbuf_N2O_27', 'pbuf_N2O_28', 'pbuf_N2O_29', 'pbuf_N2O_30', 'pbuf_N2O_31', 'pbuf_N2O_32', 'pbuf_N2O_33', 'pbuf_N2O_34', 'pbuf_N2O_35', 'pbuf_N2O_36', 'pbuf_N2O_37', 'pbuf_N2O_38', 'pbuf_N2O_39', 'pbuf_N2O_40', 'pbuf_N2O_41', 'pbuf_N2O_42', 'pbuf_N2O_43', 'pbuf_N2O_44', 'pbuf_N2O_45', 'pbuf_N2O_46', 'pbuf_N2O_47', 'pbuf_N2O_48', 'pbuf_N2O_49', 'pbuf_N2O_50', 'pbuf_N2O_51', 'pbuf_N2O_52', 'pbuf_N2O_53', 'pbuf_N2O_54', 'pbuf_N2O_55', 'pbuf_N2O_56', 'pbuf_N2O_57', 'pbuf_N2O_58', 'pbuf_N2O_59']\n",
    "TARGET_NAMES = ['ptend_t_0', 'ptend_t_1', 'ptend_t_2', 'ptend_t_3', 'ptend_t_4', 'ptend_t_5', 'ptend_t_6', 'ptend_t_7', 'ptend_t_8', 'ptend_t_9', 'ptend_t_10', 'ptend_t_11', 'ptend_t_12', 'ptend_t_13', 'ptend_t_14', 'ptend_t_15', 'ptend_t_16', 'ptend_t_17', 'ptend_t_18', 'ptend_t_19', 'ptend_t_20', 'ptend_t_21', 'ptend_t_22', 'ptend_t_23', 'ptend_t_24', 'ptend_t_25', 'ptend_t_26', 'ptend_t_27', 'ptend_t_28', 'ptend_t_29', 'ptend_t_30', 'ptend_t_31', 'ptend_t_32', 'ptend_t_33', 'ptend_t_34', 'ptend_t_35', 'ptend_t_36', 'ptend_t_37', 'ptend_t_38', 'ptend_t_39', 'ptend_t_40', 'ptend_t_41', 'ptend_t_42', 'ptend_t_43', 'ptend_t_44', 'ptend_t_45', 'ptend_t_46', 'ptend_t_47', 'ptend_t_48', 'ptend_t_49', 'ptend_t_50', 'ptend_t_51', 'ptend_t_52', 'ptend_t_53', 'ptend_t_54', 'ptend_t_55', 'ptend_t_56', 'ptend_t_57', 'ptend_t_58', 'ptend_t_59', 'ptend_q0001_0', 'ptend_q0001_1', 'ptend_q0001_2', 'ptend_q0001_3', 'ptend_q0001_4', 'ptend_q0001_5', 'ptend_q0001_6', 'ptend_q0001_7', 'ptend_q0001_8', 'ptend_q0001_9', 'ptend_q0001_10', 'ptend_q0001_11', 'ptend_q0001_12', 'ptend_q0001_13', 'ptend_q0001_14', 'ptend_q0001_15', 'ptend_q0001_16', 'ptend_q0001_17', 'ptend_q0001_18', 'ptend_q0001_19', 'ptend_q0001_20', 'ptend_q0001_21', 'ptend_q0001_22', 'ptend_q0001_23', 'ptend_q0001_24', 'ptend_q0001_25', 'ptend_q0001_26', 'ptend_q0001_27', 'ptend_q0001_28', 'ptend_q0001_29', 'ptend_q0001_30', 'ptend_q0001_31', 'ptend_q0001_32', 'ptend_q0001_33', 'ptend_q0001_34', 'ptend_q0001_35', 'ptend_q0001_36', 'ptend_q0001_37', 'ptend_q0001_38', 'ptend_q0001_39', 'ptend_q0001_40', 'ptend_q0001_41', 'ptend_q0001_42', 'ptend_q0001_43', 'ptend_q0001_44', 'ptend_q0001_45', 'ptend_q0001_46', 'ptend_q0001_47', 'ptend_q0001_48', 'ptend_q0001_49', 'ptend_q0001_50', 'ptend_q0001_51', 'ptend_q0001_52', 'ptend_q0001_53', 'ptend_q0001_54', 'ptend_q0001_55', 'ptend_q0001_56', 'ptend_q0001_57', 'ptend_q0001_58', 'ptend_q0001_59', 'ptend_q0002_0', 'ptend_q0002_1', 'ptend_q0002_2', 'ptend_q0002_3', 'ptend_q0002_4', 'ptend_q0002_5', 'ptend_q0002_6', 'ptend_q0002_7', 'ptend_q0002_8', 'ptend_q0002_9', 'ptend_q0002_10', 'ptend_q0002_11', 'ptend_q0002_12', 'ptend_q0002_13', 'ptend_q0002_14', 'ptend_q0002_15', 'ptend_q0002_16', 'ptend_q0002_17', 'ptend_q0002_18', 'ptend_q0002_19', 'ptend_q0002_20', 'ptend_q0002_21', 'ptend_q0002_22', 'ptend_q0002_23', 'ptend_q0002_24', 'ptend_q0002_25', 'ptend_q0002_26', 'ptend_q0002_27', 'ptend_q0002_28', 'ptend_q0002_29', 'ptend_q0002_30', 'ptend_q0002_31', 'ptend_q0002_32', 'ptend_q0002_33', 'ptend_q0002_34', 'ptend_q0002_35', 'ptend_q0002_36', 'ptend_q0002_37', 'ptend_q0002_38', 'ptend_q0002_39', 'ptend_q0002_40', 'ptend_q0002_41', 'ptend_q0002_42', 'ptend_q0002_43', 'ptend_q0002_44', 'ptend_q0002_45', 'ptend_q0002_46', 'ptend_q0002_47', 'ptend_q0002_48', 'ptend_q0002_49', 'ptend_q0002_50', 'ptend_q0002_51', 'ptend_q0002_52', 'ptend_q0002_53', 'ptend_q0002_54', 'ptend_q0002_55', 'ptend_q0002_56', 'ptend_q0002_57', 'ptend_q0002_58', 'ptend_q0002_59', 'ptend_q0003_0', 'ptend_q0003_1', 'ptend_q0003_2', 'ptend_q0003_3', 'ptend_q0003_4', 'ptend_q0003_5', 'ptend_q0003_6', 'ptend_q0003_7', 'ptend_q0003_8', 'ptend_q0003_9', 'ptend_q0003_10', 'ptend_q0003_11', 'ptend_q0003_12', 'ptend_q0003_13', 'ptend_q0003_14', 'ptend_q0003_15', 'ptend_q0003_16', 'ptend_q0003_17', 'ptend_q0003_18', 'ptend_q0003_19', 'ptend_q0003_20', 'ptend_q0003_21', 'ptend_q0003_22', 'ptend_q0003_23', 'ptend_q0003_24', 'ptend_q0003_25', 'ptend_q0003_26', 'ptend_q0003_27', 'ptend_q0003_28', 'ptend_q0003_29', 'ptend_q0003_30', 'ptend_q0003_31', 'ptend_q0003_32', 'ptend_q0003_33', 'ptend_q0003_34', 'ptend_q0003_35', 'ptend_q0003_36', 'ptend_q0003_37', 'ptend_q0003_38', 'ptend_q0003_39', 'ptend_q0003_40', 'ptend_q0003_41', 'ptend_q0003_42', 'ptend_q0003_43', 'ptend_q0003_44', 'ptend_q0003_45', 'ptend_q0003_46', 'ptend_q0003_47', 'ptend_q0003_48', 'ptend_q0003_49', 'ptend_q0003_50', 'ptend_q0003_51', 'ptend_q0003_52', 'ptend_q0003_53', 'ptend_q0003_54', 'ptend_q0003_55', 'ptend_q0003_56', 'ptend_q0003_57', 'ptend_q0003_58', 'ptend_q0003_59', 'ptend_u_0', 'ptend_u_1', 'ptend_u_2', 'ptend_u_3', 'ptend_u_4', 'ptend_u_5', 'ptend_u_6', 'ptend_u_7', 'ptend_u_8', 'ptend_u_9', 'ptend_u_10', 'ptend_u_11', 'ptend_u_12', 'ptend_u_13', 'ptend_u_14', 'ptend_u_15', 'ptend_u_16', 'ptend_u_17', 'ptend_u_18', 'ptend_u_19', 'ptend_u_20', 'ptend_u_21', 'ptend_u_22', 'ptend_u_23', 'ptend_u_24', 'ptend_u_25', 'ptend_u_26', 'ptend_u_27', 'ptend_u_28', 'ptend_u_29', 'ptend_u_30', 'ptend_u_31', 'ptend_u_32', 'ptend_u_33', 'ptend_u_34', 'ptend_u_35', 'ptend_u_36', 'ptend_u_37', 'ptend_u_38', 'ptend_u_39', 'ptend_u_40', 'ptend_u_41', 'ptend_u_42', 'ptend_u_43', 'ptend_u_44', 'ptend_u_45', 'ptend_u_46', 'ptend_u_47', 'ptend_u_48', 'ptend_u_49', 'ptend_u_50', 'ptend_u_51', 'ptend_u_52', 'ptend_u_53', 'ptend_u_54', 'ptend_u_55', 'ptend_u_56', 'ptend_u_57', 'ptend_u_58', 'ptend_u_59', 'ptend_v_0', 'ptend_v_1', 'ptend_v_2', 'ptend_v_3', 'ptend_v_4', 'ptend_v_5', 'ptend_v_6', 'ptend_v_7', 'ptend_v_8', 'ptend_v_9', 'ptend_v_10', 'ptend_v_11', 'ptend_v_12', 'ptend_v_13', 'ptend_v_14', 'ptend_v_15', 'ptend_v_16', 'ptend_v_17', 'ptend_v_18', 'ptend_v_19', 'ptend_v_20', 'ptend_v_21', 'ptend_v_22', 'ptend_v_23', 'ptend_v_24', 'ptend_v_25', 'ptend_v_26', 'ptend_v_27', 'ptend_v_28', 'ptend_v_29', 'ptend_v_30', 'ptend_v_31', 'ptend_v_32', 'ptend_v_33', 'ptend_v_34', 'ptend_v_35', 'ptend_v_36', 'ptend_v_37', 'ptend_v_38', 'ptend_v_39', 'ptend_v_40', 'ptend_v_41', 'ptend_v_42', 'ptend_v_43', 'ptend_v_44', 'ptend_v_45', 'ptend_v_46', 'ptend_v_47', 'ptend_v_48', 'ptend_v_49', 'ptend_v_50', 'ptend_v_51', 'ptend_v_52', 'ptend_v_53', 'ptend_v_54', 'ptend_v_55', 'ptend_v_56', 'ptend_v_57', 'ptend_v_58', 'ptend_v_59', 'cam_out_NETSW', 'cam_out_FLWDS', 'cam_out_PRECSC', 'cam_out_PRECC', 'cam_out_SOLS', 'cam_out_SOLL', 'cam_out_SOLSD', 'cam_out_SOLLD']"
   ]
  },
  {
   "cell_type": "code",
   "execution_count": 6,
   "metadata": {},
   "outputs": [
    {
     "data": {
      "text/plain": [
       "array([1., 1., 1., 1., 1., 1., 1., 1., 1., 1., 1., 1., 1., 1., 1., 1., 1.,\n",
       "       1., 1., 1., 1., 1., 1., 1., 1., 1., 1., 1., 1., 1., 1., 1., 1., 1.,\n",
       "       1., 1., 1., 1., 1., 1., 1., 1., 1., 1., 1., 1., 1., 1., 1., 1., 1.,\n",
       "       1., 1., 1., 1., 1., 1., 1., 1., 1., 1., 1., 1., 1., 1., 1., 1., 1.,\n",
       "       1., 1., 1., 1., 1., 1., 1., 1., 1., 1., 1., 1., 1., 1., 1., 1., 1.,\n",
       "       1., 1., 1., 1., 1., 1., 1., 1., 1., 1., 1., 1., 1., 1., 1., 1., 1.,\n",
       "       1., 1., 1., 1., 1., 1., 1., 1., 1., 1., 1., 1., 1., 1., 1., 1., 1.,\n",
       "       1., 1., 1., 1., 1., 1., 1., 1., 1., 1., 1., 1., 1., 1., 1., 1., 1.,\n",
       "       1., 1., 1., 1., 1., 1., 1., 1., 1., 1., 1., 1., 1., 1., 1., 1., 1.,\n",
       "       1., 1., 1., 1., 1., 1., 1., 1., 1., 1., 1., 1., 1., 1., 1., 1., 1.,\n",
       "       1., 1., 1., 1., 1., 1., 1., 1., 1., 1., 1., 1., 1., 1., 1., 1., 1.,\n",
       "       1., 1., 1., 1., 1., 1., 1., 1., 1., 1., 1., 1., 1., 1., 1., 1., 1.,\n",
       "       1., 1., 1., 1., 1., 1., 1., 1., 1., 1., 1., 1., 1., 1., 1., 1., 1.,\n",
       "       1., 1., 1., 1., 1., 1., 1., 1., 1., 1., 1., 1., 1., 1., 1., 1., 1.,\n",
       "       1., 1., 1., 1., 1., 1., 1., 1., 1., 1., 1., 1., 1., 1., 1., 1., 1.,\n",
       "       1., 1., 1., 1., 1., 1., 1., 1., 1., 1., 1., 1., 1., 1., 1., 1., 1.,\n",
       "       1., 1., 1., 1., 1., 1., 1., 1., 1., 1., 1., 1., 1., 1., 1., 1., 1.,\n",
       "       1., 1., 1., 1.])"
      ]
     },
     "execution_count": 6,
     "metadata": {},
     "output_type": "execute_result"
    }
   ],
   "source": [
    "#SCALE_WEIGHTS_INIT = [100000.0, 1000000.0, 1000000.0, 1000000.0, 1000000.0, 1000000.0, 10000000.0, 10000000.0, 10000000.0, 1000000000.0, 10000000.0, 10000000.0, 10000000.0, 10000000.0, 10000000.0, 10000000.0, 1000000.0, 1000000.0, 10000000.0, 10000000.0, 10000000.0, 1000000.0, 1000000.0, 1000000.0, 1000000.0, 1000000.0, 1000000.0, 1000000.0, 1000000.0, 1000000.0, 1000000.0, 10000000.0, 10000000.0, 10000000.0, 10000000.0, 10000000.0, 10000000.0, 10000000.0, 10000000.0, 10000000.0, 10000000.0, 10000000.0, 100000000.0, 10000000.0, 10000000.0, 10000000.0, 10000000.0, 10000000.0, 1000000.0, 1000000.0, 1000000.0, 1000000.0, 1000000.0, 1000000.0, 1000000.0, 1000000.0, 1000000.0, 1000000.0, 100000.0, 100000.0, 1e+17, 1e+17, 1e+17, 1e+18, 1.0, 1.0, 1.0, 1.0, 1.0, 1.0, 1.0, 1.0, 1000000000000000.0, 1000000000000000.0, 1000000000000000.0, 100000000000000.0, 100000000000000.0, 10000000000000.0, 10000000000000.0, 1000000000000.0, 1000000000000.0, 100000000000.0, 100000000000.0, 10000000000.0, 10000000000.0, 10000000000.0, 1000000000.0, 1000000000.0, 1000000000.0, 1000000000.0, 1000000000.0, 1000000000.0, 1000000000.0, 1000000000.0, 1000000000.0, 1000000000.0, 1000000000.0, 1000000000.0, 1000000000.0, 1000000000.0, 1000000000.0, 1000000000.0, 10000000000.0, 10000000000.0, 10000000000.0, 1000000000.0, 1000000000.0, 10000000000.0, 10000000000.0, 10000000000.0, 1000000000.0, 1000000000.0, 1000000000.0, 100000000.0, 100000000.0, 100000000.0, 100000000.0, 100000000.0, 100000000.0, 100000000.0, 1.0, 1.0, 1.0, 1.0, 1.0, 1.0, 1.0, 1.0, 1.0, 1.0, 1.0, 1.0, 1e+41, 1e+47, 1e+52, 1e+55, 1e+50, 1e+47, 1e+44, 1e+42, 1e+39, 1e+36, 1e+33, 1e+30, 1e+27, 1e+23, 1e+18, 1000000000000000.0, 1000000000000.0, 100000000000.0, 100000000000.0, 100000000000.0, 100000000000.0, 100000000000.0, 100000000000.0, 100000000000.0, 100000000000.0, 100000000000.0, 100000000000.0, 100000000000000.0, 100000000000.0, 100000000000.0, 100000000000.0, 100000000000.0, 100000000000.0, 10000000000.0, 10000000000.0, 10000000000.0, 100000000000.0, 10000000000.0, 10000000000.0, 10000000000.0, 10000000000.0, 10000000000.0, 100000000000.0, 100000000000.0, 100000000000.0, 1000000000000.0, 100000000000.0, 10000000000.0, 1.0, 1.0, 1.0, 1.0, 1.0, 1.0, 1.0, 1.0, 1.0, 1.0, 1.0, 1.0, 1000000000000000.0, 1e+16, 1000000000000000.0, 100000000000000.0, 10000000000000.0, 10000000000000.0, 1000000000000.0, 100000000000.0, 100000000000.0, 100000000000.0, 100000000000.0, 10000000000.0, 10000000000.0, 10000000000.0, 10000000000.0, 10000000000.0, 100000000000.0, 100000000000.0, 100000000000.0, 100000000000.0, 10000000000.0, 100000000000.0, 100000000000.0, 100000000000.0, 100000000000.0, 100000000000.0, 100000000000.0, 100000000000.0, 100000000000.0, 100000000000.0, 100000000000.0, 100000000000.0, 100000000000.0, 100000000000.0, 100000000000.0, 100000000000.0, 100000000000.0, 100000000000.0, 100000000000.0, 100000000000.0, 100000000000.0, 100000000000.0, 100000000000.0, 1000000000000.0, 100000000000.0, 100000000000.0, 100000000000.0, 10000000000.0, 1.0, 1.0, 1.0, 1.0, 1.0, 1.0, 1.0, 1.0, 1.0, 1.0, 1.0, 1.0, 1000000000.0, 1000000000.0, 100000000.0, 100000000.0, 100000000.0, 10000000.0, 1000000.0, 1000000.0, 10000000.0, 1000000000.0, 10000000.0, 10000000.0, 1000000.0, 1000000.0, 1000000.0, 1000000.0, 1000000.0, 1000000.0, 1000000.0, 10000000.0, 10000000.0, 10000000.0, 10000000.0, 10000000.0, 10000000.0, 10000000.0, 10000000.0, 10000000.0, 10000000.0, 1000000.0, 1000000.0, 1000000.0, 1000000.0, 1000000.0, 1000000.0, 1000000.0, 1000000.0, 10000000.0, 10000000.0, 1000000.0, 1000000.0, 1000000.0, 1000000.0, 1000000.0, 1000000.0, 1000000.0, 1000000.0, 1000000.0, 1.0, 1.0, 1.0, 1.0, 1.0, 1.0, 1.0, 1.0, 1.0, 1.0, 1.0, 1.0, 10000000000.0, 10000000000.0, 1000000000.0, 100000000.0, 1000000000.0, 10000000.0, 100000000.0, 10000000.0, 10000000.0, 10000000.0, 10000000.0, 100000000.0, 10000000.0, 10000000.0, 10000000.0, 10000000.0, 100000000.0, 100000000.0, 100000000.0, 1000000000.0, 100000000.0, 100000000.0, 100000000.0, 1000000000.0, 100000000.0, 10000000.0, 10000000.0, 10000000.0, 10000000.0, 10000000.0, 100000000.0, 10000000.0, 10000000.0, 10000000.0, 10000000.0, 10000000.0, 10000000.0, 10000000.0, 100000000.0, 10000000.0, 10000000.0, 1000000.0, 1000000.0, 1000000.0, 10000000.0, 10000000.0, 1000000.0, 10000000.0, 0.01, 0.001, 1000000000.0, 100000000.0, 0.01, 0.01, 0.01, 0.1]\n",
    "SCALE_WEIGHTS_INIT = [10000.0, 10000.0, 10000.0, 10000.0, 10000.0, 10000.0, 10000.0, 10000.0, 10000.0, 10000.0, 100000.0, 100000.0, 100000.0, 100000.0, 100000.0, 100000.0, 100000.0, 10000.0, 10000.0, 10000.0, 10000.0, 10000.0, 10000.0, 10000.0, 10000.0, 10000.0, 10000.0, 10000.0, 10000.0, 10000.0, 10000.0, 10000.0, 10000.0, 10000.0, 10000.0, 10000.0, 10000.0, 10000.0, 10000.0, 10000.0, 10000.0, 10000.0, 10000.0, 10000.0, 10000.0, 10000.0, 10000.0, 10000.0, 10000.0, 10000.0, 10000.0, 10000.0, 10000.0, 10000.0, 10000.0, 10000.0, 10000.0, 10000.0, 10000.0, 10000.0, 10000000000000.0, 10000000000000.0, 10000000000000.0, 1.0, 1.0, 1.0, 1.0, 1.0, 1.0, 1.0, 1.0, 1.0, 100000000000.0, 100000000000.0, 100000000000.0, 10000000000.0, 10000000000.0, 10000000000.0, 10000000000.0, 1000000000.0, 1000000000.0, 100000000.0, 100000000.0, 100000000.0, 100000000.0, 100000000.0, 10000000.0, 10000000.0, 10000000.0, 10000000.0, 10000000.0, 10000000.0, 10000000.0, 10000000.0, 10000000.0, 10000000.0, 10000000.0, 10000000.0, 10000000.0, 10000000.0, 10000000.0, 10000000.0, 10000000.0, 10000000.0, 10000000.0, 10000000.0, 10000000.0, 10000000.0, 10000000.0, 10000000.0, 10000000.0, 10000000.0, 10000000.0, 10000000.0, 10000000.0, 10000000.0, 10000000.0, 10000000.0, 10000000.0, 10000000.0, 1.0, 1.0, 1.0, 1.0, 1.0, 1.0, 1.0, 1.0, 1.0, 1.0, 1.0, 1.0, 1e+38, 1e+44, 1e+49, 1e+53, 1e+54, 1e+49, 1e+46, 1e+42, 1e+39, 1e+36, 1e+33, 1e+29, 1e+25, 1e+20, 1e+16, 100000000000.0, 1000000000.0, 100000000.0, 100000000.0, 100000000.0, 100000000.0, 100000000.0, 100000000.0, 100000000.0, 100000000.0, 100000000.0, 100000000.0, 10000000.0, 10000000.0, 10000000.0, 10000000.0, 10000000.0, 10000000.0, 10000000.0, 10000000.0, 10000000.0, 100000000.0, 100000000.0, 100000000.0, 100000000.0, 100000000.0, 100000000.0, 100000000.0, 100000000.0, 100000000.0, 100000000.0, 100000000.0, 100000000.0, 1.0, 1.0, 1.0, 1.0, 1.0, 1.0, 1.0, 1.0, 1.0, 1.0, 1.0, 1.0, 100000000000.0, 100000000000.0, 100000000000.0, 10000000000.0, 1000000000.0, 100000000.0, 100000000.0, 10000000.0, 10000000.0, 10000000.0, 10000000.0, 10000000.0, 10000000.0, 10000000.0, 10000000.0, 10000000.0, 10000000.0, 10000000.0, 10000000.0, 10000000.0, 100000000.0, 100000000.0, 100000000.0, 100000000.0, 100000000.0, 100000000.0, 100000000.0, 100000000.0, 100000000.0, 100000000.0, 100000000.0, 100000000.0, 100000000.0, 100000000.0, 100000000.0, 100000000.0, 100000000.0, 100000000.0, 100000000.0, 100000000.0, 100000000.0, 100000000.0, 100000000.0, 100000000.0, 100000000.0, 100000000.0, 100000000.0, 100000000.0, 1.0, 1.0, 1.0, 1.0, 1.0, 1.0, 1.0, 1.0, 1.0, 1.0, 1.0, 1.0, 1000000.0, 1000000.0, 100000.0, 100000.0, 10000.0, 10000.0, 10000.0, 10000.0, 10000.0, 10000.0, 10000.0, 10000.0, 10000.0, 10000.0, 10000.0, 10000.0, 10000.0, 10000.0, 10000.0, 10000.0, 10000.0, 10000.0, 10000.0, 10000.0, 10000.0, 10000.0, 10000.0, 10000.0, 10000.0, 10000.0, 10000.0, 10000.0, 10000.0, 10000.0, 10000.0, 10000.0, 10000.0, 10000.0, 10000.0, 10000.0, 10000.0, 10000.0, 10000.0, 10000.0, 10000.0, 10000.0, 10000.0, 10000.0, 1.0, 1.0, 1.0, 1.0, 1.0, 1.0, 1.0, 1.0, 1.0, 1.0, 1.0, 1.0, 1000000.0, 1000000.0, 100000.0, 100000.0, 100000.0, 10000.0, 10000.0, 10000.0, 10000.0, 10000.0, 10000.0, 10000.0, 10000.0, 10000.0, 10000.0, 10000.0, 10000.0, 10000.0, 10000.0, 10000.0, 10000.0, 10000.0, 10000.0, 10000.0, 10000.0, 10000.0, 10000.0, 10000.0, 10000.0, 10000.0, 10000.0, 10000.0, 10000.0, 10000.0, 10000.0, 10000.0, 10000.0, 10000.0, 10000.0, 10000.0, 10000.0, 10000.0, 10000.0, 10000.0, 10000.0, 10000.0, 10000.0, 10000.0, 0.001, 0.001, 100000000.0, 1000000.0, 0.001, 0.001, 0.01, 0.01]\n",
    "SCALE_WEIGHTS = [min(w, 1e64) for w in SCALE_WEIGHTS_INIT]\n",
    "\n",
    "LOSS_SCALE = np.array(SCALE_WEIGHTS_INIT) / np.array(SCALE_WEIGHTS)\n",
    "\n",
    "np.array(SCALE_WEIGHTS_INIT)[np.array(TARGET_WEIGHTS)>0] / np.array(SCALE_WEIGHTS)[np.array(TARGET_WEIGHTS)>0]\n"
   ]
  },
  {
   "cell_type": "code",
   "execution_count": 7,
   "metadata": {},
   "outputs": [
    {
     "data": {
      "text/plain": [
       "finfo(resolution=1e-15, min=-1.79769e+308, max=1.79769e+308, eps=2.22045e-16, smallest_normal=2.22507e-308, tiny=2.22507e-308, dtype=float64)"
      ]
     },
     "execution_count": 7,
     "metadata": {},
     "output_type": "execute_result"
    }
   ],
   "source": [
    "\n",
    "torch.finfo(torch.float64)"
   ]
  },
  {
   "cell_type": "code",
   "execution_count": 8,
   "metadata": {},
   "outputs": [],
   "source": [
    "ID_IDX = 0\n",
    "\n",
    "STATE_PS_IDX = 360\n",
    "\n",
    "PBUF_SOLIN_IDX = 361\n",
    "PBUF_LHFLX_IDX = 362\n",
    "PBUF_SHFLX_IDX = 363\n",
    "PBUF_TAUX_IDX = 364\n",
    "PBUF_TAUY_IDX = 365\n",
    "PBUF_COSZRS_IDX = 366\n",
    "\n",
    "CAM_IN_ALDIF_IDX = 367\n",
    "CAM_IN_ALDIR_IDX = 368\n",
    "CAM_IN_ASDIF_IDX = 369\n",
    "CAM_IN_ASDIR_IDX = 370\n",
    "CAM_IN_LWUP_IDX = 371\n",
    "CAM_IN_ICEFRAC_IDX = 372\n",
    "CAM_IN_LANDFRAC_IDX = 373\n",
    "CAM_IN_OCNFRAC_IDX = 374\n",
    "CAM_IN_SNOWHLAND_IDX = 375\n",
    "\n",
    "CAM_OUT_NETSW_IDX = 360\n",
    "CAM_OUT_FLWDS_IDX = 361\n",
    "CAM_OUT_PRECSC_IDX = 362\n",
    "CAM_OUT_PRECC_IDX = 363\n",
    "CAM_OUT_SOLS_IDX = 364\n",
    "CAM_OUT_SOLL_IDX = 365\n",
    "CAM_OUT_SOLSD_IDX = 366\n",
    "CAM_OUT_SOLLD_IDX = 367\n",
    "\n",
    "STATE_U_IDX = [240, 241, 242, 243, 244, 245, 246, 247, 248, 249, 250, 251, 252, 253, 254, 255, 256, 257, 258, 259, 260, 261, 262, 263, 264, 265, 266, 267, 268, 269, 270, 271, 272, 273, 274, 275, 276, 277, 278, 279, 280, 281, 282, 283, 284, 285, 286, 287, 288, 289, 290, 291, 292, 293, 294, 295, 296, 297, 298, 299]\n",
    "STATE_V_IDX = [300, 301, 302, 303, 304, 305, 306, 307, 308, 309, 310, 311, 312, 313, 314, 315, 316, 317, 318, 319, 320, 321, 322, 323, 324, 325, 326, 327, 328, 329, 330, 331, 332, 333, 334, 335, 336, 337, 338, 339, 340, 341, 342, 343, 344, 345, 346, 347, 348, 349, 350, 351, 352, 353, 354, 355, 356, 357, 358, 359]\n",
    "STATE_T_IDX = [0, 1, 2, 3, 4, 5, 6, 7, 8, 9, 10, 11, 12, 13, 14, 15, 16, 17, 18, 19, 20, 21, 22, 23, 24, 25, 26, 27, 28, 29, 30, 31, 32, 33, 34, 35, 36, 37, 38, 39, 40, 41, 42, 43, 44, 45, 46, 47, 48, 49, 50, 51, 52, 53, 54, 55, 56, 57, 58, 59]\n",
    "\n",
    "STATE_Q0001_IDX = [60, 61, 62, 63, 64, 65, 66, 67, 68, 69, 70, 71, 72, 73, 74, 75, 76, 77, 78, 79, 80, 81, 82, 83, 84, 85, 86, 87, 88, 89, 90, 91, 92, 93, 94, 95, 96, 97, 98, 99, 100, 101, 102, 103, 104, 105, 106, 107, 108, 109, 110, 111, 112, 113, 114, 115, 116, 117, 118, 119]\n",
    "STATE_Q0002_IDX = [120, 121, 122, 123, 124, 125, 126, 127, 128, 129, 130, 131, 132, 133, 134, 135, 136, 137, 138, 139, 140, 141, 142, 143, 144, 145, 146, 147, 148, 149, 150, 151, 152, 153, 154, 155, 156, 157, 158, 159, 160, 161, 162, 163, 164, 165, 166, 167, 168, 169, 170, 171, 172, 173, 174, 175, 176, 177, 178, 179]\n",
    "STATE_Q0003_IDX = [180, 181, 182, 183, 184, 185, 186, 187, 188, 189, 190, 191, 192, 193, 194, 195, 196, 197, 198, 199, 200, 201, 202, 203, 204, 205, 206, 207, 208, 209, 210, 211, 212, 213, 214, 215, 216, 217, 218, 219, 220, 221, 222, 223, 224, 225, 226, 227, 228, 229, 230, 231, 232, 233, 234, 235, 236, 237, 238, 239]\n",
    "\n",
    "PBUF_OZONE_IDX = [376, 377, 378, 379, 380, 381, 382, 383, 384, 385, 386, 387, 388, 389, 390, 391, 392, 393, 394, 395, 396, 397, 398, 399, 400, 401, 402, 403, 404, 405, 406, 407, 408, 409, 410, 411, 412, 413, 414, 415, 416, 417, 418, 419, 420, 421, 422, 423, 424, 425, 426, 427, 428, 429, 430, 431, 432, 433, 434, 435]\n",
    "PBUF_CH4_IDX = [436, 437, 438, 439, 440, 441, 442, 443, 444, 445, 446, 447, 448, 449, 450, 451, 452, 453, 454, 455, 456, 457, 458, 459, 460, 461, 462, 463, 464, 465, 466, 467, 468, 469, 470, 471, 472, 473, 474, 475, 476, 477, 478, 479, 480, 481, 482, 483, 484, 485, 486, 487, 488, 489, 490, 491, 492, 493, 494, 495]\n",
    "PBUF_N2O_IDX = [496, 497, 498, 499, 500, 501, 502, 503, 504, 505, 506, 507, 508, 509, 510, 511, 512, 513, 514, 515, 516, 517, 518, 519, 520, 521, 522, 523, 524, 525, 526, 527, 528, 529, 530, 531, 532, 533, 534, 535, 536, 537, 538, 539, 540, 541, 542, 543, 544, 545, 546, 547, 548, 549, 550, 551, 552, 553, 554, 555]\n",
    "\n",
    "PTEND_Q0001_IDX = [60, 61, 62, 63, 64, 65, 66, 67, 68, 69, 70, 71, 72, 73, 74, 75, 76, 77, 78, 79, 80, 81, 82, 83, 84, 85, 86, 87, 88, 89, 90, 91, 92, 93, 94, 95, 96, 97, 98, 99, 100, 101, 102, 103, 104, 105, 106, 107, 108, 109, 110, 111, 112, 113, 114, 115, 116, 117, 118, 119]\n",
    "PTEND_Q0002_IDX = [120, 121, 122, 123, 124, 125, 126, 127, 128, 129, 130, 131, 132, 133, 134, 135, 136, 137, 138, 139, 140, 141, 142, 143, 144, 145, 146, 147, 148, 149, 150, 151, 152, 153, 154, 155, 156, 157, 158, 159, 160, 161, 162, 163, 164, 165, 166, 167, 168, 169, 170, 171, 172, 173, 174, 175, 176, 177, 178, 179]\n",
    "PTEND_Q0003_IDX = [180, 181, 182, 183, 184, 185, 186, 187, 188, 189, 190, 191, 192, 193, 194, 195, 196, 197, 198, 199, 200, 201, 202, 203, 204, 205, 206, 207, 208, 209, 210, 211, 212, 213, 214, 215, 216, 217, 218, 219, 220, 221, 222, 223, 224, 225, 226, 227, 228, 229, 230, 231, 232, 233, 234, 235, 236, 237, 238, 239]\n",
    "\n",
    "PTEND_U_IDX = [240, 241, 242, 243, 244, 245, 246, 247, 248, 249, 250, 251, 252, 253, 254, 255, 256, 257, 258, 259, 260, 261, 262, 263, 264, 265, 266, 267, 268, 269, 270, 271, 272, 273, 274, 275, 276, 277, 278, 279, 280, 281, 282, 283, 284, 285, 286, 287, 288, 289, 290, 291, 292, 293, 294, 295, 296, 297, 298, 299]\n",
    "PTEND_V_IDX = [300, 301, 302, 303, 304, 305, 306, 307, 308, 309, 310, 311, 312, 313, 314, 315, 316, 317, 318, 319, 320, 321, 322, 323, 324, 325, 326, 327, 328, 329, 330, 331, 332, 333, 334, 335, 336, 337, 338, 339, 340, 341, 342, 343, 344, 345, 346, 347, 348, 349, 350, 351, 352, 353, 354, 355, 356, 357, 358, 359]\n",
    "PTEND_T_IDX = [0, 1, 2, 3, 4, 5, 6, 7, 8, 9, 10, 11, 12, 13, 14, 15, 16, 17, 18, 19, 20, 21, 22, 23, 24, 25, 26, 27, 28, 29, 30, 31, 32, 33, 34, 35, 36, 37, 38, 39, 40, 41, 42, 43, 44, 45, 46, 47, 48, 49, 50, 51, 52, 53, 54, 55, 56, 57, 58, 59]"
   ]
  },
  {
   "cell_type": "code",
   "execution_count": 9,
   "metadata": {},
   "outputs": [],
   "source": [
    "def r2_score(y_pred:torch.Tensor, y_true:torch.Tensor) -> float:\n",
    "    \"\"\"\n",
    "    Calculate the R^2 (coefficient of determination) regression score.\n",
    "    \n",
    "    Parameters\n",
    "    ----------\n",
    "    y_pred : torch.Tensor\n",
    "        The predicted values.\n",
    "    y_true : torch.Tensor\n",
    "        The true values.\n",
    "\n",
    "    Returns\n",
    "    -------\n",
    "    float\n",
    "        The R^2 score, a float value.\n",
    "    \"\"\"\n",
    "    \n",
    "    ss_res = torch.sum((y_true - y_pred) ** 2) \n",
    "    ss_tot = torch.sum((y_true - torch.mean(y_true)) ** 2)\n",
    "    \n",
    "    r2 = 1 - ss_res / ss_tot\n",
    "    \n",
    "    return r2.item()"
   ]
  },
  {
   "cell_type": "code",
   "execution_count": 57,
   "metadata": {},
   "outputs": [],
   "source": [
    "def r2_score_clipped(y_pred:torch.Tensor, y_true:torch.Tensor) -> float:\n",
    "    \"\"\"\n",
    "    Calculate the R^2 (coefficient of determination) regression score.\n",
    "    \n",
    "    Parameters\n",
    "    ----------\n",
    "    y_pred : torch.Tensor\n",
    "        The predicted values.\n",
    "    y_true : torch.Tensor\n",
    "        The true values.\n",
    "\n",
    "    Returns\n",
    "    -------\n",
    "    float\n",
    "        The R^2 score, a float value.\n",
    "    \"\"\"\n",
    "\n",
    "    scores_valid = np.array([metrics.r2_score(y_true[:, i], y_pred[:, i]) if w >0 else 1 for i,w in enumerate(TARGET_WEIGHTS) ])\n",
    "\n",
    "    return scores_valid.clip(-1, 1).mean()\n",
    "    #return (scores_valid.clip(-1, 1) * np.array(TARGET_WEIGHTS)).sum() / np.array(TARGET_WEIGHTS).sum() "
   ]
  },
  {
   "cell_type": "code",
   "execution_count": 11,
   "metadata": {},
   "outputs": [],
   "source": [
    "def calc_mean_std(ds_data:Dataset) -> None:\n",
    "    \"\"\"\n",
    "    Calculate and set the global mean and standard deviation for the dataset features and targets.\n",
    "    \n",
    "    Parameters\n",
    "    ----------\n",
    "    ds_data : torch.utils.data.Dataset\n",
    "        Dataset containing the data for which mean and standard deviation are to be calculated. \n",
    "        It should have attributes `x` and `y` representing features and targets, respectively.\n",
    "\n",
    "    Returns\n",
    "    -------\n",
    "    None\n",
    "    \"\"\"\n",
    "    \n",
    "    global X_MEAN, X_STD, Y_MEAN, Y_STD\n",
    "    \n",
    "    x = ds_data.x.double()\n",
    "    y = ds_data.y.double()\n",
    "    \n",
    "    X_MEAN = torch.mean(x, 0)\n",
    "    X_STD = torch.maximum(torch.std(x, 0), torch.tensor(ERR, dtype = torch.float64))\n",
    "    \n",
    "    Y_MEAN = y.mean(axis=0)\n",
    "    Y_STD = torch.maximum(torch.sqrt(torch.mean(torch.pow(y, 2), 0)), torch.tensor(ERR, dtype = torch.float64))\n",
    "    #Y_STD = torch.maximum(torch.mean(torch.abs(y), 0), torch.tensor(ERR))\n",
    "\n",
    "    #Y_MEAN = y.median(axis=0)[0]\n",
    "    #Y_STD = torch.maximum(torch.std(y, 0), torch.tensor(ERR, dtype = torch.float64))\n",
    "    #Y_STD = 0.1 * torch.maximum(torch.sqrt(torch.mean(torch.pow(y, 2), 0)), torch.tensor(ERR, dtype = torch.float64))\n",
    "    #Y_STD = torch.maximum(torch.sqrt(torch.mean(torch.pow(y - Y_MEAN, 2), 0)), torch.tensor(ERR, dtype = torch.float64))\n",
    "    #Y_STD = torch.sqrt(torch.mean(torch.pow(y.double(), 2), 0)).float()"
   ]
  },
  {
   "cell_type": "code",
   "execution_count": 12,
   "metadata": {},
   "outputs": [
    {
     "data": {
      "text/plain": [
       "<function torch._VariableFunctionsClass.abs>"
      ]
     },
     "execution_count": 12,
     "metadata": {},
     "output_type": "execute_result"
    }
   ],
   "source": [
    "torch.abs"
   ]
  },
  {
   "cell_type": "markdown",
   "metadata": {},
   "source": [
    "# TRAIN VAL FUNCTIONS"
   ]
  },
  {
   "cell_type": "code",
   "execution_count": 60,
   "metadata": {},
   "outputs": [],
   "source": [
    "def train_fn(\n",
    "    model: nn.Module, \n",
    "    loader: DataLoader, \n",
    "    optimizer: optim.Optimizer, \n",
    "    criterion: nn.Module,\n",
    ") -> float:\n",
    "    \"\"\"\n",
    "    Train the deep learning model for 1 epoch.\n",
    "    \n",
    "    Parameters\n",
    "    ----------\n",
    "    model : torch.nn.Module\n",
    "        The PyTorch model to be trained.\n",
    "    loader : torch.utils.data.DataLoader\n",
    "        DataLoader for the training data.\n",
    "    optimizer : torch.optim.Optimizer\n",
    "        Optimizer used for the backpropagation.\n",
    "    criterion : torch.nn.Module\n",
    "        Loss function used to compute the loss between the predicted and true values.\n",
    "\n",
    "    Returns\n",
    "    -------\n",
    "    float\n",
    "        The average training loss over the epoch.\n",
    "    \"\"\"\n",
    "    \n",
    "    criterion_arc = ArcFaceLoss(384, emb_dim, margin=14.3, scale=64).to(DEVICE)\n",
    "    \n",
    "    progress_bar = tqdm(enumerate(loader, start=1), total=len(loader), ncols=100)\n",
    "    progress_bar.set_description(f'Epoch {epoch}')\n",
    "    model.train()\n",
    "    \n",
    "    train_loss = 0\n",
    "    train_arc_loss = 0\n",
    "\n",
    "    if epoch >= 10:\n",
    "        model.loc_arcface.training = False\n",
    "\n",
    "    \n",
    "    for step, batch in progress_bar:\n",
    "        x, y, l = batch\n",
    "        x, y, l = x.to(DEVICE), y.to(DEVICE), l.to(DEVICE)\n",
    "\n",
    "        MIN_STAT = LOC_Y_MIN[l].to(DEVICE)\n",
    "        MAX_STAT = LOC_Y_MAX[l].to(DEVICE)\n",
    "        \n",
    "        optimizer.zero_grad()\n",
    "        y_pred = model(x)\n",
    "        loc_pred = y_pred['locations_emb']\n",
    "        y_pred = y_pred['output']\n",
    "\n",
    "        loss_arc = criterion_arc(loc_pred, l.long())\n",
    "        constrain_max = (torch.maximum(y_pred - MAX_STAT, torch.tensor(0)) * LOSS_SCALE_TORCH).mean() \n",
    "        constrain_min = (torch.maximum(MIN_STAT - y_pred, torch.tensor(0)) * LOSS_SCALE_TORCH).mean()   \n",
    "\n",
    "        loss = criterion(y_pred, y).mean()\n",
    "        loss = loss + 0.5*constrain_max + constrain_min\n",
    "\n",
    "        if model.loc_arcface.training:\n",
    "            loss = loss + loss_arc*0.01\n",
    "        \n",
    "        loss.backward()\n",
    "        # Clip gradients\n",
    "        nn.utils.clip_grad_norm_(model.parameters(), 5.0)\n",
    "        \n",
    "        optimizer.step()\n",
    "\n",
    "        train_loss += loss.item()\n",
    "        train_arc_loss += loss_arc.item()\n",
    "        \n",
    "        progress_bar.set_postfix({\n",
    "            'LR': f'{scheduler.get_last_lr()[0]:.6f}',\n",
    "            'train_loss': train_loss / step,\n",
    "            'arc_loss': train_arc_loss / step,    \n",
    "        })\n",
    "        \n",
    "    return train_loss/step"
   ]
  },
  {
   "cell_type": "code",
   "execution_count": 14,
   "metadata": {},
   "outputs": [],
   "source": [
    "def valid_fn(model: nn.Module, loader: DataLoader) -> float:\n",
    "    \"\"\"\n",
    "    Validate the deep learning model for 1 epoch.\n",
    "    \n",
    "    Parameters\n",
    "    ----------\n",
    "    model : torch.nn.Module\n",
    "        The PyTorch model to be validated.\n",
    "    loader : torch.utils.data.DataLoader\n",
    "        DataLoader for the validation data.\n",
    "\n",
    "    Returns\n",
    "    -------\n",
    "    float\n",
    "        The average R2 score over the validation epoch.\n",
    "    \"\"\"\n",
    "    \n",
    "    progress_bar = tqdm(enumerate(loader, start=1), total=len(loader), ncols=100)\n",
    "    progress_bar.set_description(f'Epoch {epoch}')\n",
    "    model.eval()\n",
    "    val_score = 0\n",
    "\n",
    "    val_r2_full = 0\n",
    "    val_mse = 0\n",
    "    y_true = []\n",
    "    y_preds = []\n",
    "    with torch.no_grad():\n",
    "        for step, batch in progress_bar:\n",
    "            x, y, _ = batch\n",
    "            x, y = x.to(DEVICE), y.to(DEVICE)\n",
    "            \n",
    "            y_pred = model(x)\n",
    "            y_pred = y_pred['output']\n",
    "            \n",
    "            y = y.cpu().to(torch.float64)\n",
    "            y_pred = y_pred.cpu().to(torch.float64)\n",
    "            \n",
    "            val_mse += metrics.mean_squared_error(y, y_pred)\n",
    "\n",
    "            y = (y * Y_STD) + Y_MEAN\n",
    "            #y = (y * Y_STD)\n",
    "            \n",
    "            \n",
    "            #y_pred[:, Y_STD == 0] = Y_MEAN[:, Y_STD == 0]\n",
    "            y_pred = (y_pred * Y_STD) + Y_MEAN\n",
    "            #y_pred = (y_pred * Y_STD)         \n",
    "                \n",
    "            y_pred /= torch.tensor(SCALE_WEIGHTS, dtype = torch.float64)\n",
    "            y /= torch.tensor(SCALE_WEIGHTS, dtype = torch.float64)\n",
    "            \n",
    "            val_score += r2_score(y_pred, y)\n",
    "\n",
    "            \n",
    "            \n",
    "            # progress_bar.set_postfix({\n",
    "            #     'valid_score': val_score / step,\n",
    "            # })\n",
    "    \n",
    "            y_true.append(y)\n",
    "            y_preds.append(y_pred)\n",
    "\n",
    "            if step == len(loader):\n",
    "                val_r2_full = r2_score_clipped(torch.vstack(y_preds).to(torch.float64), torch.vstack(y_true).to(torch.float64))\n",
    "               \n",
    "            progress_bar.set_postfix({\n",
    "                    'val_sc': val_score / step,\n",
    "                    'val_mse': val_mse / step,\n",
    "                    'val_r2': val_r2_full,            \n",
    "                })\n",
    "            \n",
    "    return val_score/step, val_mse/step, val_r2_full     "
   ]
  },
  {
   "cell_type": "code",
   "execution_count": 15,
   "metadata": {},
   "outputs": [],
   "source": [
    "def pred_fn(model: nn.Module, df_test: pl.DataFrame):\n",
    "    \"\"\"\n",
    "    Generate predictions using the trained model on the test data.\n",
    "    \n",
    "    Parameters\n",
    "    ----------\n",
    "    model : torch.nn.Module\n",
    "        The PyTorch model used for making predictions.\n",
    "    df_test : pl.DataFrame\n",
    "        DataFrame containing the test data.\n",
    "\n",
    "    Returns\n",
    "    -------\n",
    "    np.ndarray\n",
    "        The predicted values, denormalized.\n",
    "    \"\"\"\n",
    "    model.eval()\n",
    "\n",
    "    x_test = df_test[FEATURE_NAMES]\n",
    "    \n",
    "    \n",
    "    \n",
    "    \n",
    "    x_test = x_test.to_numpy()\n",
    "    x_test = torch.from_numpy(x_test)\n",
    "    \n",
    "    x_test = (x_test - X_MEAN) / X_STD\n",
    "    \n",
    "    x_test = x_test.to(torch.float32)\n",
    "    x_test = x_test.to(DEVICE)\n",
    "\n",
    "    with torch.no_grad():\n",
    "        y_pred = model(x_test)\n",
    "        \n",
    "    y_pred = y_pred.cpu()\n",
    "    y_pred = y_pred.to(torch.float64)\n",
    "    \n",
    "    y_pred[:, Y_STD == 0] = Y_MEAN[:, Y_STD == 0]\n",
    "    y_pred = (y_pred * Y_STD) + Y_MEAN\n",
    "    \n",
    "    y_pred = y_pred.detach()\n",
    "    y_pred = y_pred.cpu()\n",
    "    y_pred = y_pred.numpy()\n",
    "    \n",
    "    return y_pred"
   ]
  },
  {
   "cell_type": "markdown",
   "metadata": {},
   "source": [
    "### LeapDataset Class for Handling CSV Data in PyTorch"
   ]
  },
  {
   "cell_type": "code",
   "execution_count": 16,
   "metadata": {},
   "outputs": [],
   "source": [
    "class LeapDataset(Dataset):\n",
    "    def __init__(self, file_path, x_features, y_features, y_weights):\n",
    "        \"\"\"\n",
    "        Initializes the LeapDataset.\n",
    "\n",
    "        Parameters\n",
    "        ----------\n",
    "        file_path : str\n",
    "            Path to the parquet file containing the dataset.\n",
    "        x_features : list of str\n",
    "            List of feature names for the input data.\n",
    "        y_features : list of str\n",
    "            List of feature names for the target data.\n",
    "        y_weights : torch.Tensor\n",
    "            Weights to be applied to the target data.\n",
    "        \"\"\"\n",
    "        \n",
    "        super().__init__()\n",
    "        \n",
    "        #data = pd.read_parquet(file_path)\n",
    "        \n",
    "        self.x = pd.read_parquet(file_path, columns = x_features)\n",
    "        self.x = self.x.to_numpy()\n",
    "        self.x = torch.from_numpy(self.x)\n",
    "        \n",
    "        self.y = pd.read_parquet(file_path, columns = y_features)\n",
    "        self.y = self.y.to_numpy()\n",
    "        self.y = torch.from_numpy(self.y)#.to(torch.float64)\n",
    "\n",
    "        self.loc = pd.read_parquet(file_path, columns = ['sample_id'])\n",
    "        self.loc = self.loc.sample_id.map(lambda x: int(x.split('_')[-1])%384).to_numpy().astype(np.int16)\n",
    "        self.loc = torch.from_numpy(self.loc)\n",
    "        \n",
    "        #self.y = self.y * y_weights\n",
    "        \n",
    "    def __getitem__(self, idx):\n",
    "        x = self.x[idx]\n",
    "        y = self.y[idx]\n",
    "        l = self.loc[idx]\n",
    "        \n",
    "        #x = (x - X_MEAN) / X_STD\n",
    "        #y = (y - Y_MEAN) / Y_STD\n",
    "\n",
    "        #x = (x - X_MEAN) / X_STD\n",
    "        #y = y / Y_STD\n",
    "        \n",
    "        #y = torch.nan_to_num(y)\n",
    "        \n",
    "        x = x.to(torch.float32)\n",
    "        y = y.to(torch.float32)\n",
    "        l = l.to(torch.int32)\n",
    "        \n",
    "        return x, y, l\n",
    "    \n",
    "    def __len__(self):\n",
    "        return len(self.y)\n",
    "    \n",
    "    \n",
    "class LeapDatasetTest(Dataset):\n",
    "    def __init__(self, df_test, x_features):\n",
    "        \"\"\"\n",
    "        Initializes the LeapDataset.\n",
    "\n",
    "        Parameters\n",
    "        ----------\n",
    "        file_path : str\n",
    "            Path to the parquet file containing the dataset.\n",
    "        x_features : list of str\n",
    "            List of feature names for the input data.\n",
    "        y_features : list of str\n",
    "            List of feature names for the target data.\n",
    "        y_weights : torch.Tensor\n",
    "            Weights to be applied to the target data.\n",
    "        \"\"\"\n",
    "        \n",
    "        super().__init__()\n",
    "        \n",
    "        \n",
    "        self.x = df_test[x_features]\n",
    "        self.x = self.x.to_numpy()\n",
    "        self.x = torch.from_numpy(self.x)\n",
    "        \n",
    "\n",
    "    def __getitem__(self, idx):\n",
    "        x = self.x[idx]\n",
    "\n",
    "        \n",
    "        x = (x - X_MEAN) / X_STD\n",
    "        x = x.to(torch.float32)\n",
    "        return x\n",
    "    \n",
    "    def __len__(self):\n",
    "        return len(self.x)"
   ]
  },
  {
   "cell_type": "code",
   "execution_count": null,
   "metadata": {},
   "outputs": [],
   "source": []
  },
  {
   "cell_type": "code",
   "execution_count": 17,
   "metadata": {},
   "outputs": [],
   "source": [
    "def pred_fn(model: nn.Module, df_test: pl.DataFrame):\n",
    "    \"\"\"\n",
    "    Generate predictions using the trained model on the test data.\n",
    "    \n",
    "    Parameters\n",
    "    ----------\n",
    "    model : torch.nn.Module\n",
    "        The PyTorch model used for making predictions.\n",
    "    df_test : pl.DataFrame\n",
    "        DataFrame containing the test data.\n",
    "\n",
    "    Returns\n",
    "    -------\n",
    "    np.ndarray\n",
    "        The predicted values, denormalized.\n",
    "    \"\"\"\n",
    "    model.eval()\n",
    "  \n",
    "    ds_test = LeapDatasetTest(df_test, FEATURE_NAMES)\n",
    "    \n",
    "    test_loader = DataLoader(\n",
    "        ds_test, \n",
    "        batch_size=BATCH_SIZE, \n",
    "        shuffle=False, \n",
    "        drop_last=False,\n",
    "    )\n",
    "\n",
    "    \n",
    "    progress_bar = tqdm(enumerate(test_loader, start=1), total=len(test_loader), ncols=100)\n",
    "    \n",
    "    preds = []\n",
    "    \n",
    "    with torch.no_grad():\n",
    "        for step, batch in progress_bar:\n",
    "            x = batch\n",
    "            x = x.to(DEVICE)\n",
    "            \n",
    "            y_pred = model(x)\n",
    "            y_pred = y_pred['output']\n",
    "            \n",
    "            y_pred = y_pred.cpu()\n",
    "            y_pred = y_pred.to(torch.float64)\n",
    "\n",
    "            #y_pred[:, Y_STD < (1.1 * ERR)] = 0\n",
    "            y_pred = (y_pred * Y_STD) + Y_MEAN\n",
    "\n",
    "            y_pred = y_pred.detach()\n",
    "            y_pred = y_pred.cpu()\n",
    "            y_pred = y_pred.numpy()\n",
    "            \n",
    "            preds.append(y_pred)\n",
    "            \n",
    "    return np.vstack(preds)"
   ]
  },
  {
   "cell_type": "markdown",
   "metadata": {},
   "source": [
    "### Custom Model"
   ]
  },
  {
   "cell_type": "code",
   "execution_count": 18,
   "metadata": {},
   "outputs": [],
   "source": [
    "class ECA(nn.Module):\n",
    "    def __init__(self, kernel_size=5):\n",
    "        super().__init__()\n",
    "        self.kernel_size = kernel_size\n",
    "        self.supports_masking = True\n",
    "        self.conv = nn.Conv1d(in_channels=1, out_channels=1, kernel_size=kernel_size, stride=1, padding=\"same\", bias=False)\n",
    "    def forward(self, inputs):\n",
    "        b, c, s = inputs.shape\n",
    "        \n",
    "        x = torch.mean(inputs, axis = -1)\n",
    "        x = x.view(b, 1, c)\n",
    "        x = self.conv(x)\n",
    "        x = x.squeeze(1)\n",
    "        x = nn.Sigmoid()(x)\n",
    "        x = x[:,:,None]\n",
    "        return inputs * x\n",
    "\n",
    "\n",
    "class CausalDWConv1D(nn.Module):\n",
    "    def __init__(self, \n",
    "        kernel_size=17,\n",
    "        dilation_rate=1,\n",
    "        use_bias=False,\n",
    "        in_channels = 64,\n",
    "        out_channels = 32,       \n",
    "        depthwise_initializer='glorot_uniform',\n",
    "        **kwargs):\n",
    "        super().__init__()\n",
    "        #self.causal_pad = tf.keras.layers.ZeroPadding1D((dilation_rate*(kernel_size-1),0),name=name + '_pad')\n",
    "        self.dw_conv = nn.Conv1d(\n",
    "            in_channels, \n",
    "            out_channels, \n",
    "            kernel_size, \n",
    "            stride=1, \n",
    "            padding='same', \n",
    "            dilation=dilation_rate, \n",
    "            groups=out_channels if kernel_size > 3 else 1,\n",
    "            bias=False, \n",
    "            padding_mode='zeros')\n",
    "\n",
    "        \n",
    "    def forward(self, inputs):\n",
    "        x = self.dw_conv(inputs)\n",
    "        return x\n",
    "\n",
    "\n",
    "class Conv1DBlock(nn.Module):\n",
    "    def __init__(self, \n",
    "                 kernel_size=17,\n",
    "                 channels = 32,\n",
    "                 expand_channels = 64,\n",
    "                 drop_rate=0.0,\n",
    "                ):\n",
    "        super().__init__()\n",
    "        self.kernel_size = kernel_size\n",
    "        self.conv = CausalDWConv1D(\n",
    "                        kernel_size=kernel_size,\n",
    "                        dilation_rate=1,\n",
    "                        use_bias=False,\n",
    "                        in_channels = expand_channels,\n",
    "                        out_channels = expand_channels\n",
    "                    )\n",
    "        self.dnn_expand = nn.Linear(in_features = channels, \n",
    "                                    out_features = expand_channels\n",
    "                                     )\n",
    "        self.dnn_project = nn.Linear(in_features = expand_channels, \n",
    "                             out_features = channels\n",
    "                                    )\n",
    "        self.bn = nn.BatchNorm1d(num_features = expand_channels, eps=0.95)\n",
    "        self.eca = ECA()\n",
    "        self.dropout = nn.Dropout(drop_rate)\n",
    "        self.act = nn.SiLU()\n",
    "\n",
    "    def forward(self, inputs):\n",
    "        skip = inputs\n",
    "\n",
    "        x = inputs.permute([0,2,1])\n",
    "        x = self.dnn_expand(x)\n",
    "        \n",
    "        x = x.permute([0,2,1])\n",
    "        x = self.act(x)\n",
    "        x = self.conv(x)\n",
    "        x = self.bn(x)\n",
    "        x = self.eca(x)\n",
    "        \n",
    "        x = x.permute([0,2,1])\n",
    "        x = self.dnn_project(x)\n",
    "        x = x.permute([0,2,1])\n",
    "\n",
    "        return x + skip\n",
    "\n",
    "\n",
    "        "
   ]
  },
  {
   "cell_type": "code",
   "execution_count": 19,
   "metadata": {},
   "outputs": [],
   "source": [
    "\n",
    "class FeedFoward(nn.Module):\n",
    "    \"\"\" a simple linear layer followed by a non-linearity \"\"\"\n",
    "\n",
    "    def __init__(self, n_embd, dropout):\n",
    "        super().__init__()\n",
    "        self.net = nn.Sequential(\n",
    "            nn.Linear(n_embd, 2 * n_embd),\n",
    "            nn.ReLU(),\n",
    "            nn.Linear(2 * n_embd, n_embd),\n",
    "            nn.Dropout(dropout),\n",
    "        )\n",
    "\n",
    "    def forward(self, x):\n",
    "        return self.net(x)\n",
    "        \n",
    "\n",
    "class Block(nn.Module):\n",
    "    \"\"\" Transformer block: communication followed by computation \"\"\"\n",
    "\n",
    "    def __init__(self, n_embd, n_head, dropout):\n",
    "        # n_embd: embedding dimension, n_head: the number of heads we'd like\n",
    "        super().__init__()\n",
    "        head_size = n_embd // n_head\n",
    "        self.sa = nn.MultiheadAttention(n_embd, n_head)\n",
    "        self.ffwd = FeedFoward(n_embd, dropout)\n",
    "        self.ln1 = nn.LayerNorm(n_embd)\n",
    "        self.ln2 = nn.LayerNorm(n_embd)\n",
    "\n",
    "    def forward(self, x, q = None):\n",
    "        if q is not None:\n",
    "            X = (q, x, x)\n",
    "        else:\n",
    "            X = (x, x, x)\n",
    "        y = self.sa(*X)\n",
    "        y = y[0]\n",
    "        \n",
    "        x = self.ln1(x + y)\n",
    "        y = self.ffwd(x)\n",
    "        x = self.ln2(x + y)\n",
    "        return x\n"
   ]
  },
  {
   "cell_type": "code",
   "execution_count": 20,
   "metadata": {},
   "outputs": [],
   "source": [
    "class ConvTransBlock(nn.Module):\n",
    "    def __init__(self, block_kernels = [5, 3], n_head = 4, channels=16, expand_channels=32, drop_rate = 0.1, att_drop_rate = 0.25, n_features=25):\n",
    "        # n_embd: embedding dimension, n_head: the number of heads we'd like\n",
    "        super().__init__()\n",
    "        self.conv = nn.Sequential(*[\n",
    "            Conv1DBlock(kernel_size=k, channels = channels,expand_channels = expand_channels, drop_rate=drop_rate)\n",
    "            for k in block_kernels\n",
    "        ])\n",
    "\n",
    "        self.block = Block(n_embd = channels, n_head=n_head, dropout = att_drop_rate)\n",
    "\n",
    "    def forward(self, x):\n",
    "        x = self.conv(x)\n",
    "        x = x.permute([0,2,1])\n",
    "        x = self.block(x)\n",
    "        x = x.permute([0,2,1])\n",
    "        return x"
   ]
  },
  {
   "cell_type": "code",
   "execution_count": 21,
   "metadata": {},
   "outputs": [],
   "source": [
    "class TFAFeatureExctractor(nn.Module):\n",
    "    \"\"\" Transformer block: communication followed by computation \"\"\"\n",
    "\n",
    "    def __init__(self, kernel_size = 3, scale_factor= 8, n_features=25):\n",
    "        # n_embd: embedding dimension, n_head: the number of heads we'd like\n",
    "        super().__init__()\n",
    "        self.n_features = n_features\n",
    "        self.scale_factor = scale_factor\n",
    "        self.dwQ = nn.Sequential(\n",
    "            nn.Conv1d(\n",
    "                n_features, \n",
    "                int(n_features * scale_factor), \n",
    "                kernel_size, \n",
    "                stride=1, \n",
    "                padding='same', \n",
    "                groups=n_features,\n",
    "                bias=False, \n",
    "                padding_mode='zeros'),\n",
    "            Conv1DBlock(kernel_size=7, \n",
    "                        channels = int(n_features * scale_factor),\n",
    "                        expand_channels = int(n_features * scale_factor*2), \n",
    "                        drop_rate=0.2),\n",
    "            # Conv1DBlock(kernel_size=kernel_size, \n",
    "            #             channels = int(n_features * scale_factor),\n",
    "            #             expand_channels = int(n_features * scale_factor*2), \n",
    "            #             drop_rate=0.2)\n",
    "            )\n",
    "            \n",
    "\n",
    "\n",
    "        self.dwK = nn.Sequential(\n",
    "            nn.Conv1d(\n",
    "                n_features, \n",
    "                int(n_features * scale_factor), \n",
    "                kernel_size, \n",
    "                stride=1, \n",
    "                padding='same', \n",
    "                groups=1,\n",
    "                bias=False, \n",
    "                padding_mode='zeros'),\n",
    "            Conv1DBlock(kernel_size=3, \n",
    "                        channels = int(n_features * scale_factor),\n",
    "                        expand_channels = int(n_features * scale_factor*2), \n",
    "                        drop_rate=0.2),\n",
    "            # Conv1DBlock(kernel_size=kernel_size, \n",
    "            #             channels = int(n_features * scale_factor),\n",
    "            #             expand_channels = int(n_features * scale_factor*2), \n",
    "            #             drop_rate=0.2)\n",
    "            )\n",
    "\n",
    "        self.dwV = nn.Sequential(\n",
    "            nn.Conv1d(\n",
    "                n_features, \n",
    "                int(n_features * scale_factor), \n",
    "                kernel_size, \n",
    "                stride=1, \n",
    "                padding='same', \n",
    "                groups=1,\n",
    "                bias=False, \n",
    "                padding_mode='zeros'),\n",
    "            Conv1DBlock(kernel_size=kernel_size, \n",
    "                        channels = int(n_features * scale_factor),\n",
    "                        expand_channels = int(n_features * scale_factor*2), \n",
    "                        drop_rate=0.2),\n",
    "            # Conv1DBlock(kernel_size=kernel_size, \n",
    "            #             channels = int(n_features * scale_factor),\n",
    "            #             expand_channels = int(n_features * scale_factor*2), \n",
    "            #             drop_rate=0.2)\n",
    "            )\n",
    "        \n",
    "        \n",
    "        self.ln = nn.LayerNorm(int(n_features * scale_factor))\n",
    "        \n",
    "        self.sa = nn.MultiheadAttention(int(n_features * scale_factor), scale_factor//2)\n",
    "        self.ffwd = FeedFoward(int(n_features * scale_factor), dropout=0.2)\n",
    "        self.ln1 = nn.LayerNorm(int(n_features * scale_factor))\n",
    "        self.ln2 = nn.LayerNorm(int(n_features * scale_factor))\n",
    "        \n",
    "        \n",
    "    def forward(self, x):\n",
    "        x = x.view(-1, 556)\n",
    "        \n",
    "        state_t = x[:, 0:60] # - 273\n",
    "        state_q0001 = x[:, 60:120] #*1_000\n",
    "        state_q0002 = x[:, 120:180] #*1_000\n",
    "        state_q0003 = x[:, 180:240] #*1_000\n",
    "        state_u = x[:, 240:300] #/ 100\n",
    "        state_v = x[:, 300:360] #/ 100\n",
    "    \n",
    "        state_ps = x[:, 360:361] #/ 100_000 - 1\n",
    "        pbuf_SOLIN = x[:, 361:362] #/ 1000\n",
    "        pbuf_LHFLX = x[:, 362:363] #/ 1000\n",
    "        pbuf_SHFLX = x[:, 363:364] #/ 1000\n",
    "        pbuf_TAUX = x[:, 364:365] #/ 1\n",
    "        pbuf_TAUY = x[:, 365:366] #/ 1\n",
    "        pbuf_COSZRS = x[:, 366:367] #/ 1\n",
    "        cam_in_ALDIF = x[:, 367:368] #/ 1\n",
    "        cam_in_ALDIR = x[:, 368:369] #/ 1\n",
    "        cam_in_ASDIF = x[:, 369:370] #/ 1\n",
    "        cam_in_ASDIR = x[:, 370:371] #/ 1\n",
    "        cam_in_LWUP = x[:, 371:372] # / 1000\n",
    "        cam_in_ICEFRAC = x[:, 372:373] #/ 1\n",
    "        cam_in_LANDFRAC = x[:, 373:374] #/1\n",
    "        cam_in_OCNFRAC = x[:, 374:375]  #/1\n",
    "        cam_in_SNOWHLAND = x[:, 375:376]# / 1\n",
    "    \n",
    "        pbuf_ozone = x[:, 376:436] #* 100_000\n",
    "        pbuf_CH4 = x[:, 436:496] #* 100_000\n",
    "        pbuf_N2O = x[:, 496:556] #* 100_000\n",
    "            \n",
    "        inputs_60 = [\n",
    "                state_t,\n",
    "                state_q0001,\n",
    "                state_q0002,\n",
    "                state_q0003, \n",
    "                state_u,\n",
    "                state_v,\n",
    "    \n",
    "                pbuf_ozone,\n",
    "                pbuf_CH4,\n",
    "                pbuf_N2O\n",
    "        ]\n",
    "\n",
    "        inputs_flat = [            \n",
    "                torch.repeat_interleave(state_ps, 60, dim=-1),\n",
    "                torch.repeat_interleave(pbuf_SOLIN, 60, dim=-1),\n",
    "                torch.repeat_interleave(pbuf_LHFLX, 60, dim=-1),\n",
    "                torch.repeat_interleave(pbuf_SHFLX, 60, dim=-1),\n",
    "                torch.repeat_interleave(pbuf_TAUX, 60, dim=-1),\n",
    "               torch.repeat_interleave(pbuf_TAUY, 60, dim=-1),\n",
    "                torch.repeat_interleave(pbuf_COSZRS, 60, dim=-1),\n",
    "                torch.repeat_interleave(cam_in_ALDIF, 60, dim=-1),\n",
    "                torch.repeat_interleave(cam_in_ALDIR, 60, dim=-1),\n",
    "               torch.repeat_interleave(cam_in_ASDIF, 60, dim=-1),\n",
    "                torch.repeat_interleave(cam_in_ASDIR, 60, dim=-1),\n",
    "                torch.repeat_interleave(cam_in_LWUP, 60, dim=-1),\n",
    "                torch.repeat_interleave(cam_in_ICEFRAC, 60, dim=-1),\n",
    "                torch.repeat_interleave(cam_in_LANDFRAC, 60, dim=-1),\n",
    "                torch.repeat_interleave(cam_in_OCNFRAC, 60, dim=-1),\n",
    "                torch.repeat_interleave(cam_in_SNOWHLAND, 60, dim=-1),\n",
    "        ]\n",
    "\n",
    "        inputs = inputs_60 + inputs_flat\n",
    "        inputs = torch.cat([t.view(-1, 1, 60) for t in inputs], 1)\n",
    "\n",
    "        #x = inputs\n",
    "        \n",
    "        q = self.dwQ(inputs).permute([0,2,1]) #B, L, C\n",
    "        k = self.dwK(inputs).permute([0,2,1]) #B, C, L\n",
    "        v = self.dwV(inputs).permute([0,2,1]) #B, L, C\n",
    "        #f = self.dwF(inputs).permute([0,2,1])  #B, L, C\n",
    "\n",
    "        \n",
    "        y = self.sa(q, k, v)[0]\n",
    "        x = self.ln1(q + y)\n",
    "        y = self.ffwd(x)\n",
    "        x = self.ln2(x + y)\n",
    "\n",
    "        return x.permute([0,2,1]) \n",
    "        \n",
    "        \n"
   ]
  },
  {
   "cell_type": "code",
   "execution_count": 22,
   "metadata": {},
   "outputs": [
    {
     "data": {
      "text/plain": [
       "torch.Size([8, 200, 60])"
      ]
     },
     "execution_count": 22,
     "metadata": {},
     "output_type": "execute_result"
    }
   ],
   "source": [
    "TFAFeatureExctractor()(torch.rand([8,556])).shape"
   ]
  },
  {
   "cell_type": "code",
   "execution_count": 23,
   "metadata": {},
   "outputs": [],
   "source": [
    "class ConvFeatureExctractor(nn.Module):\n",
    "    \"\"\" Transformer block: communication followed by computation \"\"\"\n",
    "\n",
    "    def __init__(self, kernel_size = 3, scale_factor= 8, n_features=25):\n",
    "        # n_embd: embedding dimension, n_head: the number of heads we'd like\n",
    "        super().__init__()\n",
    "        self.n_features = n_features\n",
    "        self.scale_factor = scale_factor\n",
    "        self.dwQ = nn.Sequential(\n",
    "            nn.Conv1d(\n",
    "                n_features, \n",
    "                int(n_features * 4), \n",
    "                kernel_size, \n",
    "                stride=1, \n",
    "                padding='same', \n",
    "                groups=n_features,\n",
    "                bias=False, \n",
    "                padding_mode='zeros'),\n",
    "            Conv1DBlock(kernel_size=7, \n",
    "                        channels = int(n_features * 4),\n",
    "                        expand_channels = int(n_features * 6), \n",
    "                        drop_rate=0.1),\n",
    "\n",
    "            nn.Conv1d(\n",
    "                int(n_features * 4), \n",
    "                int(n_features * 8), \n",
    "                kernel_size, \n",
    "                stride=1, \n",
    "                padding='same', \n",
    "                groups=n_features,\n",
    "                bias=False, \n",
    "                padding_mode='zeros'),\n",
    "            Conv1DBlock(kernel_size=5, \n",
    "                        channels = int(n_features * 8),\n",
    "                        expand_channels = int(n_features * 10), \n",
    "                        drop_rate=0.1),\n",
    "\n",
    "            nn.Conv1d(\n",
    "                int(n_features * 8), \n",
    "                int(n_features * scale_factor),\n",
    "                kernel_size, \n",
    "                stride=1, \n",
    "                padding='same', \n",
    "                groups=n_features,\n",
    "                bias=False, \n",
    "                padding_mode='zeros'),\n",
    "            Conv1DBlock(kernel_size=3, \n",
    "                        channels = int(n_features * scale_factor),\n",
    "                        expand_channels = int(n_features * scale_factor*2), \n",
    "                        drop_rate=0.1),\n",
    "            )\n",
    "            \n",
    "        \n",
    "        \n",
    "    def forward(self, x):\n",
    "        x = x.view(-1, 556)\n",
    "        \n",
    "        state_t = x[:, 0:60] # - 273\n",
    "        state_q0001 = x[:, 60:120] #*1_000\n",
    "        state_q0002 = x[:, 120:180] #*1_000\n",
    "        state_q0003 = x[:, 180:240] #*1_000\n",
    "        state_u = x[:, 240:300] #/ 100\n",
    "        state_v = x[:, 300:360] #/ 100\n",
    "    \n",
    "        state_ps = x[:, 360:361] #/ 100_000 - 1\n",
    "        pbuf_SOLIN = x[:, 361:362] #/ 1000\n",
    "        pbuf_LHFLX = x[:, 362:363] #/ 1000\n",
    "        pbuf_SHFLX = x[:, 363:364] #/ 1000\n",
    "        pbuf_TAUX = x[:, 364:365] #/ 1\n",
    "        pbuf_TAUY = x[:, 365:366] #/ 1\n",
    "        pbuf_COSZRS = x[:, 366:367] #/ 1\n",
    "        cam_in_ALDIF = x[:, 367:368] #/ 1\n",
    "        cam_in_ALDIR = x[:, 368:369] #/ 1\n",
    "        cam_in_ASDIF = x[:, 369:370] #/ 1\n",
    "        cam_in_ASDIR = x[:, 370:371] #/ 1\n",
    "        cam_in_LWUP = x[:, 371:372] # / 1000\n",
    "        cam_in_ICEFRAC = x[:, 372:373] #/ 1\n",
    "        cam_in_LANDFRAC = x[:, 373:374] #/1\n",
    "        cam_in_OCNFRAC = x[:, 374:375]  #/1\n",
    "        cam_in_SNOWHLAND = x[:, 375:376]# / 1\n",
    "    \n",
    "        pbuf_ozone = x[:, 376:436] #* 100_000\n",
    "        pbuf_CH4 = x[:, 436:496] #* 100_000\n",
    "        pbuf_N2O = x[:, 496:556] #* 100_000\n",
    "            \n",
    "        inputs_60 = [\n",
    "                state_t,\n",
    "                state_q0001,\n",
    "                state_q0002,\n",
    "                state_q0003, \n",
    "                state_u,\n",
    "                state_v,\n",
    "    \n",
    "                pbuf_ozone,\n",
    "                pbuf_CH4,\n",
    "                pbuf_N2O\n",
    "        ]\n",
    "\n",
    "        inputs_flat = [            \n",
    "                torch.repeat_interleave(state_ps, 60, dim=-1),\n",
    "                torch.repeat_interleave(pbuf_SOLIN, 60, dim=-1),\n",
    "                torch.repeat_interleave(pbuf_LHFLX, 60, dim=-1),\n",
    "                torch.repeat_interleave(pbuf_SHFLX, 60, dim=-1),\n",
    "                torch.repeat_interleave(pbuf_TAUX, 60, dim=-1),\n",
    "               torch.repeat_interleave(pbuf_TAUY, 60, dim=-1),\n",
    "                torch.repeat_interleave(pbuf_COSZRS, 60, dim=-1),\n",
    "                torch.repeat_interleave(cam_in_ALDIF, 60, dim=-1),\n",
    "                torch.repeat_interleave(cam_in_ALDIR, 60, dim=-1),\n",
    "               torch.repeat_interleave(cam_in_ASDIF, 60, dim=-1),\n",
    "                torch.repeat_interleave(cam_in_ASDIR, 60, dim=-1),\n",
    "                torch.repeat_interleave(cam_in_LWUP, 60, dim=-1),\n",
    "                torch.repeat_interleave(cam_in_ICEFRAC, 60, dim=-1),\n",
    "                torch.repeat_interleave(cam_in_LANDFRAC, 60, dim=-1),\n",
    "                torch.repeat_interleave(cam_in_OCNFRAC, 60, dim=-1),\n",
    "                torch.repeat_interleave(cam_in_SNOWHLAND, 60, dim=-1),\n",
    "        ]\n",
    "\n",
    "        inputs = inputs_60 + inputs_flat\n",
    "        inputs = torch.cat([t.view(-1, 1, 60) for t in inputs], 1)\n",
    "\n",
    "        #x = inputs\n",
    "        \n",
    "        q = self.dwQ(inputs)\n",
    "\n",
    "        return q\n",
    "        \n",
    "        \n"
   ]
  },
  {
   "cell_type": "code",
   "execution_count": 24,
   "metadata": {},
   "outputs": [
    {
     "data": {
      "text/plain": [
       "torch.Size([8, 200, 60])"
      ]
     },
     "execution_count": 24,
     "metadata": {},
     "output_type": "execute_result"
    }
   ],
   "source": [
    "ConvFeatureExctractor()(torch.rand([8,556])).shape"
   ]
  },
  {
   "cell_type": "code",
   "execution_count": 25,
   "metadata": {},
   "outputs": [],
   "source": [
    "class LEADHead(nn.Module):\n",
    "    \"\"\" Transformer block: communication followed by computation \"\"\"\n",
    "\n",
    "    def __init__(self, n_embd):\n",
    "        # n_embd: embedding dimension, n_head: the number of heads we'd like\n",
    "        super().__init__()\n",
    "\n",
    "        self.act = nn.SELU()\n",
    "        self.conv_seq = nn.Conv1d(in_channels = n_embd, out_channels = 6,\n",
    "                                                kernel_size = 1,\n",
    "                                                stride=1, \n",
    "                                                padding='same')\n",
    "        \n",
    "        self.conv_flat = nn.Conv1d(in_channels = n_embd, out_channels = 8,\n",
    "                                                kernel_size = 1,\n",
    "                                                stride=1, \n",
    "                                                padding='same')\n",
    "\n",
    "        self.linear_emb = nn.Sequential(\n",
    "                            nn.Linear(480+n_embd, 256),\n",
    "                            nn.ReLU(inplace = True),\n",
    "                            nn.Dropout(0.2),\n",
    "                            nn.Linear(256, 64),\n",
    "                            nn.ReLU(inplace = True),\n",
    "                            nn.Dropout(0.2),\n",
    "                            nn.Linear(64, 8),     \n",
    "                            nn.ReLU(inplace = True)\n",
    "                        )\n",
    "                \n",
    "    def forward(self, x, emb):\n",
    "\n",
    "        #x = x.permute([0,2,1])\n",
    "        \n",
    "        p_seq = self.conv_seq(x)\n",
    "        p_seq = nn.Flatten()(p_seq)\n",
    "    \n",
    "        p_flat = self.conv_flat(x)\n",
    "        p_flat = nn.Flatten()(p_flat)\n",
    "        p_flat = self.linear_emb(torch.cat([p_flat,emb], axis=-1))\n",
    "        \n",
    "        #return 3* nn.Tanh()(torch.cat([p_seq, p_flat], axis= -1))\n",
    "        return torch.cat([p_seq, p_flat], axis= -1)"
   ]
  },
  {
   "cell_type": "code",
   "execution_count": 26,
   "metadata": {},
   "outputs": [],
   "source": [
    "class LEADHead(nn.Module):\n",
    "    \"\"\" Transformer block: communication followed by computation \"\"\"\n",
    "\n",
    "    def __init__(self, n_embd):\n",
    "        # n_embd: embedding dimension, n_head: the number of heads we'd like\n",
    "        super().__init__()\n",
    "\n",
    "        self.act = nn.SELU()\n",
    "        self.conv_seq = nn.Conv1d(in_channels = n_embd, out_channels = 6*4,\n",
    "                                                kernel_size = 1,\n",
    "                                                stride=1, \n",
    "                                                padding='same')\n",
    "        \n",
    "        self.conv_flat = nn.Conv1d(in_channels = n_embd, out_channels = 8,\n",
    "                                                kernel_size = 1,\n",
    "                                                stride=1, \n",
    "                                                padding='same')\n",
    "\n",
    "        self.linear_emb = nn.Sequential(\n",
    "                            nn.Linear(480+n_embd, 256),\n",
    "                            nn.ReLU(inplace = True),\n",
    "                            nn.Dropout(0.2),\n",
    "                            nn.Linear(256, 64),\n",
    "                            nn.ReLU(inplace = True),\n",
    "                            nn.Dropout(0.2),\n",
    "                            nn.Linear(64, 8),     \n",
    "                            nn.ReLU(inplace = True)\n",
    "                        )\n",
    "\n",
    "        self.linear_360 = nn.Sequential(\n",
    "                        nn.Linear(6*4*60+n_embd, 768),\n",
    "                        nn.ReLU(inplace = True),\n",
    "                        nn.Dropout(0.2),\n",
    "                        nn.Linear(768, 512),\n",
    "                        nn.ReLU(inplace = True),\n",
    "                        nn.Dropout(0.2),\n",
    "                        nn.Linear(512, 360),     \n",
    "                    )\n",
    "\n",
    "    \n",
    "    def forward(self, x, emb):\n",
    "\n",
    "        #x = x.permute([0,2,1])\n",
    "        \n",
    "        p_seq = self.conv_seq(x)\n",
    "        p_seq = nn.Flatten()(p_seq)\n",
    "        p_seq = self.linear_360(torch.cat([p_seq,emb], axis=-1))\n",
    "    \n",
    "        p_flat = self.conv_flat(x)\n",
    "        p_flat = nn.Flatten()(p_flat)\n",
    "        p_flat = self.linear_emb(torch.cat([p_flat,emb], axis=-1))\n",
    "        \n",
    "        #return 3* nn.Tanh()(torch.cat([p_seq, p_flat], axis= -1))\n",
    "        return torch.cat([p_seq, p_flat], axis= -1)"
   ]
  },
  {
   "cell_type": "code",
   "execution_count": 27,
   "metadata": {},
   "outputs": [],
   "source": [
    "class LEADHead(nn.Module):\n",
    "    \"\"\" Transformer block: communication followed by computation \"\"\"\n",
    "\n",
    "    def __init__(self, n_embd):\n",
    "        # n_embd: embedding dimension, n_head: the number of heads we'd like\n",
    "        super().__init__()\n",
    "\n",
    "        self.act = nn.SELU()\n",
    "        self.conv_seq = nn.Conv1d(in_channels = n_embd, out_channels = 6,\n",
    "                                                kernel_size = 3,\n",
    "                                                stride=1, \n",
    "                                                padding='same')\n",
    "        \n",
    "        self.conv_flat = nn.Conv1d(in_channels = n_embd, out_channels = 8,\n",
    "                                                kernel_size = 3,\n",
    "                                                stride=1, \n",
    "                                                padding='same')\n",
    "\n",
    "        self.linear_emb = nn.Sequential(\n",
    "                            nn.Linear(480+n_embd, 256),\n",
    "                            nn.ReLU(inplace = True),\n",
    "                            nn.Dropout(0.2),\n",
    "                            nn.Linear(256, 64),\n",
    "                            nn.ReLU(inplace = True),\n",
    "                            nn.Dropout(0.2),\n",
    "                            nn.Linear(64, 8),     \n",
    "                            nn.ReLU(inplace = True)\n",
    "                        )\n",
    "                \n",
    "    def forward(self, x, emb):\n",
    "\n",
    "        #x = x.permute([0,2,1])\n",
    "        \n",
    "        p_seq = self.conv_seq(x)\n",
    "        p_seq = nn.Flatten()(p_seq)\n",
    "    \n",
    "        p_flat = self.conv_flat(x)\n",
    "        p_flat = nn.Flatten()(p_flat)\n",
    "        p_flat = self.linear_emb(torch.cat([p_flat,emb], axis=-1))\n",
    "        \n",
    "        #return 3* nn.Tanh()(torch.cat([p_seq, p_flat], axis= -1))\n",
    "        return torch.cat([p_seq, p_flat], axis= -1)"
   ]
  },
  {
   "cell_type": "code",
   "execution_count": 28,
   "metadata": {},
   "outputs": [],
   "source": [
    "class ConvMixerBlock(nn.Module):\n",
    "    def __init__(self, kernel_size = 3, channels=16, n_heads = 4):\n",
    "        # n_embd: embedding dimension, n_head: the number of heads we'd like\n",
    "        super().__init__()\n",
    "        self.dw_conv = nn.Conv1d(\n",
    "            in_channels = channels, \n",
    "            out_channels = channels, \n",
    "            kernel_size = kernel_size, \n",
    "            stride=1, \n",
    "            padding='same', \n",
    "            dilation=1, \n",
    "            groups=n_heads,\n",
    "            bias=False, \n",
    "            padding_mode='zeros')\n",
    "\n",
    "        self.pw_conv = nn.Conv1d(\n",
    "            in_channels = channels, \n",
    "            out_channels = channels, \n",
    "            kernel_size = 1, \n",
    "            stride=1, \n",
    "            padding='same', \n",
    "            dilation=1, \n",
    "            groups=1,\n",
    "            bias=False, \n",
    "            padding_mode='zeros')\n",
    "\n",
    "        self.gelu1 = nn.GELU()\n",
    "        self.gelu2 = nn.GELU()       \n",
    "        self.bn1 = nn.BatchNorm1d(channels)             \n",
    "        self.bn2 = nn.BatchNorm1d(channels)     \n",
    "\n",
    "\n",
    "    def forward(self, x):\n",
    "        y = x\n",
    "\n",
    "        x = self.dw_conv(x)\n",
    "        x = self.gelu1(x)        \n",
    "        x = self.bn1(x)\n",
    "\n",
    "        x = y + x\n",
    "        x = self.pw_conv(x)\n",
    "        x = self.gelu2(x)        \n",
    "        x = self.bn2(x)\n",
    "        \n",
    "        return x"
   ]
  },
  {
   "cell_type": "code",
   "execution_count": null,
   "metadata": {},
   "outputs": [],
   "source": []
  },
  {
   "cell_type": "code",
   "execution_count": 29,
   "metadata": {},
   "outputs": [],
   "source": [
    "# batch_size = 16\n",
    "# block_size = 256\n",
    "# max_iters = 5000\n",
    "# learning_rate = 3e-4\n",
    "# eval_iters = 100\n",
    "# n_embd = 384\n",
    "# n_head = 8\n",
    "# n_layer = 12\n",
    "# dropout = 0.2\n",
    "\n",
    "nn_config_tfa = dict(\n",
    "    n_embd = 192,\n",
    "     n_head = 6,\n",
    "    fe_channels = 32, \n",
    "    encoder_layers = 1, \n",
    "    fe_drop_rate = 0.15,\n",
    "    att_drop_rate = 0.15,\n",
    "    n_features = 25,\n",
    "    bottleneck_k_size = 3,\n",
    "    block_kernels = [3,3,3,3,3,3,3],\n",
    "    out_att_blocks = 0\n",
    ")\n",
    "\n",
    "    \n",
    "class TfaLeapModel(nn.Module):\n",
    "    def __init__(self, n_embd = 64, n_head = 4, encoder_layers = 3, fe_channels=16, fe_drop_rate=0.1, \n",
    "                 att_drop_rate=0.2, n_features = 25, bottleneck_k_size = 3, block_kernels = [5, 3], out_att_blocks=0):\n",
    "        super().__init__()\n",
    "        \n",
    "        self.fe = TFAFeatureExctractor(kernel_size = 3, scale_factor=n_head*4)\n",
    "        self.linearStem = nn.Linear(n_features * n_head * 4, n_embd)\n",
    "\n",
    "        self.blocks = nn.Sequential(*[ConvTransBlock(block_kernels = block_kernels, \n",
    "                                                     channels = n_embd, \n",
    "                                                     expand_channels = n_embd*2, \n",
    "                                                     n_head=n_head, \n",
    "                                                     drop_rate = fe_drop_rate, \n",
    "                                                     att_drop_rate = att_drop_rate) for _ in range(encoder_layers)])\n",
    "    \n",
    "        self.out_att_blocks = nn.Sequential(*[\n",
    "             Block(n_embd = n_embd, n_head=n_head, dropout = att_drop_rate)\n",
    "            for _ in range(out_att_blocks)\n",
    "        ])\n",
    "        \n",
    "        self.loc_arcface = nn.Sequential(\n",
    "            nn.Linear(556, n_embd*2),\n",
    "            nn.ReLU(inplace=True),\n",
    "            nn.LayerNorm(n_embd*2),\n",
    "            nn.Dropout(fe_drop_rate),\n",
    "            nn.Linear(n_embd*2, n_embd),\n",
    "            nn.ReLU(inplace=True),\n",
    "            nn.Dropout(fe_drop_rate),\n",
    "            nn.Linear(n_embd, n_embd)\n",
    "        )\n",
    "        \n",
    "        self.head  = LEADHead(n_embd = n_embd)\n",
    "        self.apply(self._init_weights)\n",
    "\n",
    "    def _init_weights(self, module):\n",
    "        if isinstance(module, nn.Linear):\n",
    "            torch.nn.init.normal_(module.weight, mean=0.0, std=0.02)\n",
    "            if module.bias is not None:\n",
    "                torch.nn.init.zeros_(module.bias)\n",
    "        elif isinstance(module, nn.Embedding):\n",
    "            torch.nn.init.normal_(module.weight, mean=0.0, std=0.02)\n",
    "\n",
    "\n",
    "\n",
    "    def forward(self, inputs, targets=None):\n",
    "        #B, T = inputs.shape\n",
    "\n",
    "        emb = self.loc_arcface(inputs)\n",
    "        \n",
    "        xf = self.fe(inputs)\n",
    "        xf = xf.permute([0,2,1])\n",
    "        xf = self.linearStem(xf)\n",
    "        xf = xf.permute([0,2,1])\n",
    "        #xf = self.bottleneck(xf)\n",
    "        x = xf#.permute([0,2,1])\n",
    "        \n",
    "        x = self.blocks(x)\n",
    "\n",
    "        x = x.permute([0,2,1])\n",
    "        x = self.out_att_blocks(x)\n",
    "        x = x.permute([0,2,1])\n",
    "        \n",
    "        out = self.head(x, emb)\n",
    "        return out"
   ]
  },
  {
   "cell_type": "code",
   "execution_count": 30,
   "metadata": {},
   "outputs": [
    {
     "data": {
      "text/plain": [
       "torch.Size([8, 368])"
      ]
     },
     "execution_count": 30,
     "metadata": {},
     "output_type": "execute_result"
    }
   ],
   "source": [
    "TfaLeapModel(**nn_config_tfa)(torch.rand([8,556])).shape"
   ]
  },
  {
   "cell_type": "code",
   "execution_count": 31,
   "metadata": {},
   "outputs": [],
   "source": [
    "\n",
    "\n",
    "# batch_size = 16\n",
    "# block_size = 256\n",
    "# max_iters = 5000\n",
    "# learning_rate = 3e-4\n",
    "# eval_iters = 100\n",
    "# n_embd = 384\n",
    "# n_head = 8\n",
    "# n_layer = 12\n",
    "# dropout = 0.2\n",
    "\n",
    "nn_config_mixer = dict(\n",
    "    n_embd = 384,\n",
    "     n_head = 6,\n",
    "    fe_channels = 32, \n",
    "    encoder_layers = 8, \n",
    "    fe_drop_rate = 0.15,\n",
    "    att_drop_rate = 0.15,\n",
    "    n_features = 25,\n",
    "    bottleneck_k_size = 3,\n",
    "    block_kernels = [3,3,3,3,3,3,3],\n",
    "    out_att_blocks = 8\n",
    ")\n",
    "\n",
    "nn_config_mixer = dict(\n",
    "    n_embd = 192,\n",
    "     n_head = 6,\n",
    "    fe_channels = 32, \n",
    "    encoder_layers = 8, \n",
    "    fe_drop_rate = 0.15,\n",
    "    att_drop_rate = 0.15,\n",
    "    n_features = 25,\n",
    "    bottleneck_k_size = 3,\n",
    "    block_kernels = [3,3,3,3,3,3,3],\n",
    "    out_att_blocks = 8\n",
    ")\n",
    "\n",
    "class ArcConvMixerModel(nn.Module):\n",
    "    def __init__(self, n_embd = 64, n_head = 4, encoder_layers = 3, fe_channels=16, fe_drop_rate=0.1, \n",
    "                 att_drop_rate=0.2, n_features = 25, bottleneck_k_size = 3, block_kernels = [5, 3], out_att_blocks=0):\n",
    "        super().__init__()\n",
    "        \n",
    "        #self.fe = TFAFeatureExctractor(kernel_size = 3, scale_factor=n_head*4)\n",
    "        self.fe = ConvFeatureExctractor(kernel_size = 3, scale_factor=n_head*4)\n",
    "        \n",
    "        self.linearStem = nn.Linear(n_features * n_head * 4, n_embd-16)\n",
    "        #self.linearStem = ConvStem(kernel_size = 3, in_channels=n_features * n_head * 4, out_channels = n_embd)\n",
    "\n",
    "        self.blocks = nn.Sequential(*[ConvMixerBlock(kernel_size = 3, \n",
    "                                                     channels = n_embd, \n",
    "                                                     n_heads=n_head) for _ in range(encoder_layers)])\n",
    "    \n",
    "        self.out_att_blocks = nn.Sequential(*[\n",
    "             Block(n_embd = n_embd, n_head=n_head, dropout = att_drop_rate)\n",
    "            for _ in range(out_att_blocks)\n",
    "        ])\n",
    "        \n",
    "        self.loc_arcface = nn.Sequential(\n",
    "            nn.Linear(556, n_embd*2),\n",
    "            nn.ReLU(inplace=True),\n",
    "            nn.LayerNorm(n_embd*2),\n",
    "            nn.Dropout(fe_drop_rate),\n",
    "            nn.Linear(n_embd*2, n_embd),\n",
    "            nn.ReLU(inplace=True),\n",
    "            nn.Dropout(fe_drop_rate),\n",
    "            nn.Linear(n_embd, n_embd),\n",
    "            nn.LayerNorm(n_embd)\n",
    "        )\n",
    "\n",
    "        self.loc_arcface_proj =  nn.Linear(n_embd, 16)\n",
    "        \n",
    "        self.head  = LEADHead(n_embd = n_embd)\n",
    "        self.apply(self._init_weights)\n",
    "        self.n_embd = n_embd\n",
    "    \n",
    "    def _init_weights(self, module):\n",
    "        if isinstance(module, nn.Linear):\n",
    "            torch.nn.init.normal_(module.weight, mean=0.0, std=0.02)\n",
    "            if module.bias is not None:\n",
    "                torch.nn.init.zeros_(module.bias)\n",
    "        elif isinstance(module, nn.Embedding):\n",
    "            torch.nn.init.normal_(module.weight, mean=0.0, std=0.02)\n",
    "\n",
    "\n",
    "\n",
    "    def forward(self, inputs, targets=None):\n",
    "        #B, T = inputs.shape\n",
    "\n",
    "        emb = self.loc_arcface(inputs)\n",
    "        xlf = self.loc_arcface_proj(emb)\n",
    "        \n",
    "        xlf = torch.repeat_interleave(xlf.view(-1,1,16), 60, dim=1)\n",
    "        \n",
    "        xf = self.fe(inputs)\n",
    "        xf = xf.permute([0,2,1])\n",
    "        xf = self.linearStem(xf)\n",
    "    \n",
    "        xf = torch.cat([xf, xlf], -1)\n",
    "        \n",
    "        xf = xf.permute([0,2,1])\n",
    "        #xf = self.bottleneck(xf)\n",
    "        x = xf#.permute([0,2,1])\n",
    "        \n",
    "        x = self.blocks(x)\n",
    "\n",
    "        x = x.permute([0,2,1])\n",
    "        x = self.out_att_blocks(x)\n",
    "        x = x.permute([0,2,1])\n",
    "        \n",
    "        out = self.head(x, emb)\n",
    "        return {'output': out, 'locations_emb': emb}"
   ]
  },
  {
   "cell_type": "code",
   "execution_count": 32,
   "metadata": {},
   "outputs": [],
   "source": [
    "\n",
    "\n",
    "# batch_size = 16\n",
    "# block_size = 256\n",
    "# max_iters = 5000\n",
    "# learning_rate = 3e-4\n",
    "# eval_iters = 100\n",
    "# n_embd = 384\n",
    "# n_head = 8\n",
    "# n_layer = 12\n",
    "# dropout = 0.2\n",
    "\n",
    "nn_config_mixer = dict(\n",
    "    n_embd = 384,\n",
    "     n_head = 6,\n",
    "    fe_channels = 32, \n",
    "    encoder_layers = 8, \n",
    "    fe_drop_rate = 0.15,\n",
    "    att_drop_rate = 0.15,\n",
    "    n_features = 25,\n",
    "    bottleneck_k_size = 3,\n",
    "    block_kernels = [3,3,3,3,3,3,3],\n",
    "    out_att_blocks = 8\n",
    ")\n",
    "\n",
    "nn_config_mixer = dict(\n",
    "    n_embd = 192,\n",
    "     n_head = 6,\n",
    "    fe_channels = 32, \n",
    "    encoder_layers = 8, \n",
    "    fe_drop_rate = 0.15,\n",
    "    att_drop_rate = 0.15,\n",
    "    n_features = 25,\n",
    "    bottleneck_k_size = 3,\n",
    "    block_kernels = [3,3,3,3,3,3,3],\n",
    "    out_att_blocks = 8\n",
    ")\n",
    "\n",
    "class ArcConvMixerModel(nn.Module):\n",
    "    def __init__(self, n_embd = 64, n_head = 4, encoder_layers = 3, fe_channels=16, fe_drop_rate=0.1, \n",
    "                 att_drop_rate=0.2, n_features = 25, bottleneck_k_size = 3, block_kernels = [5, 3], out_att_blocks=0):\n",
    "        super().__init__()\n",
    "        \n",
    "        #self.fe = TFAFeatureExctractor(kernel_size = 3, scale_factor=n_head*4)\n",
    "        self.fe = ConvFeatureExctractor(kernel_size = 3, scale_factor=n_head*4)\n",
    "        \n",
    "        self.linearStem = nn.Linear(n_features * n_head * 4, n_embd)\n",
    "        #self.linearStem = ConvStem(kernel_size = 3, in_channels=n_features * n_head * 4, out_channels = n_embd)\n",
    "\n",
    "        self.blocks = nn.Sequential(*[ConvMixerBlock(kernel_size = 3, \n",
    "                                                     channels = n_embd, \n",
    "                                                     n_heads=n_head) for _ in range(encoder_layers)])\n",
    "    \n",
    "        self.out_att_blocks = nn.Sequential(*[\n",
    "             Block(n_embd = n_embd, n_head=n_head, dropout = att_drop_rate)\n",
    "            for _ in range(out_att_blocks)\n",
    "        ])\n",
    "        \n",
    "        self.loc_arcface = nn.Sequential(\n",
    "            nn.Linear(556, n_embd*2),\n",
    "            nn.ReLU(inplace=True),\n",
    "            nn.LayerNorm(n_embd*2),\n",
    "            nn.Dropout(fe_drop_rate),\n",
    "            nn.Linear(n_embd*2, n_embd),\n",
    "            nn.ReLU(inplace=True),\n",
    "            nn.Dropout(fe_drop_rate),\n",
    "            nn.Linear(n_embd, n_embd),\n",
    "            nn.LayerNorm(n_embd)\n",
    "        )\n",
    "        \n",
    "        self.head  = LEADHead(n_embd = n_embd)\n",
    "        self.apply(self._init_weights)\n",
    "        self.n_embd = n_embd\n",
    "    \n",
    "    def _init_weights(self, module):\n",
    "        if isinstance(module, nn.Linear):\n",
    "            torch.nn.init.normal_(module.weight, mean=0.0, std=0.02)\n",
    "            if module.bias is not None:\n",
    "                torch.nn.init.zeros_(module.bias)\n",
    "        elif isinstance(module, nn.Embedding):\n",
    "            torch.nn.init.normal_(module.weight, mean=0.0, std=0.02)\n",
    "\n",
    "\n",
    "\n",
    "    def forward(self, inputs, targets=None):\n",
    "        #B, T = inputs.shape\n",
    "\n",
    "        emb = self.loc_arcface(inputs)\n",
    "        xlf = torch.repeat_interleave(emb.view(-1,1,self.n_embd), 60, dim=1)\n",
    "        \n",
    "        xf = self.fe(inputs)\n",
    "        xf = xf.permute([0,2,1])\n",
    "        xf = self.linearStem(xf)\n",
    "    \n",
    "        xf = xf + xlf\n",
    "        \n",
    "        xf = xf.permute([0,2,1])\n",
    "        #xf = self.bottleneck(xf)\n",
    "        x = xf#.permute([0,2,1])\n",
    "        \n",
    "        x = self.blocks(x)\n",
    "\n",
    "        x = x.permute([0,2,1])\n",
    "        x = self.out_att_blocks(x)\n",
    "        x = x.permute([0,2,1])\n",
    "        \n",
    "        out = self.head(x, emb)\n",
    "        return {'output': out, 'locations_emb': emb}"
   ]
  },
  {
   "cell_type": "code",
   "execution_count": 33,
   "metadata": {},
   "outputs": [
    {
     "data": {
      "text/plain": [
       "torch.Size([8, 368])"
      ]
     },
     "execution_count": 33,
     "metadata": {},
     "output_type": "execute_result"
    }
   ],
   "source": [
    "ArcConvMixerModel(**nn_config_mixer)(torch.rand([8,556]))['output'].shape"
   ]
  },
  {
   "cell_type": "code",
   "execution_count": 34,
   "metadata": {},
   "outputs": [
    {
     "data": {
      "text/plain": [
       "torch.Size([8, 192])"
      ]
     },
     "execution_count": 34,
     "metadata": {},
     "output_type": "execute_result"
    }
   ],
   "source": [
    "ArcConvMixerModel(**nn_config_mixer)(torch.rand([8,556]))['locations_emb'].shape"
   ]
  },
  {
   "cell_type": "code",
   "execution_count": 35,
   "metadata": {},
   "outputs": [
    {
     "data": {
      "text/plain": [
       "ArcConvMixerModel(\n",
       "  (fe): ConvFeatureExctractor(\n",
       "    (dwQ): Sequential(\n",
       "      (0): Conv1d(25, 100, kernel_size=(3,), stride=(1,), padding=same, groups=25, bias=False)\n",
       "      (1): Conv1DBlock(\n",
       "        (conv): CausalDWConv1D(\n",
       "          (dw_conv): Conv1d(150, 150, kernel_size=(7,), stride=(1,), padding=same, groups=150, bias=False)\n",
       "        )\n",
       "        (dnn_expand): Linear(in_features=100, out_features=150, bias=True)\n",
       "        (dnn_project): Linear(in_features=150, out_features=100, bias=True)\n",
       "        (bn): BatchNorm1d(150, eps=0.95, momentum=0.1, affine=True, track_running_stats=True)\n",
       "        (eca): ECA(\n",
       "          (conv): Conv1d(1, 1, kernel_size=(5,), stride=(1,), padding=same, bias=False)\n",
       "        )\n",
       "        (dropout): Dropout(p=0.1, inplace=False)\n",
       "        (act): SiLU()\n",
       "      )\n",
       "      (2): Conv1d(100, 200, kernel_size=(3,), stride=(1,), padding=same, groups=25, bias=False)\n",
       "      (3): Conv1DBlock(\n",
       "        (conv): CausalDWConv1D(\n",
       "          (dw_conv): Conv1d(250, 250, kernel_size=(5,), stride=(1,), padding=same, groups=250, bias=False)\n",
       "        )\n",
       "        (dnn_expand): Linear(in_features=200, out_features=250, bias=True)\n",
       "        (dnn_project): Linear(in_features=250, out_features=200, bias=True)\n",
       "        (bn): BatchNorm1d(250, eps=0.95, momentum=0.1, affine=True, track_running_stats=True)\n",
       "        (eca): ECA(\n",
       "          (conv): Conv1d(1, 1, kernel_size=(5,), stride=(1,), padding=same, bias=False)\n",
       "        )\n",
       "        (dropout): Dropout(p=0.1, inplace=False)\n",
       "        (act): SiLU()\n",
       "      )\n",
       "      (4): Conv1d(200, 600, kernel_size=(3,), stride=(1,), padding=same, groups=25, bias=False)\n",
       "      (5): Conv1DBlock(\n",
       "        (conv): CausalDWConv1D(\n",
       "          (dw_conv): Conv1d(1200, 1200, kernel_size=(3,), stride=(1,), padding=same, bias=False)\n",
       "        )\n",
       "        (dnn_expand): Linear(in_features=600, out_features=1200, bias=True)\n",
       "        (dnn_project): Linear(in_features=1200, out_features=600, bias=True)\n",
       "        (bn): BatchNorm1d(1200, eps=0.95, momentum=0.1, affine=True, track_running_stats=True)\n",
       "        (eca): ECA(\n",
       "          (conv): Conv1d(1, 1, kernel_size=(5,), stride=(1,), padding=same, bias=False)\n",
       "        )\n",
       "        (dropout): Dropout(p=0.1, inplace=False)\n",
       "        (act): SiLU()\n",
       "      )\n",
       "    )\n",
       "  )\n",
       "  (linearStem): Linear(in_features=600, out_features=192, bias=True)\n",
       "  (blocks): Sequential(\n",
       "    (0): ConvMixerBlock(\n",
       "      (dw_conv): Conv1d(192, 192, kernel_size=(3,), stride=(1,), padding=same, groups=6, bias=False)\n",
       "      (pw_conv): Conv1d(192, 192, kernel_size=(1,), stride=(1,), padding=same, bias=False)\n",
       "      (gelu1): GELU(approximate='none')\n",
       "      (gelu2): GELU(approximate='none')\n",
       "      (bn1): BatchNorm1d(192, eps=1e-05, momentum=0.1, affine=True, track_running_stats=True)\n",
       "      (bn2): BatchNorm1d(192, eps=1e-05, momentum=0.1, affine=True, track_running_stats=True)\n",
       "    )\n",
       "    (1): ConvMixerBlock(\n",
       "      (dw_conv): Conv1d(192, 192, kernel_size=(3,), stride=(1,), padding=same, groups=6, bias=False)\n",
       "      (pw_conv): Conv1d(192, 192, kernel_size=(1,), stride=(1,), padding=same, bias=False)\n",
       "      (gelu1): GELU(approximate='none')\n",
       "      (gelu2): GELU(approximate='none')\n",
       "      (bn1): BatchNorm1d(192, eps=1e-05, momentum=0.1, affine=True, track_running_stats=True)\n",
       "      (bn2): BatchNorm1d(192, eps=1e-05, momentum=0.1, affine=True, track_running_stats=True)\n",
       "    )\n",
       "    (2): ConvMixerBlock(\n",
       "      (dw_conv): Conv1d(192, 192, kernel_size=(3,), stride=(1,), padding=same, groups=6, bias=False)\n",
       "      (pw_conv): Conv1d(192, 192, kernel_size=(1,), stride=(1,), padding=same, bias=False)\n",
       "      (gelu1): GELU(approximate='none')\n",
       "      (gelu2): GELU(approximate='none')\n",
       "      (bn1): BatchNorm1d(192, eps=1e-05, momentum=0.1, affine=True, track_running_stats=True)\n",
       "      (bn2): BatchNorm1d(192, eps=1e-05, momentum=0.1, affine=True, track_running_stats=True)\n",
       "    )\n",
       "    (3): ConvMixerBlock(\n",
       "      (dw_conv): Conv1d(192, 192, kernel_size=(3,), stride=(1,), padding=same, groups=6, bias=False)\n",
       "      (pw_conv): Conv1d(192, 192, kernel_size=(1,), stride=(1,), padding=same, bias=False)\n",
       "      (gelu1): GELU(approximate='none')\n",
       "      (gelu2): GELU(approximate='none')\n",
       "      (bn1): BatchNorm1d(192, eps=1e-05, momentum=0.1, affine=True, track_running_stats=True)\n",
       "      (bn2): BatchNorm1d(192, eps=1e-05, momentum=0.1, affine=True, track_running_stats=True)\n",
       "    )\n",
       "    (4): ConvMixerBlock(\n",
       "      (dw_conv): Conv1d(192, 192, kernel_size=(3,), stride=(1,), padding=same, groups=6, bias=False)\n",
       "      (pw_conv): Conv1d(192, 192, kernel_size=(1,), stride=(1,), padding=same, bias=False)\n",
       "      (gelu1): GELU(approximate='none')\n",
       "      (gelu2): GELU(approximate='none')\n",
       "      (bn1): BatchNorm1d(192, eps=1e-05, momentum=0.1, affine=True, track_running_stats=True)\n",
       "      (bn2): BatchNorm1d(192, eps=1e-05, momentum=0.1, affine=True, track_running_stats=True)\n",
       "    )\n",
       "    (5): ConvMixerBlock(\n",
       "      (dw_conv): Conv1d(192, 192, kernel_size=(3,), stride=(1,), padding=same, groups=6, bias=False)\n",
       "      (pw_conv): Conv1d(192, 192, kernel_size=(1,), stride=(1,), padding=same, bias=False)\n",
       "      (gelu1): GELU(approximate='none')\n",
       "      (gelu2): GELU(approximate='none')\n",
       "      (bn1): BatchNorm1d(192, eps=1e-05, momentum=0.1, affine=True, track_running_stats=True)\n",
       "      (bn2): BatchNorm1d(192, eps=1e-05, momentum=0.1, affine=True, track_running_stats=True)\n",
       "    )\n",
       "    (6): ConvMixerBlock(\n",
       "      (dw_conv): Conv1d(192, 192, kernel_size=(3,), stride=(1,), padding=same, groups=6, bias=False)\n",
       "      (pw_conv): Conv1d(192, 192, kernel_size=(1,), stride=(1,), padding=same, bias=False)\n",
       "      (gelu1): GELU(approximate='none')\n",
       "      (gelu2): GELU(approximate='none')\n",
       "      (bn1): BatchNorm1d(192, eps=1e-05, momentum=0.1, affine=True, track_running_stats=True)\n",
       "      (bn2): BatchNorm1d(192, eps=1e-05, momentum=0.1, affine=True, track_running_stats=True)\n",
       "    )\n",
       "    (7): ConvMixerBlock(\n",
       "      (dw_conv): Conv1d(192, 192, kernel_size=(3,), stride=(1,), padding=same, groups=6, bias=False)\n",
       "      (pw_conv): Conv1d(192, 192, kernel_size=(1,), stride=(1,), padding=same, bias=False)\n",
       "      (gelu1): GELU(approximate='none')\n",
       "      (gelu2): GELU(approximate='none')\n",
       "      (bn1): BatchNorm1d(192, eps=1e-05, momentum=0.1, affine=True, track_running_stats=True)\n",
       "      (bn2): BatchNorm1d(192, eps=1e-05, momentum=0.1, affine=True, track_running_stats=True)\n",
       "    )\n",
       "  )\n",
       "  (out_att_blocks): Sequential(\n",
       "    (0): Block(\n",
       "      (sa): MultiheadAttention(\n",
       "        (out_proj): NonDynamicallyQuantizableLinear(in_features=192, out_features=192, bias=True)\n",
       "      )\n",
       "      (ffwd): FeedFoward(\n",
       "        (net): Sequential(\n",
       "          (0): Linear(in_features=192, out_features=384, bias=True)\n",
       "          (1): ReLU()\n",
       "          (2): Linear(in_features=384, out_features=192, bias=True)\n",
       "          (3): Dropout(p=0.15, inplace=False)\n",
       "        )\n",
       "      )\n",
       "      (ln1): LayerNorm((192,), eps=1e-05, elementwise_affine=True)\n",
       "      (ln2): LayerNorm((192,), eps=1e-05, elementwise_affine=True)\n",
       "    )\n",
       "    (1): Block(\n",
       "      (sa): MultiheadAttention(\n",
       "        (out_proj): NonDynamicallyQuantizableLinear(in_features=192, out_features=192, bias=True)\n",
       "      )\n",
       "      (ffwd): FeedFoward(\n",
       "        (net): Sequential(\n",
       "          (0): Linear(in_features=192, out_features=384, bias=True)\n",
       "          (1): ReLU()\n",
       "          (2): Linear(in_features=384, out_features=192, bias=True)\n",
       "          (3): Dropout(p=0.15, inplace=False)\n",
       "        )\n",
       "      )\n",
       "      (ln1): LayerNorm((192,), eps=1e-05, elementwise_affine=True)\n",
       "      (ln2): LayerNorm((192,), eps=1e-05, elementwise_affine=True)\n",
       "    )\n",
       "    (2): Block(\n",
       "      (sa): MultiheadAttention(\n",
       "        (out_proj): NonDynamicallyQuantizableLinear(in_features=192, out_features=192, bias=True)\n",
       "      )\n",
       "      (ffwd): FeedFoward(\n",
       "        (net): Sequential(\n",
       "          (0): Linear(in_features=192, out_features=384, bias=True)\n",
       "          (1): ReLU()\n",
       "          (2): Linear(in_features=384, out_features=192, bias=True)\n",
       "          (3): Dropout(p=0.15, inplace=False)\n",
       "        )\n",
       "      )\n",
       "      (ln1): LayerNorm((192,), eps=1e-05, elementwise_affine=True)\n",
       "      (ln2): LayerNorm((192,), eps=1e-05, elementwise_affine=True)\n",
       "    )\n",
       "    (3): Block(\n",
       "      (sa): MultiheadAttention(\n",
       "        (out_proj): NonDynamicallyQuantizableLinear(in_features=192, out_features=192, bias=True)\n",
       "      )\n",
       "      (ffwd): FeedFoward(\n",
       "        (net): Sequential(\n",
       "          (0): Linear(in_features=192, out_features=384, bias=True)\n",
       "          (1): ReLU()\n",
       "          (2): Linear(in_features=384, out_features=192, bias=True)\n",
       "          (3): Dropout(p=0.15, inplace=False)\n",
       "        )\n",
       "      )\n",
       "      (ln1): LayerNorm((192,), eps=1e-05, elementwise_affine=True)\n",
       "      (ln2): LayerNorm((192,), eps=1e-05, elementwise_affine=True)\n",
       "    )\n",
       "    (4): Block(\n",
       "      (sa): MultiheadAttention(\n",
       "        (out_proj): NonDynamicallyQuantizableLinear(in_features=192, out_features=192, bias=True)\n",
       "      )\n",
       "      (ffwd): FeedFoward(\n",
       "        (net): Sequential(\n",
       "          (0): Linear(in_features=192, out_features=384, bias=True)\n",
       "          (1): ReLU()\n",
       "          (2): Linear(in_features=384, out_features=192, bias=True)\n",
       "          (3): Dropout(p=0.15, inplace=False)\n",
       "        )\n",
       "      )\n",
       "      (ln1): LayerNorm((192,), eps=1e-05, elementwise_affine=True)\n",
       "      (ln2): LayerNorm((192,), eps=1e-05, elementwise_affine=True)\n",
       "    )\n",
       "    (5): Block(\n",
       "      (sa): MultiheadAttention(\n",
       "        (out_proj): NonDynamicallyQuantizableLinear(in_features=192, out_features=192, bias=True)\n",
       "      )\n",
       "      (ffwd): FeedFoward(\n",
       "        (net): Sequential(\n",
       "          (0): Linear(in_features=192, out_features=384, bias=True)\n",
       "          (1): ReLU()\n",
       "          (2): Linear(in_features=384, out_features=192, bias=True)\n",
       "          (3): Dropout(p=0.15, inplace=False)\n",
       "        )\n",
       "      )\n",
       "      (ln1): LayerNorm((192,), eps=1e-05, elementwise_affine=True)\n",
       "      (ln2): LayerNorm((192,), eps=1e-05, elementwise_affine=True)\n",
       "    )\n",
       "    (6): Block(\n",
       "      (sa): MultiheadAttention(\n",
       "        (out_proj): NonDynamicallyQuantizableLinear(in_features=192, out_features=192, bias=True)\n",
       "      )\n",
       "      (ffwd): FeedFoward(\n",
       "        (net): Sequential(\n",
       "          (0): Linear(in_features=192, out_features=384, bias=True)\n",
       "          (1): ReLU()\n",
       "          (2): Linear(in_features=384, out_features=192, bias=True)\n",
       "          (3): Dropout(p=0.15, inplace=False)\n",
       "        )\n",
       "      )\n",
       "      (ln1): LayerNorm((192,), eps=1e-05, elementwise_affine=True)\n",
       "      (ln2): LayerNorm((192,), eps=1e-05, elementwise_affine=True)\n",
       "    )\n",
       "    (7): Block(\n",
       "      (sa): MultiheadAttention(\n",
       "        (out_proj): NonDynamicallyQuantizableLinear(in_features=192, out_features=192, bias=True)\n",
       "      )\n",
       "      (ffwd): FeedFoward(\n",
       "        (net): Sequential(\n",
       "          (0): Linear(in_features=192, out_features=384, bias=True)\n",
       "          (1): ReLU()\n",
       "          (2): Linear(in_features=384, out_features=192, bias=True)\n",
       "          (3): Dropout(p=0.15, inplace=False)\n",
       "        )\n",
       "      )\n",
       "      (ln1): LayerNorm((192,), eps=1e-05, elementwise_affine=True)\n",
       "      (ln2): LayerNorm((192,), eps=1e-05, elementwise_affine=True)\n",
       "    )\n",
       "  )\n",
       "  (loc_arcface): Sequential(\n",
       "    (0): Linear(in_features=556, out_features=384, bias=True)\n",
       "    (1): ReLU(inplace=True)\n",
       "    (2): LayerNorm((384,), eps=1e-05, elementwise_affine=True)\n",
       "    (3): Dropout(p=0.15, inplace=False)\n",
       "    (4): Linear(in_features=384, out_features=192, bias=True)\n",
       "    (5): ReLU(inplace=True)\n",
       "    (6): Dropout(p=0.15, inplace=False)\n",
       "    (7): Linear(in_features=192, out_features=192, bias=True)\n",
       "    (8): LayerNorm((192,), eps=1e-05, elementwise_affine=True)\n",
       "  )\n",
       "  (head): LEADHead(\n",
       "    (act): SELU()\n",
       "    (conv_seq): Conv1d(192, 6, kernel_size=(3,), stride=(1,), padding=same)\n",
       "    (conv_flat): Conv1d(192, 8, kernel_size=(3,), stride=(1,), padding=same)\n",
       "    (linear_emb): Sequential(\n",
       "      (0): Linear(in_features=672, out_features=256, bias=True)\n",
       "      (1): ReLU(inplace=True)\n",
       "      (2): Dropout(p=0.2, inplace=False)\n",
       "      (3): Linear(in_features=256, out_features=64, bias=True)\n",
       "      (4): ReLU(inplace=True)\n",
       "      (5): Dropout(p=0.2, inplace=False)\n",
       "      (6): Linear(in_features=64, out_features=8, bias=True)\n",
       "      (7): ReLU(inplace=True)\n",
       "    )\n",
       "  )\n",
       ")"
      ]
     },
     "execution_count": 35,
     "metadata": {},
     "output_type": "execute_result"
    }
   ],
   "source": [
    "ArcConvMixerModel(**nn_config_mixer)"
   ]
  },
  {
   "cell_type": "code",
   "execution_count": 36,
   "metadata": {},
   "outputs": [],
   "source": [
    "# class LeapModel(nn.Module):\n",
    "#     def __init__(self, dims:list):\n",
    "#         \"\"\"\n",
    "#         Initializes the LeapModel.\n",
    "\n",
    "#         Parameters\n",
    "#         ----------\n",
    "#         dims : list of int\n",
    "#             A list containing the dimensions of each layer in the network. \n",
    "#             The length of the list determines the number of layers.\n",
    "#         \"\"\"\n",
    "        \n",
    "#         super().__init__()\n",
    "        \n",
    "#         layers = []\n",
    "#         for i in range(len(dims) - 2):\n",
    "#             layers.append(nn.Linear(dims[i], dims[i + 1]))\n",
    "#             layers.append(nn.LayerNorm(dims[i + 1]))\n",
    "#             layers.append(nn.ReLU())\n",
    "            \n",
    "#         layers.append(nn.Linear(dims[-2], dims[-1]))\n",
    "#         self.network = nn.Sequential(*layers)\n",
    "        \n",
    "#     def forward(self, x):\n",
    "#         y = self.network(x)\n",
    "#         return y"
   ]
  },
  {
   "cell_type": "markdown",
   "metadata": {},
   "source": [
    "### Creating Data Loaders for Training and Validation"
   ]
  },
  {
   "cell_type": "code",
   "execution_count": 37,
   "metadata": {},
   "outputs": [],
   "source": [
    "ds_data = LeapDataset(\n",
    "    file_path=TRAIN_PATH,\n",
    "    x_features=FEATURE_NAMES, \n",
    "    y_features=TARGET_NAMES,\n",
    "    y_weights=torch.tensor(SCALE_WEIGHTS, dtype = torch.float64)\n",
    ")\n",
    "\n",
    "ds_train, ds_valid = random_split(ds_data, [TRAIN_SIZE, VALID_SIZE])\n",
    "\n",
    "train_loader = DataLoader(\n",
    "    ds_train, \n",
    "    batch_size=BATCH_SIZE, \n",
    "    shuffle=True, \n",
    "    drop_last=True,\n",
    ")\n",
    "\n",
    "valid_loader = DataLoader(\n",
    "    ds_valid, \n",
    "    batch_size=BATCH_SIZE, \n",
    "    shuffle=False, \n",
    "    drop_last=False,\n",
    ")"
   ]
  },
  {
   "cell_type": "markdown",
   "metadata": {},
   "source": [
    "### Mean and Standard Deviation Calculation"
   ]
  },
  {
   "cell_type": "code",
   "execution_count": 38,
   "metadata": {},
   "outputs": [
    {
     "name": "stdout",
     "output_type": "stream",
     "text": [
      "Mean(x) Shape:  (556,)\n",
      "Mean(y) Shape:  (368,)\n",
      "Std(x) Shape:  (556,)\n",
      "Std(y) Shape:  (368,)\n",
      "LOC_Y_MIN Shape:  (384, 368)\n",
      "LOC_Y_MAX Shape:  (384, 368)\n"
     ]
    }
   ],
   "source": [
    "#calc_mean_std(ds_train.dataset)\n",
    "\n",
    "import pickle \n",
    "  \n",
    "# Open the file in binary mode \n",
    "with open('dataset_global_all_stats.pkl', 'rb') as file: \n",
    "      \n",
    "    # Call load method to deserialze \n",
    "    stats = pickle.load(file) \n",
    "  \n",
    "X_MEAN = stats['X_MEAN']\n",
    "Y_MEAN = stats['Y_MEAN']\n",
    "X_STD = stats['X_STD']\n",
    "Y_STD = stats['Y_STD']\n",
    "LOC_Y_MAX = stats['LOC_Y_MAX']\n",
    "LOC_Y_MIN = stats['LOC_Y_MIN']\n",
    "Y_MIN = stats['Y_MIN'] \n",
    "Y_MAX = stats['Y_MAX'] \n",
    "  \n",
    "\n",
    "\n",
    "print(\"Mean(x) Shape: \", X_MEAN.shape)\n",
    "print(\"Mean(y) Shape: \", Y_MEAN.shape)\n",
    "print(\"Std(x) Shape: \", X_STD.shape)\n",
    "print(\"Std(y) Shape: \", Y_STD.shape)\n",
    "\n",
    "print(\"LOC_Y_MIN Shape: \", LOC_Y_MIN.shape)\n",
    "print(\"LOC_Y_MAX Shape: \", LOC_Y_MAX.shape)\n",
    "\n",
    "LOC_Y_MIN = torch.tensor(LOC_Y_MIN, dtype = torch.float32).to(DEVICE)\n",
    "LOC_Y_MAX = torch.tensor(LOC_Y_MAX, dtype = torch.float32).to(DEVICE)"
   ]
  },
  {
   "cell_type": "code",
   "execution_count": 39,
   "metadata": {},
   "outputs": [
    {
     "data": {
      "text/plain": [
       "tensor([[1.4736, 1.9131, 1.7764,  ..., 4.1289, 5.0586, 6.4492],\n",
       "        [1.6494, 2.0527, 2.0449,  ..., 3.8379, 5.3281, 6.3789],\n",
       "        [1.5342, 1.8789, 1.7764,  ..., 3.8398, 5.1094, 6.6836],\n",
       "        ...,\n",
       "        [1.3955, 2.1582, 1.8809,  ..., 3.4414, 4.7461, 5.5508],\n",
       "        [1.4795, 1.9189, 1.8867,  ..., 3.9648, 5.2344, 5.8984],\n",
       "        [1.4580, 1.8936, 2.0195,  ..., 3.6133, 4.4688, 5.2969]],\n",
       "       device='cuda:0')"
      ]
     },
     "execution_count": 39,
     "metadata": {},
     "output_type": "execute_result"
    }
   ],
   "source": [
    "LOC_Y_MAX[torch.randint(384, [200])]"
   ]
  },
  {
   "cell_type": "code",
   "execution_count": 40,
   "metadata": {},
   "outputs": [],
   "source": [
    "#Y_MEAN[[-1,-2,-3,-4,-7,-8]] = 0 "
   ]
  },
  {
   "cell_type": "code",
   "execution_count": 41,
   "metadata": {},
   "outputs": [
    {
     "data": {
      "text/plain": [
       "array([0.33904951, 0.44991617, 0.53023997, 0.68980353, 0.91454082,\n",
       "       1.10335843, 1.03457842, 0.78783475, 0.50254858, 0.38697311,\n",
       "       2.94961358, 2.26554557, 1.67123934, 1.25858581, 0.93235221,\n",
       "       0.7419309 , 0.69083685, 0.07965096, 0.1094122 , 0.13763185,\n",
       "       0.15043989, 0.16075318, 0.18151723, 0.21005089, 0.24184829,\n",
       "       0.27910623, 0.323123  , 0.37492876, 0.43054877, 0.48962206,\n",
       "       0.54427667, 0.58454766, 0.61222739, 0.63077924, 0.64200634,\n",
       "       0.64544652, 0.64074007, 0.63322789, 0.62622654, 0.62011605,\n",
       "       0.61514178, 0.61097262, 0.61000543, 0.61266751, 0.61629205,\n",
       "       0.61767403, 0.61208417, 0.60092445, 0.58837284, 0.57431648,\n",
       "       0.55935203, 0.54387452, 0.52725497, 0.50966103, 0.49168715,\n",
       "       0.47748374, 0.47209206, 0.48213407, 0.57320541, 0.95958514,\n",
       "       0.11525936, 0.09266462, 0.68318151, 0.28252762, 0.2856375 ,\n",
       "       0.21600703, 0.4055325 , 0.08839846, 0.18589452, 0.04102757,\n",
       "       0.08894284, 0.17413082, 0.30623371, 0.48810117, 0.0701889 ,\n",
       "       0.09237392, 0.11447827, 0.13750486, 0.15947504, 0.17708663,\n",
       "       0.19117275, 0.20360876, 0.21676918, 0.23331111, 0.25309587,\n",
       "       0.27646906, 0.30340923, 0.33555307, 0.37121557, 0.41001174,\n",
       "       0.44927388, 0.48671603, 0.52050582, 0.55060362, 0.57166817,\n",
       "       0.58266581, 0.58829488, 0.58856521, 0.58595998, 0.58217084,\n",
       "       0.578176  , 0.57503353, 0.56837453, 0.55125356, 0.53224607,\n",
       "       0.48687991, 0.46364349, 0.4080589 , 0.27047783, 0.07073304,\n",
       "       0.0335832 , 0.07035298, 0.11359511, 0.17889342, 0.25931214,\n",
       "       0.34832997, 0.44926094, 0.55246276, 0.64680695, 0.72416914,\n",
       "       0.07898424, 0.08477019, 0.09008478, 0.09506614, 0.09983066,\n",
       "       0.10463309, 0.10933585, 0.11251115, 0.11256085, 1.09405482,\n",
       "       1.03536778, 0.95690339, 0.86298676, 0.75804578, 0.6473964 ,\n",
       "       0.54590741, 0.46431432, 0.40401555, 0.37422182, 0.35790824,\n",
       "       0.27501278, 0.11445819, 0.08550756, 0.07906196, 0.46235017,\n",
       "       0.31793967, 0.09205412, 0.13753449, 0.02606334, 0.03443984,\n",
       "       0.04305562, 0.0507182 , 0.05744414, 0.06236398, 0.06518768,\n",
       "       0.06580305, 0.06536413, 0.06498911, 0.06507795, 0.06462104,\n",
       "       0.06123842, 0.5558083 , 0.49964   , 0.4534743 , 0.41487775,\n",
       "       0.38080161, 0.35186981, 0.32737061, 0.30542236, 0.28545287,\n",
       "       0.267416  , 0.25096222, 0.2359987 , 0.22179717, 0.20851084,\n",
       "       0.19637431, 0.18573797, 0.17609851, 0.16789118, 0.16100502,\n",
       "       0.15550776, 0.15038925, 0.14475429, 0.13892014, 0.13408724,\n",
       "       0.13091034, 0.12898646, 0.12411485, 0.13068459, 0.21724928,\n",
       "       0.5012353 , 0.11072311, 0.23089598, 0.04834108, 0.09294973,\n",
       "       0.1743914 , 0.24709428, 0.20935934, 0.19308892, 0.17704962,\n",
       "       0.16564992, 0.1537813 , 0.13994989, 0.12834966, 0.12084493,\n",
       "       0.11574357, 0.11138557, 0.10707683, 0.10303202, 0.09902905,\n",
       "       0.09589828, 0.09489473, 0.09645229, 0.10064368, 0.10636687,\n",
       "       0.11203912, 0.11678783, 0.12124184, 0.1269109 , 0.13442155,\n",
       "       0.14330568, 0.15467057, 0.16924952, 0.18532697, 0.20083518,\n",
       "       0.21771849, 0.2384705 , 0.26559127, 0.29733523, 0.31838901,\n",
       "       0.31971269, 0.32414808, 0.33684905, 0.37605467, 0.36629777,\n",
       "       0.34012326, 0.52890633, 0.13128384, 0.31768505, 0.07649092,\n",
       "       0.18531422, 0.46549212, 0.09761526, 0.14614429, 0.19723659,\n",
       "       0.19419386, 0.1915584 , 0.18445012, 0.17892712, 0.16549912,\n",
       "       0.14474873, 0.12625691, 0.11414241, 0.10625815, 0.0982197 ,\n",
       "       0.08954441, 0.08169279, 0.07576863, 0.07096645, 0.06836547,\n",
       "       0.06852496, 0.07172   , 0.07789031, 0.08579921, 0.09311726,\n",
       "       0.0997706 , 0.10624887, 0.11301814, 0.12082569, 0.1298092 ,\n",
       "       0.1402651 , 0.15159531, 0.16181801, 0.17162574, 0.18264881,\n",
       "       0.19662614, 0.21700034, 0.24551854, 0.27545568, 0.29462269,\n",
       "       0.2980171 , 0.29433878, 0.27589267, 0.24344256, 0.34284216,\n",
       "       0.29309173, 0.35857464, 0.78788505, 0.0869094 , 0.12639533,\n",
       "       0.134488  , 0.57197065, 0.345666  ])"
      ]
     },
     "execution_count": 41,
     "metadata": {},
     "output_type": "execute_result"
    }
   ],
   "source": [
    "Y_STD[np.array(TARGET_WEIGHTS)>0]"
   ]
  },
  {
   "cell_type": "code",
   "execution_count": 42,
   "metadata": {},
   "outputs": [
    {
     "data": {
      "text/plain": [
       "array([ 1.02929261e-01, -6.97155326e-02, -3.15299507e-02, -3.19619268e-02,\n",
       "       -3.63129338e-02, -2.22857484e-02, -3.13506470e-03,  3.97841919e-03,\n",
       "        1.83784833e-03, -1.60611399e-04,  1.38263980e-02,  1.86093024e-02,\n",
       "        2.95191264e-02,  3.75109372e-02,  5.67370059e-02,  9.31576893e-02,\n",
       "        1.72058030e-01,  1.65372095e-02,  7.61109410e-03, -3.89531922e-03,\n",
       "       -3.52564088e-03, -2.38466249e-02, -4.12396960e-02, -5.64972054e-02,\n",
       "       -6.61519066e-02, -6.61819628e-02, -5.81682309e-02, -4.68412721e-02,\n",
       "       -3.57749574e-02, -2.57151994e-02, -1.68952969e-02, -9.05130939e-03,\n",
       "       -2.76688278e-03,  1.91246591e-03,  4.85856089e-03,  6.51845951e-03,\n",
       "        6.98788417e-03,  7.02315626e-03,  6.87885541e-03,  6.06122679e-03,\n",
       "        4.62000010e-03,  2.56066947e-03, -3.63076626e-04, -3.85495130e-03,\n",
       "       -6.96830829e-03, -6.93094346e-03, -1.90584647e-03,  6.68160697e-03,\n",
       "        1.57043694e-02,  2.37879026e-02,  3.05528183e-02,  3.68716334e-02,\n",
       "        4.26353070e-02,  4.43929782e-02,  3.89734843e-02,  2.09623456e-02,\n",
       "       -1.35780078e-02, -8.66028825e-02, -2.52400860e-01, -6.21178473e-01,\n",
       "        2.93138003e-04,  7.53486490e-04,  1.07955043e-03,  4.88599492e-04,\n",
       "        3.47511863e-04, -2.56719775e-03, -5.87852772e-03, -2.55430011e-03,\n",
       "       -9.50334934e-03, -3.12250625e-03, -8.93223693e-03, -2.11171729e-02,\n",
       "       -4.29684877e-02, -7.60872662e-02, -1.16775820e-02, -1.58466734e-02,\n",
       "       -1.96570522e-02, -2.32609971e-02, -2.66316047e-02, -2.89094369e-02,\n",
       "       -2.98240271e-02, -2.94578005e-02, -2.82479467e-02, -2.67789906e-02,\n",
       "       -2.52018845e-02, -2.35792894e-02, -2.17780350e-02, -1.97160401e-02,\n",
       "       -1.69855381e-02, -1.34125837e-02, -8.72768781e-03, -2.31633623e-03,\n",
       "        4.67997955e-03,  1.04066002e-02,  1.22905557e-02,  9.19147361e-03,\n",
       "        2.91706496e-03, -6.56288576e-03, -2.04122308e-02, -4.19539594e-02,\n",
       "       -7.42636665e-02, -1.15347874e-01, -1.60327555e-01, -1.94850408e-01,\n",
       "       -2.12840605e-01, -1.97209858e-01, -1.80961474e-01, -1.44246017e-01,\n",
       "       -7.85270690e-04, -3.46895204e-03, -3.18060445e-03, -8.07433951e-03,\n",
       "       -9.61023759e-03, -7.83244410e-03, -6.62945686e-03, -6.10602653e-03,\n",
       "       -4.91875814e-03, -2.99687279e-03, -1.71788748e-03, -6.61172764e-04,\n",
       "        3.43835308e-05,  1.30659571e-04,  3.13885396e-04,  4.54403478e-04,\n",
       "        6.29126027e-04,  8.44441976e-04,  1.05867340e-03,  1.14236724e-03,\n",
       "        1.12873363e-03,  1.09854384e-02,  1.08853661e-02,  1.24626731e-02,\n",
       "        1.38639016e-02,  1.39607893e-02,  1.13779880e-02,  8.08256556e-03,\n",
       "        4.84200272e-03,  2.78725243e-03,  5.49153316e-04, -5.87343104e-03,\n",
       "       -5.65146096e-02, -8.62975656e-05, -7.43405925e-05, -8.27612049e-05,\n",
       "        3.79537973e-05, -1.52864055e-05, -6.96085212e-05, -5.75676205e-04,\n",
       "       -1.78851869e-04, -3.89275946e-04, -6.48758228e-04, -8.63378000e-04,\n",
       "       -9.97609280e-04, -1.12394017e-03, -1.25241730e-03, -1.30467542e-03,\n",
       "       -1.17971277e-03, -9.05642924e-04, -3.96108169e-04,  3.57071453e-04,\n",
       "        9.20553566e-04,  1.02596917e-02,  9.25509361e-03,  8.53811806e-03,\n",
       "        8.26855280e-03,  7.33630100e-03,  5.86945833e-03,  4.92315484e-03,\n",
       "        4.46867726e-03,  3.96903949e-03,  3.36528238e-03,  2.81636821e-03,\n",
       "        2.47659864e-03,  2.24392642e-03,  2.03250352e-03,  1.88083477e-03,\n",
       "        2.09376382e-03,  2.58118288e-03,  3.23325360e-03,  3.64621356e-03,\n",
       "        3.74709682e-03,  3.39938700e-03,  2.54525329e-03,  1.21669318e-03,\n",
       "       -2.59561048e-04, -1.50942667e-03, -2.17994110e-03, -4.49506097e-03,\n",
       "       -2.06262789e-02,  7.14921436e-03,  4.58236517e-03,  1.55363760e-03,\n",
       "        2.03699409e-03,  7.18284733e-04,  5.22970666e-03,  1.42323572e-02,\n",
       "        1.85995989e-02,  7.11906586e-03,  1.44085642e-04, -6.11069188e-03,\n",
       "       -9.70764133e-03, -1.37715126e-02, -1.64116078e-02, -1.60878185e-02,\n",
       "       -1.48384541e-02, -1.33372794e-02, -1.18852511e-02, -1.06202750e-02,\n",
       "       -9.28202834e-03, -7.84779433e-03, -6.14073579e-03, -4.77204636e-03,\n",
       "       -4.11583129e-03, -4.36937934e-03, -4.93978879e-03, -5.62006672e-03,\n",
       "       -6.46471857e-03, -7.92102955e-03, -1.02726508e-02, -1.36511710e-02,\n",
       "       -1.80551419e-02, -2.34374158e-02, -2.88773059e-02, -3.17122906e-02,\n",
       "       -2.96392434e-02, -2.24676229e-02, -9.44993236e-03,  8.93809166e-03,\n",
       "        3.09843192e-02,  5.13360424e-02,  6.33975752e-02,  6.24448841e-02,\n",
       "        5.52243261e-02,  5.92279413e-02,  6.42633395e-02,  5.68460879e-02,\n",
       "        7.79961397e-02,  1.69376386e-04,  2.53540613e-05,  1.17170839e-04,\n",
       "        1.12349697e-03,  7.44694743e-04, -1.00043212e-03, -9.16077846e-04,\n",
       "        1.73822557e-03,  3.37261972e-03,  3.35028426e-03,  2.66994995e-03,\n",
       "       -1.77065968e-04, -1.30394099e-03, -1.76855860e-03, -1.61913729e-03,\n",
       "       -1.20612837e-03, -7.34508478e-04, -4.79758106e-04, -2.83694764e-04,\n",
       "       -2.96454032e-05,  2.06969637e-04,  3.46191555e-04,  3.17654225e-04,\n",
       "        7.37641657e-05, -6.29619284e-04, -1.57223754e-03, -2.45330271e-03,\n",
       "       -3.00133854e-03, -3.00771979e-03, -2.21485139e-03, -7.58123814e-04,\n",
       "        1.18204668e-03,  3.23678207e-03,  4.95287266e-03,  6.18096711e-03,\n",
       "        6.35803009e-03,  5.37919479e-03,  3.40140185e-03,  8.33418507e-04,\n",
       "       -2.34293121e-03, -6.81981971e-03, -1.04775390e-02, -1.16517182e-02,\n",
       "       -1.04887307e-02, -5.34487767e-03,  6.27260477e-03,  1.41044980e-02,\n",
       "        6.59127963e-03,  0.00000000e+00,  0.00000000e+00,  0.00000000e+00,\n",
       "        0.00000000e+00,  0.00000000e+00,  0.00000000e+00,  0.00000000e+00,\n",
       "        0.00000000e+00])"
      ]
     },
     "execution_count": 42,
     "metadata": {},
     "output_type": "execute_result"
    }
   ],
   "source": [
    "Y_MEAN[np.array(TARGET_WEIGHTS)>0]"
   ]
  },
  {
   "cell_type": "code",
   "execution_count": 43,
   "metadata": {},
   "outputs": [
    {
     "data": {
      "text/plain": [
       "array([2.07382224e-01, 1.83500351e-01, 1.37633783e-01, 5.38878116e-15,\n",
       "       1.00000000e-16, 1.00000000e-16, 1.00000000e-16, 1.00000000e-16,\n",
       "       1.00000000e-16, 1.00000000e-16, 1.00000000e-16, 1.00000000e-16,\n",
       "       1.00000000e-16, 1.00000000e-16, 1.00000000e-16, 1.00000000e-16,\n",
       "       1.00000000e-16, 1.00000000e-16, 1.00000000e-16, 1.00000000e-16,\n",
       "       1.00000000e-16, 1.00000000e-16, 1.00000000e-16, 1.00000000e-16,\n",
       "       2.21907389e-02, 1.04031013e-01, 8.45788234e-02, 2.08657634e+02,\n",
       "       7.54277658e+06, 5.36914328e+06, 3.64145780e+06, 9.30261627e+04,\n",
       "       6.83161313e+04, 5.24156398e+04, 4.40808465e+04, 3.18970589e+03,\n",
       "       6.64291642e+02, 2.05481111e+02, 2.73438268e+03, 1.00000000e-16,\n",
       "       1.00000000e-16, 1.00000000e-16, 1.00000000e-16, 1.00000000e-16,\n",
       "       1.00000000e-16, 1.00000000e-16, 1.00000000e-16, 1.00000000e-16,\n",
       "       1.00000000e-16, 1.00000000e-16, 1.00000000e-16, 1.00000000e-16,\n",
       "       1.00000000e-16, 1.00000000e-16, 1.00000000e-16, 1.00000000e-16,\n",
       "       1.00000000e-16, 1.00000000e-16, 1.00000000e-16, 1.00000000e-16,\n",
       "       1.00000000e-16, 1.00000000e-16, 1.00000000e-16, 1.00000000e-16,\n",
       "       1.00000000e-16, 1.00000000e-16, 1.00000000e-16, 1.00000000e-16,\n",
       "       1.00000000e-16, 1.00000000e-16, 1.00000000e-16, 1.00000000e-16,\n",
       "       1.00000000e-16, 1.00000000e-16, 1.00000000e-16])"
      ]
     },
     "execution_count": 43,
     "metadata": {},
     "output_type": "execute_result"
    }
   ],
   "source": [
    "Y_STD[np.array(TARGET_WEIGHTS)<1]"
   ]
  },
  {
   "cell_type": "markdown",
   "metadata": {},
   "source": [
    "### Get Sample Batch From Train Dataset"
   ]
  },
  {
   "cell_type": "code",
   "execution_count": 44,
   "metadata": {},
   "outputs": [
    {
     "name": "stdout",
     "output_type": "stream",
     "text": [
      "Batch Shape:  (256, 556) (256, 368) (256,)\n"
     ]
    }
   ],
   "source": [
    "X, y, l = next(iter(train_loader))\n",
    "\n",
    "print(\"Batch Shape: \", tuple(X.shape), tuple(y.shape), tuple(l.shape))"
   ]
  },
  {
   "cell_type": "markdown",
   "metadata": {},
   "source": [
    "### Exploratory Data Analysis"
   ]
  },
  {
   "cell_type": "code",
   "execution_count": 45,
   "metadata": {},
   "outputs": [
    {
     "data": {
      "image/png": "[encoded data removed]",
      "text/plain": [
       "<Figure size 1600x1600 with 15 Axes>"
      ]
     },
     "metadata": {},
     "output_type": "display_data"
    }
   ],
   "source": [
    "X_point, y_point = X[8], y[8] # nth data point from batch\n",
    "\n",
    "fig, axes = plt.subplots(nrows=5, ncols=3, figsize=(16, 16))\n",
    "\n",
    "axes[0, 0].plot(X_point[STATE_U_IDX])\n",
    "axes[0, 1].plot(X_point[STATE_V_IDX])\n",
    "axes[0, 2].plot(X_point[STATE_T_IDX])\n",
    "\n",
    "axes[1, 0].plot(X_point[STATE_Q0001_IDX])\n",
    "axes[1, 1].plot(X_point[STATE_Q0002_IDX])\n",
    "axes[1, 2].plot(X_point[STATE_Q0003_IDX])\n",
    "\n",
    "axes[2, 0].plot(X_point[PBUF_OZONE_IDX])\n",
    "axes[2, 1].plot(X_point[PBUF_CH4_IDX])\n",
    "axes[2, 2].plot(X_point[PBUF_N2O_IDX])\n",
    "\n",
    "axes[3, 0].plot(y_point[PTEND_Q0001_IDX])\n",
    "axes[3, 1].plot(y_point[PTEND_Q0002_IDX])\n",
    "axes[3, 2].plot(y_point[PTEND_Q0003_IDX])\n",
    "\n",
    "axes[4, 0].plot(y_point[PTEND_U_IDX])\n",
    "axes[4, 1].plot(y_point[PTEND_V_IDX])\n",
    "axes[4, 2].plot(y_point[PTEND_T_IDX])\n",
    "\n",
    "plt.show()"
   ]
  },
  {
   "cell_type": "markdown",
   "metadata": {},
   "source": [
    "### Training"
   ]
  },
  {
   "cell_type": "code",
   "execution_count": 46,
   "metadata": {},
   "outputs": [],
   "source": [
    "LOSS_SCALE_TORCH = torch.tensor(LOSS_SCALE, dtype = torch.float64).to(DEVICE) * torch.tensor(TARGET_WEIGHTS, dtype = torch.float64).to(DEVICE)\n",
    "\n",
    "LOSS_SCALE_TORCH[[-1,-2,-3,-4,-7,-8]] = 0.25 # CAM Values HAS TOO big MSE"
   ]
  },
  {
   "cell_type": "code",
   "execution_count": 47,
   "metadata": {},
   "outputs": [],
   "source": [
    "def WeightedMSE(y_pred, y):\n",
    "    return (LOSS_SCALE_TORCH**2 * (y - y_pred) ** 2)"
   ]
  },
  {
   "cell_type": "code",
   "execution_count": 48,
   "metadata": {},
   "outputs": [],
   "source": [
    "def WeightedMAE(y_pred, y):\n",
    "    return (LOSS_SCALE_TORCH * torch.abs(y - y_pred))"
   ]
  },
  {
   "cell_type": "code",
   "execution_count": 49,
   "metadata": {},
   "outputs": [],
   "source": [
    "def WeightedMAPE(y_pred, y):\n",
    "    \n",
    "    return (LOSS_SCALE_TORCH * 100 * torch.abs((y - y_pred) / (y + 1e-6)))\n",
    "    \n",
    "criterion = WeightedMAPE"
   ]
  },
  {
   "cell_type": "code",
   "execution_count": 50,
   "metadata": {},
   "outputs": [],
   "source": [
    "\n",
    "def relMSE(y_pred, y):\n",
    "    return LOSS_SCALE_TORCH**2 * (((y - y_pred) ** 2) / torch.maximum((y - torch.tensor(Y_MEAN).to(DEVICE)) ** 2, torch.tensor(1e-6).to(DEVICE)))\n",
    "    \n",
    "criterion = relMSE   "
   ]
  },
  {
   "cell_type": "code",
   "execution_count": 51,
   "metadata": {},
   "outputs": [
    {
     "name": "stdout",
     "output_type": "stream",
     "text": [
      "tensor(0.1302, device='cuda:0', dtype=torch.float64)\n",
      "tensor(0.1302, device='cuda:0', dtype=torch.float64)\n"
     ]
    }
   ],
   "source": [
    "a = torch.rand([2000, 368]).to(DEVICE)\n",
    "b = torch.rand([2000, 368]).to(DEVICE)\n",
    "print(WeightedMSE(a, b).mean())\n",
    "print(WeightedMSE(a, b).mean(0).sum()/a.shape[-1])"
   ]
  },
  {
   "cell_type": "code",
   "execution_count": 52,
   "metadata": {},
   "outputs": [],
   "source": [
    "#model = LeapModel(**nn_config)\n",
    "#model = TfaLeapModel(**nn_config_tfa)\n",
    "model = ArcConvMixerModel(**nn_config_mixer)\n",
    "model = model.to(DEVICE)\n",
    "#model.load_state_dict(torch.load(\"best_score_model.pth\", map_location=DEVICE), strict = True)\n",
    "#model.load_state_dict(torch.load(\"best_score_model_combo_head_test3.pth\", map_location=DEVICE), strict = False)\n",
    "\n",
    "\n",
    "criterion = nn.MSELoss()\n",
    "criterion = WeightedMSE\n",
    "#criterion = relMSE  \n",
    "#criterion = WeightedMAPE\n",
    "#criterion = torch.nn.HuberLoss(reduction='mean', delta=5.0)\n",
    "\n",
    "optimizer = optim.Adam(model.parameters(), lr=LEARNING_RATE)\n",
    "scheduler = lr_scheduler.PolynomialLR(optimizer, power=1.4, total_iters=NUM_EPOCHS)"
   ]
  },
  {
   "cell_type": "code",
   "execution_count": 53,
   "metadata": {},
   "outputs": [],
   "source": [
    "# scheduler = lr_scheduler.CosineAnnealingWarmRestarts(\n",
    "#             optimizer,\n",
    "#             T_0=NUM_EPOCHS,\n",
    "#             T_mult=1,\n",
    "#             eta_min=1e-7,\n",
    "#             last_epoch=-1\n",
    "#         )"
   ]
  },
  {
   "cell_type": "code",
   "execution_count": 54,
   "metadata": {},
   "outputs": [],
   "source": [
    "# lrs = []\n",
    "# for i in range(NUM_EPOCHS):\n",
    "#     scheduler.step(i)\n",
    "#     lrs.append(scheduler.get_lr())"
   ]
  },
  {
   "cell_type": "code",
   "execution_count": 55,
   "metadata": {},
   "outputs": [],
   "source": [
    "#plt.plot(list(range(NUM_EPOCHS)), lrs)"
   ]
  },
  {
   "cell_type": "code",
   "execution_count": 61,
   "metadata": {
    "scrolled": true
   },
   "outputs": [
    {
     "name": "stderr",
     "output_type": "stream",
     "text": [
      "Epoch 13: 100%|█████| 3320/3320 [13:16<00:00,  4.17it/s, LR=0.000139, train_loss=0.282, arc_loss=30]\n",
      "Epoch 13: 100%|████████| 586/586 [01:00<00:00,  9.71it/s, val_sc=0.985, val_mse=0.365, val_r2=0.697]\n",
      "Epoch 14: 100%|███| 3320/3320 [13:00<00:00,  4.26it/s, LR=0.000115, train_loss=0.277, arc_loss=30.1]\n",
      "Epoch 14: 100%|█████████| 586/586 [01:00<00:00,  9.73it/s, val_sc=0.986, val_mse=0.36, val_r2=0.702]\n",
      "Epoch 15: 100%|███| 3320/3320 [13:04<00:00,  4.23it/s, LR=0.000093, train_loss=0.272, arc_loss=30.2]\n",
      "Epoch 15: 100%|████████| 586/586 [00:58<00:00, 10.00it/s, val_sc=0.986, val_mse=0.354, val_r2=0.704]\n",
      "Epoch 16: 100%|███| 3320/3320 [12:36<00:00,  4.39it/s, LR=0.000072, train_loss=0.267, arc_loss=30.2]\n",
      "Epoch 16: 100%|████████| 586/586 [01:01<00:00,  9.48it/s, val_sc=0.986, val_mse=0.357, val_r2=0.704]\n",
      "Epoch 17: 100%|███| 3320/3320 [13:21<00:00,  4.14it/s, LR=0.000053, train_loss=0.263, arc_loss=29.8]\n",
      "Epoch 17: 100%|█████████| 586/586 [01:01<00:00,  9.48it/s, val_sc=0.986, val_mse=0.35, val_r2=0.707]\n",
      "Epoch 18: 100%|████| 3320/3320 [13:00<00:00,  4.25it/s, LR=0.000035, train_loss=0.26, arc_loss=29.9]\n",
      "Epoch 18: 100%|█████████| 586/586 [01:01<00:00,  9.51it/s, val_sc=0.986, val_mse=0.35, val_r2=0.709]\n",
      "Epoch 19: 100%|█████| 3320/3320 [12:09<00:00,  4.55it/s, LR=0.000020, train_loss=0.257, arc_loss=30]\n",
      "Epoch 19: 100%|██████████| 586/586 [00:57<00:00, 10.27it/s, val_sc=0.986, val_mse=0.35, val_r2=0.71]\n"
     ]
    }
   ],
   "source": [
    "best_score = -np.inf\n",
    "best_mse = np.inf\n",
    "emb_dim = nn_config_mixer['n_embd']\n",
    "\n",
    "scores = []\n",
    "mses = []\n",
    "r2s = []\n",
    "train_mse = []\n",
    "\n",
    "for epoch in range(0, NUM_EPOCHS):\n",
    "    train_loss = train_fn(model, train_loader, optimizer, criterion)\n",
    "    val_score, val_mse, val_r2_full = valid_fn(model, valid_loader)\n",
    "\n",
    "    train_mse.append(train_loss)\n",
    "    scores.append(val_score)\n",
    "    mses.append(val_mse)   \n",
    "    r2s.append(val_r2_full)   \n",
    "    \n",
    "    if val_r2_full > best_score:\n",
    "        best_score = val_r2_full\n",
    "        torch.save(model.state_dict(), \"best_score_model.pth\")\n",
    "\n",
    "    if val_mse < best_mse:\n",
    "        best_mse = val_mse\n",
    "        torch.save(model.state_dict(), \"best_mse_model.pth\")\n",
    "        \n",
    "    torch.save(model.state_dict(), \"last_model.pth\")\n",
    "    \n",
    "    scheduler.step()"
   ]
  },
  {
   "cell_type": "code",
   "execution_count": 62,
   "metadata": {},
   "outputs": [],
   "source": [
    "history = pd.DataFrame({'train_loss': train_mse, 'mse': mses, 'r2': r2s})"
   ]
  },
  {
   "cell_type": "code",
   "execution_count": 63,
   "metadata": {},
   "outputs": [
    {
     "data": {
      "text/plain": [
       "<Axes: >"
      ]
     },
     "execution_count": 63,
     "metadata": {},
     "output_type": "execute_result"
    },
    {
     "data": {
      "image/png": "[encoded data removed]",
      "text/plain": [
       "<Figure size 640x480 with 1 Axes>"
      ]
     },
     "metadata": {},
     "output_type": "display_data"
    }
   ],
   "source": [
    "history.plot()"
   ]
  },
  {
   "cell_type": "code",
   "execution_count": 64,
   "metadata": {},
   "outputs": [],
   "source": [
    "#torch.save(model.state_dict(), \"last_model.pth\")"
   ]
  },
  {
   "cell_type": "code",
   "execution_count": 65,
   "metadata": {},
   "outputs": [],
   "source": [
    "#torch.cuda.empty_cache()"
   ]
  },
  {
   "cell_type": "code",
   "execution_count": 66,
   "metadata": {},
   "outputs": [
    {
     "data": {
      "text/plain": [
       "'0.000008'"
      ]
     },
     "execution_count": 66,
     "metadata": {},
     "output_type": "execute_result"
    }
   ],
   "source": [
    "f'{scheduler.get_last_lr()[0]:.6f}'"
   ]
  },
  {
   "cell_type": "markdown",
   "metadata": {},
   "source": [
    "# Pred val set"
   ]
  },
  {
   "cell_type": "code",
   "execution_count": null,
   "metadata": {},
   "outputs": [],
   "source": [
    "#model = TfaLeapModel(**nn_config_tfa)\n",
    "#model = model.to(DEVICE)\n",
    "model.load_state_dict(torch.load(\"best_score_model.pth\", map_location=DEVICE))"
   ]
  },
  {
   "cell_type": "code",
   "execution_count": 67,
   "metadata": {},
   "outputs": [],
   "source": [
    "def predict_valid(model: nn.Module, loader: DataLoader) -> float:\n",
    "    \"\"\"\n",
    "    Validate the deep learning model for 1 epoch.\n",
    "    \n",
    "    Parameters\n",
    "    ----------\n",
    "    model : torch.nn.Module\n",
    "        The PyTorch model to be validated.\n",
    "    loader : torch.utils.data.DataLoader\n",
    "        DataLoader for the validation data.\n",
    "\n",
    "    Returns\n",
    "    -------\n",
    "    float\n",
    "        The average R2 score over the validation epoch.\n",
    "    \"\"\"\n",
    "    \n",
    "    progress_bar = tqdm(enumerate(loader, start=1), total=len(loader), ncols=100)\n",
    "    #progress_bar.set_description(f'Epoch {epoch}')\n",
    "    model.eval()\n",
    "    val_score = 0\n",
    "    preds = []\n",
    "    \n",
    "    with torch.no_grad():\n",
    "        for step, batch in progress_bar:\n",
    "            x, y, l = batch\n",
    "            x, y = x.to(DEVICE), y.to(DEVICE)\n",
    "            \n",
    "            y_pred = model(x)\n",
    "            y_pred = y_pred['output']  \n",
    "            \n",
    "            y = y.cpu()\n",
    "            y = (y * Y_STD) + Y_MEAN\n",
    "            #y = (y * Y_STD)\n",
    "            y /= torch.tensor(SCALE_WEIGHTS)\n",
    "\n",
    "            \n",
    "            y_pred = y_pred.cpu()\n",
    "            #y_pred[:, Y_STD == 0] = Y_MEAN[:, Y_STD == 0]\n",
    "            #y_pred[:, Y_STD < (1.1 * ERR)] = Y_MEAN[Y_STD < (1.1 * ERR)]\n",
    "            \n",
    "            y_pred = (y_pred * Y_STD) + Y_MEAN\n",
    "            #y_pred = (y_pred * Y_STD) \n",
    "            y_pred /= torch.tensor(SCALE_WEIGHTS)\n",
    "\n",
    "            \n",
    "            val_score += r2_score(y_pred, y)\n",
    "            \n",
    "            progress_bar.set_postfix({\n",
    "                'valid_score': val_score / step,\n",
    "            })\n",
    "        \n",
    "            preds.append(y_pred.numpy())\n",
    "    return np.vstack(preds)"
   ]
  },
  {
   "cell_type": "code",
   "execution_count": 68,
   "metadata": {},
   "outputs": [
    {
     "name": "stderr",
     "output_type": "stream",
     "text": [
      "100%|██████████████████████████████████████████| 586/586 [00:53<00:00, 10.89it/s, valid_score=0.986]\n"
     ]
    }
   ],
   "source": [
    "#y_valid = np.concatenate([((yb * Y_STD))/torch.tensor(SCALE_WEIGHTS) for _, yb in valid_loader])\n",
    "y_valid = np.concatenate([((yb * Y_STD) + Y_MEAN)/torch.tensor(SCALE_WEIGHTS) for _, yb, _ in valid_loader])\n",
    "#y_valid = np.concatenate([((yb * Y_STD) + Y_MEAN) for _, yb in valid_loader])\n",
    "#x_valid = np.concatenate([xb for xb, _ in valid_loader])\n",
    "p_valid = predict_valid(model, valid_loader)"
   ]
  },
  {
   "cell_type": "code",
   "execution_count": 69,
   "metadata": {},
   "outputs": [
    {
     "data": {
      "text/plain": [
       "0"
      ]
     },
     "execution_count": 69,
     "metadata": {},
     "output_type": "execute_result"
    }
   ],
   "source": [
    "(~np.isfinite(y_valid)).sum()"
   ]
  },
  {
   "cell_type": "code",
   "execution_count": 70,
   "metadata": {},
   "outputs": [
    {
     "data": {
      "text/plain": [
       "[<matplotlib.lines.Line2D at 0x17332e78c10>]"
      ]
     },
     "execution_count": 70,
     "metadata": {},
     "output_type": "execute_result"
    },
    {
     "data": {
      "image/png": "[encoded data removed]",
      "text/plain": [
       "<Figure size 640x480 with 1 Axes>"
      ]
     },
     "metadata": {},
     "output_type": "display_data"
    }
   ],
   "source": [
    "plt.plot(y_valid.max(0)[:368])"
   ]
  },
  {
   "cell_type": "code",
   "execution_count": 71,
   "metadata": {},
   "outputs": [
    {
     "data": {
      "text/plain": [
       "[<matplotlib.lines.Line2D at 0x1763cb751d0>]"
      ]
     },
     "execution_count": 71,
     "metadata": {},
     "output_type": "execute_result"
    },
    {
     "data": {
      "image/png": "[encoded data removed]",
      "text/plain": [
       "<Figure size 640x480 with 1 Axes>"
      ]
     },
     "metadata": {},
     "output_type": "display_data"
    }
   ],
   "source": [
    "plt.plot(p_valid.max(0)[:368])"
   ]
  },
  {
   "cell_type": "code",
   "execution_count": 72,
   "metadata": {},
   "outputs": [
    {
     "data": {
      "text/plain": [
       "array([5.74278057e-04, 1.00261128e+03, 4.81259763e+02, 1.81489440e-07,\n",
       "       1.45340056e-06, 4.92798529e+02, 5.12974151e+02, 2.60333449e+02,\n",
       "       1.83444706e+02])"
      ]
     },
     "execution_count": 72,
     "metadata": {},
     "output_type": "execute_result"
    }
   ],
   "source": [
    "p_valid.max(0)[359:]"
   ]
  },
  {
   "cell_type": "code",
   "execution_count": 73,
   "metadata": {},
   "outputs": [
    {
     "data": {
      "text/plain": [
       "array([0.00659128, 0.        , 0.        , 0.        , 0.        ,\n",
       "       0.        , 0.        , 0.        , 0.        ])"
      ]
     },
     "execution_count": 73,
     "metadata": {},
     "output_type": "execute_result"
    }
   ],
   "source": [
    "Y_MEAN[359:]"
   ]
  },
  {
   "cell_type": "code",
   "execution_count": 74,
   "metadata": {},
   "outputs": [
    {
     "data": {
      "text/plain": [
       "tensor(3497.1024, dtype=torch.float64)"
      ]
     },
     "execution_count": 74,
     "metadata": {},
     "output_type": "execute_result"
    }
   ],
   "source": [
    "(nn.MSELoss(reduction='none')(torch.tensor(p_valid), torch.tensor(y_valid)) * torch.tensor(TARGET_WEIGHTS)).sum(1).mean()"
   ]
  },
  {
   "cell_type": "code",
   "execution_count": 75,
   "metadata": {},
   "outputs": [
    {
     "data": {
      "text/plain": [
       "0.7103611249165404"
      ]
     },
     "execution_count": 75,
     "metadata": {},
     "output_type": "execute_result"
    }
   ],
   "source": [
    "r2_score_clipped(torch.tensor(p_valid), torch.tensor(y_valid))"
   ]
  },
  {
   "cell_type": "code",
   "execution_count": 76,
   "metadata": {},
   "outputs": [
    {
     "data": {
      "text/plain": [
       "array([2.17631512e+00, 2.04541207e+00, 1.98691893e+00, ...,\n",
       "       7.13742968e-06, 4.36775046e-06, 3.40515430e-06])"
      ]
     },
     "execution_count": 76,
     "metadata": {},
     "output_type": "execute_result"
    }
   ],
   "source": [
    "errors = (((p_valid - y_valid)**2)**0.5/368).sum(1)\n",
    "top_mistakes = (-errors).argsort()\n",
    "\n",
    "errors[top_mistakes]"
   ]
  },
  {
   "cell_type": "code",
   "execution_count": 77,
   "metadata": {},
   "outputs": [
    {
     "data": {
      "text/plain": [
       "940"
      ]
     },
     "execution_count": 77,
     "metadata": {},
     "output_type": "execute_result"
    }
   ],
   "source": [
    "mask_errors = errors[top_mistakes] > 1.0\n",
    "mask_errors.sum()"
   ]
  },
  {
   "cell_type": "code",
   "execution_count": 78,
   "metadata": {},
   "outputs": [
    {
     "data": {
      "text/plain": [
       "[<matplotlib.lines.Line2D at 0x1763cbfca90>]"
      ]
     },
     "execution_count": 78,
     "metadata": {},
     "output_type": "execute_result"
    },
    {
     "data": {
      "image/png": "[encoded data removed]",
      "text/plain": [
       "<Figure size 640x480 with 1 Axes>"
      ]
     },
     "metadata": {},
     "output_type": "display_data"
    }
   ],
   "source": [
    "plt.plot(errors[top_mistakes][mask_errors])"
   ]
  },
  {
   "cell_type": "code",
   "execution_count": 81,
   "metadata": {},
   "outputs": [
    {
     "data": {
      "text/plain": [
       "0.7103611249165404"
      ]
     },
     "execution_count": 81,
     "metadata": {},
     "output_type": "execute_result"
    },
    {
     "data": {
      "image/png": "[encoded data removed]",
      "text/plain": [
       "<Figure size 640x480 with 1 Axes>"
      ]
     },
     "metadata": {},
     "output_type": "display_data"
    }
   ],
   "source": [
    "scores_valid = np.array([metrics.r2_score(y_valid[:, i], p_valid[:, i]) for i in range(368)]) \n",
    "scores_valid = np.array([s if w==1 else 1 for s, w in  zip(scores_valid, TARGET_WEIGHTS)])\n",
    "\n",
    "plt.plot(scores_valid.clip(-1, 1))\n",
    "plt.plot(TARGET_WEIGHTS, alpha = 0.5)\n",
    "#(scores_valid.clip(-1, 1) * np.array(TARGET_WEIGHTS)).sum() / np.array(TARGET_WEIGHTS).sum()\n",
    "scores_valid.mean()"
   ]
  },
  {
   "cell_type": "code",
   "execution_count": 80,
   "metadata": {},
   "outputs": [
    {
     "data": {
      "text/plain": [
       "array([ 8.77574889e-01,  9.53185287e-01,  9.81194913e-01,  9.91127254e-01,\n",
       "        9.94455027e-01,  9.94911705e-01,  9.94415106e-01,  9.93692433e-01,\n",
       "        9.92611042e-01,  9.91498804e-01,  9.90183546e-01,  9.89042241e-01,\n",
       "        9.87293438e-01,  9.85644780e-01,  9.82405538e-01,  9.72205988e-01,\n",
       "        8.85056889e-01,  5.28009052e-01,  3.55129331e-01,  3.61788716e-01,\n",
       "        4.05799549e-01,  5.19832115e-01,  5.77624964e-01,  6.48381523e-01,\n",
       "        6.89857650e-01,  7.39468335e-01,  7.85266849e-01,  8.22492496e-01,\n",
       "        8.55355544e-01,  8.69772278e-01,  8.78195409e-01,  8.78362121e-01,\n",
       "        8.70616357e-01,  8.60756657e-01,  8.45055731e-01,  8.23443237e-01,\n",
       "        7.89934117e-01,  7.60354987e-01,  7.25500772e-01,  6.85355103e-01,\n",
       "        6.56710948e-01,  6.24527290e-01,  5.98251373e-01,  5.70003160e-01,\n",
       "        5.48368347e-01,  5.28412977e-01,  5.04845964e-01,  4.78068222e-01,\n",
       "        4.54598695e-01,  4.41847283e-01,  4.33625365e-01,  4.23434419e-01,\n",
       "        4.28953040e-01,  4.41698299e-01,  4.52141846e-01,  4.65844013e-01,\n",
       "        4.84720970e-01,  4.87647632e-01,  5.36406840e-01,  7.07210868e-01,\n",
       "       -7.17422324e-02, -2.15297534e-01, -2.38875464e-01, -2.77565969e-01,\n",
       "        0.00000000e+00,  0.00000000e+00,  0.00000000e+00,  0.00000000e+00,\n",
       "        0.00000000e+00,  0.00000000e+00,  0.00000000e+00,  0.00000000e+00,\n",
       "        9.56536869e-01,  8.86110639e-01,  4.53773893e-01,  6.70365621e-01,\n",
       "        5.65557100e-01,  4.04338344e-01,  2.25718041e-01,  5.57134431e-01,\n",
       "        4.79488607e-01,  6.07709336e-01,  6.82652262e-01,  7.39639650e-01,\n",
       "        7.92057735e-01,  8.17264511e-01,  8.30778940e-01,  8.33285990e-01,\n",
       "        8.37218216e-01,  8.31348689e-01,  8.21465716e-01,  7.96196408e-01,\n",
       "        7.55211145e-01,  7.05712744e-01,  6.49713023e-01,  5.77557730e-01,\n",
       "        5.13092083e-01,  4.65728990e-01,  4.25111863e-01,  3.90389603e-01,\n",
       "        3.71435476e-01,  3.63050332e-01,  3.64532209e-01,  3.58722782e-01,\n",
       "        3.55641115e-01,  3.52256761e-01,  3.45644817e-01,  3.32826052e-01,\n",
       "        3.26206378e-01,  3.23031240e-01,  3.20505095e-01,  3.24135661e-01,\n",
       "        3.39896550e-01,  3.67227884e-01,  3.94633000e-01,  4.19610737e-01,\n",
       "        4.71542291e-01,  5.00386708e-01,  5.56743540e-01,  5.45377753e-01,\n",
       "        0.00000000e+00,  0.00000000e+00,  0.00000000e+00,  0.00000000e+00,\n",
       "        0.00000000e+00,  0.00000000e+00,  0.00000000e+00,  0.00000000e+00,\n",
       "        0.00000000e+00,  0.00000000e+00,  0.00000000e+00,  0.00000000e+00,\n",
       "       -6.55326213e-02,  1.00000000e+00,  1.00000000e+00,  1.00000000e+00,\n",
       "        1.00000000e+00,  1.00000000e+00,  1.00000000e+00,  1.00000000e+00,\n",
       "        1.00000000e+00, -6.95328148e+01, -8.09371704e+01, -1.79189980e+01,\n",
       "       -2.95560129e+01, -8.84241231e+02, -1.26497207e+05,  8.38413739e-01,\n",
       "        8.35813986e-01,  7.71972889e-01,  5.94013413e-01,  4.08424407e-01,\n",
       "        3.67846588e-01,  3.79479422e-01,  3.83102703e-01,  3.84802043e-01,\n",
       "        3.77762855e-01,  3.89937176e-01,  3.73567361e-01,  3.77567297e-01,\n",
       "        3.83760090e-01,  3.83747852e-01,  3.77127804e-01,  3.71108655e-01,\n",
       "        3.59056187e-01,  3.59314017e-01,  3.57658821e-01,  3.52616343e-01,\n",
       "        3.56828586e-01,  3.62054530e-01,  3.54980969e-01,  3.45186525e-01,\n",
       "        3.47594916e-01,  3.55917032e-01,  3.95913664e-01,  4.88278675e-01,\n",
       "        5.94162308e-01,  7.07737249e-01,  7.93541580e-01,  8.25830367e-01,\n",
       "        0.00000000e+00,  0.00000000e+00,  0.00000000e+00,  0.00000000e+00,\n",
       "        0.00000000e+00,  0.00000000e+00,  0.00000000e+00,  0.00000000e+00,\n",
       "        0.00000000e+00,  0.00000000e+00,  0.00000000e+00,  0.00000000e+00,\n",
       "        9.64137125e-01,  9.47951076e-01,  9.39797449e-01,  8.74486580e-01,\n",
       "        4.04633870e-01,  2.87753968e-01,  5.03824707e-01,  6.82496041e-01,\n",
       "        5.74973026e-01,  4.94837408e-01,  4.26243968e-01,  4.56419130e-01,\n",
       "        4.63660299e-01,  4.12290904e-01,  3.89045640e-01,  4.08362420e-01,\n",
       "        4.31371021e-01,  4.47692248e-01,  4.88465705e-01,  5.17831292e-01,\n",
       "        5.20093516e-01,  5.18742621e-01,  5.27991436e-01,  5.46107321e-01,\n",
       "        5.45688136e-01,  5.48142378e-01,  5.41037861e-01,  5.20066966e-01,\n",
       "        4.83869192e-01,  4.60963851e-01,  4.54035961e-01,  4.37434935e-01,\n",
       "        4.28187861e-01,  4.18239986e-01,  4.30101203e-01,  4.56674818e-01,\n",
       "        4.90191738e-01,  5.21829830e-01,  5.66342406e-01,  6.15732830e-01,\n",
       "        6.59850752e-01,  7.07945642e-01,  7.45879006e-01,  7.70115144e-01,\n",
       "        7.92368084e-01,  8.21408430e-01,  8.37505897e-01,  8.70706955e-01,\n",
       "        0.00000000e+00,  0.00000000e+00,  0.00000000e+00,  0.00000000e+00,\n",
       "        0.00000000e+00,  0.00000000e+00,  0.00000000e+00,  0.00000000e+00,\n",
       "        0.00000000e+00,  0.00000000e+00,  0.00000000e+00,  0.00000000e+00,\n",
       "        7.86658583e-01,  8.01123557e-01,  8.30948275e-01,  8.47636627e-01,\n",
       "        8.59531392e-01,  8.31934685e-01,  7.50160940e-01,  7.06563687e-01,\n",
       "        7.68947130e-01,  7.49124679e-01,  7.26978974e-01,  6.82071143e-01,\n",
       "        6.49556160e-01,  6.29068618e-01,  5.78253075e-01,  5.56221262e-01,\n",
       "        5.67985406e-01,  5.31166441e-01,  5.21327969e-01,  5.16604965e-01,\n",
       "        4.87134319e-01,  4.42469826e-01,  4.35324369e-01,  4.38906421e-01,\n",
       "        4.71699117e-01,  4.99053681e-01,  5.10518326e-01,  4.97393540e-01,\n",
       "        4.93087294e-01,  4.83025265e-01,  4.85613949e-01,  4.92005130e-01,\n",
       "        5.06786147e-01,  5.45934326e-01,  5.84952771e-01,  6.29775370e-01,\n",
       "        6.85019835e-01,  7.38859768e-01,  7.88749627e-01,  8.30172071e-01,\n",
       "        8.45981621e-01,  8.39626606e-01,  8.41364482e-01,  8.46497946e-01,\n",
       "        8.61977220e-01,  8.53895941e-01,  8.22085311e-01,  9.29881788e-01,\n",
       "        0.00000000e+00,  0.00000000e+00,  0.00000000e+00,  0.00000000e+00,\n",
       "        0.00000000e+00,  0.00000000e+00,  0.00000000e+00,  0.00000000e+00,\n",
       "        0.00000000e+00,  0.00000000e+00,  0.00000000e+00,  0.00000000e+00,\n",
       "        7.89347623e-01,  8.13930286e-01,  8.36073942e-01,  8.44515026e-01,\n",
       "        8.58709418e-01,  8.51549322e-01,  8.42244462e-01,  8.14854983e-01,\n",
       "        7.78792088e-01,  7.45039538e-01,  7.34278573e-01,  7.23506205e-01,\n",
       "        6.89550354e-01,  6.83292939e-01,  6.50459027e-01,  6.49809851e-01,\n",
       "        6.23415695e-01,  6.41513103e-01,  6.58100070e-01,  6.65522808e-01,\n",
       "        6.69862540e-01,  6.34371706e-01,  6.18253450e-01,  6.30863355e-01,\n",
       "        6.47004803e-01,  6.74624911e-01,  6.84649622e-01,  6.88357648e-01,\n",
       "        6.84684356e-01,  6.75887979e-01,  6.57284772e-01,  6.44573840e-01,\n",
       "        6.54747626e-01,  6.56780314e-01,  6.73718853e-01,  6.89493010e-01,\n",
       "        7.08734042e-01,  7.33450989e-01,  7.64375271e-01,  7.93602906e-01,\n",
       "        8.29130207e-01,  8.59440297e-01,  8.72949004e-01,  8.75464047e-01,\n",
       "        8.77423376e-01,  8.68316861e-01,  8.50601954e-01,  9.22881323e-01,\n",
       "        9.74384180e-01,  8.62011120e-01,  9.16934299e-01,  8.84619889e-01,\n",
       "        9.66405330e-01,  9.55507433e-01,  9.48104235e-01,  8.75854915e-01])"
      ]
     },
     "execution_count": 80,
     "metadata": {},
     "output_type": "execute_result"
    }
   ],
   "source": [
    "scores_valid"
   ]
  },
  {
   "cell_type": "code",
   "execution_count": null,
   "metadata": {},
   "outputs": [],
   "source": [
    "scores_valid = np.array([metrics.mean_absolute_percentage_error(y_valid[:, i], p_valid[:, i]) for i in range(368)]) \n",
    "plt.plot(scores_valid.clip(0, 300))\n",
    "plt.plot(np.array(TARGET_WEIGHTS)*100, alpha = 0.5)\n",
    "(scores_valid.clip(-1, 1) * np.array(TARGET_WEIGHTS)).sum() / np.array(TARGET_WEIGHTS).sum()"
   ]
  },
  {
   "cell_type": "code",
   "execution_count": null,
   "metadata": {},
   "outputs": [],
   "source": [
    "y_valid_scale = (y_valid - Y_MEAN) / Y_STD\n",
    "p_valid_scale = (p_valid - Y_MEAN) / Y_STD"
   ]
  },
  {
   "cell_type": "code",
   "execution_count": null,
   "metadata": {},
   "outputs": [],
   "source": [
    "y_valid_scale.min(0)"
   ]
  },
  {
   "cell_type": "code",
   "execution_count": null,
   "metadata": {},
   "outputs": [],
   "source": [
    "y_valid_scale[:,-8:].min(0)"
   ]
  },
  {
   "cell_type": "code",
   "execution_count": null,
   "metadata": {},
   "outputs": [],
   "source": [
    "(y_valid_scale[:,-1:] < -0.4992).sum()"
   ]
  },
  {
   "cell_type": "code",
   "execution_count": null,
   "metadata": {},
   "outputs": [],
   "source": [
    "y_valid_scale.shape"
   ]
  },
  {
   "cell_type": "code",
   "execution_count": null,
   "metadata": {},
   "outputs": [],
   "source": [
    "mse_valid = nn.MSELoss(reduction='none')(torch.tensor(y_valid_scale), torch.tensor(p_valid_scale)).mean(0).numpy()\n",
    "\n",
    "plt.plot(mse_valid.clip(0, 1))\n",
    "plt.plot(TARGET_WEIGHTS, alpha = 0.5)\n",
    "(scores_valid.clip(0, 1) * np.array(TARGET_WEIGHTS)).sum() / np.array(TARGET_WEIGHTS).sum()"
   ]
  },
  {
   "cell_type": "code",
   "execution_count": null,
   "metadata": {},
   "outputs": [],
   "source": [
    "y_valid"
   ]
  },
  {
   "cell_type": "code",
   "execution_count": null,
   "metadata": {},
   "outputs": [],
   "source": [
    "plt.plot(scores_valid.clip(-1, 1)[80:110])"
   ]
  },
  {
   "cell_type": "code",
   "execution_count": null,
   "metadata": {},
   "outputs": [],
   "source": [
    "Y_STD[70:110]"
   ]
  },
  {
   "cell_type": "code",
   "execution_count": null,
   "metadata": {},
   "outputs": [],
   "source": [
    "Y_MEAN[np.array(TARGET_WEIGHTS)>0][Y_STD[np.array(TARGET_WEIGHTS)>0] == 0]"
   ]
  },
  {
   "cell_type": "code",
   "execution_count": null,
   "metadata": {},
   "outputs": [],
   "source": [
    "scores_valid[Y_MEAN==0]"
   ]
  },
  {
   "cell_type": "code",
   "execution_count": null,
   "metadata": {},
   "outputs": [],
   "source": [
    "Y_STD[np.array(TARGET_WEIGHTS)>0]"
   ]
  },
  {
   "cell_type": "code",
   "execution_count": null,
   "metadata": {},
   "outputs": [],
   "source": [
    "Y_MEAN[np.array(TARGET_WEIGHTS)>0]"
   ]
  },
  {
   "cell_type": "code",
   "execution_count": null,
   "metadata": {
    "scrolled": true
   },
   "outputs": [],
   "source": [
    "Y_MEAN"
   ]
  },
  {
   "cell_type": "code",
   "execution_count": null,
   "metadata": {},
   "outputs": [],
   "source": [
    "import math\n",
    "\n",
    "S_WEIGHTS = []\n",
    "\n",
    "for val in Y_MEAN:\n",
    "    if val != 0:\n",
    "        logval = math.log10(abs(val))\n",
    "        S_WEIGHTS.append(-round(logval - (0.5 if logval<0 else 0)))\n",
    "    else:\n",
    "        S_WEIGHTS.append(0)\n",
    "\n",
    "\n",
    "S_WEIGHTS = [float(f'1e{f}') for f in S_WEIGHTS]"
   ]
  },
  {
   "cell_type": "code",
   "execution_count": null,
   "metadata": {},
   "outputs": [],
   "source": [
    "print(S_WEIGHTS)"
   ]
  },
  {
   "cell_type": "code",
   "execution_count": null,
   "metadata": {},
   "outputs": [],
   "source": [
    "round(logval - (0.5 if logval<0 else 0))"
   ]
  },
  {
   "cell_type": "code",
   "execution_count": null,
   "metadata": {
    "scrolled": true
   },
   "outputs": [],
   "source": [
    "S_WEIGHTS = []\n",
    "\n",
    "for yy in Y_MEAN:\n",
    "    T = 1\n",
    "    if abs(yy) > 1:\n",
    "        T = 1   \n",
    "    elif abs(yy) > 1e-6:\n",
    "        T = 1e6\n",
    "    elif abs(yy) > 1e-10:\n",
    "        T = 1e10    \n",
    "    elif abs(yy) > 1e-16:\n",
    "        T = 1e16            \n",
    "    elif abs(yy) > 1e-20:\n",
    "        T = 1e20        \n",
    "    elif abs(yy) > 1e-24:\n",
    "        T = 1e24        \n",
    "    elif abs(yy) > 1e-30:\n",
    "        T = 1e30\n",
    "    elif abs(yy) > 1e-36:\n",
    "        T = 1e36\n",
    "    elif abs(yy) <= 1e-36:\n",
    "        T = 1e36\n",
    "    S_WEIGHTS.append(T)\n",
    "                    "
   ]
  },
  {
   "cell_type": "code",
   "execution_count": null,
   "metadata": {},
   "outputs": [],
   "source": [
    "print(S_WEIGHTS)"
   ]
  },
  {
   "cell_type": "code",
   "execution_count": null,
   "metadata": {},
   "outputs": [],
   "source": [
    "Y_MEAN[np.array(TARGET_WEIGHTS)>0][Y_STD[np.array(TARGET_WEIGHTS)>0] == ERR]"
   ]
  },
  {
   "cell_type": "code",
   "execution_count": null,
   "metadata": {},
   "outputs": [],
   "source": [
    "Y_STD[np.array(TARGET_WEIGHTS)>0]"
   ]
  },
  {
   "cell_type": "code",
   "execution_count": null,
   "metadata": {},
   "outputs": [],
   "source": [
    "Y_MEAN[np.array(TARGET_WEIGHTS)>0]"
   ]
  },
  {
   "cell_type": "code",
   "execution_count": null,
   "metadata": {},
   "outputs": [],
   "source": [
    "[Y_STD[np.array(TARGET_WEIGHTS)>0] == ERR]"
   ]
  },
  {
   "cell_type": "code",
   "execution_count": null,
   "metadata": {},
   "outputs": [],
   "source": [
    "np.log(6.8322e-37)"
   ]
  },
  {
   "cell_type": "code",
   "execution_count": null,
   "metadata": {},
   "outputs": [],
   "source": [
    "Y_MEAN"
   ]
  },
  {
   "cell_type": "code",
   "execution_count": null,
   "metadata": {},
   "outputs": [],
   "source": [
    "np.finfo(np.float32)"
   ]
  },
  {
   "cell_type": "code",
   "execution_count": null,
   "metadata": {},
   "outputs": [],
   "source": [
    "Y_STD[np.array(TARGET_WEIGHTS)>0]"
   ]
  },
  {
   "cell_type": "code",
   "execution_count": null,
   "metadata": {},
   "outputs": [],
   "source": [
    "mask = scores_valid <= 1e-3\n",
    "\n",
    "p_test = np.array(p_valid)\n",
    "p_test[:, mask] = Y_MEAN[mask]"
   ]
  },
  {
   "cell_type": "code",
   "execution_count": null,
   "metadata": {},
   "outputs": [],
   "source": [
    "scores_valid = np.array([metrics.r2_score(y_valid[:, i], p_test[:, i]) for i in range(368)])\n",
    "plt.plot(scores_valid.clip(-1, 1))\n",
    "plt.plot(TARGET_WEIGHTS, alpha = 0.5)\n",
    "scores_valid.clip(-1, 1).mean()"
   ]
  },
  {
   "cell_type": "markdown",
   "metadata": {},
   "source": [
    "### Evaluation"
   ]
  },
  {
   "cell_type": "code",
   "execution_count": null,
   "metadata": {},
   "outputs": [],
   "source": [
    "model = LeapModel(**nn_config)\n",
    "model = model.to(DEVICE)\n",
    "model.load_state_dict(torch.load(\"best_model.pth\", map_location=DEVICE))\n",
    "#model.load_state_dict(torch.load(\"/kaggle/input/leap-models/first_leap_model.pth\", map_location=DEVICE))\n",
    "\n",
    "df_test = pl.read_csv(TEST_PATH)\n",
    "df_test = df_test.to_pandas()\n",
    "df_test = df_test.set_index(\"sample_id\")\n",
    "\n",
    "df_subm = pl.read_csv(SUBMISSION_PATH)\n",
    "df_subm = df_subm.to_pandas()\n",
    "df_subm = df_subm.set_index(\"sample_id\")\n",
    "\n",
    "static_pred = -df_test[REPLACE_TO].to_numpy() * df_subm[REPLACE_FROM].to_numpy() / 1200"
   ]
  },
  {
   "cell_type": "code",
   "execution_count": null,
   "metadata": {},
   "outputs": [],
   "source": [
    "df_subm.loc[df_test.index, TARGET_NAMES] = pred_fn(model, df_test)\n",
    "\n",
    "df_subm[REPLACE_FROM] = static_pred\n",
    "\n",
    "df_subm = df_subm.reset_index()\n",
    "df_subm = df_subm[[\"sample_id\"] + TARGET_NAMES]\n",
    "\n",
    "df_subm = pl.from_pandas(df_subm)\n",
    "df_subm.write_csv(\"submission.csv\")"
   ]
  },
  {
   "cell_type": "code",
   "execution_count": null,
   "metadata": {},
   "outputs": [],
   "source": []
  },
  {
   "cell_type": "code",
   "execution_count": null,
   "metadata": {},
   "outputs": [],
   "source": []
  },
  {
   "cell_type": "code",
   "execution_count": null,
   "metadata": {},
   "outputs": [],
   "source": [
    "import pandas as pd\n",
    "\n",
    "df = pd.concat([\n",
    "    pd.read_parquet('dataset_f16_10kk_part_1.parquet', columns = TARGET_NAMES + ['sample_id']),\n",
    "    pd.read_parquet('dataset_f16_10kk_part_2.parquet', columns = TARGET_NAMES + ['sample_id']),\n",
    "    pd.read_parquet('dataset_f16_10kk_part_3.parquet', columns = TARGET_NAMES + ['sample_id']),\n",
    "    pd.read_parquet('dataset_f16_10kk_part_4.parquet', columns = TARGET_NAMES + ['sample_id']),\n",
    "])\n",
    "\n"
   ]
  },
  {
   "cell_type": "code",
   "execution_count": null,
   "metadata": {},
   "outputs": [],
   "source": [
    "y_min = df.groupby(df.sample_id.map(lambda x: int(x.split('_')[-1])%384))[TARGET_NAMES].min(0)"
   ]
  },
  {
   "cell_type": "code",
   "execution_count": null,
   "metadata": {},
   "outputs": [],
   "source": [
    "y_max = df.groupby(df.sample_id.map(lambda x: int(x.split('_')[-1])%384))[TARGET_NAMES].max(0)"
   ]
  },
  {
   "cell_type": "code",
   "execution_count": null,
   "metadata": {},
   "outputs": [],
   "source": [
    "y_min"
   ]
  },
  {
   "cell_type": "code",
   "execution_count": null,
   "metadata": {},
   "outputs": [],
   "source": [
    "LOC_Y_MIN"
   ]
  },
  {
   "cell_type": "code",
   "execution_count": null,
   "metadata": {},
   "outputs": [],
   "source": [
    "import gc\n",
    "\n",
    "del df\n",
    "gc.collect()"
   ]
  },
  {
   "cell_type": "code",
   "execution_count": null,
   "metadata": {},
   "outputs": [],
   "source": [
    "df = pd.concat([\n",
    "    pd.read_parquet('dataset_f16_10kk_part_1.parquet').sample(900_000),\n",
    "    pd.read_parquet('dataset_f16_10kk_part_2.parquet').sample(900_000),\n",
    "    pd.read_parquet('dataset_f16_10kk_part_3.parquet').sample(900_000),\n",
    "    pd.read_parquet('dataset_f16_10kk_part_4.parquet').sample(900_000),\n",
    "])"
   ]
  },
  {
   "cell_type": "code",
   "execution_count": null,
   "metadata": {},
   "outputs": [],
   "source": [
    "df.to_parquet('dataset_f16_3.6m_sample.parquet', index=False)"
   ]
  },
  {
   "cell_type": "code",
   "execution_count": null,
   "metadata": {},
   "outputs": [],
   "source": []
  }
 ],
 "metadata": {
  "kaggle": {
   "accelerator": "gpu",
   "dataSources": [
    {
     "databundleVersionId": 8015876,
     "sourceId": 56537,
     "sourceType": "competition"
    },
    {
     "datasetId": 4998928,
     "sourceId": 8404301,
     "sourceType": "datasetVersion"
    },
    {
     "datasetId": 5213025,
     "sourceId": 8693172,
     "sourceType": "datasetVersion"
    }
   ],
   "dockerImageVersionId": 30699,
   "isGpuEnabled": true,
   "isInternetEnabled": true,
   "language": "python",
   "sourceType": "notebook"
  },
  "kernelspec": {
   "display_name": "Python 3 (ipykernel)",
   "language": "python",
   "name": "python3"
  },
  "language_info": {
   "codemirror_mode": {
    "name": "ipython",
    "version": 3
   },
   "file_extension": ".py",
   "mimetype": "text/x-python",
   "name": "python",
   "nbconvert_exporter": "python",
   "pygments_lexer": "ipython3",
   "version": "3.11.9"
  }
 },
 "nbformat": 4,
 "nbformat_minor": 4
}
