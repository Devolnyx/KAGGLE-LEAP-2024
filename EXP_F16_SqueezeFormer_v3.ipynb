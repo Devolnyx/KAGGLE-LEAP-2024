{
 "cells": [
  {
   "cell_type": "code",
   "execution_count": 1,
   "metadata": {
    "_cell_guid": "b1076dfc-b9ad-4769-8c92-a6c4dae69d19",
    "_uuid": "8f2839f25d086af736a60e9eeb907d3b93b6e0e5"
   },
   "outputs": [
    {
     "name": "stdout",
     "output_type": "stream",
     "text": [
      "Supported Device:  cuda\n"
     ]
    }
   ],
   "source": [
    "from tqdm import tqdm\n",
    "from pathlib import Path\n",
    "\n",
    "import numpy as np\n",
    "import pandas as pd\n",
    "import polars as pl\n",
    "\n",
    "import matplotlib.pyplot as plt\n",
    "from sklearn import metrics\n",
    "\n",
    "import torch\n",
    "from torch import nn\n",
    "from torch import optim\n",
    "from torch.optim import lr_scheduler\n",
    "from torch.utils.data import Dataset\n",
    "from torch.utils.data import DataLoader\n",
    "from torch.utils.data import random_split\n",
    "\n",
    "torch.manual_seed(150)\n",
    "\n",
    "DEVICE = torch.device(\"cuda\" if torch.cuda.is_available() else \"cpu\")\n",
    "print(\"Supported Device: \", DEVICE)"
   ]
  },
  {
   "cell_type": "code",
   "execution_count": 2,
   "metadata": {},
   "outputs": [],
   "source": [
    "#!pip install polars"
   ]
  },
  {
   "cell_type": "code",
   "execution_count": 3,
   "metadata": {},
   "outputs": [],
   "source": [
    "# EXT_SRC: It contains 1 million randomly selected and shuffled rows from the original dataset.\n",
    "\n",
    "\n",
    "TRAIN_PATH = \"train_data_sample_1kk.parquet\"\n",
    "TRAIN_PATH = \"train_sampled_1m.parquet\"\n",
    "TRAIN_PATH = \"train_data_sample_3kk_part_1.parquet\"\n",
    "TRAIN_PATH = \"train_data_sample_3kk_part_2.parquet\"\n",
    "\n",
    "#TRAIN_PATH = \"dataset_f16_5kk_part_1.parquet\"\n",
    "#TRAIN_PATH = \"dataset_f16_5kk_part_2.parquet\"\n",
    "\n",
    "TRAIN_PATH = 'dataset_f16_3.6m_sample.parquet'\n",
    "\n",
    "#TRAIN_PATH = 'dataset_f16_300k_sample.parquet'\n",
    "#TRAIN_PATH = 'dataset_f16_1m_sample.parquet'\n",
    "\n",
    "NUM_EPOCHS = 50\n",
    "BATCH_SIZE = 256\n",
    "LEARNING_RATE = 2e-5\n",
    "ERR = 1e-16\n",
    "\n",
    "NUM_STEPS = 3000\n",
    "\n",
    "TRAIN_SIZE = 3_600_000 - 325_000\n",
    "VALID_SIZE = 325_000\n",
    "\n",
    "#TRAIN_SIZE = 2_500_000 - 325_000\n",
    "#VALID_SIZE = 325_000\n",
    "\n",
    "#TRAIN_SIZE = 800_000\n",
    "#VALID_SIZE = 200_000\n",
    "\n",
    "DIM_FEATURES = 556\n",
    "DIM_TARGETS = 368"
   ]
  },
  {
   "cell_type": "code",
   "execution_count": 4,
   "metadata": {},
   "outputs": [],
   "source": [
    "#pd.read_parquet('dataset_f16_3.6m_sample.parquet').sample(1_000_000).to_parquet('dataset_f16_1m_sample.parquet', index=False)"
   ]
  },
  {
   "cell_type": "code",
   "execution_count": 5,
   "metadata": {},
   "outputs": [],
   "source": [
    "#pd.read_pqrquet(\"dataset_f16_5kk_part_1.parquet\"), pd.read_pqrquet(\"dataset_f16_5kk_part_2.parquet\"), "
   ]
  },
  {
   "cell_type": "code",
   "execution_count": 6,
   "metadata": {},
   "outputs": [],
   "source": [
    "ID = \"sample_id\"\n",
    "\n",
    "# INPUT COLUMNS\n",
    "\n",
    "STATE_PS = \"state_ps\"\n",
    "\n",
    "PBUF_SOLIN = \"pbuf_SOLIN\"\n",
    "PBUF_LHFLX = \"pbuf_LHFLX\"\n",
    "PBUF_SHFLX = \"pbuf_SHFLX\"\n",
    "PBUF_TAUX = \"pbuf_TAUX\"\n",
    "PBUF_TAUY = \"pbuf_TAUY\"\n",
    "PBUF_COSZRS = \"pbuf_COSZRS\"\n",
    "\n",
    "CAM_IN_ALDIF = \"cam_in_ALDIF\"\n",
    "CAM_IN_ALDIR = \"cam_in_ALDIR\"\n",
    "CAM_IN_ASDIF = \"cam_in_ASDIF\"\n",
    "CAM_IN_ASDIR = \"cam_in_ASDIR\"\n",
    "CAM_IN_LWUP = \"cam_in_LWUP\"\n",
    "CAM_IN_ICEFRAC = \"cam_in_ICEFRAC\"\n",
    "CAM_IN_LANDFRAC = \"cam_in_LANDFRAC\"\n",
    "CAM_IN_OCNFRAC = \"cam_in_OCNFRAC\"\n",
    "CAM_IN_SNOWHLAND = \"cam_in_SNOWHLAND\"\n",
    "\n",
    "STATE_U = ['state_u_0', 'state_u_1', 'state_u_2', 'state_u_3', 'state_u_4', 'state_u_5', 'state_u_6', 'state_u_7', 'state_u_8', 'state_u_9', 'state_u_10', 'state_u_11', 'state_u_12', 'state_u_13', 'state_u_14', 'state_u_15', 'state_u_16', 'state_u_17', 'state_u_18', 'state_u_19', 'state_u_20', 'state_u_21', 'state_u_22', 'state_u_23', 'state_u_24', 'state_u_25', 'state_u_26', 'state_u_27', 'state_u_28', 'state_u_29', 'state_u_30', 'state_u_31', 'state_u_32', 'state_u_33', 'state_u_34', 'state_u_35', 'state_u_36', 'state_u_37', 'state_u_38', 'state_u_39', 'state_u_40', 'state_u_41', 'state_u_42', 'state_u_43', 'state_u_44', 'state_u_45', 'state_u_46', 'state_u_47', 'state_u_48', 'state_u_49', 'state_u_50', 'state_u_51', 'state_u_52', 'state_u_53', 'state_u_54', 'state_u_55', 'state_u_56', 'state_u_57', 'state_u_58', 'state_u_59']\n",
    "STATE_V = ['state_v_0', 'state_v_1', 'state_v_2', 'state_v_3', 'state_v_4', 'state_v_5', 'state_v_6', 'state_v_7', 'state_v_8', 'state_v_9', 'state_v_10', 'state_v_11', 'state_v_12', 'state_v_13', 'state_v_14', 'state_v_15', 'state_v_16', 'state_v_17', 'state_v_18', 'state_v_19', 'state_v_20', 'state_v_21', 'state_v_22', 'state_v_23', 'state_v_24', 'state_v_25', 'state_v_26', 'state_v_27', 'state_v_28', 'state_v_29', 'state_v_30', 'state_v_31', 'state_v_32', 'state_v_33', 'state_v_34', 'state_v_35', 'state_v_36', 'state_v_37', 'state_v_38', 'state_v_39', 'state_v_40', 'state_v_41', 'state_v_42', 'state_v_43', 'state_v_44', 'state_v_45', 'state_v_46', 'state_v_47', 'state_v_48', 'state_v_49', 'state_v_50', 'state_v_51', 'state_v_52', 'state_v_53', 'state_v_54', 'state_v_55', 'state_v_56', 'state_v_57', 'state_v_58', 'state_v_59']\n",
    "STATE_T = ['state_t_0', 'state_t_1', 'state_t_2', 'state_t_3', 'state_t_4', 'state_t_5', 'state_t_6', 'state_t_7', 'state_t_8', 'state_t_9', 'state_t_10', 'state_t_11', 'state_t_12', 'state_t_13', 'state_t_14', 'state_t_15', 'state_t_16', 'state_t_17', 'state_t_18', 'state_t_19', 'state_t_20', 'state_t_21', 'state_t_22', 'state_t_23', 'state_t_24', 'state_t_25', 'state_t_26', 'state_t_27', 'state_t_28', 'state_t_29', 'state_t_30', 'state_t_31', 'state_t_32', 'state_t_33', 'state_t_34', 'state_t_35', 'state_t_36', 'state_t_37', 'state_t_38', 'state_t_39', 'state_t_40', 'state_t_41', 'state_t_42', 'state_t_43', 'state_t_44', 'state_t_45', 'state_t_46', 'state_t_47', 'state_t_48', 'state_t_49', 'state_t_50', 'state_t_51', 'state_t_52', 'state_t_53', 'state_t_54', 'state_t_55', 'state_t_56', 'state_t_57', 'state_t_58', 'state_t_59']\n",
    "\n",
    "STATE_Q0001 = ['state_q0001_0', 'state_q0001_1', 'state_q0001_2', 'state_q0001_3', 'state_q0001_4', 'state_q0001_5', 'state_q0001_6', 'state_q0001_7', 'state_q0001_8', 'state_q0001_9', 'state_q0001_10', 'state_q0001_11', 'state_q0001_12', 'state_q0001_13', 'state_q0001_14', 'state_q0001_15', 'state_q0001_16', 'state_q0001_17', 'state_q0001_18', 'state_q0001_19', 'state_q0001_20', 'state_q0001_21', 'state_q0001_22', 'state_q0001_23', 'state_q0001_24', 'state_q0001_25', 'state_q0001_26', 'state_q0001_27', 'state_q0001_28', 'state_q0001_29', 'state_q0001_30', 'state_q0001_31', 'state_q0001_32', 'state_q0001_33', 'state_q0001_34', 'state_q0001_35', 'state_q0001_36', 'state_q0001_37', 'state_q0001_38', 'state_q0001_39', 'state_q0001_40', 'state_q0001_41', 'state_q0001_42', 'state_q0001_43', 'state_q0001_44', 'state_q0001_45', 'state_q0001_46', 'state_q0001_47', 'state_q0001_48', 'state_q0001_49', 'state_q0001_50', 'state_q0001_51', 'state_q0001_52', 'state_q0001_53', 'state_q0001_54', 'state_q0001_55', 'state_q0001_56', 'state_q0001_57', 'state_q0001_58', 'state_q0001_59']\n",
    "STATE_Q0002 = ['state_q0002_0', 'state_q0002_1', 'state_q0002_2', 'state_q0002_3', 'state_q0002_4', 'state_q0002_5', 'state_q0002_6', 'state_q0002_7', 'state_q0002_8', 'state_q0002_9', 'state_q0002_10', 'state_q0002_11', 'state_q0002_12', 'state_q0002_13', 'state_q0002_14', 'state_q0002_15', 'state_q0002_16', 'state_q0002_17', 'state_q0002_18', 'state_q0002_19', 'state_q0002_20', 'state_q0002_21', 'state_q0002_22', 'state_q0002_23', 'state_q0002_24', 'state_q0002_25', 'state_q0002_26', 'state_q0002_27', 'state_q0002_28', 'state_q0002_29', 'state_q0002_30', 'state_q0002_31', 'state_q0002_32', 'state_q0002_33', 'state_q0002_34', 'state_q0002_35', 'state_q0002_36', 'state_q0002_37', 'state_q0002_38', 'state_q0002_39', 'state_q0002_40', 'state_q0002_41', 'state_q0002_42', 'state_q0002_43', 'state_q0002_44', 'state_q0002_45', 'state_q0002_46', 'state_q0002_47', 'state_q0002_48', 'state_q0002_49', 'state_q0002_50', 'state_q0002_51', 'state_q0002_52', 'state_q0002_53', 'state_q0002_54', 'state_q0002_55', 'state_q0002_56', 'state_q0002_57', 'state_q0002_58', 'state_q0002_59']\n",
    "STATE_Q0003 = ['state_q0003_0', 'state_q0003_1', 'state_q0003_2', 'state_q0003_3', 'state_q0003_4', 'state_q0003_5', 'state_q0003_6', 'state_q0003_7', 'state_q0003_8', 'state_q0003_9', 'state_q0003_10', 'state_q0003_11', 'state_q0003_12', 'state_q0003_13', 'state_q0003_14', 'state_q0003_15', 'state_q0003_16', 'state_q0003_17', 'state_q0003_18', 'state_q0003_19', 'state_q0003_20', 'state_q0003_21', 'state_q0003_22', 'state_q0003_23', 'state_q0003_24', 'state_q0003_25', 'state_q0003_26', 'state_q0003_27', 'state_q0003_28', 'state_q0003_29', 'state_q0003_30', 'state_q0003_31', 'state_q0003_32', 'state_q0003_33', 'state_q0003_34', 'state_q0003_35', 'state_q0003_36', 'state_q0003_37', 'state_q0003_38', 'state_q0003_39', 'state_q0003_40', 'state_q0003_41', 'state_q0003_42', 'state_q0003_43', 'state_q0003_44', 'state_q0003_45', 'state_q0003_46', 'state_q0003_47', 'state_q0003_48', 'state_q0003_49', 'state_q0003_50', 'state_q0003_51', 'state_q0003_52', 'state_q0003_53', 'state_q0003_54', 'state_q0003_55', 'state_q0003_56', 'state_q0003_57', 'state_q0003_58', 'state_q0003_59']\n",
    "\n",
    "PBUF_OZONE = ['pbuf_ozone_0', 'pbuf_ozone_1', 'pbuf_ozone_2', 'pbuf_ozone_3', 'pbuf_ozone_4', 'pbuf_ozone_5', 'pbuf_ozone_6', 'pbuf_ozone_7', 'pbuf_ozone_8', 'pbuf_ozone_9', 'pbuf_ozone_10', 'pbuf_ozone_11', 'pbuf_ozone_12', 'pbuf_ozone_13', 'pbuf_ozone_14', 'pbuf_ozone_15', 'pbuf_ozone_16', 'pbuf_ozone_17', 'pbuf_ozone_18', 'pbuf_ozone_19', 'pbuf_ozone_20', 'pbuf_ozone_21', 'pbuf_ozone_22', 'pbuf_ozone_23', 'pbuf_ozone_24', 'pbuf_ozone_25', 'pbuf_ozone_26', 'pbuf_ozone_27', 'pbuf_ozone_28', 'pbuf_ozone_29', 'pbuf_ozone_30', 'pbuf_ozone_31', 'pbuf_ozone_32', 'pbuf_ozone_33', 'pbuf_ozone_34', 'pbuf_ozone_35', 'pbuf_ozone_36', 'pbuf_ozone_37', 'pbuf_ozone_38', 'pbuf_ozone_39', 'pbuf_ozone_40', 'pbuf_ozone_41', 'pbuf_ozone_42', 'pbuf_ozone_43', 'pbuf_ozone_44', 'pbuf_ozone_45', 'pbuf_ozone_46', 'pbuf_ozone_47', 'pbuf_ozone_48', 'pbuf_ozone_49', 'pbuf_ozone_50', 'pbuf_ozone_51', 'pbuf_ozone_52', 'pbuf_ozone_53', 'pbuf_ozone_54', 'pbuf_ozone_55', 'pbuf_ozone_56', 'pbuf_ozone_57', 'pbuf_ozone_58', 'pbuf_ozone_59']\n",
    "PBUF_CH4 = ['pbuf_CH4_0', 'pbuf_CH4_1', 'pbuf_CH4_2', 'pbuf_CH4_3', 'pbuf_CH4_4', 'pbuf_CH4_5', 'pbuf_CH4_6', 'pbuf_CH4_7', 'pbuf_CH4_8', 'pbuf_CH4_9', 'pbuf_CH4_10', 'pbuf_CH4_11', 'pbuf_CH4_12', 'pbuf_CH4_13', 'pbuf_CH4_14', 'pbuf_CH4_15', 'pbuf_CH4_16', 'pbuf_CH4_17', 'pbuf_CH4_18', 'pbuf_CH4_19', 'pbuf_CH4_20', 'pbuf_CH4_21', 'pbuf_CH4_22', 'pbuf_CH4_23', 'pbuf_CH4_24', 'pbuf_CH4_25', 'pbuf_CH4_26', 'pbuf_CH4_27', 'pbuf_CH4_28', 'pbuf_CH4_29', 'pbuf_CH4_30', 'pbuf_CH4_31', 'pbuf_CH4_32', 'pbuf_CH4_33', 'pbuf_CH4_34', 'pbuf_CH4_35', 'pbuf_CH4_36', 'pbuf_CH4_37', 'pbuf_CH4_38', 'pbuf_CH4_39', 'pbuf_CH4_40', 'pbuf_CH4_41', 'pbuf_CH4_42', 'pbuf_CH4_43', 'pbuf_CH4_44', 'pbuf_CH4_45', 'pbuf_CH4_46', 'pbuf_CH4_47', 'pbuf_CH4_48', 'pbuf_CH4_49', 'pbuf_CH4_50', 'pbuf_CH4_51', 'pbuf_CH4_52', 'pbuf_CH4_53', 'pbuf_CH4_54', 'pbuf_CH4_55', 'pbuf_CH4_56', 'pbuf_CH4_57', 'pbuf_CH4_58', 'pbuf_CH4_59']\n",
    "PBUF_N2O = ['pbuf_N2O_0', 'pbuf_N2O_1', 'pbuf_N2O_2', 'pbuf_N2O_3', 'pbuf_N2O_4', 'pbuf_N2O_5', 'pbuf_N2O_6', 'pbuf_N2O_7', 'pbuf_N2O_8', 'pbuf_N2O_9', 'pbuf_N2O_10', 'pbuf_N2O_11', 'pbuf_N2O_12', 'pbuf_N2O_13', 'pbuf_N2O_14', 'pbuf_N2O_15', 'pbuf_N2O_16', 'pbuf_N2O_17', 'pbuf_N2O_18', 'pbuf_N2O_19', 'pbuf_N2O_20', 'pbuf_N2O_21', 'pbuf_N2O_22', 'pbuf_N2O_23', 'pbuf_N2O_24', 'pbuf_N2O_25', 'pbuf_N2O_26', 'pbuf_N2O_27', 'pbuf_N2O_28', 'pbuf_N2O_29', 'pbuf_N2O_30', 'pbuf_N2O_31', 'pbuf_N2O_32', 'pbuf_N2O_33', 'pbuf_N2O_34', 'pbuf_N2O_35', 'pbuf_N2O_36', 'pbuf_N2O_37', 'pbuf_N2O_38', 'pbuf_N2O_39', 'pbuf_N2O_40', 'pbuf_N2O_41', 'pbuf_N2O_42', 'pbuf_N2O_43', 'pbuf_N2O_44', 'pbuf_N2O_45', 'pbuf_N2O_46', 'pbuf_N2O_47', 'pbuf_N2O_48', 'pbuf_N2O_49', 'pbuf_N2O_50', 'pbuf_N2O_51', 'pbuf_N2O_52', 'pbuf_N2O_53', 'pbuf_N2O_54', 'pbuf_N2O_55', 'pbuf_N2O_56', 'pbuf_N2O_57', 'pbuf_N2O_58', 'pbuf_N2O_59']\n",
    "\n",
    "# OUTPUT COLUMNS\n",
    "\n",
    "CAM_OUT_NETSW = \"cam_out_NETSW\"\n",
    "CAM_OUT_FLWDS = \"cam_out_FLWDS\"\n",
    "CAM_OUT_PRECSC = \"cam_out_PRECSC\"\n",
    "CAM_OUT_PRECC = \"cam_out_PRECC\"\n",
    "CAM_OUT_SOLS = \"cam_out_SOLS\"\n",
    "CAM_OUT_SOLL = \"cam_out_SOLL\"\n",
    "CAM_OUT_SOLSD = \"cam_out_SOLSD\"\n",
    "CAM_OUT_SOLLD = \"cam_out_SOLLD\"\n",
    "\n",
    "PTEND_Q0001 = ['ptend_q0001_0', 'ptend_q0001_1', 'ptend_q0001_2', 'ptend_q0001_3', 'ptend_q0001_4', 'ptend_q0001_5', 'ptend_q0001_6', 'ptend_q0001_7', 'ptend_q0001_8', 'ptend_q0001_9', 'ptend_q0001_10', 'ptend_q0001_11', 'ptend_q0001_12', 'ptend_q0001_13', 'ptend_q0001_14', 'ptend_q0001_15', 'ptend_q0001_16', 'ptend_q0001_17', 'ptend_q0001_18', 'ptend_q0001_19', 'ptend_q0001_20', 'ptend_q0001_21', 'ptend_q0001_22', 'ptend_q0001_23', 'ptend_q0001_24', 'ptend_q0001_25', 'ptend_q0001_26', 'ptend_q0001_27', 'ptend_q0001_28', 'ptend_q0001_29', 'ptend_q0001_30', 'ptend_q0001_31', 'ptend_q0001_32', 'ptend_q0001_33', 'ptend_q0001_34', 'ptend_q0001_35', 'ptend_q0001_36', 'ptend_q0001_37', 'ptend_q0001_38', 'ptend_q0001_39', 'ptend_q0001_40', 'ptend_q0001_41', 'ptend_q0001_42', 'ptend_q0001_43', 'ptend_q0001_44', 'ptend_q0001_45', 'ptend_q0001_46', 'ptend_q0001_47', 'ptend_q0001_48', 'ptend_q0001_49', 'ptend_q0001_50', 'ptend_q0001_51', 'ptend_q0001_52', 'ptend_q0001_53', 'ptend_q0001_54', 'ptend_q0001_55', 'ptend_q0001_56', 'ptend_q0001_57', 'ptend_q0001_58', 'ptend_q0001_59']\n",
    "PTEND_Q0002 = ['ptend_q0002_0', 'ptend_q0002_1', 'ptend_q0002_2', 'ptend_q0002_3', 'ptend_q0002_4', 'ptend_q0002_5', 'ptend_q0002_6', 'ptend_q0002_7', 'ptend_q0002_8', 'ptend_q0002_9', 'ptend_q0002_10', 'ptend_q0002_11', 'ptend_q0002_12', 'ptend_q0002_13', 'ptend_q0002_14', 'ptend_q0002_15', 'ptend_q0002_16', 'ptend_q0002_17', 'ptend_q0002_18', 'ptend_q0002_19', 'ptend_q0002_20', 'ptend_q0002_21', 'ptend_q0002_22', 'ptend_q0002_23', 'ptend_q0002_24', 'ptend_q0002_25', 'ptend_q0002_26', 'ptend_q0002_27', 'ptend_q0002_28', 'ptend_q0002_29', 'ptend_q0002_30', 'ptend_q0002_31', 'ptend_q0002_32', 'ptend_q0002_33', 'ptend_q0002_34', 'ptend_q0002_35', 'ptend_q0002_36', 'ptend_q0002_37', 'ptend_q0002_38', 'ptend_q0002_39', 'ptend_q0002_40', 'ptend_q0002_41', 'ptend_q0002_42', 'ptend_q0002_43', 'ptend_q0002_44', 'ptend_q0002_45', 'ptend_q0002_46', 'ptend_q0002_47', 'ptend_q0002_48', 'ptend_q0002_49', 'ptend_q0002_50', 'ptend_q0002_51', 'ptend_q0002_52', 'ptend_q0002_53', 'ptend_q0002_54', 'ptend_q0002_55', 'ptend_q0002_56', 'ptend_q0002_57', 'ptend_q0002_58', 'ptend_q0002_59']\n",
    "PTEND_Q0003 = ['ptend_q0003_0', 'ptend_q0003_1', 'ptend_q0003_2', 'ptend_q0003_3', 'ptend_q0003_4', 'ptend_q0003_5', 'ptend_q0003_6', 'ptend_q0003_7', 'ptend_q0003_8', 'ptend_q0003_9', 'ptend_q0003_10', 'ptend_q0003_11', 'ptend_q0003_12', 'ptend_q0003_13', 'ptend_q0003_14', 'ptend_q0003_15', 'ptend_q0003_16', 'ptend_q0003_17', 'ptend_q0003_18', 'ptend_q0003_19', 'ptend_q0003_20', 'ptend_q0003_21', 'ptend_q0003_22', 'ptend_q0003_23', 'ptend_q0003_24', 'ptend_q0003_25', 'ptend_q0003_26', 'ptend_q0003_27', 'ptend_q0003_28', 'ptend_q0003_29', 'ptend_q0003_30', 'ptend_q0003_31', 'ptend_q0003_32', 'ptend_q0003_33', 'ptend_q0003_34', 'ptend_q0003_35', 'ptend_q0003_36', 'ptend_q0003_37', 'ptend_q0003_38', 'ptend_q0003_39', 'ptend_q0003_40', 'ptend_q0003_41', 'ptend_q0003_42', 'ptend_q0003_43', 'ptend_q0003_44', 'ptend_q0003_45', 'ptend_q0003_46', 'ptend_q0003_47', 'ptend_q0003_48', 'ptend_q0003_49', 'ptend_q0003_50', 'ptend_q0003_51', 'ptend_q0003_52', 'ptend_q0003_53', 'ptend_q0003_54', 'ptend_q0003_55', 'ptend_q0003_56', 'ptend_q0003_57', 'ptend_q0003_58', 'ptend_q0003_59']\n",
    "\n",
    "PTEND_U = ['ptend_u_0', 'ptend_u_1', 'ptend_u_2', 'ptend_u_3', 'ptend_u_4', 'ptend_u_5', 'ptend_u_6', 'ptend_u_7', 'ptend_u_8', 'ptend_u_9', 'ptend_u_10', 'ptend_u_11', 'ptend_u_12', 'ptend_u_13', 'ptend_u_14', 'ptend_u_15', 'ptend_u_16', 'ptend_u_17', 'ptend_u_18', 'ptend_u_19', 'ptend_u_20', 'ptend_u_21', 'ptend_u_22', 'ptend_u_23', 'ptend_u_24', 'ptend_u_25', 'ptend_u_26', 'ptend_u_27', 'ptend_u_28', 'ptend_u_29', 'ptend_u_30', 'ptend_u_31', 'ptend_u_32', 'ptend_u_33', 'ptend_u_34', 'ptend_u_35', 'ptend_u_36', 'ptend_u_37', 'ptend_u_38', 'ptend_u_39', 'ptend_u_40', 'ptend_u_41', 'ptend_u_42', 'ptend_u_43', 'ptend_u_44', 'ptend_u_45', 'ptend_u_46', 'ptend_u_47', 'ptend_u_48', 'ptend_u_49', 'ptend_u_50', 'ptend_u_51', 'ptend_u_52', 'ptend_u_53', 'ptend_u_54', 'ptend_u_55', 'ptend_u_56', 'ptend_u_57', 'ptend_u_58', 'ptend_u_59']\n",
    "PTEND_V = ['ptend_v_0', 'ptend_v_1', 'ptend_v_2', 'ptend_v_3', 'ptend_v_4', 'ptend_v_5', 'ptend_v_6', 'ptend_v_7', 'ptend_v_8', 'ptend_v_9', 'ptend_v_10', 'ptend_v_11', 'ptend_v_12', 'ptend_v_13', 'ptend_v_14', 'ptend_v_15', 'ptend_v_16', 'ptend_v_17', 'ptend_v_18', 'ptend_v_19', 'ptend_v_20', 'ptend_v_21', 'ptend_v_22', 'ptend_v_23', 'ptend_v_24', 'ptend_v_25', 'ptend_v_26', 'ptend_v_27', 'ptend_v_28', 'ptend_v_29', 'ptend_v_30', 'ptend_v_31', 'ptend_v_32', 'ptend_v_33', 'ptend_v_34', 'ptend_v_35', 'ptend_v_36', 'ptend_v_37', 'ptend_v_38', 'ptend_v_39', 'ptend_v_40', 'ptend_v_41', 'ptend_v_42', 'ptend_v_43', 'ptend_v_44', 'ptend_v_45', 'ptend_v_46', 'ptend_v_47', 'ptend_v_48', 'ptend_v_49', 'ptend_v_50', 'ptend_v_51', 'ptend_v_52', 'ptend_v_53', 'ptend_v_54', 'ptend_v_55', 'ptend_v_56', 'ptend_v_57', 'ptend_v_58', 'ptend_v_59']\n",
    "PTEND_T = ['ptend_t_0', 'ptend_t_1', 'ptend_t_2', 'ptend_t_3', 'ptend_t_4', 'ptend_t_5', 'ptend_t_6', 'ptend_t_7', 'ptend_t_8', 'ptend_t_9', 'ptend_t_10', 'ptend_t_11', 'ptend_t_12', 'ptend_t_13', 'ptend_t_14', 'ptend_t_15', 'ptend_t_16', 'ptend_t_17', 'ptend_t_18', 'ptend_t_19', 'ptend_t_20', 'ptend_t_21', 'ptend_t_22', 'ptend_t_23', 'ptend_t_24', 'ptend_t_25', 'ptend_t_26', 'ptend_t_27', 'ptend_t_28', 'ptend_t_29', 'ptend_t_30', 'ptend_t_31', 'ptend_t_32', 'ptend_t_33', 'ptend_t_34', 'ptend_t_35', 'ptend_t_36', 'ptend_t_37', 'ptend_t_38', 'ptend_t_39', 'ptend_t_40', 'ptend_t_41', 'ptend_t_42', 'ptend_t_43', 'ptend_t_44', 'ptend_t_45', 'ptend_t_46', 'ptend_t_47', 'ptend_t_48', 'ptend_t_49', 'ptend_t_50', 'ptend_t_51', 'ptend_t_52', 'ptend_t_53', 'ptend_t_54', 'ptend_t_55', 'ptend_t_56', 'ptend_t_57', 'ptend_t_58', 'ptend_t_59']\n",
    "\n",
    "# REPLACEMENT COLUMNS\n",
    "\n",
    "REPLACE_FROM = ['ptend_q0002_0', 'ptend_q0002_1', 'ptend_q0002_2', 'ptend_q0002_3', 'ptend_q0002_4', 'ptend_q0002_5', 'ptend_q0002_6', 'ptend_q0002_7', 'ptend_q0002_8', 'ptend_q0002_9', 'ptend_q0002_10', 'ptend_q0002_11', 'ptend_q0002_12', 'ptend_q0002_13', 'ptend_q0002_14', 'ptend_q0002_15', 'ptend_q0002_16', 'ptend_q0002_17', 'ptend_q0002_18', 'ptend_q0002_19', 'ptend_q0002_20', 'ptend_q0002_21', 'ptend_q0002_22', 'ptend_q0002_23', 'ptend_q0002_24', 'ptend_q0002_25', 'ptend_q0002_26']\n",
    "REPLACE_TO = ['state_q0002_0', 'state_q0002_1', 'state_q0002_2', 'state_q0002_3', 'state_q0002_4', 'state_q0002_5', 'state_q0002_6', 'state_q0002_7', 'state_q0002_8', 'state_q0002_9', 'state_q0002_10', 'state_q0002_11', 'state_q0002_12', 'state_q0002_13', 'state_q0002_14', 'state_q0002_15', 'state_q0002_16', 'state_q0002_17', 'state_q0002_18', 'state_q0002_19', 'state_q0002_20', 'state_q0002_21', 'state_q0002_22', 'state_q0002_23', 'state_q0002_24', 'state_q0002_25', 'state_q0002_26']\n",
    "\n",
    "# TARGET WEIGHTS\n",
    "\n",
    "TARGET_WEIGHTS = [30981.265271661872, 22502.432413914863, 18894.14713004499, 14514.244730542465, 10944.348069459196, 9065.01072024503, 9663.669038687454, 12688.557362943708, 19890.17226527665, 25831.37317235381, 33890.367561807274, 44122.94111025334, 59811.25595068309, 79434.07500078829, 107358.80916894016, 135720.8418348218, 149399.8411114814, 128492.95185325432, 91746.23687305572, 72748.76911097553, 66531.53596840335, 62932.30598423903, 56610.26874314136, 49473.14369220607, 43029.18495420936, 36912.67491908133, 31486.93117928144, 26898.072997215502, 23316.638282978325, 20459.73133196152, 18385.68309639014, 17111.405107656312, 16337.80991958771, 15857.759882318944, 15580.902485189716, 15497.59045982052, 15612.2556996736, 15797.88455410361, 15974.218740897895, 16130.395527176632, 16261.310866446129, 16371.892401608216, 16397.019695140876, 16325.463899570548, 16228.641108112768, 16191.809643436269, 16341.207925934068, 16645.711351490587, 17005.493716683693, 17430.29874509864, 17907.24023203076, 18431.55334008694, 19032.471309392287, 19701.355113141435, 20408.236605392685, 20967.20795006453, 21194.427318009974, 21088.521528526755, 19437.91555757985, 13677.902713248171, 0, 0, 0, 0, 0, 0, 0, 0, 0, 0, 0, 0, 871528441401.8333, 1083221770553.0684, 147034752676.7702, 35556045575.13566, 35153369257.41337, 46086368691.51654, 24689305171.692936, 11343276593.440475, 5396624651.94418, 2449353007.641508, 1132225885.703891, 579547849.1340877, 330219246.7861086, 207613930.3131764, 144580292.27473342, 109933282.92266414, 88706603.092171, 73819777.54163922, 63615988.74519494, 57250262.292053565, 52976073.06761927, 49653169.17819005, 46544975.11484598, 43167606.9599748, 39724375.20499403, 36317177.25886468, 33057511.80930482, 29869089.497658804, 26982386.85583376, 24416235.17215712, 22273651.697369896, 20553426.04804544, 19216240.03357431, 18167694.44812838, 17501855.536957663, 17169938.630597908, 17005382.258644175, 16998475.26752617, 17082890.987979066, 17227982.77516062, 17445823.21630204, 17757404.421785507, 18346092.75160569, 19400573.66632694, 20506722.48296608, 22469648.380506545, 23432031.455169585, 26204163.40545158, 0, 0, 0, 0, 0, 0, 0, 0, 0, 0, 0, 0, 0, 0, 0, 1000000000000000.0, 1000000000000000.0, 1000000000000000.0, 1000000000000000.0, 1000000000000000.0, 1000000000000000.0, 1000000000000000.0, 1000000000000000.0, 1000000000000000.0, 1000000000000000.0, 1000000000000000.0, 3673829810926.31, 371405570725.2526, 14219163611.984406, 3001863018.1934915, 1432766589.9326108, 884599805.0283787, 560127980.1033351, 386052567.7087711, 287331851.051439, 222703657.59538063, 181069239.6264349, 154620864.3164144, 138093777.60284117, 126605828.89875436, 117967840.02553518, 111005814.39518328, 105186901.20678852, 100168133.0295481, 95568646.67416307, 91457433.39515457, 88871610.45308323, 88829796.26374224, 91398113.73291488, 96585131.67000748, 104507692.01463065, 115895119.998433, 131939701.08213414, 154492946.00677127, 183147918.17086875, 215151374.22324687, 247158314.6345976, 266792879.42215955, 279115128.29108113, 370541510.87006927, 0, 0, 0, 0, 0, 0, 0, 0, 0, 0, 0, 0, 877670509694.7871, 1174826943136.8308, 1270605570069.038, 21727315470.5208, 3159456646.5437946, 1090653401.282219, 727967089.8459107, 384399548.9506704, 290787296.9451616, 232703218.45048887, 197467462.7577736, 174310890.8025987, 160536437.73297343, 153567098.77048483, 152120124.9453068, 153115566.6756177, 153955545.42558223, 153734675.21565756, 154798666.36905554, 163346213.58113608, 180013139.3707387, 200324358.8534948, 220754613.1646765, 241290935.478592, 262868932.2066308, 284448910.01847774, 305681084.4142859, 327605088.8575117, 350473296.7263526, 373964594.1196182, 398396925.8173239, 423528355.65716046, 450447055.544388, 478857006.4973163, 508200335.7126168, 537309657.5789208, 566854568.2904652, 594618842.9455439, 619715928.2391286, 641395460.8414665, 663290039.7810476, 689274894.631561, 718208866.3397261, 743951200.8024124, 761776104.2945968, 772911224.3082078, 804001144.8046833, 772448774.7758856, 0, 0, 0, 0, 0, 0, 0, 0, 0, 0, 0, 0, 4613823.568205323, 1999308.9343799097, 904636.2296014762, 433823.6123842511, 207201.39055371704, 107836.09164720173, 57647.915219220784, 40606.52305039815, 47739.86647922776, 51669.35493930698, 56438.19768395407, 60447.45665200092, 65251.4153955275, 71920.88588011517, 78529.58115204438, 83422.30217897324, 87036.98552475807, 90389.72631774022, 93982.39165674087, 97578.0099352472, 101428.21366062944, 104630.69200130588, 105685.04322626138, 103962.58423268417, 99650.31670632094, 94290.49986206587, 89514.90144353417, 85905.45713126978, 82784.9857650212, 79152.28707014346, 74847.81017353121, 70378.81859610273, 65420.04643792357, 59953.75184604176, 54764.28281143022, 50362.51288353384, 46212.571031725325, 41997.52779088816, 37692.05148110484, 33834.73460995647, 31846.09764364542, 31934.145655397457, 31454.81247448105, 30105.4073072481, 26957.830283611693, 27760.04479210889, 29853.374336459365, 19133.428743715107, 0, 0, 0, 0, 0, 0, 0, 0, 0, 0, 0, 0, 7619940.584531054, 3148394.472742347, 1308415.0022178134, 540515.7720745018, 215237.1053603881, 102546.7276372816, 68453.67122640925, 50692.59053608593, 51487.52043139844, 52104.76838400132, 54019.39151917722, 55856.02168787862, 60347.30240270209, 68990.96019017675, 79096.88768563846, 87574.33453690328, 94158.56052476274, 101903.63670531697, 111746.9753834774, 122460.65399236557, 132086.69387474353, 141041.48571028374, 146354.09441287292, 145953.09590059065, 139496.8007888401, 128508.85108217449, 116665.51769667884, 107458.39706309135, 100259.97236694951, 94108.98505029618, 88439.89456238014, 82734.9027659809, 77061.08621371102, 71333.5319243128, 65999.72532130677, 61798.9972058361, 58237.356419617165, 54715.10266341248, 50825.84431702935, 46059.17688689915, 40740.26050401376, 36335.80228304863, 33981.57568605091, 33589.7143390849, 33988.88524112733, 36272.9364507092, 41183.34413717943, 29194.12369278645, 0.0040536134869726, 0.0138824238058072, 135129884.5084534, 12219717.5342461, 0.0090705273332672, 0.0085898851680217, 0.0215368188774867, 0.0336321308942602]\n",
    "\n",
    "SCALE_WEIGHTS = [1e10] * 360 + [1] * 8\n",
    "\n",
    "TARGET_WEIGHTS = [1, 1, 1, 1, 1, 1, 1, 1, 1, 1, 1, 1, 1, 1, 1, 1, 1, 1, 1, 1, 1, 1,\n",
    "        1, 1, 1, 1, 1, 1, 1, 1, 1, 1, 1, 1, 1, 1, 1, 1, 1, 1, 1, 1, 1, 1,\n",
    "        1, 1, 1, 1, 1, 1, 1, 1, 1, 1, 1, 1, 1, 1, 1, 1, 0, 0, 0, 0, 0, 0,\n",
    "        0, 0, 0, 0, 0, 0, 1, 1, 1, 1, 1, 1, 1, 1, 1, 1, 1, 1, 1, 1, 1, 1,\n",
    "        1, 1, 1, 1, 1, 1, 1, 1, 1, 1, 1, 1, 1, 1, 1, 1, 1, 1, 1, 1, 1, 1,\n",
    "        1, 1, 1, 1, 1, 1, 1, 1, 1, 1, 0, 0, 0, 0, 0, 0, 0, 0, 0, 0, 0, 0,\n",
    "        1, 1, 1, 1, 1, 1, 1, 1, 1, 1, 1, 1, 1, 1, 1, 1, 1, 1, 1, 1, 1, 1,\n",
    "        1, 1, 1, 1, 1, 1, 1, 1, 1, 1, 1, 1, 1, 1, 1, 1, 1, 1, 1, 1, 1, 1,\n",
    "        1, 1, 1, 1, 0, 0, 0, 0, 0, 0, 0, 0, 0, 0, 0, 0, 1, 1, 1, 1, 1, 1,\n",
    "        1, 1, 1, 1, 1, 1, 1, 1, 1, 1, 1, 1, 1, 1, 1, 1, 1, 1, 1, 1, 1, 1,\n",
    "        1, 1, 1, 1, 1, 1, 1, 1, 1, 1, 1, 1, 1, 1, 1, 1, 1, 1, 1, 1, 0, 0,\n",
    "        0, 0, 0, 0, 0, 0, 0, 0, 0, 0, 1, 1, 1, 1, 1, 1, 1, 1, 1, 1, 1, 1,\n",
    "        1, 1, 1, 1, 1, 1, 1, 1, 1, 1, 1, 1, 1, 1, 1, 1, 1, 1, 1, 1, 1, 1,\n",
    "        1, 1, 1, 1, 1, 1, 1, 1, 1, 1, 1, 1, 1, 1, 0, 0, 0, 0, 0, 0, 0, 0,\n",
    "        0, 0, 0, 0, 1, 1, 1, 1, 1, 1, 1, 1, 1, 1, 1, 1, 1, 1, 1, 1, 1, 1,\n",
    "        1, 1, 1, 1, 1, 1, 1, 1, 1, 1, 1, 1, 1, 1, 1, 1, 1, 1, 1, 1, 1, 1,\n",
    "        1, 1, 1, 1, 1, 1, 1, 1, 1, 1, 1, 1, 1, 1, 1, 1]\n",
    "\n",
    "\n",
    "TARGET_WEIGHTS = [1, 1, 1, 1, 1, 1, 1, 1, 1, 1, 1, 1, 1, 1, 1, 1, 1, 1, 1, 1, 1, 1,\n",
    "        1, 1, 1, 1, 1, 1, 1, 1, 1, 1, 1, 1, 1, 1, 1, 1, 1, 1, 1, 1, 1, 1,\n",
    "        1, 1, 1, 1, 1, 1, 1, 1, 1, 1, 1, 1, 1, 1, 1, 1, 0, 0, 0, 0, 0, 0,\n",
    "        0, 0, 0, 0, 0, 0, 1, 1, 1, 1, 1, 1, 1, 1, 1, 1, 1, 1, 1, 1, 1, 1,\n",
    "        1, 1, 1, 1, 1, 1, 1, 1, 1, 1, 1, 1, 1, 1, 1, 1, 1, 1, 1, 1, 1, 1,\n",
    "        1, 1, 1, 1, 1, 1, 1, 1, 1, 1, 0, 0, 0, 0, 0, 0, 0, 0, 0, 0, 0, 0,\n",
    "        0, 0, 0, 0, 0, 0, 0, 0, 0, 0, 0, 0, 0, 0, 0, 1, 1, 1, 1, 1, 1, 1,\n",
    "        1, 1, 1, 1, 1, 1, 1, 1, 1, 1, 1, 1, 1, 1, 1, 1, 1, 1, 1, 1, 1, 1,\n",
    "        1, 1, 1, 1, 0, 0, 0, 0, 0, 0, 0, 0, 0, 0, 0, 0, 1, 1, 1, 1, 1, 1,\n",
    "        1, 1, 1, 1, 1, 1, 1, 1, 1, 1, 1, 1, 1, 1, 1, 1, 1, 1, 1, 1, 1, 1,\n",
    "        1, 1, 1, 1, 1, 1, 1, 1, 1, 1, 1, 1, 1, 1, 1, 1, 1, 1, 1, 1, 0, 0,\n",
    "        0, 0, 0, 0, 0, 0, 0, 0, 0, 0, 1, 1, 1, 1, 1, 1, 1, 1, 1, 1, 1, 1,\n",
    "        1, 1, 1, 1, 1, 1, 1, 1, 1, 1, 1, 1, 1, 1, 1, 1, 1, 1, 1, 1, 1, 1,\n",
    "        1, 1, 1, 1, 1, 1, 1, 1, 1, 1, 1, 1, 1, 1, 0, 0, 0, 0, 0, 0, 0, 0,\n",
    "        0, 0, 0, 0, 1, 1, 1, 1, 1, 1, 1, 1, 1, 1, 1, 1, 1, 1, 1, 1, 1, 1,\n",
    "        1, 1, 1, 1, 1, 1, 1, 1, 1, 1, 1, 1, 1, 1, 1, 1, 1, 1, 1, 1, 1, 1,\n",
    "        1, 1, 1, 1, 1, 1, 1, 1, 1, 1, 1, 1, 1, 1, 1, 1]\n",
    "\n",
    "\n",
    "SCALE_WEIGHTS = [100000.0, 1000000.0, 1000000.0, 1000000.0, 1000000.0, 1000000.0, 10000000.0, 10000000.0, 10000000.0, 1000000000.0, 10000000.0, 10000000.0, 10000000.0, 10000000.0, 10000000.0, 10000000.0, 1000000.0, 1000000.0, 10000000.0, 10000000.0, 10000000.0, 1000000.0, 1000000.0, 1000000.0, 1000000.0, 1000000.0, 1000000.0, 1000000.0, 1000000.0, 1000000.0, 1000000.0, 10000000.0, 10000000.0, 10000000.0, 10000000.0, 10000000.0, 10000000.0, 10000000.0, 10000000.0, 10000000.0, 10000000.0, 10000000.0, 100000000.0, 10000000.0, 10000000.0, 10000000.0, 10000000.0, 10000000.0, 1000000.0, 1000000.0, 1000000.0, 1000000.0, 1000000.0, 1000000.0, 1000000.0, 1000000.0, 1000000.0, 1000000.0, 100000.0, 100000.0, 1e+17, 1e+17, 1e+17, 1e+18, 1.0, 1.0, 1.0, 1.0, 1.0, 1.0, 1.0, 1.0, 1000000000000000.0, 1000000000000000.0, 1000000000000000.0, 100000000000000.0, 100000000000000.0, 10000000000000.0, 10000000000000.0, 1000000000000.0, 1000000000000.0, 100000000000.0, 100000000000.0, 10000000000.0, 10000000000.0, 10000000000.0, 1000000000.0, 1000000000.0, 1000000000.0, 1000000000.0, 1000000000.0, 1000000000.0, 1000000000.0, 1000000000.0, 1000000000.0, 1000000000.0, 1000000000.0, 1000000000.0, 1000000000.0, 1000000000.0, 1000000000.0, 1000000000.0, 10000000000.0, 10000000000.0, 10000000000.0, 1000000000.0, 1000000000.0, 10000000000.0, 10000000000.0, 10000000000.0, 1000000000.0, 1000000000.0, 1000000000.0, 100000000.0, 100000000.0, 100000000.0, 100000000.0, 100000000.0, 100000000.0, 100000000.0, 1.0, 1.0, 1.0, 1.0, 1.0, 1.0, 1.0, 1.0, 1.0, 1.0, 1.0, 1.0, 1e+41, 1e+47, 1e+52, 1e+55, 1e+50, 1e+47, 1e+44, 1e+42, 1e+39, 1e+36, 1e+33, 1e+30, 1e+27, 1e+23, 1e+18, 1000000000000000.0, 1000000000000.0, 100000000000.0, 100000000000.0, 100000000000.0, 100000000000.0, 100000000000.0, 100000000000.0, 100000000000.0, 100000000000.0, 100000000000.0, 100000000000.0, 100000000000000.0, 100000000000.0, 100000000000.0, 100000000000.0, 100000000000.0, 100000000000.0, 10000000000.0, 10000000000.0, 10000000000.0, 100000000000.0, 10000000000.0, 10000000000.0, 10000000000.0, 10000000000.0, 10000000000.0, 100000000000.0, 100000000000.0, 100000000000.0, 1000000000000.0, 100000000000.0, 10000000000.0, 1.0, 1.0, 1.0, 1.0, 1.0, 1.0, 1.0, 1.0, 1.0, 1.0, 1.0, 1.0, 1000000000000000.0, 1e+16, 1000000000000000.0, 100000000000000.0, 10000000000000.0, 10000000000000.0, 1000000000000.0, 100000000000.0, 100000000000.0, 100000000000.0, 100000000000.0, 10000000000.0, 10000000000.0, 10000000000.0, 10000000000.0, 10000000000.0, 100000000000.0, 100000000000.0, 100000000000.0, 100000000000.0, 10000000000.0, 100000000000.0, 100000000000.0, 100000000000.0, 100000000000.0, 100000000000.0, 100000000000.0, 100000000000.0, 100000000000.0, 100000000000.0, 100000000000.0, 100000000000.0, 100000000000.0, 100000000000.0, 100000000000.0, 100000000000.0, 100000000000.0, 100000000000.0, 100000000000.0, 100000000000.0, 100000000000.0, 100000000000.0, 100000000000.0, 1000000000000.0, 100000000000.0, 100000000000.0, 100000000000.0, 10000000000.0, 1.0, 1.0, 1.0, 1.0, 1.0, 1.0, 1.0, 1.0, 1.0, 1.0, 1.0, 1.0, 1000000000.0, 1000000000.0, 100000000.0, 100000000.0, 100000000.0, 10000000.0, 1000000.0, 1000000.0, 10000000.0, 1000000000.0, 10000000.0, 10000000.0, 1000000.0, 1000000.0, 1000000.0, 1000000.0, 1000000.0, 1000000.0, 1000000.0, 10000000.0, 10000000.0, 10000000.0, 10000000.0, 10000000.0, 10000000.0, 10000000.0, 10000000.0, 10000000.0, 10000000.0, 1000000.0, 1000000.0, 1000000.0, 1000000.0, 1000000.0, 1000000.0, 1000000.0, 1000000.0, 10000000.0, 10000000.0, 1000000.0, 1000000.0, 1000000.0, 1000000.0, 1000000.0, 1000000.0, 1000000.0, 1000000.0, 1000000.0, 1.0, 1.0, 1.0, 1.0, 1.0, 1.0, 1.0, 1.0, 1.0, 1.0, 1.0, 1.0, 10000000000.0, 10000000000.0, 1000000000.0, 100000000.0, 1000000000.0, 10000000.0, 100000000.0, 10000000.0, 10000000.0, 10000000.0, 10000000.0, 100000000.0, 10000000.0, 10000000.0, 10000000.0, 10000000.0, 100000000.0, 100000000.0, 100000000.0, 1000000000.0, 100000000.0, 100000000.0, 100000000.0, 1000000000.0, 100000000.0, 10000000.0, 10000000.0, 10000000.0, 10000000.0, 10000000.0, 100000000.0, 10000000.0, 10000000.0, 10000000.0, 10000000.0, 10000000.0, 10000000.0, 10000000.0, 100000000.0, 10000000.0, 10000000.0, 1000000.0, 1000000.0, 1000000.0, 10000000.0, 10000000.0, 1000000.0, 10000000.0, 0.01, 0.001, 1000000000.0, 100000000.0, 0.01, 0.01, 0.01, 0.1]\n",
    "SCALE_WEIGHTS = [min(w, 1e64) for w in SCALE_WEIGHTS]\n",
    "\n",
    "#SCALE_WEIGHTS = [1e6] * 360 + [1] * 8\n",
    "\n",
    "\n",
    "# FEATURE & TARGET LIST\n",
    "\n",
    "FEATURE_NAMES = ['state_t_0', 'state_t_1', 'state_t_2', 'state_t_3', 'state_t_4', 'state_t_5', 'state_t_6', 'state_t_7', 'state_t_8', 'state_t_9', 'state_t_10', 'state_t_11', 'state_t_12', 'state_t_13', 'state_t_14', 'state_t_15', 'state_t_16', 'state_t_17', 'state_t_18', 'state_t_19', 'state_t_20', 'state_t_21', 'state_t_22', 'state_t_23', 'state_t_24', 'state_t_25', 'state_t_26', 'state_t_27', 'state_t_28', 'state_t_29', 'state_t_30', 'state_t_31', 'state_t_32', 'state_t_33', 'state_t_34', 'state_t_35', 'state_t_36', 'state_t_37', 'state_t_38', 'state_t_39', 'state_t_40', 'state_t_41', 'state_t_42', 'state_t_43', 'state_t_44', 'state_t_45', 'state_t_46', 'state_t_47', 'state_t_48', 'state_t_49', 'state_t_50', 'state_t_51', 'state_t_52', 'state_t_53', 'state_t_54', 'state_t_55', 'state_t_56', 'state_t_57', 'state_t_58', 'state_t_59', 'state_q0001_0', 'state_q0001_1', 'state_q0001_2', 'state_q0001_3', 'state_q0001_4', 'state_q0001_5', 'state_q0001_6', 'state_q0001_7', 'state_q0001_8', 'state_q0001_9', 'state_q0001_10', 'state_q0001_11', 'state_q0001_12', 'state_q0001_13', 'state_q0001_14', 'state_q0001_15', 'state_q0001_16', 'state_q0001_17', 'state_q0001_18', 'state_q0001_19', 'state_q0001_20', 'state_q0001_21', 'state_q0001_22', 'state_q0001_23', 'state_q0001_24', 'state_q0001_25', 'state_q0001_26', 'state_q0001_27', 'state_q0001_28', 'state_q0001_29', 'state_q0001_30', 'state_q0001_31', 'state_q0001_32', 'state_q0001_33', 'state_q0001_34', 'state_q0001_35', 'state_q0001_36', 'state_q0001_37', 'state_q0001_38', 'state_q0001_39', 'state_q0001_40', 'state_q0001_41', 'state_q0001_42', 'state_q0001_43', 'state_q0001_44', 'state_q0001_45', 'state_q0001_46', 'state_q0001_47', 'state_q0001_48', 'state_q0001_49', 'state_q0001_50', 'state_q0001_51', 'state_q0001_52', 'state_q0001_53', 'state_q0001_54', 'state_q0001_55', 'state_q0001_56', 'state_q0001_57', 'state_q0001_58', 'state_q0001_59', 'state_q0002_0', 'state_q0002_1', 'state_q0002_2', 'state_q0002_3', 'state_q0002_4', 'state_q0002_5', 'state_q0002_6', 'state_q0002_7', 'state_q0002_8', 'state_q0002_9', 'state_q0002_10', 'state_q0002_11', 'state_q0002_12', 'state_q0002_13', 'state_q0002_14', 'state_q0002_15', 'state_q0002_16', 'state_q0002_17', 'state_q0002_18', 'state_q0002_19', 'state_q0002_20', 'state_q0002_21', 'state_q0002_22', 'state_q0002_23', 'state_q0002_24', 'state_q0002_25', 'state_q0002_26', 'state_q0002_27', 'state_q0002_28', 'state_q0002_29', 'state_q0002_30', 'state_q0002_31', 'state_q0002_32', 'state_q0002_33', 'state_q0002_34', 'state_q0002_35', 'state_q0002_36', 'state_q0002_37', 'state_q0002_38', 'state_q0002_39', 'state_q0002_40', 'state_q0002_41', 'state_q0002_42', 'state_q0002_43', 'state_q0002_44', 'state_q0002_45', 'state_q0002_46', 'state_q0002_47', 'state_q0002_48', 'state_q0002_49', 'state_q0002_50', 'state_q0002_51', 'state_q0002_52', 'state_q0002_53', 'state_q0002_54', 'state_q0002_55', 'state_q0002_56', 'state_q0002_57', 'state_q0002_58', 'state_q0002_59', 'state_q0003_0', 'state_q0003_1', 'state_q0003_2', 'state_q0003_3', 'state_q0003_4', 'state_q0003_5', 'state_q0003_6', 'state_q0003_7', 'state_q0003_8', 'state_q0003_9', 'state_q0003_10', 'state_q0003_11', 'state_q0003_12', 'state_q0003_13', 'state_q0003_14', 'state_q0003_15', 'state_q0003_16', 'state_q0003_17', 'state_q0003_18', 'state_q0003_19', 'state_q0003_20', 'state_q0003_21', 'state_q0003_22', 'state_q0003_23', 'state_q0003_24', 'state_q0003_25', 'state_q0003_26', 'state_q0003_27', 'state_q0003_28', 'state_q0003_29', 'state_q0003_30', 'state_q0003_31', 'state_q0003_32', 'state_q0003_33', 'state_q0003_34', 'state_q0003_35', 'state_q0003_36', 'state_q0003_37', 'state_q0003_38', 'state_q0003_39', 'state_q0003_40', 'state_q0003_41', 'state_q0003_42', 'state_q0003_43', 'state_q0003_44', 'state_q0003_45', 'state_q0003_46', 'state_q0003_47', 'state_q0003_48', 'state_q0003_49', 'state_q0003_50', 'state_q0003_51', 'state_q0003_52', 'state_q0003_53', 'state_q0003_54', 'state_q0003_55', 'state_q0003_56', 'state_q0003_57', 'state_q0003_58', 'state_q0003_59', 'state_u_0', 'state_u_1', 'state_u_2', 'state_u_3', 'state_u_4', 'state_u_5', 'state_u_6', 'state_u_7', 'state_u_8', 'state_u_9', 'state_u_10', 'state_u_11', 'state_u_12', 'state_u_13', 'state_u_14', 'state_u_15', 'state_u_16', 'state_u_17', 'state_u_18', 'state_u_19', 'state_u_20', 'state_u_21', 'state_u_22', 'state_u_23', 'state_u_24', 'state_u_25', 'state_u_26', 'state_u_27', 'state_u_28', 'state_u_29', 'state_u_30', 'state_u_31', 'state_u_32', 'state_u_33', 'state_u_34', 'state_u_35', 'state_u_36', 'state_u_37', 'state_u_38', 'state_u_39', 'state_u_40', 'state_u_41', 'state_u_42', 'state_u_43', 'state_u_44', 'state_u_45', 'state_u_46', 'state_u_47', 'state_u_48', 'state_u_49', 'state_u_50', 'state_u_51', 'state_u_52', 'state_u_53', 'state_u_54', 'state_u_55', 'state_u_56', 'state_u_57', 'state_u_58', 'state_u_59', 'state_v_0', 'state_v_1', 'state_v_2', 'state_v_3', 'state_v_4', 'state_v_5', 'state_v_6', 'state_v_7', 'state_v_8', 'state_v_9', 'state_v_10', 'state_v_11', 'state_v_12', 'state_v_13', 'state_v_14', 'state_v_15', 'state_v_16', 'state_v_17', 'state_v_18', 'state_v_19', 'state_v_20', 'state_v_21', 'state_v_22', 'state_v_23', 'state_v_24', 'state_v_25', 'state_v_26', 'state_v_27', 'state_v_28', 'state_v_29', 'state_v_30', 'state_v_31', 'state_v_32', 'state_v_33', 'state_v_34', 'state_v_35', 'state_v_36', 'state_v_37', 'state_v_38', 'state_v_39', 'state_v_40', 'state_v_41', 'state_v_42', 'state_v_43', 'state_v_44', 'state_v_45', 'state_v_46', 'state_v_47', 'state_v_48', 'state_v_49', 'state_v_50', 'state_v_51', 'state_v_52', 'state_v_53', 'state_v_54', 'state_v_55', 'state_v_56', 'state_v_57', 'state_v_58', 'state_v_59', 'state_ps', 'pbuf_SOLIN', 'pbuf_LHFLX', 'pbuf_SHFLX', 'pbuf_TAUX', 'pbuf_TAUY', 'pbuf_COSZRS', 'cam_in_ALDIF', 'cam_in_ALDIR', 'cam_in_ASDIF', 'cam_in_ASDIR', 'cam_in_LWUP', 'cam_in_ICEFRAC', 'cam_in_LANDFRAC', 'cam_in_OCNFRAC', 'cam_in_SNOWHLAND', 'pbuf_ozone_0', 'pbuf_ozone_1', 'pbuf_ozone_2', 'pbuf_ozone_3', 'pbuf_ozone_4', 'pbuf_ozone_5', 'pbuf_ozone_6', 'pbuf_ozone_7', 'pbuf_ozone_8', 'pbuf_ozone_9', 'pbuf_ozone_10', 'pbuf_ozone_11', 'pbuf_ozone_12', 'pbuf_ozone_13', 'pbuf_ozone_14', 'pbuf_ozone_15', 'pbuf_ozone_16', 'pbuf_ozone_17', 'pbuf_ozone_18', 'pbuf_ozone_19', 'pbuf_ozone_20', 'pbuf_ozone_21', 'pbuf_ozone_22', 'pbuf_ozone_23', 'pbuf_ozone_24', 'pbuf_ozone_25', 'pbuf_ozone_26', 'pbuf_ozone_27', 'pbuf_ozone_28', 'pbuf_ozone_29', 'pbuf_ozone_30', 'pbuf_ozone_31', 'pbuf_ozone_32', 'pbuf_ozone_33', 'pbuf_ozone_34', 'pbuf_ozone_35', 'pbuf_ozone_36', 'pbuf_ozone_37', 'pbuf_ozone_38', 'pbuf_ozone_39', 'pbuf_ozone_40', 'pbuf_ozone_41', 'pbuf_ozone_42', 'pbuf_ozone_43', 'pbuf_ozone_44', 'pbuf_ozone_45', 'pbuf_ozone_46', 'pbuf_ozone_47', 'pbuf_ozone_48', 'pbuf_ozone_49', 'pbuf_ozone_50', 'pbuf_ozone_51', 'pbuf_ozone_52', 'pbuf_ozone_53', 'pbuf_ozone_54', 'pbuf_ozone_55', 'pbuf_ozone_56', 'pbuf_ozone_57', 'pbuf_ozone_58', 'pbuf_ozone_59', 'pbuf_CH4_0', 'pbuf_CH4_1', 'pbuf_CH4_2', 'pbuf_CH4_3', 'pbuf_CH4_4', 'pbuf_CH4_5', 'pbuf_CH4_6', 'pbuf_CH4_7', 'pbuf_CH4_8', 'pbuf_CH4_9', 'pbuf_CH4_10', 'pbuf_CH4_11', 'pbuf_CH4_12', 'pbuf_CH4_13', 'pbuf_CH4_14', 'pbuf_CH4_15', 'pbuf_CH4_16', 'pbuf_CH4_17', 'pbuf_CH4_18', 'pbuf_CH4_19', 'pbuf_CH4_20', 'pbuf_CH4_21', 'pbuf_CH4_22', 'pbuf_CH4_23', 'pbuf_CH4_24', 'pbuf_CH4_25', 'pbuf_CH4_26', 'pbuf_CH4_27', 'pbuf_CH4_28', 'pbuf_CH4_29', 'pbuf_CH4_30', 'pbuf_CH4_31', 'pbuf_CH4_32', 'pbuf_CH4_33', 'pbuf_CH4_34', 'pbuf_CH4_35', 'pbuf_CH4_36', 'pbuf_CH4_37', 'pbuf_CH4_38', 'pbuf_CH4_39', 'pbuf_CH4_40', 'pbuf_CH4_41', 'pbuf_CH4_42', 'pbuf_CH4_43', 'pbuf_CH4_44', 'pbuf_CH4_45', 'pbuf_CH4_46', 'pbuf_CH4_47', 'pbuf_CH4_48', 'pbuf_CH4_49', 'pbuf_CH4_50', 'pbuf_CH4_51', 'pbuf_CH4_52', 'pbuf_CH4_53', 'pbuf_CH4_54', 'pbuf_CH4_55', 'pbuf_CH4_56', 'pbuf_CH4_57', 'pbuf_CH4_58', 'pbuf_CH4_59', 'pbuf_N2O_0', 'pbuf_N2O_1', 'pbuf_N2O_2', 'pbuf_N2O_3', 'pbuf_N2O_4', 'pbuf_N2O_5', 'pbuf_N2O_6', 'pbuf_N2O_7', 'pbuf_N2O_8', 'pbuf_N2O_9', 'pbuf_N2O_10', 'pbuf_N2O_11', 'pbuf_N2O_12', 'pbuf_N2O_13', 'pbuf_N2O_14', 'pbuf_N2O_15', 'pbuf_N2O_16', 'pbuf_N2O_17', 'pbuf_N2O_18', 'pbuf_N2O_19', 'pbuf_N2O_20', 'pbuf_N2O_21', 'pbuf_N2O_22', 'pbuf_N2O_23', 'pbuf_N2O_24', 'pbuf_N2O_25', 'pbuf_N2O_26', 'pbuf_N2O_27', 'pbuf_N2O_28', 'pbuf_N2O_29', 'pbuf_N2O_30', 'pbuf_N2O_31', 'pbuf_N2O_32', 'pbuf_N2O_33', 'pbuf_N2O_34', 'pbuf_N2O_35', 'pbuf_N2O_36', 'pbuf_N2O_37', 'pbuf_N2O_38', 'pbuf_N2O_39', 'pbuf_N2O_40', 'pbuf_N2O_41', 'pbuf_N2O_42', 'pbuf_N2O_43', 'pbuf_N2O_44', 'pbuf_N2O_45', 'pbuf_N2O_46', 'pbuf_N2O_47', 'pbuf_N2O_48', 'pbuf_N2O_49', 'pbuf_N2O_50', 'pbuf_N2O_51', 'pbuf_N2O_52', 'pbuf_N2O_53', 'pbuf_N2O_54', 'pbuf_N2O_55', 'pbuf_N2O_56', 'pbuf_N2O_57', 'pbuf_N2O_58', 'pbuf_N2O_59']\n",
    "TARGET_NAMES = ['ptend_t_0', 'ptend_t_1', 'ptend_t_2', 'ptend_t_3', 'ptend_t_4', 'ptend_t_5', 'ptend_t_6', 'ptend_t_7', 'ptend_t_8', 'ptend_t_9', 'ptend_t_10', 'ptend_t_11', 'ptend_t_12', 'ptend_t_13', 'ptend_t_14', 'ptend_t_15', 'ptend_t_16', 'ptend_t_17', 'ptend_t_18', 'ptend_t_19', 'ptend_t_20', 'ptend_t_21', 'ptend_t_22', 'ptend_t_23', 'ptend_t_24', 'ptend_t_25', 'ptend_t_26', 'ptend_t_27', 'ptend_t_28', 'ptend_t_29', 'ptend_t_30', 'ptend_t_31', 'ptend_t_32', 'ptend_t_33', 'ptend_t_34', 'ptend_t_35', 'ptend_t_36', 'ptend_t_37', 'ptend_t_38', 'ptend_t_39', 'ptend_t_40', 'ptend_t_41', 'ptend_t_42', 'ptend_t_43', 'ptend_t_44', 'ptend_t_45', 'ptend_t_46', 'ptend_t_47', 'ptend_t_48', 'ptend_t_49', 'ptend_t_50', 'ptend_t_51', 'ptend_t_52', 'ptend_t_53', 'ptend_t_54', 'ptend_t_55', 'ptend_t_56', 'ptend_t_57', 'ptend_t_58', 'ptend_t_59', 'ptend_q0001_0', 'ptend_q0001_1', 'ptend_q0001_2', 'ptend_q0001_3', 'ptend_q0001_4', 'ptend_q0001_5', 'ptend_q0001_6', 'ptend_q0001_7', 'ptend_q0001_8', 'ptend_q0001_9', 'ptend_q0001_10', 'ptend_q0001_11', 'ptend_q0001_12', 'ptend_q0001_13', 'ptend_q0001_14', 'ptend_q0001_15', 'ptend_q0001_16', 'ptend_q0001_17', 'ptend_q0001_18', 'ptend_q0001_19', 'ptend_q0001_20', 'ptend_q0001_21', 'ptend_q0001_22', 'ptend_q0001_23', 'ptend_q0001_24', 'ptend_q0001_25', 'ptend_q0001_26', 'ptend_q0001_27', 'ptend_q0001_28', 'ptend_q0001_29', 'ptend_q0001_30', 'ptend_q0001_31', 'ptend_q0001_32', 'ptend_q0001_33', 'ptend_q0001_34', 'ptend_q0001_35', 'ptend_q0001_36', 'ptend_q0001_37', 'ptend_q0001_38', 'ptend_q0001_39', 'ptend_q0001_40', 'ptend_q0001_41', 'ptend_q0001_42', 'ptend_q0001_43', 'ptend_q0001_44', 'ptend_q0001_45', 'ptend_q0001_46', 'ptend_q0001_47', 'ptend_q0001_48', 'ptend_q0001_49', 'ptend_q0001_50', 'ptend_q0001_51', 'ptend_q0001_52', 'ptend_q0001_53', 'ptend_q0001_54', 'ptend_q0001_55', 'ptend_q0001_56', 'ptend_q0001_57', 'ptend_q0001_58', 'ptend_q0001_59', 'ptend_q0002_0', 'ptend_q0002_1', 'ptend_q0002_2', 'ptend_q0002_3', 'ptend_q0002_4', 'ptend_q0002_5', 'ptend_q0002_6', 'ptend_q0002_7', 'ptend_q0002_8', 'ptend_q0002_9', 'ptend_q0002_10', 'ptend_q0002_11', 'ptend_q0002_12', 'ptend_q0002_13', 'ptend_q0002_14', 'ptend_q0002_15', 'ptend_q0002_16', 'ptend_q0002_17', 'ptend_q0002_18', 'ptend_q0002_19', 'ptend_q0002_20', 'ptend_q0002_21', 'ptend_q0002_22', 'ptend_q0002_23', 'ptend_q0002_24', 'ptend_q0002_25', 'ptend_q0002_26', 'ptend_q0002_27', 'ptend_q0002_28', 'ptend_q0002_29', 'ptend_q0002_30', 'ptend_q0002_31', 'ptend_q0002_32', 'ptend_q0002_33', 'ptend_q0002_34', 'ptend_q0002_35', 'ptend_q0002_36', 'ptend_q0002_37', 'ptend_q0002_38', 'ptend_q0002_39', 'ptend_q0002_40', 'ptend_q0002_41', 'ptend_q0002_42', 'ptend_q0002_43', 'ptend_q0002_44', 'ptend_q0002_45', 'ptend_q0002_46', 'ptend_q0002_47', 'ptend_q0002_48', 'ptend_q0002_49', 'ptend_q0002_50', 'ptend_q0002_51', 'ptend_q0002_52', 'ptend_q0002_53', 'ptend_q0002_54', 'ptend_q0002_55', 'ptend_q0002_56', 'ptend_q0002_57', 'ptend_q0002_58', 'ptend_q0002_59', 'ptend_q0003_0', 'ptend_q0003_1', 'ptend_q0003_2', 'ptend_q0003_3', 'ptend_q0003_4', 'ptend_q0003_5', 'ptend_q0003_6', 'ptend_q0003_7', 'ptend_q0003_8', 'ptend_q0003_9', 'ptend_q0003_10', 'ptend_q0003_11', 'ptend_q0003_12', 'ptend_q0003_13', 'ptend_q0003_14', 'ptend_q0003_15', 'ptend_q0003_16', 'ptend_q0003_17', 'ptend_q0003_18', 'ptend_q0003_19', 'ptend_q0003_20', 'ptend_q0003_21', 'ptend_q0003_22', 'ptend_q0003_23', 'ptend_q0003_24', 'ptend_q0003_25', 'ptend_q0003_26', 'ptend_q0003_27', 'ptend_q0003_28', 'ptend_q0003_29', 'ptend_q0003_30', 'ptend_q0003_31', 'ptend_q0003_32', 'ptend_q0003_33', 'ptend_q0003_34', 'ptend_q0003_35', 'ptend_q0003_36', 'ptend_q0003_37', 'ptend_q0003_38', 'ptend_q0003_39', 'ptend_q0003_40', 'ptend_q0003_41', 'ptend_q0003_42', 'ptend_q0003_43', 'ptend_q0003_44', 'ptend_q0003_45', 'ptend_q0003_46', 'ptend_q0003_47', 'ptend_q0003_48', 'ptend_q0003_49', 'ptend_q0003_50', 'ptend_q0003_51', 'ptend_q0003_52', 'ptend_q0003_53', 'ptend_q0003_54', 'ptend_q0003_55', 'ptend_q0003_56', 'ptend_q0003_57', 'ptend_q0003_58', 'ptend_q0003_59', 'ptend_u_0', 'ptend_u_1', 'ptend_u_2', 'ptend_u_3', 'ptend_u_4', 'ptend_u_5', 'ptend_u_6', 'ptend_u_7', 'ptend_u_8', 'ptend_u_9', 'ptend_u_10', 'ptend_u_11', 'ptend_u_12', 'ptend_u_13', 'ptend_u_14', 'ptend_u_15', 'ptend_u_16', 'ptend_u_17', 'ptend_u_18', 'ptend_u_19', 'ptend_u_20', 'ptend_u_21', 'ptend_u_22', 'ptend_u_23', 'ptend_u_24', 'ptend_u_25', 'ptend_u_26', 'ptend_u_27', 'ptend_u_28', 'ptend_u_29', 'ptend_u_30', 'ptend_u_31', 'ptend_u_32', 'ptend_u_33', 'ptend_u_34', 'ptend_u_35', 'ptend_u_36', 'ptend_u_37', 'ptend_u_38', 'ptend_u_39', 'ptend_u_40', 'ptend_u_41', 'ptend_u_42', 'ptend_u_43', 'ptend_u_44', 'ptend_u_45', 'ptend_u_46', 'ptend_u_47', 'ptend_u_48', 'ptend_u_49', 'ptend_u_50', 'ptend_u_51', 'ptend_u_52', 'ptend_u_53', 'ptend_u_54', 'ptend_u_55', 'ptend_u_56', 'ptend_u_57', 'ptend_u_58', 'ptend_u_59', 'ptend_v_0', 'ptend_v_1', 'ptend_v_2', 'ptend_v_3', 'ptend_v_4', 'ptend_v_5', 'ptend_v_6', 'ptend_v_7', 'ptend_v_8', 'ptend_v_9', 'ptend_v_10', 'ptend_v_11', 'ptend_v_12', 'ptend_v_13', 'ptend_v_14', 'ptend_v_15', 'ptend_v_16', 'ptend_v_17', 'ptend_v_18', 'ptend_v_19', 'ptend_v_20', 'ptend_v_21', 'ptend_v_22', 'ptend_v_23', 'ptend_v_24', 'ptend_v_25', 'ptend_v_26', 'ptend_v_27', 'ptend_v_28', 'ptend_v_29', 'ptend_v_30', 'ptend_v_31', 'ptend_v_32', 'ptend_v_33', 'ptend_v_34', 'ptend_v_35', 'ptend_v_36', 'ptend_v_37', 'ptend_v_38', 'ptend_v_39', 'ptend_v_40', 'ptend_v_41', 'ptend_v_42', 'ptend_v_43', 'ptend_v_44', 'ptend_v_45', 'ptend_v_46', 'ptend_v_47', 'ptend_v_48', 'ptend_v_49', 'ptend_v_50', 'ptend_v_51', 'ptend_v_52', 'ptend_v_53', 'ptend_v_54', 'ptend_v_55', 'ptend_v_56', 'ptend_v_57', 'ptend_v_58', 'ptend_v_59', 'cam_out_NETSW', 'cam_out_FLWDS', 'cam_out_PRECSC', 'cam_out_PRECC', 'cam_out_SOLS', 'cam_out_SOLL', 'cam_out_SOLSD', 'cam_out_SOLLD']"
   ]
  },
  {
   "cell_type": "code",
   "execution_count": 7,
   "metadata": {},
   "outputs": [
    {
     "data": {
      "text/plain": [
       "array([1., 1., 1., 1., 1., 1., 1., 1., 1., 1., 1., 1., 1., 1., 1., 1., 1.,\n",
       "       1., 1., 1., 1., 1., 1., 1., 1., 1., 1., 1., 1., 1., 1., 1., 1., 1.,\n",
       "       1., 1., 1., 1., 1., 1., 1., 1., 1., 1., 1., 1., 1., 1., 1., 1., 1.,\n",
       "       1., 1., 1., 1., 1., 1., 1., 1., 1., 1., 1., 1., 1., 1., 1., 1., 1.,\n",
       "       1., 1., 1., 1., 1., 1., 1., 1., 1., 1., 1., 1., 1., 1., 1., 1., 1.,\n",
       "       1., 1., 1., 1., 1., 1., 1., 1., 1., 1., 1., 1., 1., 1., 1., 1., 1.,\n",
       "       1., 1., 1., 1., 1., 1., 1., 1., 1., 1., 1., 1., 1., 1., 1., 1., 1.,\n",
       "       1., 1., 1., 1., 1., 1., 1., 1., 1., 1., 1., 1., 1., 1., 1., 1., 1.,\n",
       "       1., 1., 1., 1., 1., 1., 1., 1., 1., 1., 1., 1., 1., 1., 1., 1., 1.,\n",
       "       1., 1., 1., 1., 1., 1., 1., 1., 1., 1., 1., 1., 1., 1., 1., 1., 1.,\n",
       "       1., 1., 1., 1., 1., 1., 1., 1., 1., 1., 1., 1., 1., 1., 1., 1., 1.,\n",
       "       1., 1., 1., 1., 1., 1., 1., 1., 1., 1., 1., 1., 1., 1., 1., 1., 1.,\n",
       "       1., 1., 1., 1., 1., 1., 1., 1., 1., 1., 1., 1., 1., 1., 1., 1., 1.,\n",
       "       1., 1., 1., 1., 1., 1., 1., 1., 1., 1., 1., 1., 1., 1., 1., 1., 1.,\n",
       "       1., 1., 1., 1., 1., 1., 1., 1., 1., 1., 1., 1., 1., 1., 1., 1., 1.,\n",
       "       1., 1., 1., 1., 1., 1., 1., 1., 1., 1., 1., 1., 1., 1., 1., 1., 1.,\n",
       "       1., 1., 1., 1., 1., 1., 1., 1., 1., 1., 1., 1., 1., 1., 1., 1., 1.,\n",
       "       1., 1., 1., 1.])"
      ]
     },
     "execution_count": 7,
     "metadata": {},
     "output_type": "execute_result"
    }
   ],
   "source": [
    "#SCALE_WEIGHTS_INIT = [100000.0, 1000000.0, 1000000.0, 1000000.0, 1000000.0, 1000000.0, 10000000.0, 10000000.0, 10000000.0, 1000000000.0, 10000000.0, 10000000.0, 10000000.0, 10000000.0, 10000000.0, 10000000.0, 1000000.0, 1000000.0, 10000000.0, 10000000.0, 10000000.0, 1000000.0, 1000000.0, 1000000.0, 1000000.0, 1000000.0, 1000000.0, 1000000.0, 1000000.0, 1000000.0, 1000000.0, 10000000.0, 10000000.0, 10000000.0, 10000000.0, 10000000.0, 10000000.0, 10000000.0, 10000000.0, 10000000.0, 10000000.0, 10000000.0, 100000000.0, 10000000.0, 10000000.0, 10000000.0, 10000000.0, 10000000.0, 1000000.0, 1000000.0, 1000000.0, 1000000.0, 1000000.0, 1000000.0, 1000000.0, 1000000.0, 1000000.0, 1000000.0, 100000.0, 100000.0, 1e+17, 1e+17, 1e+17, 1e+18, 1.0, 1.0, 1.0, 1.0, 1.0, 1.0, 1.0, 1.0, 1000000000000000.0, 1000000000000000.0, 1000000000000000.0, 100000000000000.0, 100000000000000.0, 10000000000000.0, 10000000000000.0, 1000000000000.0, 1000000000000.0, 100000000000.0, 100000000000.0, 10000000000.0, 10000000000.0, 10000000000.0, 1000000000.0, 1000000000.0, 1000000000.0, 1000000000.0, 1000000000.0, 1000000000.0, 1000000000.0, 1000000000.0, 1000000000.0, 1000000000.0, 1000000000.0, 1000000000.0, 1000000000.0, 1000000000.0, 1000000000.0, 1000000000.0, 10000000000.0, 10000000000.0, 10000000000.0, 1000000000.0, 1000000000.0, 10000000000.0, 10000000000.0, 10000000000.0, 1000000000.0, 1000000000.0, 1000000000.0, 100000000.0, 100000000.0, 100000000.0, 100000000.0, 100000000.0, 100000000.0, 100000000.0, 1.0, 1.0, 1.0, 1.0, 1.0, 1.0, 1.0, 1.0, 1.0, 1.0, 1.0, 1.0, 1e+41, 1e+47, 1e+52, 1e+55, 1e+50, 1e+47, 1e+44, 1e+42, 1e+39, 1e+36, 1e+33, 1e+30, 1e+27, 1e+23, 1e+18, 1000000000000000.0, 1000000000000.0, 100000000000.0, 100000000000.0, 100000000000.0, 100000000000.0, 100000000000.0, 100000000000.0, 100000000000.0, 100000000000.0, 100000000000.0, 100000000000.0, 100000000000000.0, 100000000000.0, 100000000000.0, 100000000000.0, 100000000000.0, 100000000000.0, 10000000000.0, 10000000000.0, 10000000000.0, 100000000000.0, 10000000000.0, 10000000000.0, 10000000000.0, 10000000000.0, 10000000000.0, 100000000000.0, 100000000000.0, 100000000000.0, 1000000000000.0, 100000000000.0, 10000000000.0, 1.0, 1.0, 1.0, 1.0, 1.0, 1.0, 1.0, 1.0, 1.0, 1.0, 1.0, 1.0, 1000000000000000.0, 1e+16, 1000000000000000.0, 100000000000000.0, 10000000000000.0, 10000000000000.0, 1000000000000.0, 100000000000.0, 100000000000.0, 100000000000.0, 100000000000.0, 10000000000.0, 10000000000.0, 10000000000.0, 10000000000.0, 10000000000.0, 100000000000.0, 100000000000.0, 100000000000.0, 100000000000.0, 10000000000.0, 100000000000.0, 100000000000.0, 100000000000.0, 100000000000.0, 100000000000.0, 100000000000.0, 100000000000.0, 100000000000.0, 100000000000.0, 100000000000.0, 100000000000.0, 100000000000.0, 100000000000.0, 100000000000.0, 100000000000.0, 100000000000.0, 100000000000.0, 100000000000.0, 100000000000.0, 100000000000.0, 100000000000.0, 100000000000.0, 1000000000000.0, 100000000000.0, 100000000000.0, 100000000000.0, 10000000000.0, 1.0, 1.0, 1.0, 1.0, 1.0, 1.0, 1.0, 1.0, 1.0, 1.0, 1.0, 1.0, 1000000000.0, 1000000000.0, 100000000.0, 100000000.0, 100000000.0, 10000000.0, 1000000.0, 1000000.0, 10000000.0, 1000000000.0, 10000000.0, 10000000.0, 1000000.0, 1000000.0, 1000000.0, 1000000.0, 1000000.0, 1000000.0, 1000000.0, 10000000.0, 10000000.0, 10000000.0, 10000000.0, 10000000.0, 10000000.0, 10000000.0, 10000000.0, 10000000.0, 10000000.0, 1000000.0, 1000000.0, 1000000.0, 1000000.0, 1000000.0, 1000000.0, 1000000.0, 1000000.0, 10000000.0, 10000000.0, 1000000.0, 1000000.0, 1000000.0, 1000000.0, 1000000.0, 1000000.0, 1000000.0, 1000000.0, 1000000.0, 1.0, 1.0, 1.0, 1.0, 1.0, 1.0, 1.0, 1.0, 1.0, 1.0, 1.0, 1.0, 10000000000.0, 10000000000.0, 1000000000.0, 100000000.0, 1000000000.0, 10000000.0, 100000000.0, 10000000.0, 10000000.0, 10000000.0, 10000000.0, 100000000.0, 10000000.0, 10000000.0, 10000000.0, 10000000.0, 100000000.0, 100000000.0, 100000000.0, 1000000000.0, 100000000.0, 100000000.0, 100000000.0, 1000000000.0, 100000000.0, 10000000.0, 10000000.0, 10000000.0, 10000000.0, 10000000.0, 100000000.0, 10000000.0, 10000000.0, 10000000.0, 10000000.0, 10000000.0, 10000000.0, 10000000.0, 100000000.0, 10000000.0, 10000000.0, 1000000.0, 1000000.0, 1000000.0, 10000000.0, 10000000.0, 1000000.0, 10000000.0, 0.01, 0.001, 1000000000.0, 100000000.0, 0.01, 0.01, 0.01, 0.1]\n",
    "SCALE_WEIGHTS_INIT = [10000.0, 10000.0, 10000.0, 10000.0, 10000.0, 10000.0, 10000.0, 10000.0, 10000.0, 10000.0, 100000.0, 100000.0, 100000.0, 100000.0, 100000.0, 100000.0, 100000.0, 10000.0, 10000.0, 10000.0, 10000.0, 10000.0, 10000.0, 10000.0, 10000.0, 10000.0, 10000.0, 10000.0, 10000.0, 10000.0, 10000.0, 10000.0, 10000.0, 10000.0, 10000.0, 10000.0, 10000.0, 10000.0, 10000.0, 10000.0, 10000.0, 10000.0, 10000.0, 10000.0, 10000.0, 10000.0, 10000.0, 10000.0, 10000.0, 10000.0, 10000.0, 10000.0, 10000.0, 10000.0, 10000.0, 10000.0, 10000.0, 10000.0, 10000.0, 10000.0, 10000000000000.0, 10000000000000.0, 10000000000000.0, 1.0, 1.0, 1.0, 1.0, 1.0, 1.0, 1.0, 1.0, 1.0, 100000000000.0, 100000000000.0, 100000000000.0, 10000000000.0, 10000000000.0, 10000000000.0, 10000000000.0, 1000000000.0, 1000000000.0, 100000000.0, 100000000.0, 100000000.0, 100000000.0, 100000000.0, 10000000.0, 10000000.0, 10000000.0, 10000000.0, 10000000.0, 10000000.0, 10000000.0, 10000000.0, 10000000.0, 10000000.0, 10000000.0, 10000000.0, 10000000.0, 10000000.0, 10000000.0, 10000000.0, 10000000.0, 10000000.0, 10000000.0, 10000000.0, 10000000.0, 10000000.0, 10000000.0, 10000000.0, 10000000.0, 10000000.0, 10000000.0, 10000000.0, 10000000.0, 10000000.0, 10000000.0, 10000000.0, 10000000.0, 10000000.0, 1.0, 1.0, 1.0, 1.0, 1.0, 1.0, 1.0, 1.0, 1.0, 1.0, 1.0, 1.0, 1e+38, 1e+44, 1e+49, 1e+53, 1e+54, 1e+49, 1e+46, 1e+42, 1e+39, 1e+36, 1e+33, 1e+29, 1e+25, 1e+20, 1e+16, 100000000000.0, 1000000000.0, 100000000.0, 100000000.0, 100000000.0, 100000000.0, 100000000.0, 100000000.0, 100000000.0, 100000000.0, 100000000.0, 100000000.0, 10000000.0, 10000000.0, 10000000.0, 10000000.0, 10000000.0, 10000000.0, 10000000.0, 10000000.0, 10000000.0, 100000000.0, 100000000.0, 100000000.0, 100000000.0, 100000000.0, 100000000.0, 100000000.0, 100000000.0, 100000000.0, 100000000.0, 100000000.0, 100000000.0, 1.0, 1.0, 1.0, 1.0, 1.0, 1.0, 1.0, 1.0, 1.0, 1.0, 1.0, 1.0, 100000000000.0, 100000000000.0, 100000000000.0, 10000000000.0, 1000000000.0, 100000000.0, 100000000.0, 10000000.0, 10000000.0, 10000000.0, 10000000.0, 10000000.0, 10000000.0, 10000000.0, 10000000.0, 10000000.0, 10000000.0, 10000000.0, 10000000.0, 10000000.0, 100000000.0, 100000000.0, 100000000.0, 100000000.0, 100000000.0, 100000000.0, 100000000.0, 100000000.0, 100000000.0, 100000000.0, 100000000.0, 100000000.0, 100000000.0, 100000000.0, 100000000.0, 100000000.0, 100000000.0, 100000000.0, 100000000.0, 100000000.0, 100000000.0, 100000000.0, 100000000.0, 100000000.0, 100000000.0, 100000000.0, 100000000.0, 100000000.0, 1.0, 1.0, 1.0, 1.0, 1.0, 1.0, 1.0, 1.0, 1.0, 1.0, 1.0, 1.0, 1000000.0, 1000000.0, 100000.0, 100000.0, 10000.0, 10000.0, 10000.0, 10000.0, 10000.0, 10000.0, 10000.0, 10000.0, 10000.0, 10000.0, 10000.0, 10000.0, 10000.0, 10000.0, 10000.0, 10000.0, 10000.0, 10000.0, 10000.0, 10000.0, 10000.0, 10000.0, 10000.0, 10000.0, 10000.0, 10000.0, 10000.0, 10000.0, 10000.0, 10000.0, 10000.0, 10000.0, 10000.0, 10000.0, 10000.0, 10000.0, 10000.0, 10000.0, 10000.0, 10000.0, 10000.0, 10000.0, 10000.0, 10000.0, 1.0, 1.0, 1.0, 1.0, 1.0, 1.0, 1.0, 1.0, 1.0, 1.0, 1.0, 1.0, 1000000.0, 1000000.0, 100000.0, 100000.0, 100000.0, 10000.0, 10000.0, 10000.0, 10000.0, 10000.0, 10000.0, 10000.0, 10000.0, 10000.0, 10000.0, 10000.0, 10000.0, 10000.0, 10000.0, 10000.0, 10000.0, 10000.0, 10000.0, 10000.0, 10000.0, 10000.0, 10000.0, 10000.0, 10000.0, 10000.0, 10000.0, 10000.0, 10000.0, 10000.0, 10000.0, 10000.0, 10000.0, 10000.0, 10000.0, 10000.0, 10000.0, 10000.0, 10000.0, 10000.0, 10000.0, 10000.0, 10000.0, 10000.0, 0.001, 0.001, 100000000.0, 1000000.0, 0.001, 0.001, 0.01, 0.01]\n",
    "SCALE_WEIGHTS = [min(w, 1e64) for w in SCALE_WEIGHTS_INIT]\n",
    "\n",
    "LOSS_SCALE = np.array(SCALE_WEIGHTS_INIT) / np.array(SCALE_WEIGHTS)\n",
    "\n",
    "np.array(SCALE_WEIGHTS_INIT)[np.array(TARGET_WEIGHTS)>0] / np.array(SCALE_WEIGHTS)[np.array(TARGET_WEIGHTS)>0]\n"
   ]
  },
  {
   "cell_type": "code",
   "execution_count": 8,
   "metadata": {},
   "outputs": [
    {
     "data": {
      "text/plain": [
       "finfo(resolution=1e-15, min=-1.79769e+308, max=1.79769e+308, eps=2.22045e-16, smallest_normal=2.22507e-308, tiny=2.22507e-308, dtype=float64)"
      ]
     },
     "execution_count": 8,
     "metadata": {},
     "output_type": "execute_result"
    }
   ],
   "source": [
    "\n",
    "torch.finfo(torch.float64)"
   ]
  },
  {
   "cell_type": "code",
   "execution_count": 9,
   "metadata": {},
   "outputs": [],
   "source": [
    "ID_IDX = 0\n",
    "\n",
    "STATE_PS_IDX = 360\n",
    "\n",
    "PBUF_SOLIN_IDX = 361\n",
    "PBUF_LHFLX_IDX = 362\n",
    "PBUF_SHFLX_IDX = 363\n",
    "PBUF_TAUX_IDX = 364\n",
    "PBUF_TAUY_IDX = 365\n",
    "PBUF_COSZRS_IDX = 366\n",
    "\n",
    "CAM_IN_ALDIF_IDX = 367\n",
    "CAM_IN_ALDIR_IDX = 368\n",
    "CAM_IN_ASDIF_IDX = 369\n",
    "CAM_IN_ASDIR_IDX = 370\n",
    "CAM_IN_LWUP_IDX = 371\n",
    "CAM_IN_ICEFRAC_IDX = 372\n",
    "CAM_IN_LANDFRAC_IDX = 373\n",
    "CAM_IN_OCNFRAC_IDX = 374\n",
    "CAM_IN_SNOWHLAND_IDX = 375\n",
    "\n",
    "CAM_OUT_NETSW_IDX = 360\n",
    "CAM_OUT_FLWDS_IDX = 361\n",
    "CAM_OUT_PRECSC_IDX = 362\n",
    "CAM_OUT_PRECC_IDX = 363\n",
    "CAM_OUT_SOLS_IDX = 364\n",
    "CAM_OUT_SOLL_IDX = 365\n",
    "CAM_OUT_SOLSD_IDX = 366\n",
    "CAM_OUT_SOLLD_IDX = 367\n",
    "\n",
    "STATE_U_IDX = [240, 241, 242, 243, 244, 245, 246, 247, 248, 249, 250, 251, 252, 253, 254, 255, 256, 257, 258, 259, 260, 261, 262, 263, 264, 265, 266, 267, 268, 269, 270, 271, 272, 273, 274, 275, 276, 277, 278, 279, 280, 281, 282, 283, 284, 285, 286, 287, 288, 289, 290, 291, 292, 293, 294, 295, 296, 297, 298, 299]\n",
    "STATE_V_IDX = [300, 301, 302, 303, 304, 305, 306, 307, 308, 309, 310, 311, 312, 313, 314, 315, 316, 317, 318, 319, 320, 321, 322, 323, 324, 325, 326, 327, 328, 329, 330, 331, 332, 333, 334, 335, 336, 337, 338, 339, 340, 341, 342, 343, 344, 345, 346, 347, 348, 349, 350, 351, 352, 353, 354, 355, 356, 357, 358, 359]\n",
    "STATE_T_IDX = [0, 1, 2, 3, 4, 5, 6, 7, 8, 9, 10, 11, 12, 13, 14, 15, 16, 17, 18, 19, 20, 21, 22, 23, 24, 25, 26, 27, 28, 29, 30, 31, 32, 33, 34, 35, 36, 37, 38, 39, 40, 41, 42, 43, 44, 45, 46, 47, 48, 49, 50, 51, 52, 53, 54, 55, 56, 57, 58, 59]\n",
    "\n",
    "STATE_Q0001_IDX = [60, 61, 62, 63, 64, 65, 66, 67, 68, 69, 70, 71, 72, 73, 74, 75, 76, 77, 78, 79, 80, 81, 82, 83, 84, 85, 86, 87, 88, 89, 90, 91, 92, 93, 94, 95, 96, 97, 98, 99, 100, 101, 102, 103, 104, 105, 106, 107, 108, 109, 110, 111, 112, 113, 114, 115, 116, 117, 118, 119]\n",
    "STATE_Q0002_IDX = [120, 121, 122, 123, 124, 125, 126, 127, 128, 129, 130, 131, 132, 133, 134, 135, 136, 137, 138, 139, 140, 141, 142, 143, 144, 145, 146, 147, 148, 149, 150, 151, 152, 153, 154, 155, 156, 157, 158, 159, 160, 161, 162, 163, 164, 165, 166, 167, 168, 169, 170, 171, 172, 173, 174, 175, 176, 177, 178, 179]\n",
    "STATE_Q0003_IDX = [180, 181, 182, 183, 184, 185, 186, 187, 188, 189, 190, 191, 192, 193, 194, 195, 196, 197, 198, 199, 200, 201, 202, 203, 204, 205, 206, 207, 208, 209, 210, 211, 212, 213, 214, 215, 216, 217, 218, 219, 220, 221, 222, 223, 224, 225, 226, 227, 228, 229, 230, 231, 232, 233, 234, 235, 236, 237, 238, 239]\n",
    "\n",
    "PBUF_OZONE_IDX = [376, 377, 378, 379, 380, 381, 382, 383, 384, 385, 386, 387, 388, 389, 390, 391, 392, 393, 394, 395, 396, 397, 398, 399, 400, 401, 402, 403, 404, 405, 406, 407, 408, 409, 410, 411, 412, 413, 414, 415, 416, 417, 418, 419, 420, 421, 422, 423, 424, 425, 426, 427, 428, 429, 430, 431, 432, 433, 434, 435]\n",
    "PBUF_CH4_IDX = [436, 437, 438, 439, 440, 441, 442, 443, 444, 445, 446, 447, 448, 449, 450, 451, 452, 453, 454, 455, 456, 457, 458, 459, 460, 461, 462, 463, 464, 465, 466, 467, 468, 469, 470, 471, 472, 473, 474, 475, 476, 477, 478, 479, 480, 481, 482, 483, 484, 485, 486, 487, 488, 489, 490, 491, 492, 493, 494, 495]\n",
    "PBUF_N2O_IDX = [496, 497, 498, 499, 500, 501, 502, 503, 504, 505, 506, 507, 508, 509, 510, 511, 512, 513, 514, 515, 516, 517, 518, 519, 520, 521, 522, 523, 524, 525, 526, 527, 528, 529, 530, 531, 532, 533, 534, 535, 536, 537, 538, 539, 540, 541, 542, 543, 544, 545, 546, 547, 548, 549, 550, 551, 552, 553, 554, 555]\n",
    "\n",
    "PTEND_Q0001_IDX = [60, 61, 62, 63, 64, 65, 66, 67, 68, 69, 70, 71, 72, 73, 74, 75, 76, 77, 78, 79, 80, 81, 82, 83, 84, 85, 86, 87, 88, 89, 90, 91, 92, 93, 94, 95, 96, 97, 98, 99, 100, 101, 102, 103, 104, 105, 106, 107, 108, 109, 110, 111, 112, 113, 114, 115, 116, 117, 118, 119]\n",
    "PTEND_Q0002_IDX = [120, 121, 122, 123, 124, 125, 126, 127, 128, 129, 130, 131, 132, 133, 134, 135, 136, 137, 138, 139, 140, 141, 142, 143, 144, 145, 146, 147, 148, 149, 150, 151, 152, 153, 154, 155, 156, 157, 158, 159, 160, 161, 162, 163, 164, 165, 166, 167, 168, 169, 170, 171, 172, 173, 174, 175, 176, 177, 178, 179]\n",
    "PTEND_Q0003_IDX = [180, 181, 182, 183, 184, 185, 186, 187, 188, 189, 190, 191, 192, 193, 194, 195, 196, 197, 198, 199, 200, 201, 202, 203, 204, 205, 206, 207, 208, 209, 210, 211, 212, 213, 214, 215, 216, 217, 218, 219, 220, 221, 222, 223, 224, 225, 226, 227, 228, 229, 230, 231, 232, 233, 234, 235, 236, 237, 238, 239]\n",
    "\n",
    "PTEND_U_IDX = [240, 241, 242, 243, 244, 245, 246, 247, 248, 249, 250, 251, 252, 253, 254, 255, 256, 257, 258, 259, 260, 261, 262, 263, 264, 265, 266, 267, 268, 269, 270, 271, 272, 273, 274, 275, 276, 277, 278, 279, 280, 281, 282, 283, 284, 285, 286, 287, 288, 289, 290, 291, 292, 293, 294, 295, 296, 297, 298, 299]\n",
    "PTEND_V_IDX = [300, 301, 302, 303, 304, 305, 306, 307, 308, 309, 310, 311, 312, 313, 314, 315, 316, 317, 318, 319, 320, 321, 322, 323, 324, 325, 326, 327, 328, 329, 330, 331, 332, 333, 334, 335, 336, 337, 338, 339, 340, 341, 342, 343, 344, 345, 346, 347, 348, 349, 350, 351, 352, 353, 354, 355, 356, 357, 358, 359]\n",
    "PTEND_T_IDX = [0, 1, 2, 3, 4, 5, 6, 7, 8, 9, 10, 11, 12, 13, 14, 15, 16, 17, 18, 19, 20, 21, 22, 23, 24, 25, 26, 27, 28, 29, 30, 31, 32, 33, 34, 35, 36, 37, 38, 39, 40, 41, 42, 43, 44, 45, 46, 47, 48, 49, 50, 51, 52, 53, 54, 55, 56, 57, 58, 59]"
   ]
  },
  {
   "cell_type": "code",
   "execution_count": 10,
   "metadata": {},
   "outputs": [],
   "source": [
    "def r2_score(y_pred:torch.Tensor, y_true:torch.Tensor) -> float:\n",
    "    \"\"\"\n",
    "    Calculate the R^2 (coefficient of determination) regression score.\n",
    "    \n",
    "    Parameters\n",
    "    ----------\n",
    "    y_pred : torch.Tensor\n",
    "        The predicted values.\n",
    "    y_true : torch.Tensor\n",
    "        The true values.\n",
    "\n",
    "    Returns\n",
    "    -------\n",
    "    float\n",
    "        The R^2 score, a float value.\n",
    "    \"\"\"\n",
    "    \n",
    "    ss_res = torch.sum((y_true - y_pred) ** 2) \n",
    "    ss_tot = torch.sum((y_true - torch.mean(y_true)) ** 2)\n",
    "    \n",
    "    r2 = 1 - ss_res / ss_tot\n",
    "    \n",
    "    return r2.item()"
   ]
  },
  {
   "cell_type": "code",
   "execution_count": 11,
   "metadata": {},
   "outputs": [],
   "source": [
    "def r2_score_clipped(y_pred:torch.Tensor, y_true:torch.Tensor) -> float:\n",
    "    \"\"\"\n",
    "    Calculate the R^2 (coefficient of determination) regression score.\n",
    "    \n",
    "    Parameters\n",
    "    ----------\n",
    "    y_pred : torch.Tensor\n",
    "        The predicted values.\n",
    "    y_true : torch.Tensor\n",
    "        The true values.\n",
    "\n",
    "    Returns\n",
    "    -------\n",
    "    float\n",
    "        The R^2 score, a float value.\n",
    "    \"\"\"\n",
    "\n",
    "    scores_valid = np.array([metrics.r2_score(y_true[:, i], y_pred[:, i]) if w >0 else 1 for i,w in enumerate(TARGET_WEIGHTS) ])\n",
    "\n",
    "    return scores_valid.clip(-1, 1).mean()\n",
    "    #return (scores_valid.clip(-1, 1) * np.array(TARGET_WEIGHTS)).sum() / np.array(TARGET_WEIGHTS).sum() "
   ]
  },
  {
   "cell_type": "code",
   "execution_count": 12,
   "metadata": {},
   "outputs": [],
   "source": [
    "def calc_mean_std(ds_data:Dataset) -> None:\n",
    "    \"\"\"\n",
    "    Calculate and set the global mean and standard deviation for the dataset features and targets.\n",
    "    \n",
    "    Parameters\n",
    "    ----------\n",
    "    ds_data : torch.utils.data.Dataset\n",
    "        Dataset containing the data for which mean and standard deviation are to be calculated. \n",
    "        It should have attributes `x` and `y` representing features and targets, respectively.\n",
    "\n",
    "    Returns\n",
    "    -------\n",
    "    None\n",
    "    \"\"\"\n",
    "    \n",
    "    global X_MEAN, X_STD, Y_MEAN, Y_STD\n",
    "    \n",
    "    x = ds_data.x.double()\n",
    "    y = ds_data.y.double()\n",
    "    \n",
    "    X_MEAN = torch.mean(x, 0)\n",
    "    X_STD = torch.maximum(torch.std(x, 0), torch.tensor(ERR, dtype = torch.float64))\n",
    "    \n",
    "    Y_MEAN = y.mean(axis=0)\n",
    "    Y_STD = torch.maximum(torch.sqrt(torch.mean(torch.pow(y, 2), 0)), torch.tensor(ERR, dtype = torch.float64))\n",
    "    #Y_STD = torch.maximum(torch.mean(torch.abs(y), 0), torch.tensor(ERR))\n",
    "\n",
    "    #Y_MEAN = y.median(axis=0)[0]\n",
    "    #Y_STD = torch.maximum(torch.std(y, 0), torch.tensor(ERR, dtype = torch.float64))\n",
    "    #Y_STD = 0.1 * torch.maximum(torch.sqrt(torch.mean(torch.pow(y, 2), 0)), torch.tensor(ERR, dtype = torch.float64))\n",
    "    #Y_STD = torch.maximum(torch.sqrt(torch.mean(torch.pow(y - Y_MEAN, 2), 0)), torch.tensor(ERR, dtype = torch.float64))\n",
    "    #Y_STD = torch.sqrt(torch.mean(torch.pow(y.double(), 2), 0)).float()"
   ]
  },
  {
   "cell_type": "code",
   "execution_count": 13,
   "metadata": {},
   "outputs": [
    {
     "data": {
      "text/plain": [
       "<function torch._VariableFunctionsClass.abs>"
      ]
     },
     "execution_count": 13,
     "metadata": {},
     "output_type": "execute_result"
    }
   ],
   "source": [
    "torch.abs"
   ]
  },
  {
   "cell_type": "markdown",
   "metadata": {},
   "source": [
    "# TRAIN VAL FUNCTIONS"
   ]
  },
  {
   "cell_type": "code",
   "execution_count": 14,
   "metadata": {},
   "outputs": [],
   "source": [
    "def train_fn(\n",
    "    model: nn.Module, \n",
    "    loader: DataLoader, \n",
    "    optimizer: optim.Optimizer, \n",
    "    criterion: nn.Module,\n",
    ") -> float:\n",
    "    \"\"\"\n",
    "    Train the deep learning model for 1 epoch.\n",
    "    \n",
    "    Parameters\n",
    "    ----------\n",
    "    model : torch.nn.Module\n",
    "        The PyTorch model to be trained.\n",
    "    loader : torch.utils.data.DataLoader\n",
    "        DataLoader for the training data.\n",
    "    optimizer : torch.optim.Optimizer\n",
    "        Optimizer used for the backpropagation.\n",
    "    criterion : torch.nn.Module\n",
    "        Loss function used to compute the loss between the predicted and true values.\n",
    "\n",
    "    Returns\n",
    "    -------\n",
    "    float\n",
    "        The average training loss over the epoch.\n",
    "    \"\"\"\n",
    "    \n",
    "    #progress_bar = tqdm(enumerate(loader, start=1), total=len(loader), ncols=100)\n",
    "    progress_bar = tqdm(enumerate(loader, start=1), total=NUM_STEPS, ncols=100)\n",
    "    progress_bar.set_description(f'Epoch {epoch}')\n",
    "    model.train()\n",
    "    train_loss = 0\n",
    "    \n",
    "    for step, batch in progress_bar:\n",
    "\n",
    "        if step == NUM_STEPS:\n",
    "            break\n",
    "        \n",
    "        x, y, l = batch\n",
    "        x, y, l = x.to(DEVICE), y.to(DEVICE), l.to(DEVICE)\n",
    "\n",
    "        MIN_STAT = LOC_Y_MIN[l].to(DEVICE)\n",
    "        MAX_STAT = LOC_Y_MAX[l].to(DEVICE)\n",
    "        \n",
    "        optimizer.zero_grad()\n",
    "        y_pred = model(x)\n",
    "\n",
    "        constrain_max = (torch.maximum(y_pred - MAX_STAT, torch.tensor(0)) * LOSS_SCALE_TORCH).mean() \n",
    "        constrain_min = (torch.maximum(MIN_STAT - y_pred, torch.tensor(0)) * LOSS_SCALE_TORCH).mean()   \n",
    "\n",
    "        loss = criterion(y_pred, y).mean()\n",
    "        loss = loss + 0.5*constrain_max + constrain_min\n",
    "        \n",
    "        loss.backward()\n",
    "        # Clip gradients\n",
    "        nn.utils.clip_grad_norm_(model.parameters(), 5.0)\n",
    "        \n",
    "        optimizer.step()\n",
    "\n",
    "        train_loss += loss.item()\n",
    "\n",
    "        progress_bar.set_postfix({\n",
    "            'LR': f'{scheduler.get_last_lr()[0]:.6f}',\n",
    "            'train_loss': train_loss / step,\n",
    "        })\n",
    "        \n",
    "    return train_loss/step"
   ]
  },
  {
   "cell_type": "code",
   "execution_count": 15,
   "metadata": {},
   "outputs": [],
   "source": [
    "def valid_fn(model: nn.Module, loader: DataLoader) -> float:\n",
    "    \"\"\"\n",
    "    Validate the deep learning model for 1 epoch.\n",
    "    \n",
    "    Parameters\n",
    "    ----------\n",
    "    model : torch.nn.Module\n",
    "        The PyTorch model to be validated.\n",
    "    loader : torch.utils.data.DataLoader\n",
    "        DataLoader for the validation data.\n",
    "\n",
    "    Returns\n",
    "    -------\n",
    "    float\n",
    "        The average R2 score over the validation epoch.\n",
    "    \"\"\"\n",
    "    \n",
    "    progress_bar = tqdm(enumerate(loader, start=1), total=len(loader), ncols=100)\n",
    "    progress_bar.set_description(f'Epoch {epoch}')\n",
    "    model.eval()\n",
    "    val_score = 0\n",
    "\n",
    "    val_r2_full = 0\n",
    "    val_mse = 0\n",
    "    y_true = []\n",
    "    y_preds = []\n",
    "    with torch.no_grad():\n",
    "        for step, batch in progress_bar:\n",
    "            x, y, _ = batch\n",
    "            x, y = x.to(DEVICE), y.to(DEVICE)\n",
    "            \n",
    "            y_pred = model(x)\n",
    "            \n",
    "            y = y.cpu().to(torch.float64)\n",
    "            y_pred = y_pred.cpu().to(torch.float64)\n",
    "            \n",
    "            val_mse += metrics.mean_squared_error(y, y_pred)\n",
    "\n",
    "            y = (y * Y_STD) + Y_MEAN\n",
    "            #y = (y * Y_STD)\n",
    "            \n",
    "            \n",
    "            #y_pred[:, Y_STD == 0] = Y_MEAN[:, Y_STD == 0]\n",
    "            y_pred = (y_pred * Y_STD) + Y_MEAN\n",
    "            #y_pred = (y_pred * Y_STD)         \n",
    "                \n",
    "            y_pred /= torch.tensor(SCALE_WEIGHTS, dtype = torch.float64)\n",
    "            y /= torch.tensor(SCALE_WEIGHTS, dtype = torch.float64)\n",
    "            \n",
    "            val_score += r2_score(y_pred, y)\n",
    "\n",
    "            \n",
    "            \n",
    "            # progress_bar.set_postfix({\n",
    "            #     'valid_score': val_score / step,\n",
    "            # })\n",
    "    \n",
    "            y_true.append(y)\n",
    "            y_preds.append(y_pred)\n",
    "\n",
    "            if step == len(loader):\n",
    "                val_r2_full = r2_score_clipped(torch.vstack(y_preds).to(torch.float64), torch.vstack(y_true).to(torch.float64))\n",
    "               \n",
    "            progress_bar.set_postfix({\n",
    "                    'val_sc': val_score / step,\n",
    "                    'val_mse': val_mse / step,\n",
    "                    'val_r2': val_r2_full,            \n",
    "                })\n",
    "            \n",
    "    return val_score/step, val_mse/step, val_r2_full     "
   ]
  },
  {
   "cell_type": "code",
   "execution_count": 16,
   "metadata": {},
   "outputs": [],
   "source": [
    "def pred_fn(model: nn.Module, df_test: pl.DataFrame):\n",
    "    \"\"\"\n",
    "    Generate predictions using the trained model on the test data.\n",
    "    \n",
    "    Parameters\n",
    "    ----------\n",
    "    model : torch.nn.Module\n",
    "        The PyTorch model used for making predictions.\n",
    "    df_test : pl.DataFrame\n",
    "        DataFrame containing the test data.\n",
    "\n",
    "    Returns\n",
    "    -------\n",
    "    np.ndarray\n",
    "        The predicted values, denormalized.\n",
    "    \"\"\"\n",
    "    model.eval()\n",
    "\n",
    "    x_test = df_test[FEATURE_NAMES]\n",
    "    \n",
    "    \n",
    "    \n",
    "    \n",
    "    x_test = x_test.to_numpy()\n",
    "    x_test = torch.from_numpy(x_test)\n",
    "    \n",
    "    x_test = (x_test - X_MEAN) / X_STD\n",
    "    \n",
    "    x_test = x_test.to(torch.float32)\n",
    "    x_test = x_test.to(DEVICE)\n",
    "\n",
    "    with torch.no_grad():\n",
    "        y_pred = model(x_test)\n",
    "        \n",
    "    y_pred = y_pred.cpu()\n",
    "    y_pred = y_pred.to(torch.float64)\n",
    "    \n",
    "    y_pred[:, Y_STD == 0] = Y_MEAN[:, Y_STD == 0]\n",
    "    y_pred = (y_pred * Y_STD) + Y_MEAN\n",
    "    \n",
    "    y_pred = y_pred.detach()\n",
    "    y_pred = y_pred.cpu()\n",
    "    y_pred = y_pred.numpy()\n",
    "    \n",
    "    return y_pred"
   ]
  },
  {
   "cell_type": "markdown",
   "metadata": {},
   "source": [
    "### LeapDataset Class for Handling CSV Data in PyTorch"
   ]
  },
  {
   "cell_type": "code",
   "execution_count": 17,
   "metadata": {},
   "outputs": [],
   "source": [
    "class LeapDataset(Dataset):\n",
    "    def __init__(self, file_path, x_features, y_features, y_weights):\n",
    "        \"\"\"\n",
    "        Initializes the LeapDataset.\n",
    "\n",
    "        Parameters\n",
    "        ----------\n",
    "        file_path : str\n",
    "            Path to the parquet file containing the dataset.\n",
    "        x_features : list of str\n",
    "            List of feature names for the input data.\n",
    "        y_features : list of str\n",
    "            List of feature names for the target data.\n",
    "        y_weights : torch.Tensor\n",
    "            Weights to be applied to the target data.\n",
    "        \"\"\"\n",
    "        \n",
    "        super().__init__()\n",
    "        \n",
    "        #data = pd.read_parquet(file_path)\n",
    "        \n",
    "        self.x = pd.read_parquet(file_path, columns = x_features)\n",
    "        self.x = self.x.to_numpy()\n",
    "        self.x = torch.from_numpy(self.x)\n",
    "        \n",
    "        self.y = pd.read_parquet(file_path, columns = y_features)\n",
    "        self.y = self.y.to_numpy()\n",
    "        self.y = torch.from_numpy(self.y)#.to(torch.float64)\n",
    "\n",
    "        self.loc = pd.read_parquet(file_path, columns = ['sample_id'])\n",
    "        self.loc = self.loc.sample_id.map(lambda x: int(x.split('_')[-1])%384).to_numpy().astype(np.int16)\n",
    "        self.loc = torch.from_numpy(self.loc)\n",
    "        \n",
    "        #self.y = self.y * y_weights\n",
    "        \n",
    "    def __getitem__(self, idx):\n",
    "        x = self.x[idx]\n",
    "        y = self.y[idx]\n",
    "        l = self.loc[idx]\n",
    "        \n",
    "        #x = (x - X_MEAN) / X_STD\n",
    "        #y = (y - Y_MEAN) / Y_STD\n",
    "\n",
    "        #x = (x - X_MEAN) / X_STD\n",
    "        #y = y / Y_STD\n",
    "        \n",
    "        #y = torch.nan_to_num(y)\n",
    "        \n",
    "        x = x.to(torch.float32)\n",
    "        y = y.to(torch.float32)\n",
    "        l = l.to(torch.int32)\n",
    "        \n",
    "        return x, y, l\n",
    "    \n",
    "    def __len__(self):\n",
    "        return len(self.y)\n",
    "    \n",
    "    \n",
    "class LeapDatasetTest(Dataset):\n",
    "    def __init__(self, df_test, x_features):\n",
    "        \"\"\"\n",
    "        Initializes the LeapDataset.\n",
    "\n",
    "        Parameters\n",
    "        ----------\n",
    "        file_path : str\n",
    "            Path to the parquet file containing the dataset.\n",
    "        x_features : list of str\n",
    "            List of feature names for the input data.\n",
    "        y_features : list of str\n",
    "            List of feature names for the target data.\n",
    "        y_weights : torch.Tensor\n",
    "            Weights to be applied to the target data.\n",
    "        \"\"\"\n",
    "        \n",
    "        super().__init__()\n",
    "        \n",
    "        \n",
    "        self.x = df_test[x_features]\n",
    "        self.x = self.x.to_numpy()\n",
    "        self.x = torch.from_numpy(self.x)\n",
    "        \n",
    "\n",
    "    def __getitem__(self, idx):\n",
    "        x = self.x[idx]\n",
    "\n",
    "        \n",
    "        x = (x - X_MEAN) / X_STD\n",
    "        x = x.to(torch.float32)\n",
    "        return x\n",
    "    \n",
    "    def __len__(self):\n",
    "        return len(self.x)"
   ]
  },
  {
   "cell_type": "code",
   "execution_count": null,
   "metadata": {},
   "outputs": [],
   "source": []
  },
  {
   "cell_type": "code",
   "execution_count": 18,
   "metadata": {},
   "outputs": [],
   "source": [
    "def pred_fn(model: nn.Module, df_test: pl.DataFrame):\n",
    "    \"\"\"\n",
    "    Generate predictions using the trained model on the test data.\n",
    "    \n",
    "    Parameters\n",
    "    ----------\n",
    "    model : torch.nn.Module\n",
    "        The PyTorch model used for making predictions.\n",
    "    df_test : pl.DataFrame\n",
    "        DataFrame containing the test data.\n",
    "\n",
    "    Returns\n",
    "    -------\n",
    "    np.ndarray\n",
    "        The predicted values, denormalized.\n",
    "    \"\"\"\n",
    "    model.eval()\n",
    "  \n",
    "    ds_test = LeapDatasetTest(df_test, FEATURE_NAMES)\n",
    "    \n",
    "    test_loader = DataLoader(\n",
    "        ds_test, \n",
    "        batch_size=BATCH_SIZE, \n",
    "        shuffle=False, \n",
    "        drop_last=False,\n",
    "    )\n",
    "\n",
    "    \n",
    "    progress_bar = tqdm(enumerate(test_loader, start=1), total=len(test_loader), ncols=100)\n",
    "    \n",
    "    preds = []\n",
    "    \n",
    "    with torch.no_grad():\n",
    "        for step, batch in progress_bar:\n",
    "            x = batch\n",
    "            x = x.to(DEVICE)\n",
    "            \n",
    "            y_pred = model(x)\n",
    "            \n",
    "            y_pred = y_pred.cpu()\n",
    "            y_pred = y_pred.to(torch.float64)\n",
    "\n",
    "            #y_pred[:, Y_STD < (1.1 * ERR)] = 0\n",
    "            y_pred = (y_pred * Y_STD) + Y_MEAN\n",
    "\n",
    "            y_pred = y_pred.detach()\n",
    "            y_pred = y_pred.cpu()\n",
    "            y_pred = y_pred.numpy()\n",
    "            \n",
    "            preds.append(y_pred)\n",
    "            \n",
    "    return np.vstack(preds)"
   ]
  },
  {
   "cell_type": "markdown",
   "metadata": {},
   "source": [
    "### Custom Model"
   ]
  },
  {
   "cell_type": "code",
   "execution_count": 19,
   "metadata": {},
   "outputs": [],
   "source": [
    "class ECA(nn.Module):\n",
    "    def __init__(self, kernel_size=5):\n",
    "        super().__init__()\n",
    "        self.kernel_size = kernel_size\n",
    "        self.supports_masking = True\n",
    "        self.conv = nn.Conv1d(in_channels=1, out_channels=1, kernel_size=kernel_size, stride=1, padding=\"same\", bias=False)\n",
    "    def forward(self, inputs):\n",
    "        b, c, s = inputs.shape\n",
    "        \n",
    "        x = torch.mean(inputs, axis = -1)\n",
    "        x = x.view(b, 1, c)\n",
    "        x = self.conv(x)\n",
    "        x = x.squeeze(1)\n",
    "        x = nn.Sigmoid()(x)\n",
    "        x = x[:,:,None]\n",
    "        return inputs * x\n",
    "\n",
    "\n",
    "class CausalDWConv1D(nn.Module):\n",
    "    def __init__(self, \n",
    "        kernel_size=17,\n",
    "        dilation_rate=1,\n",
    "        use_bias=False,\n",
    "        in_channels = 64,\n",
    "        out_channels = 32,       \n",
    "        depthwise_initializer='glorot_uniform',\n",
    "        **kwargs):\n",
    "        super().__init__()\n",
    "        #self.causal_pad = tf.keras.layers.ZeroPadding1D((dilation_rate*(kernel_size-1),0),name=name + '_pad')\n",
    "        self.dw_conv = nn.Conv1d(\n",
    "            in_channels, \n",
    "            out_channels, \n",
    "            kernel_size, \n",
    "            stride=1, \n",
    "            padding='same', \n",
    "            dilation=dilation_rate, \n",
    "            groups=out_channels if kernel_size > 3 else 1,\n",
    "            bias=False, \n",
    "            padding_mode='zeros')\n",
    "\n",
    "        \n",
    "    def forward(self, inputs):\n",
    "        x = self.dw_conv(inputs)\n",
    "        return x\n",
    "\n",
    "\n",
    "class Conv1DBlock(nn.Module):\n",
    "    def __init__(self, \n",
    "                 kernel_size=17,\n",
    "                 channels = 32,\n",
    "                 expand_channels = 64,\n",
    "                 drop_rate=0.0,\n",
    "                ):\n",
    "        super().__init__()\n",
    "        self.kernel_size = kernel_size\n",
    "        self.conv = CausalDWConv1D(\n",
    "                        kernel_size=kernel_size,\n",
    "                        dilation_rate=1,\n",
    "                        use_bias=False,\n",
    "                        in_channels = expand_channels,\n",
    "                        out_channels = expand_channels\n",
    "                    )\n",
    "        self.dnn_expand = nn.Linear(in_features = channels, \n",
    "                                    out_features = expand_channels\n",
    "                                     )\n",
    "        self.dnn_project = nn.Linear(in_features = expand_channels, \n",
    "                             out_features = channels\n",
    "                                    )\n",
    "        self.bn = nn.BatchNorm1d(num_features = expand_channels, eps=0.95)\n",
    "        self.eca = ECA()\n",
    "        self.dropout = nn.Dropout(drop_rate)\n",
    "        self.act = nn.SiLU()\n",
    "\n",
    "    def forward(self, inputs):\n",
    "        skip = inputs\n",
    "\n",
    "        x = inputs.permute([0,2,1])\n",
    "        x = self.dnn_expand(x)\n",
    "        \n",
    "        x = x.permute([0,2,1])\n",
    "        x = self.act(x)\n",
    "        x = self.conv(x)\n",
    "        x = self.bn(x)\n",
    "        x = self.eca(x)\n",
    "        \n",
    "        x = x.permute([0,2,1])\n",
    "        x = self.dnn_project(x)\n",
    "        x = x.permute([0,2,1])\n",
    "\n",
    "        return x + skip\n",
    "\n",
    "\n",
    "        "
   ]
  },
  {
   "cell_type": "code",
   "execution_count": 20,
   "metadata": {},
   "outputs": [],
   "source": [
    "\n",
    "class FeedFoward(nn.Module):\n",
    "    \"\"\" a simple linear layer followed by a non-linearity \"\"\"\n",
    "\n",
    "    def __init__(self, n_embd, dropout):\n",
    "        super().__init__()\n",
    "        self.net = nn.Sequential(\n",
    "            nn.Linear(n_embd, 2 * n_embd),\n",
    "            nn.ReLU(),\n",
    "            nn.Linear(2 * n_embd, n_embd),\n",
    "            nn.Dropout(dropout),\n",
    "        )\n",
    "\n",
    "    def forward(self, x):\n",
    "        return self.net(x)\n",
    "        \n",
    "\n",
    "class Block(nn.Module):\n",
    "    \"\"\" Transformer block: communication followed by computation \"\"\"\n",
    "\n",
    "    def __init__(self, n_embd, n_head, dropout):\n",
    "        # n_embd: embedding dimension, n_head: the number of heads we'd like\n",
    "        super().__init__()\n",
    "        head_size = n_embd // n_head\n",
    "        self.sa = nn.MultiheadAttention(n_embd, n_head)\n",
    "        self.ffwd = FeedFoward(n_embd, dropout)\n",
    "        self.ln1 = nn.LayerNorm(n_embd)\n",
    "        self.ln2 = nn.LayerNorm(n_embd)\n",
    "\n",
    "    def forward(self, x, q = None):\n",
    "        if q is not None:\n",
    "            X = (q, x, x)\n",
    "        else:\n",
    "            X = (x, x, x)\n",
    "        y = self.sa(*X)\n",
    "        y = y[0]\n",
    "        \n",
    "        x = self.ln1(x + y)\n",
    "        y = self.ffwd(x)\n",
    "        x = self.ln2(x + y)\n",
    "        return x\n"
   ]
  },
  {
   "cell_type": "code",
   "execution_count": 21,
   "metadata": {},
   "outputs": [],
   "source": [
    "class Block(nn.Module):\n",
    "    \"\"\" Transformer block: communication followed by computation \"\"\"\n",
    "\n",
    "    def __init__(self, n_embd, n_head, dropout):\n",
    "        # n_embd: embedding dimension, n_head: the number of heads we'd like\n",
    "        super().__init__()\n",
    "        head_size = n_embd // n_head\n",
    "        self.sa = nn.MultiheadAttention(n_embd, n_head)\n",
    "        self.ffwd = FeedFoward(n_embd, dropout)\n",
    "        self.ln1 = nn.LayerNorm([60, n_embd])\n",
    "        self.ln2 = nn.LayerNorm([60, n_embd])\n",
    "\n",
    "    def forward(self, x, q = None):\n",
    "        if q is not None:\n",
    "            X = (q, x, x)\n",
    "        else:\n",
    "            X = (x, x, x)\n",
    "        y = self.sa(*X)\n",
    "        y = y[0]\n",
    "        \n",
    "        x = self.ln1(x + y)\n",
    "        y = self.ffwd(x)\n",
    "        x = self.ln2(x + y)\n",
    "        return x"
   ]
  },
  {
   "cell_type": "code",
   "execution_count": 22,
   "metadata": {},
   "outputs": [],
   "source": [
    "class ConvTransBlock(nn.Module):\n",
    "    def __init__(self, block_kernels = [5, 3], n_head = 4, channels=16, expand_channels=32, drop_rate = 0.1, att_drop_rate = 0.25, n_features=25):\n",
    "        # n_embd: embedding dimension, n_head: the number of heads we'd like\n",
    "        super().__init__()\n",
    "        self.conv = nn.Sequential(*[\n",
    "            Conv1DBlock(kernel_size=k, channels = channels,expand_channels = expand_channels, drop_rate=drop_rate)\n",
    "            for k in block_kernels\n",
    "        ])\n",
    "\n",
    "        self.block = Block(n_embd = channels, n_head=n_head, dropout = att_drop_rate)\n",
    "\n",
    "    def forward(self, x):\n",
    "        x = self.conv(x)\n",
    "        x = x.permute([0,2,1])\n",
    "        x = self.block(x)\n",
    "        x = x.permute([0,2,1])\n",
    "        return x"
   ]
  },
  {
   "cell_type": "code",
   "execution_count": 23,
   "metadata": {},
   "outputs": [],
   "source": [
    "class TFAFeatureExctractor(nn.Module):\n",
    "    \"\"\" Transformer block: communication followed by computation \"\"\"\n",
    "\n",
    "    def __init__(self, kernel_size = 3, scale_factor= 8, n_features=25):\n",
    "        # n_embd: embedding dimension, n_head: the number of heads we'd like\n",
    "        super().__init__()\n",
    "        self.n_features = n_features\n",
    "        self.scale_factor = scale_factor\n",
    "        self.dwQ = nn.Sequential(\n",
    "            nn.Conv1d(\n",
    "                n_features, \n",
    "                int(n_features * scale_factor), \n",
    "                kernel_size, \n",
    "                stride=1, \n",
    "                padding='same', \n",
    "                groups=n_features,\n",
    "                bias=False, \n",
    "                padding_mode='zeros'),\n",
    "            Conv1DBlock(kernel_size=7, \n",
    "                        channels = int(n_features * scale_factor),\n",
    "                        expand_channels = int(n_features * scale_factor*2), \n",
    "                        drop_rate=0.2),\n",
    "            # Conv1DBlock(kernel_size=kernel_size, \n",
    "            #             channels = int(n_features * scale_factor),\n",
    "            #             expand_channels = int(n_features * scale_factor*2), \n",
    "            #             drop_rate=0.2)\n",
    "            )\n",
    "            \n",
    "\n",
    "\n",
    "        self.dwK = nn.Sequential(\n",
    "            nn.Conv1d(\n",
    "                n_features, \n",
    "                int(n_features * scale_factor), \n",
    "                kernel_size, \n",
    "                stride=1, \n",
    "                padding='same', \n",
    "                groups=1,\n",
    "                bias=False, \n",
    "                padding_mode='zeros'),\n",
    "            Conv1DBlock(kernel_size=3, \n",
    "                        channels = int(n_features * scale_factor),\n",
    "                        expand_channels = int(n_features * scale_factor*2), \n",
    "                        drop_rate=0.2),\n",
    "            # Conv1DBlock(kernel_size=kernel_size, \n",
    "            #             channels = int(n_features * scale_factor),\n",
    "            #             expand_channels = int(n_features * scale_factor*2), \n",
    "            #             drop_rate=0.2)\n",
    "            )\n",
    "\n",
    "        self.dwV = nn.Sequential(\n",
    "            nn.Conv1d(\n",
    "                n_features, \n",
    "                int(n_features * scale_factor), \n",
    "                kernel_size, \n",
    "                stride=1, \n",
    "                padding='same', \n",
    "                groups=1,\n",
    "                bias=False, \n",
    "                padding_mode='zeros'),\n",
    "            Conv1DBlock(kernel_size=kernel_size, \n",
    "                        channels = int(n_features * scale_factor),\n",
    "                        expand_channels = int(n_features * scale_factor*2), \n",
    "                        drop_rate=0.2),\n",
    "            # Conv1DBlock(kernel_size=kernel_size, \n",
    "            #             channels = int(n_features * scale_factor),\n",
    "            #             expand_channels = int(n_features * scale_factor*2), \n",
    "            #             drop_rate=0.2)\n",
    "            )\n",
    "        \n",
    "        \n",
    "        self.ln = nn.LayerNorm(int(n_features * scale_factor))\n",
    "        \n",
    "        self.sa = nn.MultiheadAttention(int(n_features * scale_factor), scale_factor//2)\n",
    "        self.ffwd = FeedFoward(int(n_features * scale_factor), dropout=0.2)\n",
    "        self.ln1 = nn.LayerNorm(int(n_features * scale_factor))\n",
    "        self.ln2 = nn.LayerNorm(int(n_features * scale_factor))\n",
    "        \n",
    "        \n",
    "    def forward(self, x):\n",
    "        x = x.view(-1, 556)\n",
    "        \n",
    "        state_t = x[:, 0:60] # - 273\n",
    "        state_q0001 = x[:, 60:120] #*1_000\n",
    "        state_q0002 = x[:, 120:180] #*1_000\n",
    "        state_q0003 = x[:, 180:240] #*1_000\n",
    "        state_u = x[:, 240:300] #/ 100\n",
    "        state_v = x[:, 300:360] #/ 100\n",
    "    \n",
    "        state_ps = x[:, 360:361] #/ 100_000 - 1\n",
    "        pbuf_SOLIN = x[:, 361:362] #/ 1000\n",
    "        pbuf_LHFLX = x[:, 362:363] #/ 1000\n",
    "        pbuf_SHFLX = x[:, 363:364] #/ 1000\n",
    "        pbuf_TAUX = x[:, 364:365] #/ 1\n",
    "        pbuf_TAUY = x[:, 365:366] #/ 1\n",
    "        pbuf_COSZRS = x[:, 366:367] #/ 1\n",
    "        cam_in_ALDIF = x[:, 367:368] #/ 1\n",
    "        cam_in_ALDIR = x[:, 368:369] #/ 1\n",
    "        cam_in_ASDIF = x[:, 369:370] #/ 1\n",
    "        cam_in_ASDIR = x[:, 370:371] #/ 1\n",
    "        cam_in_LWUP = x[:, 371:372] # / 1000\n",
    "        cam_in_ICEFRAC = x[:, 372:373] #/ 1\n",
    "        cam_in_LANDFRAC = x[:, 373:374] #/1\n",
    "        cam_in_OCNFRAC = x[:, 374:375]  #/1\n",
    "        cam_in_SNOWHLAND = x[:, 375:376]# / 1\n",
    "    \n",
    "        pbuf_ozone = x[:, 376:436] #* 100_000\n",
    "        pbuf_CH4 = x[:, 436:496] #* 100_000\n",
    "        pbuf_N2O = x[:, 496:556] #* 100_000\n",
    "            \n",
    "        inputs_60 = [\n",
    "                state_t,\n",
    "                state_q0001,\n",
    "                state_q0002,\n",
    "                state_q0003, \n",
    "                state_u,\n",
    "                state_v,\n",
    "    \n",
    "                pbuf_ozone,\n",
    "                pbuf_CH4,\n",
    "                pbuf_N2O\n",
    "        ]\n",
    "\n",
    "        inputs_flat = [            \n",
    "                torch.repeat_interleave(state_ps, 60, dim=-1),\n",
    "                torch.repeat_interleave(pbuf_SOLIN, 60, dim=-1),\n",
    "                torch.repeat_interleave(pbuf_LHFLX, 60, dim=-1),\n",
    "                torch.repeat_interleave(pbuf_SHFLX, 60, dim=-1),\n",
    "                torch.repeat_interleave(pbuf_TAUX, 60, dim=-1),\n",
    "               torch.repeat_interleave(pbuf_TAUY, 60, dim=-1),\n",
    "                torch.repeat_interleave(pbuf_COSZRS, 60, dim=-1),\n",
    "                torch.repeat_interleave(cam_in_ALDIF, 60, dim=-1),\n",
    "                torch.repeat_interleave(cam_in_ALDIR, 60, dim=-1),\n",
    "               torch.repeat_interleave(cam_in_ASDIF, 60, dim=-1),\n",
    "                torch.repeat_interleave(cam_in_ASDIR, 60, dim=-1),\n",
    "                torch.repeat_interleave(cam_in_LWUP, 60, dim=-1),\n",
    "                torch.repeat_interleave(cam_in_ICEFRAC, 60, dim=-1),\n",
    "                torch.repeat_interleave(cam_in_LANDFRAC, 60, dim=-1),\n",
    "                torch.repeat_interleave(cam_in_OCNFRAC, 60, dim=-1),\n",
    "                torch.repeat_interleave(cam_in_SNOWHLAND, 60, dim=-1),\n",
    "        ]\n",
    "\n",
    "        inputs = inputs_60 + inputs_flat\n",
    "        inputs = torch.cat([t.view(-1, 1, 60) for t in inputs], 1)\n",
    "\n",
    "        #x = inputs\n",
    "        \n",
    "        q = self.dwQ(inputs).permute([0,2,1]) #B, L, C\n",
    "        k = self.dwK(inputs).permute([0,2,1]) #B, C, L\n",
    "        v = self.dwV(inputs).permute([0,2,1]) #B, L, C\n",
    "        #f = self.dwF(inputs).permute([0,2,1])  #B, L, C\n",
    "\n",
    "        \n",
    "        y = self.sa(q, k, v)[0]\n",
    "        x = self.ln1(q + y)\n",
    "        y = self.ffwd(x)\n",
    "        x = self.ln2(x + y)\n",
    "\n",
    "        return x.permute([0,2,1]) \n",
    "        \n",
    "        \n"
   ]
  },
  {
   "cell_type": "code",
   "execution_count": 24,
   "metadata": {},
   "outputs": [
    {
     "data": {
      "text/plain": [
       "torch.Size([8, 200, 60])"
      ]
     },
     "execution_count": 24,
     "metadata": {},
     "output_type": "execute_result"
    }
   ],
   "source": [
    "TFAFeatureExctractor()(torch.rand([8,556])).shape"
   ]
  },
  {
   "cell_type": "code",
   "execution_count": 25,
   "metadata": {},
   "outputs": [],
   "source": [
    "class ConvFeatureExctractor(nn.Module):\n",
    "    \"\"\" Transformer block: communication followed by computation \"\"\"\n",
    "\n",
    "    def __init__(self, kernel_size = 3, scale_factor= 8, n_features=25):\n",
    "        # n_embd: embedding dimension, n_head: the number of heads we'd like\n",
    "        super().__init__()\n",
    "        self.n_features = n_features\n",
    "        self.scale_factor = scale_factor\n",
    "        self.dwQ = nn.Sequential(\n",
    "            nn.Conv1d(\n",
    "                n_features, \n",
    "                int(n_features * 4), \n",
    "                kernel_size, \n",
    "                stride=1, \n",
    "                padding='same', \n",
    "                groups=n_features,\n",
    "                bias=False, \n",
    "                padding_mode='zeros'),\n",
    "            Conv1DBlock(kernel_size=7, \n",
    "                        channels = int(n_features * 4),\n",
    "                        expand_channels = int(n_features * 6), \n",
    "                        drop_rate=0.1),\n",
    "\n",
    "            nn.Conv1d(\n",
    "                int(n_features * 4), \n",
    "                int(n_features * 8), \n",
    "                kernel_size, \n",
    "                stride=1, \n",
    "                padding='same', \n",
    "                groups=n_features,\n",
    "                bias=False, \n",
    "                padding_mode='zeros'),\n",
    "            Conv1DBlock(kernel_size=5, \n",
    "                        channels = int(n_features * 8),\n",
    "                        expand_channels = int(n_features * 10), \n",
    "                        drop_rate=0.1),\n",
    "\n",
    "            nn.Conv1d(\n",
    "                int(n_features * 8), \n",
    "                int(n_features * scale_factor),\n",
    "                kernel_size, \n",
    "                stride=1, \n",
    "                padding='same', \n",
    "                groups=n_features,\n",
    "                bias=False, \n",
    "                padding_mode='zeros'),\n",
    "            Conv1DBlock(kernel_size=3, \n",
    "                        channels = int(n_features * scale_factor),\n",
    "                        expand_channels = int(n_features * scale_factor*2), \n",
    "                        drop_rate=0.1),\n",
    "            )\n",
    "            \n",
    "        \n",
    "        \n",
    "    def forward(self, x):\n",
    "        x = x.view(-1, 556)\n",
    "        \n",
    "        state_t = x[:, 0:60] # - 273\n",
    "        state_q0001 = x[:, 60:120] #*1_000\n",
    "        state_q0002 = x[:, 120:180] #*1_000\n",
    "        state_q0003 = x[:, 180:240] #*1_000\n",
    "        state_u = x[:, 240:300] #/ 100\n",
    "        state_v = x[:, 300:360] #/ 100\n",
    "    \n",
    "        state_ps = x[:, 360:361] #/ 100_000 - 1\n",
    "        pbuf_SOLIN = x[:, 361:362] #/ 1000\n",
    "        pbuf_LHFLX = x[:, 362:363] #/ 1000\n",
    "        pbuf_SHFLX = x[:, 363:364] #/ 1000\n",
    "        pbuf_TAUX = x[:, 364:365] #/ 1\n",
    "        pbuf_TAUY = x[:, 365:366] #/ 1\n",
    "        pbuf_COSZRS = x[:, 366:367] #/ 1\n",
    "        cam_in_ALDIF = x[:, 367:368] #/ 1\n",
    "        cam_in_ALDIR = x[:, 368:369] #/ 1\n",
    "        cam_in_ASDIF = x[:, 369:370] #/ 1\n",
    "        cam_in_ASDIR = x[:, 370:371] #/ 1\n",
    "        cam_in_LWUP = x[:, 371:372] # / 1000\n",
    "        cam_in_ICEFRAC = x[:, 372:373] #/ 1\n",
    "        cam_in_LANDFRAC = x[:, 373:374] #/1\n",
    "        cam_in_OCNFRAC = x[:, 374:375]  #/1\n",
    "        cam_in_SNOWHLAND = x[:, 375:376]# / 1\n",
    "    \n",
    "        pbuf_ozone = x[:, 376:436] #* 100_000\n",
    "        pbuf_CH4 = x[:, 436:496] #* 100_000\n",
    "        pbuf_N2O = x[:, 496:556] #* 100_000\n",
    "            \n",
    "        inputs_60 = [\n",
    "                state_t,\n",
    "                state_q0001,\n",
    "                state_q0002,\n",
    "                state_q0003, \n",
    "                state_u,\n",
    "                state_v,\n",
    "    \n",
    "                pbuf_ozone,\n",
    "                pbuf_CH4,\n",
    "                pbuf_N2O\n",
    "        ]\n",
    "\n",
    "        inputs_flat = [            \n",
    "                torch.repeat_interleave(state_ps, 60, dim=-1),\n",
    "                torch.repeat_interleave(pbuf_SOLIN, 60, dim=-1),\n",
    "                torch.repeat_interleave(pbuf_LHFLX, 60, dim=-1),\n",
    "                torch.repeat_interleave(pbuf_SHFLX, 60, dim=-1),\n",
    "                torch.repeat_interleave(pbuf_TAUX, 60, dim=-1),\n",
    "               torch.repeat_interleave(pbuf_TAUY, 60, dim=-1),\n",
    "                torch.repeat_interleave(pbuf_COSZRS, 60, dim=-1),\n",
    "                torch.repeat_interleave(cam_in_ALDIF, 60, dim=-1),\n",
    "                torch.repeat_interleave(cam_in_ALDIR, 60, dim=-1),\n",
    "               torch.repeat_interleave(cam_in_ASDIF, 60, dim=-1),\n",
    "                torch.repeat_interleave(cam_in_ASDIR, 60, dim=-1),\n",
    "                torch.repeat_interleave(cam_in_LWUP, 60, dim=-1),\n",
    "                torch.repeat_interleave(cam_in_ICEFRAC, 60, dim=-1),\n",
    "                torch.repeat_interleave(cam_in_LANDFRAC, 60, dim=-1),\n",
    "                torch.repeat_interleave(cam_in_OCNFRAC, 60, dim=-1),\n",
    "                torch.repeat_interleave(cam_in_SNOWHLAND, 60, dim=-1),\n",
    "        ]\n",
    "\n",
    "        inputs = inputs_60 + inputs_flat\n",
    "        inputs = torch.cat([t.view(-1, 1, 60) for t in inputs], 1)\n",
    "\n",
    "        #x = inputs\n",
    "        \n",
    "        q = self.dwQ(inputs)\n",
    "\n",
    "        return q\n",
    "        \n",
    "        \n"
   ]
  },
  {
   "cell_type": "code",
   "execution_count": 26,
   "metadata": {},
   "outputs": [
    {
     "data": {
      "text/plain": [
       "torch.Size([8, 200, 60])"
      ]
     },
     "execution_count": 26,
     "metadata": {},
     "output_type": "execute_result"
    }
   ],
   "source": [
    "ConvFeatureExctractor()(torch.rand([8,556])).shape"
   ]
  },
  {
   "cell_type": "code",
   "execution_count": 27,
   "metadata": {},
   "outputs": [],
   "source": [
    "class DWFeatureExctractor(nn.Module):\n",
    "    \"\"\" Transformer block: communication followed by computation \"\"\"\n",
    "\n",
    "    def __init__(self, kernel_size = 3, scale_factor= 8, n_features=25):\n",
    "        # n_embd: embedding dimension, n_head: the number of heads we'd like\n",
    "        super().__init__()\n",
    "        self.n_features = n_features\n",
    "        self.scale_factor = scale_factor\n",
    "\n",
    "        self.dw_conv = nn.Conv1d(\n",
    "            n_features, \n",
    "            n_features * scale_factor, \n",
    "            kernel_size, \n",
    "            stride=1, \n",
    "            padding='same', \n",
    "            dilation=1, \n",
    "            groups=n_features,\n",
    "            bias=False, \n",
    "            padding_mode='zeros')\n",
    "\n",
    "        self.stat_proj = nn.ModuleList([\n",
    "                    nn.Sequential(\n",
    "                            nn.Linear(1, 32),\n",
    "                            nn.ReLU(inplace = True),\n",
    "                            nn.Linear(32, 60)\n",
    "                        ) for _ in range(16)\n",
    "        ])\n",
    "        \n",
    "    def forward(self, x):\n",
    "        x = x.view(-1, 556)\n",
    "        \n",
    "        state_t = x[:, 0:60] # - 273\n",
    "        state_q0001 = x[:, 60:120] #*1_000\n",
    "        state_q0002 = x[:, 120:180] #*1_000\n",
    "        state_q0003 = x[:, 180:240] #*1_000\n",
    "        state_u = x[:, 240:300] #/ 100\n",
    "        state_v = x[:, 300:360] #/ 100\n",
    "    \n",
    "        state_ps = x[:, 360:361] #/ 100_000 - 1\n",
    "        pbuf_SOLIN = x[:, 361:362] #/ 1000\n",
    "        pbuf_LHFLX = x[:, 362:363] #/ 1000\n",
    "        pbuf_SHFLX = x[:, 363:364] #/ 1000\n",
    "        pbuf_TAUX = x[:, 364:365] #/ 1\n",
    "        pbuf_TAUY = x[:, 365:366] #/ 1\n",
    "        pbuf_COSZRS = x[:, 366:367] #/ 1\n",
    "        cam_in_ALDIF = x[:, 367:368] #/ 1\n",
    "        cam_in_ALDIR = x[:, 368:369] #/ 1\n",
    "        cam_in_ASDIF = x[:, 369:370] #/ 1\n",
    "        cam_in_ASDIR = x[:, 370:371] #/ 1\n",
    "        cam_in_LWUP = x[:, 371:372] # / 1000\n",
    "        cam_in_ICEFRAC = x[:, 372:373] #/ 1\n",
    "        cam_in_LANDFRAC = x[:, 373:374] #/1\n",
    "        cam_in_OCNFRAC = x[:, 374:375]  #/1\n",
    "        cam_in_SNOWHLAND = x[:, 375:376]# / 1\n",
    "    \n",
    "        pbuf_ozone = x[:, 376:436] #* 100_000\n",
    "        pbuf_CH4 = x[:, 436:496] #* 100_000\n",
    "        pbuf_N2O = x[:, 496:556] #* 100_000\n",
    "            \n",
    "        inputs_60 = [\n",
    "                state_t,\n",
    "                state_q0001,\n",
    "                state_q0002,\n",
    "                state_q0003, \n",
    "                state_u,\n",
    "                state_v,\n",
    "    \n",
    "                pbuf_ozone,\n",
    "                pbuf_CH4,\n",
    "                pbuf_N2O\n",
    "        ]\n",
    "\n",
    "        # inputs_flat = [            \n",
    "        #         torch.repeat_interleave(state_ps, 60, dim=-1),\n",
    "        #         torch.repeat_interleave(pbuf_SOLIN, 60, dim=-1),\n",
    "        #         torch.repeat_interleave(pbuf_LHFLX, 60, dim=-1),\n",
    "        #         torch.repeat_interleave(pbuf_SHFLX, 60, dim=-1),\n",
    "        #         torch.repeat_interleave(pbuf_TAUX, 60, dim=-1),\n",
    "        #        torch.repeat_interleave(pbuf_TAUY, 60, dim=-1),\n",
    "        #         torch.repeat_interleave(pbuf_COSZRS, 60, dim=-1),\n",
    "        #         torch.repeat_interleave(cam_in_ALDIF, 60, dim=-1),\n",
    "        #         torch.repeat_interleave(cam_in_ALDIR, 60, dim=-1),\n",
    "        #        torch.repeat_interleave(cam_in_ASDIF, 60, dim=-1),\n",
    "        #         torch.repeat_interleave(cam_in_ASDIR, 60, dim=-1),\n",
    "        #         torch.repeat_interleave(cam_in_LWUP, 60, dim=-1),\n",
    "        #         torch.repeat_interleave(cam_in_ICEFRAC, 60, dim=-1),\n",
    "        #         torch.repeat_interleave(cam_in_LANDFRAC, 60, dim=-1),\n",
    "        #         torch.repeat_interleave(cam_in_OCNFRAC, 60, dim=-1),\n",
    "        #         torch.repeat_interleave(cam_in_SNOWHLAND, 60, dim=-1),\n",
    "        # ]\n",
    "\n",
    "        inputs_flat = [\n",
    "        self.stat_proj[i](x) for i, x in \n",
    "        enumerate([state_ps, pbuf_SOLIN, pbuf_LHFLX, pbuf_SHFLX, pbuf_TAUX, pbuf_TAUY, pbuf_COSZRS, \n",
    "        cam_in_ALDIF, cam_in_ALDIR, cam_in_ASDIF, cam_in_ASDIR,\n",
    "        cam_in_LWUP, cam_in_ICEFRAC, cam_in_LANDFRAC, cam_in_OCNFRAC, cam_in_SNOWHLAND])]\n",
    "\n",
    "        inputs = inputs_60 + inputs_flat\n",
    "        inputs = torch.cat([t.view(-1, 1, 60) for t in inputs], 1)\n",
    "\n",
    "        #x = inputs\n",
    "        \n",
    "        q = self.dw_conv(inputs)\n",
    "\n",
    "        return q\n",
    "        \n",
    "        \n"
   ]
  },
  {
   "cell_type": "code",
   "execution_count": 28,
   "metadata": {},
   "outputs": [
    {
     "data": {
      "text/plain": [
       "torch.Size([8, 200, 60])"
      ]
     },
     "execution_count": 28,
     "metadata": {},
     "output_type": "execute_result"
    }
   ],
   "source": [
    "DWFeatureExctractor()(torch.rand([8,556])).shape"
   ]
  },
  {
   "cell_type": "code",
   "execution_count": 29,
   "metadata": {},
   "outputs": [],
   "source": [
    "class LEADHead(nn.Module):\n",
    "    \"\"\" Transformer block: communication followed by computation \"\"\"\n",
    "\n",
    "    def __init__(self, n_embd):\n",
    "        # n_embd: embedding dimension, n_head: the number of heads we'd like\n",
    "        super().__init__()\n",
    "\n",
    "        self.act = nn.SELU()\n",
    "        self.conv_seq = nn.Conv1d(in_channels = n_embd, out_channels = 6,\n",
    "                                                kernel_size = 1,\n",
    "                                                stride=1, \n",
    "                                                padding='same')\n",
    "        \n",
    "        self.conv_flat = nn.Conv1d(in_channels = n_embd, out_channels = 8,\n",
    "                                                kernel_size = 1,\n",
    "                                                stride=1, \n",
    "                                                padding='same')\n",
    "\n",
    "        self.linear_emb = nn.Sequential(\n",
    "                            nn.Linear(480+n_embd, 256),\n",
    "                            nn.ReLU(inplace = True),\n",
    "                            nn.Dropout(0.2),\n",
    "                            nn.Linear(256, 64),\n",
    "                            nn.ReLU(inplace = True),\n",
    "                            nn.Dropout(0.2),\n",
    "                            nn.Linear(64, 8),     \n",
    "                            nn.ReLU(inplace = True)\n",
    "                        )\n",
    "                \n",
    "    def forward(self, x, emb):\n",
    "\n",
    "        #x = x.permute([0,2,1])\n",
    "        \n",
    "        p_seq = self.conv_seq(x)\n",
    "        p_seq = nn.Flatten()(p_seq)\n",
    "    \n",
    "        p_flat = self.conv_flat(x)\n",
    "        p_flat = nn.Flatten()(p_flat)\n",
    "        p_flat = self.linear_emb(torch.cat([p_flat,emb], axis=-1))\n",
    "        \n",
    "        #return 3* nn.Tanh()(torch.cat([p_seq, p_flat], axis= -1))\n",
    "        return torch.cat([p_seq, p_flat], axis= -1)"
   ]
  },
  {
   "cell_type": "code",
   "execution_count": 30,
   "metadata": {},
   "outputs": [],
   "source": [
    "class LEADHead(nn.Module):\n",
    "    \"\"\" Transformer block: communication followed by computation \"\"\"\n",
    "\n",
    "    def __init__(self, n_embd):\n",
    "        # n_embd: embedding dimension, n_head: the number of heads we'd like\n",
    "        super().__init__()\n",
    "\n",
    "        self.act = nn.SELU()\n",
    "        self.conv_seq = nn.Conv1d(in_channels = n_embd, out_channels = 6*4,\n",
    "                                                kernel_size = 1,\n",
    "                                                stride=1, \n",
    "                                                padding='same')\n",
    "        \n",
    "        self.conv_flat = nn.Conv1d(in_channels = n_embd, out_channels = 8,\n",
    "                                                kernel_size = 1,\n",
    "                                                stride=1, \n",
    "                                                padding='same')\n",
    "\n",
    "        self.linear_emb = nn.Sequential(\n",
    "                            nn.Linear(480+n_embd, 256),\n",
    "                            nn.ReLU(inplace = True),\n",
    "                            nn.Dropout(0.2),\n",
    "                            nn.Linear(256, 64),\n",
    "                            nn.ReLU(inplace = True),\n",
    "                            nn.Dropout(0.2),\n",
    "                            nn.Linear(64, 8),     \n",
    "                            nn.ReLU(inplace = True)\n",
    "                        )\n",
    "\n",
    "        self.linear_360 = nn.Sequential(\n",
    "                        nn.Linear(6*4*60+n_embd, 768),\n",
    "                        nn.ReLU(inplace = True),\n",
    "                        nn.Dropout(0.2),\n",
    "                        nn.Linear(768, 512),\n",
    "                        nn.ReLU(inplace = True),\n",
    "                        nn.Dropout(0.2),\n",
    "                        nn.Linear(512, 360),     \n",
    "                    )\n",
    "\n",
    "    \n",
    "    def forward(self, x, emb):\n",
    "\n",
    "        #x = x.permute([0,2,1])\n",
    "        \n",
    "        p_seq = self.conv_seq(x)\n",
    "        p_seq = nn.Flatten()(p_seq)\n",
    "        p_seq = self.linear_360(torch.cat([p_seq,emb], axis=-1))\n",
    "    \n",
    "        p_flat = self.conv_flat(x)\n",
    "        p_flat = nn.Flatten()(p_flat)\n",
    "        p_flat = self.linear_emb(torch.cat([p_flat,emb], axis=-1))\n",
    "        \n",
    "        #return 3* nn.Tanh()(torch.cat([p_seq, p_flat], axis= -1))\n",
    "        return torch.cat([p_seq, p_flat], axis= -1)"
   ]
  },
  {
   "cell_type": "code",
   "execution_count": 31,
   "metadata": {},
   "outputs": [],
   "source": [
    "\n",
    "class LEADHead(nn.Module):\n",
    "    \"\"\" Transformer block: communication followed by computation \"\"\"\n",
    "\n",
    "    def __init__(self, n_embd):\n",
    "        # n_embd: embedding dimension, n_head: the number of heads we'd like\n",
    "        super().__init__()\n",
    "\n",
    "        self.act = nn.SELU()\n",
    "        self.conv_seq = nn.ModuleList([nn.Sequential(\n",
    "            nn.Conv1d(n_embd, 64, kernel_size=3, bias=False, padding='same'),\n",
    "            nn.ReLU(inplace=True),\n",
    "            nn.Conv1d(64, 16, kernel_size=3, bias=False, padding='same'),\n",
    "            nn.ReLU(inplace=True),\n",
    "            nn.Conv1d(16, 1, kernel_size=1, bias=False, padding='same')\n",
    "        ) for _ in range(6)])\n",
    "        \n",
    "        self.conv_flat = nn.Conv1d(in_channels = n_embd, out_channels = 8,\n",
    "                                                kernel_size = 3,\n",
    "                                                stride=1, \n",
    "                                                padding='same')\n",
    "\n",
    "        self.linear_emb = nn.Sequential(\n",
    "                            nn.Linear(480+n_embd, 256),\n",
    "                            nn.ReLU(inplace = True),\n",
    "                            nn.Dropout(0.2),\n",
    "                            nn.Linear(256, 64),\n",
    "                            nn.ReLU(inplace = True),\n",
    "                            nn.Dropout(0.2),\n",
    "                            nn.Linear(64, 8),     \n",
    "                            nn.ReLU(inplace = True)\n",
    "                        )\n",
    "                \n",
    "    def forward(self, x, emb):\n",
    "\n",
    "        #x = x.permute([0,2,1])\n",
    "        p_seq = []\n",
    "        for i,conv in enumerate(self.conv_seq):\n",
    "            p_seq.append(nn.Flatten()(conv(x)))\n",
    "        p_seq = torch.cat(p_seq, axis=-1)\n",
    "    \n",
    "        p_flat = self.conv_flat(x)\n",
    "        p_flat = nn.Flatten()(p_flat)\n",
    "        p_flat = self.linear_emb(torch.cat([p_flat,emb], axis=-1))\n",
    "        \n",
    "        #return 3* nn.Tanh()(torch.cat([p_seq, p_flat], axis= -1))\n",
    "        return torch.cat([p_seq, p_flat], axis= -1)"
   ]
  },
  {
   "cell_type": "code",
   "execution_count": 32,
   "metadata": {},
   "outputs": [],
   "source": [
    "class LEADHead(nn.Module):\n",
    "    \"\"\" Transformer block: communication followed by computation \"\"\"\n",
    "\n",
    "    def __init__(self, n_embd):\n",
    "        # n_embd: embedding dimension, n_head: the number of heads we'd like\n",
    "        super().__init__()\n",
    "\n",
    "        self.act = nn.SELU()\n",
    "        self.conv_seq = nn.Conv1d(in_channels = n_embd, out_channels = 6,\n",
    "                                                kernel_size = 3,\n",
    "                                                stride=1, \n",
    "                                                padding='same')\n",
    "        \n",
    "        self.conv_flat = nn.Conv1d(in_channels = n_embd, out_channels = 8,\n",
    "                                                kernel_size = 3,\n",
    "                                                stride=1, \n",
    "                                                padding='same')\n",
    "\n",
    "        self.linear_emb = nn.Sequential(\n",
    "                            nn.Linear(480+n_embd, 256),\n",
    "                            nn.ReLU(inplace = True),\n",
    "                            nn.Dropout(0.2),\n",
    "                            nn.Linear(256, 64),\n",
    "                            nn.ReLU(inplace = True),\n",
    "                            nn.Dropout(0.2),\n",
    "                            nn.Linear(64, 8),     \n",
    "                            nn.ReLU(inplace = True)\n",
    "                        )\n",
    "                \n",
    "    def forward(self, x, emb):\n",
    "\n",
    "        #x = x.permute([0,2,1])\n",
    "        \n",
    "        p_seq = self.conv_seq(x)\n",
    "        p_seq = nn.Flatten()(p_seq)\n",
    "    \n",
    "        p_flat = self.conv_flat(x)\n",
    "        p_flat = nn.Flatten()(p_flat)\n",
    "        p_flat = self.linear_emb(torch.cat([p_flat,emb], axis=-1))\n",
    "        \n",
    "        #return 3* nn.Tanh()(torch.cat([p_seq, p_flat], axis= -1))\n",
    "        return torch.cat([p_seq, p_flat], axis= -1)"
   ]
  },
  {
   "cell_type": "code",
   "execution_count": 33,
   "metadata": {},
   "outputs": [],
   "source": [
    "class LEADHead(nn.Module):\n",
    "    \"\"\" Transformer block: communication followed by computation \"\"\"\n",
    "\n",
    "    def __init__(self, n_embd):\n",
    "        # n_embd: embedding dimension, n_head: the number of heads we'd like\n",
    "        super().__init__()\n",
    "\n",
    "        self.act = nn.ReLU()\n",
    "        self.conv_seq = nn.Conv1d(in_channels = n_embd, out_channels = 32,\n",
    "                                                kernel_size = 3,\n",
    "                                                stride=1, \n",
    "                                                padding='same')\n",
    "\n",
    "        self.ptend_t = nn.Conv1d(in_channels = 32, out_channels = 1,\n",
    "                                        kernel_size = 1,\n",
    "                                        stride=1, \n",
    "                                        padding='same')\n",
    "\n",
    "        self.ptend_q0001 = nn.Conv1d(in_channels = 32, out_channels = 1,\n",
    "                                        kernel_size = 1,\n",
    "                                        stride=1, \n",
    "                                        padding='same')\n",
    "\n",
    "        self.ptend_q0002 = nn.Conv1d(in_channels = 32, out_channels = 1,\n",
    "                                        kernel_size = 1,\n",
    "                                        stride=1, \n",
    "                                        padding='same')\n",
    "\n",
    "        self.ptend_q0003 = nn.Conv1d(in_channels = 32, out_channels = 1,\n",
    "                                kernel_size = 1,\n",
    "                                stride=1, \n",
    "                                padding='same')\n",
    "\n",
    "        self.ptend_u = nn.Conv1d(in_channels = 32, out_channels = 1,\n",
    "                                kernel_size = 1,\n",
    "                                stride=1, \n",
    "                                padding='same')\n",
    "\n",
    "        self.ptend_v = nn.Conv1d(in_channels = 32, out_channels = 1,\n",
    "                                kernel_size = 1,\n",
    "                                stride=1, \n",
    "                                padding='same')\n",
    "\n",
    "        \n",
    "        \n",
    "        self.conv_flat = nn.Conv1d(in_channels = n_embd, out_channels = 8,\n",
    "                                                kernel_size = 1,\n",
    "                                                stride=1, \n",
    "                                                padding='same')\n",
    "\n",
    "        self.linear = nn.Sequential(\n",
    "                            nn.Linear(480, 128),\n",
    "                            nn.ReLU(inplace = True),\n",
    "                            nn.Dropout(0.1),\n",
    "                            nn.Linear(128, 32),\n",
    "                            nn.ReLU(inplace = True),\n",
    "                            nn.Dropout(0.1),\n",
    "                            nn.Linear(32, 8),     \n",
    "                            nn.ReLU(inplace = True)\n",
    "                        )\n",
    "                \n",
    "    def forward(self, x):\n",
    "\n",
    "        #x = x.permute([0,2,1])\n",
    "        \n",
    "        p_seq = self.conv_seq(x)\n",
    "        p_seq = self.act(p_seq)\n",
    "        \n",
    "        ptend_t = nn.Flatten()(self.ptend_t(p_seq))\n",
    "        ptend_q0001 = nn.Flatten()(self.ptend_q0001(p_seq))\n",
    "        ptend_q0002 = nn.Flatten()(self.ptend_q0002(p_seq))\n",
    "        ptend_q0003 = nn.Flatten()(self.ptend_q0003(p_seq))\n",
    "        ptend_u = nn.Flatten()(self.ptend_u(p_seq))\n",
    "        ptend_v = nn.Flatten()(self.ptend_v(p_seq))\n",
    "        \n",
    "    \n",
    "        p_flat = self.conv_flat(x)\n",
    "        p_flat = nn.Flatten()(p_flat)\n",
    "        p_flat = self.linear(p_flat)\n",
    "        \n",
    "        #return 3* nn.Tanh()(torch.cat([p_seq, p_flat], axis= -1))\n",
    "        #return torch.cat([p_seq, p_flat], axis= -1)\n",
    "\n",
    "        return torch.cat([ptend_t, ptend_q0001, ptend_q0002, ptend_q0003, ptend_u, ptend_v, p_flat], axis= -1)"
   ]
  },
  {
   "cell_type": "code",
   "execution_count": 34,
   "metadata": {},
   "outputs": [
    {
     "data": {
      "text/plain": [
       "torch.Size([8, 368])"
      ]
     },
     "execution_count": 34,
     "metadata": {},
     "output_type": "execute_result"
    }
   ],
   "source": [
    "LEADHead(64)(torch.rand([8, 64,60])).shape"
   ]
  },
  {
   "cell_type": "code",
   "execution_count": 35,
   "metadata": {},
   "outputs": [],
   "source": [
    "class ConvMixerBlock(nn.Module):\n",
    "    def __init__(self, kernel_size = 3, channels=16, n_heads = 4):\n",
    "        # n_embd: embedding dimension, n_head: the number of heads we'd like\n",
    "        super().__init__()\n",
    "        self.dw_conv = nn.Conv1d(\n",
    "            in_channels = channels, \n",
    "            out_channels = channels, \n",
    "            kernel_size = kernel_size, \n",
    "            stride=1, \n",
    "            padding='same', \n",
    "            dilation=1, \n",
    "            groups=n_heads,\n",
    "            bias=False, \n",
    "            padding_mode='zeros')\n",
    "\n",
    "        self.pw_conv = nn.Conv1d(\n",
    "            in_channels = channels, \n",
    "            out_channels = channels, \n",
    "            kernel_size = 1, \n",
    "            stride=1, \n",
    "            padding='same', \n",
    "            dilation=1, \n",
    "            groups=1,\n",
    "            bias=False, \n",
    "            padding_mode='zeros')\n",
    "\n",
    "        self.gelu1 = nn.GELU()\n",
    "        self.gelu2 = nn.GELU()       \n",
    "        self.bn1 = nn.BatchNorm1d(channels)             \n",
    "        self.bn2 = nn.BatchNorm1d(channels)     \n",
    "\n",
    "\n",
    "    def forward(self, x):\n",
    "        y = x\n",
    "\n",
    "        x = self.dw_conv(x)\n",
    "        x = self.gelu1(x)        \n",
    "        x = self.bn1(x)\n",
    "\n",
    "        x = y + x\n",
    "        x = self.pw_conv(x)\n",
    "        x = self.gelu2(x)        \n",
    "        x = self.bn2(x)\n",
    "        \n",
    "        return x"
   ]
  },
  {
   "cell_type": "code",
   "execution_count": 36,
   "metadata": {},
   "outputs": [],
   "source": [
    "class MHABlock(nn.Module):\n",
    "    \"\"\" Transformer block: communication followed by computation \"\"\"\n",
    "\n",
    "    def __init__(self, n_embd, n_head, dropout):\n",
    "        # n_embd: embedding dimension, n_head: the number of heads we'd like\n",
    "        super().__init__()\n",
    "        head_size = n_embd // n_head\n",
    "        self.sa = nn.MultiheadAttention(n_embd, n_head)\n",
    "        self.ffwd = FeedFoward(n_embd, dropout)\n",
    "        self.ln1 = nn.LayerNorm([60, n_embd])\n",
    "        self.ln2 = nn.LayerNorm([60, n_embd])\n",
    "        self.query_proj = nn.Linear(n_embd, n_embd)\n",
    "        self.key_proj = nn.Linear(n_embd, n_embd)\n",
    "        self.value_proj = nn.Linear(n_embd, n_embd)\n",
    "\n",
    "    \n",
    "    def forward(self, x):\n",
    "\n",
    "        q = self.query_proj(x)\n",
    "        k = self.key_proj(x)\n",
    "        v = self.key_proj(x)\n",
    "        \n",
    "        X = (q, k, v)\n",
    "        y = self.sa(*X)\n",
    "        y = y[0]\n",
    "        \n",
    "        x = self.ln1(x + y)\n",
    "        y = self.ffwd(x)\n",
    "        x = self.ln2(x + y)\n",
    "        return x"
   ]
  },
  {
   "cell_type": "code",
   "execution_count": 37,
   "metadata": {},
   "outputs": [],
   "source": [
    "\n",
    "class SqueezeFormerBlock(nn.Module):\n",
    "    def __init__(self, kernel_size = 3, channels=64, n_heads = 4):\n",
    "        # n_embd: embedding dimension, n_head: the number of heads we'd like\n",
    "        super().__init__()\n",
    "\n",
    "        self.mha_module = MHABlock(n_embd = channels, n_head = n_heads, dropout = 0.1)    \n",
    "        \n",
    "        self.pw_conv_1 = nn.Conv1d(\n",
    "            in_channels = channels, \n",
    "            out_channels = channels*2, \n",
    "            kernel_size = 1, \n",
    "            stride=1, \n",
    "            padding='same', \n",
    "            dilation=1, \n",
    "            groups=1,\n",
    "            bias=False, \n",
    "            padding_mode='zeros')\n",
    "\n",
    "        self.pw_conv_2 = nn.Conv1d(\n",
    "            in_channels = channels*2, \n",
    "            out_channels = channels, \n",
    "            kernel_size = 1, \n",
    "            stride=1, \n",
    "            padding='same', \n",
    "            dilation=1, \n",
    "            groups=1,\n",
    "            bias=False, \n",
    "            padding_mode='zeros')\n",
    "        \n",
    "        self.dw_conv = nn.Conv1d(\n",
    "            in_channels = channels*2, \n",
    "            out_channels = channels*2, \n",
    "            kernel_size = kernel_size, \n",
    "            stride=1, \n",
    "            padding='same', \n",
    "            dilation=1, \n",
    "            groups=channels,\n",
    "            bias=False, \n",
    "            padding_mode='zeros')\n",
    "\n",
    "\n",
    "        self.gelu1 = nn.GELU()\n",
    "        self.gelu2 = nn.GELU()       \n",
    "        self.bn = nn.BatchNorm1d(channels*2, momentum=0.95)             \n",
    "        self.ln = nn.LayerNorm(channels)     \n",
    "\n",
    "\n",
    "    def forward(self, x):\n",
    "        x = x.permute([0,2,1])\n",
    "        x = self.mha_module(x)\n",
    "        skip = x\n",
    "        x = x.permute([0,2,1])\n",
    "        \n",
    "        x = self.pw_conv_1(x)\n",
    "        x = self.gelu1(x)\n",
    "        x = self.dw_conv(x)\n",
    "        x = self.bn(x)\n",
    "        x = self.gelu2(x)\n",
    "        x = self.pw_conv_2(x)\n",
    "        \n",
    "        x = x.permute([0,2,1])\n",
    "        x = self.ln(x + skip)\n",
    "        x = x.permute([0,2,1])\n",
    "        \n",
    "        return x"
   ]
  },
  {
   "cell_type": "code",
   "execution_count": 38,
   "metadata": {
    "scrolled": true
   },
   "outputs": [
    {
     "data": {
      "text/plain": [
       "tensor([[[ 2.5503,  0.2802,  0.1124,  ...,  0.5115,  0.1214,  0.0585],\n",
       "         [-0.5051,  1.6748,  1.1206,  ...,  1.5740, -0.9990, -0.4748],\n",
       "         [-0.6505,  1.1360,  0.4239,  ...,  1.0755,  0.5552,  2.0271],\n",
       "         ...,\n",
       "         [-0.3668,  1.2239, -0.7472,  ...,  1.5789, -0.7021,  0.7400],\n",
       "         [-0.1262, -0.0905,  0.2958,  ..., -0.4919, -1.3651, -0.5301],\n",
       "         [-0.1210,  0.3654,  0.6961,  ..., -0.5109,  0.5003,  2.6682]],\n",
       "\n",
       "        [[ 0.5052,  1.8855, -0.7703,  ..., -0.4020,  1.2485, -0.3334],\n",
       "         [-0.9673,  1.5457,  1.5906,  ...,  0.0259,  2.7011,  0.8171],\n",
       "         [ 0.8287, -0.8167, -1.3018,  ...,  1.1677,  0.8184, -0.1670],\n",
       "         ...,\n",
       "         [ 1.2002,  0.7468, -0.0059,  ...,  1.1313,  0.3281,  1.0239],\n",
       "         [ 0.0186, -0.8602, -0.1621,  ..., -1.1895, -0.1699,  0.2726],\n",
       "         [ 0.7750,  0.2533, -0.6462,  ..., -0.4321, -1.5488, -1.2255]],\n",
       "\n",
       "        [[-0.5536, -0.7935,  1.1272,  ...,  1.3313, -1.0371,  0.7065],\n",
       "         [ 0.6133,  0.6026,  1.4869,  ...,  1.5142,  1.6290,  1.2294],\n",
       "         [ 1.1019,  1.8057,  2.0386,  ...,  1.1982,  0.9866,  1.1301],\n",
       "         ...,\n",
       "         [ 0.3979, -0.9510,  0.3993,  ...,  1.6990, -0.7407, -1.2230],\n",
       "         [-1.6546, -1.9120,  1.8810,  ..., -0.2535,  0.3670,  0.0852],\n",
       "         [ 1.2346,  0.5688, -0.4391,  ..., -0.6234,  0.4016, -0.4126]],\n",
       "\n",
       "        ...,\n",
       "\n",
       "        [[ 1.8169, -1.4798, -1.3887,  ...,  0.7899, -0.9050, -1.0102],\n",
       "         [ 0.3989,  0.1990,  0.2219,  ..., -0.0952, -0.9577,  0.2641],\n",
       "         [ 0.3001,  0.5280,  0.0165,  ...,  0.2443,  1.4556, -1.1298],\n",
       "         ...,\n",
       "         [-1.0088, -1.1821, -0.5598,  ..., -1.3349,  0.7742,  0.4961],\n",
       "         [ 0.8150, -0.6082,  0.3416,  ...,  0.0493,  1.9290,  1.3319],\n",
       "         [ 0.3273,  0.4619, -0.8541,  ...,  0.6373, -0.4735,  1.0078]],\n",
       "\n",
       "        [[ 0.7968, -0.5758,  1.3269,  ...,  1.1073,  0.9039, -1.2056],\n",
       "         [ 0.7782, -1.0205,  1.3772,  ..., -0.9830,  0.1280,  1.6486],\n",
       "         [ 0.8999,  2.1140,  1.2921,  ..., -1.7076, -0.5242, -0.9339],\n",
       "         ...,\n",
       "         [-1.2629,  1.3968,  0.6842,  ...,  0.9584,  0.6227, -0.5216],\n",
       "         [-0.0613,  1.2156,  0.8964,  ..., -0.5571,  0.7818, -1.5565],\n",
       "         [ 1.3102,  0.7595, -0.4291,  ..., -0.0711,  1.0864,  1.0079]],\n",
       "\n",
       "        [[ 0.2429,  1.6934,  1.0665,  ..., -1.8125,  0.4753,  0.0608],\n",
       "         [ 0.0250, -1.3365,  1.7177,  ..., -1.3685, -0.8211, -0.9095],\n",
       "         [ 1.3645, -0.6531, -1.3298,  ..., -0.2198, -0.9035,  0.1581],\n",
       "         ...,\n",
       "         [-0.7870,  1.0469, -1.2227,  ..., -0.0627,  0.3202, -0.7616],\n",
       "         [ 0.6730,  1.6143, -0.7449,  ...,  0.7032,  0.2589,  1.1797],\n",
       "         [-0.6133,  0.4264,  0.3386,  ..., -1.8955,  0.3350, -0.5486]]],\n",
       "       grad_fn=<PermuteBackward0>)"
      ]
     },
     "execution_count": 38,
     "metadata": {},
     "output_type": "execute_result"
    }
   ],
   "source": [
    "SqueezeFormerBlock(kernel_size = 3, channels=64, n_heads = 4)(torch.rand([8,64,60]))"
   ]
  },
  {
   "cell_type": "code",
   "execution_count": 39,
   "metadata": {},
   "outputs": [],
   "source": [
    "# batch_size = 16\n",
    "# block_size = 256\n",
    "# max_iters = 5000\n",
    "# learning_rate = 3e-4\n",
    "# eval_iters = 100\n",
    "# n_embd = 384\n",
    "# n_head = 8\n",
    "# n_layer = 12\n",
    "# dropout = 0.2\n",
    "\n",
    "nn_config_tfa = dict(\n",
    "    n_embd = 192,\n",
    "     n_head = 6,\n",
    "    fe_channels = 32, \n",
    "    encoder_layers = 1, \n",
    "    fe_drop_rate = 0.15,\n",
    "    att_drop_rate = 0.15,\n",
    "    n_features = 25,\n",
    "    bottleneck_k_size = 3,\n",
    "    block_kernels = [3,3,3,3,3,3,3],\n",
    "    out_att_blocks = 0\n",
    ")\n",
    "\n",
    "    \n",
    "class TfaLeapModel(nn.Module):\n",
    "    def __init__(self, n_embd = 64, n_head = 4, encoder_layers = 3, fe_channels=16, fe_drop_rate=0.1, \n",
    "                 att_drop_rate=0.2, n_features = 25, bottleneck_k_size = 3, block_kernels = [5, 3], out_att_blocks=0):\n",
    "        super().__init__()\n",
    "        \n",
    "        self.fe = TFAFeatureExctractor(kernel_size = 3, scale_factor=n_head*4)\n",
    "        self.linearStem = nn.Linear(n_features * n_head * 4, n_embd)\n",
    "\n",
    "        self.blocks = nn.Sequential(*[ConvTransBlock(block_kernels = block_kernels, \n",
    "                                                     channels = n_embd, \n",
    "                                                     expand_channels = n_embd*2, \n",
    "                                                     n_head=n_head, \n",
    "                                                     drop_rate = fe_drop_rate, \n",
    "                                                     att_drop_rate = att_drop_rate) for _ in range(encoder_layers)])\n",
    "    \n",
    "        self.out_att_blocks = nn.Sequential(*[\n",
    "             Block(n_embd = n_embd, n_head=n_head, dropout = att_drop_rate)\n",
    "            for _ in range(out_att_blocks)\n",
    "        ])\n",
    "        \n",
    "        self.loc_arcface = nn.Sequential(\n",
    "            nn.Linear(556, n_embd*2),\n",
    "            nn.ReLU(inplace=True),\n",
    "            nn.LayerNorm(n_embd*2),\n",
    "            nn.Dropout(fe_drop_rate),\n",
    "            nn.Linear(n_embd*2, n_embd),\n",
    "            nn.ReLU(inplace=True),\n",
    "            nn.Dropout(fe_drop_rate),\n",
    "            nn.Linear(n_embd, n_embd)\n",
    "        )\n",
    "        \n",
    "        self.head  = LEADHead(n_embd = n_embd)\n",
    "        self.apply(self._init_weights)\n",
    "\n",
    "    def _init_weights(self, module):\n",
    "        if isinstance(module, nn.Linear):\n",
    "            torch.nn.init.normal_(module.weight, mean=0.0, std=0.02)\n",
    "            if module.bias is not None:\n",
    "                torch.nn.init.zeros_(module.bias)\n",
    "        elif isinstance(module, nn.Embedding):\n",
    "            torch.nn.init.normal_(module.weight, mean=0.0, std=0.02)\n",
    "\n",
    "\n",
    "\n",
    "    def forward(self, inputs, targets=None):\n",
    "        #B, T = inputs.shape\n",
    "\n",
    "        emb = self.loc_arcface(inputs)\n",
    "        \n",
    "        xf = self.fe(inputs)\n",
    "        xf = xf.permute([0,2,1])\n",
    "        xf = self.linearStem(xf)\n",
    "        xf = xf.permute([0,2,1])\n",
    "        #xf = self.bottleneck(xf)\n",
    "        x = xf#.permute([0,2,1])\n",
    "        \n",
    "        x = self.blocks(x)\n",
    "\n",
    "        x = x.permute([0,2,1])\n",
    "        x = self.out_att_blocks(x)\n",
    "        x = x.permute([0,2,1])\n",
    "        \n",
    "        out = self.head(x)\n",
    "        return out"
   ]
  },
  {
   "cell_type": "code",
   "execution_count": 40,
   "metadata": {},
   "outputs": [
    {
     "data": {
      "text/plain": [
       "torch.Size([8, 368])"
      ]
     },
     "execution_count": 40,
     "metadata": {},
     "output_type": "execute_result"
    }
   ],
   "source": [
    "TfaLeapModel(**nn_config_tfa)(torch.rand([8,556])).shape"
   ]
  },
  {
   "cell_type": "code",
   "execution_count": 41,
   "metadata": {},
   "outputs": [],
   "source": [
    "\n",
    "\n",
    "# batch_size = 16\n",
    "# block_size = 256\n",
    "# max_iters = 5000\n",
    "# learning_rate = 3e-4\n",
    "# eval_iters = 100\n",
    "# n_embd = 384\n",
    "# n_head = 8\n",
    "# n_layer = 12\n",
    "# dropout = 0.2\n",
    "\n",
    "nn_config_mixer = dict(\n",
    "    n_embd = 512,\n",
    "     n_head = 8,\n",
    "    fe_channels = 32, \n",
    "    encoder_layers = 6, \n",
    "    fe_drop_rate = 0.15,\n",
    "    att_drop_rate = 0.15,\n",
    "    n_features = 25,\n",
    "    bottleneck_k_size = 3,\n",
    "    block_kernels = [3,3,3,3,3,3,3],\n",
    "    out_att_blocks = 4\n",
    ")\n",
    "\n",
    "nn_config_mixer = dict(\n",
    "    n_embd = 384,\n",
    "     n_head = 6,\n",
    "    fe_channels = 32, \n",
    "    encoder_layers = 4, \n",
    "    fe_drop_rate = 0.15,\n",
    "    att_drop_rate = 0.15,\n",
    "    n_features = 25,\n",
    "    bottleneck_k_size = 3,\n",
    "    block_kernels = [3,3,3,3,3,3,3],\n",
    "    out_att_blocks = 4\n",
    ")\n",
    "\n",
    "\n",
    "class TfaConvMixerModel(nn.Module):\n",
    "    def __init__(self, n_embd = 64, n_head = 4, encoder_layers = 3, fe_channels=16, fe_drop_rate=0.1, \n",
    "                 att_drop_rate=0.2, n_features = 25, bottleneck_k_size = 3, block_kernels = [5, 3], out_att_blocks=0):\n",
    "        super().__init__()\n",
    "        \n",
    "        #self.fe = TFAFeatureExctractor(kernel_size = 3, scale_factor=n_head*4)\n",
    "        self.fe = ConvFeatureExctractor(kernel_size = 3, scale_factor=n_head*4)\n",
    "        \n",
    "        self.linearStem = nn.Linear(n_features * n_head * 4, n_embd)\n",
    "        #self.linearStem = ConvStem(kernel_size = 3, in_channels=n_features * n_head * 4, out_channels = n_embd)\n",
    "\n",
    "        self.blocks = nn.Sequential(*[ConvMixerBlock(kernel_size = 3, \n",
    "                                                     channels = n_embd, \n",
    "                                                     n_heads=n_head) for _ in range(encoder_layers)])\n",
    "    \n",
    "        self.out_att_blocks = nn.Sequential(*[\n",
    "             Block(n_embd = n_embd, n_head=n_head, dropout = att_drop_rate)\n",
    "            for _ in range(out_att_blocks)\n",
    "        ])\n",
    "        \n",
    "        self.loc_arcface = nn.Sequential(\n",
    "            nn.Linear(556, n_embd*2),\n",
    "            nn.ReLU(inplace=True),\n",
    "            nn.LayerNorm(n_embd*2),\n",
    "            nn.Dropout(fe_drop_rate),\n",
    "            nn.Linear(n_embd*2, n_embd),\n",
    "            nn.ReLU(inplace=True),\n",
    "            nn.Dropout(fe_drop_rate),\n",
    "            nn.Linear(n_embd, n_embd)\n",
    "        )\n",
    "        \n",
    "        self.head  = LEADHead(n_embd = n_embd)\n",
    "        self.apply(self._init_weights)\n",
    "\n",
    "    def _init_weights(self, module):\n",
    "        if isinstance(module, nn.Linear):\n",
    "            torch.nn.init.normal_(module.weight, mean=0.0, std=0.02)\n",
    "            if module.bias is not None:\n",
    "                torch.nn.init.zeros_(module.bias)\n",
    "        elif isinstance(module, nn.Embedding):\n",
    "            torch.nn.init.normal_(module.weight, mean=0.0, std=0.02)\n",
    "\n",
    "\n",
    "\n",
    "    def forward(self, inputs, targets=None):\n",
    "        #B, T = inputs.shape\n",
    "\n",
    "        emb = self.loc_arcface(inputs)\n",
    "        \n",
    "        xf = self.fe(inputs)\n",
    "        xf = xf.permute([0,2,1])\n",
    "        xf = self.linearStem(xf)\n",
    "        xf = xf.permute([0,2,1])\n",
    "        #xf = self.bottleneck(xf)\n",
    "        x = xf#.permute([0,2,1])\n",
    "        \n",
    "        x = self.blocks(x)\n",
    "\n",
    "        x = x.permute([0,2,1])\n",
    "        x = self.out_att_blocks(x)\n",
    "        x = x.permute([0,2,1])\n",
    "        \n",
    "        out = self.head(x, emb)\n",
    "        return out"
   ]
  },
  {
   "cell_type": "code",
   "execution_count": 42,
   "metadata": {},
   "outputs": [],
   "source": [
    "\n",
    "\n",
    "# batch_size = 16\n",
    "# block_size = 256\n",
    "# max_iters = 5000\n",
    "# learning_rate = 3e-4\n",
    "# eval_iters = 100\n",
    "# n_embd = 384\n",
    "# n_head = 8\n",
    "# n_layer = 12\n",
    "# dropout = 0.2\n",
    "\n",
    "\n",
    "nn_config_squeeze = dict(\n",
    "    n_embd = 192,\n",
    "     n_head = 6,\n",
    "    fe_channels = 32, \n",
    "    encoder_layers = 10, \n",
    "    fe_drop_rate = 0.1,\n",
    "    att_drop_rate = 0.15,\n",
    "    n_features = 25,\n",
    "    bottleneck_k_size = 3,\n",
    "    block_kernels = [3,3,3,3,3,3,3],\n",
    "    out_att_blocks = 2\n",
    ")\n",
    "\n",
    "\n",
    "class SqueezeFormerModel(nn.Module):\n",
    "    def __init__(self, n_embd = 64, n_head = 4, encoder_layers = 3, fe_channels=16, fe_drop_rate=0.1, \n",
    "                 att_drop_rate=0.2, n_features = 25, bottleneck_k_size = 3, block_kernels = [5, 3], out_att_blocks=0):\n",
    "        super().__init__()\n",
    "        \n",
    "        #self.fe = TFAFeatureExctractor(kernel_size = 3, scale_factor=n_head*4)\n",
    "        self.fe = DWFeatureExctractor(kernel_size = 3, scale_factor=n_head*2)\n",
    "        \n",
    "        self.linearStem = nn.Linear(n_features * n_head * 2, n_embd)\n",
    "        #self.linearStem = ConvStem(kernel_size = 3, in_channels=n_features * n_head * 4, out_channels = n_embd)\n",
    "\n",
    "        self.block_1 = SqueezeFormerBlock(kernel_size = 3, channels=n_embd, n_heads = n_head)\n",
    "        self.block_last = SqueezeFormerBlock(kernel_size = 3, channels=n_embd, n_heads = n_head)\n",
    "\n",
    "        self.blocks = nn.Sequential(*[SqueezeFormerBlock(kernel_size = 3, channels=n_embd, n_heads = n_head)\n",
    "                                      for _ in range(encoder_layers-2)])\n",
    "    \n",
    "\n",
    "        self.out_att_blocks = nn.Sequential(*[\n",
    "             Block(n_embd = n_embd, n_head=n_head, dropout = att_drop_rate)\n",
    "            for _ in range(out_att_blocks)\n",
    "        ])\n",
    "        \n",
    "        self.head  = LEADHead(n_embd = n_embd)\n",
    "        self.apply(self._init_weights)\n",
    "\n",
    "    def _init_weights(self, module):\n",
    "        if isinstance(module, nn.Linear):\n",
    "            torch.nn.init.normal_(module.weight, mean=0.0, std=0.02)\n",
    "            if module.bias is not None:\n",
    "                torch.nn.init.zeros_(module.bias)\n",
    "        elif isinstance(module, nn.Embedding):\n",
    "            torch.nn.init.normal_(module.weight, mean=0.0, std=0.02)\n",
    "\n",
    "\n",
    "\n",
    "    def forward(self, inputs, targets=None):\n",
    "        #B, T = inputs.shape\n",
    "\n",
    "        \n",
    "        xf = self.fe(inputs)\n",
    "        \n",
    "        xf = xf.permute([0,2,1])\n",
    "        xf = self.linearStem(xf)\n",
    "        xf = xf.permute([0,2,1])\n",
    "        \n",
    "        x1 = self.block_1(xf)\n",
    "        x = self.blocks(x1)\n",
    "        x = self.block_last(x+x1)\n",
    "\n",
    "        x = x.permute([0,2,1])\n",
    "        x = self.out_att_blocks(x)\n",
    "        x = x.permute([0,2,1])\n",
    "        \n",
    "        out = self.head(x)\n",
    "        return out"
   ]
  },
  {
   "cell_type": "code",
   "execution_count": 43,
   "metadata": {},
   "outputs": [
    {
     "data": {
      "text/plain": [
       "torch.Size([8, 368])"
      ]
     },
     "execution_count": 43,
     "metadata": {},
     "output_type": "execute_result"
    }
   ],
   "source": [
    "SqueezeFormerModel(**nn_config_squeeze)(torch.rand([8,556])).shape"
   ]
  },
  {
   "cell_type": "code",
   "execution_count": 44,
   "metadata": {},
   "outputs": [
    {
     "data": {
      "text/plain": [
       "SqueezeFormerModel(\n",
       "  (fe): DWFeatureExctractor(\n",
       "    (dw_conv): Conv1d(25, 300, kernel_size=(3,), stride=(1,), padding=same, groups=25, bias=False)\n",
       "    (stat_proj): ModuleList(\n",
       "      (0-15): 16 x Sequential(\n",
       "        (0): Linear(in_features=1, out_features=32, bias=True)\n",
       "        (1): ReLU(inplace=True)\n",
       "        (2): Linear(in_features=32, out_features=60, bias=True)\n",
       "      )\n",
       "    )\n",
       "  )\n",
       "  (linearStem): Linear(in_features=300, out_features=192, bias=True)\n",
       "  (block_1): SqueezeFormerBlock(\n",
       "    (mha_module): MHABlock(\n",
       "      (sa): MultiheadAttention(\n",
       "        (out_proj): NonDynamicallyQuantizableLinear(in_features=192, out_features=192, bias=True)\n",
       "      )\n",
       "      (ffwd): FeedFoward(\n",
       "        (net): Sequential(\n",
       "          (0): Linear(in_features=192, out_features=384, bias=True)\n",
       "          (1): ReLU()\n",
       "          (2): Linear(in_features=384, out_features=192, bias=True)\n",
       "          (3): Dropout(p=0.1, inplace=False)\n",
       "        )\n",
       "      )\n",
       "      (ln1): LayerNorm((60, 192), eps=1e-05, elementwise_affine=True)\n",
       "      (ln2): LayerNorm((60, 192), eps=1e-05, elementwise_affine=True)\n",
       "      (query_proj): Linear(in_features=192, out_features=192, bias=True)\n",
       "      (key_proj): Linear(in_features=192, out_features=192, bias=True)\n",
       "      (value_proj): Linear(in_features=192, out_features=192, bias=True)\n",
       "    )\n",
       "    (pw_conv_1): Conv1d(192, 384, kernel_size=(1,), stride=(1,), padding=same, bias=False)\n",
       "    (pw_conv_2): Conv1d(384, 192, kernel_size=(1,), stride=(1,), padding=same, bias=False)\n",
       "    (dw_conv): Conv1d(384, 384, kernel_size=(3,), stride=(1,), padding=same, groups=192, bias=False)\n",
       "    (gelu1): GELU(approximate='none')\n",
       "    (gelu2): GELU(approximate='none')\n",
       "    (bn): BatchNorm1d(384, eps=1e-05, momentum=0.95, affine=True, track_running_stats=True)\n",
       "    (ln): LayerNorm((192,), eps=1e-05, elementwise_affine=True)\n",
       "  )\n",
       "  (block_last): SqueezeFormerBlock(\n",
       "    (mha_module): MHABlock(\n",
       "      (sa): MultiheadAttention(\n",
       "        (out_proj): NonDynamicallyQuantizableLinear(in_features=192, out_features=192, bias=True)\n",
       "      )\n",
       "      (ffwd): FeedFoward(\n",
       "        (net): Sequential(\n",
       "          (0): Linear(in_features=192, out_features=384, bias=True)\n",
       "          (1): ReLU()\n",
       "          (2): Linear(in_features=384, out_features=192, bias=True)\n",
       "          (3): Dropout(p=0.1, inplace=False)\n",
       "        )\n",
       "      )\n",
       "      (ln1): LayerNorm((60, 192), eps=1e-05, elementwise_affine=True)\n",
       "      (ln2): LayerNorm((60, 192), eps=1e-05, elementwise_affine=True)\n",
       "      (query_proj): Linear(in_features=192, out_features=192, bias=True)\n",
       "      (key_proj): Linear(in_features=192, out_features=192, bias=True)\n",
       "      (value_proj): Linear(in_features=192, out_features=192, bias=True)\n",
       "    )\n",
       "    (pw_conv_1): Conv1d(192, 384, kernel_size=(1,), stride=(1,), padding=same, bias=False)\n",
       "    (pw_conv_2): Conv1d(384, 192, kernel_size=(1,), stride=(1,), padding=same, bias=False)\n",
       "    (dw_conv): Conv1d(384, 384, kernel_size=(3,), stride=(1,), padding=same, groups=192, bias=False)\n",
       "    (gelu1): GELU(approximate='none')\n",
       "    (gelu2): GELU(approximate='none')\n",
       "    (bn): BatchNorm1d(384, eps=1e-05, momentum=0.95, affine=True, track_running_stats=True)\n",
       "    (ln): LayerNorm((192,), eps=1e-05, elementwise_affine=True)\n",
       "  )\n",
       "  (blocks): Sequential(\n",
       "    (0): SqueezeFormerBlock(\n",
       "      (mha_module): MHABlock(\n",
       "        (sa): MultiheadAttention(\n",
       "          (out_proj): NonDynamicallyQuantizableLinear(in_features=192, out_features=192, bias=True)\n",
       "        )\n",
       "        (ffwd): FeedFoward(\n",
       "          (net): Sequential(\n",
       "            (0): Linear(in_features=192, out_features=384, bias=True)\n",
       "            (1): ReLU()\n",
       "            (2): Linear(in_features=384, out_features=192, bias=True)\n",
       "            (3): Dropout(p=0.1, inplace=False)\n",
       "          )\n",
       "        )\n",
       "        (ln1): LayerNorm((60, 192), eps=1e-05, elementwise_affine=True)\n",
       "        (ln2): LayerNorm((60, 192), eps=1e-05, elementwise_affine=True)\n",
       "        (query_proj): Linear(in_features=192, out_features=192, bias=True)\n",
       "        (key_proj): Linear(in_features=192, out_features=192, bias=True)\n",
       "        (value_proj): Linear(in_features=192, out_features=192, bias=True)\n",
       "      )\n",
       "      (pw_conv_1): Conv1d(192, 384, kernel_size=(1,), stride=(1,), padding=same, bias=False)\n",
       "      (pw_conv_2): Conv1d(384, 192, kernel_size=(1,), stride=(1,), padding=same, bias=False)\n",
       "      (dw_conv): Conv1d(384, 384, kernel_size=(3,), stride=(1,), padding=same, groups=192, bias=False)\n",
       "      (gelu1): GELU(approximate='none')\n",
       "      (gelu2): GELU(approximate='none')\n",
       "      (bn): BatchNorm1d(384, eps=1e-05, momentum=0.95, affine=True, track_running_stats=True)\n",
       "      (ln): LayerNorm((192,), eps=1e-05, elementwise_affine=True)\n",
       "    )\n",
       "    (1): SqueezeFormerBlock(\n",
       "      (mha_module): MHABlock(\n",
       "        (sa): MultiheadAttention(\n",
       "          (out_proj): NonDynamicallyQuantizableLinear(in_features=192, out_features=192, bias=True)\n",
       "        )\n",
       "        (ffwd): FeedFoward(\n",
       "          (net): Sequential(\n",
       "            (0): Linear(in_features=192, out_features=384, bias=True)\n",
       "            (1): ReLU()\n",
       "            (2): Linear(in_features=384, out_features=192, bias=True)\n",
       "            (3): Dropout(p=0.1, inplace=False)\n",
       "          )\n",
       "        )\n",
       "        (ln1): LayerNorm((60, 192), eps=1e-05, elementwise_affine=True)\n",
       "        (ln2): LayerNorm((60, 192), eps=1e-05, elementwise_affine=True)\n",
       "        (query_proj): Linear(in_features=192, out_features=192, bias=True)\n",
       "        (key_proj): Linear(in_features=192, out_features=192, bias=True)\n",
       "        (value_proj): Linear(in_features=192, out_features=192, bias=True)\n",
       "      )\n",
       "      (pw_conv_1): Conv1d(192, 384, kernel_size=(1,), stride=(1,), padding=same, bias=False)\n",
       "      (pw_conv_2): Conv1d(384, 192, kernel_size=(1,), stride=(1,), padding=same, bias=False)\n",
       "      (dw_conv): Conv1d(384, 384, kernel_size=(3,), stride=(1,), padding=same, groups=192, bias=False)\n",
       "      (gelu1): GELU(approximate='none')\n",
       "      (gelu2): GELU(approximate='none')\n",
       "      (bn): BatchNorm1d(384, eps=1e-05, momentum=0.95, affine=True, track_running_stats=True)\n",
       "      (ln): LayerNorm((192,), eps=1e-05, elementwise_affine=True)\n",
       "    )\n",
       "    (2): SqueezeFormerBlock(\n",
       "      (mha_module): MHABlock(\n",
       "        (sa): MultiheadAttention(\n",
       "          (out_proj): NonDynamicallyQuantizableLinear(in_features=192, out_features=192, bias=True)\n",
       "        )\n",
       "        (ffwd): FeedFoward(\n",
       "          (net): Sequential(\n",
       "            (0): Linear(in_features=192, out_features=384, bias=True)\n",
       "            (1): ReLU()\n",
       "            (2): Linear(in_features=384, out_features=192, bias=True)\n",
       "            (3): Dropout(p=0.1, inplace=False)\n",
       "          )\n",
       "        )\n",
       "        (ln1): LayerNorm((60, 192), eps=1e-05, elementwise_affine=True)\n",
       "        (ln2): LayerNorm((60, 192), eps=1e-05, elementwise_affine=True)\n",
       "        (query_proj): Linear(in_features=192, out_features=192, bias=True)\n",
       "        (key_proj): Linear(in_features=192, out_features=192, bias=True)\n",
       "        (value_proj): Linear(in_features=192, out_features=192, bias=True)\n",
       "      )\n",
       "      (pw_conv_1): Conv1d(192, 384, kernel_size=(1,), stride=(1,), padding=same, bias=False)\n",
       "      (pw_conv_2): Conv1d(384, 192, kernel_size=(1,), stride=(1,), padding=same, bias=False)\n",
       "      (dw_conv): Conv1d(384, 384, kernel_size=(3,), stride=(1,), padding=same, groups=192, bias=False)\n",
       "      (gelu1): GELU(approximate='none')\n",
       "      (gelu2): GELU(approximate='none')\n",
       "      (bn): BatchNorm1d(384, eps=1e-05, momentum=0.95, affine=True, track_running_stats=True)\n",
       "      (ln): LayerNorm((192,), eps=1e-05, elementwise_affine=True)\n",
       "    )\n",
       "    (3): SqueezeFormerBlock(\n",
       "      (mha_module): MHABlock(\n",
       "        (sa): MultiheadAttention(\n",
       "          (out_proj): NonDynamicallyQuantizableLinear(in_features=192, out_features=192, bias=True)\n",
       "        )\n",
       "        (ffwd): FeedFoward(\n",
       "          (net): Sequential(\n",
       "            (0): Linear(in_features=192, out_features=384, bias=True)\n",
       "            (1): ReLU()\n",
       "            (2): Linear(in_features=384, out_features=192, bias=True)\n",
       "            (3): Dropout(p=0.1, inplace=False)\n",
       "          )\n",
       "        )\n",
       "        (ln1): LayerNorm((60, 192), eps=1e-05, elementwise_affine=True)\n",
       "        (ln2): LayerNorm((60, 192), eps=1e-05, elementwise_affine=True)\n",
       "        (query_proj): Linear(in_features=192, out_features=192, bias=True)\n",
       "        (key_proj): Linear(in_features=192, out_features=192, bias=True)\n",
       "        (value_proj): Linear(in_features=192, out_features=192, bias=True)\n",
       "      )\n",
       "      (pw_conv_1): Conv1d(192, 384, kernel_size=(1,), stride=(1,), padding=same, bias=False)\n",
       "      (pw_conv_2): Conv1d(384, 192, kernel_size=(1,), stride=(1,), padding=same, bias=False)\n",
       "      (dw_conv): Conv1d(384, 384, kernel_size=(3,), stride=(1,), padding=same, groups=192, bias=False)\n",
       "      (gelu1): GELU(approximate='none')\n",
       "      (gelu2): GELU(approximate='none')\n",
       "      (bn): BatchNorm1d(384, eps=1e-05, momentum=0.95, affine=True, track_running_stats=True)\n",
       "      (ln): LayerNorm((192,), eps=1e-05, elementwise_affine=True)\n",
       "    )\n",
       "    (4): SqueezeFormerBlock(\n",
       "      (mha_module): MHABlock(\n",
       "        (sa): MultiheadAttention(\n",
       "          (out_proj): NonDynamicallyQuantizableLinear(in_features=192, out_features=192, bias=True)\n",
       "        )\n",
       "        (ffwd): FeedFoward(\n",
       "          (net): Sequential(\n",
       "            (0): Linear(in_features=192, out_features=384, bias=True)\n",
       "            (1): ReLU()\n",
       "            (2): Linear(in_features=384, out_features=192, bias=True)\n",
       "            (3): Dropout(p=0.1, inplace=False)\n",
       "          )\n",
       "        )\n",
       "        (ln1): LayerNorm((60, 192), eps=1e-05, elementwise_affine=True)\n",
       "        (ln2): LayerNorm((60, 192), eps=1e-05, elementwise_affine=True)\n",
       "        (query_proj): Linear(in_features=192, out_features=192, bias=True)\n",
       "        (key_proj): Linear(in_features=192, out_features=192, bias=True)\n",
       "        (value_proj): Linear(in_features=192, out_features=192, bias=True)\n",
       "      )\n",
       "      (pw_conv_1): Conv1d(192, 384, kernel_size=(1,), stride=(1,), padding=same, bias=False)\n",
       "      (pw_conv_2): Conv1d(384, 192, kernel_size=(1,), stride=(1,), padding=same, bias=False)\n",
       "      (dw_conv): Conv1d(384, 384, kernel_size=(3,), stride=(1,), padding=same, groups=192, bias=False)\n",
       "      (gelu1): GELU(approximate='none')\n",
       "      (gelu2): GELU(approximate='none')\n",
       "      (bn): BatchNorm1d(384, eps=1e-05, momentum=0.95, affine=True, track_running_stats=True)\n",
       "      (ln): LayerNorm((192,), eps=1e-05, elementwise_affine=True)\n",
       "    )\n",
       "    (5): SqueezeFormerBlock(\n",
       "      (mha_module): MHABlock(\n",
       "        (sa): MultiheadAttention(\n",
       "          (out_proj): NonDynamicallyQuantizableLinear(in_features=192, out_features=192, bias=True)\n",
       "        )\n",
       "        (ffwd): FeedFoward(\n",
       "          (net): Sequential(\n",
       "            (0): Linear(in_features=192, out_features=384, bias=True)\n",
       "            (1): ReLU()\n",
       "            (2): Linear(in_features=384, out_features=192, bias=True)\n",
       "            (3): Dropout(p=0.1, inplace=False)\n",
       "          )\n",
       "        )\n",
       "        (ln1): LayerNorm((60, 192), eps=1e-05, elementwise_affine=True)\n",
       "        (ln2): LayerNorm((60, 192), eps=1e-05, elementwise_affine=True)\n",
       "        (query_proj): Linear(in_features=192, out_features=192, bias=True)\n",
       "        (key_proj): Linear(in_features=192, out_features=192, bias=True)\n",
       "        (value_proj): Linear(in_features=192, out_features=192, bias=True)\n",
       "      )\n",
       "      (pw_conv_1): Conv1d(192, 384, kernel_size=(1,), stride=(1,), padding=same, bias=False)\n",
       "      (pw_conv_2): Conv1d(384, 192, kernel_size=(1,), stride=(1,), padding=same, bias=False)\n",
       "      (dw_conv): Conv1d(384, 384, kernel_size=(3,), stride=(1,), padding=same, groups=192, bias=False)\n",
       "      (gelu1): GELU(approximate='none')\n",
       "      (gelu2): GELU(approximate='none')\n",
       "      (bn): BatchNorm1d(384, eps=1e-05, momentum=0.95, affine=True, track_running_stats=True)\n",
       "      (ln): LayerNorm((192,), eps=1e-05, elementwise_affine=True)\n",
       "    )\n",
       "    (6): SqueezeFormerBlock(\n",
       "      (mha_module): MHABlock(\n",
       "        (sa): MultiheadAttention(\n",
       "          (out_proj): NonDynamicallyQuantizableLinear(in_features=192, out_features=192, bias=True)\n",
       "        )\n",
       "        (ffwd): FeedFoward(\n",
       "          (net): Sequential(\n",
       "            (0): Linear(in_features=192, out_features=384, bias=True)\n",
       "            (1): ReLU()\n",
       "            (2): Linear(in_features=384, out_features=192, bias=True)\n",
       "            (3): Dropout(p=0.1, inplace=False)\n",
       "          )\n",
       "        )\n",
       "        (ln1): LayerNorm((60, 192), eps=1e-05, elementwise_affine=True)\n",
       "        (ln2): LayerNorm((60, 192), eps=1e-05, elementwise_affine=True)\n",
       "        (query_proj): Linear(in_features=192, out_features=192, bias=True)\n",
       "        (key_proj): Linear(in_features=192, out_features=192, bias=True)\n",
       "        (value_proj): Linear(in_features=192, out_features=192, bias=True)\n",
       "      )\n",
       "      (pw_conv_1): Conv1d(192, 384, kernel_size=(1,), stride=(1,), padding=same, bias=False)\n",
       "      (pw_conv_2): Conv1d(384, 192, kernel_size=(1,), stride=(1,), padding=same, bias=False)\n",
       "      (dw_conv): Conv1d(384, 384, kernel_size=(3,), stride=(1,), padding=same, groups=192, bias=False)\n",
       "      (gelu1): GELU(approximate='none')\n",
       "      (gelu2): GELU(approximate='none')\n",
       "      (bn): BatchNorm1d(384, eps=1e-05, momentum=0.95, affine=True, track_running_stats=True)\n",
       "      (ln): LayerNorm((192,), eps=1e-05, elementwise_affine=True)\n",
       "    )\n",
       "    (7): SqueezeFormerBlock(\n",
       "      (mha_module): MHABlock(\n",
       "        (sa): MultiheadAttention(\n",
       "          (out_proj): NonDynamicallyQuantizableLinear(in_features=192, out_features=192, bias=True)\n",
       "        )\n",
       "        (ffwd): FeedFoward(\n",
       "          (net): Sequential(\n",
       "            (0): Linear(in_features=192, out_features=384, bias=True)\n",
       "            (1): ReLU()\n",
       "            (2): Linear(in_features=384, out_features=192, bias=True)\n",
       "            (3): Dropout(p=0.1, inplace=False)\n",
       "          )\n",
       "        )\n",
       "        (ln1): LayerNorm((60, 192), eps=1e-05, elementwise_affine=True)\n",
       "        (ln2): LayerNorm((60, 192), eps=1e-05, elementwise_affine=True)\n",
       "        (query_proj): Linear(in_features=192, out_features=192, bias=True)\n",
       "        (key_proj): Linear(in_features=192, out_features=192, bias=True)\n",
       "        (value_proj): Linear(in_features=192, out_features=192, bias=True)\n",
       "      )\n",
       "      (pw_conv_1): Conv1d(192, 384, kernel_size=(1,), stride=(1,), padding=same, bias=False)\n",
       "      (pw_conv_2): Conv1d(384, 192, kernel_size=(1,), stride=(1,), padding=same, bias=False)\n",
       "      (dw_conv): Conv1d(384, 384, kernel_size=(3,), stride=(1,), padding=same, groups=192, bias=False)\n",
       "      (gelu1): GELU(approximate='none')\n",
       "      (gelu2): GELU(approximate='none')\n",
       "      (bn): BatchNorm1d(384, eps=1e-05, momentum=0.95, affine=True, track_running_stats=True)\n",
       "      (ln): LayerNorm((192,), eps=1e-05, elementwise_affine=True)\n",
       "    )\n",
       "  )\n",
       "  (out_att_blocks): Sequential(\n",
       "    (0): Block(\n",
       "      (sa): MultiheadAttention(\n",
       "        (out_proj): NonDynamicallyQuantizableLinear(in_features=192, out_features=192, bias=True)\n",
       "      )\n",
       "      (ffwd): FeedFoward(\n",
       "        (net): Sequential(\n",
       "          (0): Linear(in_features=192, out_features=384, bias=True)\n",
       "          (1): ReLU()\n",
       "          (2): Linear(in_features=384, out_features=192, bias=True)\n",
       "          (3): Dropout(p=0.15, inplace=False)\n",
       "        )\n",
       "      )\n",
       "      (ln1): LayerNorm((60, 192), eps=1e-05, elementwise_affine=True)\n",
       "      (ln2): LayerNorm((60, 192), eps=1e-05, elementwise_affine=True)\n",
       "    )\n",
       "    (1): Block(\n",
       "      (sa): MultiheadAttention(\n",
       "        (out_proj): NonDynamicallyQuantizableLinear(in_features=192, out_features=192, bias=True)\n",
       "      )\n",
       "      (ffwd): FeedFoward(\n",
       "        (net): Sequential(\n",
       "          (0): Linear(in_features=192, out_features=384, bias=True)\n",
       "          (1): ReLU()\n",
       "          (2): Linear(in_features=384, out_features=192, bias=True)\n",
       "          (3): Dropout(p=0.15, inplace=False)\n",
       "        )\n",
       "      )\n",
       "      (ln1): LayerNorm((60, 192), eps=1e-05, elementwise_affine=True)\n",
       "      (ln2): LayerNorm((60, 192), eps=1e-05, elementwise_affine=True)\n",
       "    )\n",
       "  )\n",
       "  (head): LEADHead(\n",
       "    (act): ReLU()\n",
       "    (conv_seq): Conv1d(192, 32, kernel_size=(3,), stride=(1,), padding=same)\n",
       "    (ptend_t): Conv1d(32, 1, kernel_size=(1,), stride=(1,), padding=same)\n",
       "    (ptend_q0001): Conv1d(32, 1, kernel_size=(1,), stride=(1,), padding=same)\n",
       "    (ptend_q0002): Conv1d(32, 1, kernel_size=(1,), stride=(1,), padding=same)\n",
       "    (ptend_q0003): Conv1d(32, 1, kernel_size=(1,), stride=(1,), padding=same)\n",
       "    (ptend_u): Conv1d(32, 1, kernel_size=(1,), stride=(1,), padding=same)\n",
       "    (ptend_v): Conv1d(32, 1, kernel_size=(1,), stride=(1,), padding=same)\n",
       "    (conv_flat): Conv1d(192, 8, kernel_size=(1,), stride=(1,), padding=same)\n",
       "    (linear): Sequential(\n",
       "      (0): Linear(in_features=480, out_features=128, bias=True)\n",
       "      (1): ReLU(inplace=True)\n",
       "      (2): Dropout(p=0.1, inplace=False)\n",
       "      (3): Linear(in_features=128, out_features=32, bias=True)\n",
       "      (4): ReLU(inplace=True)\n",
       "      (5): Dropout(p=0.1, inplace=False)\n",
       "      (6): Linear(in_features=32, out_features=8, bias=True)\n",
       "      (7): ReLU(inplace=True)\n",
       "    )\n",
       "  )\n",
       ")"
      ]
     },
     "execution_count": 44,
     "metadata": {},
     "output_type": "execute_result"
    }
   ],
   "source": [
    "SqueezeFormerModel(**nn_config_squeeze)"
   ]
  },
  {
   "cell_type": "code",
   "execution_count": 45,
   "metadata": {},
   "outputs": [],
   "source": [
    "# class LeapModel(nn.Module):\n",
    "#     def __init__(self, dims:list):\n",
    "#         \"\"\"\n",
    "#         Initializes the LeapModel.\n",
    "\n",
    "#         Parameters\n",
    "#         ----------\n",
    "#         dims : list of int\n",
    "#             A list containing the dimensions of each layer in the network. \n",
    "#             The length of the list determines the number of layers.\n",
    "#         \"\"\"\n",
    "        \n",
    "#         super().__init__()\n",
    "        \n",
    "#         layers = []\n",
    "#         for i in range(len(dims) - 2):\n",
    "#             layers.append(nn.Linear(dims[i], dims[i + 1]))\n",
    "#             layers.append(nn.LayerNorm(dims[i + 1]))\n",
    "#             layers.append(nn.ReLU())\n",
    "            \n",
    "#         layers.append(nn.Linear(dims[-2], dims[-1]))\n",
    "#         self.network = nn.Sequential(*layers)\n",
    "        \n",
    "#     def forward(self, x):\n",
    "#         y = self.network(x)\n",
    "#         return y"
   ]
  },
  {
   "cell_type": "markdown",
   "metadata": {},
   "source": [
    "### Creating Data Loaders for Training and Validation"
   ]
  },
  {
   "cell_type": "code",
   "execution_count": 46,
   "metadata": {},
   "outputs": [],
   "source": [
    "ds_data = LeapDataset(\n",
    "    file_path=TRAIN_PATH,\n",
    "    x_features=FEATURE_NAMES, \n",
    "    y_features=TARGET_NAMES,\n",
    "    y_weights=torch.tensor(SCALE_WEIGHTS, dtype = torch.float64)\n",
    ")\n",
    "\n",
    "ds_train, ds_valid = random_split(ds_data, [TRAIN_SIZE, VALID_SIZE])\n",
    "\n",
    "train_loader = DataLoader(\n",
    "    ds_train, \n",
    "    batch_size=BATCH_SIZE, \n",
    "    shuffle=True, \n",
    "    drop_last=True,\n",
    ")\n",
    "\n",
    "valid_loader = DataLoader(\n",
    "    ds_valid, \n",
    "    batch_size=BATCH_SIZE, \n",
    "    shuffle=False, \n",
    "    drop_last=False,\n",
    ")"
   ]
  },
  {
   "cell_type": "markdown",
   "metadata": {},
   "source": [
    "### Mean and Standard Deviation Calculation"
   ]
  },
  {
   "cell_type": "code",
   "execution_count": 47,
   "metadata": {},
   "outputs": [
    {
     "name": "stdout",
     "output_type": "stream",
     "text": [
      "Mean(x) Shape:  (556,)\n",
      "Mean(y) Shape:  (368,)\n",
      "Std(x) Shape:  (556,)\n",
      "Std(y) Shape:  (368,)\n",
      "LOC_Y_MIN Shape:  (384, 368)\n",
      "LOC_Y_MAX Shape:  (384, 368)\n"
     ]
    }
   ],
   "source": [
    "#calc_mean_std(ds_train.dataset)\n",
    "\n",
    "import pickle \n",
    "  \n",
    "# Open the file in binary mode \n",
    "with open('dataset_global_all_stats.pkl', 'rb') as file: \n",
    "      \n",
    "    # Call load method to deserialze \n",
    "    stats = pickle.load(file) \n",
    "  \n",
    "X_MEAN = stats['X_MEAN']\n",
    "Y_MEAN = stats['Y_MEAN']\n",
    "X_STD = stats['X_STD']\n",
    "Y_STD = stats['Y_STD']\n",
    "LOC_Y_MAX = stats['LOC_Y_MAX']\n",
    "LOC_Y_MIN = stats['LOC_Y_MIN']\n",
    "Y_MIN = stats['Y_MIN'] \n",
    "Y_MAX = stats['Y_MAX'] \n",
    "  \n",
    "\n",
    "\n",
    "print(\"Mean(x) Shape: \", X_MEAN.shape)\n",
    "print(\"Mean(y) Shape: \", Y_MEAN.shape)\n",
    "print(\"Std(x) Shape: \", X_STD.shape)\n",
    "print(\"Std(y) Shape: \", Y_STD.shape)\n",
    "\n",
    "print(\"LOC_Y_MIN Shape: \", LOC_Y_MIN.shape)\n",
    "print(\"LOC_Y_MAX Shape: \", LOC_Y_MAX.shape)\n",
    "\n",
    "LOC_Y_MIN = torch.tensor(LOC_Y_MIN, dtype = torch.float32).to(DEVICE)\n",
    "LOC_Y_MAX = torch.tensor(LOC_Y_MAX, dtype = torch.float32).to(DEVICE)"
   ]
  },
  {
   "cell_type": "code",
   "execution_count": 48,
   "metadata": {},
   "outputs": [
    {
     "data": {
      "text/plain": [
       "tensor([[ 1.6201,  1.9688,  1.9941,  ...,  3.6523,  4.8828,  5.4648],\n",
       "        [ 1.5312,  2.1016,  1.8516,  ...,  3.8984,  4.8242,  6.0078],\n",
       "        [ 1.5859,  2.0723,  2.0566,  ...,  3.6992,  4.7812,  5.5625],\n",
       "        ...,\n",
       "        [ 1.6289,  1.9082,  1.9570,  ...,  3.9160,  4.6758,  5.4961],\n",
       "        [28.1406, 25.3594, 10.1094,  ...,  3.7246,  4.5078,  6.1445],\n",
       "        [ 1.5342,  1.8789,  1.7764,  ...,  3.8398,  5.1094,  6.6836]],\n",
       "       device='cuda:0')"
      ]
     },
     "execution_count": 48,
     "metadata": {},
     "output_type": "execute_result"
    }
   ],
   "source": [
    "LOC_Y_MAX[torch.randint(384, [200])]"
   ]
  },
  {
   "cell_type": "code",
   "execution_count": 49,
   "metadata": {},
   "outputs": [],
   "source": [
    "#Y_MEAN[[-1,-2,-3,-4,-7,-8]] = 0 "
   ]
  },
  {
   "cell_type": "markdown",
   "metadata": {},
   "source": [
    "### Get Sample Batch From Train Dataset"
   ]
  },
  {
   "cell_type": "code",
   "execution_count": 50,
   "metadata": {},
   "outputs": [
    {
     "name": "stdout",
     "output_type": "stream",
     "text": [
      "Batch Shape:  (256, 556) (256, 368) (256,)\n"
     ]
    }
   ],
   "source": [
    "X, y, l = next(iter(train_loader))\n",
    "\n",
    "print(\"Batch Shape: \", tuple(X.shape), tuple(y.shape), tuple(l.shape))"
   ]
  },
  {
   "cell_type": "markdown",
   "metadata": {},
   "source": [
    "### Exploratory Data Analysis"
   ]
  },
  {
   "cell_type": "code",
   "execution_count": 51,
   "metadata": {},
   "outputs": [
    {
     "data": {
      "image/png": "[encoded data removed]",
      "text/plain": [
       "<Figure size 1600x1600 with 15 Axes>"
      ]
     },
     "metadata": {},
     "output_type": "display_data"
    }
   ],
   "source": [
    "X_point, y_point = X[8], y[8] # nth data point from batch\n",
    "\n",
    "fig, axes = plt.subplots(nrows=5, ncols=3, figsize=(16, 16))\n",
    "\n",
    "axes[0, 0].plot(X_point[STATE_U_IDX])\n",
    "axes[0, 1].plot(X_point[STATE_V_IDX])\n",
    "axes[0, 2].plot(X_point[STATE_T_IDX])\n",
    "\n",
    "axes[1, 0].plot(X_point[STATE_Q0001_IDX])\n",
    "axes[1, 1].plot(X_point[STATE_Q0002_IDX])\n",
    "axes[1, 2].plot(X_point[STATE_Q0003_IDX])\n",
    "\n",
    "axes[2, 0].plot(X_point[PBUF_OZONE_IDX])\n",
    "axes[2, 1].plot(X_point[PBUF_CH4_IDX])\n",
    "axes[2, 2].plot(X_point[PBUF_N2O_IDX])\n",
    "\n",
    "axes[3, 0].plot(y_point[PTEND_Q0001_IDX])\n",
    "axes[3, 1].plot(y_point[PTEND_Q0002_IDX])\n",
    "axes[3, 2].plot(y_point[PTEND_Q0003_IDX])\n",
    "\n",
    "axes[4, 0].plot(y_point[PTEND_U_IDX])\n",
    "axes[4, 1].plot(y_point[PTEND_V_IDX])\n",
    "axes[4, 2].plot(y_point[PTEND_T_IDX])\n",
    "\n",
    "plt.show()"
   ]
  },
  {
   "cell_type": "markdown",
   "metadata": {},
   "source": [
    "### Training"
   ]
  },
  {
   "cell_type": "code",
   "execution_count": 52,
   "metadata": {},
   "outputs": [],
   "source": [
    "LOSS_SCALE_TORCH = torch.tensor(LOSS_SCALE, dtype = torch.float64).to(DEVICE) * torch.tensor(TARGET_WEIGHTS, dtype = torch.float64).to(DEVICE)\n",
    "\n",
    "\n",
    "# 50 most bad scores\n",
    "worst_scores = torch.tensor([110, 109, 108, 111, 107, 112, 106, 104, 171, 103, 105, 102, 172,\n",
    "       170, 165, 166, 164, 152, 169, 167, 113, 173, 168, 101, 162, 163,\n",
    "       161, 100, 159, 157, 160, 158, 114, 156,  99, 155, 153, 154, 151,\n",
    "       174, 115,  19, 225,  98, 224,  50, 207,  51,  52,  49])\n",
    "\n",
    "LOSS_SCALE_TORCH[worst_scores] = 1.01\n",
    "LOSS_SCALE_TORCH[[-1,-2,-3,-4,-7,-8]] = 1. # CAM Values HAS TOO big MSE"
   ]
  },
  {
   "cell_type": "code",
   "execution_count": 53,
   "metadata": {},
   "outputs": [],
   "source": [
    "def WeightedMSE(y_pred, y):\n",
    "    return (LOSS_SCALE_TORCH**2 * (y - y_pred) ** 2)"
   ]
  },
  {
   "cell_type": "code",
   "execution_count": 54,
   "metadata": {},
   "outputs": [],
   "source": [
    "def WeightedMAE(y_pred, y):\n",
    "    return (LOSS_SCALE_TORCH * torch.abs(y - y_pred))"
   ]
  },
  {
   "cell_type": "code",
   "execution_count": 55,
   "metadata": {},
   "outputs": [],
   "source": [
    "def WeightedMAPE(y_pred, y):\n",
    "    \n",
    "    return (LOSS_SCALE_TORCH * 100 * torch.abs((y - y_pred) / (y + 1e-6)))\n",
    "    \n",
    "criterion = WeightedMAPE"
   ]
  },
  {
   "cell_type": "code",
   "execution_count": 56,
   "metadata": {},
   "outputs": [],
   "source": [
    "def WeightedHUBER(y_pred, y):\n",
    "    return LOSS_SCALE_TORCH * torch.nn.HuberLoss(reduction='none', delta=2.5)(y_pred, y)"
   ]
  },
  {
   "cell_type": "code",
   "execution_count": 57,
   "metadata": {},
   "outputs": [],
   "source": [
    "\n",
    "def relMSE(y_pred, y):\n",
    "    return LOSS_SCALE_TORCH**2 * (((y - y_pred) ** 2) / torch.maximum((y - torch.tensor(Y_MEAN).to(DEVICE)) ** 2, torch.tensor(1e-6).to(DEVICE)))\n",
    "    \n",
    "criterion = relMSE   "
   ]
  },
  {
   "cell_type": "code",
   "execution_count": 58,
   "metadata": {},
   "outputs": [
    {
     "name": "stdout",
     "output_type": "stream",
     "text": [
      "tensor(0.1330, device='cuda:0', dtype=torch.float64)\n",
      "tensor(0.1330, device='cuda:0', dtype=torch.float64)\n"
     ]
    }
   ],
   "source": [
    "a = torch.rand([2000, 368]).to(DEVICE)\n",
    "b = torch.rand([2000, 368]).to(DEVICE)\n",
    "print(WeightedMSE(a, b).mean())\n",
    "print(WeightedMSE(a, b).mean(0).sum()/a.shape[-1])"
   ]
  },
  {
   "cell_type": "code",
   "execution_count": 59,
   "metadata": {},
   "outputs": [],
   "source": [
    "#model = LeapModel(**nn_config)\n",
    "#model = TfaLeapModel(**nn_config_tfa)\n",
    "model = SqueezeFormerModel(**nn_config_squeeze)\n",
    "model = model.to(DEVICE)\n",
    "model.load_state_dict(torch.load(\"best_score_model.pth\", map_location=DEVICE), strict = True)\n",
    "#model.load_state_dict(torch.load(\"models/SqueezeFormer_w_stat_projection/best_score_model_26_epochs.pth\", map_location=DEVICE), strict = True)\n",
    "#model.load_state_dict(torch.load(\"best_score_model_combo_head_test3.pth\", map_location=DEVICE), strict = False)\n",
    "\n",
    "\n",
    "criterion = nn.MSELoss()\n",
    "criterion = WeightedMSE\n",
    "criterion = WeightedHUBER\n",
    "#criterion = relMSE  \n",
    "#criterion = WeightedMAPE\n",
    "#criterion = torch.nn.HuberLoss(reduction='mean', delta=5.0)\n",
    "\n",
    "optimizer = optim.Adam(model.parameters(), lr=LEARNING_RATE)\n",
    "scheduler = lr_scheduler.PolynomialLR(optimizer, power=1.4, total_iters=NUM_EPOCHS)"
   ]
  },
  {
   "cell_type": "code",
   "execution_count": 60,
   "metadata": {},
   "outputs": [],
   "source": [
    "scheduler = lr_scheduler.CosineAnnealingWarmRestarts(\n",
    "            optimizer,\n",
    "            T_0=NUM_EPOCHS,\n",
    "            T_mult=1,\n",
    "            eta_min=1e-6,\n",
    "            last_epoch=-1\n",
    "        )"
   ]
  },
  {
   "cell_type": "code",
   "execution_count": null,
   "metadata": {},
   "outputs": [],
   "source": []
  },
  {
   "cell_type": "code",
   "execution_count": 61,
   "metadata": {},
   "outputs": [],
   "source": [
    "# lrs = []\n",
    "# for i in range(NUM_EPOCHS):\n",
    "#     scheduler.step(i)\n",
    "#     lrs.append(scheduler.get_lr())"
   ]
  },
  {
   "cell_type": "code",
   "execution_count": 62,
   "metadata": {},
   "outputs": [],
   "source": [
    "#plt.plot(list(range(NUM_EPOCHS)), lrs)"
   ]
  },
  {
   "cell_type": "code",
   "execution_count": 63,
   "metadata": {},
   "outputs": [],
   "source": [
    "def reload_train_set(epoch):\n",
    "    paths = [\n",
    "        'dataset_f16_10kk_part_1.parquet',\n",
    "        'dataset_f16_10kk_part_2.parquet',\n",
    "        'dataset_f16_10kk_part_3.parquet',\n",
    "        'dataset_f16_10kk_part_4.parquet',\n",
    "        'dataset_f16_year_8.parquet'\n",
    "    ]\n",
    "\n",
    "    path = paths[epoch%5]\n",
    "    \n",
    "    ds_train = LeapDataset(\n",
    "        file_path=path,\n",
    "        x_features=FEATURE_NAMES, \n",
    "        y_features=TARGET_NAMES,\n",
    "        y_weights=torch.tensor(SCALE_WEIGHTS, dtype = torch.float64)\n",
    "    )\n",
    "    \n",
    "    train_loader = DataLoader(\n",
    "        ds_train, \n",
    "        batch_size=BATCH_SIZE, \n",
    "        shuffle=True, \n",
    "        drop_last=True,\n",
    "    )\n",
    "\n",
    "    return train_loader"
   ]
  },
  {
   "cell_type": "code",
   "execution_count": 64,
   "metadata": {
    "scrolled": true
   },
   "outputs": [
    {
     "name": "stderr",
     "output_type": "stream",
     "text": [
      "Epoch 0:   0%|                                                             | 0/3000 [00:00<?, ?it/s]E:\\PycharmProjects\\birdclef24\\venv\\Lib\\site-packages\\torch\\nn\\modules\\conv.py:306: UserWarning: Plan failed with a cudnnException: CUDNN_BACKEND_EXECUTION_PLAN_DESCRIPTOR: cudnnFinalize Descriptor Failed cudnn_status: CUDNN_STATUS_NOT_SUPPORTED (Triggered internally at ..\\aten\\src\\ATen\\native\\cudnn\\Conv_v8.cpp:919.)\n",
      "  return F.conv1d(input, weight, bias, self.stride,\n",
      "Epoch 0: 100%|█████████████████▉| 2999/3000 [11:32<00:00,  4.33it/s, LR=0.000050, train_loss=0.0995]\n",
      "Epoch 0: 100%|██████████▉| 1268/1270 [01:58<00:00, 10.18it/s, val_sc=0.993, val_mse=0.311, val_r2=0]E:\\PycharmProjects\\birdclef24\\venv\\Lib\\site-packages\\torch\\nn\\modules\\conv.py:306: UserWarning: Plan failed with a cudnnException: CUDNN_BACKEND_EXECUTION_PLAN_DESCRIPTOR: cudnnFinalize Descriptor Failed cudnn_status: CUDNN_STATUS_NOT_SUPPORTED (Triggered internally at ..\\aten\\src\\ATen\\native\\cudnn\\Conv_v8.cpp:919.)\n",
      "  return F.conv1d(input, weight, bias, self.stride,\n",
      "Epoch 0: 100%|████████| 1270/1270 [02:06<00:00, 10.07it/s, val_sc=0.993, val_mse=0.311, val_r2=0.74]\n",
      "Epoch 1: 100%|████████████████████▉| 2999/3000 [11:55<00:00,  4.19it/s, LR=0.000050, train_loss=0.1]\n",
      "Epoch 1: 100%|█████████| 1270/1270 [02:02<00:00, 10.40it/s, val_sc=0.993, val_mse=0.31, val_r2=0.74]\n",
      "Epoch 2: 100%|█████████████████▉| 2999/3000 [12:01<00:00,  4.16it/s, LR=0.000050, train_loss=0.0994]\n",
      "Epoch 2: 100%|████████| 1270/1270 [02:02<00:00, 10.40it/s, val_sc=0.993, val_mse=0.308, val_r2=0.74]\n",
      "Epoch 3: 100%|█████████████████▉| 2999/3000 [11:33<00:00,  4.33it/s, LR=0.000050, train_loss=0.0965]\n",
      "Epoch 3: 100%|████████| 1270/1270 [02:02<00:00, 10.36it/s, val_sc=0.992, val_mse=0.31, val_r2=0.742]\n",
      "Epoch 4: 100%|██████████████████▉| 2999/3000 [11:31<00:00,  4.33it/s, LR=0.000049, train_loss=0.101]\n",
      "Epoch 4: 100%|███████| 1270/1270 [02:03<00:00, 10.31it/s, val_sc=0.993, val_mse=0.309, val_r2=0.743]\n",
      "Epoch 5: 100%|█████████████████▉| 2999/3000 [11:24<00:00,  4.38it/s, LR=0.000049, train_loss=0.0995]\n",
      "Epoch 5: 100%|███████| 1270/1270 [02:02<00:00, 10.40it/s, val_sc=0.993, val_mse=0.307, val_r2=0.744]\n",
      "Epoch 6: 100%|█████████████████▉| 2999/3000 [11:26<00:00,  4.37it/s, LR=0.000048, train_loss=0.0985]\n",
      "Epoch 6: 100%|███████| 1270/1270 [02:02<00:00, 10.33it/s, val_sc=0.993, val_mse=0.309, val_r2=0.743]\n",
      "Epoch 7: 100%|█████████████████▉| 2999/3000 [11:29<00:00,  4.35it/s, LR=0.000048, train_loss=0.0963]\n",
      "Epoch 7: 100%|████████| 1270/1270 [02:04<00:00, 10.20it/s, val_sc=0.993, val_mse=0.31, val_r2=0.745]\n",
      "Epoch 8: 100%|█████████████████▉| 2999/3000 [11:31<00:00,  4.34it/s, LR=0.000047, train_loss=0.0999]\n",
      "Epoch 8: 100%|███████| 1270/1270 [02:03<00:00, 10.31it/s, val_sc=0.992, val_mse=0.311, val_r2=0.745]\n",
      "Epoch 9: 100%|█████████████████▉| 2999/3000 [11:24<00:00,  4.38it/s, LR=0.000046, train_loss=0.0988]\n",
      "Epoch 9: 100%|███████| 1270/1270 [02:02<00:00, 10.40it/s, val_sc=0.993, val_mse=0.307, val_r2=0.746]\n",
      "Epoch 10: 100%|████████████████▉| 2999/3000 [11:23<00:00,  4.39it/s, LR=0.000045, train_loss=0.0976]\n",
      "Epoch 10: 100%|██████| 1270/1270 [02:02<00:00, 10.40it/s, val_sc=0.993, val_mse=0.305, val_r2=0.747]\n",
      "Epoch 11: 100%|████████████████▉| 2999/3000 [11:23<00:00,  4.39it/s, LR=0.000044, train_loss=0.0955]\n",
      "Epoch 11: 100%|██████| 1270/1270 [02:01<00:00, 10.45it/s, val_sc=0.993, val_mse=0.308, val_r2=0.748]\n",
      "Epoch 12: 100%|████████████████▉| 2999/3000 [11:20<00:00,  4.41it/s, LR=0.000043, train_loss=0.0993]\n",
      "Epoch 12: 100%|██████| 1270/1270 [02:01<00:00, 10.47it/s, val_sc=0.993, val_mse=0.307, val_r2=0.748]\n",
      "Epoch 13: 100%|████████████████▉| 2999/3000 [11:33<00:00,  4.32it/s, LR=0.000042, train_loss=0.0984]\n",
      "Epoch 13: 100%|██████| 1270/1270 [02:08<00:00,  9.86it/s, val_sc=0.992, val_mse=0.305, val_r2=0.749]\n",
      "Epoch 14: 100%|████████████████▉| 2999/3000 [11:26<00:00,  4.37it/s, LR=0.000041, train_loss=0.0974]\n",
      "Epoch 14: 100%|███████| 1270/1270 [02:02<00:00, 10.37it/s, val_sc=0.993, val_mse=0.306, val_r2=0.75]\n",
      "Epoch 15: 100%|████████████████▉| 2999/3000 [11:28<00:00,  4.36it/s, LR=0.000040, train_loss=0.0947]\n",
      "Epoch 15: 100%|██████| 1270/1270 [02:05<00:00, 10.11it/s, val_sc=0.993, val_mse=0.309, val_r2=0.751]\n",
      "Epoch 16: 100%|████████████████▉| 2999/3000 [11:54<00:00,  4.20it/s, LR=0.000039, train_loss=0.0983]\n",
      "Epoch 16: 100%|███████| 1270/1270 [02:03<00:00, 10.30it/s, val_sc=0.993, val_mse=0.307, val_r2=0.75]\n",
      "Epoch 17: 100%|████████████████▉| 2999/3000 [11:40<00:00,  4.28it/s, LR=0.000037, train_loss=0.0977]\n",
      "Epoch 17: 100%|██████| 1270/1270 [02:03<00:00, 10.32it/s, val_sc=0.993, val_mse=0.305, val_r2=0.751]\n",
      "Epoch 18: 100%|████████████████▉| 2999/3000 [11:36<00:00,  4.31it/s, LR=0.000036, train_loss=0.0964]\n",
      "Epoch 18: 100%|██████| 1270/1270 [02:02<00:00, 10.34it/s, val_sc=0.993, val_mse=0.305, val_r2=0.753]\n",
      "Epoch 19: 100%|████████████████▉| 2999/3000 [11:24<00:00,  4.38it/s, LR=0.000035, train_loss=0.0943]\n",
      "Epoch 19: 100%|███████| 1270/1270 [02:02<00:00, 10.40it/s, val_sc=0.993, val_mse=0.308, val_r2=0.75]\n",
      "Epoch 20: 100%|████████████████▉| 2999/3000 [11:20<00:00,  4.41it/s, LR=0.000033, train_loss=0.0975]\n",
      "Epoch 20: 100%|██████| 1270/1270 [02:01<00:00, 10.48it/s, val_sc=0.993, val_mse=0.308, val_r2=0.753]\n",
      "Epoch 21: 100%|█████████████████▉| 2999/3000 [11:25<00:00,  4.38it/s, LR=0.000032, train_loss=0.097]\n",
      "Epoch 21: 100%|██████| 1270/1270 [02:03<00:00, 10.32it/s, val_sc=0.993, val_mse=0.304, val_r2=0.753]\n",
      "Epoch 22: 100%|████████████████▉| 2999/3000 [11:26<00:00,  4.37it/s, LR=0.000030, train_loss=0.0964]\n",
      "Epoch 22: 100%|██████| 1270/1270 [02:02<00:00, 10.37it/s, val_sc=0.993, val_mse=0.305, val_r2=0.753]\n",
      "Epoch 23: 100%|████████████████▉| 2999/3000 [11:28<00:00,  4.36it/s, LR=0.000029, train_loss=0.0934]\n",
      "Epoch 23: 100%|██████| 1270/1270 [02:02<00:00, 10.38it/s, val_sc=0.993, val_mse=0.307, val_r2=0.754]\n",
      "Epoch 24: 100%|████████████████▉| 2999/3000 [11:29<00:00,  4.35it/s, LR=0.000027, train_loss=0.0974]\n",
      "Epoch 24: 100%|██████| 1270/1270 [02:02<00:00, 10.38it/s, val_sc=0.993, val_mse=0.303, val_r2=0.756]\n",
      "Epoch 25: 100%|████████████████▉| 2999/3000 [11:26<00:00,  4.37it/s, LR=0.000026, train_loss=0.0966]\n",
      "Epoch 25: 100%|██████| 1270/1270 [02:01<00:00, 10.42it/s, val_sc=0.993, val_mse=0.304, val_r2=0.756]\n",
      "Epoch 26: 100%|████████████████▉| 2999/3000 [11:25<00:00,  4.37it/s, LR=0.000024, train_loss=0.0957]\n",
      "Epoch 26: 100%|██████| 1270/1270 [02:02<00:00, 10.38it/s, val_sc=0.993, val_mse=0.303, val_r2=0.755]\n",
      "Epoch 27: 100%|████████████████▉| 2999/3000 [11:30<00:00,  4.34it/s, LR=0.000022, train_loss=0.0935]\n",
      "Epoch 27: 100%|██████| 1270/1270 [02:02<00:00, 10.37it/s, val_sc=0.993, val_mse=0.304, val_r2=0.755]\n",
      "Epoch 28: 100%|████████████████▉| 2999/3000 [11:37<00:00,  4.30it/s, LR=0.000021, train_loss=0.0967]\n",
      "Epoch 28: 100%|██████| 1270/1270 [02:02<00:00, 10.40it/s, val_sc=0.993, val_mse=0.302, val_r2=0.757]\n",
      "Epoch 29: 100%|████████████████▉| 2999/3000 [11:30<00:00,  4.35it/s, LR=0.000019, train_loss=0.0959]\n",
      "Epoch 29: 100%|████████| 1270/1270 [02:03<00:00, 10.28it/s, val_sc=0.993, val_mse=0.3, val_r2=0.758]\n",
      "Epoch 30: 100%|█████████████████▉| 2999/3000 [11:33<00:00,  4.32it/s, LR=0.000018, train_loss=0.095]\n",
      "Epoch 30: 100%|██████| 1270/1270 [02:04<00:00, 10.17it/s, val_sc=0.993, val_mse=0.301, val_r2=0.758]\n",
      "Epoch 31: 100%|████████████████▉| 2999/3000 [11:33<00:00,  4.33it/s, LR=0.000016, train_loss=0.0923]\n",
      "Epoch 31: 100%|██████| 1270/1270 [02:02<00:00, 10.36it/s, val_sc=0.993, val_mse=0.304, val_r2=0.758]\n",
      "Epoch 32: 100%|████████████████▉| 2999/3000 [11:26<00:00,  4.37it/s, LR=0.000015, train_loss=0.0961]\n",
      "Epoch 32: 100%|████████| 1270/1270 [02:02<00:00, 10.38it/s, val_sc=0.993, val_mse=0.3, val_r2=0.759]\n",
      "Epoch 33: 100%|████████████████▉| 2999/3000 [11:27<00:00,  4.36it/s, LR=0.000014, train_loss=0.0961]\n",
      "Epoch 33: 100%|██████| 1270/1270 [02:02<00:00, 10.35it/s, val_sc=0.993, val_mse=0.299, val_r2=0.759]\n",
      "Epoch 34: 100%|████████████████▉| 2999/3000 [11:27<00:00,  4.37it/s, LR=0.000012, train_loss=0.0951]\n",
      "Epoch 34: 100%|███████| 1270/1270 [02:02<00:00, 10.35it/s, val_sc=0.993, val_mse=0.299, val_r2=0.76]\n",
      "Epoch 35: 100%|████████████████▉| 2999/3000 [11:26<00:00,  4.37it/s, LR=0.000011, train_loss=0.0922]\n",
      "Epoch 35: 100%|██████| 1270/1270 [02:04<00:00, 10.22it/s, val_sc=0.993, val_mse=0.301, val_r2=0.759]\n",
      "Epoch 36: 100%|████████████████▉| 2999/3000 [11:26<00:00,  4.37it/s, LR=0.000010, train_loss=0.0955]\n",
      "Epoch 36: 100%|███████| 1270/1270 [02:02<00:00, 10.38it/s, val_sc=0.993, val_mse=0.299, val_r2=0.76]\n",
      "Epoch 37: 100%|████████████████▉| 2999/3000 [11:23<00:00,  4.39it/s, LR=0.000009, train_loss=0.0956]\n",
      "Epoch 37: 100%|██████| 1270/1270 [02:02<00:00, 10.38it/s, val_sc=0.993, val_mse=0.299, val_r2=0.759]\n",
      "Epoch 38: 100%|████████████████▉| 2999/3000 [11:22<00:00,  4.39it/s, LR=0.000008, train_loss=0.0946]\n",
      "Epoch 38: 100%|██████| 1270/1270 [02:02<00:00, 10.41it/s, val_sc=0.993, val_mse=0.298, val_r2=0.761]\n",
      "Epoch 39: 100%|████████████████▉| 2999/3000 [11:22<00:00,  4.39it/s, LR=0.000007, train_loss=0.0918]\n",
      "Epoch 39: 100%|████████| 1270/1270 [02:02<00:00, 10.40it/s, val_sc=0.993, val_mse=0.3, val_r2=0.762]\n",
      "Epoch 40: 100%|████████████████▉| 2999/3000 [11:21<00:00,  4.40it/s, LR=0.000006, train_loss=0.0954]\n",
      "Epoch 40: 100%|██████| 1270/1270 [02:01<00:00, 10.43it/s, val_sc=0.993, val_mse=0.298, val_r2=0.762]\n",
      "Epoch 41: 100%|████████████████▉| 2999/3000 [11:22<00:00,  4.39it/s, LR=0.000005, train_loss=0.0949]\n",
      "Epoch 41: 100%|██████| 1270/1270 [02:02<00:00, 10.40it/s, val_sc=0.993, val_mse=0.299, val_r2=0.762]\n",
      "Epoch 42: 100%|████████████████▉| 2999/3000 [11:23<00:00,  4.39it/s, LR=0.000004, train_loss=0.0939]\n",
      "Epoch 42: 100%|██████| 1270/1270 [02:02<00:00, 10.40it/s, val_sc=0.993, val_mse=0.298, val_r2=0.762]\n",
      "Epoch 43: 100%|█████████████████▉| 2999/3000 [11:22<00:00,  4.39it/s, LR=0.000003, train_loss=0.092]\n",
      "Epoch 43: 100%|██████| 1270/1270 [02:01<00:00, 10.41it/s, val_sc=0.993, val_mse=0.299, val_r2=0.762]\n",
      "Epoch 44: 100%|████████████████▉| 2999/3000 [11:22<00:00,  4.39it/s, LR=0.000003, train_loss=0.0955]\n",
      "Epoch 44: 100%|██████| 1270/1270 [02:01<00:00, 10.42it/s, val_sc=0.993, val_mse=0.299, val_r2=0.762]\n",
      "Epoch 45: 100%|█████████████████▉| 2999/3000 [11:19<00:00,  4.41it/s, LR=0.000002, train_loss=0.095]\n",
      "Epoch 45: 100%|██████| 1270/1270 [02:01<00:00, 10.46it/s, val_sc=0.993, val_mse=0.298, val_r2=0.762]\n",
      "Epoch 46: 100%|████████████████▉| 2999/3000 [11:19<00:00,  4.41it/s, LR=0.000002, train_loss=0.0941]\n",
      "Epoch 46: 100%|██████| 1270/1270 [02:01<00:00, 10.46it/s, val_sc=0.993, val_mse=0.298, val_r2=0.762]\n",
      "Epoch 47: 100%|████████████████▉| 2999/3000 [11:19<00:00,  4.41it/s, LR=0.000001, train_loss=0.0917]\n",
      "Epoch 47: 100%|████████| 1270/1270 [02:01<00:00, 10.46it/s, val_sc=0.993, val_mse=0.3, val_r2=0.761]\n",
      "Epoch 48: 100%|████████████████▉| 2999/3000 [11:20<00:00,  4.41it/s, LR=0.000001, train_loss=0.0953]\n",
      "Epoch 48: 100%|██████| 1270/1270 [02:01<00:00, 10.44it/s, val_sc=0.993, val_mse=0.299, val_r2=0.761]\n",
      "Epoch 49: 100%|████████████████▉| 2999/3000 [11:19<00:00,  4.41it/s, LR=0.000001, train_loss=0.0945]\n",
      "Epoch 49: 100%|██████| 1270/1270 [02:01<00:00, 10.46it/s, val_sc=0.993, val_mse=0.298, val_r2=0.763]\n"
     ]
    }
   ],
   "source": [
    "best_score = -np.inf\n",
    "best_mse = np.inf\n",
    "\n",
    "scores = []\n",
    "mses = []\n",
    "r2s = []\n",
    "train_mse = []\n",
    "\n",
    "for epoch in range(0, NUM_EPOCHS):\n",
    "    train_loss = train_fn(model, train_loader, optimizer, criterion)\n",
    "    val_score, val_mse, val_r2_full = valid_fn(model, valid_loader)\n",
    "\n",
    "    train_mse.append(train_loss)\n",
    "    scores.append(val_score)\n",
    "    mses.append(val_mse)   \n",
    "    r2s.append(val_r2_full)   \n",
    "    \n",
    "    if val_r2_full > best_score:\n",
    "        best_score = val_r2_full\n",
    "        torch.save(model.state_dict(), \"best_score_model.pth\")\n",
    "\n",
    "    if val_mse < best_mse:\n",
    "        best_mse = val_mse\n",
    "        torch.save(model.state_dict(), \"best_mse_model.pth\")\n",
    "        \n",
    "    torch.save(model.state_dict(), \"last_model.pth\")\n",
    "\n",
    "    del train_loader\n",
    "    train_loader = reload_train_set(epoch)\n",
    "    \n",
    "    scheduler.step()"
   ]
  },
  {
   "cell_type": "code",
   "execution_count": 65,
   "metadata": {},
   "outputs": [],
   "source": [
    "history = pd.DataFrame({'train_loss': train_mse, 'mse': mses, 'r2': r2s})"
   ]
  },
  {
   "cell_type": "code",
   "execution_count": 66,
   "metadata": {},
   "outputs": [
    {
     "data": {
      "text/plain": [
       "<Axes: >"
      ]
     },
     "execution_count": 66,
     "metadata": {},
     "output_type": "execute_result"
    },
    {
     "data": {
      "image/png": "[encoded data removed]",
      "text/plain": [
       "<Figure size 640x480 with 1 Axes>"
      ]
     },
     "metadata": {},
     "output_type": "display_data"
    }
   ],
   "source": [
    "history.plot()"
   ]
  },
  {
   "cell_type": "code",
   "execution_count": 67,
   "metadata": {},
   "outputs": [],
   "source": [
    "#val_score, val_mse, val_r2_full = valid_fn(model, valid_loader)"
   ]
  },
  {
   "cell_type": "code",
   "execution_count": 68,
   "metadata": {},
   "outputs": [],
   "source": [
    "#torch.save(model.state_dict(), \"last_model.pth\")"
   ]
  },
  {
   "cell_type": "code",
   "execution_count": 69,
   "metadata": {},
   "outputs": [],
   "source": [
    "#torch.cuda.empty_cache()"
   ]
  },
  {
   "cell_type": "code",
   "execution_count": 70,
   "metadata": {},
   "outputs": [
    {
     "data": {
      "text/plain": [
       "'0.000050'"
      ]
     },
     "execution_count": 70,
     "metadata": {},
     "output_type": "execute_result"
    }
   ],
   "source": [
    "f'{scheduler.get_last_lr()[0]:.6f}'"
   ]
  },
  {
   "cell_type": "markdown",
   "metadata": {},
   "source": [
    "# Pred val set"
   ]
  },
  {
   "cell_type": "code",
   "execution_count": 71,
   "metadata": {},
   "outputs": [
    {
     "data": {
      "text/plain": [
       "<All keys matched successfully>"
      ]
     },
     "execution_count": 71,
     "metadata": {},
     "output_type": "execute_result"
    }
   ],
   "source": [
    "model = SqueezeFormerModel(**nn_config_squeeze)\n",
    "model = model.to(DEVICE)\n",
    "model.load_state_dict(torch.load(\"best_score_model.pth\", map_location=DEVICE))"
   ]
  },
  {
   "cell_type": "code",
   "execution_count": 72,
   "metadata": {},
   "outputs": [],
   "source": [
    "def predict_valid(model: nn.Module, loader: DataLoader) -> float:\n",
    "    \"\"\"\n",
    "    Validate the deep learning model for 1 epoch.\n",
    "    \n",
    "    Parameters\n",
    "    ----------\n",
    "    model : torch.nn.Module\n",
    "        The PyTorch model to be validated.\n",
    "    loader : torch.utils.data.DataLoader\n",
    "        DataLoader for the validation data.\n",
    "\n",
    "    Returns\n",
    "    -------\n",
    "    float\n",
    "        The average R2 score over the validation epoch.\n",
    "    \"\"\"\n",
    "    \n",
    "    progress_bar = tqdm(enumerate(loader, start=1), total=len(loader), ncols=100)\n",
    "    #progress_bar.set_description(f'Epoch {epoch}')\n",
    "    model.eval()\n",
    "    val_score = 0\n",
    "    preds = []\n",
    "    \n",
    "    with torch.no_grad():\n",
    "        for step, batch in progress_bar:\n",
    "            x, y, l = batch\n",
    "            x, y = x.to(DEVICE), y.to(DEVICE)\n",
    "            \n",
    "            y_pred = model(x)\n",
    "            \n",
    "            y = y.cpu()\n",
    "            y = (y * Y_STD) + Y_MEAN\n",
    "            #y = (y * Y_STD)\n",
    "            y /= torch.tensor(SCALE_WEIGHTS)\n",
    "\n",
    "            \n",
    "            y_pred = y_pred.cpu()\n",
    "            #y_pred[:, Y_STD == 0] = Y_MEAN[:, Y_STD == 0]\n",
    "            #y_pred[:, Y_STD < (1.1 * ERR)] = Y_MEAN[Y_STD < (1.1 * ERR)]\n",
    "            \n",
    "            y_pred = (y_pred * Y_STD) + Y_MEAN\n",
    "            #y_pred = (y_pred * Y_STD) \n",
    "            y_pred /= torch.tensor(SCALE_WEIGHTS)\n",
    "\n",
    "            \n",
    "            val_score += r2_score(y_pred, y)\n",
    "            \n",
    "            progress_bar.set_postfix({\n",
    "                'valid_score': val_score / step,\n",
    "            })\n",
    "        \n",
    "            preds.append(y_pred.numpy())\n",
    "    return np.vstack(preds)"
   ]
  },
  {
   "cell_type": "code",
   "execution_count": 73,
   "metadata": {},
   "outputs": [
    {
     "name": "stderr",
     "output_type": "stream",
     "text": [
      "100%|████████████████████████████████████████| 1270/1270 [01:51<00:00, 11.34it/s, valid_score=0.993]\n"
     ]
    }
   ],
   "source": [
    "#y_valid = np.concatenate([((yb * Y_STD))/torch.tensor(SCALE_WEIGHTS) for _, yb in valid_loader])\n",
    "y_valid = np.concatenate([((yb * Y_STD) + Y_MEAN)/torch.tensor(SCALE_WEIGHTS) for _, yb, _ in valid_loader])\n",
    "#y_valid = np.concatenate([((yb * Y_STD) + Y_MEAN) for _, yb in valid_loader])\n",
    "#x_valid = np.concatenate([xb for xb, _ in valid_loader])\n",
    "p_valid = predict_valid(model, valid_loader)"
   ]
  },
  {
   "cell_type": "code",
   "execution_count": 74,
   "metadata": {},
   "outputs": [
    {
     "data": {
      "text/plain": [
       "0"
      ]
     },
     "execution_count": 74,
     "metadata": {},
     "output_type": "execute_result"
    }
   ],
   "source": [
    "(~np.isfinite(y_valid)).sum()"
   ]
  },
  {
   "cell_type": "code",
   "execution_count": 75,
   "metadata": {},
   "outputs": [
    {
     "data": {
      "text/plain": [
       "[<matplotlib.lines.Line2D at 0x2370f028d50>]"
      ]
     },
     "execution_count": 75,
     "metadata": {},
     "output_type": "execute_result"
    },
    {
     "data": {
      "image/png": "[encoded data removed]",
      "text/plain": [
       "<Figure size 640x480 with 1 Axes>"
      ]
     },
     "metadata": {},
     "output_type": "display_data"
    }
   ],
   "source": [
    "plt.plot(y_valid.max(0)[:368])"
   ]
  },
  {
   "cell_type": "code",
   "execution_count": 76,
   "metadata": {},
   "outputs": [
    {
     "data": {
      "text/plain": [
       "[<matplotlib.lines.Line2D at 0x2370f01d010>]"
      ]
     },
     "execution_count": 76,
     "metadata": {},
     "output_type": "execute_result"
    },
    {
     "data": {
      "image/png": "[encoded data removed]",
      "text/plain": [
       "<Figure size 640x480 with 1 Axes>"
      ]
     },
     "metadata": {},
     "output_type": "display_data"
    }
   ],
   "source": [
    "plt.plot(p_valid.max(0)[:368])"
   ]
  },
  {
   "cell_type": "code",
   "execution_count": 77,
   "metadata": {},
   "outputs": [
    {
     "data": {
      "text/plain": [
       "array([5.04311544e-04, 1.03777660e+03, 4.64451535e+02, 1.31147723e-07,\n",
       "       1.37377254e-06, 5.05966075e+02, 5.36454328e+02, 2.91580367e+02,\n",
       "       2.08372968e+02])"
      ]
     },
     "execution_count": 77,
     "metadata": {},
     "output_type": "execute_result"
    }
   ],
   "source": [
    "p_valid.max(0)[359:]"
   ]
  },
  {
   "cell_type": "code",
   "execution_count": 78,
   "metadata": {},
   "outputs": [
    {
     "data": {
      "text/plain": [
       "array([0.00659128, 0.        , 0.        , 0.        , 0.        ,\n",
       "       0.        , 0.        , 0.        , 0.        ])"
      ]
     },
     "execution_count": 78,
     "metadata": {},
     "output_type": "execute_result"
    }
   ],
   "source": [
    "Y_MEAN[359:]"
   ]
  },
  {
   "cell_type": "code",
   "execution_count": 79,
   "metadata": {},
   "outputs": [
    {
     "data": {
      "text/plain": [
       "tensor(1663.3526, dtype=torch.float64)"
      ]
     },
     "execution_count": 79,
     "metadata": {},
     "output_type": "execute_result"
    }
   ],
   "source": [
    "(nn.MSELoss(reduction='none')(torch.tensor(p_valid), torch.tensor(y_valid)) * torch.tensor(TARGET_WEIGHTS)).sum(1).mean()"
   ]
  },
  {
   "cell_type": "code",
   "execution_count": 80,
   "metadata": {},
   "outputs": [
    {
     "data": {
      "text/plain": [
       "0.7625875240522724"
      ]
     },
     "execution_count": 80,
     "metadata": {},
     "output_type": "execute_result"
    }
   ],
   "source": [
    "r2_score_clipped(torch.tensor(p_valid), torch.tensor(y_valid))"
   ]
  },
  {
   "cell_type": "code",
   "execution_count": 81,
   "metadata": {},
   "outputs": [
    {
     "data": {
      "text/plain": [
       "array([1.83540234e+00, 1.58205535e+00, 1.58020112e+00, ...,\n",
       "       2.38377442e-06, 1.01414931e-06, 9.64220474e-07])"
      ]
     },
     "execution_count": 81,
     "metadata": {},
     "output_type": "execute_result"
    }
   ],
   "source": [
    "errors = (((p_valid - y_valid)**2)**0.5/368).sum(1)\n",
    "top_mistakes = (-errors).argsort()\n",
    "\n",
    "errors[top_mistakes]"
   ]
  },
  {
   "cell_type": "code",
   "execution_count": 82,
   "metadata": {},
   "outputs": [
    {
     "data": {
      "text/plain": [
       "284"
      ]
     },
     "execution_count": 82,
     "metadata": {},
     "output_type": "execute_result"
    }
   ],
   "source": [
    "mask_errors = errors[top_mistakes] > 1.0\n",
    "mask_errors.sum()"
   ]
  },
  {
   "cell_type": "code",
   "execution_count": 83,
   "metadata": {},
   "outputs": [
    {
     "data": {
      "text/plain": [
       "[<matplotlib.lines.Line2D at 0x236f267ca90>]"
      ]
     },
     "execution_count": 83,
     "metadata": {},
     "output_type": "execute_result"
    },
    {
     "data": {
      "image/png": "[encoded data removed]",
      "text/plain": [
       "<Figure size 640x480 with 1 Axes>"
      ]
     },
     "metadata": {},
     "output_type": "display_data"
    }
   ],
   "source": [
    "plt.plot(errors[top_mistakes][mask_errors])"
   ]
  },
  {
   "cell_type": "code",
   "execution_count": 84,
   "metadata": {},
   "outputs": [
    {
     "data": {
      "text/plain": [
       "0.7625875240522724"
      ]
     },
     "execution_count": 84,
     "metadata": {},
     "output_type": "execute_result"
    },
    {
     "data": {
      "image/png": "[encoded data removed]",
      "text/plain": [
       "<Figure size 640x480 with 1 Axes>"
      ]
     },
     "metadata": {},
     "output_type": "display_data"
    }
   ],
   "source": [
    "scores_valid = np.array([metrics.r2_score(y_valid[:, i], p_valid[:, i]) for i in range(368)]) \n",
    "scores_valid = np.array([s if w==1 else 1 for s, w in  zip(scores_valid, TARGET_WEIGHTS)])\n",
    "\n",
    "plt.plot(scores_valid.clip(-1, 1))\n",
    "plt.plot(TARGET_WEIGHTS, alpha = 0.5)\n",
    "#(scores_valid.clip(-1, 1) * np.array(TARGET_WEIGHTS)).sum() / np.array(TARGET_WEIGHTS).sum()\n",
    "scores_valid.mean()"
   ]
  },
  {
   "cell_type": "code",
   "execution_count": 85,
   "metadata": {},
   "outputs": [
    {
     "data": {
      "text/plain": [
       "0.7625875240522724"
      ]
     },
     "execution_count": 85,
     "metadata": {},
     "output_type": "execute_result"
    }
   ],
   "source": [
    "np.array([s if w==1 else 1 for s, w in  zip(scores_valid, TARGET_WEIGHTS)]).mean()"
   ]
  },
  {
   "cell_type": "code",
   "execution_count": 86,
   "metadata": {},
   "outputs": [
    {
     "data": {
      "text/plain": [
       "0.9514727094890919"
      ]
     },
     "execution_count": 86,
     "metadata": {},
     "output_type": "execute_result"
    },
    {
     "data": {
      "image/png": "[encoded data removed]",
      "text/plain": [
       "<Figure size 640x480 with 1 Axes>"
      ]
     },
     "metadata": {},
     "output_type": "display_data"
    }
   ],
   "source": [
    "scores_valid = np.array([metrics.mean_absolute_percentage_error(y_valid[:, i], p_valid[:, i]) for i in range(368)]) \n",
    "plt.plot(scores_valid.clip(0, 300))\n",
    "plt.plot(np.array(TARGET_WEIGHTS)*100, alpha = 0.5)\n",
    "(scores_valid.clip(-1, 1) * np.array(TARGET_WEIGHTS)).sum() / np.array(TARGET_WEIGHTS).sum()"
   ]
  },
  {
   "cell_type": "code",
   "execution_count": 87,
   "metadata": {},
   "outputs": [],
   "source": [
    "y_valid_scale = (y_valid - Y_MEAN) / Y_STD\n",
    "p_valid_scale = (p_valid - Y_MEAN) / Y_STD"
   ]
  },
  {
   "cell_type": "code",
   "execution_count": 88,
   "metadata": {},
   "outputs": [
    {
     "data": {
      "text/plain": [
       "array([-3.08779569e-01,  1.52552400e-01,  5.72232280e-02,  4.49270678e-02,\n",
       "        3.93578860e-02,  1.99744045e-02,  2.85058478e-03, -5.27059835e-03,\n",
       "       -3.88012785e-03,  1.93519494e-04, -4.71214969e-03, -8.23894738e-03,\n",
       "       -1.76880147e-02, -2.98304962e-02, -6.08913697e-02, -1.25902384e-01,\n",
       "       -2.49438346e-01, -2.24962701e-01, -8.56690307e-02,  2.13058745e-02,\n",
       "        1.83988270e-02,  1.42112638e-01,  2.22584165e-01,  2.66470359e-01,\n",
       "        2.70781919e-01,  2.34875468e-01,  1.78008659e-01,  1.22583799e-01,\n",
       "        8.12457238e-02,  5.13051001e-02,  3.02964521e-02,  1.47737639e-02,\n",
       "        3.62282542e-03, -3.69449749e-03, -8.43733287e-03, -1.11770437e-02,\n",
       "       -1.17486172e-02, -1.21875878e-02, -1.20421070e-02, -1.04971934e-02,\n",
       "       -8.32924407e-03, -4.90282647e-03, -1.57591609e-04,  5.26801059e-03,\n",
       "        1.05283536e-02,  1.02886655e-02,  2.34385735e-03, -1.20240183e-02,\n",
       "       -2.77307051e-02, -4.23786416e-02, -5.55608756e-02, -6.88860334e-02,\n",
       "       -8.19984522e-02, -8.82465809e-02, -8.05842184e-02, -4.55769926e-02,\n",
       "        2.69366051e-02,  1.77401416e-01,  4.38480461e-01,  6.46154828e-01,\n",
       "        1.75786067e-03,  1.24202399e-03, -1.67383084e-03, -7.98750000e+01,\n",
       "        0.00000000e+00,  0.00000000e+00,  0.00000000e+00,  0.00000000e+00,\n",
       "        0.00000000e+00,  0.00000000e+00,  0.00000000e+00,  0.00000000e+00,\n",
       "       -2.54329109e-03, -8.13132990e-03, -1.58018114e-03, -1.72939395e-03,\n",
       "       -1.21663275e-03,  1.18847720e-02,  1.44958074e-02,  2.88952143e-02,\n",
       "        5.11222051e-02,  7.61070546e-02,  1.00426376e-01,  1.21271621e-01,\n",
       "        1.40312446e-01,  1.55883827e-01,  1.66371323e-01,  1.71547076e-01,\n",
       "        1.71707909e-01,  1.69162915e-01,  1.66993448e-01,  1.63248326e-01,\n",
       "        1.56003614e-01,  1.44676406e-01,  1.30310993e-01,  1.14775893e-01,\n",
       "        9.95721486e-02,  8.52847891e-02,  7.17753717e-02,  5.87550900e-02,\n",
       "        4.57548852e-02,  3.27110553e-02,  1.94246217e-02,  4.75763527e-03,\n",
       "       -8.99257311e-03, -1.89017696e-02, -2.15010165e-02, -1.57761587e-02,\n",
       "       -4.95972562e-03,  1.11494968e-02,  3.48343604e-02,  7.20634827e-02,\n",
       "        1.28443711e-01,  2.00592270e-01,  2.82079523e-01,  3.53466539e-01,\n",
       "        3.99889867e-01,  4.05046450e-01,  3.90301393e-01,  3.53491662e-01,\n",
       "        0.00000000e+00,  0.00000000e+00,  0.00000000e+00,  0.00000000e+00,\n",
       "        0.00000000e+00,  0.00000000e+00,  0.00000000e+00,  0.00000000e+00,\n",
       "        0.00000000e+00,  0.00000000e+00,  0.00000000e+00,  0.00000000e+00,\n",
       "        9.61771562e-02,  7.93841628e-02,  5.85221793e-02,  4.52008880e-04,\n",
       "        7.75595490e-04,  7.21551146e-04,  8.42826967e-04,  1.08705488e-03,\n",
       "        9.46447591e-04,  8.64532254e-04,  8.35761428e-04,  9.16819499e-04,\n",
       "        9.22222955e-04,  5.47988714e-04,  5.16748254e-04,  2.90327156e-03,\n",
       "        4.90427741e-02,  9.47076062e-02,  1.14768593e-01,  8.46004045e-02,\n",
       "        4.37824341e-02,  2.55652683e-02,  1.75292345e-02,  1.09483091e-02,\n",
       "        5.42440414e-03,  2.65579100e-03,  9.12846088e-04, -4.36736225e-04,\n",
       "       -1.54287829e-03, -3.48551952e-03, -4.78116249e-03, -6.30385139e-03,\n",
       "       -8.07149440e-03, -9.68370322e-03, -1.01544054e-02, -1.00287416e-02,\n",
       "       -1.00411267e-02, -1.05136010e-02, -1.30240571e-02, -1.60651048e-02,\n",
       "       -1.84169032e-02, -1.75750849e-02, -1.48058321e-02, -1.04283764e-02,\n",
       "       -6.89896962e-03, -1.46757228e-03,  1.64102757e-02,  2.05497863e-01,\n",
       "        0.00000000e+00,  0.00000000e+00,  0.00000000e+00,  0.00000000e+00,\n",
       "        0.00000000e+00,  0.00000000e+00,  0.00000000e+00,  0.00000000e+00,\n",
       "        0.00000000e+00,  0.00000000e+00,  0.00000000e+00,  0.00000000e+00,\n",
       "        7.53965448e-04,  8.69403337e-04,  1.04678880e-03, -8.20949023e-05,\n",
       "        4.80158602e-05,  7.55748907e-04,  4.18499158e-03,  6.85400036e-03,\n",
       "        1.12991039e-02,  1.50625104e-02,  1.70194095e-02,  1.73627353e-02,\n",
       "        1.80187261e-02,  1.92098682e-02,  1.98245289e-02,  1.80453643e-02,\n",
       "        1.39330945e-02,  6.08467345e-03, -5.52705953e-03, -1.50342104e-02,\n",
       "       -1.84592140e-02, -1.85237580e-02, -1.88284377e-02, -1.99302608e-02,\n",
       "       -1.92655954e-02, -1.66809460e-02, -1.50386340e-02, -1.46313146e-02,\n",
       "       -1.39045258e-02, -1.25846267e-02, -1.12224211e-02, -1.04942791e-02,\n",
       "       -1.01171933e-02, -9.74790424e-03, -9.57797725e-03, -1.12728127e-02,\n",
       "       -1.46577411e-02, -1.92581493e-02, -2.26467250e-02, -2.40960743e-02,\n",
       "       -2.26041478e-02, -1.75835256e-02, -8.75850323e-03,  1.93548976e-03,\n",
       "        1.15299775e-02,  1.69003028e-02,  3.62166963e-02,  1.57832238e-01,\n",
       "        0.00000000e+00,  0.00000000e+00,  0.00000000e+00,  0.00000000e+00,\n",
       "        0.00000000e+00,  0.00000000e+00,  0.00000000e+00,  0.00000000e+00,\n",
       "        0.00000000e+00,  0.00000000e+00,  0.00000000e+00,  0.00000000e+00,\n",
       "       -3.29806026e-02, -9.17788460e-03, -1.47403472e-02, -9.46766576e-03,\n",
       "       -2.16321953e-02, -5.97581912e-02, -8.44487275e-02, -7.88720104e-02,\n",
       "       -4.01850266e-02, -5.84613931e-03,  2.59980555e-02,  5.06287455e-02,\n",
       "        8.33967540e-02,  1.11571642e-01,  1.18487398e-01,  1.14789432e-01,\n",
       "        1.08822883e-01,  1.00855520e-01,  9.40456431e-02,  8.70344518e-02,\n",
       "        7.53519710e-02,  6.00055669e-02,  4.68171369e-02,  3.97054327e-02,\n",
       "        3.97381270e-02,  4.28801526e-02,  4.53472532e-02,  5.10332254e-02,\n",
       "        6.13790693e-02,  7.75669582e-02,  9.83635263e-02,  1.23096561e-01,\n",
       "        1.49120729e-01,  1.67479222e-01,  1.67285742e-01,  1.43571428e-01,\n",
       "        9.88291790e-02,  3.50889214e-02, -3.76220691e-02, -1.07132203e-01,\n",
       "       -1.63675419e-01, -2.00272505e-01, -1.94326942e-01, -1.65171193e-01,\n",
       "       -1.58502003e-01, -1.76365585e-01, -1.68331917e-01, -1.48677082e-01,\n",
       "        0.00000000e+00,  0.00000000e+00,  0.00000000e+00,  0.00000000e+00,\n",
       "        0.00000000e+00,  0.00000000e+00,  0.00000000e+00,  0.00000000e+00,\n",
       "        0.00000000e+00,  0.00000000e+00,  0.00000000e+00,  0.00000000e+00,\n",
       "       -1.31854343e-03, -1.14902467e-04, -1.80056152e-03, -6.45791114e-03,\n",
       "       -1.90353497e-03,  7.34613901e-03,  2.99580902e-03, -1.54307648e-02,\n",
       "       -2.26780462e-02, -2.60941248e-02, -1.89081142e-02, -6.56675069e-03,\n",
       "       -2.42819864e-03,  5.84190717e-03,  4.44161528e-03,  6.15331612e-03,\n",
       "        3.22117464e-03, -7.19072899e-04, -2.64461497e-03, -4.70277245e-03,\n",
       "       -6.88445233e-03, -9.77775459e-03, -9.16469829e-03, -5.74509925e-03,\n",
       "        2.64359990e-03,  1.51645080e-02,  2.49906757e-02,  2.81848454e-02,\n",
       "        2.55745883e-02,  1.65094214e-02,  2.71668783e-03, -1.32789709e-02,\n",
       "       -2.74480524e-02, -3.79353929e-02, -4.31921734e-02, -4.12451211e-02,\n",
       "       -3.31222664e-02, -2.04223340e-02, -6.20535829e-03,  7.50207140e-03,\n",
       "        2.39369312e-02,  3.40083105e-02,  3.56502270e-02,  3.32587310e-02,\n",
       "        1.66258656e-02, -2.39388657e-02, -5.91561089e-02, -2.07492644e-02,\n",
       "        0.00000000e+00,  1.60888664e+02,  0.00000000e+00,  0.00000000e+00,\n",
       "        0.00000000e+00,  0.00000000e+00,  0.00000000e+00,  0.00000000e+00])"
      ]
     },
     "execution_count": 88,
     "metadata": {},
     "output_type": "execute_result"
    }
   ],
   "source": [
    "y_valid_scale.min(0)"
   ]
  },
  {
   "cell_type": "code",
   "execution_count": 89,
   "metadata": {},
   "outputs": [
    {
     "data": {
      "text/plain": [
       "array([  0.        , 160.88866423,   0.        ,   0.        ,\n",
       "         0.        ,   0.        ,   0.        ,   0.        ])"
      ]
     },
     "execution_count": 89,
     "metadata": {},
     "output_type": "execute_result"
    }
   ],
   "source": [
    "y_valid_scale[:,-8:].min(0)"
   ]
  },
  {
   "cell_type": "code",
   "execution_count": 90,
   "metadata": {},
   "outputs": [
    {
     "data": {
      "text/plain": [
       "0"
      ]
     },
     "execution_count": 90,
     "metadata": {},
     "output_type": "execute_result"
    }
   ],
   "source": [
    "(y_valid_scale[:,-1:] < -0.4992).sum()"
   ]
  },
  {
   "cell_type": "code",
   "execution_count": 91,
   "metadata": {},
   "outputs": [
    {
     "data": {
      "text/plain": [
       "(325000, 368)"
      ]
     },
     "execution_count": 91,
     "metadata": {},
     "output_type": "execute_result"
    }
   ],
   "source": [
    "y_valid_scale.shape"
   ]
  },
  {
   "cell_type": "code",
   "execution_count": 92,
   "metadata": {},
   "outputs": [
    {
     "data": {
      "text/plain": [
       "0.9514727094890919"
      ]
     },
     "execution_count": 92,
     "metadata": {},
     "output_type": "execute_result"
    },
    {
     "data": {
      "image/png": "[encoded data removed]",
      "text/plain": [
       "<Figure size 640x480 with 1 Axes>"
      ]
     },
     "metadata": {},
     "output_type": "display_data"
    }
   ],
   "source": [
    "mse_valid = nn.MSELoss(reduction='none')(torch.tensor(y_valid), torch.tensor(p_valid)).mean(0).numpy()\n",
    "\n",
    "plt.plot(mse_valid.clip(0, 1))\n",
    "plt.plot(TARGET_WEIGHTS, alpha = 0.5)\n",
    "(scores_valid.clip(0, 1) * np.array(TARGET_WEIGHTS)).sum() / np.array(TARGET_WEIGHTS).sum()"
   ]
  },
  {
   "cell_type": "code",
   "execution_count": 93,
   "metadata": {},
   "outputs": [
    {
     "data": {
      "text/plain": [
       "array([0.00000000e+00, 0.00000000e+00, 0.00000000e+00, 0.00000000e+00,\n",
       "       0.00000000e+00, 0.00000000e+00, 0.00000000e+00, 0.00000000e+00,\n",
       "       5.66294968e-25, 3.17977259e-17, 2.44081176e-14, 1.70555607e-11,\n",
       "       3.44128854e-08, 9.14033284e-04, 1.11758168e-02, 2.11593922e-02,\n",
       "       2.75839735e-02, 3.42393884e-02, 3.70014051e-02, 4.37136642e-02,\n",
       "       5.04266138e-02, 5.44295172e-02, 6.08610271e-02, 6.28839402e-02,\n",
       "       7.59238731e-02, 7.59694537e-02, 7.61379471e-02, 7.98030645e-02,\n",
       "       8.22248680e-02, 8.26068022e-02, 8.38316992e-02, 8.76432191e-02,\n",
       "       8.99233300e-02, 9.07181110e-02, 9.09769096e-02, 9.37459363e-02,\n",
       "       9.71697112e-02, 9.77938171e-02, 1.00677443e-01, 1.02204885e-01,\n",
       "       1.03486797e-01, 1.05167025e-01, 1.09557154e-01, 1.19312034e-01,\n",
       "       1.21230341e-01, 1.25039269e-01, 1.25739167e-01, 1.26603762e-01,\n",
       "       1.27812024e-01, 1.29410768e-01, 1.34840395e-01, 1.35830157e-01,\n",
       "       1.38107414e-01, 1.43352942e-01, 1.43733074e-01, 1.44257889e-01,\n",
       "       1.44903914e-01, 1.45371717e-01, 1.45667548e-01, 1.51336965e-01,\n",
       "       1.52460855e-01, 1.52908042e-01, 1.66285042e-01, 1.68183565e-01,\n",
       "       1.74876497e-01, 1.78250498e-01, 1.83177352e-01, 1.91840475e-01,\n",
       "       1.95348302e-01, 1.99229443e-01, 2.01081366e-01, 2.02122072e-01,\n",
       "       2.02579850e-01, 2.06202602e-01, 2.09146995e-01, 2.14347842e-01,\n",
       "       2.25626627e-01, 2.27906271e-01, 2.44393563e-01, 2.59442756e-01,\n",
       "       2.60485087e-01, 2.60523962e-01, 2.64622553e-01, 2.77631780e-01,\n",
       "       2.78116799e-01, 3.14163296e-01, 5.45550830e-01, 7.05338268e-01,\n",
       "       1.39930056e+00, 1.59019084e+00, 1.60962968e+00, 1.66264542e+00,\n",
       "       1.69510032e+00, 1.71626205e+00, 1.72027743e+00, 1.72600752e+00,\n",
       "       1.77138383e+00, 1.87639443e+00, 1.92315576e+00, 1.94987335e+00,\n",
       "       2.01478867e+00, 2.06873393e+00, 2.08596171e+00, 2.12188750e+00,\n",
       "       2.21898257e+00, 2.22626738e+00, 2.22743936e+00, 2.31153948e+00,\n",
       "       2.38095449e+00, 2.49847178e+00, 2.61776628e+00, 2.64489810e+00,\n",
       "       2.64920988e+00, 2.74024113e+00, 2.76176520e+00, 3.04354435e+00,\n",
       "       3.08781224e+00, 3.18327452e+00, 3.21169977e+00, 3.23258771e+00,\n",
       "       3.31853528e+00, 3.34072032e+00, 3.41114572e+00, 3.44636748e+00,\n",
       "       3.59537727e+00, 3.59695146e+00, 3.61038025e+00, 3.62157161e+00,\n",
       "       3.63344141e+00, 3.68590986e+00, 3.70370259e+00, 3.72991513e+00,\n",
       "       3.76414818e+00, 3.76906112e+00, 3.77796294e+00, 3.77842243e+00,\n",
       "       3.83507799e+00, 3.85921714e+00, 3.87498101e+00, 3.92296827e+00,\n",
       "       4.04900198e+00, 4.16618704e+00, 4.29055114e+00, 4.44336534e+00,\n",
       "       4.58460948e+00, 4.67673497e+00, 4.76586274e+00, 5.00734266e+00,\n",
       "       5.28065796e+00, 5.77636673e+00, 5.78376967e+00, 5.79329885e+00,\n",
       "       6.12517600e+00, 6.57088335e+00, 6.62258006e+00, 6.80767341e+00,\n",
       "       6.87053400e+00, 6.93896204e+00, 7.01651963e+00, 7.18714383e+00,\n",
       "       7.53449285e+00, 8.43331410e+00, 8.51554121e+00, 1.07348849e+01,\n",
       "       1.12483235e+01, 1.31654290e+01, 1.35431872e+01, 1.48372720e+01,\n",
       "       1.54300291e+01, 1.64906609e+01, 1.70042515e+01, 1.71609070e+01,\n",
       "       1.83484798e+01, 1.94343996e+01, 2.27484064e+01, 2.68110370e+01,\n",
       "       2.71225715e+01, 2.74642553e+01, 2.75105411e+01, 2.82070976e+01,\n",
       "       2.88322132e+01, 2.88986298e+01, 2.91422324e+01, 2.92827058e+01,\n",
       "       2.94117048e+01, 2.94473536e+01, 2.96754761e+01, 3.08238273e+01,\n",
       "       3.08556952e+01, 3.09692145e+01, 3.19213196e+01, 3.20213002e+01,\n",
       "       3.20388432e+01, 3.22187626e+01, 3.32543640e+01, 3.38321132e+01,\n",
       "       3.41168266e+01, 3.42559715e+01, 3.49385564e+01, 3.59068800e+01,\n",
       "       3.59476622e+01, 3.61405762e+01, 3.86439757e+01, 3.94920611e+01,\n",
       "       3.98126668e+01, 4.09550225e+01, 4.16890601e+01, 4.20836663e+01,\n",
       "       4.34125714e+01, 4.65999546e+01, 4.78462103e+01, 4.83384148e+01,\n",
       "       4.97295217e+01, 4.97552602e+01, 5.07413401e+01, 5.12015760e+01,\n",
       "       5.32925044e+01, 5.71052160e+01, 5.74692671e+01, 5.97904468e+01,\n",
       "       6.00866432e+01, 6.05881053e+01, 6.71125514e+01, 6.72468447e+01,\n",
       "       6.80716194e+01, 7.14640626e+01, 7.62963360e+01, 7.69763646e+01,\n",
       "       8.13732131e+01, 8.50861578e+01, 8.78406067e+01, 9.34073655e+01,\n",
       "       1.09399069e+02, 1.09828220e+02, 1.12809406e+02, 1.13203380e+02,\n",
       "       1.13295241e+02, 1.13990511e+02, 1.19197145e+02, 1.20053700e+02,\n",
       "       1.23305133e+02, 1.23654689e+02, 1.25584961e+02, 1.28138550e+02,\n",
       "       1.28239147e+02, 1.29522487e+02, 1.35861624e+02, 1.38529799e+02,\n",
       "       1.39224185e+02, 1.42896172e+02, 1.46733846e+02, 1.48177869e+02,\n",
       "       1.60519479e+02, 1.62853111e+02, 1.65535048e+02, 1.68124114e+02,\n",
       "       1.70639916e+02, 1.70956365e+02, 1.71578572e+02, 1.72114164e+02,\n",
       "       1.72557591e+02, 1.83389319e+02, 1.87250832e+02, 1.90097501e+02,\n",
       "       1.91462985e+02, 1.92448207e+02, 1.93356227e+02, 1.94233121e+02,\n",
       "       1.94948983e+02, 1.97602202e+02, 1.97876331e+02, 1.98595280e+02,\n",
       "       2.08142423e+02, 2.14110779e+02, 2.14973727e+02, 2.15050359e+02,\n",
       "       2.15685221e+02, 2.21452424e+02, 2.39119881e+02, 2.43598738e+02,\n",
       "       2.48182684e+02, 2.53897437e+02, 2.59504327e+02, 2.71369827e+02,\n",
       "       2.81435601e+02, 2.83769283e+02, 2.85725927e+02, 2.97951944e+02,\n",
       "       3.22787506e+02, 3.24550967e+02, 3.25280322e+02, 3.25299578e+02,\n",
       "       3.26659996e+02, 3.27509865e+02, 3.28382349e+02, 3.29946911e+02,\n",
       "       3.37133168e+02, 3.43048315e+02, 3.63587678e+02, 3.89566368e+02,\n",
       "       3.92967194e+02, 3.95706537e+02, 3.96442777e+02, 4.04317684e+02,\n",
       "       4.13625428e+02, 4.47987227e+02, 4.53321246e+02, 4.63113186e+02,\n",
       "       4.70837753e+02, 4.79642197e+02, 4.82704070e+02, 4.93060167e+02,\n",
       "       4.93600027e+02, 5.06644073e+02, 5.29921891e+02, 5.69785019e+02,\n",
       "       5.75012211e+02, 5.77574341e+02, 5.92307711e+02, 5.98977762e+02,\n",
       "       6.08061447e+02, 6.27840933e+02, 6.77217166e+02, 6.78488365e+02,\n",
       "       6.98659143e+02, 7.05641312e+02, 7.09187804e+02, 7.79566499e+02,\n",
       "       7.92795829e+02, 8.24952587e+02, 8.42306662e+02, 9.77604394e+02,\n",
       "       1.02431411e+03, 1.16596539e+03, 1.18193003e+03, 1.18624018e+03,\n",
       "       1.31858606e+03, 1.54519264e+03, 1.72987701e+03, 1.82167081e+03,\n",
       "       1.91890478e+03, 1.97846679e+03, 2.13325290e+03, 2.13717711e+03,\n",
       "       2.73302245e+03, 3.05635408e+03, 3.77533894e+03, 3.80076785e+03,\n",
       "       4.03999697e+03, 4.09309595e+03, 4.22520159e+03, 4.37138446e+03,\n",
       "       4.52219627e+03, 5.28535995e+03, 6.68609011e+03, 6.78617917e+03,\n",
       "       8.90717940e+03, 1.14698358e+04, 1.28602817e+04, 1.89454427e+04,\n",
       "       2.85121006e+04, 3.49715509e+04, 2.30246755e+05, 3.56542400e+11,\n",
       "       1.20230150e+12, 1.61034788e+12, 1.67727938e+12, 3.04534445e+12])"
      ]
     },
     "execution_count": 93,
     "metadata": {},
     "output_type": "execute_result"
    }
   ],
   "source": [
    "scores_valid[scores_valid.argsort()]"
   ]
  },
  {
   "cell_type": "code",
   "execution_count": 94,
   "metadata": {},
   "outputs": [
    {
     "data": {
      "text/plain": [
       "array([0.00000000e+00, 0.00000000e+00, 0.00000000e+00, 0.00000000e+00,\n",
       "       0.00000000e+00, 0.00000000e+00, 0.00000000e+00, 0.00000000e+00,\n",
       "       5.66294968e-25, 3.17977259e-17, 2.44081176e-14, 1.70555607e-11,\n",
       "       3.44128854e-08, 9.14033284e-04, 1.11758168e-02, 2.11593922e-02,\n",
       "       2.75839735e-02, 3.42393884e-02, 3.70014051e-02, 4.37136642e-02,\n",
       "       5.04266138e-02, 5.44295172e-02, 6.08610271e-02, 6.28839402e-02,\n",
       "       7.59238731e-02, 7.59694537e-02, 7.61379471e-02, 7.98030645e-02,\n",
       "       8.22248680e-02, 8.26068022e-02, 8.38316992e-02, 8.76432191e-02,\n",
       "       8.99233300e-02, 9.07181110e-02, 9.09769096e-02, 9.37459363e-02,\n",
       "       9.71697112e-02, 9.77938171e-02, 1.00677443e-01, 1.02204885e-01,\n",
       "       1.03486797e-01, 1.05167025e-01, 1.09557154e-01, 1.19312034e-01,\n",
       "       1.21230341e-01, 1.25039269e-01, 1.25739167e-01, 1.26603762e-01,\n",
       "       1.27812024e-01, 1.29410768e-01])"
      ]
     },
     "execution_count": 94,
     "metadata": {},
     "output_type": "execute_result"
    }
   ],
   "source": [
    "np.array(scores_valid)[scores_valid.argsort()[:50]]"
   ]
  },
  {
   "cell_type": "code",
   "execution_count": 95,
   "metadata": {},
   "outputs": [],
   "source": [
    "#50 worst features\n",
    "\n",
    "worst_scores = torch.tensor([110, 109, 108, 111, 107, 112, 106, 104, 171, 103, 105, 102, 172,\n",
    "       170, 165, 166, 164, 152, 169, 167, 113, 173, 168, 101, 162, 163,\n",
    "       161, 100, 159, 157, 160, 158, 114, 156,  99, 155, 153, 154, 151,\n",
    "       174, 115,  19, 225,  98, 224,  50, 207,  51,  52,  49])"
   ]
  },
  {
   "cell_type": "code",
   "execution_count": 96,
   "metadata": {},
   "outputs": [
    {
     "data": {
      "text/plain": [
       "array(['state_q0002_20', 'state_q0002_13', 'state_q0002_14',\n",
       "       'state_q0002_15', 'state_q0002_16', 'state_q0002_17',\n",
       "       'state_q0002_18', 'state_q0002_19', 'state_q0002_12',\n",
       "       'state_q0002_21', 'state_q0002_22', 'state_q0002_23',\n",
       "       'state_q0002_24', 'state_q0002_25', 'state_q0003_11',\n",
       "       'state_q0003_10', 'state_q0003_0', 'state_q0003_9', 'pbuf_SOLIN',\n",
       "       'state_q0003_3', 'state_q0003_4', 'state_u_6', 'state_q0001_11',\n",
       "       'state_u_7', 'state_q0003_1', 'state_t_5', 'state_q0001_10',\n",
       "       'state_q0003_6', 'state_q0001_5', 'state_u_8', 'state_t_4',\n",
       "       'state_u_5', 'state_q0003_5', 'state_q0002_1', 'state_u_11',\n",
       "       'state_t_3', 'state_q0002_3', 'state_q0002_2', 'state_v_9',\n",
       "       'state_t_6', 'state_t_8', 'state_q0003_8', 'state_q0003_7',\n",
       "       'state_t_2', 'state_v_0', 'state_v_11', 'state_q0003_2',\n",
       "       'state_q0002_4', 'state_v_7', 'state_u_4'], dtype='<U16')"
      ]
     },
     "execution_count": 96,
     "metadata": {},
     "output_type": "execute_result"
    }
   ],
   "source": [
    "np.array(FEATURE_NAMES)[scores_valid.argsort()[:50]]"
   ]
  },
  {
   "cell_type": "code",
   "execution_count": 97,
   "metadata": {},
   "outputs": [
    {
     "data": {
      "text/plain": [
       "array([0.00000000e+00, 0.00000000e+00, 0.00000000e+00, 0.00000000e+00,\n",
       "       0.00000000e+00, 0.00000000e+00, 0.00000000e+00, 0.00000000e+00,\n",
       "       1.11371335e-79, 4.35690214e-64, 1.99604623e-58, 7.77259507e-53,\n",
       "       1.77241664e-46, 9.16830813e-38, 2.81734953e-33, 1.26765905e-33,\n",
       "       1.95215571e-34, 5.53527010e-34, 2.03487416e+02, 2.09862335e-34,\n",
       "       2.03399301e-34, 2.38652410e-34, 3.34804961e-33, 2.97055400e-34,\n",
       "       6.69234311e-34, 1.03253700e-11, 1.67672527e-33, 6.35927824e-34,\n",
       "       4.81426845e-34, 5.20677282e-34, 7.97790081e-12, 6.99072056e-34,\n",
       "       6.50062228e-34, 8.20435693e-34, 2.56598995e-33, 6.56401593e-12,\n",
       "       9.53959143e-34, 9.50828829e-34, 8.88016620e-34, 8.56551707e-12,\n",
       "       3.44240761e-12, 1.03343907e-33, 1.07644842e-33, 1.12793546e-11,\n",
       "       1.32207524e-33, 2.57978768e-33, 1.54097905e-33, 1.51006509e-33,\n",
       "       1.43113853e-33, 1.17418055e-33, 1.77371511e-33, 1.56001682e-33,\n",
       "       1.07566291e-33, 1.22836884e-12, 1.66465329e-33, 2.12062055e-33,\n",
       "       1.53939414e-33, 1.67904077e-33, 5.83115104e-12, 1.94459293e-33,\n",
       "       1.31447010e-33, 2.77614324e-33, 1.98932259e-33, 2.78212730e-12,\n",
       "       1.81785612e-33, 1.72525087e-12, 2.08769553e-33, 2.89297862e-33,\n",
       "       2.16287577e-12, 2.10483433e-33, 2.15828759e-33, 3.35616103e-33,\n",
       "       3.23763333e-33, 3.15581505e-33, 2.80787616e-33, 1.18048954e-11,\n",
       "       4.69351677e-33, 3.00081587e-33, 6.86971572e-33, 8.69592916e-33,\n",
       "       4.09898121e-33, 6.56811762e-33, 6.90871089e-33, 5.74254818e-13,\n",
       "       8.62933540e-13, 1.27678173e-11, 7.67668268e-13, 2.44011960e-12,\n",
       "       1.24386257e-09, 2.18241036e-10, 1.73197874e-10, 1.58823046e-10,\n",
       "       1.23576944e-10, 1.35454283e-10, 4.31799872e-10, 2.85604892e-10,\n",
       "       4.99333646e-10, 6.82901624e-10, 2.15550860e-11, 3.75152496e-10,\n",
       "       5.88683952e-10, 1.78822854e-26, 1.00940284e-10, 3.29399645e-10,\n",
       "       1.76686720e-26, 1.11511971e-10, 7.78252961e-10, 7.21602068e-11,\n",
       "       9.90892288e-10, 1.09582253e-09, 1.10546212e-09, 2.40494479e-26,\n",
       "       1.95277510e-10, 8.86525005e-10, 1.03323493e-10, 1.54656637e-09,\n",
       "       1.72639806e-09, 1.70027016e-15, 1.21830948e-09, 1.04188897e-09,\n",
       "       1.64889567e-09, 1.34105242e-09, 1.11451871e-09, 1.67557409e-09,\n",
       "       1.05062452e-10, 1.42862224e-16, 1.69941385e-09, 1.89755409e-15,\n",
       "       1.46475274e-09, 2.05850602e-15, 7.81134712e-16, 1.32391207e-09,\n",
       "       3.55135069e-16, 1.72815170e-09, 1.45969051e-15, 1.44791878e-09,\n",
       "       2.15102901e-15, 2.67248892e-16, 5.05553641e-17, 7.39646252e-16,\n",
       "       2.20218894e-15, 1.94687428e-16, 1.62714136e-09, 1.01187253e-16,\n",
       "       6.17012737e-16, 2.20203979e-15, 1.69861771e-17, 1.05079819e-09,\n",
       "       1.21599799e-09, 1.02567204e-17, 1.96077523e-29, 1.62771277e-15,\n",
       "       1.84494205e-15, 1.41413865e-15, 1.43029067e-18, 2.51943606e-17,\n",
       "       9.27531002e-16, 5.73992114e-16, 1.18735304e-15, 2.10362863e-15,\n",
       "       1.19031397e-15, 2.18878190e-15, 9.70794927e-16, 1.63947628e-19,\n",
       "       2.48282460e-10, 1.22650608e-10, 1.01915146e-10, 1.17005837e-28,\n",
       "       1.11864983e-10, 6.11704366e-18, 4.00646901e-11, 6.59372088e-11,\n",
       "       1.18389763e-10, 1.51926929e-28, 5.26858232e-11, 5.25877694e-11,\n",
       "       1.37601928e-10, 1.34327995e-10, 3.50279164e-17, 1.55115242e-10,\n",
       "       7.15236008e-11, 1.24888050e-10, 3.94526251e-21, 1.30679488e-20,\n",
       "       5.24717109e-19, 1.45603792e-10, 1.29354677e-10, 4.92940833e-11,\n",
       "       9.22680987e-11, 1.22917480e-10, 7.19685177e-11, 4.74820091e-11,\n",
       "       4.37454960e-26, 1.28532045e-10, 4.41129209e-28, 4.29934604e-11,\n",
       "       1.55219366e-09, 1.41011789e-22, 5.79210320e-11, 8.01196527e-19,\n",
       "       2.83041778e-27, 5.69316753e-11, 4.34101345e-11, 1.24087507e-10,\n",
       "       5.44124982e-11, 3.14999655e-26, 8.30593025e-11, 4.09515637e-11,\n",
       "       7.92102060e-22, 1.98870568e-15, 8.19367290e-11, 4.98299303e-11,\n",
       "       6.92339088e-12, 5.92849338e-11, 4.76211913e-16, 5.48096187e-11,\n",
       "       4.61539337e-20, 7.54993939e-11, 2.27278267e-11, 1.26319428e-10,\n",
       "       4.12764651e-11, 2.61648620e-11, 6.01343082e-11, 9.18957972e-11,\n",
       "       8.17331342e-11, 7.94494624e-11, 6.10739836e-28, 5.45010650e-18,\n",
       "       1.44086769e-22, 1.26818146e-10, 4.25051327e-11, 4.32052985e-24,\n",
       "       5.29138786e-11, 3.10802450e-11, 4.39162227e-11, 1.46562291e-11,\n",
       "       1.23894200e-17, 4.36340188e-11, 1.67079250e-11, 8.02115911e-18,\n",
       "       5.72900112e-11, 2.18266666e-11, 4.25150705e-15, 4.16787904e-11,\n",
       "       4.73615079e-11, 3.76051172e-11, 5.01086606e-11, 1.24840648e-10,\n",
       "       1.47333856e-12, 1.72925210e-19, 1.59748976e-22, 7.59536407e-17,\n",
       "       4.60187318e-17, 2.53823074e-17, 5.77242430e-11, 2.02193295e-17,\n",
       "       4.66815730e-18, 3.41583209e-18, 5.93625778e-12, 6.09644487e-19,\n",
       "       8.18470097e-11, 1.86760362e-11, 4.71940198e-19, 1.30631101e-10,\n",
       "       2.01420641e-20, 2.82618799e-18, 1.78781503e-18, 2.27352445e-22,\n",
       "       7.15403239e-17, 3.35756134e-13, 1.81317612e-18, 1.25540365e-19,\n",
       "       4.12575227e-11, 1.63318486e-19, 1.63359603e-17, 6.62359545e-18,\n",
       "       1.62694198e-18, 3.29425099e-18, 6.49248158e-11, 5.58278762e-11,\n",
       "       3.51360710e-18, 7.95553588e-11, 1.92768234e-18, 1.51695922e-17,\n",
       "       1.95730737e-17, 3.61551639e-18, 2.26153563e-18, 1.22570894e-17,\n",
       "       3.48221909e-11, 4.04712288e-11, 1.98213479e-17, 1.34601702e-11,\n",
       "       7.51351935e-11, 3.25592119e-18, 4.14185784e-11, 7.55565832e-17,\n",
       "       9.38915543e-19, 1.87204753e-14, 1.62294639e-17, 8.27784525e-18,\n",
       "       6.56792815e-17, 7.66303545e-19, 7.06654399e-19, 1.40517834e-11,\n",
       "       2.20740295e-13, 9.36895892e-14, 3.81090706e-18, 5.15860165e-11,\n",
       "       1.73312676e-17, 1.87958430e-17, 7.27328344e-17, 7.25930427e-17,\n",
       "       1.90987791e-17, 1.36035761e-18, 5.59613141e-18, 6.53984569e-18,\n",
       "       2.14092439e-19, 1.13065853e-18, 7.56104432e-11, 7.73692146e-11,\n",
       "       5.61606133e-17, 5.86227390e-11, 1.00722787e-17, 1.15040926e-19,\n",
       "       1.38680909e-11, 9.63506797e-18, 4.19235284e-18, 3.53263989e-17,\n",
       "       1.31295393e-12, 1.35956751e-11, 2.59509758e-11, 1.03757325e-18,\n",
       "       2.34036708e-22, 9.11297644e-21, 2.35219497e-17, 3.04473391e-18,\n",
       "       3.27425788e-11, 2.54354478e-18, 1.99872587e-18, 6.51443500e-17,\n",
       "       1.28866687e-11, 4.59975969e-17, 3.98238047e-14, 1.82125417e-11,\n",
       "       2.69872271e-19, 3.61917533e-19, 3.25766123e-18, 5.25852160e-11,\n",
       "       1.44833518e-15, 1.10104530e-17, 4.13187072e-17, 5.26417006e-18,\n",
       "       3.12879010e-18, 2.73140645e-19, 3.02411506e-17, 6.78317627e-11,\n",
       "       1.58967240e-11, 5.86379925e-17, 5.20855165e-17, 1.66743171e-17,\n",
       "       3.67915301e-17, 6.14663491e-16, 7.85343704e-15, 2.16830983e+02,\n",
       "       7.25740198e+02, 7.64621116e+01, 3.79530513e+02, 6.13013419e+01])"
      ]
     },
     "execution_count": 97,
     "metadata": {},
     "output_type": "execute_result"
    }
   ],
   "source": [
    "mse_valid[scores_valid.argsort()]"
   ]
  },
  {
   "cell_type": "code",
   "execution_count": 98,
   "metadata": {},
   "outputs": [
    {
     "data": {
      "text/plain": [
       "0.9514727094890919"
      ]
     },
     "execution_count": 98,
     "metadata": {},
     "output_type": "execute_result"
    },
    {
     "data": {
      "image/png": "[encoded data removed]",
      "text/plain": [
       "<Figure size 640x480 with 1 Axes>"
      ]
     },
     "metadata": {},
     "output_type": "display_data"
    }
   ],
   "source": [
    "mse_valid = nn.MSELoss(reduction='none')(torch.tensor(y_valid_scale), torch.tensor(p_valid_scale)).mean(0).numpy()\n",
    "\n",
    "plt.plot(mse_valid.clip(0, 1))\n",
    "plt.plot(TARGET_WEIGHTS, alpha = 0.5)\n",
    "(scores_valid.clip(0, 1) * np.array(TARGET_WEIGHTS)).sum() / np.array(TARGET_WEIGHTS).sum()"
   ]
  },
  {
   "cell_type": "code",
   "execution_count": 99,
   "metadata": {},
   "outputs": [
    {
     "data": {
      "text/plain": [
       "array([1.11068376e-10, 5.83175045e-11, 4.01180049e-11, 1.37949077e-11,\n",
       "       9.53855184e-12, 8.48149453e-12, 8.00251980e-12, 9.39472387e-12,\n",
       "       1.36303243e-11, 1.85787042e-11, 2.48600116e-13, 3.36129519e-13,\n",
       "       4.39796217e-13, 5.44768125e-13, 6.60609235e-13, 1.39459040e-12,\n",
       "       5.11281546e-12, 3.39756448e-09, 6.02790326e-09, 5.45457832e-09,\n",
       "       4.64217517e-09, 3.90611806e-09, 3.38443181e-09, 2.80084063e-09,\n",
       "       2.31583012e-09, 2.03879928e-09, 1.65884881e-09, 1.38916782e-09,\n",
       "       1.17731237e-09, 1.03567642e-09, 9.64109154e-10, 9.64013848e-10,\n",
       "       1.00088073e-09, 1.08524484e-09, 1.21146871e-09, 1.41306347e-09,\n",
       "       1.66339110e-09, 1.94088907e-09, 2.26062253e-09, 2.57679878e-09,\n",
       "       2.92141610e-09, 3.25753702e-09, 3.60394667e-09, 3.90224584e-09,\n",
       "       4.08670011e-09, 4.32189783e-09, 4.53603978e-09, 4.78080672e-09,\n",
       "       4.99202351e-09, 5.07996928e-09, 5.20061675e-09, 5.22842803e-09,\n",
       "       5.20838212e-09, 5.09678462e-09, 5.03941245e-09, 4.88843892e-09,\n",
       "       4.71482886e-09, 4.48214385e-09, 3.33518297e-09, 1.35084455e-09,\n",
       "       1.02570514e-26, 4.51191058e-27, 6.17671543e-27, 6.75222208e-01,\n",
       "       1.07566291e-01, 4.81426845e-02, 2.15828759e-01, 2.10483433e-01,\n",
       "       1.31447010e-01, 1.81785612e-01, 1.67672527e-01, 3.34804961e-01,\n",
       "       2.37114271e-24, 5.09454598e-24, 9.25688357e-24, 2.84824805e-21,\n",
       "       1.76601204e-21, 3.02217538e-21, 4.81648046e-21, 5.04878099e-19,\n",
       "       3.78158837e-19, 2.74193493e-17, 2.07244579e-17, 1.73050926e-17,\n",
       "       1.52517020e-17, 1.36664019e-17, 1.24166579e-15, 1.20201478e-15,\n",
       "       1.29613291e-15, 1.33250001e-15, 1.37730107e-15, 1.61211380e-15,\n",
       "       1.95748710e-15, 2.44080388e-15, 3.04034141e-15, 3.57657271e-15,\n",
       "       4.17201427e-15, 4.64622755e-15, 5.17300236e-15, 5.47988809e-15,\n",
       "       5.66857080e-15, 5.77477294e-15, 5.89710955e-15, 5.96953768e-15,\n",
       "       6.00795387e-15, 6.08561672e-15, 6.08530693e-15, 6.19626522e-15,\n",
       "       6.32429836e-15, 6.35676245e-15, 6.41384797e-15, 6.34666210e-15,\n",
       "       6.15789142e-15, 5.73862465e-15, 5.26318601e-15, 4.80350190e-15,\n",
       "       4.19135975e-15, 3.91277366e-15, 3.44077067e-15, 3.44715027e-15,\n",
       "       1.77371511e-01, 8.20435693e-02, 9.50828829e-02, 9.53959143e-02,\n",
       "       1.51006509e-01, 2.12062055e-01, 2.77614324e-01, 4.69351677e-01,\n",
       "       6.90871089e-01, 6.56811762e-01, 6.86971572e-01, 8.69592916e-01,\n",
       "       0.00000000e+00, 0.00000000e+00, 0.00000000e+00, 0.00000000e+00,\n",
       "       0.00000000e+00, 0.00000000e+00, 0.00000000e+00, 0.00000000e+00,\n",
       "       0.00000000e+00, 0.00000000e+00, 0.00000000e+00, 0.00000000e+00,\n",
       "       0.00000000e+00, 9.04226424e-43, 8.20847174e-35, 3.86889742e-26,\n",
       "       4.67777522e-20, 1.78591053e-17, 3.49376173e-17, 5.47630724e-17,\n",
       "       5.66566951e-17, 5.37680947e-17, 5.38996342e-17, 5.45516477e-17,\n",
       "       5.46313644e-17, 5.62242878e-17, 5.76657950e-17, 5.89748697e-15,\n",
       "       5.74990116e-15, 5.66803168e-15, 5.76322113e-15, 5.88370885e-15,\n",
       "       5.99915815e-15, 6.08422650e-15, 5.96871947e-15, 5.99478832e-15,\n",
       "       6.06480485e-17, 6.07697518e-17, 6.13332047e-17, 6.17911645e-17,\n",
       "       6.14764097e-17, 6.05606519e-17, 5.48159187e-17, 4.46920852e-17,\n",
       "       3.42840203e-17, 2.23418024e-17, 1.39565861e-17, 1.05933495e-17,\n",
       "       1.95215571e-02, 6.69234311e-02, 1.54097905e-01, 2.09862335e-02,\n",
       "       2.03399301e-02, 6.50062228e-02, 6.35927824e-02, 1.07644842e-01,\n",
       "       1.03343907e-01, 5.53527010e-02, 1.26765905e-01, 2.81734953e-01,\n",
       "       1.83574069e-24, 2.41654473e-24, 2.86080219e-24, 7.47301833e-22,\n",
       "       9.01510532e-20, 3.18472405e-17, 5.48523829e-17, 2.94234195e-15,\n",
       "       2.87987913e-15, 2.83968469e-15, 3.11823888e-15, 3.71446112e-15,\n",
       "       4.17288630e-15, 4.42314056e-15, 4.66954636e-15, 4.63931809e-15,\n",
       "       4.63423351e-15, 4.50959849e-15, 4.15032878e-15, 4.04506856e-15,\n",
       "       4.01052222e-17, 4.03471942e-17, 4.02542695e-17, 3.84816352e-17,\n",
       "       3.75843850e-17, 3.77034822e-17, 3.91181627e-17, 4.08532579e-17,\n",
       "       4.31205591e-17, 4.60661493e-17, 4.83428938e-17, 5.07436662e-17,\n",
       "       5.17043884e-17, 5.20171044e-17, 4.99880413e-17, 4.71596635e-17,\n",
       "       4.38673826e-17, 4.01121282e-17, 3.62199384e-17, 3.16881352e-17,\n",
       "       2.69552324e-17, 2.25228893e-17, 1.87533651e-17, 1.51918762e-17,\n",
       "       1.24926178e-17, 9.81628322e-18, 8.14959238e-18, 6.73602374e-18,\n",
       "       2.08769553e-01, 2.89297862e-01, 3.35616103e-01, 1.66465329e-01,\n",
       "       1.17418055e-01, 6.99072056e-02, 2.38652410e-02, 2.97055400e-02,\n",
       "       5.20677282e-02, 1.94459293e-01, 3.15581505e-01, 2.56598995e-01,\n",
       "       9.00795526e-14, 7.45132612e-14, 7.64213657e-12, 6.29783420e-12,\n",
       "       6.30477821e-10, 8.01350636e-10, 3.02165941e-09, 2.54055784e-09,\n",
       "       1.35256972e-09, 1.41042163e-09, 1.78098843e-09, 1.99744260e-09,\n",
       "       2.40739260e-09, 2.68497118e-09, 3.19819069e-09, 3.37549837e-09,\n",
       "       3.27816841e-09, 3.46532966e-09, 3.59842220e-09, 3.90167198e-09,\n",
       "       4.08541859e-09, 4.45296038e-09, 4.58372231e-09, 4.66622922e-09,\n",
       "       4.68765954e-09, 4.40430633e-09, 4.33470206e-09, 4.40886849e-09,\n",
       "       4.48565170e-09, 4.46832457e-09, 4.53461946e-09, 4.49287915e-09,\n",
       "       4.26013515e-09, 3.90516394e-09, 3.44696507e-09, 3.09511240e-09,\n",
       "       2.72892435e-09, 2.26017510e-09, 1.79078131e-09, 1.41262908e-09,\n",
       "       1.21254401e-09, 1.19991353e-09, 1.18097625e-09, 1.15126667e-09,\n",
       "       9.73021761e-10, 1.00114730e-09, 1.25863564e-09, 4.53339817e-10,\n",
       "       1.32207524e-01, 1.67904077e-01, 2.80787616e-01, 3.00081587e-01,\n",
       "       1.98932259e-01, 4.09898121e-01, 1.56001682e-01, 1.43113853e-01,\n",
       "       3.23763333e-01, 8.88016620e-02, 1.53939414e-01, 2.57978768e-01,\n",
       "       8.40323533e-14, 7.78155201e-14, 6.80648704e-12, 6.42782626e-12,\n",
       "       6.05933300e-12, 6.22984574e-10, 6.57911894e-10, 8.95119709e-10,\n",
       "       1.10520823e-09, 1.44200649e-09, 1.39209101e-09, 1.83110719e-09,\n",
       "       2.09164277e-09, 2.02867221e-09, 2.53884428e-09, 2.51315212e-09,\n",
       "       2.29841904e-09, 2.26250846e-09, 2.27139992e-09, 2.38199111e-09,\n",
       "       2.41567091e-09, 2.67266403e-09, 2.75719192e-09, 2.89536419e-09,\n",
       "       2.84932333e-09, 2.75394715e-09, 2.53698637e-09, 2.62118430e-09,\n",
       "       2.62853196e-09, 2.75318729e-09, 2.94408711e-09, 2.98886745e-09,\n",
       "       2.97373226e-09, 2.93399258e-09, 2.82513507e-09, 2.73146495e-09,\n",
       "       2.55081275e-09, 2.26313147e-09, 2.00117781e-09, 1.68946270e-09,\n",
       "       1.35590598e-09, 1.09467406e-09, 9.42910399e-10, 8.94558176e-10,\n",
       "       8.72743908e-10, 8.91154058e-10, 9.77334619e-10, 4.38877731e-10,\n",
       "       8.44839179e+03, 1.58262645e+03, 5.24783536e-18, 8.13774259e-14,\n",
       "       1.35724814e+04, 2.09835830e+04, 1.87379678e+02, 6.39930737e+02])"
      ]
     },
     "execution_count": 99,
     "metadata": {},
     "output_type": "execute_result"
    }
   ],
   "source": [
    "mse_valid"
   ]
  },
  {
   "cell_type": "code",
   "execution_count": 100,
   "metadata": {},
   "outputs": [
    {
     "data": {
      "text/plain": [
       "[<matplotlib.lines.Line2D at 0x23b26ed6d90>]"
      ]
     },
     "execution_count": 100,
     "metadata": {},
     "output_type": "execute_result"
    },
    {
     "data": {
      "image/png": "[encoded data removed]",
      "text/plain": [
       "<Figure size 640x480 with 1 Axes>"
      ]
     },
     "metadata": {},
     "output_type": "display_data"
    }
   ],
   "source": [
    "plt.plot(scores_valid.clip(-1, 1)[80:110])"
   ]
  },
  {
   "cell_type": "code",
   "execution_count": 101,
   "metadata": {},
   "outputs": [
    {
     "data": {
      "text/plain": [
       "array([1.00000000e-16, 1.00000000e-16, 1.15259357e-01, 9.26646159e-02,\n",
       "       6.83181510e-01, 2.82527620e-01, 2.85637499e-01, 2.16007027e-01,\n",
       "       4.05532505e-01, 8.83984575e-02, 1.85894519e-01, 4.10275694e-02,\n",
       "       8.89428372e-02, 1.74130821e-01, 3.06233711e-01, 4.88101169e-01,\n",
       "       7.01888995e-02, 9.23739157e-02, 1.14478269e-01, 1.37504864e-01,\n",
       "       1.59475037e-01, 1.77086630e-01, 1.91172754e-01, 2.03608761e-01,\n",
       "       2.16769175e-01, 2.33311113e-01, 2.53095873e-01, 2.76469064e-01,\n",
       "       3.03409231e-01, 3.35553072e-01, 3.71215568e-01, 4.10011741e-01,\n",
       "       4.49273877e-01, 4.86716026e-01, 5.20505820e-01, 5.50603625e-01,\n",
       "       5.71668172e-01, 5.82665813e-01, 5.88294881e-01, 5.88565213e-01])"
      ]
     },
     "execution_count": 101,
     "metadata": {},
     "output_type": "execute_result"
    }
   ],
   "source": [
    "Y_STD[70:110]"
   ]
  },
  {
   "cell_type": "code",
   "execution_count": 102,
   "metadata": {},
   "outputs": [
    {
     "data": {
      "text/plain": [
       "array([], dtype=float64)"
      ]
     },
     "execution_count": 102,
     "metadata": {},
     "output_type": "execute_result"
    }
   ],
   "source": [
    "Y_MEAN[np.array(TARGET_WEIGHTS)>0][Y_STD[np.array(TARGET_WEIGHTS)>0] == 0]"
   ]
  },
  {
   "cell_type": "code",
   "execution_count": 103,
   "metadata": {},
   "outputs": [
    {
     "data": {
      "text/plain": [
       "array([1.38107414e-01, 8.22248680e-02, 2.01081366e-01, 1.99229443e-01,\n",
       "       1.52460855e-01, 1.74876497e-01, 7.61379471e-02, 6.08610271e-02,\n",
       "       1.34840395e-01, 9.07181110e-02, 9.77938171e-02, 9.71697112e-02,\n",
       "       1.26603762e-01, 1.44257889e-01, 1.52908042e-01, 2.25626627e-01,\n",
       "       2.64622553e-01, 2.60523962e-01, 2.44393563e-01, 2.59442756e-01,\n",
       "       2.75839735e-02, 7.59238731e-02, 1.25739167e-01, 4.37136642e-02,\n",
       "       5.04266138e-02, 8.99233300e-02, 7.98030645e-02, 1.09557154e-01,\n",
       "       1.05167025e-01, 3.42393884e-02, 2.11593922e-02, 1.11758168e-02,\n",
       "       1.83177352e-01, 1.91840475e-01, 2.02122072e-01, 1.43733074e-01,\n",
       "       1.29410768e-01, 8.76432191e-02, 5.44295172e-02, 6.28839402e-02,\n",
       "       8.26068022e-02, 1.51336965e-01, 2.06202602e-01, 9.09769096e-02,\n",
       "       1.21230341e-01, 1.45371717e-01, 2.09146995e-01, 2.27906271e-01,\n",
       "       1.66285042e-01, 2.60485087e-01, 1.35830157e-01, 1.27812024e-01,\n",
       "       2.02579850e-01, 1.00677443e-01, 1.44903914e-01, 1.25039269e-01,\n",
       "       1.20230150e+12, 3.70014051e-02, 3.77533894e+03, 3.49715509e+04,\n",
       "       3.56542400e+11, 1.67727938e+12, 3.04534445e+12, 1.61034788e+12])"
      ]
     },
     "execution_count": 103,
     "metadata": {},
     "output_type": "execute_result"
    }
   ],
   "source": [
    "scores_valid[Y_MEAN==0]"
   ]
  },
  {
   "cell_type": "code",
   "execution_count": 104,
   "metadata": {},
   "outputs": [
    {
     "data": {
      "text/plain": [
       "array([0.33904951, 0.44991617, 0.53023997, 0.68980353, 0.91454082,\n",
       "       1.10335843, 1.03457842, 0.78783475, 0.50254858, 0.38697311,\n",
       "       2.94961358, 2.26554557, 1.67123934, 1.25858581, 0.93235221,\n",
       "       0.7419309 , 0.69083685, 0.07965096, 0.1094122 , 0.13763185,\n",
       "       0.15043989, 0.16075318, 0.18151723, 0.21005089, 0.24184829,\n",
       "       0.27910623, 0.323123  , 0.37492876, 0.43054877, 0.48962206,\n",
       "       0.54427667, 0.58454766, 0.61222739, 0.63077924, 0.64200634,\n",
       "       0.64544652, 0.64074007, 0.63322789, 0.62622654, 0.62011605,\n",
       "       0.61514178, 0.61097262, 0.61000543, 0.61266751, 0.61629205,\n",
       "       0.61767403, 0.61208417, 0.60092445, 0.58837284, 0.57431648,\n",
       "       0.55935203, 0.54387452, 0.52725497, 0.50966103, 0.49168715,\n",
       "       0.47748374, 0.47209206, 0.48213407, 0.57320541, 0.95958514,\n",
       "       0.11525936, 0.09266462, 0.68318151, 0.28252762, 0.2856375 ,\n",
       "       0.21600703, 0.4055325 , 0.08839846, 0.18589452, 0.04102757,\n",
       "       0.08894284, 0.17413082, 0.30623371, 0.48810117, 0.0701889 ,\n",
       "       0.09237392, 0.11447827, 0.13750486, 0.15947504, 0.17708663,\n",
       "       0.19117275, 0.20360876, 0.21676918, 0.23331111, 0.25309587,\n",
       "       0.27646906, 0.30340923, 0.33555307, 0.37121557, 0.41001174,\n",
       "       0.44927388, 0.48671603, 0.52050582, 0.55060362, 0.57166817,\n",
       "       0.58266581, 0.58829488, 0.58856521, 0.58595998, 0.58217084,\n",
       "       0.578176  , 0.57503353, 0.56837453, 0.55125356, 0.53224607,\n",
       "       0.48687991, 0.46364349, 0.4080589 , 0.27047783, 0.07073304,\n",
       "       0.0335832 , 0.07035298, 0.11359511, 0.17889342, 0.25931214,\n",
       "       0.34832997, 0.44926094, 0.55246276, 0.64680695, 0.72416914,\n",
       "       0.07898424, 0.08477019, 0.09008478, 0.09506614, 0.09983066,\n",
       "       0.10463309, 0.10933585, 0.11251115, 0.11256085, 1.09405482,\n",
       "       1.03536778, 0.95690339, 0.86298676, 0.75804578, 0.6473964 ,\n",
       "       0.54590741, 0.46431432, 0.40401555, 0.37422182, 0.35790824,\n",
       "       0.27501278, 0.11445819, 0.08550756, 0.07906196, 0.46235017,\n",
       "       0.31793967, 0.09205412, 0.13753449, 0.02606334, 0.03443984,\n",
       "       0.04305562, 0.0507182 , 0.05744414, 0.06236398, 0.06518768,\n",
       "       0.06580305, 0.06536413, 0.06498911, 0.06507795, 0.06462104,\n",
       "       0.06123842, 0.5558083 , 0.49964   , 0.4534743 , 0.41487775,\n",
       "       0.38080161, 0.35186981, 0.32737061, 0.30542236, 0.28545287,\n",
       "       0.267416  , 0.25096222, 0.2359987 , 0.22179717, 0.20851084,\n",
       "       0.19637431, 0.18573797, 0.17609851, 0.16789118, 0.16100502,\n",
       "       0.15550776, 0.15038925, 0.14475429, 0.13892014, 0.13408724,\n",
       "       0.13091034, 0.12898646, 0.12411485, 0.13068459, 0.21724928,\n",
       "       0.5012353 , 0.11072311, 0.23089598, 0.04834108, 0.09294973,\n",
       "       0.1743914 , 0.24709428, 0.20935934, 0.19308892, 0.17704962,\n",
       "       0.16564992, 0.1537813 , 0.13994989, 0.12834966, 0.12084493,\n",
       "       0.11574357, 0.11138557, 0.10707683, 0.10303202, 0.09902905,\n",
       "       0.09589828, 0.09489473, 0.09645229, 0.10064368, 0.10636687,\n",
       "       0.11203912, 0.11678783, 0.12124184, 0.1269109 , 0.13442155,\n",
       "       0.14330568, 0.15467057, 0.16924952, 0.18532697, 0.20083518,\n",
       "       0.21771849, 0.2384705 , 0.26559127, 0.29733523, 0.31838901,\n",
       "       0.31971269, 0.32414808, 0.33684905, 0.37605467, 0.36629777,\n",
       "       0.34012326, 0.52890633, 0.13128384, 0.31768505, 0.07649092,\n",
       "       0.18531422, 0.46549212, 0.09761526, 0.14614429, 0.19723659,\n",
       "       0.19419386, 0.1915584 , 0.18445012, 0.17892712, 0.16549912,\n",
       "       0.14474873, 0.12625691, 0.11414241, 0.10625815, 0.0982197 ,\n",
       "       0.08954441, 0.08169279, 0.07576863, 0.07096645, 0.06836547,\n",
       "       0.06852496, 0.07172   , 0.07789031, 0.08579921, 0.09311726,\n",
       "       0.0997706 , 0.10624887, 0.11301814, 0.12082569, 0.1298092 ,\n",
       "       0.1402651 , 0.15159531, 0.16181801, 0.17162574, 0.18264881,\n",
       "       0.19662614, 0.21700034, 0.24551854, 0.27545568, 0.29462269,\n",
       "       0.2980171 , 0.29433878, 0.27589267, 0.24344256, 0.34284216,\n",
       "       0.29309173, 0.35857464, 0.78788505, 0.0869094 , 0.12639533,\n",
       "       0.134488  , 0.57197065, 0.345666  ])"
      ]
     },
     "execution_count": 104,
     "metadata": {},
     "output_type": "execute_result"
    }
   ],
   "source": [
    "Y_STD[np.array(TARGET_WEIGHTS)>0]"
   ]
  },
  {
   "cell_type": "code",
   "execution_count": 105,
   "metadata": {},
   "outputs": [
    {
     "data": {
      "text/plain": [
       "array([ 1.02929261e-01, -6.97155326e-02, -3.15299507e-02, -3.19619268e-02,\n",
       "       -3.63129338e-02, -2.22857484e-02, -3.13506470e-03,  3.97841919e-03,\n",
       "        1.83784833e-03, -1.60611399e-04,  1.38263980e-02,  1.86093024e-02,\n",
       "        2.95191264e-02,  3.75109372e-02,  5.67370059e-02,  9.31576893e-02,\n",
       "        1.72058030e-01,  1.65372095e-02,  7.61109410e-03, -3.89531922e-03,\n",
       "       -3.52564088e-03, -2.38466249e-02, -4.12396960e-02, -5.64972054e-02,\n",
       "       -6.61519066e-02, -6.61819628e-02, -5.81682309e-02, -4.68412721e-02,\n",
       "       -3.57749574e-02, -2.57151994e-02, -1.68952969e-02, -9.05130939e-03,\n",
       "       -2.76688278e-03,  1.91246591e-03,  4.85856089e-03,  6.51845951e-03,\n",
       "        6.98788417e-03,  7.02315626e-03,  6.87885541e-03,  6.06122679e-03,\n",
       "        4.62000010e-03,  2.56066947e-03, -3.63076626e-04, -3.85495130e-03,\n",
       "       -6.96830829e-03, -6.93094346e-03, -1.90584647e-03,  6.68160697e-03,\n",
       "        1.57043694e-02,  2.37879026e-02,  3.05528183e-02,  3.68716334e-02,\n",
       "        4.26353070e-02,  4.43929782e-02,  3.89734843e-02,  2.09623456e-02,\n",
       "       -1.35780078e-02, -8.66028825e-02, -2.52400860e-01, -6.21178473e-01,\n",
       "        2.93138003e-04,  7.53486490e-04,  1.07955043e-03,  4.88599492e-04,\n",
       "        3.47511863e-04, -2.56719775e-03, -5.87852772e-03, -2.55430011e-03,\n",
       "       -9.50334934e-03, -3.12250625e-03, -8.93223693e-03, -2.11171729e-02,\n",
       "       -4.29684877e-02, -7.60872662e-02, -1.16775820e-02, -1.58466734e-02,\n",
       "       -1.96570522e-02, -2.32609971e-02, -2.66316047e-02, -2.89094369e-02,\n",
       "       -2.98240271e-02, -2.94578005e-02, -2.82479467e-02, -2.67789906e-02,\n",
       "       -2.52018845e-02, -2.35792894e-02, -2.17780350e-02, -1.97160401e-02,\n",
       "       -1.69855381e-02, -1.34125837e-02, -8.72768781e-03, -2.31633623e-03,\n",
       "        4.67997955e-03,  1.04066002e-02,  1.22905557e-02,  9.19147361e-03,\n",
       "        2.91706496e-03, -6.56288576e-03, -2.04122308e-02, -4.19539594e-02,\n",
       "       -7.42636665e-02, -1.15347874e-01, -1.60327555e-01, -1.94850408e-01,\n",
       "       -2.12840605e-01, -1.97209858e-01, -1.80961474e-01, -1.44246017e-01,\n",
       "       -7.85270690e-04, -3.46895204e-03, -3.18060445e-03, -8.07433951e-03,\n",
       "       -9.61023759e-03, -7.83244410e-03, -6.62945686e-03, -6.10602653e-03,\n",
       "       -4.91875814e-03, -2.99687279e-03, -1.71788748e-03, -6.61172764e-04,\n",
       "        3.43835308e-05,  1.30659571e-04,  3.13885396e-04,  4.54403478e-04,\n",
       "        6.29126027e-04,  8.44441976e-04,  1.05867340e-03,  1.14236724e-03,\n",
       "        1.12873363e-03,  1.09854384e-02,  1.08853661e-02,  1.24626731e-02,\n",
       "        1.38639016e-02,  1.39607893e-02,  1.13779880e-02,  8.08256556e-03,\n",
       "        4.84200272e-03,  2.78725243e-03,  5.49153316e-04, -5.87343104e-03,\n",
       "       -5.65146096e-02, -8.62975656e-05, -7.43405925e-05, -8.27612049e-05,\n",
       "        3.79537973e-05, -1.52864055e-05, -6.96085212e-05, -5.75676205e-04,\n",
       "       -1.78851869e-04, -3.89275946e-04, -6.48758228e-04, -8.63378000e-04,\n",
       "       -9.97609280e-04, -1.12394017e-03, -1.25241730e-03, -1.30467542e-03,\n",
       "       -1.17971277e-03, -9.05642924e-04, -3.96108169e-04,  3.57071453e-04,\n",
       "        9.20553566e-04,  1.02596917e-02,  9.25509361e-03,  8.53811806e-03,\n",
       "        8.26855280e-03,  7.33630100e-03,  5.86945833e-03,  4.92315484e-03,\n",
       "        4.46867726e-03,  3.96903949e-03,  3.36528238e-03,  2.81636821e-03,\n",
       "        2.47659864e-03,  2.24392642e-03,  2.03250352e-03,  1.88083477e-03,\n",
       "        2.09376382e-03,  2.58118288e-03,  3.23325360e-03,  3.64621356e-03,\n",
       "        3.74709682e-03,  3.39938700e-03,  2.54525329e-03,  1.21669318e-03,\n",
       "       -2.59561048e-04, -1.50942667e-03, -2.17994110e-03, -4.49506097e-03,\n",
       "       -2.06262789e-02,  7.14921436e-03,  4.58236517e-03,  1.55363760e-03,\n",
       "        2.03699409e-03,  7.18284733e-04,  5.22970666e-03,  1.42323572e-02,\n",
       "        1.85995989e-02,  7.11906586e-03,  1.44085642e-04, -6.11069188e-03,\n",
       "       -9.70764133e-03, -1.37715126e-02, -1.64116078e-02, -1.60878185e-02,\n",
       "       -1.48384541e-02, -1.33372794e-02, -1.18852511e-02, -1.06202750e-02,\n",
       "       -9.28202834e-03, -7.84779433e-03, -6.14073579e-03, -4.77204636e-03,\n",
       "       -4.11583129e-03, -4.36937934e-03, -4.93978879e-03, -5.62006672e-03,\n",
       "       -6.46471857e-03, -7.92102955e-03, -1.02726508e-02, -1.36511710e-02,\n",
       "       -1.80551419e-02, -2.34374158e-02, -2.88773059e-02, -3.17122906e-02,\n",
       "       -2.96392434e-02, -2.24676229e-02, -9.44993236e-03,  8.93809166e-03,\n",
       "        3.09843192e-02,  5.13360424e-02,  6.33975752e-02,  6.24448841e-02,\n",
       "        5.52243261e-02,  5.92279413e-02,  6.42633395e-02,  5.68460879e-02,\n",
       "        7.79961397e-02,  1.69376386e-04,  2.53540613e-05,  1.17170839e-04,\n",
       "        1.12349697e-03,  7.44694743e-04, -1.00043212e-03, -9.16077846e-04,\n",
       "        1.73822557e-03,  3.37261972e-03,  3.35028426e-03,  2.66994995e-03,\n",
       "       -1.77065968e-04, -1.30394099e-03, -1.76855860e-03, -1.61913729e-03,\n",
       "       -1.20612837e-03, -7.34508478e-04, -4.79758106e-04, -2.83694764e-04,\n",
       "       -2.96454032e-05,  2.06969637e-04,  3.46191555e-04,  3.17654225e-04,\n",
       "        7.37641657e-05, -6.29619284e-04, -1.57223754e-03, -2.45330271e-03,\n",
       "       -3.00133854e-03, -3.00771979e-03, -2.21485139e-03, -7.58123814e-04,\n",
       "        1.18204668e-03,  3.23678207e-03,  4.95287266e-03,  6.18096711e-03,\n",
       "        6.35803009e-03,  5.37919479e-03,  3.40140185e-03,  8.33418507e-04,\n",
       "       -2.34293121e-03, -6.81981971e-03, -1.04775390e-02, -1.16517182e-02,\n",
       "       -1.04887307e-02, -5.34487767e-03,  6.27260477e-03,  1.41044980e-02,\n",
       "        6.59127963e-03,  0.00000000e+00,  0.00000000e+00,  0.00000000e+00,\n",
       "        0.00000000e+00,  0.00000000e+00,  0.00000000e+00,  0.00000000e+00,\n",
       "        0.00000000e+00])"
      ]
     },
     "execution_count": 105,
     "metadata": {},
     "output_type": "execute_result"
    }
   ],
   "source": [
    "Y_MEAN[np.array(TARGET_WEIGHTS)>0]"
   ]
  },
  {
   "cell_type": "code",
   "execution_count": 106,
   "metadata": {
    "scrolled": true
   },
   "outputs": [
    {
     "data": {
      "text/plain": [
       "array([ 1.02929261e-01, -6.97155326e-02, -3.15299507e-02, -3.19619268e-02,\n",
       "       -3.63129338e-02, -2.22857484e-02, -3.13506470e-03,  3.97841919e-03,\n",
       "        1.83784833e-03, -1.60611399e-04,  1.38263980e-02,  1.86093024e-02,\n",
       "        2.95191264e-02,  3.75109372e-02,  5.67370059e-02,  9.31576893e-02,\n",
       "        1.72058030e-01,  1.65372095e-02,  7.61109410e-03, -3.89531922e-03,\n",
       "       -3.52564088e-03, -2.38466249e-02, -4.12396960e-02, -5.64972054e-02,\n",
       "       -6.61519066e-02, -6.61819628e-02, -5.81682309e-02, -4.68412721e-02,\n",
       "       -3.57749574e-02, -2.57151994e-02, -1.68952969e-02, -9.05130939e-03,\n",
       "       -2.76688278e-03,  1.91246591e-03,  4.85856089e-03,  6.51845951e-03,\n",
       "        6.98788417e-03,  7.02315626e-03,  6.87885541e-03,  6.06122679e-03,\n",
       "        4.62000010e-03,  2.56066947e-03, -3.63076626e-04, -3.85495130e-03,\n",
       "       -6.96830829e-03, -6.93094346e-03, -1.90584647e-03,  6.68160697e-03,\n",
       "        1.57043694e-02,  2.37879026e-02,  3.05528183e-02,  3.68716334e-02,\n",
       "        4.26353070e-02,  4.43929782e-02,  3.89734843e-02,  2.09623456e-02,\n",
       "       -1.35780078e-02, -8.66028825e-02, -2.52400860e-01, -6.21178473e-01,\n",
       "       -3.64549061e-04, -2.27911840e-04,  2.30375667e-04,  7.18641599e-19,\n",
       "        0.00000000e+00,  0.00000000e+00,  0.00000000e+00,  0.00000000e+00,\n",
       "        0.00000000e+00,  0.00000000e+00,  0.00000000e+00,  0.00000000e+00,\n",
       "        2.93138003e-04,  7.53486490e-04,  1.07955043e-03,  4.88599492e-04,\n",
       "        3.47511863e-04, -2.56719775e-03, -5.87852772e-03, -2.55430011e-03,\n",
       "       -9.50334934e-03, -3.12250625e-03, -8.93223693e-03, -2.11171729e-02,\n",
       "       -4.29684877e-02, -7.60872662e-02, -1.16775820e-02, -1.58466734e-02,\n",
       "       -1.96570522e-02, -2.32609971e-02, -2.66316047e-02, -2.89094369e-02,\n",
       "       -2.98240271e-02, -2.94578005e-02, -2.82479467e-02, -2.67789906e-02,\n",
       "       -2.52018845e-02, -2.35792894e-02, -2.17780350e-02, -1.97160401e-02,\n",
       "       -1.69855381e-02, -1.34125837e-02, -8.72768781e-03, -2.31633623e-03,\n",
       "        4.67997955e-03,  1.04066002e-02,  1.22905557e-02,  9.19147361e-03,\n",
       "        2.91706496e-03, -6.56288576e-03, -2.04122308e-02, -4.19539594e-02,\n",
       "       -7.42636665e-02, -1.15347874e-01, -1.60327555e-01, -1.94850408e-01,\n",
       "       -2.12840605e-01, -1.97209858e-01, -1.80961474e-01, -1.44246017e-01,\n",
       "        0.00000000e+00,  0.00000000e+00,  0.00000000e+00,  0.00000000e+00,\n",
       "        0.00000000e+00,  0.00000000e+00,  0.00000000e+00,  0.00000000e+00,\n",
       "        0.00000000e+00,  0.00000000e+00,  0.00000000e+00,  0.00000000e+00,\n",
       "       -2.13424216e-03, -8.25841490e-03, -4.94973707e-03, -9.43151035e-02,\n",
       "       -5.85014350e+03, -3.87411149e+03, -3.06911883e+03, -1.01124544e+02,\n",
       "       -6.46576379e+01, -4.53150112e+01, -3.68410712e+01, -2.92438455e+00,\n",
       "       -6.12625001e-01, -1.12601330e-01, -1.41298748e+00, -7.85270690e-04,\n",
       "       -3.46895204e-03, -3.18060445e-03, -8.07433951e-03, -9.61023759e-03,\n",
       "       -7.83244410e-03, -6.62945686e-03, -6.10602653e-03, -4.91875814e-03,\n",
       "       -2.99687279e-03, -1.71788748e-03, -6.61172764e-04,  3.43835308e-05,\n",
       "        1.30659571e-04,  3.13885396e-04,  4.54403478e-04,  6.29126027e-04,\n",
       "        8.44441976e-04,  1.05867340e-03,  1.14236724e-03,  1.12873363e-03,\n",
       "        1.09854384e-02,  1.08853661e-02,  1.24626731e-02,  1.38639016e-02,\n",
       "        1.39607893e-02,  1.13779880e-02,  8.08256556e-03,  4.84200272e-03,\n",
       "        2.78725243e-03,  5.49153316e-04, -5.87343104e-03, -5.65146096e-02,\n",
       "        0.00000000e+00,  0.00000000e+00,  0.00000000e+00,  0.00000000e+00,\n",
       "        0.00000000e+00,  0.00000000e+00,  0.00000000e+00,  0.00000000e+00,\n",
       "        0.00000000e+00,  0.00000000e+00,  0.00000000e+00,  0.00000000e+00,\n",
       "       -8.62975656e-05, -7.43405925e-05, -8.27612049e-05,  3.79537973e-05,\n",
       "       -1.52864055e-05, -6.96085212e-05, -5.75676205e-04, -1.78851869e-04,\n",
       "       -3.89275946e-04, -6.48758228e-04, -8.63378000e-04, -9.97609280e-04,\n",
       "       -1.12394017e-03, -1.25241730e-03, -1.30467542e-03, -1.17971277e-03,\n",
       "       -9.05642924e-04, -3.96108169e-04,  3.57071453e-04,  9.20553566e-04,\n",
       "        1.02596917e-02,  9.25509361e-03,  8.53811806e-03,  8.26855280e-03,\n",
       "        7.33630100e-03,  5.86945833e-03,  4.92315484e-03,  4.46867726e-03,\n",
       "        3.96903949e-03,  3.36528238e-03,  2.81636821e-03,  2.47659864e-03,\n",
       "        2.24392642e-03,  2.03250352e-03,  1.88083477e-03,  2.09376382e-03,\n",
       "        2.58118288e-03,  3.23325360e-03,  3.64621356e-03,  3.74709682e-03,\n",
       "        3.39938700e-03,  2.54525329e-03,  1.21669318e-03, -2.59561048e-04,\n",
       "       -1.50942667e-03, -2.17994110e-03, -4.49506097e-03, -2.06262789e-02,\n",
       "        0.00000000e+00,  0.00000000e+00,  0.00000000e+00,  0.00000000e+00,\n",
       "        0.00000000e+00,  0.00000000e+00,  0.00000000e+00,  0.00000000e+00,\n",
       "        0.00000000e+00,  0.00000000e+00,  0.00000000e+00,  0.00000000e+00,\n",
       "        7.14921436e-03,  4.58236517e-03,  1.55363760e-03,  2.03699409e-03,\n",
       "        7.18284733e-04,  5.22970666e-03,  1.42323572e-02,  1.85995989e-02,\n",
       "        7.11906586e-03,  1.44085642e-04, -6.11069188e-03, -9.70764133e-03,\n",
       "       -1.37715126e-02, -1.64116078e-02, -1.60878185e-02, -1.48384541e-02,\n",
       "       -1.33372794e-02, -1.18852511e-02, -1.06202750e-02, -9.28202834e-03,\n",
       "       -7.84779433e-03, -6.14073579e-03, -4.77204636e-03, -4.11583129e-03,\n",
       "       -4.36937934e-03, -4.93978879e-03, -5.62006672e-03, -6.46471857e-03,\n",
       "       -7.92102955e-03, -1.02726508e-02, -1.36511710e-02, -1.80551419e-02,\n",
       "       -2.34374158e-02, -2.88773059e-02, -3.17122906e-02, -2.96392434e-02,\n",
       "       -2.24676229e-02, -9.44993236e-03,  8.93809166e-03,  3.09843192e-02,\n",
       "        5.13360424e-02,  6.33975752e-02,  6.24448841e-02,  5.52243261e-02,\n",
       "        5.92279413e-02,  6.42633395e-02,  5.68460879e-02,  7.79961397e-02,\n",
       "        0.00000000e+00,  0.00000000e+00,  0.00000000e+00,  0.00000000e+00,\n",
       "        0.00000000e+00,  0.00000000e+00,  0.00000000e+00,  0.00000000e+00,\n",
       "        0.00000000e+00,  0.00000000e+00,  0.00000000e+00,  0.00000000e+00,\n",
       "        1.69376386e-04,  2.53540613e-05,  1.17170839e-04,  1.12349697e-03,\n",
       "        7.44694743e-04, -1.00043212e-03, -9.16077846e-04,  1.73822557e-03,\n",
       "        3.37261972e-03,  3.35028426e-03,  2.66994995e-03, -1.77065968e-04,\n",
       "       -1.30394099e-03, -1.76855860e-03, -1.61913729e-03, -1.20612837e-03,\n",
       "       -7.34508478e-04, -4.79758106e-04, -2.83694764e-04, -2.96454032e-05,\n",
       "        2.06969637e-04,  3.46191555e-04,  3.17654225e-04,  7.37641657e-05,\n",
       "       -6.29619284e-04, -1.57223754e-03, -2.45330271e-03, -3.00133854e-03,\n",
       "       -3.00771979e-03, -2.21485139e-03, -7.58123814e-04,  1.18204668e-03,\n",
       "        3.23678207e-03,  4.95287266e-03,  6.18096711e-03,  6.35803009e-03,\n",
       "        5.37919479e-03,  3.40140185e-03,  8.33418507e-04, -2.34293121e-03,\n",
       "       -6.81981971e-03, -1.04775390e-02, -1.16517182e-02, -1.04887307e-02,\n",
       "       -5.34487767e-03,  6.27260477e-03,  1.41044980e-02,  6.59127963e-03,\n",
       "        0.00000000e+00,  0.00000000e+00,  0.00000000e+00,  0.00000000e+00,\n",
       "        0.00000000e+00,  0.00000000e+00,  0.00000000e+00,  0.00000000e+00])"
      ]
     },
     "execution_count": 106,
     "metadata": {},
     "output_type": "execute_result"
    }
   ],
   "source": [
    "Y_MEAN"
   ]
  },
  {
   "cell_type": "code",
   "execution_count": 107,
   "metadata": {},
   "outputs": [],
   "source": [
    "import math\n",
    "\n",
    "S_WEIGHTS = []\n",
    "\n",
    "for val in Y_MEAN:\n",
    "    if val != 0:\n",
    "        logval = math.log10(abs(val))\n",
    "        S_WEIGHTS.append(-round(logval - (0.5 if logval<0 else 0)))\n",
    "    else:\n",
    "        S_WEIGHTS.append(0)\n",
    "\n",
    "\n",
    "S_WEIGHTS = [float(f'1e{f}') for f in S_WEIGHTS]"
   ]
  },
  {
   "cell_type": "code",
   "execution_count": 108,
   "metadata": {},
   "outputs": [
    {
     "name": "stdout",
     "output_type": "stream",
     "text": [
      "[10.0, 100.0, 100.0, 100.0, 100.0, 100.0, 1000.0, 1000.0, 1000.0, 10000.0, 100.0, 100.0, 100.0, 100.0, 100.0, 100.0, 10.0, 100.0, 1000.0, 1000.0, 1000.0, 100.0, 100.0, 100.0, 100.0, 100.0, 100.0, 100.0, 100.0, 100.0, 100.0, 1000.0, 1000.0, 1000.0, 1000.0, 1000.0, 1000.0, 1000.0, 1000.0, 1000.0, 1000.0, 1000.0, 10000.0, 1000.0, 1000.0, 1000.0, 1000.0, 1000.0, 100.0, 100.0, 100.0, 100.0, 100.0, 100.0, 100.0, 100.0, 100.0, 100.0, 10.0, 10.0, 10000.0, 10000.0, 10000.0, 1e+19, 1.0, 1.0, 1.0, 1.0, 1.0, 1.0, 1.0, 1.0, 10000.0, 10000.0, 1000.0, 10000.0, 10000.0, 1000.0, 1000.0, 1000.0, 1000.0, 1000.0, 1000.0, 100.0, 100.0, 100.0, 100.0, 100.0, 100.0, 100.0, 100.0, 100.0, 100.0, 100.0, 100.0, 100.0, 100.0, 100.0, 100.0, 100.0, 100.0, 100.0, 1000.0, 1000.0, 1000.0, 100.0, 100.0, 1000.0, 1000.0, 1000.0, 100.0, 100.0, 100.0, 10.0, 10.0, 10.0, 10.0, 10.0, 10.0, 10.0, 1.0, 1.0, 1.0, 1.0, 1.0, 1.0, 1.0, 1.0, 1.0, 1.0, 1.0, 1.0, 1000.0, 1000.0, 1000.0, 100.0, 0.0001, 0.0001, 0.001, 0.01, 0.01, 0.01, 0.01, 1.0, 10.0, 10.0, 1.0, 10000.0, 1000.0, 1000.0, 1000.0, 1000.0, 1000.0, 1000.0, 1000.0, 1000.0, 1000.0, 1000.0, 10000.0, 100000.0, 10000.0, 10000.0, 10000.0, 10000.0, 10000.0, 1000.0, 1000.0, 1000.0, 100.0, 100.0, 100.0, 100.0, 100.0, 100.0, 1000.0, 1000.0, 1000.0, 10000.0, 1000.0, 100.0, 1.0, 1.0, 1.0, 1.0, 1.0, 1.0, 1.0, 1.0, 1.0, 1.0, 1.0, 1.0, 100000.0, 100000.0, 100000.0, 100000.0, 100000.0, 100000.0, 10000.0, 10000.0, 10000.0, 10000.0, 10000.0, 10000.0, 1000.0, 1000.0, 1000.0, 1000.0, 10000.0, 10000.0, 10000.0, 10000.0, 100.0, 1000.0, 1000.0, 1000.0, 1000.0, 1000.0, 1000.0, 1000.0, 1000.0, 1000.0, 1000.0, 1000.0, 1000.0, 1000.0, 1000.0, 1000.0, 1000.0, 1000.0, 1000.0, 1000.0, 1000.0, 1000.0, 1000.0, 10000.0, 1000.0, 1000.0, 1000.0, 100.0, 1.0, 1.0, 1.0, 1.0, 1.0, 1.0, 1.0, 1.0, 1.0, 1.0, 1.0, 1.0, 1000.0, 1000.0, 1000.0, 1000.0, 10000.0, 1000.0, 100.0, 100.0, 1000.0, 10000.0, 1000.0, 1000.0, 100.0, 100.0, 100.0, 100.0, 100.0, 100.0, 100.0, 1000.0, 1000.0, 1000.0, 1000.0, 1000.0, 1000.0, 1000.0, 1000.0, 1000.0, 1000.0, 100.0, 100.0, 100.0, 100.0, 100.0, 100.0, 100.0, 100.0, 1000.0, 1000.0, 100.0, 100.0, 100.0, 100.0, 100.0, 100.0, 100.0, 100.0, 100.0, 1.0, 1.0, 1.0, 1.0, 1.0, 1.0, 1.0, 1.0, 1.0, 1.0, 1.0, 1.0, 10000.0, 100000.0, 10000.0, 1000.0, 10000.0, 1000.0, 10000.0, 1000.0, 1000.0, 1000.0, 1000.0, 10000.0, 1000.0, 1000.0, 1000.0, 1000.0, 10000.0, 10000.0, 10000.0, 100000.0, 10000.0, 10000.0, 10000.0, 100000.0, 10000.0, 1000.0, 1000.0, 1000.0, 1000.0, 1000.0, 10000.0, 1000.0, 1000.0, 1000.0, 1000.0, 1000.0, 1000.0, 1000.0, 10000.0, 1000.0, 1000.0, 100.0, 100.0, 100.0, 1000.0, 1000.0, 100.0, 1000.0, 1.0, 1.0, 1.0, 1.0, 1.0, 1.0, 1.0, 1.0]\n"
     ]
    }
   ],
   "source": [
    "print(S_WEIGHTS)"
   ]
  },
  {
   "cell_type": "code",
   "execution_count": 109,
   "metadata": {},
   "outputs": [
    {
     "data": {
      "text/plain": [
       "-3"
      ]
     },
     "execution_count": 109,
     "metadata": {},
     "output_type": "execute_result"
    }
   ],
   "source": [
    "round(logval - (0.5 if logval<0 else 0))"
   ]
  },
  {
   "cell_type": "code",
   "execution_count": 110,
   "metadata": {
    "scrolled": true
   },
   "outputs": [],
   "source": [
    "S_WEIGHTS = []\n",
    "\n",
    "for yy in Y_MEAN:\n",
    "    T = 1\n",
    "    if abs(yy) > 1:\n",
    "        T = 1   \n",
    "    elif abs(yy) > 1e-6:\n",
    "        T = 1e6\n",
    "    elif abs(yy) > 1e-10:\n",
    "        T = 1e10    \n",
    "    elif abs(yy) > 1e-16:\n",
    "        T = 1e16            \n",
    "    elif abs(yy) > 1e-20:\n",
    "        T = 1e20        \n",
    "    elif abs(yy) > 1e-24:\n",
    "        T = 1e24        \n",
    "    elif abs(yy) > 1e-30:\n",
    "        T = 1e30\n",
    "    elif abs(yy) > 1e-36:\n",
    "        T = 1e36\n",
    "    elif abs(yy) <= 1e-36:\n",
    "        T = 1e36\n",
    "    S_WEIGHTS.append(T)\n",
    "                    "
   ]
  },
  {
   "cell_type": "code",
   "execution_count": 111,
   "metadata": {},
   "outputs": [
    {
     "name": "stdout",
     "output_type": "stream",
     "text": [
      "[1000000.0, 1000000.0, 1000000.0, 1000000.0, 1000000.0, 1000000.0, 1000000.0, 1000000.0, 1000000.0, 1000000.0, 1000000.0, 1000000.0, 1000000.0, 1000000.0, 1000000.0, 1000000.0, 1000000.0, 1000000.0, 1000000.0, 1000000.0, 1000000.0, 1000000.0, 1000000.0, 1000000.0, 1000000.0, 1000000.0, 1000000.0, 1000000.0, 1000000.0, 1000000.0, 1000000.0, 1000000.0, 1000000.0, 1000000.0, 1000000.0, 1000000.0, 1000000.0, 1000000.0, 1000000.0, 1000000.0, 1000000.0, 1000000.0, 1000000.0, 1000000.0, 1000000.0, 1000000.0, 1000000.0, 1000000.0, 1000000.0, 1000000.0, 1000000.0, 1000000.0, 1000000.0, 1000000.0, 1000000.0, 1000000.0, 1000000.0, 1000000.0, 1000000.0, 1000000.0, 1000000.0, 1000000.0, 1000000.0, 1e+20, 1e+36, 1e+36, 1e+36, 1e+36, 1e+36, 1e+36, 1e+36, 1e+36, 1000000.0, 1000000.0, 1000000.0, 1000000.0, 1000000.0, 1000000.0, 1000000.0, 1000000.0, 1000000.0, 1000000.0, 1000000.0, 1000000.0, 1000000.0, 1000000.0, 1000000.0, 1000000.0, 1000000.0, 1000000.0, 1000000.0, 1000000.0, 1000000.0, 1000000.0, 1000000.0, 1000000.0, 1000000.0, 1000000.0, 1000000.0, 1000000.0, 1000000.0, 1000000.0, 1000000.0, 1000000.0, 1000000.0, 1000000.0, 1000000.0, 1000000.0, 1000000.0, 1000000.0, 1000000.0, 1000000.0, 1000000.0, 1000000.0, 1000000.0, 1000000.0, 1000000.0, 1000000.0, 1000000.0, 1000000.0, 1e+36, 1e+36, 1e+36, 1e+36, 1e+36, 1e+36, 1e+36, 1e+36, 1e+36, 1e+36, 1e+36, 1e+36, 1000000.0, 1000000.0, 1000000.0, 1000000.0, 1, 1, 1, 1, 1, 1, 1, 1, 1000000.0, 1000000.0, 1, 1000000.0, 1000000.0, 1000000.0, 1000000.0, 1000000.0, 1000000.0, 1000000.0, 1000000.0, 1000000.0, 1000000.0, 1000000.0, 1000000.0, 1000000.0, 1000000.0, 1000000.0, 1000000.0, 1000000.0, 1000000.0, 1000000.0, 1000000.0, 1000000.0, 1000000.0, 1000000.0, 1000000.0, 1000000.0, 1000000.0, 1000000.0, 1000000.0, 1000000.0, 1000000.0, 1000000.0, 1000000.0, 1000000.0, 1e+36, 1e+36, 1e+36, 1e+36, 1e+36, 1e+36, 1e+36, 1e+36, 1e+36, 1e+36, 1e+36, 1e+36, 1000000.0, 1000000.0, 1000000.0, 1000000.0, 1000000.0, 1000000.0, 1000000.0, 1000000.0, 1000000.0, 1000000.0, 1000000.0, 1000000.0, 1000000.0, 1000000.0, 1000000.0, 1000000.0, 1000000.0, 1000000.0, 1000000.0, 1000000.0, 1000000.0, 1000000.0, 1000000.0, 1000000.0, 1000000.0, 1000000.0, 1000000.0, 1000000.0, 1000000.0, 1000000.0, 1000000.0, 1000000.0, 1000000.0, 1000000.0, 1000000.0, 1000000.0, 1000000.0, 1000000.0, 1000000.0, 1000000.0, 1000000.0, 1000000.0, 1000000.0, 1000000.0, 1000000.0, 1000000.0, 1000000.0, 1000000.0, 1e+36, 1e+36, 1e+36, 1e+36, 1e+36, 1e+36, 1e+36, 1e+36, 1e+36, 1e+36, 1e+36, 1e+36, 1000000.0, 1000000.0, 1000000.0, 1000000.0, 1000000.0, 1000000.0, 1000000.0, 1000000.0, 1000000.0, 1000000.0, 1000000.0, 1000000.0, 1000000.0, 1000000.0, 1000000.0, 1000000.0, 1000000.0, 1000000.0, 1000000.0, 1000000.0, 1000000.0, 1000000.0, 1000000.0, 1000000.0, 1000000.0, 1000000.0, 1000000.0, 1000000.0, 1000000.0, 1000000.0, 1000000.0, 1000000.0, 1000000.0, 1000000.0, 1000000.0, 1000000.0, 1000000.0, 1000000.0, 1000000.0, 1000000.0, 1000000.0, 1000000.0, 1000000.0, 1000000.0, 1000000.0, 1000000.0, 1000000.0, 1000000.0, 1e+36, 1e+36, 1e+36, 1e+36, 1e+36, 1e+36, 1e+36, 1e+36, 1e+36, 1e+36, 1e+36, 1e+36, 1000000.0, 1000000.0, 1000000.0, 1000000.0, 1000000.0, 1000000.0, 1000000.0, 1000000.0, 1000000.0, 1000000.0, 1000000.0, 1000000.0, 1000000.0, 1000000.0, 1000000.0, 1000000.0, 1000000.0, 1000000.0, 1000000.0, 1000000.0, 1000000.0, 1000000.0, 1000000.0, 1000000.0, 1000000.0, 1000000.0, 1000000.0, 1000000.0, 1000000.0, 1000000.0, 1000000.0, 1000000.0, 1000000.0, 1000000.0, 1000000.0, 1000000.0, 1000000.0, 1000000.0, 1000000.0, 1000000.0, 1000000.0, 1000000.0, 1000000.0, 1000000.0, 1000000.0, 1000000.0, 1000000.0, 1000000.0, 1e+36, 1e+36, 1e+36, 1e+36, 1e+36, 1e+36, 1e+36, 1e+36]\n"
     ]
    }
   ],
   "source": [
    "print(S_WEIGHTS)"
   ]
  },
  {
   "cell_type": "code",
   "execution_count": 112,
   "metadata": {},
   "outputs": [
    {
     "data": {
      "text/plain": [
       "array([], dtype=float64)"
      ]
     },
     "execution_count": 112,
     "metadata": {},
     "output_type": "execute_result"
    }
   ],
   "source": [
    "Y_MEAN[np.array(TARGET_WEIGHTS)>0][Y_STD[np.array(TARGET_WEIGHTS)>0] == ERR]"
   ]
  },
  {
   "cell_type": "code",
   "execution_count": 113,
   "metadata": {},
   "outputs": [
    {
     "data": {
      "text/plain": [
       "array([0.33904951, 0.44991617, 0.53023997, 0.68980353, 0.91454082,\n",
       "       1.10335843, 1.03457842, 0.78783475, 0.50254858, 0.38697311,\n",
       "       2.94961358, 2.26554557, 1.67123934, 1.25858581, 0.93235221,\n",
       "       0.7419309 , 0.69083685, 0.07965096, 0.1094122 , 0.13763185,\n",
       "       0.15043989, 0.16075318, 0.18151723, 0.21005089, 0.24184829,\n",
       "       0.27910623, 0.323123  , 0.37492876, 0.43054877, 0.48962206,\n",
       "       0.54427667, 0.58454766, 0.61222739, 0.63077924, 0.64200634,\n",
       "       0.64544652, 0.64074007, 0.63322789, 0.62622654, 0.62011605,\n",
       "       0.61514178, 0.61097262, 0.61000543, 0.61266751, 0.61629205,\n",
       "       0.61767403, 0.61208417, 0.60092445, 0.58837284, 0.57431648,\n",
       "       0.55935203, 0.54387452, 0.52725497, 0.50966103, 0.49168715,\n",
       "       0.47748374, 0.47209206, 0.48213407, 0.57320541, 0.95958514,\n",
       "       0.11525936, 0.09266462, 0.68318151, 0.28252762, 0.2856375 ,\n",
       "       0.21600703, 0.4055325 , 0.08839846, 0.18589452, 0.04102757,\n",
       "       0.08894284, 0.17413082, 0.30623371, 0.48810117, 0.0701889 ,\n",
       "       0.09237392, 0.11447827, 0.13750486, 0.15947504, 0.17708663,\n",
       "       0.19117275, 0.20360876, 0.21676918, 0.23331111, 0.25309587,\n",
       "       0.27646906, 0.30340923, 0.33555307, 0.37121557, 0.41001174,\n",
       "       0.44927388, 0.48671603, 0.52050582, 0.55060362, 0.57166817,\n",
       "       0.58266581, 0.58829488, 0.58856521, 0.58595998, 0.58217084,\n",
       "       0.578176  , 0.57503353, 0.56837453, 0.55125356, 0.53224607,\n",
       "       0.48687991, 0.46364349, 0.4080589 , 0.27047783, 0.07073304,\n",
       "       0.0335832 , 0.07035298, 0.11359511, 0.17889342, 0.25931214,\n",
       "       0.34832997, 0.44926094, 0.55246276, 0.64680695, 0.72416914,\n",
       "       0.07898424, 0.08477019, 0.09008478, 0.09506614, 0.09983066,\n",
       "       0.10463309, 0.10933585, 0.11251115, 0.11256085, 1.09405482,\n",
       "       1.03536778, 0.95690339, 0.86298676, 0.75804578, 0.6473964 ,\n",
       "       0.54590741, 0.46431432, 0.40401555, 0.37422182, 0.35790824,\n",
       "       0.27501278, 0.11445819, 0.08550756, 0.07906196, 0.46235017,\n",
       "       0.31793967, 0.09205412, 0.13753449, 0.02606334, 0.03443984,\n",
       "       0.04305562, 0.0507182 , 0.05744414, 0.06236398, 0.06518768,\n",
       "       0.06580305, 0.06536413, 0.06498911, 0.06507795, 0.06462104,\n",
       "       0.06123842, 0.5558083 , 0.49964   , 0.4534743 , 0.41487775,\n",
       "       0.38080161, 0.35186981, 0.32737061, 0.30542236, 0.28545287,\n",
       "       0.267416  , 0.25096222, 0.2359987 , 0.22179717, 0.20851084,\n",
       "       0.19637431, 0.18573797, 0.17609851, 0.16789118, 0.16100502,\n",
       "       0.15550776, 0.15038925, 0.14475429, 0.13892014, 0.13408724,\n",
       "       0.13091034, 0.12898646, 0.12411485, 0.13068459, 0.21724928,\n",
       "       0.5012353 , 0.11072311, 0.23089598, 0.04834108, 0.09294973,\n",
       "       0.1743914 , 0.24709428, 0.20935934, 0.19308892, 0.17704962,\n",
       "       0.16564992, 0.1537813 , 0.13994989, 0.12834966, 0.12084493,\n",
       "       0.11574357, 0.11138557, 0.10707683, 0.10303202, 0.09902905,\n",
       "       0.09589828, 0.09489473, 0.09645229, 0.10064368, 0.10636687,\n",
       "       0.11203912, 0.11678783, 0.12124184, 0.1269109 , 0.13442155,\n",
       "       0.14330568, 0.15467057, 0.16924952, 0.18532697, 0.20083518,\n",
       "       0.21771849, 0.2384705 , 0.26559127, 0.29733523, 0.31838901,\n",
       "       0.31971269, 0.32414808, 0.33684905, 0.37605467, 0.36629777,\n",
       "       0.34012326, 0.52890633, 0.13128384, 0.31768505, 0.07649092,\n",
       "       0.18531422, 0.46549212, 0.09761526, 0.14614429, 0.19723659,\n",
       "       0.19419386, 0.1915584 , 0.18445012, 0.17892712, 0.16549912,\n",
       "       0.14474873, 0.12625691, 0.11414241, 0.10625815, 0.0982197 ,\n",
       "       0.08954441, 0.08169279, 0.07576863, 0.07096645, 0.06836547,\n",
       "       0.06852496, 0.07172   , 0.07789031, 0.08579921, 0.09311726,\n",
       "       0.0997706 , 0.10624887, 0.11301814, 0.12082569, 0.1298092 ,\n",
       "       0.1402651 , 0.15159531, 0.16181801, 0.17162574, 0.18264881,\n",
       "       0.19662614, 0.21700034, 0.24551854, 0.27545568, 0.29462269,\n",
       "       0.2980171 , 0.29433878, 0.27589267, 0.24344256, 0.34284216,\n",
       "       0.29309173, 0.35857464, 0.78788505, 0.0869094 , 0.12639533,\n",
       "       0.134488  , 0.57197065, 0.345666  ])"
      ]
     },
     "execution_count": 113,
     "metadata": {},
     "output_type": "execute_result"
    }
   ],
   "source": [
    "Y_STD[np.array(TARGET_WEIGHTS)>0]"
   ]
  },
  {
   "cell_type": "code",
   "execution_count": 114,
   "metadata": {},
   "outputs": [
    {
     "data": {
      "text/plain": [
       "array([ 1.02929261e-01, -6.97155326e-02, -3.15299507e-02, -3.19619268e-02,\n",
       "       -3.63129338e-02, -2.22857484e-02, -3.13506470e-03,  3.97841919e-03,\n",
       "        1.83784833e-03, -1.60611399e-04,  1.38263980e-02,  1.86093024e-02,\n",
       "        2.95191264e-02,  3.75109372e-02,  5.67370059e-02,  9.31576893e-02,\n",
       "        1.72058030e-01,  1.65372095e-02,  7.61109410e-03, -3.89531922e-03,\n",
       "       -3.52564088e-03, -2.38466249e-02, -4.12396960e-02, -5.64972054e-02,\n",
       "       -6.61519066e-02, -6.61819628e-02, -5.81682309e-02, -4.68412721e-02,\n",
       "       -3.57749574e-02, -2.57151994e-02, -1.68952969e-02, -9.05130939e-03,\n",
       "       -2.76688278e-03,  1.91246591e-03,  4.85856089e-03,  6.51845951e-03,\n",
       "        6.98788417e-03,  7.02315626e-03,  6.87885541e-03,  6.06122679e-03,\n",
       "        4.62000010e-03,  2.56066947e-03, -3.63076626e-04, -3.85495130e-03,\n",
       "       -6.96830829e-03, -6.93094346e-03, -1.90584647e-03,  6.68160697e-03,\n",
       "        1.57043694e-02,  2.37879026e-02,  3.05528183e-02,  3.68716334e-02,\n",
       "        4.26353070e-02,  4.43929782e-02,  3.89734843e-02,  2.09623456e-02,\n",
       "       -1.35780078e-02, -8.66028825e-02, -2.52400860e-01, -6.21178473e-01,\n",
       "        2.93138003e-04,  7.53486490e-04,  1.07955043e-03,  4.88599492e-04,\n",
       "        3.47511863e-04, -2.56719775e-03, -5.87852772e-03, -2.55430011e-03,\n",
       "       -9.50334934e-03, -3.12250625e-03, -8.93223693e-03, -2.11171729e-02,\n",
       "       -4.29684877e-02, -7.60872662e-02, -1.16775820e-02, -1.58466734e-02,\n",
       "       -1.96570522e-02, -2.32609971e-02, -2.66316047e-02, -2.89094369e-02,\n",
       "       -2.98240271e-02, -2.94578005e-02, -2.82479467e-02, -2.67789906e-02,\n",
       "       -2.52018845e-02, -2.35792894e-02, -2.17780350e-02, -1.97160401e-02,\n",
       "       -1.69855381e-02, -1.34125837e-02, -8.72768781e-03, -2.31633623e-03,\n",
       "        4.67997955e-03,  1.04066002e-02,  1.22905557e-02,  9.19147361e-03,\n",
       "        2.91706496e-03, -6.56288576e-03, -2.04122308e-02, -4.19539594e-02,\n",
       "       -7.42636665e-02, -1.15347874e-01, -1.60327555e-01, -1.94850408e-01,\n",
       "       -2.12840605e-01, -1.97209858e-01, -1.80961474e-01, -1.44246017e-01,\n",
       "       -7.85270690e-04, -3.46895204e-03, -3.18060445e-03, -8.07433951e-03,\n",
       "       -9.61023759e-03, -7.83244410e-03, -6.62945686e-03, -6.10602653e-03,\n",
       "       -4.91875814e-03, -2.99687279e-03, -1.71788748e-03, -6.61172764e-04,\n",
       "        3.43835308e-05,  1.30659571e-04,  3.13885396e-04,  4.54403478e-04,\n",
       "        6.29126027e-04,  8.44441976e-04,  1.05867340e-03,  1.14236724e-03,\n",
       "        1.12873363e-03,  1.09854384e-02,  1.08853661e-02,  1.24626731e-02,\n",
       "        1.38639016e-02,  1.39607893e-02,  1.13779880e-02,  8.08256556e-03,\n",
       "        4.84200272e-03,  2.78725243e-03,  5.49153316e-04, -5.87343104e-03,\n",
       "       -5.65146096e-02, -8.62975656e-05, -7.43405925e-05, -8.27612049e-05,\n",
       "        3.79537973e-05, -1.52864055e-05, -6.96085212e-05, -5.75676205e-04,\n",
       "       -1.78851869e-04, -3.89275946e-04, -6.48758228e-04, -8.63378000e-04,\n",
       "       -9.97609280e-04, -1.12394017e-03, -1.25241730e-03, -1.30467542e-03,\n",
       "       -1.17971277e-03, -9.05642924e-04, -3.96108169e-04,  3.57071453e-04,\n",
       "        9.20553566e-04,  1.02596917e-02,  9.25509361e-03,  8.53811806e-03,\n",
       "        8.26855280e-03,  7.33630100e-03,  5.86945833e-03,  4.92315484e-03,\n",
       "        4.46867726e-03,  3.96903949e-03,  3.36528238e-03,  2.81636821e-03,\n",
       "        2.47659864e-03,  2.24392642e-03,  2.03250352e-03,  1.88083477e-03,\n",
       "        2.09376382e-03,  2.58118288e-03,  3.23325360e-03,  3.64621356e-03,\n",
       "        3.74709682e-03,  3.39938700e-03,  2.54525329e-03,  1.21669318e-03,\n",
       "       -2.59561048e-04, -1.50942667e-03, -2.17994110e-03, -4.49506097e-03,\n",
       "       -2.06262789e-02,  7.14921436e-03,  4.58236517e-03,  1.55363760e-03,\n",
       "        2.03699409e-03,  7.18284733e-04,  5.22970666e-03,  1.42323572e-02,\n",
       "        1.85995989e-02,  7.11906586e-03,  1.44085642e-04, -6.11069188e-03,\n",
       "       -9.70764133e-03, -1.37715126e-02, -1.64116078e-02, -1.60878185e-02,\n",
       "       -1.48384541e-02, -1.33372794e-02, -1.18852511e-02, -1.06202750e-02,\n",
       "       -9.28202834e-03, -7.84779433e-03, -6.14073579e-03, -4.77204636e-03,\n",
       "       -4.11583129e-03, -4.36937934e-03, -4.93978879e-03, -5.62006672e-03,\n",
       "       -6.46471857e-03, -7.92102955e-03, -1.02726508e-02, -1.36511710e-02,\n",
       "       -1.80551419e-02, -2.34374158e-02, -2.88773059e-02, -3.17122906e-02,\n",
       "       -2.96392434e-02, -2.24676229e-02, -9.44993236e-03,  8.93809166e-03,\n",
       "        3.09843192e-02,  5.13360424e-02,  6.33975752e-02,  6.24448841e-02,\n",
       "        5.52243261e-02,  5.92279413e-02,  6.42633395e-02,  5.68460879e-02,\n",
       "        7.79961397e-02,  1.69376386e-04,  2.53540613e-05,  1.17170839e-04,\n",
       "        1.12349697e-03,  7.44694743e-04, -1.00043212e-03, -9.16077846e-04,\n",
       "        1.73822557e-03,  3.37261972e-03,  3.35028426e-03,  2.66994995e-03,\n",
       "       -1.77065968e-04, -1.30394099e-03, -1.76855860e-03, -1.61913729e-03,\n",
       "       -1.20612837e-03, -7.34508478e-04, -4.79758106e-04, -2.83694764e-04,\n",
       "       -2.96454032e-05,  2.06969637e-04,  3.46191555e-04,  3.17654225e-04,\n",
       "        7.37641657e-05, -6.29619284e-04, -1.57223754e-03, -2.45330271e-03,\n",
       "       -3.00133854e-03, -3.00771979e-03, -2.21485139e-03, -7.58123814e-04,\n",
       "        1.18204668e-03,  3.23678207e-03,  4.95287266e-03,  6.18096711e-03,\n",
       "        6.35803009e-03,  5.37919479e-03,  3.40140185e-03,  8.33418507e-04,\n",
       "       -2.34293121e-03, -6.81981971e-03, -1.04775390e-02, -1.16517182e-02,\n",
       "       -1.04887307e-02, -5.34487767e-03,  6.27260477e-03,  1.41044980e-02,\n",
       "        6.59127963e-03,  0.00000000e+00,  0.00000000e+00,  0.00000000e+00,\n",
       "        0.00000000e+00,  0.00000000e+00,  0.00000000e+00,  0.00000000e+00,\n",
       "        0.00000000e+00])"
      ]
     },
     "execution_count": 114,
     "metadata": {},
     "output_type": "execute_result"
    }
   ],
   "source": [
    "Y_MEAN[np.array(TARGET_WEIGHTS)>0]"
   ]
  },
  {
   "cell_type": "code",
   "execution_count": 115,
   "metadata": {},
   "outputs": [
    {
     "data": {
      "text/plain": [
       "[array([False, False, False, False, False, False, False, False, False,\n",
       "        False, False, False, False, False, False, False, False, False,\n",
       "        False, False, False, False, False, False, False, False, False,\n",
       "        False, False, False, False, False, False, False, False, False,\n",
       "        False, False, False, False, False, False, False, False, False,\n",
       "        False, False, False, False, False, False, False, False, False,\n",
       "        False, False, False, False, False, False, False, False, False,\n",
       "        False, False, False, False, False, False, False, False, False,\n",
       "        False, False, False, False, False, False, False, False, False,\n",
       "        False, False, False, False, False, False, False, False, False,\n",
       "        False, False, False, False, False, False, False, False, False,\n",
       "        False, False, False, False, False, False, False, False, False,\n",
       "        False, False, False, False, False, False, False, False, False,\n",
       "        False, False, False, False, False, False, False, False, False,\n",
       "        False, False, False, False, False, False, False, False, False,\n",
       "        False, False, False, False, False, False, False, False, False,\n",
       "        False, False, False, False, False, False, False, False, False,\n",
       "        False, False, False, False, False, False, False, False, False,\n",
       "        False, False, False, False, False, False, False, False, False,\n",
       "        False, False, False, False, False, False, False, False, False,\n",
       "        False, False, False, False, False, False, False, False, False,\n",
       "        False, False, False, False, False, False, False, False, False,\n",
       "        False, False, False, False, False, False, False, False, False,\n",
       "        False, False, False, False, False, False, False, False, False,\n",
       "        False, False, False, False, False, False, False, False, False,\n",
       "        False, False, False, False, False, False, False, False, False,\n",
       "        False, False, False, False, False, False, False, False, False,\n",
       "        False, False, False, False, False, False, False, False, False,\n",
       "        False, False, False, False, False, False, False, False, False,\n",
       "        False, False, False, False, False, False, False, False, False,\n",
       "        False, False, False, False, False, False, False, False, False,\n",
       "        False, False, False, False, False, False, False, False, False,\n",
       "        False, False, False, False, False])]"
      ]
     },
     "execution_count": 115,
     "metadata": {},
     "output_type": "execute_result"
    }
   ],
   "source": [
    "[Y_STD[np.array(TARGET_WEIGHTS)>0] == ERR]"
   ]
  },
  {
   "cell_type": "code",
   "execution_count": 116,
   "metadata": {},
   "outputs": [
    {
     "data": {
      "text/plain": [
       "-83.27400171071722"
      ]
     },
     "execution_count": 116,
     "metadata": {},
     "output_type": "execute_result"
    }
   ],
   "source": [
    "np.log(6.8322e-37)"
   ]
  },
  {
   "cell_type": "code",
   "execution_count": 117,
   "metadata": {},
   "outputs": [
    {
     "data": {
      "text/plain": [
       "array([ 1.02929261e-01, -6.97155326e-02, -3.15299507e-02, -3.19619268e-02,\n",
       "       -3.63129338e-02, -2.22857484e-02, -3.13506470e-03,  3.97841919e-03,\n",
       "        1.83784833e-03, -1.60611399e-04,  1.38263980e-02,  1.86093024e-02,\n",
       "        2.95191264e-02,  3.75109372e-02,  5.67370059e-02,  9.31576893e-02,\n",
       "        1.72058030e-01,  1.65372095e-02,  7.61109410e-03, -3.89531922e-03,\n",
       "       -3.52564088e-03, -2.38466249e-02, -4.12396960e-02, -5.64972054e-02,\n",
       "       -6.61519066e-02, -6.61819628e-02, -5.81682309e-02, -4.68412721e-02,\n",
       "       -3.57749574e-02, -2.57151994e-02, -1.68952969e-02, -9.05130939e-03,\n",
       "       -2.76688278e-03,  1.91246591e-03,  4.85856089e-03,  6.51845951e-03,\n",
       "        6.98788417e-03,  7.02315626e-03,  6.87885541e-03,  6.06122679e-03,\n",
       "        4.62000010e-03,  2.56066947e-03, -3.63076626e-04, -3.85495130e-03,\n",
       "       -6.96830829e-03, -6.93094346e-03, -1.90584647e-03,  6.68160697e-03,\n",
       "        1.57043694e-02,  2.37879026e-02,  3.05528183e-02,  3.68716334e-02,\n",
       "        4.26353070e-02,  4.43929782e-02,  3.89734843e-02,  2.09623456e-02,\n",
       "       -1.35780078e-02, -8.66028825e-02, -2.52400860e-01, -6.21178473e-01,\n",
       "       -3.64549061e-04, -2.27911840e-04,  2.30375667e-04,  7.18641599e-19,\n",
       "        0.00000000e+00,  0.00000000e+00,  0.00000000e+00,  0.00000000e+00,\n",
       "        0.00000000e+00,  0.00000000e+00,  0.00000000e+00,  0.00000000e+00,\n",
       "        2.93138003e-04,  7.53486490e-04,  1.07955043e-03,  4.88599492e-04,\n",
       "        3.47511863e-04, -2.56719775e-03, -5.87852772e-03, -2.55430011e-03,\n",
       "       -9.50334934e-03, -3.12250625e-03, -8.93223693e-03, -2.11171729e-02,\n",
       "       -4.29684877e-02, -7.60872662e-02, -1.16775820e-02, -1.58466734e-02,\n",
       "       -1.96570522e-02, -2.32609971e-02, -2.66316047e-02, -2.89094369e-02,\n",
       "       -2.98240271e-02, -2.94578005e-02, -2.82479467e-02, -2.67789906e-02,\n",
       "       -2.52018845e-02, -2.35792894e-02, -2.17780350e-02, -1.97160401e-02,\n",
       "       -1.69855381e-02, -1.34125837e-02, -8.72768781e-03, -2.31633623e-03,\n",
       "        4.67997955e-03,  1.04066002e-02,  1.22905557e-02,  9.19147361e-03,\n",
       "        2.91706496e-03, -6.56288576e-03, -2.04122308e-02, -4.19539594e-02,\n",
       "       -7.42636665e-02, -1.15347874e-01, -1.60327555e-01, -1.94850408e-01,\n",
       "       -2.12840605e-01, -1.97209858e-01, -1.80961474e-01, -1.44246017e-01,\n",
       "        0.00000000e+00,  0.00000000e+00,  0.00000000e+00,  0.00000000e+00,\n",
       "        0.00000000e+00,  0.00000000e+00,  0.00000000e+00,  0.00000000e+00,\n",
       "        0.00000000e+00,  0.00000000e+00,  0.00000000e+00,  0.00000000e+00,\n",
       "       -2.13424216e-03, -8.25841490e-03, -4.94973707e-03, -9.43151035e-02,\n",
       "       -5.85014350e+03, -3.87411149e+03, -3.06911883e+03, -1.01124544e+02,\n",
       "       -6.46576379e+01, -4.53150112e+01, -3.68410712e+01, -2.92438455e+00,\n",
       "       -6.12625001e-01, -1.12601330e-01, -1.41298748e+00, -7.85270690e-04,\n",
       "       -3.46895204e-03, -3.18060445e-03, -8.07433951e-03, -9.61023759e-03,\n",
       "       -7.83244410e-03, -6.62945686e-03, -6.10602653e-03, -4.91875814e-03,\n",
       "       -2.99687279e-03, -1.71788748e-03, -6.61172764e-04,  3.43835308e-05,\n",
       "        1.30659571e-04,  3.13885396e-04,  4.54403478e-04,  6.29126027e-04,\n",
       "        8.44441976e-04,  1.05867340e-03,  1.14236724e-03,  1.12873363e-03,\n",
       "        1.09854384e-02,  1.08853661e-02,  1.24626731e-02,  1.38639016e-02,\n",
       "        1.39607893e-02,  1.13779880e-02,  8.08256556e-03,  4.84200272e-03,\n",
       "        2.78725243e-03,  5.49153316e-04, -5.87343104e-03, -5.65146096e-02,\n",
       "        0.00000000e+00,  0.00000000e+00,  0.00000000e+00,  0.00000000e+00,\n",
       "        0.00000000e+00,  0.00000000e+00,  0.00000000e+00,  0.00000000e+00,\n",
       "        0.00000000e+00,  0.00000000e+00,  0.00000000e+00,  0.00000000e+00,\n",
       "       -8.62975656e-05, -7.43405925e-05, -8.27612049e-05,  3.79537973e-05,\n",
       "       -1.52864055e-05, -6.96085212e-05, -5.75676205e-04, -1.78851869e-04,\n",
       "       -3.89275946e-04, -6.48758228e-04, -8.63378000e-04, -9.97609280e-04,\n",
       "       -1.12394017e-03, -1.25241730e-03, -1.30467542e-03, -1.17971277e-03,\n",
       "       -9.05642924e-04, -3.96108169e-04,  3.57071453e-04,  9.20553566e-04,\n",
       "        1.02596917e-02,  9.25509361e-03,  8.53811806e-03,  8.26855280e-03,\n",
       "        7.33630100e-03,  5.86945833e-03,  4.92315484e-03,  4.46867726e-03,\n",
       "        3.96903949e-03,  3.36528238e-03,  2.81636821e-03,  2.47659864e-03,\n",
       "        2.24392642e-03,  2.03250352e-03,  1.88083477e-03,  2.09376382e-03,\n",
       "        2.58118288e-03,  3.23325360e-03,  3.64621356e-03,  3.74709682e-03,\n",
       "        3.39938700e-03,  2.54525329e-03,  1.21669318e-03, -2.59561048e-04,\n",
       "       -1.50942667e-03, -2.17994110e-03, -4.49506097e-03, -2.06262789e-02,\n",
       "        0.00000000e+00,  0.00000000e+00,  0.00000000e+00,  0.00000000e+00,\n",
       "        0.00000000e+00,  0.00000000e+00,  0.00000000e+00,  0.00000000e+00,\n",
       "        0.00000000e+00,  0.00000000e+00,  0.00000000e+00,  0.00000000e+00,\n",
       "        7.14921436e-03,  4.58236517e-03,  1.55363760e-03,  2.03699409e-03,\n",
       "        7.18284733e-04,  5.22970666e-03,  1.42323572e-02,  1.85995989e-02,\n",
       "        7.11906586e-03,  1.44085642e-04, -6.11069188e-03, -9.70764133e-03,\n",
       "       -1.37715126e-02, -1.64116078e-02, -1.60878185e-02, -1.48384541e-02,\n",
       "       -1.33372794e-02, -1.18852511e-02, -1.06202750e-02, -9.28202834e-03,\n",
       "       -7.84779433e-03, -6.14073579e-03, -4.77204636e-03, -4.11583129e-03,\n",
       "       -4.36937934e-03, -4.93978879e-03, -5.62006672e-03, -6.46471857e-03,\n",
       "       -7.92102955e-03, -1.02726508e-02, -1.36511710e-02, -1.80551419e-02,\n",
       "       -2.34374158e-02, -2.88773059e-02, -3.17122906e-02, -2.96392434e-02,\n",
       "       -2.24676229e-02, -9.44993236e-03,  8.93809166e-03,  3.09843192e-02,\n",
       "        5.13360424e-02,  6.33975752e-02,  6.24448841e-02,  5.52243261e-02,\n",
       "        5.92279413e-02,  6.42633395e-02,  5.68460879e-02,  7.79961397e-02,\n",
       "        0.00000000e+00,  0.00000000e+00,  0.00000000e+00,  0.00000000e+00,\n",
       "        0.00000000e+00,  0.00000000e+00,  0.00000000e+00,  0.00000000e+00,\n",
       "        0.00000000e+00,  0.00000000e+00,  0.00000000e+00,  0.00000000e+00,\n",
       "        1.69376386e-04,  2.53540613e-05,  1.17170839e-04,  1.12349697e-03,\n",
       "        7.44694743e-04, -1.00043212e-03, -9.16077846e-04,  1.73822557e-03,\n",
       "        3.37261972e-03,  3.35028426e-03,  2.66994995e-03, -1.77065968e-04,\n",
       "       -1.30394099e-03, -1.76855860e-03, -1.61913729e-03, -1.20612837e-03,\n",
       "       -7.34508478e-04, -4.79758106e-04, -2.83694764e-04, -2.96454032e-05,\n",
       "        2.06969637e-04,  3.46191555e-04,  3.17654225e-04,  7.37641657e-05,\n",
       "       -6.29619284e-04, -1.57223754e-03, -2.45330271e-03, -3.00133854e-03,\n",
       "       -3.00771979e-03, -2.21485139e-03, -7.58123814e-04,  1.18204668e-03,\n",
       "        3.23678207e-03,  4.95287266e-03,  6.18096711e-03,  6.35803009e-03,\n",
       "        5.37919479e-03,  3.40140185e-03,  8.33418507e-04, -2.34293121e-03,\n",
       "       -6.81981971e-03, -1.04775390e-02, -1.16517182e-02, -1.04887307e-02,\n",
       "       -5.34487767e-03,  6.27260477e-03,  1.41044980e-02,  6.59127963e-03,\n",
       "        0.00000000e+00,  0.00000000e+00,  0.00000000e+00,  0.00000000e+00,\n",
       "        0.00000000e+00,  0.00000000e+00,  0.00000000e+00,  0.00000000e+00])"
      ]
     },
     "execution_count": 117,
     "metadata": {},
     "output_type": "execute_result"
    }
   ],
   "source": [
    "Y_MEAN"
   ]
  },
  {
   "cell_type": "code",
   "execution_count": 118,
   "metadata": {},
   "outputs": [
    {
     "data": {
      "text/plain": [
       "finfo(resolution=1e-06, min=-3.4028235e+38, max=3.4028235e+38, dtype=float32)"
      ]
     },
     "execution_count": 118,
     "metadata": {},
     "output_type": "execute_result"
    }
   ],
   "source": [
    "np.finfo(np.float32)"
   ]
  },
  {
   "cell_type": "code",
   "execution_count": 119,
   "metadata": {},
   "outputs": [
    {
     "data": {
      "text/plain": [
       "array([0.33904951, 0.44991617, 0.53023997, 0.68980353, 0.91454082,\n",
       "       1.10335843, 1.03457842, 0.78783475, 0.50254858, 0.38697311,\n",
       "       2.94961358, 2.26554557, 1.67123934, 1.25858581, 0.93235221,\n",
       "       0.7419309 , 0.69083685, 0.07965096, 0.1094122 , 0.13763185,\n",
       "       0.15043989, 0.16075318, 0.18151723, 0.21005089, 0.24184829,\n",
       "       0.27910623, 0.323123  , 0.37492876, 0.43054877, 0.48962206,\n",
       "       0.54427667, 0.58454766, 0.61222739, 0.63077924, 0.64200634,\n",
       "       0.64544652, 0.64074007, 0.63322789, 0.62622654, 0.62011605,\n",
       "       0.61514178, 0.61097262, 0.61000543, 0.61266751, 0.61629205,\n",
       "       0.61767403, 0.61208417, 0.60092445, 0.58837284, 0.57431648,\n",
       "       0.55935203, 0.54387452, 0.52725497, 0.50966103, 0.49168715,\n",
       "       0.47748374, 0.47209206, 0.48213407, 0.57320541, 0.95958514,\n",
       "       0.11525936, 0.09266462, 0.68318151, 0.28252762, 0.2856375 ,\n",
       "       0.21600703, 0.4055325 , 0.08839846, 0.18589452, 0.04102757,\n",
       "       0.08894284, 0.17413082, 0.30623371, 0.48810117, 0.0701889 ,\n",
       "       0.09237392, 0.11447827, 0.13750486, 0.15947504, 0.17708663,\n",
       "       0.19117275, 0.20360876, 0.21676918, 0.23331111, 0.25309587,\n",
       "       0.27646906, 0.30340923, 0.33555307, 0.37121557, 0.41001174,\n",
       "       0.44927388, 0.48671603, 0.52050582, 0.55060362, 0.57166817,\n",
       "       0.58266581, 0.58829488, 0.58856521, 0.58595998, 0.58217084,\n",
       "       0.578176  , 0.57503353, 0.56837453, 0.55125356, 0.53224607,\n",
       "       0.48687991, 0.46364349, 0.4080589 , 0.27047783, 0.07073304,\n",
       "       0.0335832 , 0.07035298, 0.11359511, 0.17889342, 0.25931214,\n",
       "       0.34832997, 0.44926094, 0.55246276, 0.64680695, 0.72416914,\n",
       "       0.07898424, 0.08477019, 0.09008478, 0.09506614, 0.09983066,\n",
       "       0.10463309, 0.10933585, 0.11251115, 0.11256085, 1.09405482,\n",
       "       1.03536778, 0.95690339, 0.86298676, 0.75804578, 0.6473964 ,\n",
       "       0.54590741, 0.46431432, 0.40401555, 0.37422182, 0.35790824,\n",
       "       0.27501278, 0.11445819, 0.08550756, 0.07906196, 0.46235017,\n",
       "       0.31793967, 0.09205412, 0.13753449, 0.02606334, 0.03443984,\n",
       "       0.04305562, 0.0507182 , 0.05744414, 0.06236398, 0.06518768,\n",
       "       0.06580305, 0.06536413, 0.06498911, 0.06507795, 0.06462104,\n",
       "       0.06123842, 0.5558083 , 0.49964   , 0.4534743 , 0.41487775,\n",
       "       0.38080161, 0.35186981, 0.32737061, 0.30542236, 0.28545287,\n",
       "       0.267416  , 0.25096222, 0.2359987 , 0.22179717, 0.20851084,\n",
       "       0.19637431, 0.18573797, 0.17609851, 0.16789118, 0.16100502,\n",
       "       0.15550776, 0.15038925, 0.14475429, 0.13892014, 0.13408724,\n",
       "       0.13091034, 0.12898646, 0.12411485, 0.13068459, 0.21724928,\n",
       "       0.5012353 , 0.11072311, 0.23089598, 0.04834108, 0.09294973,\n",
       "       0.1743914 , 0.24709428, 0.20935934, 0.19308892, 0.17704962,\n",
       "       0.16564992, 0.1537813 , 0.13994989, 0.12834966, 0.12084493,\n",
       "       0.11574357, 0.11138557, 0.10707683, 0.10303202, 0.09902905,\n",
       "       0.09589828, 0.09489473, 0.09645229, 0.10064368, 0.10636687,\n",
       "       0.11203912, 0.11678783, 0.12124184, 0.1269109 , 0.13442155,\n",
       "       0.14330568, 0.15467057, 0.16924952, 0.18532697, 0.20083518,\n",
       "       0.21771849, 0.2384705 , 0.26559127, 0.29733523, 0.31838901,\n",
       "       0.31971269, 0.32414808, 0.33684905, 0.37605467, 0.36629777,\n",
       "       0.34012326, 0.52890633, 0.13128384, 0.31768505, 0.07649092,\n",
       "       0.18531422, 0.46549212, 0.09761526, 0.14614429, 0.19723659,\n",
       "       0.19419386, 0.1915584 , 0.18445012, 0.17892712, 0.16549912,\n",
       "       0.14474873, 0.12625691, 0.11414241, 0.10625815, 0.0982197 ,\n",
       "       0.08954441, 0.08169279, 0.07576863, 0.07096645, 0.06836547,\n",
       "       0.06852496, 0.07172   , 0.07789031, 0.08579921, 0.09311726,\n",
       "       0.0997706 , 0.10624887, 0.11301814, 0.12082569, 0.1298092 ,\n",
       "       0.1402651 , 0.15159531, 0.16181801, 0.17162574, 0.18264881,\n",
       "       0.19662614, 0.21700034, 0.24551854, 0.27545568, 0.29462269,\n",
       "       0.2980171 , 0.29433878, 0.27589267, 0.24344256, 0.34284216,\n",
       "       0.29309173, 0.35857464, 0.78788505, 0.0869094 , 0.12639533,\n",
       "       0.134488  , 0.57197065, 0.345666  ])"
      ]
     },
     "execution_count": 119,
     "metadata": {},
     "output_type": "execute_result"
    }
   ],
   "source": [
    "Y_STD[np.array(TARGET_WEIGHTS)>0]"
   ]
  },
  {
   "cell_type": "code",
   "execution_count": 120,
   "metadata": {},
   "outputs": [],
   "source": [
    "mask = scores_valid <= 1e-3\n",
    "\n",
    "p_test = np.array(p_valid)\n",
    "p_test[:, mask] = Y_MEAN[mask]"
   ]
  },
  {
   "cell_type": "code",
   "execution_count": 121,
   "metadata": {},
   "outputs": [
    {
     "data": {
      "text/plain": [
       "0.5382876703373991"
      ]
     },
     "execution_count": 121,
     "metadata": {},
     "output_type": "execute_result"
    },
    {
     "data": {
      "image/png": "[encoded data removed]",
      "text/plain": [
       "<Figure size 640x480 with 1 Axes>"
      ]
     },
     "metadata": {},
     "output_type": "display_data"
    }
   ],
   "source": [
    "scores_valid = np.array([metrics.r2_score(y_valid[:, i], p_test[:, i]) for i in range(368)])\n",
    "plt.plot(scores_valid.clip(-1, 1))\n",
    "plt.plot(TARGET_WEIGHTS, alpha = 0.5)\n",
    "scores_valid.clip(-1, 1).mean()"
   ]
  },
  {
   "cell_type": "markdown",
   "metadata": {},
   "source": [
    "### Evaluation"
   ]
  },
  {
   "cell_type": "code",
   "execution_count": 122,
   "metadata": {},
   "outputs": [
    {
     "ename": "NameError",
     "evalue": "name 'LeapModel' is not defined",
     "output_type": "error",
     "traceback": [
      "\u001b[1;31m---------------------------------------------------------------------------\u001b[0m",
      "\u001b[1;31mNameError\u001b[0m                                 Traceback (most recent call last)",
      "Cell \u001b[1;32mIn[122], line 1\u001b[0m\n\u001b[1;32m----> 1\u001b[0m model \u001b[38;5;241m=\u001b[39m \u001b[43mLeapModel\u001b[49m(\u001b[38;5;241m*\u001b[39m\u001b[38;5;241m*\u001b[39mnn_config)\n\u001b[0;32m      2\u001b[0m model \u001b[38;5;241m=\u001b[39m model\u001b[38;5;241m.\u001b[39mto(DEVICE)\n\u001b[0;32m      3\u001b[0m model\u001b[38;5;241m.\u001b[39mload_state_dict(torch\u001b[38;5;241m.\u001b[39mload(\u001b[38;5;124m\"\u001b[39m\u001b[38;5;124mbest_model.pth\u001b[39m\u001b[38;5;124m\"\u001b[39m, map_location\u001b[38;5;241m=\u001b[39mDEVICE))\n",
      "\u001b[1;31mNameError\u001b[0m: name 'LeapModel' is not defined"
     ]
    }
   ],
   "source": [
    "model = LeapModel(**nn_config)\n",
    "model = model.to(DEVICE)\n",
    "model.load_state_dict(torch.load(\"best_model.pth\", map_location=DEVICE))\n",
    "#model.load_state_dict(torch.load(\"/kaggle/input/leap-models/first_leap_model.pth\", map_location=DEVICE))\n",
    "\n",
    "df_test = pl.read_csv(TEST_PATH)\n",
    "df_test = df_test.to_pandas()\n",
    "df_test = df_test.set_index(\"sample_id\")\n",
    "\n",
    "df_subm = pl.read_csv(SUBMISSION_PATH)\n",
    "df_subm = df_subm.to_pandas()\n",
    "df_subm = df_subm.set_index(\"sample_id\")\n",
    "\n",
    "static_pred = -df_test[REPLACE_TO].to_numpy() * df_subm[REPLACE_FROM].to_numpy() / 1200"
   ]
  },
  {
   "cell_type": "code",
   "execution_count": null,
   "metadata": {},
   "outputs": [],
   "source": [
    "df_subm.loc[df_test.index, TARGET_NAMES] = pred_fn(model, df_test)\n",
    "\n",
    "df_subm[REPLACE_FROM] = static_pred\n",
    "\n",
    "df_subm = df_subm.reset_index()\n",
    "df_subm = df_subm[[\"sample_id\"] + TARGET_NAMES]\n",
    "\n",
    "df_subm = pl.from_pandas(df_subm)\n",
    "df_subm.write_csv(\"submission.csv\")"
   ]
  },
  {
   "cell_type": "code",
   "execution_count": null,
   "metadata": {},
   "outputs": [],
   "source": []
  },
  {
   "cell_type": "code",
   "execution_count": null,
   "metadata": {},
   "outputs": [],
   "source": []
  },
  {
   "cell_type": "code",
   "execution_count": null,
   "metadata": {},
   "outputs": [],
   "source": [
    "import pandas as pd\n",
    "\n",
    "df = pd.concat([\n",
    "    pd.read_parquet('dataset_f16_10kk_part_1.parquet', columns = TARGET_NAMES + ['sample_id']),\n",
    "    pd.read_parquet('dataset_f16_10kk_part_2.parquet', columns = TARGET_NAMES + ['sample_id']),\n",
    "    pd.read_parquet('dataset_f16_10kk_part_3.parquet', columns = TARGET_NAMES + ['sample_id']),\n",
    "    pd.read_parquet('dataset_f16_10kk_part_4.parquet', columns = TARGET_NAMES + ['sample_id']),\n",
    "])\n",
    "\n"
   ]
  },
  {
   "cell_type": "code",
   "execution_count": null,
   "metadata": {},
   "outputs": [],
   "source": [
    "y_min = df.groupby(df.sample_id.map(lambda x: int(x.split('_')[-1])%384))[TARGET_NAMES].min(0)"
   ]
  },
  {
   "cell_type": "code",
   "execution_count": null,
   "metadata": {},
   "outputs": [],
   "source": [
    "y_max = df.groupby(df.sample_id.map(lambda x: int(x.split('_')[-1])%384))[TARGET_NAMES].max(0)"
   ]
  },
  {
   "cell_type": "code",
   "execution_count": null,
   "metadata": {},
   "outputs": [],
   "source": [
    "y_min"
   ]
  },
  {
   "cell_type": "code",
   "execution_count": null,
   "metadata": {},
   "outputs": [],
   "source": [
    "LOC_Y_MIN"
   ]
  },
  {
   "cell_type": "code",
   "execution_count": null,
   "metadata": {},
   "outputs": [],
   "source": [
    "import gc\n",
    "\n",
    "del df\n",
    "gc.collect()"
   ]
  },
  {
   "cell_type": "code",
   "execution_count": null,
   "metadata": {},
   "outputs": [],
   "source": [
    "df = pd.concat([\n",
    "    pd.read_parquet('dataset_f16_10kk_part_1.parquet').sample(900_000),\n",
    "    pd.read_parquet('dataset_f16_10kk_part_2.parquet').sample(900_000),\n",
    "    pd.read_parquet('dataset_f16_10kk_part_3.parquet').sample(900_000),\n",
    "    pd.read_parquet('dataset_f16_10kk_part_4.parquet').sample(900_000),\n",
    "])"
   ]
  },
  {
   "cell_type": "code",
   "execution_count": null,
   "metadata": {},
   "outputs": [],
   "source": [
    "df.to_parquet('dataset_f16_3.6m_sample.parquet', index=False)"
   ]
  },
  {
   "cell_type": "code",
   "execution_count": null,
   "metadata": {},
   "outputs": [],
   "source": []
  }
 ],
 "metadata": {
  "kaggle": {
   "accelerator": "gpu",
   "dataSources": [
    {
     "databundleVersionId": 8015876,
     "sourceId": 56537,
     "sourceType": "competition"
    },
    {
     "datasetId": 4998928,
     "sourceId": 8404301,
     "sourceType": "datasetVersion"
    },
    {
     "datasetId": 5213025,
     "sourceId": 8693172,
     "sourceType": "datasetVersion"
    }
   ],
   "dockerImageVersionId": 30699,
   "isGpuEnabled": true,
   "isInternetEnabled": true,
   "language": "python",
   "sourceType": "notebook"
  },
  "kernelspec": {
   "display_name": "Python 3 (ipykernel)",
   "language": "python",
   "name": "python3"
  },
  "language_info": {
   "codemirror_mode": {
    "name": "ipython",
    "version": 3
   },
   "file_extension": ".py",
   "mimetype": "text/x-python",
   "name": "python",
   "nbconvert_exporter": "python",
   "pygments_lexer": "ipython3",
   "version": "3.11.9"
  }
 },
 "nbformat": 4,
 "nbformat_minor": 4
}
